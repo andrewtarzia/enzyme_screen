{
 "cells": [
  {
   "cell_type": "code",
   "execution_count": 1,
   "metadata": {
    "ExecuteTime": {
     "end_time": "2018-04-22T12:06:17.858777Z",
     "start_time": "2018-04-22T12:06:17.827647Z"
    }
   },
   "outputs": [
    {
     "data": {
      "text/html": [
       "<style>.container { width:95% !important; }</style>"
      ],
      "text/plain": [
       "<IPython.core.display.HTML object>"
      ]
     },
     "metadata": {},
     "output_type": "display_data"
    }
   ],
   "source": [
    "from IPython.core.display import HTML\n",
    "display(HTML(\"<style>.container { width:95% !important; }</style>\"))   "
   ]
  },
  {
   "cell_type": "markdown",
   "metadata": {},
   "source": [
    "Author: Andrew Tarzia\n",
    "\n",
    "Date Created: 12 Feb 2018\n",
    "\n",
    "License:"
   ]
  },
  {
   "cell_type": "markdown",
   "metadata": {},
   "source": [
    "# Notebook for screening FASTA sequence files for their pI\n",
    "\n",
    "TODO:\n",
    "- move to scripts\n",
    "    - generalise to running in current working dir\n",
    "    - add license\n",
    "- screening function\n",
    "    - get another method for calculating exposure without structure?\n",
    "- modifications\n",
    "    - introduce exposure consideration\n",
    "    - generalise code to multiple target residues (\"targ = convert_to_one_letter_code_sing('target_res')\" needs to act on a list\n",
    "- timing information on small dataset\n",
    "    - per sequence as a function of length\n",
    "    - per sequence as a function of number of ionisable residues\n",
    "- turn notebook into presentation of process for an example."
   ]
  },
  {
   "cell_type": "code",
   "execution_count": 33,
   "metadata": {
    "ExecuteTime": {
     "end_time": "2018-04-22T12:28:23.011473Z",
     "start_time": "2018-04-22T12:28:22.991722Z"
    }
   },
   "outputs": [],
   "source": [
    "import os\n",
    "import pandas as pd\n",
    "import matplotlib.pyplot as plt\n",
    "from Bio import SeqIO\n",
    "from Bio.SeqUtils.ProtParam import ProteinAnalysis\n",
    "import time\n",
    "import numpy as np"
   ]
  },
  {
   "cell_type": "markdown",
   "metadata": {},
   "source": [
    "# Notes:\n",
    "## Biopython:\n",
    "- pK values and the methods are taken from::\n",
    "    * Bjellqvist, B.,Hughes, G.J., Pasquali, Ch., Paquet, N., Ravier, F.,\n",
    "    Sanchez, J.-Ch., Frutiger, S. & Hochstrasser, D.F.\n",
    "    The focusing positions of polypeptides in immobilized pH gradients can be\n",
    "    predicted from their amino acid sequences. Electrophoresis 1993, 14,\n",
    "    1023-1031.\n",
    "    * Bjellqvist, B., Basse, B., Olsen, E. and Celis, J.E.\n",
    "    Reference points for comparisons of two-dimensional maps of proteins from\n",
    "    different human cell types defined in a pH scale where isoelectric points\n",
    "    correlate with polypeptide compositions. Electrophoresis 1994, 15, 529-539.\n",
    "\n",
    "|  AA | pKa  |\n",
    "|-----|------|\n",
    "| ASP | 4.05 |\n",
    "| GLU | 4.45 |\n",
    "| HIS | 5.98 |\n",
    "| CYS | 9.00 |\n",
    "| TYR | 10.0 |\n",
    "| LYS | 10.0 |\n",
    "| ARG | 12.0 |\n",
    "| N-terminus | 7.50 |\n",
    "| N-terminus : GLU | 7.7 |\n",
    "| N-terminus : VAL | 7.44 |\n",
    "| N-terminus : THR | 6.82 |\n",
    "| N-terminus : PRO | 8.36 |\n",
    "| N-terminus : SER | 6.93 |\n",
    "| N-terminus : MET | 7.00 |\n",
    "| N-terminus : ALA | 7.59 |\n",
    "| C-terminus | 3.55 |\n",
    "| C-terminus : ASP | 4.55 |\n",
    "| C-terminus : GLU | 4.75 |\n",
    "\n",
    "- with the above pKas and the data set in Tash's paper (DOI:) we apply a pI cut off = XX.\n",
    "\n",
    "\n",
    "## modified pIs:\n",
    "- assuming sequence only and therefore cannot use DSSP to calculate exposure"
   ]
  },
  {
   "cell_type": "code",
   "execution_count": 34,
   "metadata": {
    "ExecuteTime": {
     "end_time": "2018-04-22T12:28:23.402168Z",
     "start_time": "2018-04-22T12:28:23.349809Z"
    }
   },
   "outputs": [],
   "source": [
    "# get parameters\n",
    "source_dir = '/home/atarzia/psp/psp_source'\n",
    "os.chdir(source_dir)\n",
    "%run ./parameter_file.py\n",
    "param_dict = get_parameters()\n",
    "\n",
    "# input parameters\n",
    "database_directory = '/home/atarzia/psp/sequence_db/test_dataset/'\n",
    "database_directory = '/home/atarzia/psp/sequence_db/linb_dataset/'\n",
    "# input FASTA file names\n",
    "database_names = ['6_6_1_2__BRENDA_sequences.fasta']\n",
    "database_names = ['3_8_1_5__BRENDA_sequences.fasta',\n",
    "                  '4_5_1_1__BRENDA_sequences.fasta']\n",
    "\n",
    "os.chdir(database_directory)\n",
    "# output CSV file\n",
    "redo_pi = True\n",
    "if redo_pi is True:\n",
    "    string = ''\n",
    "    for i in param_dict['out_columns_pi']:\n",
    "        if i == param_dict['out_columns_pi'][-1]:\n",
    "            string += i\n",
    "        else:\n",
    "            string += i+','\n",
    "    string += '\\n'\n",
    "    with open(param_dict['out_CSV_pi'], 'w') as f:\n",
    "        f.write(string)"
   ]
  },
  {
   "cell_type": "code",
   "execution_count": 35,
   "metadata": {
    "ExecuteTime": {
     "end_time": "2018-04-22T12:28:23.600089Z",
     "start_time": "2018-04-22T12:28:23.543871Z"
    }
   },
   "outputs": [],
   "source": [
    "# need to fix the FASTA output format so BIOPYTHON can read it\n",
    "# for each FASTA file\n",
    "for file in database_names:\n",
    "    file_mod = file.replace(\".fasta\", \"_mod.fasta\")\n",
    "    with open(file, 'r') as f:\n",
    "        lines = f.readlines()\n",
    "    new_lines = []\n",
    "    for line in lines:\n",
    "        if '|' in line and \">\" not in line:\n",
    "            # we replace spaces in header line with \"__\" \n",
    "            # so I can manipulate that later as biopython does not like \"__\"\n",
    "            new_line = \">\"+line.replace(\" \",\"__\")\n",
    "            new_lines.append(new_line)\n",
    "        else:\n",
    "            new_lines.append(line)\n",
    "    with open(file_mod, 'w') as f:\n",
    "        for line in new_lines:\n",
    "            f.write(line)"
   ]
  },
  {
   "cell_type": "code",
   "execution_count": 36,
   "metadata": {
    "ExecuteTime": {
     "end_time": "2018-04-22T12:28:23.760754Z",
     "start_time": "2018-04-22T12:28:23.729181Z"
    }
   },
   "outputs": [],
   "source": [
    "def convert_to_one_letter_code_sing(seq):\n",
    "    conversion = {\"GLY\":\"G\",\"PRO\":\"P\",\"VAL\":\"V\",\"ALA\":\"A\",\"LEU\":\"L\",\n",
    "                  \"ILE\":\"I\",\"MET\":\"M\",\"CYS\":\"C\",\"PHE\":\"F\",\"TYR\":\"Y\",\n",
    "                  \"TRP\":\"W\",\"HIS\":\"H\",\"ARG\":\"R\",\"LYS\":\"K\",\"GLN\":\"Q\",\n",
    "                  \"THR\":\"T\",\"ASP\":\"D\",\"ASN\":\"N\",\"SER\":\"S\",\"GLU\":\"E\"}\n",
    "    n_seq = conversion[seq]\n",
    "    return n_seq"
   ]
  },
  {
   "cell_type": "code",
   "execution_count": 37,
   "metadata": {
    "ExecuteTime": {
     "end_time": "2018-04-22T12:28:24.926500Z",
     "start_time": "2018-04-22T12:28:23.920728Z"
    }
   },
   "outputs": [
    {
     "name": "stdout",
     "output_type": "stream",
     "text": [
      "=====================================================================\n",
      "                      Screening sequences with pI!                   \n",
      "=====================================================================\n",
      "--- Doing: 3_8_1_5__BRENDA_sequences_mod.fasta ---\n",
      "--- finished 2247 sequences in 0.75 seconds ---\n",
      "--- Doing: 4_5_1_1__BRENDA_sequences_mod.fasta ---\n",
      "--- finished 15 sequences in 0.00 seconds ---\n",
      "=====================================================================\n",
      "                              Complete!                              \n",
      "=====================================================================\n"
     ]
    }
   ],
   "source": [
    "print('=====================================================================')\n",
    "print('                      Screening sequences with pI!                   ')\n",
    "print('=====================================================================')\n",
    "modifications = param_dict['modifications']\n",
    "# for each FASTA file\n",
    "for file in database_names:\n",
    "    count_sequences_done = 0\n",
    "    total_start_time = time.time()\n",
    "    # read the file\n",
    "    # but to avoid memory issues\n",
    "    # we will calculate the pI on the fly\n",
    "    # using the bio python module\n",
    "    file_mod = file.replace(\".fasta\", \"_mod.fasta\")\n",
    "    with open(file_mod, \"r\") as handle:\n",
    "        print(\"--- Doing:\", file_mod, \"---\")\n",
    "        for record in SeqIO.parse(handle, \"fasta\"):\n",
    "            start_time = time.time()\n",
    "            record_list = record.description.split(\"|\")\n",
    "            # get meta data\n",
    "            acc_code = record_list[0]\n",
    "            organism = record_list[1]\n",
    "            EC_code = record_list[2].replace(\"__\",\" \")\n",
    "            species = record_list[3].replace(\"__\",\" \")\n",
    "            note = record_list[4]\n",
    "            # get unmodified pI\n",
    "            seq = record.seq\n",
    "            seq_obj = ProteinAnalysis(''.join(seq))\n",
    "            pi = seq_obj.isoelectric_point()\n",
    "            count_sequences_done += 1\n",
    "            modifier = '0'\n",
    "            if pi < param_dict['cutoff_pi']:\n",
    "                category = '0'\n",
    "            else:\n",
    "                category = '1'\n",
    "            # output to CSV\n",
    "            with open(param_dict['out_CSV_pi'], 'a') as f:\n",
    "                string = file+','\n",
    "                string += acc_code+','\n",
    "                string += organism+','\n",
    "                string += EC_code+','\n",
    "                string += species+','\n",
    "                string += note+','\n",
    "                string += '{0:.2f}'.format(pi)+','\n",
    "                string += modifier+','\n",
    "                string += category+',\\n'\n",
    "                f.write(string)\n",
    "            \n",
    "            # if the category is 1 - i.e. pi > cutoff\n",
    "            # then we test modification - else we do not\n",
    "            if category == '1':\n",
    "                modifier = '1'\n",
    "                # get modified pI\n",
    "                seq = record.seq\n",
    "                # replace target amino acid residue\n",
    "                # with replacement amino acid residue\n",
    "                # one letter codes\n",
    "                targ = convert_to_one_letter_code_sing(modifications[modifier]['target_res'])\n",
    "                replacement = convert_to_one_letter_code_sing(modifications[modifier]['replace_res'])\n",
    "                mod_seq = ''.join(seq).replace(targ, replacement)\n",
    "                seq_obj = ProteinAnalysis(mod_seq)\n",
    "                pi = seq_obj.isoelectric_point()\n",
    "                count_sequences_done += 1\n",
    "                if pi < param_dict['cutoff_pi']:\n",
    "                    category = '0'\n",
    "                else:\n",
    "                    category = '1'\n",
    "                # output to CSV\n",
    "                with open(param_dict['out_CSV_pi'], 'a') as f:\n",
    "                    string = file+','\n",
    "                    string += acc_code+','\n",
    "                    string += organism+','\n",
    "                    string += EC_code+','\n",
    "                    string += species+','\n",
    "                    string += note+','\n",
    "                    string += '{0:.2f}'.format(pi)+','\n",
    "                    string += modifier+','\n",
    "                    string += category+'\\n'\n",
    "                    f.write(string)\n",
    "            #break\n",
    "    print('--- finished %s sequences in %s seconds ---' % (count_sequences_done, '{0:.2f}'.format(time.time() - total_start_time)))\n",
    "print('=====================================================================')\n",
    "print('                              Complete!                              ')\n",
    "print('=====================================================================')"
   ]
  },
  {
   "cell_type": "markdown",
   "metadata": {},
   "source": [
    "## plot all pIs in output CSV\n",
    "### colour by modification\n"
   ]
  },
  {
   "cell_type": "code",
   "execution_count": 38,
   "metadata": {
    "ExecuteTime": {
     "end_time": "2018-04-22T12:28:24.943326Z",
     "start_time": "2018-04-22T12:28:24.928821Z"
    }
   },
   "outputs": [],
   "source": [
    "pi_data = pd.read_csv(param_dict['out_CSV_pi'], index_col=False)"
   ]
  },
  {
   "cell_type": "code",
   "execution_count": 39,
   "metadata": {
    "ExecuteTime": {
     "end_time": "2018-04-22T12:28:25.642098Z",
     "start_time": "2018-04-22T12:28:24.953624Z"
    }
   },
   "outputs": [
    {
     "data": {
      "image/png": "[encoded data removed]",
      "text/plain": [
       "<matplotlib.figure.Figure at 0x7f118714b860>"
      ]
     },
     "metadata": {},
     "output_type": "display_data"
    }
   ],
   "source": [
    "plt.rcParams['font.size'] = 12\n",
    "\n",
    "fig, ax = plt.subplots(figsize=(8, 5))\n",
    "# unmodifed\n",
    "mod_dict = modifications['0']\n",
    "data = pi_data[pi_data['modification'] == 0]\n",
    "n, bins, patches = ax.hist(data['pi'], facecolor=mod_dict['colour'], alpha = 0.5, \n",
    "                           bins=np.arange(0, 14 + 0.2, 0.5),\n",
    "                           label = mod_dict['name'])\n",
    "\n",
    "# modification 1 - succinylation\n",
    "mod_dict = modifications['1']\n",
    "data = pi_data[pi_data['modification'] == 1]\n",
    "n, bins, patches = ax.hist(data['pi'], facecolor=mod_dict['colour'], alpha = 0.5, \n",
    "                           bins=np.arange(0, 14 + 0.2, 0.5),\n",
    "                           label = mod_dict['name'])\n",
    "\n",
    "ax.set_xlabel('calculated pI')\n",
    "ax.set_ylabel('count [arb. units]')\n",
    "ax.set_yticklabels([])\n",
    "\n",
    "#plot cut-off\n",
    "ax.axvline(x=param_dict['cutoff_pi'], c='k', lw='2', linestyle='--')\n",
    "\n",
    "ax.set_xlim(0, 14)\n",
    "ax.legend()\n",
    "\n",
    "\n",
    "fig.savefig('pI_histogram.pdf', dpi=7200, bbox_inches='tight')"
   ]
  },
  {
   "cell_type": "code",
   "execution_count": null,
   "metadata": {},
   "outputs": [],
   "source": []
  },
  {
   "cell_type": "code",
   "execution_count": null,
   "metadata": {},
   "outputs": [],
   "source": []
  }
 ],
 "metadata": {
  "kernelspec": {
   "display_name": "Python 3",
   "language": "python",
   "name": "python3"
  },
  "language_info": {
   "codemirror_mode": {
    "name": "ipython",
    "version": 3
   },
   "file_extension": ".py",
   "mimetype": "text/x-python",
   "name": "python",
   "nbconvert_exporter": "python",
   "pygments_lexer": "ipython3",
   "version": "3.6.1"
  }
 },
 "nbformat": 4,
 "nbformat_minor": 2
}
