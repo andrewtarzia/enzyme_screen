{
 "cells": [
  {
   "cell_type": "code",
   "execution_count": 1,
   "metadata": {
    "ExecuteTime": {
     "end_time": "2018-07-18T05:40:45.551201Z",
     "start_time": "2018-07-18T05:40:45.525749Z"
    }
   },
   "outputs": [
    {
     "data": {
      "text/html": [
       "<style>.container { width:95% !important; }</style>"
      ],
      "text/plain": [
       "<IPython.core.display.HTML object>"
      ]
     },
     "metadata": {},
     "output_type": "display_data"
    }
   ],
   "source": [
    "from IPython.core.display import HTML\n",
    "display(HTML(\"<style>.container { width:95% !important; }</style>\"))   \n",
    "%load_ext autoreload\n",
    "%autoreload 1"
   ]
  },
  {
   "cell_type": "markdown",
   "metadata": {},
   "source": [
    "Author: Andrew Tarzia\n",
    "\n",
    "Date Created: 12 Jul 2018\n",
    "\n",
    "License:"
   ]
  },
  {
   "cell_type": "markdown",
   "metadata": {},
   "source": [
    "# Notebook for getting molecule parameters using RDKIT\n"
   ]
  },
  {
   "cell_type": "code",
   "execution_count": 2,
   "metadata": {
    "ExecuteTime": {
     "end_time": "2018-07-18T05:40:46.847215Z",
     "start_time": "2018-07-18T05:40:46.361763Z"
    }
   },
   "outputs": [],
   "source": [
    "import numpy as np\n",
    "import pandas as pd\n",
    "import os\n",
    "from rdkit.Chem import AllChem as Chem\n",
    "from rdkit.Chem import Descriptors\n",
    "from rdkit.Chem.Descriptors3D import NPR1, NPR2, PMI1, PMI2, PMI3\n",
    "from rdkit.Chem.Draw.MolDrawing import MolDrawing\n",
    "from rdkit.Chem.Draw import IPythonConsole\n",
    "from rdkit.Chem import Draw\n",
    "from rdkit.Geometry import rdGeometry\n",
    "from rdkit.Chem import PyMol\n",
    "from rdkit import Geometry\n",
    "import tempfile\n",
    "import matplotlib.pyplot as plt\n",
    "%aimport rdkit_functions\n",
    "%aimport ellipsoid"
   ]
  },
  {
   "cell_type": "markdown",
   "metadata": {},
   "source": [
    "# Notes:\n",
    "# Todo:\n",
    "- timing\n",
    " - speed up reading: https://rdkit.blogspot.com/2016/09/avoiding-unnecessary-work-and.html"
   ]
  },
  {
   "cell_type": "code",
   "execution_count": 3,
   "metadata": {
    "ExecuteTime": {
     "end_time": "2018-07-18T05:40:47.388018Z",
     "start_time": "2018-07-18T05:40:47.375752Z"
    }
   },
   "outputs": [],
   "source": [
    "# molecule file dir\n",
    "molecule_file = '/home/atarzia/psp/linBmolecules/linbmolecules.txt'\n",
    "# output dir\n",
    "output_dir = '/home/atarzia/psp/linBmolecules/'"
   ]
  },
  {
   "cell_type": "code",
   "execution_count": 4,
   "metadata": {
    "ExecuteTime": {
     "end_time": "2018-07-18T05:40:48.016361Z",
     "start_time": "2018-07-18T05:40:47.940887Z"
    }
   },
   "outputs": [],
   "source": [
    "def define_plot_variables(ax, title, ytitle, xtitle, xlim, ylim):\n",
    "    \"\"\"\n",
    "    Series of matplotlib pyplot settings to make all plots unitform.\n",
    "    \"\"\"\n",
    "    # Set number of ticks for x-axis\n",
    "    ax.tick_params(axis='both', which='major', labelsize=16)\n",
    "\n",
    "    ax.set_ylabel(ytitle, fontsize=16)\n",
    "    # ax.legend([y, n], ['aligned', 'not aligned'], loc=4, fancybox=True)\n",
    "    ax.set_xlim(xlim)\n",
    "    ax.set_ylim(ylim)\n",
    "    ax.set_xticklabels(['diffuses', 'does not diffuse'])\n",
    "    ax.set_xticks([0.25, 0.75])\n",
    "\n",
    "\n",
    "def define_parity_plot_variables(ax, title, ytitle, xtitle, xlim, ylim):\n",
    "    \"\"\"\n",
    "    Series of matplotlib pyplot settings to make all plots unitform.\n",
    "    \"\"\"\n",
    "    # Set number of ticks for x-axis\n",
    "    ax.tick_params(axis='both', which='major', labelsize=16)\n",
    "\n",
    "    ax.set_xlabel(xtitle, fontsize=16)\n",
    "    ax.set_ylabel(ytitle, fontsize=16)\n",
    "    # ax.legend([y, n], ['aligned', 'not aligned'], loc=4, fancybox=True)\n",
    "    ax.set_xlim(xlim)\n",
    "    ax.set_ylim(ylim)\n"
   ]
  },
  {
   "cell_type": "code",
   "execution_count": 5,
   "metadata": {
    "ExecuteTime": {
     "end_time": "2018-07-18T05:40:49.095086Z",
     "start_time": "2018-07-18T05:40:48.817498Z"
    }
   },
   "outputs": [
    {
     "name": "stdout",
     "output_type": "stream",
     "text": [
      "/home/atarzia/psp/linBmolecules/molecules_1.pdf\n",
      "/home/atarzia/psp/linBmolecules/molecules_2.pdf\n"
     ]
    }
   ],
   "source": [
    "df, molecules, diameters = rdkit_functions.read_mol_txt_file(molecule_file)\n",
    "rdkit_functions.produce_quick_fig_mol(molecules, output_dir+'molecules.pdf')"
   ]
  },
  {
   "cell_type": "markdown",
   "metadata": {},
   "source": [
    "## Calculate size and shape"
   ]
  },
  {
   "cell_type": "code",
   "execution_count": 6,
   "metadata": {
    "ExecuteTime": {
     "end_time": "2018-07-18T05:40:49.696789Z",
     "start_time": "2018-07-18T05:40:49.671081Z"
    }
   },
   "outputs": [],
   "source": [
    "try:\n",
    "    v = PyMol.MolViewer()\n",
    "except ConnectionRefusedError:\n",
    "    pass"
   ]
  },
  {
   "cell_type": "code",
   "execution_count": 7,
   "metadata": {
    "ExecuteTime": {
     "end_time": "2018-07-18T05:40:51.359469Z",
     "start_time": "2018-07-18T05:40:51.354908Z"
    }
   },
   "outputs": [
    {
     "data": {
      "text/plain": [
       "{'1,1,1-trichloroethane': 'CC(Cl)(Cl)Cl',\n",
       " '1,1,2,2,-tetrachloroethane': 'C(C(Cl)Cl)(Cl)Cl',\n",
       " '1,1-dichloroethane': 'CC(Cl)Cl',\n",
       " '1,2-dibromoethane': 'C(CBr)Br',\n",
       " '1,2-dibromopropane': 'CC(CBr)Br',\n",
       " '1,2-dichloroethane': 'C(CCl)Cl',\n",
       " '1,3-dichloropropane': 'C(CCl)CCl',\n",
       " '1,4-dichlorobutane': 'C(CCCl)CCl',\n",
       " '1,6-dichlorohexane': 'C(CCCCl)CCCl',\n",
       " '1,9-dichlorononane': 'C(CCCCCl)CCCCCl',\n",
       " '1-bromobutane': 'CCCCBr',\n",
       " '1-bromoethane': 'CCBr',\n",
       " '1-chlorobutane': 'CCCCCl',\n",
       " '1-chlorodecane': 'CCCCCCCCCCCl',\n",
       " '1-chlorododecane': 'CCCCCCCCCCCCCl',\n",
       " '1-chloroheptane': 'CCCCCCCCl',\n",
       " '1-chlorohexane': 'CCCCCCCl',\n",
       " '1-chlorononane': 'CCCCCCCCCCl',\n",
       " '1-chlorooctane': 'CCCCCCCCCl',\n",
       " '1-chloropentane': 'CCCCCCl',\n",
       " '1-chloropropane': 'CCCCl',\n",
       " '2-chlorobutane': 'CCC(C)Cl',\n",
       " '2-chlorobutyric acid': 'CCC(C(=O)O)Cl',\n",
       " '2-chloroethanol': 'C(CCl)O',\n",
       " '2-chlorooctane': 'CCCCCCC(C)Cl',\n",
       " '2-chloropropionic acid': 'CC(C(=O)O)Cl',\n",
       " '3-chlorobutyric acid': 'CC(CC(=O)O)Cl',\n",
       " '3-chlorohexane': 'CCCC(CC)Cl',\n",
       " '3-chloropropanol': 'C(CO)CCl',\n",
       " '3-chloropropionic acid': 'C(CCl)C(=O)O',\n",
       " '4-chlorobutanol': 'C(CCCl)CO',\n",
       " '6-chlorohexanol': 'C(CCCCl)CCO',\n",
       " 'chloroacetic acid': 'C(C(=O)O)Cl',\n",
       " 'dichloromethane': 'C(Cl)Cl'}"
      ]
     },
     "execution_count": 7,
     "metadata": {},
     "output_type": "execute_result"
    }
   ],
   "source": [
    "molecules"
   ]
  },
  {
   "cell_type": "code",
   "execution_count": 25,
   "metadata": {
    "ExecuteTime": {
     "end_time": "2018-07-18T07:26:56.221023Z",
     "start_time": "2018-07-18T07:08:44.949290Z"
    }
   },
   "outputs": [
    {
     "name": "stdout",
     "output_type": "stream",
     "text": [
      "molecule: 1-chloropropane : SMILES: CCCCl\n",
      "1 out of 34 done\n",
      "molecule: 1-chlorobutane : SMILES: CCCCCl\n",
      "2 out of 34 done\n",
      "molecule: 1-chloropentane : SMILES: CCCCCCl\n",
      "3 out of 34 done\n",
      "molecule: 1-chlorohexane : SMILES: CCCCCCCl\n",
      "4 out of 34 done\n",
      "molecule: 1-chloroheptane : SMILES: CCCCCCCCl\n",
      "5 out of 34 done\n",
      "molecule: 1-chlorooctane : SMILES: CCCCCCCCCl\n",
      "6 out of 34 done\n",
      "molecule: 1-chlorononane : SMILES: CCCCCCCCCCl\n",
      "7 out of 34 done\n",
      "molecule: 1-chlorodecane : SMILES: CCCCCCCCCCCl\n",
      "8 out of 34 done\n",
      "molecule: 1-chlorododecane : SMILES: CCCCCCCCCCCCCl\n",
      "9 out of 34 done\n",
      "molecule: 2-chlorobutane : SMILES: CCC(C)Cl\n",
      "10 out of 34 done\n",
      "molecule: 2-chlorooctane : SMILES: CCCCCCC(C)Cl\n",
      "11 out of 34 done\n",
      "molecule: 3-chlorohexane : SMILES: CCCC(CC)Cl\n",
      "12 out of 34 done\n",
      "molecule: dichloromethane : SMILES: C(Cl)Cl\n",
      "13 out of 34 done\n",
      "molecule: 1,2-dichloroethane : SMILES: C(CCl)Cl\n",
      "14 out of 34 done\n",
      "molecule: 1,3-dichloropropane : SMILES: C(CCl)CCl\n",
      "15 out of 34 done\n",
      "molecule: 1,4-dichlorobutane : SMILES: C(CCCl)CCl\n",
      "16 out of 34 done\n",
      "molecule: 1,6-dichlorohexane : SMILES: C(CCCCl)CCCl\n",
      "17 out of 34 done\n",
      "molecule: 1,9-dichlorononane : SMILES: C(CCCCCl)CCCCCl\n",
      "18 out of 34 done\n",
      "molecule: 1,1-dichloroethane : SMILES: CC(Cl)Cl\n",
      "19 out of 34 done\n",
      "molecule: 1,1,1-trichloroethane : SMILES: CC(Cl)(Cl)Cl\n",
      "20 out of 34 done\n",
      "molecule: 1,1,2,2,-tetrachloroethane : SMILES: C(C(Cl)Cl)(Cl)Cl\n",
      "21 out of 34 done\n",
      "molecule: 1-bromoethane : SMILES: CCBr\n",
      "22 out of 34 done\n",
      "molecule: 1-bromobutane : SMILES: CCCCBr\n",
      "23 out of 34 done\n",
      "molecule: 1,2-dibromoethane : SMILES: C(CBr)Br\n",
      "24 out of 34 done\n",
      "molecule: 1,2-dibromopropane : SMILES: CC(CBr)Br\n",
      "25 out of 34 done\n",
      "molecule: 2-chloroethanol : SMILES: C(CCl)O\n",
      "26 out of 34 done\n",
      "molecule: 3-chloropropanol : SMILES: C(CO)CCl\n",
      "27 out of 34 done\n",
      "molecule: 4-chlorobutanol : SMILES: C(CCCl)CO\n",
      "28 out of 34 done\n",
      "molecule: 6-chlorohexanol : SMILES: C(CCCCl)CCO\n",
      "29 out of 34 done\n",
      "molecule: chloroacetic acid : SMILES: C(C(=O)O)Cl\n",
      "30 out of 34 done\n",
      "molecule: 2-chloropropionic acid : SMILES: CC(C(=O)O)Cl\n",
      "31 out of 34 done\n",
      "molecule: 3-chloropropionic acid : SMILES: C(CCl)C(=O)O\n",
      "32 out of 34 done\n",
      "molecule: 2-chlorobutyric acid : SMILES: CCC(C(=O)O)Cl\n",
      "33 out of 34 done\n",
      "molecule: 3-chlorobutyric acid : SMILES: CC(CC(=O)O)Cl\n",
      "34 out of 34 done\n"
     ]
    }
   ],
   "source": [
    "rdkit_functions.calc_molecule_diameters(molecules, diameters, \n",
    "                                        out_dir=output_dir, vdwScale=1.0, boxMargin=4.0,\n",
    "                                        spacing=0.6, show_vdw=False, plot_ellip=False,\n",
    "                                        N_conformers=50, \n",
    "                                        show_conf=False)"
   ]
  },
  {
   "cell_type": "markdown",
   "metadata": {},
   "source": [
    "## Results"
   ]
  },
  {
   "cell_type": "code",
   "execution_count": 30,
   "metadata": {
    "ExecuteTime": {
     "end_time": "2018-07-18T07:29:03.247646Z",
     "start_time": "2018-07-18T07:29:03.032623Z"
    }
   },
   "outputs": [
    {
     "name": "stdout",
     "output_type": "stream",
     "text": [
      "1-chloropropane:\n",
      "cannot diffuse\n",
      "min diameter = 4.588 angstrom\n",
      "mid diameter = 5.041 angstrom\n",
      "-\n",
      "1-chlorobutane:\n",
      "cannot diffuse\n",
      "min diameter = 4.919 angstrom\n",
      "mid diameter = 5.472 angstrom\n",
      "-\n",
      "1-chloropentane:\n",
      "cannot diffuse\n",
      "min diameter = 4.977 angstrom\n",
      "mid diameter = 5.684 angstrom\n",
      "-\n",
      "1-chlorohexane:\n",
      "cannot diffuse\n",
      "min diameter = 5.21 angstrom\n",
      "mid diameter = 5.808 angstrom\n",
      "-\n",
      "1-chloroheptane:\n",
      "cannot diffuse\n",
      "min diameter = 5.314 angstrom\n",
      "mid diameter = 5.954 angstrom\n",
      "-\n",
      "1-chlorooctane:\n",
      "cannot diffuse\n",
      "min diameter = 5.342 angstrom\n",
      "mid diameter = 5.939 angstrom\n",
      "-\n",
      "1-chlorononane:\n",
      "cannot diffuse\n",
      "min diameter = 5.35 angstrom\n",
      "mid diameter = 5.887 angstrom\n",
      "-\n",
      "1-chlorodecane:\n",
      "cannot diffuse\n",
      "min diameter = 5.479 angstrom\n",
      "mid diameter = 6.614 angstrom\n",
      "-\n",
      "1-chlorododecane:\n",
      "cannot diffuse\n",
      "min diameter = 5.823 angstrom\n",
      "mid diameter = 6.313 angstrom\n",
      "-\n",
      "2-chlorobutane:\n",
      "cannot diffuse\n",
      "min diameter = 4.968 angstrom\n",
      "mid diameter = 6.48 angstrom\n",
      "-\n",
      "2-chlorooctane:\n",
      "cannot diffuse\n",
      "min diameter = 5.45 angstrom\n",
      "mid diameter = 6.624 angstrom\n",
      "-\n",
      "3-chlorohexane:\n",
      "cannot diffuse\n",
      "min diameter = 5.154 angstrom\n",
      "mid diameter = 6.601 angstrom\n",
      "-\n",
      "dichloromethane:\n",
      "cannot diffuse\n",
      "min diameter = 4.556 angstrom\n",
      "mid diameter = 5.313 angstrom\n",
      "-\n",
      "1,2-dichloroethane:\n",
      "cannot diffuse\n",
      "min diameter = 4.802 angstrom\n",
      "mid diameter = 4.96 angstrom\n",
      "-\n",
      "1,3-dichloropropane:\n",
      "cannot diffuse\n",
      "min diameter = 4.724 angstrom\n",
      "mid diameter = 5.587 angstrom\n",
      "-\n",
      "1,4-dichlorobutane:\n",
      "cannot diffuse\n",
      "min diameter = 4.918 angstrom\n",
      "mid diameter = 5.364 angstrom\n",
      "-\n",
      "1,6-dichlorohexane:\n",
      "cannot diffuse\n",
      "min diameter = 5.036 angstrom\n",
      "mid diameter = 5.83 angstrom\n",
      "-\n",
      "1,9-dichlorononane:\n",
      "cannot diffuse\n",
      "min diameter = 5.592 angstrom\n",
      "mid diameter = 6.339 angstrom\n",
      "-\n",
      "1,1-dichloroethane:\n",
      "cannot diffuse\n",
      "min diameter = 4.903 angstrom\n",
      "mid diameter = 6.341 angstrom\n",
      "-\n",
      "1,1,1-trichloroethane:\n",
      "cannot diffuse\n",
      "min diameter = 6.336 angstrom\n",
      "mid diameter = 6.74 angstrom\n",
      "-\n",
      "1,1,2,2,-tetrachloroethane:\n",
      "cannot diffuse\n",
      "min diameter = 4.85 angstrom\n",
      "mid diameter = 7.003 angstrom\n",
      "-\n",
      "1-bromoethane:\n",
      "cannot diffuse\n",
      "min diameter = 4.616 angstrom\n",
      "mid diameter = 5.223 angstrom\n",
      "-\n",
      "1-bromobutane:\n",
      "cannot diffuse\n",
      "min diameter = 4.937 angstrom\n",
      "mid diameter = 5.555 angstrom\n",
      "-\n",
      "1,2-dibromoethane:\n",
      "cannot diffuse\n",
      "min diameter = 4.797 angstrom\n",
      "mid diameter = 5.054 angstrom\n",
      "-\n",
      "1,2-dibromopropane:\n",
      "cannot diffuse\n",
      "min diameter = 4.985 angstrom\n",
      "mid diameter = 6.562 angstrom\n",
      "-\n",
      "2-chloroethanol:\n",
      "cannot diffuse\n",
      "min diameter = 4.617 angstrom\n",
      "mid diameter = 5.107 angstrom\n",
      "-\n",
      "3-chloropropanol:\n",
      "cannot diffuse\n",
      "min diameter = 4.648 angstrom\n",
      "mid diameter = 5.287 angstrom\n",
      "-\n",
      "4-chlorobutanol:\n",
      "cannot diffuse\n",
      "min diameter = 4.924 angstrom\n",
      "mid diameter = 5.39 angstrom\n",
      "-\n",
      "6-chlorohexanol:\n",
      "cannot diffuse\n",
      "min diameter = 5.172 angstrom\n",
      "mid diameter = 5.736 angstrom\n",
      "-\n",
      "chloroacetic acid:\n",
      "cannot diffuse\n",
      "min diameter = 4.332 angstrom\n",
      "mid diameter = 5.75 angstrom\n",
      "-\n",
      "2-chloropropionic acid:\n",
      "cannot diffuse\n",
      "min diameter = 5.065 angstrom\n",
      "mid diameter = 6.646 angstrom\n",
      "-\n",
      "3-chloropropionic acid:\n",
      "cannot diffuse\n",
      "min diameter = 4.429 angstrom\n",
      "mid diameter = 5.991 angstrom\n",
      "-\n",
      "2-chlorobutyric acid:\n",
      "cannot diffuse\n",
      "min diameter = 5.168 angstrom\n",
      "mid diameter = 7.092 angstrom\n",
      "-\n",
      "3-chlorobutyric acid:\n",
      "cannot diffuse\n",
      "min diameter = 5.14 angstrom\n",
      "mid diameter = 6.541 angstrom\n",
      "-\n"
     ]
    }
   ],
   "source": [
    "threshold = 4.2\n",
    "diffuse = {}\n",
    "no_diffuse = {}\n",
    "for name, smile in molecules.items():\n",
    "    out_file = output_dir+name+'_diam_result.csv'\n",
    "    if os.path.isfile(out_file) is False:\n",
    "        continue\n",
    "    results = pd.read_csv(out_file)\n",
    "    min_diam = min(results['diam1'])\n",
    "    mid_diam = min(results['diam2'])\n",
    "    if mid_diam <= threshold:\n",
    "        print(name+':')\n",
    "        print('can diffuse')\n",
    "        print('min diameter =', round(min_diam, 3), 'angstrom')\n",
    "        print('mid diameter =', round(mid_diam, 3), 'angstrom')\n",
    "        diffuse[name] = smile\n",
    "    else:\n",
    "        print(name+':')\n",
    "        print('cannot diffuse')\n",
    "        print('min diameter =', round(min_diam, 3), 'angstrom')\n",
    "        print('mid diameter =', round(mid_diam, 3), 'angstrom')\n",
    "        no_diffuse[name] = smile\n",
    "    print('-')"
   ]
  },
  {
   "cell_type": "code",
   "execution_count": 31,
   "metadata": {
    "ExecuteTime": {
     "end_time": "2018-07-18T07:29:06.941222Z",
     "start_time": "2018-07-18T07:29:06.735365Z"
    }
   },
   "outputs": [
    {
     "name": "stdout",
     "output_type": "stream",
     "text": [
      "/home/atarzia/psp/linBmolecules/no_diffuse_mol_1.pdf\n",
      "/home/atarzia/psp/linBmolecules/no_diffuse_mol_2.pdf\n"
     ]
    }
   ],
   "source": [
    "if len(diffuse) > 0:\n",
    "    rdkit_functions.produce_quick_fig_mol(diffuse, output_dir+'diffuse_mol.pdf', \n",
    "                                          labels=False, mpr=5, ims=200)\n",
    "if len(no_diffuse) > 0:\n",
    "    rdkit_functions.produce_quick_fig_mol(no_diffuse, output_dir+'no_diffuse_mol.pdf', \n",
    "                                          labels=False, mpr=5, ims=200)"
   ]
  },
  {
   "cell_type": "markdown",
   "metadata": {},
   "source": [
    "## Plot categorical scatter"
   ]
  },
  {
   "cell_type": "code",
   "execution_count": 32,
   "metadata": {
    "ExecuteTime": {
     "end_time": "2018-07-18T07:29:09.237653Z",
     "start_time": "2018-07-18T07:29:08.319416Z"
    }
   },
   "outputs": [
    {
     "data": {
      "image/png": "[encoded data removed]",
      "text/plain": [
       "<Figure size 360x360 with 1 Axes>"
      ]
     },
     "metadata": {},
     "output_type": "display_data"
    }
   ],
   "source": [
    "threshold = 4.2\n",
    "dx = 0.15\n",
    "fig, ax = plt.subplots(figsize=(5,5))\n",
    "for name, smile in molecules.items():\n",
    "    out_file = output_dir+name+'_diam_result.csv'\n",
    "    if os.path.isfile(out_file) is False:\n",
    "        continue\n",
    "    results = pd.read_csv(out_file)\n",
    "    mid_diam = min(results['diam2'])\n",
    "    if mid_diam <= threshold:\n",
    "        C = 'b'\n",
    "        M = 'o'\n",
    "        E = 'k'\n",
    "        D = 0.25\n",
    "    else:\n",
    "        C = 'r'\n",
    "        M = 'X'\n",
    "        E = 'k'\n",
    "        D = 0.75\n",
    "    ax.scatter(D+(dx*(np.random.random() - 0.5) * 2),\n",
    "               mid_diam, c=C, \n",
    "               edgecolors=E, marker=M, alpha=1.0,\n",
    "               s=80)\n",
    "    \n",
    "ax.axhline(y=threshold, c='k')\n",
    "define_plot_variables(ax,\n",
    "                      title='',\n",
    "                      xtitle='',\n",
    "                      ytitle='intermediate diameter [$\\mathrm{\\AA}$]',\n",
    "                      xlim=(0, 1),\n",
    "                      ylim=(0, 10))\n",
    "fig.tight_layout()\n",
    "fig.savefig(output_dir+\"categorical.pdf\", dpi=720,\n",
    "            bbox_inches='tight')"
   ]
  },
  {
   "cell_type": "markdown",
   "metadata": {},
   "source": [
    "## Plot Shapes"
   ]
  },
  {
   "cell_type": "code",
   "execution_count": 33,
   "metadata": {
    "ExecuteTime": {
     "end_time": "2018-07-18T07:29:15.832304Z",
     "start_time": "2018-07-18T07:29:14.814693Z"
    }
   },
   "outputs": [
    {
     "data": {
      "image/png": "[encoded data removed]",
      "text/plain": [
       "<Figure size 360x360 with 1 Axes>"
      ]
     },
     "metadata": {},
     "output_type": "display_data"
    }
   ],
   "source": [
    "threshold = 4.2\n",
    "fig, ax = plt.subplots(figsize=(5,5))\n",
    "for name, smile in molecules.items():\n",
    "    out_file = output_dir+name+'_diam_result.csv'\n",
    "    if os.path.isfile(out_file) is False:\n",
    "        continue\n",
    "    results = pd.read_csv(out_file)\n",
    "    mid_diam = min(results['diam2'])\n",
    "    if mid_diam <= threshold:\n",
    "        C = 'b'\n",
    "        M = 'o'\n",
    "        E = 'k'\n",
    "        D = 0.25\n",
    "    else:\n",
    "        C = 'r'\n",
    "        M = 'X'\n",
    "        E = 'k'\n",
    "        D = 0.75\n",
    "    ax.scatter(np.average(results['ratio_1']),\n",
    "               np.average(results['ratio_2']),\n",
    "               c=C, \n",
    "               edgecolors=E, marker=M, alpha=1.0,\n",
    "               s=80)\n",
    "    \n",
    "ax.plot([0, 0.5, 1, 0], [1, 0.5, 1, 1], c='k', lw=2)\n",
    "ax.text(0.75, 1.01, 'sphere', fontsize=20)\n",
    "ax.text(0.4, 0.45, 'disk', fontsize=20)\n",
    "ax.text(-0.05, 1.01, 'rod', fontsize=20)\n",
    "define_parity_plot_variables(ax,\n",
    "                             title='',\n",
    "                             xtitle='$I_1$ / $I_3$',\n",
    "                             ytitle='$I_2$ / $I_3$',\n",
    "                             xlim=(-0.1, 1.1),\n",
    "                             ylim=(0.4, 1.1))\n",
    "fig.tight_layout()\n",
    "fig.savefig(output_dir+\"shape.pdf\", dpi=720,\n",
    "            bbox_inches='tight')"
   ]
  },
  {
   "cell_type": "code",
   "execution_count": null,
   "metadata": {},
   "outputs": [],
   "source": []
  },
  {
   "cell_type": "code",
   "execution_count": null,
   "metadata": {},
   "outputs": [],
   "source": []
  },
  {
   "cell_type": "code",
   "execution_count": null,
   "metadata": {},
   "outputs": [],
   "source": []
  },
  {
   "cell_type": "code",
   "execution_count": null,
   "metadata": {},
   "outputs": [],
   "source": []
  },
  {
   "cell_type": "code",
   "execution_count": null,
   "metadata": {},
   "outputs": [],
   "source": []
  },
  {
   "cell_type": "code",
   "execution_count": null,
   "metadata": {},
   "outputs": [],
   "source": []
  },
  {
   "cell_type": "code",
   "execution_count": null,
   "metadata": {},
   "outputs": [],
   "source": []
  },
  {
   "cell_type": "code",
   "execution_count": null,
   "metadata": {},
   "outputs": [],
   "source": []
  },
  {
   "cell_type": "code",
   "execution_count": null,
   "metadata": {},
   "outputs": [],
   "source": []
  }
 ],
 "metadata": {
  "kernelspec": {
   "display_name": "Python 3",
   "language": "python",
   "name": "python3"
  },
  "language_info": {
   "codemirror_mode": {
    "name": "ipython",
    "version": 3
   },
   "file_extension": ".py",
   "mimetype": "text/x-python",
   "name": "python",
   "nbconvert_exporter": "python",
   "pygments_lexer": "ipython3",
   "version": "3.6.5"
  }
 },
 "nbformat": 4,
 "nbformat_minor": 2
}
