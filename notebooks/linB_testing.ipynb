{
 "cells": [
  {
   "cell_type": "code",
   "execution_count": null,
   "metadata": {
    "ExecuteTime": {
     "end_time": "2018-08-29T11:39:28.806971Z",
     "start_time": "2018-08-29T11:39:28.787418Z"
    }
   },
   "outputs": [],
   "source": [
    "from IPython.core.display import HTML\n",
    "display(HTML(\"<style>.container { width:95% !important; }</style>\"))   \n",
    "%load_ext autoreload\n",
    "%autoreload 1"
   ]
  },
  {
   "cell_type": "markdown",
   "metadata": {},
   "source": [
    "Author: Andrew Tarzia\n",
    "\n",
    "Date Created: 12 Jul 2018\n",
    "\n",
    "Distributed under the terms of the MIT License."
   ]
  },
  {
   "cell_type": "markdown",
   "metadata": {},
   "source": [
    "# Notebook for getting molecule parameters using RDKIT\n"
   ]
  },
  {
   "cell_type": "code",
   "execution_count": null,
   "metadata": {
    "ExecuteTime": {
     "end_time": "2018-08-29T11:39:30.159039Z",
     "start_time": "2018-08-29T11:39:29.595934Z"
    }
   },
   "outputs": [],
   "source": [
    "import numpy as np\n",
    "import pandas as pd\n",
    "from IPython.display import display_pdf\n",
    "import os\n",
    "from rdkit.Chem import AllChem as Chem\n",
    "from rdkit.Chem import Descriptors\n",
    "from rdkit.Chem.Descriptors3D import NPR1, NPR2, PMI1, PMI2, PMI3\n",
    "from rdkit.Chem.Draw.MolDrawing import MolDrawing\n",
    "from rdkit.Chem.Draw import IPythonConsole\n",
    "from rdkit.Chem import Draw\n",
    "from rdkit.Geometry import rdGeometry\n",
    "from rdkit.Chem import PyMol\n",
    "from rdkit import Geometry\n",
    "import tempfile\n",
    "import matplotlib.pyplot as plt\n",
    "%aimport rdkit_functions\n",
    "%aimport ellipsoid"
   ]
  },
  {
   "cell_type": "markdown",
   "metadata": {},
   "source": [
    "# Notes:\n",
    "# Todo:\n",
    "- timing\n",
    " - speed up reading: https://rdkit.blogspot.com/2016/09/avoiding-unnecessary-work-and.html"
   ]
  },
  {
   "cell_type": "code",
   "execution_count": null,
   "metadata": {
    "ExecuteTime": {
     "end_time": "2018-08-29T11:39:30.285055Z",
     "start_time": "2018-08-29T11:39:30.280542Z"
    }
   },
   "outputs": [],
   "source": [
    "# molecule file dir\n",
    "molecule_file = '/home/atarzia/psp/linBmolecules/linbmolecules.txt'\n",
    "# output dir\n",
    "output_dir = '/home/atarzia/psp/linBmolecules/'"
   ]
  },
  {
   "cell_type": "code",
   "execution_count": null,
   "metadata": {
    "ExecuteTime": {
     "end_time": "2018-08-29T11:39:31.067250Z",
     "start_time": "2018-08-29T11:39:31.022042Z"
    }
   },
   "outputs": [],
   "source": [
    "def define_plot_variables(ax, title, ytitle, xtitle, xlim, ylim):\n",
    "    \"\"\"\n",
    "    Series of matplotlib pyplot settings to make all plots unitform.\n",
    "    \"\"\"\n",
    "    # Set number of ticks for x-axis\n",
    "    ax.tick_params(axis='both', which='major', labelsize=16)\n",
    "\n",
    "    ax.set_ylabel(ytitle, fontsize=16)\n",
    "    # ax.legend([y, n], ['aligned', 'not aligned'], loc=4, fancybox=True)\n",
    "    ax.set_xlim(xlim)\n",
    "    ax.set_ylim(ylim)\n",
    "    ax.set_xticklabels(['diffuses', 'does not diffuse'])\n",
    "    ax.set_xticks([0.25, 0.75])\n",
    "\n",
    "\n",
    "def define_parity_plot_variables(ax, title, ytitle, xtitle, xlim, ylim):\n",
    "    \"\"\"\n",
    "    Series of matplotlib pyplot settings to make all plots unitform.\n",
    "    \"\"\"\n",
    "    # Set number of ticks for x-axis\n",
    "    ax.tick_params(axis='both', which='major', labelsize=16)\n",
    "\n",
    "    ax.set_xlabel(xtitle, fontsize=16)\n",
    "    ax.set_ylabel(ytitle, fontsize=16)\n",
    "    # ax.legend([y, n], ['aligned', 'not aligned'], loc=4, fancybox=True)\n",
    "    ax.set_xlim(xlim)\n",
    "    ax.set_ylim(ylim)\n"
   ]
  },
  {
   "cell_type": "code",
   "execution_count": null,
   "metadata": {
    "ExecuteTime": {
     "end_time": "2018-08-29T11:39:33.787465Z",
     "start_time": "2018-08-29T11:39:33.539120Z"
    }
   },
   "outputs": [],
   "source": [
    "df, molecules, diameters = rdkit_functions.read_mol_txt_file(molecule_file)\n",
    "rdkit_functions.produce_quick_fig_mol(molecules, output_dir+'molecules.pdf')"
   ]
  },
  {
   "cell_type": "markdown",
   "metadata": {},
   "source": [
    "## Calculate size and shape"
   ]
  },
  {
   "cell_type": "code",
   "execution_count": null,
   "metadata": {
    "ExecuteTime": {
     "end_time": "2018-08-29T11:39:36.331340Z",
     "start_time": "2018-08-29T11:39:36.319445Z"
    }
   },
   "outputs": [],
   "source": [
    "try:\n",
    "    v = PyMol.MolViewer()\n",
    "except ConnectionRefusedError:\n",
    "    pass"
   ]
  },
  {
   "cell_type": "code",
   "execution_count": null,
   "metadata": {
    "ExecuteTime": {
     "end_time": "2018-08-29T11:39:36.690539Z",
     "start_time": "2018-08-29T11:39:36.685961Z"
    }
   },
   "outputs": [],
   "source": [
    "molecules"
   ]
  },
  {
   "cell_type": "code",
   "execution_count": null,
   "metadata": {
    "ExecuteTime": {
     "end_time": "2018-08-23T05:10:20.653367Z",
     "start_time": "2018-08-23T05:01:40.481136Z"
    }
   },
   "outputs": [],
   "source": [
    "rdkit_functions.calc_molecule_diameters(molecules, diameters, \n",
    "                                        out_dir=output_dir, vdwScale=1.0, boxMargin=4.0,\n",
    "                                        spacing=0.6, show_vdw=False, plot_ellip=False,\n",
    "                                        N_conformers=50, \n",
    "                                        show_conf=False)"
   ]
  },
  {
   "cell_type": "markdown",
   "metadata": {},
   "source": [
    "## Results"
   ]
  },
  {
   "cell_type": "code",
   "execution_count": null,
   "metadata": {
    "ExecuteTime": {
     "end_time": "2018-08-29T11:39:39.390214Z",
     "start_time": "2018-08-29T11:39:39.264980Z"
    }
   },
   "outputs": [],
   "source": [
    "threshold = 4.2\n",
    "diffuse = {}\n",
    "no_diffuse = {}\n",
    "count = 0\n",
    "for name, smile in molecules.items():\n",
    "    out_file = output_dir+name.replace(' ', '_')+'_diam_result.csv'\n",
    "    if os.path.isfile(out_file) is False:\n",
    "        continue\n",
    "    count += 1\n",
    "    results = pd.read_csv(out_file)\n",
    "    min_diam = min(results['diam1'])\n",
    "    mid_diam = min(results['diam2'])\n",
    "    # print(min(results['diam1']))\n",
    "    # print(min(results['diam2']))\n",
    "    # plt.hist(results['diam1'], facecolor='k', alpha=0.4)\n",
    "    # plt.hist(results['diam2'], facecolor='r', alpha=0.4)\n",
    "    if mid_diam <= threshold:\n",
    "        print(name+':')\n",
    "        print('can diffuse')\n",
    "        print('min diameter =', round(min_diam, 3), 'angstrom')\n",
    "        print('mid diameter =', round(mid_diam, 3), 'angstrom')\n",
    "        diffuse[name] = smile\n",
    "    else:\n",
    "        print(name+':')\n",
    "        print('cannot diffuse')\n",
    "        print('min diameter =', round(min_diam, 3), 'angstrom')\n",
    "        print('mid diameter =', round(mid_diam, 3), 'angstrom')\n",
    "        no_diffuse[name] = smile\n",
    "    print('-')\n",
    "print('analyzed ', count, 'molecules')"
   ]
  },
  {
   "cell_type": "code",
   "execution_count": null,
   "metadata": {
    "ExecuteTime": {
     "end_time": "2018-08-29T11:39:41.698965Z",
     "start_time": "2018-08-29T11:39:41.562842Z"
    }
   },
   "outputs": [],
   "source": [
    "if len(diffuse) > 0:\n",
    "    rdkit_functions.produce_quick_fig_mol(diffuse, output_dir+'diffuse_mol.pdf', \n",
    "                                          labels=False, mpr=5, ims=200)\n",
    "if len(no_diffuse) > 0:\n",
    "    rdkit_functions.produce_quick_fig_mol(no_diffuse, output_dir+'no_diffuse_mol.pdf', \n",
    "                                          labels=False, mpr=5, ims=200)"
   ]
  },
  {
   "cell_type": "markdown",
   "metadata": {},
   "source": [
    "## Plot categorical scatter"
   ]
  },
  {
   "cell_type": "code",
   "execution_count": null,
   "metadata": {
    "ExecuteTime": {
     "end_time": "2018-08-29T11:39:43.147133Z",
     "start_time": "2018-08-29T11:39:42.414265Z"
    }
   },
   "outputs": [],
   "source": [
    "threshold = 4.2\n",
    "dx = 0.15\n",
    "fig, ax = plt.subplots(figsize=(5,5))\n",
    "for name, smile in molecules.items():\n",
    "    out_file = output_dir+name.replace(' ', '_')+'_diam_result.csv'\n",
    "    if os.path.isfile(out_file) is False:\n",
    "        continue\n",
    "    results = pd.read_csv(out_file)\n",
    "    mid_diam = min(results['diam2'])\n",
    "    if mid_diam <= threshold:\n",
    "        C = 'b'\n",
    "        M = 'o'\n",
    "        E = 'k'\n",
    "        D = 0.25\n",
    "    else:\n",
    "        C = 'r'\n",
    "        M = 'X'\n",
    "        E = 'k'\n",
    "        D = 0.75\n",
    "    ax.scatter(D+(dx*(np.random.random() - 0.5) * 2),\n",
    "               mid_diam, c=C, \n",
    "               edgecolors=E, marker=M, alpha=1.0,\n",
    "               s=100)\n",
    "    \n",
    "ax.axhline(y=threshold, c='k')\n",
    "define_plot_variables(ax,\n",
    "                      title='',\n",
    "                      xtitle='',\n",
    "                      ytitle='intermediate diameter [$\\mathrm{\\AA}$]',\n",
    "                      xlim=(0, 1),\n",
    "                      ylim=(0, 10))\n",
    "fig.tight_layout()\n",
    "fig.savefig(output_dir+\"categorical.pdf\", dpi=720,\n",
    "            bbox_inches='tight')"
   ]
  },
  {
   "cell_type": "markdown",
   "metadata": {},
   "source": [
    "## Plot Shapes"
   ]
  },
  {
   "cell_type": "code",
   "execution_count": null,
   "metadata": {
    "ExecuteTime": {
     "end_time": "2018-08-29T11:45:40.206834Z",
     "start_time": "2018-08-29T11:45:39.718434Z"
    }
   },
   "outputs": [],
   "source": [
    "threshold = 4.2\n",
    "fig, ax = plt.subplots(figsize=(5,5))\n",
    "for name, smile in molecules.items():\n",
    "    out_file = output_dir+name.replace(' ', '_')+'_diam_result.csv'\n",
    "    if os.path.isfile(out_file) is False:\n",
    "        continue\n",
    "    results = pd.read_csv(out_file)\n",
    "    mid_diam = min(results['diam2'])\n",
    "    if mid_diam <= threshold:\n",
    "        C = 'b'\n",
    "        M = 'o'\n",
    "        E = 'k'\n",
    "        D = 0.25\n",
    "    else:\n",
    "        C = 'r'\n",
    "        M = 'X'\n",
    "        E = 'k'\n",
    "        D = 0.75\n",
    "    ax.scatter(np.average(results['ratio_1']),\n",
    "               np.average(results['ratio_2']),\n",
    "               c=C, \n",
    "               edgecolors=E, marker=M, alpha=1.0,\n",
    "               s=100)\n",
    "    \n",
    "ax.plot([0, 0.5, 1, 0], [1, 0.5, 1, 1], c='k', lw=2)\n",
    "ax.text(0.75, 1.03, 'sphere', fontsize=20)\n",
    "ax.text(0.4, 0.45, 'oblate', fontsize=20)\n",
    "ax.text(-0.05, 1.03, 'prolate', fontsize=20)\n",
    "define_parity_plot_variables(ax,\n",
    "                             title='',\n",
    "                             xtitle='$I_1$ / $I_3$',\n",
    "                             ytitle='$I_2$ / $I_3$',\n",
    "                             xlim=(-0.1, 1.1),\n",
    "                             ylim=(0.4, 1.1))\n",
    "fig.tight_layout()\n",
    "fig.savefig(output_dir+\"shape.pdf\", dpi=720,\n",
    "            bbox_inches='tight')"
   ]
  },
  {
   "cell_type": "code",
   "execution_count": null,
   "metadata": {},
   "outputs": [],
   "source": []
  },
  {
   "cell_type": "code",
   "execution_count": null,
   "metadata": {},
   "outputs": [],
   "source": []
  },
  {
   "cell_type": "code",
   "execution_count": null,
   "metadata": {},
   "outputs": [],
   "source": []
  },
  {
   "cell_type": "code",
   "execution_count": null,
   "metadata": {},
   "outputs": [],
   "source": []
  },
  {
   "cell_type": "code",
   "execution_count": null,
   "metadata": {},
   "outputs": [],
   "source": []
  },
  {
   "cell_type": "code",
   "execution_count": null,
   "metadata": {},
   "outputs": [],
   "source": []
  },
  {
   "cell_type": "code",
   "execution_count": null,
   "metadata": {},
   "outputs": [],
   "source": []
  },
  {
   "cell_type": "code",
   "execution_count": null,
   "metadata": {},
   "outputs": [],
   "source": []
  },
  {
   "cell_type": "code",
   "execution_count": null,
   "metadata": {},
   "outputs": [],
   "source": []
  }
 ],
 "metadata": {
  "kernelspec": {
   "display_name": "Python 3",
   "language": "python",
   "name": "python3"
  },
  "language_info": {
   "codemirror_mode": {
    "name": "ipython",
    "version": 3
   },
   "file_extension": ".py",
   "mimetype": "text/x-python",
   "name": "python",
   "nbconvert_exporter": "python",
   "pygments_lexer": "ipython3",
   "version": "3.6.5"
  }
 },
 "nbformat": 4,
 "nbformat_minor": 2
}
