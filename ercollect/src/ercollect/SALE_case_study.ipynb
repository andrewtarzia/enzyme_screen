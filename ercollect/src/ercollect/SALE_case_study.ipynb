{
 "cells": [
  {
   "cell_type": "code",
   "execution_count": 1,
   "metadata": {
    "ExecuteTime": {
     "end_time": "2018-11-08T00:04:02.672134Z",
     "start_time": "2018-11-08T00:04:02.625600Z"
    }
   },
   "outputs": [
    {
     "data": {
      "text/html": [
       "<style>.container { width:95% !important; }</style>"
      ],
      "text/plain": [
       "<IPython.core.display.HTML object>"
      ]
     },
     "metadata": {},
     "output_type": "display_data"
    }
   ],
   "source": [
    "from IPython.core.display import HTML\n",
    "display(HTML(\"<style>.container { width:95% !important; }</style>\"))   \n",
    "%load_ext autoreload\n",
    "%autoreload 1"
   ]
  },
  {
   "cell_type": "code",
   "execution_count": 51,
   "metadata": {},
   "outputs": [],
   "source": [
    "# from ercollect import molecule as mol\n",
    "# from ercollect.molecule import molecule\n",
    "from ercollect.rxn_syst import reaction, get_RS, yield_rxn_syst\n",
    "import matplotlib.pyplot as plt\n",
    "import numpy as np\n",
    "import sys\n",
    "# import random\n",
    "# import os\n",
    "# import requests\n",
    "# from rdkit.Chem import Draw\n",
    "# from rdkit.Chem import AllChem as Chem\n",
    "# from rdkit.Chem.Draw import IPythonConsole\n",
    "# from rdkit.Chem.Draw.MolDrawing import MolDrawing, DrawingOptions\n",
    "# from IPython.display import clear_output\n",
    "# from ercollect import SABIO_IO"
   ]
  },
  {
   "cell_type": "markdown",
   "metadata": {},
   "source": [
    "Author: Andrew Tarzia\n",
    "\n",
    "Date Created: 11 Dec 2018\n",
    "\n",
    "Distributed under the terms of the MIT License."
   ]
  },
  {
   "cell_type": "markdown",
   "metadata": {},
   "source": [
    "# Notebook to analyse reaction systems for the SALE-ZIF-8 case study"
   ]
  },
  {
   "cell_type": "markdown",
   "metadata": {
    "ExecuteTime": {
     "end_time": "2018-11-08T02:15:52.671859Z",
     "start_time": "2018-11-08T02:15:52.407602Z"
    }
   },
   "source": [
    "## Step 1:\n",
    "- Find reaction systems with maximum component sizes within some range\n",
    "    - lower threshold $\\leq d \\leq$ upper threshold"
   ]
  },
  {
   "cell_type": "code",
   "execution_count": 4,
   "metadata": {},
   "outputs": [],
   "source": [
    "threshold = (5, 7)"
   ]
  },
  {
   "cell_type": "code",
   "execution_count": 5,
   "metadata": {
    "ExecuteTime": {
     "end_time": "2018-11-08T02:15:53.180016Z",
     "start_time": "2018-11-08T02:15:53.176223Z"
    }
   },
   "outputs": [],
   "source": [
    "directory = '/home/atarzia/psp/screening_results/'\n",
    "directory += 'new_reactions_kegg_atlas/'\n",
    "# directory += 'new_reactions_sabio_wcharge/'\n",
    "# directory += 'biomin_search_sabio_wcharge/'"
   ]
  },
  {
   "cell_type": "code",
   "execution_count": 14,
   "metadata": {
    "ExecuteTime": {
     "end_time": "2018-11-08T04:04:21.726854Z",
     "start_time": "2018-11-08T04:04:21.552644Z"
    },
    "code_folding": [
     2
    ]
   },
   "outputs": [],
   "source": [
    "target_RS = []\n",
    "out_range = []\n",
    "in_range = []\n",
    "for i, rs in enumerate(yield_rxn_syst(output_dir=directory)):\n",
    "    if rs.skip_rxn is True:\n",
    "        continue\n",
    "    if rs.max_comp_size is None:\n",
    "        continue\n",
    "    if rs.max_comp_size > threshold[0] and rs.max_comp_size <= threshold[1]:\n",
    "        target_RS.append(rs.pkl)\n",
    "        in_range.append(rs.max_comp_size)\n",
    "    else:\n",
    "        out_range.append(rs.max_comp_size)    "
   ]
  },
  {
   "cell_type": "code",
   "execution_count": 30,
   "metadata": {},
   "outputs": [
    {
     "name": "stdout",
     "output_type": "stream",
     "text": [
      "1134 reactions in threshold\n"
     ]
    },
    {
     "data": {
      "image/png": "[encoded data removed]",
      "text/plain": [
       "<Figure size 432x288 with 1 Axes>"
      ]
     },
     "metadata": {},
     "output_type": "display_data"
    }
   ],
   "source": [
    "print(len(target_RS), 'reactions in threshold')target_RS = []\n",
    "fig, ax = plt.subplots()\n",
    "ax.hist(in_range, facecolor='#1469b5', histtype='stepfilled', bins=np.arange(0, 20, 0.2))\n",
    "ax.hist(out_range, facecolor='#FF7900', histtype='stepfilled', bins=np.arange(0, 20, 0.2))\n",
    "ax.tick_params(axis='both', which='major', labelsize=16)\n",
    "ax.set_xlabel('$d$ of largest component [$\\mathrm{\\AA}$]', fontsize=16)\n",
    "ax.set_ylabel('count', fontsize=16)\n",
    "ax.set_xlim(0, 15)\n",
    "plt.show()"
   ]
  },
  {
   "cell_type": "markdown",
   "metadata": {},
   "source": [
    "## Step 2:\n",
    "- From the target RS:\n",
    "    - Plot the value added as the change in synthetic accessibility\n",
    "    - Select out reactions with a change in synthetic accessibility $>$ SA threshold"
   ]
  },
  {
   "cell_type": "code",
   "execution_count": 36,
   "metadata": {},
   "outputs": [],
   "source": [
    "SA_threshold = 1.5"
   ]
  },
  {
   "cell_type": "code",
   "execution_count": 40,
   "metadata": {},
   "outputs": [],
   "source": [
    "target_RS_2 = []\n",
    "top_delta_SA = []\n",
    "other_delta_SA = []\n",
    "for pkl in target_RS:\n",
    "    rs = get_RS(directory+pkl, output_dir=directory, verbose=False)\n",
    "    if rs.delta_sa > SA_threshold:\n",
    "        top_delta_SA.append(rs.delta_sa)\n",
    "        target_RS_2.append(rs.pkl)\n",
    "    else:\n",
    "        other_delta_SA.append(rs.delta_sa)"
   ]
  },
  {
   "cell_type": "code",
   "execution_count": 41,
   "metadata": {},
   "outputs": [
    {
     "name": "stdout",
     "output_type": "stream",
     "text": [
      "55 reactions in threshold\n"
     ]
    },
    {
     "data": {
      "image/png": "[encoded data removed]",
      "text/plain": [
       "<Figure size 432x288 with 1 Axes>"
      ]
     },
     "metadata": {},
     "output_type": "display_data"
    }
   ],
   "source": [
    "print(len(target_RS_2), 'reactions in threshold')\n",
    "fig, ax = plt.subplots()    \n",
    "ax.hist(top_delta_SA, facecolor='#1469b5', histtype='stepfilled', bins=np.arange(-10, 10, 0.2))\n",
    "ax.hist(other_delta_SA, facecolor='#FF7900', histtype='stepfilled', bins=np.arange(-10, 10, 0.2))\n",
    "ax.tick_params(axis='both', which='major', labelsize=16)\n",
    "ax.set_xlabel('change in synthetic accessibility', fontsize=16)\n",
    "ax.set_ylabel('count', fontsize=16)\n",
    "ax.set_xlim(-10, 10)\n",
    "plt.show()"
   ]
  },
  {
   "cell_type": "markdown",
   "metadata": {},
   "source": [
    "## Step 3:\n",
    "- Select reactions with only one reactant"
   ]
  },
  {
   "cell_type": "code",
   "execution_count": 52,
   "metadata": {},
   "outputs": [],
   "source": [
    "target_RS_3 = []\n",
    "no_react_1 = []\n",
    "no_react_above = []\n",
    "for pkl in target_RS_2:\n",
    "    rs = get_RS(directory+pkl, output_dir=directory, verbose=False)\n",
    "    no_r = 0\n",
    "    for m in rs.components:\n",
    "        if m.role == 'reactant':\n",
    "            no_r += 1\n",
    "    if no_r > 1:\n",
    "        no_react_above.append(no_r)\n",
    "    elif no_r == 1:\n",
    "        no_react_1.append(no_r)\n",
    "        target_RS_3.append(rs.pkl)\n",
    "    else:\n",
    "        print('THERE IS A PROBLEM HERE!')\n",
    "        print(rs.pkl)\n",
    "        print(rs.DB_ID, rs.DB)\n",
    "        sys.exit()\n"
   ]
  },
  {
   "cell_type": "code",
   "execution_count": 53,
   "metadata": {},
   "outputs": [
    {
     "name": "stdout",
     "output_type": "stream",
     "text": [
      "11 reactions in threshold\n"
     ]
    },
    {
     "data": {
      "image/png": "[encoded data removed]",
      "text/plain": [
       "<Figure size 432x288 with 1 Axes>"
      ]
     },
     "metadata": {},
     "output_type": "display_data"
    }
   ],
   "source": [
    "print(len(target_RS_3), 'reactions in threshold')\n",
    "fig, ax = plt.subplots()    \n",
    "ax.hist(no_react_1, facecolor='#1469b5', histtype='stepfilled', bins=np.arange(0, 10, 1))\n",
    "ax.hist(no_react_above, facecolor='#FF7900', histtype='stepfilled', bins=np.arange(0, 10, 1))\n",
    "ax.tick_params(axis='both', which='major', labelsize=16)\n",
    "ax.set_xlabel('number of reactants', fontsize=16)\n",
    "ax.set_ylabel('count', fontsize=16)\n",
    "ax.set_xlim(0, 5)\n",
    "plt.show()"
   ]
  },
  {
   "cell_type": "markdown",
   "metadata": {},
   "source": [
    "## Step 3:\n",
    "- Print each reaction"
   ]
  },
  {
   "cell_type": "code",
   "execution_count": 57,
   "metadata": {},
   "outputs": [
    {
     "name": "stdout",
     "output_type": "stream",
     "text": [
      "---------------\n",
      "sRS-4_1_1_78-KEGG-R04177.gpkl\n",
      "EC: 4.1.1.78  --- KEGG ID: R04177\n",
      "enol-oxaloacetic acid -> acetylenedicarboxylate(2-) + water\n",
      "---------------\n",
      "---------------\n",
      "sRS-4_2_1_172-KEGG-R11819.gpkl\n",
      "EC: 4.2.1.172  --- KEGG ID: R11819\n",
      "trans-4-hydroxy-L-proline -> (S)-1-pyrroline-5-carboxylate + water\n",
      "---------------\n",
      "---------------\n",
      "sRS-4_2_1_69-KEGG-R00778.gpkl\n",
      "EC: 4.2.1.69  --- KEGG ID: R00778\n",
      "urea -> cyanamide + water\n",
      "---------------\n",
      "---------------\n",
      "sRS-4_2_3_27-KEGG-R08199.gpkl\n",
      "EC: 4.2.3.27  --- KEGG ID: R08199\n",
      "prenyl diphosphate -> isoprene + Diphosphate\n",
      "---------------\n",
      "---------------\n",
      "sRS-4_2_3_3-KEGG-R01016.gpkl\n",
      "EC: 4.2.3.3  --- KEGG ID: R01016\n",
      "Glycerone phosphate -> Methylglyoxal + Phosphate\n",
      "---------------\n",
      "---------------\n",
      "sRS-4_3_1_1-KEGG-R00490.gpkl\n",
      "EC: 4.3.1.1  --- KEGG ID: R00490\n",
      "L-Aspartate -> Fumarate + ammonia\n",
      "---------------\n",
      "---------------\n",
      "sRS-5_2_1_1-KEGG-R01087.gpkl\n",
      "EC: 5.2.1.1  --- KEGG ID: R01087\n",
      "Maleate -> Fumarate\n",
      "---------------\n",
      "---------------\n",
      "sRS-XX_XX_XX_XX-KEGG-R03314.gpkl\n",
      "EC: -.-.-.-  --- KEGG ID: R03314\n",
      "L-glutamic 5-semialdehyde -> (S)-1-pyrroline-5-carboxylate + water\n",
      "---------------\n",
      "---------------\n",
      "sRS-XX_XX_XX_XX-KEGG-R05335.gpkl\n",
      "EC: -.-.-.-  --- KEGG ID: R05335\n",
      "4-Methylaminobutanal -> 1-methylpyrrolinium + water\n",
      "---------------\n",
      "---------------\n",
      "sRS-XX_XX_XX_XX-KEGG-R08426.gpkl\n",
      "EC: -.-.-.-  --- KEGG ID: R08426\n",
      "Nicotinate -> 3,6-Dihydronicotinic acid\n",
      "---------------\n",
      "---------------\n",
      "sRS-XX_XX_XX_XX-KEGG-R09142.gpkl\n",
      "EC: -.-.-.-  --- KEGG ID: R09142\n",
      "trichloroepoxyethane -> carbon monoxide\n",
      "---------------\n"
     ]
    }
   ],
   "source": [
    "for pkl in target_RS_3:\n",
    "    rs = get_RS(directory+pkl, output_dir=directory, verbose=False)\n",
    "    print('---------------')\n",
    "    print(rs.pkl)\n",
    "    print('EC:', rs.EC, ' --- KEGG ID:', rs.DB_ID)\n",
    "    before_str = []\n",
    "    after_str = []\n",
    "    for m in rs.components:\n",
    "        if m.role == 'reactant':\n",
    "            before_str.append(m.name)\n",
    "        elif m.role == 'product':\n",
    "            after_str.append(m.name)\n",
    "    print(' + '.join(before_str), '->', ' + '.join(after_str))\n",
    "    print('---------------')"
   ]
  },
  {
   "cell_type": "markdown",
   "metadata": {},
   "source": [
    "## Step 3:\n",
    "- Plot the maximum logP vs. maximum logS of the remaining reactions"
   ]
  },
  {
   "cell_type": "code",
   "execution_count": 56,
   "metadata": {},
   "outputs": [
    {
     "data": {
      "image/png": "[encoded data removed]",
      "text/plain": [
       "<Figure size 432x288 with 1 Axes>"
      ]
     },
     "metadata": {},
     "output_type": "display_data"
    }
   ],
   "source": [
    "fig, ax = plt.subplots()\n",
    "for pkl in target_RS_3:\n",
    "    rs = get_RS(directory+pkl, output_dir=directory, verbose=False)\n",
    "    ax.scatter(rs.max_logP, rs.max_logS, c='#1469b5')\n",
    "ax.tick_params(axis='both', which='major', labelsize=16)\n",
    "ax.set_xlabel('max. logP of all components', fontsize=16)\n",
    "ax.set_ylabel('max. logS$_{\\mathrm{w}}$ of all components', fontsize=16)\n",
    "ax.set_xlim(-5, 5)\n",
    "ax.set_ylim(-5, 5)\n",
    "plt.show()   "
   ]
  },
  {
   "cell_type": "code",
   "execution_count": null,
   "metadata": {},
   "outputs": [],
   "source": []
  }
 ],
 "metadata": {
  "kernelspec": {
   "display_name": "Python 3",
   "language": "python",
   "name": "python3"
  },
  "language_info": {
   "codemirror_mode": {
    "name": "ipython",
    "version": 3
   },
   "file_extension": ".py",
   "mimetype": "text/x-python",
   "name": "python",
   "nbconvert_exporter": "python",
   "pygments_lexer": "ipython3",
   "version": "3.6.5"
  }
 },
 "nbformat": 4,
 "nbformat_minor": 2
}
