{
 "cells": [
  {
   "cell_type": "code",
   "execution_count": 1,
   "metadata": {
    "ExecuteTime": {
     "end_time": "2018-11-08T00:04:02.672134Z",
     "start_time": "2018-11-08T00:04:02.625600Z"
    }
   },
   "outputs": [
    {
     "data": {
      "text/html": [
       "<style>.container { width:95% !important; }</style>"
      ],
      "text/plain": [
       "<IPython.core.display.HTML object>"
      ]
     },
     "metadata": {},
     "output_type": "display_data"
    }
   ],
   "source": [
    "from IPython.core.display import HTML\n",
    "display(HTML(\"<style>.container { width:95% !important; }</style>\"))\n",
    "%load_ext autoreload\n",
    "%autoreload 1"
   ]
  },
  {
   "cell_type": "code",
   "execution_count": 155,
   "metadata": {},
   "outputs": [],
   "source": [
    "# from ercollect import molecule as mol\n",
    "# from ercollect.molecule import molecule\n",
    "from ercollect.rxn_syst import reaction, get_RS, yield_rxn_syst\n",
    "import matplotlib.pyplot as plt\n",
    "import numpy as np\n",
    "import sys\n",
    "from rdkit.Chem import Fragments, Descriptors\n",
    "# import random\n",
    "# import os\n",
    "# import requests\n",
    "# from rdkit.Chem import Draw\n",
    "from rdkit.Chem import AllChem as Chem\n",
    "# from rdkit.Chem.Draw import IPythonConsole\n",
    "# from rdkit.Chem.Draw.MolDrawing import MolDrawing, DrawingOptions\n",
    "# from IPython.display import clear_output\n",
    "# from ercollect import SABIO_IO"
   ]
  },
  {
   "cell_type": "markdown",
   "metadata": {},
   "source": [
    "Author: Andrew Tarzia\n",
    "\n",
    "Date Created: 11 Dec 2018\n",
    "\n",
    "Distributed under the terms of the MIT License."
   ]
  },
  {
   "cell_type": "markdown",
   "metadata": {},
   "source": [
    "# Notebook to analyse reaction systems for the SALE-ZIF-8 case study"
   ]
  },
  {
   "cell_type": "markdown",
   "metadata": {
    "ExecuteTime": {
     "end_time": "2018-11-08T02:15:52.671859Z",
     "start_time": "2018-11-08T02:15:52.407602Z"
    }
   },
   "source": [
    "## Step 1:\n",
    "- Find reaction systems with maximum component sizes within some range\n",
    "    - lower threshold $\\leq d \\leq$ upper threshold"
   ]
  },
  {
   "cell_type": "code",
   "execution_count": 78,
   "metadata": {},
   "outputs": [],
   "source": [
    "threshold = (6, 8)"
   ]
  },
  {
   "cell_type": "code",
   "execution_count": 79,
   "metadata": {
    "ExecuteTime": {
     "end_time": "2018-11-08T02:15:53.180016Z",
     "start_time": "2018-11-08T02:15:53.176223Z"
    }
   },
   "outputs": [],
   "source": [
    "directory = '/home/atarzia/psp/screening_results/'\n",
    "directory += 'kegg_111218/'\n",
    "# directory += 'new_reactions_atlas_111218/'\n",
    "# directory += 'new_reactions_kegg_atlas/'\n",
    "# directory += 'new_reactions_sabio_wcharge/'\n",
    "# directory += 'biomin_search_sabio_wcharge/'"
   ]
  },
  {
   "cell_type": "code",
   "execution_count": 80,
   "metadata": {
    "ExecuteTime": {
     "end_time": "2018-11-08T04:04:21.726854Z",
     "start_time": "2018-11-08T04:04:21.552644Z"
    },
    "code_folding": [
     2
    ]
   },
   "outputs": [],
   "source": [
    "target_RS = []\n",
    "out_range = []\n",
    "in_range = []\n",
    "for i, rs in enumerate(yield_rxn_syst(output_dir=directory)):\n",
    "    if rs.skip_rxn is True:\n",
    "        continue\n",
    "    if rs.max_comp_size is None:\n",
    "        continue\n",
    "    if rs.max_comp_size >= threshold[0] and rs.max_comp_size <= threshold[1]:\n",
    "        target_RS.append(rs.pkl)\n",
    "        in_range.append(rs.max_comp_size)\n",
    "    else:\n",
    "        out_range.append(rs.max_comp_size)    "
   ]
  },
  {
   "cell_type": "code",
   "execution_count": 81,
   "metadata": {},
   "outputs": [
    {
     "name": "stdout",
     "output_type": "stream",
     "text": [
      "1931 reactions in threshold\n"
     ]
    },
    {
     "data": {
      "image/png": "[encoded data removed]",
      "text/plain": [
       "<Figure size 432x288 with 1 Axes>"
      ]
     },
     "metadata": {},
     "output_type": "display_data"
    }
   ],
   "source": [
    "print(len(target_RS), 'reactions in threshold')\n",
    "fig, ax = plt.subplots()\n",
    "ax.hist(in_range, \n",
    "        facecolor='firebrick',  # '#1469b5', \n",
    "        alpha=0.8, histtype='stepfilled', bins=np.arange(0, 20, 0.2))\n",
    "ax.hist(out_range, \n",
    "        facecolor='lightgray',  # '#FF7900', \n",
    "        histtype='stepfilled', bins=np.arange(0, 20, 0.2))\n",
    "ax.tick_params(axis='both', which='major', labelsize=16)\n",
    "ax.set_xlabel('$d$ of largest component [$\\mathrm{\\AA}$]', fontsize=16)\n",
    "ax.set_ylabel('count', fontsize=16)\n",
    "ax.set_xlim(0, 15)\n",
    "fig.tight_layout()\n",
    "fig.savefig(directory+\"CS_maxd.pdf\",\n",
    "            dpi=720,\n",
    "            bbox_inches='tight')\n",
    "plt.show()"
   ]
  },
  {
   "cell_type": "markdown",
   "metadata": {},
   "source": [
    "## Step 2:\n",
    "- From the target RS:\n",
    "    - Search for reactions that show a gain or loss of a UV/Vis or IR active component\n",
    "    - searching for:\n",
    "        - terminal acetylenes: rdkit.Chem.Fragments.fr_term_acetylene\n",
    "        - nitriles: rdkit.Chem.Fragments.fr_nitrile"
   ]
  },
  {
   "cell_type": "code",
   "execution_count": 82,
   "metadata": {},
   "outputs": [],
   "source": [
    "def has_terminal_acetylene(SMILES):\n",
    "    \"\"\"Returns False if terminal acetylene fragment is not found using RDKIT.\n",
    "\n",
    "    \"\"\"\n",
    "    mol = Chem.MolFromSmiles(SMILES)\n",
    "    no_frag = Fragments.fr_term_acetylene(mol)\n",
    "    if no_frag > 0:\n",
    "        return True\n",
    "    else:\n",
    "        return False\n",
    "    \n",
    "\n",
    "def has_nitrile(SMILES):\n",
    "    \"\"\"Returns False if terminal acetylene fragment is not found using RDKIT.\n",
    "\n",
    "    \"\"\"\n",
    "    mol = Chem.MolFromSmiles(SMILES)\n",
    "    no_frag = Fragments.fr_nitrile(mol)\n",
    "    if no_frag > 0:\n",
    "        return True\n",
    "    else:\n",
    "        return False"
   ]
  },
  {
   "cell_type": "code",
   "execution_count": 135,
   "metadata": {},
   "outputs": [
    {
     "name": "stdout",
     "output_type": "stream",
     "text": [
      "------------------------------------------------------\n",
      "0 0 0 1\n",
      "4\n",
      "sRS-1_14_14_37-KEGG-R04306.gpkl\n",
      "------------------------------------------------------\n",
      "0 0 0 1\n",
      "4\n",
      "sRS-1_14_14_44-KEGG-R07638.gpkl\n",
      "------------------------------------------------------\n",
      "0 0 1 1\n",
      "sRS-1_1_3_49-KEGG-R11380.gpkl\n",
      "------------------------------------------------------\n",
      "0 0 1 1\n",
      "sRS-2_3_2_2-KEGG-R03970.gpkl\n",
      "------------------------------------------------------\n",
      "0 0 1 1\n",
      "sRS-2_3_2_2-KEGG-R03971.gpkl\n",
      "------------------------------------------------------\n",
      "0 0 1 0\n",
      "3\n",
      "sRS-3_5_5_1-KEGG-R01887.gpkl\n",
      "------------------------------------------------------\n",
      "0 0 1 0\n",
      "3\n",
      "sRS-3_5_5_1-KEGG-R03093.gpkl\n",
      "------------------------------------------------------\n",
      "0 0 1 0\n",
      "3\n",
      "sRS-3_5_5_1-KEGG-R05591.gpkl\n",
      "------------------------------------------------------\n",
      "0 0 1 0\n",
      "3\n",
      "sRS-3_5_5_1-KEGG-R07855.gpkl\n",
      "------------------------------------------------------\n",
      "0 0 1 0\n",
      "3\n",
      "sRS-3_5_5_4-KEGG-R00486.gpkl\n",
      "------------------------------------------------------\n",
      "0 0 0 1\n",
      "4\n",
      "sRS-3_5_5_4-KEGG-R01267.gpkl\n",
      "------------------------------------------------------\n",
      "0 0 1 0\n",
      "3\n",
      "sRS-3_5_5_5-KEGG-R04140.gpkl\n",
      "------------------------------------------------------\n",
      "0 0 1 1\n",
      "sRS-4_1_2_10-KEGG-R01767.gpkl\n",
      "------------------------------------------------------\n",
      "0 0 1 1\n",
      "sRS-4_1_2_11-KEGG-R02676.gpkl\n",
      "------------------------------------------------------\n",
      "0 0 1 1\n",
      "sRS-4_1_2_46-KEGG-R09358.gpkl\n",
      "------------------------------------------------------\n",
      "0 0 0 1\n",
      "4\n",
      "sRS-4_2_1_65-KEGG-R01267.gpkl\n",
      "------------------------------------------------------\n",
      "0 0 0 1\n",
      "4\n",
      "sRS-4_2_1_84-KEGG-R04020.gpkl\n",
      "------------------------------------------------------\n",
      "0 0 1 0\n",
      "3\n",
      "sRS-4_2_1_84-KEGG-R05596.gpkl\n",
      "------------------------------------------------------\n",
      "0 0 1 0\n",
      "3\n",
      "sRS-4_2_1_84-KEGG-R07854.gpkl\n",
      "------------------------------------------------------\n",
      "0 0 0 1\n",
      "4\n",
      "sRS-4_99_1_6-KEGG-R04093.gpkl\n",
      "------------------------------------------------------\n",
      "0 0 0 1\n",
      "4\n",
      "sRS-4_99_1_7-KEGG-R07638.gpkl\n",
      "------------------------------------------------------\n",
      "0 0 1 0\n",
      "3\n",
      "sRS-5_99_1_1-KEGG-R04010.gpkl\n",
      "------------------------------------------------------\n",
      "0 0 1 1\n",
      "sRS-XX_XX_XX_XX-KEGG-R01650.gpkl\n",
      "------------------------------------------------------\n",
      "0 0 0 1\n",
      "4\n",
      "sRS-XX_XX_XX_XX-KEGG-R07838.gpkl\n"
     ]
    }
   ],
   "source": [
    "target_RS_2 = []\n",
    "has_acet = 0\n",
    "has_nit = 0\n",
    "for pkl in target_RS:\n",
    "    rs = get_RS(directory+pkl, output_dir=directory, verbose=False)\n",
    "    r_acet = 0\n",
    "    r_nit = 0\n",
    "    p_acet = 0\n",
    "    p_nit = 0\n",
    "    for m in rs.components:\n",
    "        acet = has_terminal_acetylene(m.SMILES)\n",
    "        nit = has_nitrile(m.SMILES)\n",
    "        if m.role == 'reactant':\n",
    "            if acet is True:\n",
    "                r_acet += 1\n",
    "            if nit is True:\n",
    "                r_nit += 1\n",
    "        elif m.role == 'product':\n",
    "            if acet is True:\n",
    "                p_acet += 1\n",
    "            if nit is True:\n",
    "                p_nit += 1\n",
    "    if r_acet > 0 or p_acet > 0 or r_nit > 0 or p_nit >0:\n",
    "        print('------------------------------------------------------')\n",
    "        print(r_acet, p_acet, r_nit, p_nit)\n",
    "        if p_acet == 0 and r_acet > 0:\n",
    "            target_RS_2.append(rs.pkl)\n",
    "            has_acet += 1\n",
    "            print('1')\n",
    "        elif r_acet == 0 and p_acet > 0:\n",
    "            target_RS_2.append(rs.pkl)\n",
    "            has_acet += 1\n",
    "            print('2')\n",
    "        elif p_nit == 0 and r_nit > 0:\n",
    "            target_RS_2.append(rs.pkl)\n",
    "            has_nit += 1\n",
    "            print('3')\n",
    "        elif r_nit == 0 and p_nit > 0:\n",
    "            target_RS_2.append(rs.pkl)\n",
    "            has_nit += 1\n",
    "            print('4')\n",
    "        print(rs.pkl)"
   ]
  },
  {
   "cell_type": "code",
   "execution_count": 153,
   "metadata": {},
   "outputs": [
    {
     "name": "stdout",
     "output_type": "stream",
     "text": [
      "17 reactions in threshold\n"
     ]
    },
    {
     "data": {
      "image/png": "[encoded data removed]",
      "text/plain": [
       "<Figure size 432x288 with 1 Axes>"
      ]
     },
     "metadata": {},
     "output_type": "display_data"
    }
   ],
   "source": [
    "print(len(target_RS_2), 'reactions in threshold')\n",
    "fig, ax = plt.subplots()    \n",
    "# Data to plot\n",
    "labels = 'none', 'has nitrile'\n",
    "sizes = [len(target_RS), has_nit*20]\n",
    "colors = ['lightgray', 'firebrick']\n",
    "explode = (0, 0.1)  # explode 1st slice\n",
    " \n",
    "# Plot\n",
    "patches, texts = ax.pie(sizes, explode=explode, labels=labels, colors=colors,\n",
    "                        shadow=False, startangle=65)\n",
    "for i in texts:\n",
    "    i.set_fontsize(18)\n",
    "for i in patches:\n",
    "    i.set_alpha(0.8)\n",
    "ax.axis('equal')\n",
    "fig.tight_layout()\n",
    "fig.savefig(directory+\"CS_pie.pdf\",\n",
    "            dpi=720,\n",
    "            bbox_inches='tight')\n",
    "plt.show()"
   ]
  },
  {
   "cell_type": "markdown",
   "metadata": {},
   "source": [
    "## Step 3:\n",
    "- Plot the maximum logP vs. maximum logS of the remaining reactions"
   ]
  },
  {
   "cell_type": "code",
   "execution_count": 154,
   "metadata": {},
   "outputs": [
    {
     "data": {
      "image/png": "[encoded data removed]",
      "text/plain": [
       "<Figure size 432x288 with 1 Axes>"
      ]
     },
     "metadata": {},
     "output_type": "display_data"
    }
   ],
   "source": [
    "Y_cut = -1.84  # logS of pentane\n",
    "X_cut = 2.1965  # logP of pentane\n",
    "fig, ax = plt.subplots()\n",
    "for pkl in target_RS_2:\n",
    "    rs = get_RS(directory+pkl, output_dir=directory, verbose=False)\n",
    "    if rs.min_logS > Y_cut and rs.max_logP < X_cut:\n",
    "        ax.scatter(rs.max_logP, rs.min_logS, c='firebrick', alpha=0.8, s=100, edgecolor='k')\n",
    "    else:\n",
    "        ax.scatter(rs.max_logP, rs.min_logS, c='lightgray', alpha=0.8, s=100, marker='X', edgecolor='k')\n",
    "ax.tick_params(axis='both', which='major', labelsize=16)\n",
    "ax.set_xlabel('max. logP of all components', fontsize=16)\n",
    "ax.set_ylabel('min. logS$_{\\mathrm{w}}$ of all components', fontsize=16)\n",
    "ax.axhline(y=Y_cut, c='k', alpha=0.4)\n",
    "ax.axvline(x=X_cut, c='k', alpha=0.4)\n",
    "ax.set_xlim(-2, 3)\n",
    "ax.set_ylim(-4, 1)\n",
    "fig.tight_layout()\n",
    "fig.savefig(directory+\"CS_solub.pdf\",\n",
    "            dpi=720,\n",
    "            bbox_inches='tight')\n",
    "plt.show()   "
   ]
  },
  {
   "cell_type": "markdown",
   "metadata": {},
   "source": [
    "## Step 4:\n",
    "- Print each reaction (only print reactions with fully specified EC numbers)"
   ]
  },
  {
   "cell_type": "code",
   "execution_count": 159,
   "metadata": {},
   "outputs": [
    {
     "name": "stdout",
     "output_type": "stream",
     "text": [
      "---------------\n",
      "sRS-3_5_5_1-KEGG-R01887.gpkl\n",
      "EC: 3.5.5.1  --- KEGG ID: R01887\n",
      "min logS: -0.35491886800302413 max logP: 0.16199999999999998\n",
      "C05715 : 128.058577496\n",
      "C00001 : 18.010564684\n",
      "C00302 : 147.053157768\n",
      "C00014 : 17.026549096\n",
      "C05715 + C00001 <-> C00302 + C00014\n",
      "---------------\n",
      "---------------\n",
      "sRS-3_5_5_4-KEGG-R00486.gpkl\n",
      "EC: 3.5.5.4  --- KEGG ID: R00486\n",
      "min logS: 0.023729556962231432 max logP: 0.16199999999999998\n",
      "C02512 : 114.042927432\n",
      "C00001 : 18.010564684\n",
      "C00049 : 133.037507704\n",
      "C00014 : 17.026549096\n",
      "C02512 + C00001 <-> C00049 + C00014\n",
      "---------------\n",
      "---------------\n",
      "sRS-3_5_5_4-KEGG-R01267.gpkl\n",
      "EC: 3.5.5.4  --- KEGG ID: R01267\n",
      "min logS: 0.023729556962231432 max logP: -0.6880200000000001\n",
      "C00152 : 132.053492116\n",
      "C02512 : 114.042927432\n",
      "C00001 : 18.010564684\n",
      "C00152 <-> C02512 + C00001\n",
      "---------------\n",
      "---------------\n",
      "sRS-4_2_1_65-KEGG-R01267.gpkl\n",
      "EC: 4.2.1.65  --- KEGG ID: R01267\n",
      "min logS: 0.023729556962231432 max logP: -0.6880200000000001\n",
      "C00152 : 132.053492116\n",
      "C02512 : 114.042927432\n",
      "C00001 : 18.010564684\n",
      "C00152 <-> C02512 + C00001\n",
      "---------------\n"
     ]
    }
   ],
   "source": [
    "for pkl in target_RS_2:\n",
    "    rs = get_RS(directory+pkl, output_dir=directory, verbose=False)\n",
    "    if '-' in rs.EC:\n",
    "        continue\n",
    "    if rs.min_logS < Y_cut or rs.max_logP > X_cut:\n",
    "        continue\n",
    "    print('---------------')\n",
    "    print(rs.pkl)\n",
    "    print('EC:', rs.EC, ' --- KEGG ID:', rs.DB_ID)\n",
    "    print('min logS:', rs.min_logS, 'max logP:', rs.max_logP)\n",
    "    before_str = []\n",
    "    after_str = []\n",
    "    for m in rs.components:\n",
    "        if m.role == 'reactant':\n",
    "            before_str.append(m.name)\n",
    "        elif m.role == 'product':\n",
    "            after_str.append(m.name)\n",
    "        print(m.name, ':', Descriptors.ExactMolWt(Chem.MolFromSmiles(m.SMILES)))\n",
    "    print(' + '.join(before_str), '<->', ' + '.join(after_str))\n",
    "    print('---------------')"
   ]
  },
  {
   "cell_type": "markdown",
   "metadata": {},
   "source": [
    "# Done"
   ]
  },
  {
   "cell_type": "code",
   "execution_count": null,
   "metadata": {},
   "outputs": [],
   "source": []
  },
  {
   "cell_type": "code",
   "execution_count": null,
   "metadata": {},
   "outputs": [],
   "source": []
  },
  {
   "cell_type": "code",
   "execution_count": null,
   "metadata": {},
   "outputs": [],
   "source": []
  },
  {
   "cell_type": "code",
   "execution_count": null,
   "metadata": {},
   "outputs": [],
   "source": []
  },
  {
   "cell_type": "markdown",
   "metadata": {},
   "source": [
    "## Step 3 (UNUSED):\n",
    "- Select reactions with only one reactant"
   ]
  },
  {
   "cell_type": "code",
   "execution_count": 49,
   "metadata": {},
   "outputs": [],
   "source": [
    "target_RS_3 = []\n",
    "no_react_1 = []\n",
    "no_react_above = []\n",
    "for pkl in target_RS_2:\n",
    "    rs = get_RS(directory+pkl, output_dir=directory, verbose=False)\n",
    "    no_r = 0\n",
    "    for m in rs.components:\n",
    "        if m.role == 'reactant':\n",
    "            no_r += 1\n",
    "    if no_r > 1:\n",
    "        no_react_above.append(no_r)\n",
    "    elif no_r == 1:\n",
    "        no_react_1.append(no_r)\n",
    "        target_RS_3.append(rs.pkl)\n",
    "    else:\n",
    "        print('THERE IS A PROBLEM HERE!')\n",
    "        print(rs.pkl)\n",
    "        print(rs.DB_ID, rs.DB)\n",
    "        sys.exit()\n"
   ]
  },
  {
   "cell_type": "code",
   "execution_count": 50,
   "metadata": {},
   "outputs": [
    {
     "name": "stdout",
     "output_type": "stream",
     "text": [
      "73 reactions in threshold\n"
     ]
    },
    {
     "data": {
      "image/png": "[encoded data removed]",
      "text/plain": [
       "<Figure size 432x288 with 1 Axes>"
      ]
     },
     "metadata": {},
     "output_type": "display_data"
    }
   ],
   "source": [
    "print(len(target_RS_3), 'reactions in threshold')\n",
    "fig, ax = plt.subplots()    \n",
    "ax.hist(no_react_1, \n",
    "        facecolor='firebrick',  # '#1469b5', \n",
    "        alpha=0.8, histtype='stepfilled', bins=np.arange(0, 10, 1))\n",
    "ax.hist(no_react_above,  \n",
    "        facecolor='lightgray',  # '#FF7900',  \n",
    "        histtype='stepfilled', bins=np.arange(0, 10, 1))\n",
    "ax.tick_params(axis='both', which='major', labelsize=16)\n",
    "ax.set_xlabel('number of reactants', fontsize=16)\n",
    "ax.set_ylabel('count', fontsize=16)\n",
    "ax.set_xlim(0, 5)\n",
    "fig.tight_layout()\n",
    "fig.savefig(directory+\"CS_NoR.pdf\",\n",
    "            dpi=720,\n",
    "            bbox_inches='tight')\n",
    "plt.show()"
   ]
  },
  {
   "cell_type": "code",
   "execution_count": null,
   "metadata": {},
   "outputs": [],
   "source": []
  },
  {
   "cell_type": "markdown",
   "metadata": {},
   "source": [
    "## Step 2 (unused):\n",
    "- From the target RS:\n",
    "    - Plot the value added as the change in synthetic accessibility\n",
    "    - Select out reactions with a change in synthetic accessibility $>$ SA threshold"
   ]
  },
  {
   "cell_type": "code",
   "execution_count": 60,
   "metadata": {},
   "outputs": [],
   "source": [
    "SA_threshold = 1.5"
   ]
  },
  {
   "cell_type": "code",
   "execution_count": 61,
   "metadata": {},
   "outputs": [],
   "source": [
    "target_RS_2 = []\n",
    "top_delta_SA = []\n",
    "other_delta_SA = []\n",
    "for pkl in target_RS:\n",
    "    rs = get_RS(directory+pkl, output_dir=directory, verbose=False)\n",
    "    if abs(rs.delta_sa) > SA_threshold:\n",
    "        top_delta_SA.append(rs.delta_sa)\n",
    "        target_RS_2.append(rs.pkl)\n",
    "    else:\n",
    "        other_delta_SA.append(rs.delta_sa)"
   ]
  },
  {
   "cell_type": "code",
   "execution_count": 62,
   "metadata": {},
   "outputs": [
    {
     "name": "stdout",
     "output_type": "stream",
     "text": [
      "35 reactions in threshold\n"
     ]
    },
    {
     "data": {
      "image/png": "[encoded data removed]",
      "text/plain": [
       "<Figure size 432x288 with 1 Axes>"
      ]
     },
     "metadata": {},
     "output_type": "display_data"
    }
   ],
   "source": [
    "print(len(target_RS_2), 'reactions in threshold')\n",
    "fig, ax = plt.subplots()    \n",
    "ax.hist(top_delta_SA, \n",
    "        facecolor='firebrick',  # '#1469b5', \n",
    "        alpha=0.8, histtype='stepfilled', bins=np.arange(-10, 10, 0.2))\n",
    "ax.hist(other_delta_SA, \n",
    "        facecolor='lightgray',  # '#FF7900', \n",
    "        histtype='stepfilled', bins=np.arange(-10, 10, 0.2))\n",
    "ax.tick_params(axis='both', which='major', labelsize=16)\n",
    "ax.set_xlabel('$\\Delta$ SAscore', fontsize=16)\n",
    "ax.set_ylabel('count', fontsize=16)\n",
    "ax.set_xlim(-10, 10)\n",
    "fig.tight_layout()\n",
    "fig.savefig(directory+\"CS_changeSA.pdf\",\n",
    "            dpi=720,\n",
    "            bbox_inches='tight')\n",
    "plt.show()"
   ]
  }
 ],
 "metadata": {
  "kernelspec": {
   "display_name": "Python 3",
   "language": "python",
   "name": "python3"
  },
  "language_info": {
   "codemirror_mode": {
    "name": "ipython",
    "version": 3
   },
   "file_extension": ".py",
   "mimetype": "text/x-python",
   "name": "python",
   "nbconvert_exporter": "python",
   "pygments_lexer": "ipython3",
   "version": "3.6.5"
  }
 },
 "nbformat": 4,
 "nbformat_minor": 2
}
