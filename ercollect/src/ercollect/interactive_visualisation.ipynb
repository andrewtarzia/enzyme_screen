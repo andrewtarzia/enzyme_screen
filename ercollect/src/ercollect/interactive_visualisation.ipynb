{
 "cells": [
  {
   "cell_type": "code",
   "execution_count": 52,
   "metadata": {
    "ExecuteTime": {
     "end_time": "2018-11-08T00:04:02.672134Z",
     "start_time": "2018-11-08T00:04:02.625600Z"
    }
   },
   "outputs": [
    {
     "data": {
      "text/html": [
       "<style>.container { width:95% !important; }</style>"
      ],
      "text/plain": [
       "<IPython.core.display.HTML object>"
      ]
     },
     "metadata": {},
     "output_type": "display_data"
    },
    {
     "name": "stdout",
     "output_type": "stream",
     "text": [
      "The autoreload extension is already loaded. To reload it, use:\n",
      "  %reload_ext autoreload\n"
     ]
    }
   ],
   "source": [
    "from IPython.core.display import HTML\n",
    "display(HTML(\"<style>.container { width:95% !important; }</style>\"))\n",
    "%load_ext autoreload\n",
    "%autoreload 1"
   ]
  },
  {
   "cell_type": "markdown",
   "metadata": {},
   "source": [
    "Author: Andrew Tarzia\n",
    "\n",
    "Date Created: 12 Jul 2018\n",
    "\n",
    "Distributed under the terms of the MIT License."
   ]
  },
  {
   "cell_type": "markdown",
   "metadata": {},
   "source": [
    "# Notebook for specific visualization of molecules using RDKIT and other functions"
   ]
  },
  {
   "cell_type": "code",
   "execution_count": 53,
   "metadata": {
    "ExecuteTime": {
     "end_time": "2018-11-08T00:04:05.809336Z",
     "start_time": "2018-11-08T00:04:04.989457Z"
    }
   },
   "outputs": [],
   "source": [
    "import numpy as np\n",
    "import pandas as pd\n",
    "import os\n",
    "from rdkit.Chem import AllChem as Chem\n",
    "from rdkit.Chem import Descriptors\n",
    "from rdkit.Chem.Descriptors3D import NPR1, NPR2, PMI1, PMI2, PMI3\n",
    "from rdkit.Chem.Draw.MolDrawing import MolDrawing\n",
    "from rdkit.Chem.Draw import IPythonConsole\n",
    "from rdkit.Chem import Draw\n",
    "from rdkit.Geometry import rdGeometry\n",
    "from rdkit.Chem import PyMol\n",
    "import py3Dmol\n",
    "from ipywidgets import interact, interactive, fixed\n",
    "from rdkit import Geometry\n",
    "import tempfile\n",
    "import matplotlib.pyplot as plt\n",
    "%aimport ercollect.rdkit_functions\n",
    "%aimport ercollect.ellipsoid"
   ]
  },
  {
   "cell_type": "code",
   "execution_count": 40,
   "metadata": {
    "ExecuteTime": {
     "end_time": "2018-11-08T00:04:07.886179Z",
     "start_time": "2018-11-08T00:04:07.870806Z"
    }
   },
   "outputs": [],
   "source": [
    "def drawit(m, p, confId=-1):\n",
    "    mb = Chem.MolToMolBlock(m, confId=confId)\n",
    "    p.removeAllModels()\n",
    "    p.addModel(mb,'sdf')\n",
    "    p.setStyle({'stick':{}})\n",
    "    p.setBackgroundColor('0xeeeeee')\n",
    "    p.zoomTo()\n",
    "    return p.show()\n",
    "\n",
    "\n",
    "def drawit2(m, p, confId=-1):\n",
    "    mb = Chem.MolToMolBlock(m, confId=confId)\n",
    "    p.addModel(mb, 'sdf')\n",
    "    p.setStyle({'stick':{}})\n",
    "    p.setBackgroundColor('0xeeeeee')\n",
    "    p.zoomTo()"
   ]
  },
  {
   "cell_type": "markdown",
   "metadata": {},
   "source": [
    "## visualize molecules for Figure"
   ]
  },
  {
   "cell_type": "code",
   "execution_count": 41,
   "metadata": {
    "ExecuteTime": {
     "end_time": "2018-10-31T11:46:25.891378Z",
     "start_time": "2018-10-31T11:46:25.882281Z"
    }
   },
   "outputs": [],
   "source": [
    "molecules = {'ethanol': 'CCO',\n",
    "             'cyclohexane': 'C1CCCCC1'}"
   ]
  },
  {
   "cell_type": "code",
   "execution_count": 42,
   "metadata": {
    "ExecuteTime": {
     "end_time": "2018-10-31T11:56:20.563342Z",
     "start_time": "2018-10-31T11:46:32.105553Z"
    }
   },
   "outputs": [
    {
     "name": "stdout",
     "output_type": "stream",
     "text": [
      "run 'pymol -R' to visualise structures\n",
      "visualisation will be skipped\n"
     ]
    },
    {
     "ename": "UnboundLocalError",
     "evalue": "local variable 'v' referenced before assignment",
     "output_type": "error",
     "traceback": [
      "\u001b[0;31m---------------------------------------------------------------------------\u001b[0m",
      "\u001b[0;31mUnboundLocalError\u001b[0m                         Traceback (most recent call last)",
      "\u001b[0;32m<ipython-input-42-ab05a13d59f6>\u001b[0m in \u001b[0;36m<module>\u001b[0;34m()\u001b[0m\n\u001b[1;32m      7\u001b[0m                                            \u001b[0mMW_thresh\u001b[0m\u001b[0;34m=\u001b[0m\u001b[0;36m130\u001b[0m\u001b[0;34m,\u001b[0m \u001b[0mshow_vdw\u001b[0m\u001b[0;34m=\u001b[0m\u001b[0;32mTrue\u001b[0m\u001b[0;34m,\u001b[0m\u001b[0;34m\u001b[0m\u001b[0m\n\u001b[1;32m      8\u001b[0m                                            \u001b[0mplot_ellip\u001b[0m\u001b[0;34m=\u001b[0m\u001b[0;32mFalse\u001b[0m\u001b[0;34m,\u001b[0m\u001b[0;34m\u001b[0m\u001b[0m\n\u001b[0;32m----> 9\u001b[0;31m                                            N_conformers=1)\n\u001b[0m\u001b[1;32m     10\u001b[0m     \u001b[0minput\u001b[0m\u001b[0;34m(\u001b[0m\u001b[0;34m'done?'\u001b[0m\u001b[0;34m)\u001b[0m\u001b[0;34m\u001b[0m\u001b[0m\n",
      "\u001b[0;32m~/psp/psp_source/ercollect/src/ercollect/rdkit_functions.py\u001b[0m in \u001b[0;36mcalc_molecule_diameter\u001b[0;34m(name, smile, vdwScale, boxMargin, spacing, MW_thresh, N_conformers, out_dir, show_vdw, plot_ellip)\u001b[0m\n\u001b[1;32m    608\u001b[0m                                                 \u001b[0mspacing\u001b[0m\u001b[0;34m=\u001b[0m\u001b[0mspacing\u001b[0m\u001b[0;34m,\u001b[0m\u001b[0;34m\u001b[0m\u001b[0m\n\u001b[1;32m    609\u001b[0m                                                 \u001b[0mshow\u001b[0m\u001b[0;34m=\u001b[0m\u001b[0mshow_vdw\u001b[0m\u001b[0;34m,\u001b[0m\u001b[0;34m\u001b[0m\u001b[0m\n\u001b[0;32m--> 610\u001b[0;31m                                                 plot=plot_ellip)\n\u001b[0m\u001b[1;32m    611\u001b[0m \u001b[0;34m\u001b[0m\u001b[0m\n\u001b[1;32m    612\u001b[0m     res = write_molecule_results(out_file, cids,\n",
      "\u001b[0;32m~/psp/psp_source/ercollect/src/ercollect/rdkit_functions.py\u001b[0m in \u001b[0;36mget_ellip_diameters\u001b[0;34m(mol, cids, vdwScale, boxMargin, spacing, show, plot)\u001b[0m\n\u001b[1;32m    449\u001b[0m                 \u001b[0mprint\u001b[0m\u001b[0;34m(\u001b[0m\u001b[0;34m\"run 'pymol -R' to visualise structures\"\u001b[0m\u001b[0;34m)\u001b[0m\u001b[0;34m\u001b[0m\u001b[0m\n\u001b[1;32m    450\u001b[0m                 \u001b[0mprint\u001b[0m\u001b[0;34m(\u001b[0m\u001b[0;34m'visualisation will be skipped'\u001b[0m\u001b[0;34m)\u001b[0m\u001b[0;34m\u001b[0m\u001b[0m\n\u001b[0;32m--> 451\u001b[0;31m             \u001b[0mshow_shape\u001b[0m\u001b[0;34m(\u001b[0m\u001b[0mv\u001b[0m\u001b[0;34m,\u001b[0m \u001b[0mmol\u001b[0m\u001b[0;34m,\u001b[0m \u001b[0mconfId\u001b[0m\u001b[0;34m,\u001b[0m \u001b[0mshape\u001b[0m\u001b[0;34m)\u001b[0m\u001b[0;34m\u001b[0m\u001b[0m\n\u001b[0m\u001b[1;32m    452\u001b[0m             \u001b[0mv\u001b[0m\u001b[0;34m.\u001b[0m\u001b[0mserver\u001b[0m\u001b[0;34m.\u001b[0m\u001b[0mdo\u001b[0m\u001b[0;34m(\u001b[0m\u001b[0;34m'set transparency=0.5'\u001b[0m\u001b[0;34m)\u001b[0m\u001b[0;34m\u001b[0m\u001b[0m\n\u001b[1;32m    453\u001b[0m \u001b[0;34m\u001b[0m\u001b[0m\n",
      "\u001b[0;31mUnboundLocalError\u001b[0m: local variable 'v' referenced before assignment"
     ]
    }
   ],
   "source": [
    "for name, smile in molecules.items():\n",
    "    m = Chem.MolFromSmiles(smile)\n",
    "    Draw.MolToFile(m, '/home/atarzia/psp/documents/psp_paper/figures/'+name+'.png')\n",
    "    ercollect.rdkit_functions.calc_molecule_diameter(name, smile, out_dir='./',\n",
    "                                           vdwScale=0.8, \n",
    "                                           boxMargin=6.0, spacing=0.3,\n",
    "                                           MW_thresh=130, show_vdw=True, \n",
    "                                           plot_ellip=False,\n",
    "                                           N_conformers=1)\n",
    "    input('done?')"
   ]
  },
  {
   "cell_type": "markdown",
   "metadata": {},
   "source": [
    "##  visualize all conformers of a molecule"
   ]
  },
  {
   "cell_type": "code",
   "execution_count": null,
   "metadata": {
    "ExecuteTime": {
     "end_time": "2018-10-31T10:19:28.003072Z",
     "start_time": "2018-10-31T10:19:27.990543Z"
    }
   },
   "outputs": [],
   "source": [
    "molecules = {'m-xylene': 'CC1=CC(=CC=C1)C'}"
   ]
  },
  {
   "cell_type": "code",
   "execution_count": null,
   "metadata": {
    "ExecuteTime": {
     "end_time": "2018-10-31T10:19:30.102425Z",
     "start_time": "2018-10-31T10:19:30.043196Z"
    }
   },
   "outputs": [],
   "source": [
    "for name, smile in molecules.items():\n",
    "    # if name != 'MIM':\n",
    "    #     continue\n",
    "    m = Chem.MolFromSmiles(smile)\n",
    "    m = Chem.AddHs(m)\n",
    "    Chem.EmbedMultipleConfs(m, numConfs=10, randomSeed=0xf00d, \n",
    "                            useExpTorsionAnglePrefs=True,\n",
    "                            useBasicKnowledge=True)\n",
    "    p = py3Dmol.view(width=400,height=400)\n",
    "    interact(drawit, m=fixed(m),p=fixed(p),confId=(0,m.GetNumConformers()-1))"
   ]
  },
  {
   "cell_type": "code",
   "execution_count": null,
   "metadata": {},
   "outputs": [],
   "source": [
    "m"
   ]
  },
  {
   "cell_type": "code",
   "execution_count": null,
   "metadata": {
    "ExecuteTime": {
     "end_time": "2018-09-11T06:01:58.396423Z",
     "start_time": "2018-09-11T06:01:57.759990Z"
    }
   },
   "outputs": [],
   "source": [
    "for name, smile in molecules.items():\n",
    "    # if name != '1,9-dichlorononane':\n",
    "    #     continue\n",
    "    m = Chem.MolFromSmiles(smile)\n",
    "    m = Chem.AddHs(m)\n",
    "    Chem.EmbedMultipleConfs(m, numConfs=10, randomSeed=0xf00d, \n",
    "                            useExpTorsionAnglePrefs=True,\n",
    "                            useBasicKnowledge=True)\n",
    "    p = py3Dmol.view(width=400,height=400)\n",
    "    for confId in range(10):\n",
    "        drawit2(m,p,confId)\n",
    "    p.show()"
   ]
  },
  {
   "cell_type": "markdown",
   "metadata": {},
   "source": [
    "##  Get molecular size of a test molecule"
   ]
  },
  {
   "cell_type": "code",
   "execution_count": 62,
   "metadata": {
    "ExecuteTime": {
     "end_time": "2018-11-10T02:10:22.575818Z",
     "start_time": "2018-11-10T02:09:48.357612Z"
    }
   },
   "outputs": [
    {
     "name": "stdout",
     "output_type": "stream",
     "text": [
      "(4.9942255982989865, 5.571896095439993, 5.408878837707875, 0.24553383742723764, 6.300050144088248, 0.528115120159512)\n"
     ]
    }
   ],
   "source": [
    "name, smiles = 'n-octane', 'CCCCCCCC' # 'n-hexane', 'CCCCCC'\n",
    "output_dir = '/home/atarzia/psp/molecule_DBs/atarzia/'\n",
    "res = ercollect.rdkit_functions.calc_molecule_diameter(name, smiles, out_dir=output_dir,\n",
    "                                             MW_thresh=2000, \n",
    "                                             vdwScale=0.8, \n",
    "                                             boxMargin=4.0,\n",
    "                                             spacing=0.4, \n",
    "                                             show_vdw=False, plot_ellip=False,\n",
    "                                             N_conformers=50)\n",
    "\n",
    "min_min = min(res.diam1)\n",
    "min_mid = min(res.diam2)\n",
    "min_diam_avg = np.average(res['diam1'])\n",
    "min_diam_std = np.std(res['diam1'])\n",
    "mid_diam_avg = np.average(res['diam2'])\n",
    "mid_diam_std = np.std(res['diam2'])\n",
    "result = (min_min, min_mid, min_diam_avg, min_diam_std,\n",
    "          mid_diam_avg, mid_diam_std)\n",
    "print(result)    "
   ]
  },
  {
   "cell_type": "code",
   "execution_count": null,
   "metadata": {},
   "outputs": [],
   "source": [
    "X = [4, 8]\n",
    "Y = [5.164421506520693, 5.311863731012572]\n",
    "\n",
    "X = [4, 8]\n",
    "Y = [5.571896095439993, 5.571896095439993]"
   ]
  },
  {
   "cell_type": "code",
   "execution_count": null,
   "metadata": {},
   "outputs": [],
   "source": []
  },
  {
   "cell_type": "code",
   "execution_count": null,
   "metadata": {},
   "outputs": [],
   "source": []
  },
  {
   "cell_type": "code",
   "execution_count": null,
   "metadata": {
    "ExecuteTime": {
     "end_time": "2018-11-10T02:10:22.604398Z",
     "start_time": "2018-11-10T02:10:22.578035Z"
    }
   },
   "outputs": [],
   "source": [
    "Chem.MolFromSmiles(smiles)"
   ]
  },
  {
   "cell_type": "markdown",
   "metadata": {},
   "source": [
    "## visualise the ellipsoid around a desired molecule"
   ]
  },
  {
   "cell_type": "code",
   "execution_count": 54,
   "metadata": {
    "ExecuteTime": {
     "end_time": "2018-11-01T14:24:56.570159Z",
     "start_time": "2018-11-01T14:24:56.545503Z"
    }
   },
   "outputs": [],
   "source": [
    "molecules = {'n-octane': 'CCCCCCCC'}\n",
    "#              'ethanol': 'CCO',\n",
    "#              'n-hexane': 'CCCCCC',\n",
    "#              'cyclohexane': 'C1CCCCC1',\n",
    "#              'para-xylene': 'Cc1ccc(C)cc1',\n",
    "#              'n-decanoic acid': 'CCCCCCCCCC(=O)O'}\n",
    "diameters = {}\n",
    "for name in molecules.keys():\n",
    "    diameters[name] = 0\n",
    "output_dir = '/home/atarzia/psp/molecule_param/'"
   ]
  },
  {
   "cell_type": "code",
   "execution_count": 44,
   "metadata": {
    "ExecuteTime": {
     "end_time": "2018-11-10T02:13:05.748778Z",
     "start_time": "2018-11-10T02:12:37.878218Z"
    }
   },
   "outputs": [
    {
     "data": {
      "application/3dmoljs_load.v0": "<div id=\"3dmolviewer_15432256697568948\"  style=\"position: relative; width: 400px; height: 400px\">\n        <p id=\"3dmolwarning_15432256697568948\" style=\"background-color:#ffcccc;color:black\">You appear to be running in JupyterLab.  You need to install the 3dmol extension: <br>\n        <tt>jupyter labextension install jupyterlab_3dmol</tt></p>\n        </div>\n<script>\n\nvar loadScriptAsync = function(uri){\n  return new Promise((resolve, reject) => {\n    var tag = document.createElement('script');\n    tag.src = uri;\n    tag.async = true;\n    tag.onload = () => {\n      resolve();\n    };\n  var firstScriptTag = document.getElementsByTagName('script')[0];\n  firstScriptTag.parentNode.insertBefore(tag, firstScriptTag);\n});\n};\n\nif(typeof $3Dmolpromise === 'undefined') {\n$3Dmolpromise = null;\n  $3Dmolpromise = loadScriptAsync('https://3dmol.csb.pitt.edu/build/3Dmol.js');\n}\n\nvar viewer_15432256697568948 = null;\nvar warn = document.getElementById(\"3dmolwarning_15432256697568948\");\nif(warn) {\n    warn.parentNode.removeChild(warn);\n}\n$3Dmolpromise.then(function() {\nviewer_15432256697568948 = $3Dmol.createViewer($(\"#3dmolviewer_15432256697568948\"),{backgroundColor:\"white\"});\n\tviewer_15432256697568948.addModel(\"\\n     RDKit          3D\\n\\n 26 25  0  0  0  0  0  0  0  0999 V2000\\n   -3.5583    0.9362   -0.6282 C   0  0  0  0  0  0  0  0  0  0  0  0\\n   -3.2713   -0.2875    0.1796 C   0  0  0  0  0  0  0  0  0  0  0  0\\n   -1.8930   -0.8554   -0.0754 C   0  0  0  0  0  0  0  0  0  0  0  0\\n   -0.8054    0.1412    0.2582 C   0  0  0  0  0  0  0  0  0  0  0  0\\n    0.5180   -0.5211   -0.0299 C   0  0  0  0  0  0  0  0  0  0  0  0\\n    1.6927    0.3870    0.2679 C   0  0  0  0  0  0  0  0  0  0  0  0\\n    2.9462   -0.4222   -0.0722 C   0  0  0  0  0  0  0  0  0  0  0  0\\n    4.2033    0.3485    0.1720 C   0  0  0  0  0  0  0  0  0  0  0  0\\n   -3.2241    1.8527   -0.1006 H   0  0  0  0  0  0  0  0  0  0  0  0\\n   -3.1234    0.8423   -1.6286 H   0  0  0  0  0  0  0  0  0  0  0  0\\n   -4.6688    1.0031   -0.7630 H   0  0  0  0  0  0  0  0  0  0  0  0\\n   -3.9948   -1.0792   -0.1468 H   0  0  0  0  0  0  0  0  0  0  0  0\\n   -3.4195   -0.1637    1.2582 H   0  0  0  0  0  0  0  0  0  0  0  0\\n   -1.7748   -1.1227   -1.1439 H   0  0  0  0  0  0  0  0  0  0  0  0\\n   -1.7708   -1.7404    0.5664 H   0  0  0  0  0  0  0  0  0  0  0  0\\n   -0.8452    0.2852    1.3763 H   0  0  0  0  0  0  0  0  0  0  0  0\\n   -0.9252    1.1102   -0.2196 H   0  0  0  0  0  0  0  0  0  0  0  0\\n    0.6421   -1.4166    0.6050 H   0  0  0  0  0  0  0  0  0  0  0  0\\n    0.5760   -0.8065   -1.0858 H   0  0  0  0  0  0  0  0  0  0  0  0\\n    1.7055    0.7712    1.2881 H   0  0  0  0  0  0  0  0  0  0  0  0\\n    1.6823    1.2511   -0.4506 H   0  0  0  0  0  0  0  0  0  0  0  0\\n    2.9378   -1.3096    0.6252 H   0  0  0  0  0  0  0  0  0  0  0  0\\n    2.8229   -0.8009   -1.0845 H   0  0  0  0  0  0  0  0  0  0  0  0\\n    4.8795    0.1698   -0.7027 H   0  0  0  0  0  0  0  0  0  0  0  0\\n    3.9561    1.4116    0.2549 H   0  0  0  0  0  0  0  0  0  0  0  0\\n    4.7123    0.0156    1.1152 H   0  0  0  0  0  0  0  0  0  0  0  0\\n  1  2  1  0\\n  2  3  1  0\\n  3  4  1  0\\n  4  5  1  0\\n  5  6  1  0\\n  6  7  1  0\\n  7  8  1  0\\n  1  9  1  0\\n  1 10  1  0\\n  1 11  1  0\\n  2 12  1  0\\n  2 13  1  0\\n  3 14  1  0\\n  3 15  1  0\\n  4 16  1  0\\n  4 17  1  0\\n  5 18  1  0\\n  5 19  1  0\\n  6 20  1  0\\n  6 21  1  0\\n  7 22  1  0\\n  7 23  1  0\\n  8 24  1  0\\n  8 25  1  0\\n  8 26  1  0\\nM  END\\n\",\"sdf\");\n\tviewer_15432256697568948.setStyle({\"stick\": {}});\n\tviewer_15432256697568948.setBackgroundColor(\"0xeeeeee\");\n\tviewer_15432256697568948.zoomTo();\n\tviewer_15432256697568948.addModel(\"\\n     RDKit          3D\\n\\n 26 25  0  0  0  0  0  0  0  0999 V2000\\n    3.9815    0.8090    0.1197 C   0  0  0  0  0  0  0  0  0  0  0  0\\n    2.9514   -0.0585   -0.6177 C   0  0  0  0  0  0  0  0  0  0  0  0\\n    1.6169    0.2463    0.0207 C   0  0  0  0  0  0  0  0  0  0  0  0\\n    0.5478   -0.5989   -0.6832 C   0  0  0  0  0  0  0  0  0  0  0  0\\n   -0.7568   -0.2646   -0.0186 C   0  0  0  0  0  0  0  0  0  0  0  0\\n   -1.9207   -1.0198   -0.6007 C   0  0  0  0  0  0  0  0  0  0  0  0\\n   -3.1661   -0.5763    0.1726 C   0  0  0  0  0  0  0  0  0  0  0  0\\n   -3.3954    0.8952    0.0396 C   0  0  0  0  0  0  0  0  0  0  0  0\\n    4.9486    0.6324   -0.3805 H   0  0  0  0  0  0  0  0  0  0  0  0\\n    3.9789    0.5301    1.1929 H   0  0  0  0  0  0  0  0  0  0  0  0\\n    3.6329    1.8578    0.0408 H   0  0  0  0  0  0  0  0  0  0  0  0\\n    3.1499   -1.1317   -0.4663 H   0  0  0  0  0  0  0  0  0  0  0  0\\n    2.9230    0.1876   -1.6875 H   0  0  0  0  0  0  0  0  0  0  0  0\\n    1.4004    1.3295   -0.1092 H   0  0  0  0  0  0  0  0  0  0  0  0\\n    1.6654    0.0224    1.0895 H   0  0  0  0  0  0  0  0  0  0  0  0\\n    0.5640   -0.3883   -1.7537 H   0  0  0  0  0  0  0  0  0  0  0  0\\n    0.8395   -1.6581   -0.5091 H   0  0  0  0  0  0  0  0  0  0  0  0\\n   -0.9594    0.8065   -0.1338 H   0  0  0  0  0  0  0  0  0  0  0  0\\n   -0.6736   -0.5096    1.0450 H   0  0  0  0  0  0  0  0  0  0  0  0\\n   -2.0540   -0.8929   -1.6754 H   0  0  0  0  0  0  0  0  0  0  0  0\\n   -1.7342   -2.0966   -0.4154 H   0  0  0  0  0  0  0  0  0  0  0  0\\n   -3.0686   -0.8182    1.2473 H   0  0  0  0  0  0  0  0  0  0  0  0\\n   -4.0427   -1.1664   -0.1921 H   0  0  0  0  0  0  0  0  0  0  0  0\\n   -3.0941    1.3041   -0.9306 H   0  0  0  0  0  0  0  0  0  0  0  0\\n   -4.4802    1.0827    0.2393 H   0  0  0  0  0  0  0  0  0  0  0  0\\n   -2.8543    1.4763    0.8317 H   0  0  0  0  0  0  0  0  0  0  0  0\\n  1  2  1  0\\n  2  3  1  0\\n  3  4  1  0\\n  4  5  1  0\\n  5  6  1  0\\n  6  7  1  0\\n  7  8  1  0\\n  1  9  1  0\\n  1 10  1  0\\n  1 11  1  0\\n  2 12  1  0\\n  2 13  1  0\\n  3 14  1  0\\n  3 15  1  0\\n  4 16  1  0\\n  4 17  1  0\\n  5 18  1  0\\n  5 19  1  0\\n  6 20  1  0\\n  6 21  1  0\\n  7 22  1  0\\n  7 23  1  0\\n  8 24  1  0\\n  8 25  1  0\\n  8 26  1  0\\nM  END\\n\",\"sdf\");\n\tviewer_15432256697568948.setStyle({\"stick\": {}});\n\tviewer_15432256697568948.setBackgroundColor(\"0xeeeeee\");\n\tviewer_15432256697568948.zoomTo();\n\tviewer_15432256697568948.addModel(\"\\n     RDKit          3D\\n\\n 26 25  0  0  0  0  0  0  0  0999 V2000\\n    4.3043    0.3636   -0.3056 C   0  0  0  0  0  0  0  0  0  0  0  0\\n    3.0195   -0.4000   -0.2525 C   0  0  0  0  0  0  0  0  0  0  0  0\\n    1.8538    0.5601   -0.3148 C   0  0  0  0  0  0  0  0  0  0  0  0\\n    0.5921   -0.2662   -0.2581 C   0  0  0  0  0  0  0  0  0  0  0  0\\n   -0.6552    0.6105   -0.3148 C   0  0  0  0  0  0  0  0  0  0  0  0\\n   -1.8276   -0.3285   -0.2507 C   0  0  0  0  0  0  0  0  0  0  0  0\\n   -3.1558    0.3822   -0.2962 C   0  0  0  0  0  0  0  0  0  0  0  0\\n   -4.2303   -0.7064   -0.2223 C   0  0  0  0  0  0  0  0  0  0  0  0\\n    5.1258   -0.1822    0.2170 H   0  0  0  0  0  0  0  0  0  0  0  0\\n    4.5741    0.5255   -1.3703 H   0  0  0  0  0  0  0  0  0  0  0  0\\n    4.1775    1.3646    0.1502 H   0  0  0  0  0  0  0  0  0  0  0  0\\n    2.9753   -1.1648   -1.0357 H   0  0  0  0  0  0  0  0  0  0  0  0\\n    3.0044   -0.9618    0.7260 H   0  0  0  0  0  0  0  0  0  0  0  0\\n    1.8362    1.2274    0.5707 H   0  0  0  0  0  0  0  0  0  0  0  0\\n    1.8866    1.0933   -1.2667 H   0  0  0  0  0  0  0  0  0  0  0  0\\n    0.5256   -0.8235    0.7089 H   0  0  0  0  0  0  0  0  0  0  0  0\\n    0.5931   -0.9867   -1.1016 H   0  0  0  0  0  0  0  0  0  0  0  0\\n   -0.6210    1.3261    0.5236 H   0  0  0  0  0  0  0  0  0  0  0  0\\n   -0.6758    1.1999   -1.2698 H   0  0  0  0  0  0  0  0  0  0  0  0\\n   -1.7333   -0.9125    0.6844 H   0  0  0  0  0  0  0  0  0  0  0  0\\n   -1.7538   -1.0046   -1.1270 H   0  0  0  0  0  0  0  0  0  0  0  0\\n   -3.2534    1.0642    0.5705 H   0  0  0  0  0  0  0  0  0  0  0  0\\n   -3.2574    0.8943   -1.2704 H   0  0  0  0  0  0  0  0  0  0  0  0\\n   -5.1346   -0.2579    0.1921 H   0  0  0  0  0  0  0  0  0  0  0  0\\n   -4.3424   -1.0959   -1.2563 H   0  0  0  0  0  0  0  0  0  0  0  0\\n   -3.8276   -1.5206    0.4483 H   0  0  0  0  0  0  0  0  0  0  0  0\\n  1  2  1  0\\n  2  3  1  0\\n  3  4  1  0\\n  4  5  1  0\\n  5  6  1  0\\n  6  7  1  0\\n  7  8  1  0\\n  1  9  1  0\\n  1 10  1  0\\n  1 11  1  0\\n  2 12  1  0\\n  2 13  1  0\\n  3 14  1  0\\n  3 15  1  0\\n  4 16  1  0\\n  4 17  1  0\\n  5 18  1  0\\n  5 19  1  0\\n  6 20  1  0\\n  6 21  1  0\\n  7 22  1  0\\n  7 23  1  0\\n  8 24  1  0\\n  8 25  1  0\\n  8 26  1  0\\nM  END\\n\",\"sdf\");\n\tviewer_15432256697568948.setStyle({\"stick\": {}});\n\tviewer_15432256697568948.setBackgroundColor(\"0xeeeeee\");\n\tviewer_15432256697568948.zoomTo();\n\tviewer_15432256697568948.addModel(\"\\n     RDKit          3D\\n\\n 26 25  0  0  0  0  0  0  0  0999 V2000\\n    3.5944   -0.3184    1.4017 C   0  0  0  0  0  0  0  0  0  0  0  0\\n    2.8331   -0.2922    0.1222 C   0  0  0  0  0  0  0  0  0  0  0  0\\n    1.4104    0.2457    0.2949 C   0  0  0  0  0  0  0  0  0  0  0  0\\n    0.7925    0.1988   -1.1012 C   0  0  0  0  0  0  0  0  0  0  0  0\\n   -0.6228    0.7062   -1.0884 C   0  0  0  0  0  0  0  0  0  0  0  0\\n   -1.4403   -0.1566   -0.1654 C   0  0  0  0  0  0  0  0  0  0  0  0\\n   -2.8707    0.3834   -0.1765 C   0  0  0  0  0  0  0  0  0  0  0  0\\n   -3.6832   -0.4851    0.7497 C   0  0  0  0  0  0  0  0  0  0  0  0\\n    3.2086    0.4913    2.0653 H   0  0  0  0  0  0  0  0  0  0  0  0\\n    3.5167   -1.2574    1.9716 H   0  0  0  0  0  0  0  0  0  0  0  0\\n    4.6754   -0.0477    1.2276 H   0  0  0  0  0  0  0  0  0  0  0  0\\n    3.3213    0.4083   -0.5982 H   0  0  0  0  0  0  0  0  0  0  0  0\\n    2.7273   -1.2702   -0.3709 H   0  0  0  0  0  0  0  0  0  0  0  0\\n    0.9031   -0.4761    0.9619 H   0  0  0  0  0  0  0  0  0  0  0  0\\n    1.3874    1.2420    0.7363 H   0  0  0  0  0  0  0  0  0  0  0  0\\n    1.4217    0.7560   -1.8251 H   0  0  0  0  0  0  0  0  0  0  0  0\\n    0.8381   -0.8635   -1.4098 H   0  0  0  0  0  0  0  0  0  0  0  0\\n   -1.0191    0.6807   -2.1108 H   0  0  0  0  0  0  0  0  0  0  0  0\\n   -0.6792    1.7429   -0.7169 H   0  0  0  0  0  0  0  0  0  0  0  0\\n   -1.0985   -0.1301    0.8676 H   0  0  0  0  0  0  0  0  0  0  0  0\\n   -1.5142   -1.2088   -0.5058 H   0  0  0  0  0  0  0  0  0  0  0  0\\n   -2.8218    1.4327    0.1489 H   0  0  0  0  0  0  0  0  0  0  0  0\\n   -3.2158    0.2739   -1.2398 H   0  0  0  0  0  0  0  0  0  0  0  0\\n   -4.3746   -1.1274    0.1745 H   0  0  0  0  0  0  0  0  0  0  0  0\\n   -4.2530    0.1951    1.4169 H   0  0  0  0  0  0  0  0  0  0  0  0\\n   -3.0367   -1.1235    1.4075 H   0  0  0  0  0  0  0  0  0  0  0  0\\n  1  2  1  0\\n  2  3  1  0\\n  3  4  1  0\\n  4  5  1  0\\n  5  6  1  0\\n  6  7  1  0\\n  7  8  1  0\\n  1  9  1  0\\n  1 10  1  0\\n  1 11  1  0\\n  2 12  1  0\\n  2 13  1  0\\n  3 14  1  0\\n  3 15  1  0\\n  4 16  1  0\\n  4 17  1  0\\n  5 18  1  0\\n  5 19  1  0\\n  6 20  1  0\\n  6 21  1  0\\n  7 22  1  0\\n  7 23  1  0\\n  8 24  1  0\\n  8 25  1  0\\n  8 26  1  0\\nM  END\\n\",\"sdf\");\n\tviewer_15432256697568948.setStyle({\"stick\": {}});\n\tviewer_15432256697568948.setBackgroundColor(\"0xeeeeee\");\n\tviewer_15432256697568948.zoomTo();\nviewer_15432256697568948.render();\n});\n</script>",
      "text/html": [
       "<div id=\"3dmolviewer_15432256697568948\"  style=\"position: relative; width: 400px; height: 400px\">\n",
       "        <p id=\"3dmolwarning_15432256697568948\" style=\"background-color:#ffcccc;color:black\">You appear to be running in JupyterLab.  You need to install the 3dmol extension: <br>\n",
       "        <tt>jupyter labextension install jupyterlab_3dmol</tt></p>\n",
       "        </div>\n",
       "<script>\n",
       "\n",
       "var loadScriptAsync = function(uri){\n",
       "  return new Promise((resolve, reject) => {\n",
       "    var tag = document.createElement('script');\n",
       "    tag.src = uri;\n",
       "    tag.async = true;\n",
       "    tag.onload = () => {\n",
       "      resolve();\n",
       "    };\n",
       "  var firstScriptTag = document.getElementsByTagName('script')[0];\n",
       "  firstScriptTag.parentNode.insertBefore(tag, firstScriptTag);\n",
       "});\n",
       "};\n",
       "\n",
       "if(typeof $3Dmolpromise === 'undefined') {\n",
       "$3Dmolpromise = null;\n",
       "  $3Dmolpromise = loadScriptAsync('https://3dmol.csb.pitt.edu/build/3Dmol.js');\n",
       "}\n",
       "\n",
       "var viewer_15432256697568948 = null;\n",
       "var warn = document.getElementById(\"3dmolwarning_15432256697568948\");\n",
       "if(warn) {\n",
       "    warn.parentNode.removeChild(warn);\n",
       "}\n",
       "$3Dmolpromise.then(function() {\n",
       "viewer_15432256697568948 = $3Dmol.createViewer($(\"#3dmolviewer_15432256697568948\"),{backgroundColor:\"white\"});\n",
       "\tviewer_15432256697568948.addModel(\"\\n     RDKit          3D\\n\\n 26 25  0  0  0  0  0  0  0  0999 V2000\\n   -3.5583    0.9362   -0.6282 C   0  0  0  0  0  0  0  0  0  0  0  0\\n   -3.2713   -0.2875    0.1796 C   0  0  0  0  0  0  0  0  0  0  0  0\\n   -1.8930   -0.8554   -0.0754 C   0  0  0  0  0  0  0  0  0  0  0  0\\n   -0.8054    0.1412    0.2582 C   0  0  0  0  0  0  0  0  0  0  0  0\\n    0.5180   -0.5211   -0.0299 C   0  0  0  0  0  0  0  0  0  0  0  0\\n    1.6927    0.3870    0.2679 C   0  0  0  0  0  0  0  0  0  0  0  0\\n    2.9462   -0.4222   -0.0722 C   0  0  0  0  0  0  0  0  0  0  0  0\\n    4.2033    0.3485    0.1720 C   0  0  0  0  0  0  0  0  0  0  0  0\\n   -3.2241    1.8527   -0.1006 H   0  0  0  0  0  0  0  0  0  0  0  0\\n   -3.1234    0.8423   -1.6286 H   0  0  0  0  0  0  0  0  0  0  0  0\\n   -4.6688    1.0031   -0.7630 H   0  0  0  0  0  0  0  0  0  0  0  0\\n   -3.9948   -1.0792   -0.1468 H   0  0  0  0  0  0  0  0  0  0  0  0\\n   -3.4195   -0.1637    1.2582 H   0  0  0  0  0  0  0  0  0  0  0  0\\n   -1.7748   -1.1227   -1.1439 H   0  0  0  0  0  0  0  0  0  0  0  0\\n   -1.7708   -1.7404    0.5664 H   0  0  0  0  0  0  0  0  0  0  0  0\\n   -0.8452    0.2852    1.3763 H   0  0  0  0  0  0  0  0  0  0  0  0\\n   -0.9252    1.1102   -0.2196 H   0  0  0  0  0  0  0  0  0  0  0  0\\n    0.6421   -1.4166    0.6050 H   0  0  0  0  0  0  0  0  0  0  0  0\\n    0.5760   -0.8065   -1.0858 H   0  0  0  0  0  0  0  0  0  0  0  0\\n    1.7055    0.7712    1.2881 H   0  0  0  0  0  0  0  0  0  0  0  0\\n    1.6823    1.2511   -0.4506 H   0  0  0  0  0  0  0  0  0  0  0  0\\n    2.9378   -1.3096    0.6252 H   0  0  0  0  0  0  0  0  0  0  0  0\\n    2.8229   -0.8009   -1.0845 H   0  0  0  0  0  0  0  0  0  0  0  0\\n    4.8795    0.1698   -0.7027 H   0  0  0  0  0  0  0  0  0  0  0  0\\n    3.9561    1.4116    0.2549 H   0  0  0  0  0  0  0  0  0  0  0  0\\n    4.7123    0.0156    1.1152 H   0  0  0  0  0  0  0  0  0  0  0  0\\n  1  2  1  0\\n  2  3  1  0\\n  3  4  1  0\\n  4  5  1  0\\n  5  6  1  0\\n  6  7  1  0\\n  7  8  1  0\\n  1  9  1  0\\n  1 10  1  0\\n  1 11  1  0\\n  2 12  1  0\\n  2 13  1  0\\n  3 14  1  0\\n  3 15  1  0\\n  4 16  1  0\\n  4 17  1  0\\n  5 18  1  0\\n  5 19  1  0\\n  6 20  1  0\\n  6 21  1  0\\n  7 22  1  0\\n  7 23  1  0\\n  8 24  1  0\\n  8 25  1  0\\n  8 26  1  0\\nM  END\\n\",\"sdf\");\n",
       "\tviewer_15432256697568948.setStyle({\"stick\": {}});\n",
       "\tviewer_15432256697568948.setBackgroundColor(\"0xeeeeee\");\n",
       "\tviewer_15432256697568948.zoomTo();\n",
       "\tviewer_15432256697568948.addModel(\"\\n     RDKit          3D\\n\\n 26 25  0  0  0  0  0  0  0  0999 V2000\\n    3.9815    0.8090    0.1197 C   0  0  0  0  0  0  0  0  0  0  0  0\\n    2.9514   -0.0585   -0.6177 C   0  0  0  0  0  0  0  0  0  0  0  0\\n    1.6169    0.2463    0.0207 C   0  0  0  0  0  0  0  0  0  0  0  0\\n    0.5478   -0.5989   -0.6832 C   0  0  0  0  0  0  0  0  0  0  0  0\\n   -0.7568   -0.2646   -0.0186 C   0  0  0  0  0  0  0  0  0  0  0  0\\n   -1.9207   -1.0198   -0.6007 C   0  0  0  0  0  0  0  0  0  0  0  0\\n   -3.1661   -0.5763    0.1726 C   0  0  0  0  0  0  0  0  0  0  0  0\\n   -3.3954    0.8952    0.0396 C   0  0  0  0  0  0  0  0  0  0  0  0\\n    4.9486    0.6324   -0.3805 H   0  0  0  0  0  0  0  0  0  0  0  0\\n    3.9789    0.5301    1.1929 H   0  0  0  0  0  0  0  0  0  0  0  0\\n    3.6329    1.8578    0.0408 H   0  0  0  0  0  0  0  0  0  0  0  0\\n    3.1499   -1.1317   -0.4663 H   0  0  0  0  0  0  0  0  0  0  0  0\\n    2.9230    0.1876   -1.6875 H   0  0  0  0  0  0  0  0  0  0  0  0\\n    1.4004    1.3295   -0.1092 H   0  0  0  0  0  0  0  0  0  0  0  0\\n    1.6654    0.0224    1.0895 H   0  0  0  0  0  0  0  0  0  0  0  0\\n    0.5640   -0.3883   -1.7537 H   0  0  0  0  0  0  0  0  0  0  0  0\\n    0.8395   -1.6581   -0.5091 H   0  0  0  0  0  0  0  0  0  0  0  0\\n   -0.9594    0.8065   -0.1338 H   0  0  0  0  0  0  0  0  0  0  0  0\\n   -0.6736   -0.5096    1.0450 H   0  0  0  0  0  0  0  0  0  0  0  0\\n   -2.0540   -0.8929   -1.6754 H   0  0  0  0  0  0  0  0  0  0  0  0\\n   -1.7342   -2.0966   -0.4154 H   0  0  0  0  0  0  0  0  0  0  0  0\\n   -3.0686   -0.8182    1.2473 H   0  0  0  0  0  0  0  0  0  0  0  0\\n   -4.0427   -1.1664   -0.1921 H   0  0  0  0  0  0  0  0  0  0  0  0\\n   -3.0941    1.3041   -0.9306 H   0  0  0  0  0  0  0  0  0  0  0  0\\n   -4.4802    1.0827    0.2393 H   0  0  0  0  0  0  0  0  0  0  0  0\\n   -2.8543    1.4763    0.8317 H   0  0  0  0  0  0  0  0  0  0  0  0\\n  1  2  1  0\\n  2  3  1  0\\n  3  4  1  0\\n  4  5  1  0\\n  5  6  1  0\\n  6  7  1  0\\n  7  8  1  0\\n  1  9  1  0\\n  1 10  1  0\\n  1 11  1  0\\n  2 12  1  0\\n  2 13  1  0\\n  3 14  1  0\\n  3 15  1  0\\n  4 16  1  0\\n  4 17  1  0\\n  5 18  1  0\\n  5 19  1  0\\n  6 20  1  0\\n  6 21  1  0\\n  7 22  1  0\\n  7 23  1  0\\n  8 24  1  0\\n  8 25  1  0\\n  8 26  1  0\\nM  END\\n\",\"sdf\");\n",
       "\tviewer_15432256697568948.setStyle({\"stick\": {}});\n",
       "\tviewer_15432256697568948.setBackgroundColor(\"0xeeeeee\");\n",
       "\tviewer_15432256697568948.zoomTo();\n",
       "\tviewer_15432256697568948.addModel(\"\\n     RDKit          3D\\n\\n 26 25  0  0  0  0  0  0  0  0999 V2000\\n    4.3043    0.3636   -0.3056 C   0  0  0  0  0  0  0  0  0  0  0  0\\n    3.0195   -0.4000   -0.2525 C   0  0  0  0  0  0  0  0  0  0  0  0\\n    1.8538    0.5601   -0.3148 C   0  0  0  0  0  0  0  0  0  0  0  0\\n    0.5921   -0.2662   -0.2581 C   0  0  0  0  0  0  0  0  0  0  0  0\\n   -0.6552    0.6105   -0.3148 C   0  0  0  0  0  0  0  0  0  0  0  0\\n   -1.8276   -0.3285   -0.2507 C   0  0  0  0  0  0  0  0  0  0  0  0\\n   -3.1558    0.3822   -0.2962 C   0  0  0  0  0  0  0  0  0  0  0  0\\n   -4.2303   -0.7064   -0.2223 C   0  0  0  0  0  0  0  0  0  0  0  0\\n    5.1258   -0.1822    0.2170 H   0  0  0  0  0  0  0  0  0  0  0  0\\n    4.5741    0.5255   -1.3703 H   0  0  0  0  0  0  0  0  0  0  0  0\\n    4.1775    1.3646    0.1502 H   0  0  0  0  0  0  0  0  0  0  0  0\\n    2.9753   -1.1648   -1.0357 H   0  0  0  0  0  0  0  0  0  0  0  0\\n    3.0044   -0.9618    0.7260 H   0  0  0  0  0  0  0  0  0  0  0  0\\n    1.8362    1.2274    0.5707 H   0  0  0  0  0  0  0  0  0  0  0  0\\n    1.8866    1.0933   -1.2667 H   0  0  0  0  0  0  0  0  0  0  0  0\\n    0.5256   -0.8235    0.7089 H   0  0  0  0  0  0  0  0  0  0  0  0\\n    0.5931   -0.9867   -1.1016 H   0  0  0  0  0  0  0  0  0  0  0  0\\n   -0.6210    1.3261    0.5236 H   0  0  0  0  0  0  0  0  0  0  0  0\\n   -0.6758    1.1999   -1.2698 H   0  0  0  0  0  0  0  0  0  0  0  0\\n   -1.7333   -0.9125    0.6844 H   0  0  0  0  0  0  0  0  0  0  0  0\\n   -1.7538   -1.0046   -1.1270 H   0  0  0  0  0  0  0  0  0  0  0  0\\n   -3.2534    1.0642    0.5705 H   0  0  0  0  0  0  0  0  0  0  0  0\\n   -3.2574    0.8943   -1.2704 H   0  0  0  0  0  0  0  0  0  0  0  0\\n   -5.1346   -0.2579    0.1921 H   0  0  0  0  0  0  0  0  0  0  0  0\\n   -4.3424   -1.0959   -1.2563 H   0  0  0  0  0  0  0  0  0  0  0  0\\n   -3.8276   -1.5206    0.4483 H   0  0  0  0  0  0  0  0  0  0  0  0\\n  1  2  1  0\\n  2  3  1  0\\n  3  4  1  0\\n  4  5  1  0\\n  5  6  1  0\\n  6  7  1  0\\n  7  8  1  0\\n  1  9  1  0\\n  1 10  1  0\\n  1 11  1  0\\n  2 12  1  0\\n  2 13  1  0\\n  3 14  1  0\\n  3 15  1  0\\n  4 16  1  0\\n  4 17  1  0\\n  5 18  1  0\\n  5 19  1  0\\n  6 20  1  0\\n  6 21  1  0\\n  7 22  1  0\\n  7 23  1  0\\n  8 24  1  0\\n  8 25  1  0\\n  8 26  1  0\\nM  END\\n\",\"sdf\");\n",
       "\tviewer_15432256697568948.setStyle({\"stick\": {}});\n",
       "\tviewer_15432256697568948.setBackgroundColor(\"0xeeeeee\");\n",
       "\tviewer_15432256697568948.zoomTo();\n",
       "\tviewer_15432256697568948.addModel(\"\\n     RDKit          3D\\n\\n 26 25  0  0  0  0  0  0  0  0999 V2000\\n    3.5944   -0.3184    1.4017 C   0  0  0  0  0  0  0  0  0  0  0  0\\n    2.8331   -0.2922    0.1222 C   0  0  0  0  0  0  0  0  0  0  0  0\\n    1.4104    0.2457    0.2949 C   0  0  0  0  0  0  0  0  0  0  0  0\\n    0.7925    0.1988   -1.1012 C   0  0  0  0  0  0  0  0  0  0  0  0\\n   -0.6228    0.7062   -1.0884 C   0  0  0  0  0  0  0  0  0  0  0  0\\n   -1.4403   -0.1566   -0.1654 C   0  0  0  0  0  0  0  0  0  0  0  0\\n   -2.8707    0.3834   -0.1765 C   0  0  0  0  0  0  0  0  0  0  0  0\\n   -3.6832   -0.4851    0.7497 C   0  0  0  0  0  0  0  0  0  0  0  0\\n    3.2086    0.4913    2.0653 H   0  0  0  0  0  0  0  0  0  0  0  0\\n    3.5167   -1.2574    1.9716 H   0  0  0  0  0  0  0  0  0  0  0  0\\n    4.6754   -0.0477    1.2276 H   0  0  0  0  0  0  0  0  0  0  0  0\\n    3.3213    0.4083   -0.5982 H   0  0  0  0  0  0  0  0  0  0  0  0\\n    2.7273   -1.2702   -0.3709 H   0  0  0  0  0  0  0  0  0  0  0  0\\n    0.9031   -0.4761    0.9619 H   0  0  0  0  0  0  0  0  0  0  0  0\\n    1.3874    1.2420    0.7363 H   0  0  0  0  0  0  0  0  0  0  0  0\\n    1.4217    0.7560   -1.8251 H   0  0  0  0  0  0  0  0  0  0  0  0\\n    0.8381   -0.8635   -1.4098 H   0  0  0  0  0  0  0  0  0  0  0  0\\n   -1.0191    0.6807   -2.1108 H   0  0  0  0  0  0  0  0  0  0  0  0\\n   -0.6792    1.7429   -0.7169 H   0  0  0  0  0  0  0  0  0  0  0  0\\n   -1.0985   -0.1301    0.8676 H   0  0  0  0  0  0  0  0  0  0  0  0\\n   -1.5142   -1.2088   -0.5058 H   0  0  0  0  0  0  0  0  0  0  0  0\\n   -2.8218    1.4327    0.1489 H   0  0  0  0  0  0  0  0  0  0  0  0\\n   -3.2158    0.2739   -1.2398 H   0  0  0  0  0  0  0  0  0  0  0  0\\n   -4.3746   -1.1274    0.1745 H   0  0  0  0  0  0  0  0  0  0  0  0\\n   -4.2530    0.1951    1.4169 H   0  0  0  0  0  0  0  0  0  0  0  0\\n   -3.0367   -1.1235    1.4075 H   0  0  0  0  0  0  0  0  0  0  0  0\\n  1  2  1  0\\n  2  3  1  0\\n  3  4  1  0\\n  4  5  1  0\\n  5  6  1  0\\n  6  7  1  0\\n  7  8  1  0\\n  1  9  1  0\\n  1 10  1  0\\n  1 11  1  0\\n  2 12  1  0\\n  2 13  1  0\\n  3 14  1  0\\n  3 15  1  0\\n  4 16  1  0\\n  4 17  1  0\\n  5 18  1  0\\n  5 19  1  0\\n  6 20  1  0\\n  6 21  1  0\\n  7 22  1  0\\n  7 23  1  0\\n  8 24  1  0\\n  8 25  1  0\\n  8 26  1  0\\nM  END\\n\",\"sdf\");\n",
       "\tviewer_15432256697568948.setStyle({\"stick\": {}});\n",
       "\tviewer_15432256697568948.setBackgroundColor(\"0xeeeeee\");\n",
       "\tviewer_15432256697568948.zoomTo();\n",
       "viewer_15432256697568948.render();\n",
       "});\n",
       "</script>"
      ]
     },
     "metadata": {},
     "output_type": "display_data"
    }
   ],
   "source": [
    "smiles = molecules['n-octane']\n",
    "m = Chem.MolFromSmiles(smiles)\n",
    "m = Chem.AddHs(m)\n",
    "Chem.EmbedMultipleConfs(m, numConfs=4,\n",
    "                        useExpTorsionAnglePrefs=True,\n",
    "                        useBasicKnowledge=True)\n",
    "p = py3Dmol.view(width=400,height=400)\n",
    "for confId in range(4):\n",
    "    drawit2(m,p,confId)\n",
    "p.show()\n",
    "v= PyMol.MolViewer()\n",
    "v.DeleteAll()\n",
    "for cid in range(4): \n",
    "    v.ShowMol(m,confId=cid,name='Conf-%d'%cid,showOnly=False)\n",
    "v.server.do('set grid_mode, on')\n",
    "v.server.do('ray')"
   ]
  },
  {
   "cell_type": "code",
   "execution_count": 56,
   "metadata": {
    "ExecuteTime": {
     "end_time": "2018-11-01T14:35:15.112712Z",
     "start_time": "2018-11-01T14:35:14.156943Z"
    }
   },
   "outputs": [
    {
     "name": "stdout",
     "output_type": "stream",
     "text": [
      "molecule: n-octane : SMILES: CCCCCCCC\n",
      "1 out of 1 done\n"
     ]
    }
   ],
   "source": [
    "# molecules = {'n-decanoic_acid': 'CCCCCCCCCC(=O)O'}\n",
    "os.system('rm '+output_dir+list(molecules.keys())[0]+'_diam_result.csv')\n",
    "ercollect.rdkit_functions.calc_molecule_diameters(molecules, out_dir=output_dir,\n",
    "                                        MW_thresh=2000, \n",
    "                                        rerun=True, vdwScale=0.8, \n",
    "                                        boxMargin=8.0,\n",
    "                                        spacing=0.6, show_vdw=True, plot_ellip=False,\n",
    "                                        N_conformers=1)"
   ]
  },
  {
   "cell_type": "markdown",
   "metadata": {},
   "source": [
    "# Debug and modification of RS database "
   ]
  },
  {
   "cell_type": "code",
   "execution_count": null,
   "metadata": {
    "ExecuteTime": {
     "end_time": "2018-10-10T08:15:33.906708Z",
     "start_time": "2018-10-10T08:15:33.731622Z"
    }
   },
   "outputs": [],
   "source": [
    "from rxn_syst import reaction, yield_rxn_syst, collect_RS_molecule_properties\n",
    "import glob\n",
    "directory = '/home/atarzia/psp/screening_results/biomin_search/'\n",
    "molecule_db_dir = '/home/atarzia/psp/molecule_DBs/atarzia/'\n",
    "molecules = glob.glob(molecule_db_dir+'ATRS_*.gpkl')\n",
    "count = 0\n",
    "rs_pkls_done = []"
   ]
  },
  {
   "cell_type": "code",
   "execution_count": null,
   "metadata": {
    "ExecuteTime": {
     "end_time": "2018-10-10T08:43:33.986659Z",
     "start_time": "2018-10-10T08:15:36.077552Z"
    },
    "scrolled": true
   },
   "outputs": [],
   "source": [
    "for rs in yield_rxn_syst(directory):\n",
    "    count += 1\n",
    "    if rs.pkl in rs_pkls_done:\n",
    "        continue\n",
    "    rs_pkls_done.append(rs.pkl)\n",
    "    if rs.skip_rxn is True:\n",
    "        continue\n",
    "    print('-----', count, '---', rs.pkl)\n",
    "    if rs.components is None:\n",
    "        continue\n",
    "    for m in rs.components:\n",
    "        print(m.name, m.role)\n",
    "        print(m.SMILES)\n",
    "        try:\n",
    "            print(m.pkl)\n",
    "        except AttributeError:\n",
    "            print('no pkl')\n",
    "    rs.mol_collected = False\n",
    "    collect_RS_molecule_properties(rs=rs, output_dir=directory,\n",
    "                                   mol_db_dir=molecule_db_dir,\n",
    "                                   molecules=molecules, count=0,\n",
    "                                   react_syst_files=[])\n",
    "    for m in rs.components:\n",
    "        print(m.pkl)"
   ]
  },
  {
   "cell_type": "code",
   "execution_count": null,
   "metadata": {},
   "outputs": [],
   "source": []
  },
  {
   "cell_type": "markdown",
   "metadata": {},
   "source": [
    "# Debug and modification of molecule database"
   ]
  },
  {
   "cell_type": "code",
   "execution_count": null,
   "metadata": {
    "ExecuteTime": {
     "end_time": "2018-11-08T02:46:03.214724Z",
     "start_time": "2018-11-08T02:46:03.210737Z"
    }
   },
   "outputs": [],
   "source": [
    "from ercollect.PUBCHEM_IO import get_logP_from_name, get_complexity_from_name, get_IUPAC_from_name\n",
    "from ercollect.molecule import yield_molecules, load_molecule\n",
    "directory = '/home/atarzia/psp/molecule_DBs/atarzia/'"
   ]
  },
  {
   "cell_type": "code",
   "execution_count": null,
   "metadata": {
    "ExecuteTime": {
     "end_time": "2018-11-08T03:33:35.781184Z",
     "start_time": "2018-11-08T03:33:34.771573Z"
    }
   },
   "outputs": [],
   "source": [
    "for j, i in enumerate(yield_molecules(directory=directory)):\n",
    "    if i.name == \"cocaine\":\n",
    "        print(i.name)\n",
    "        break"
   ]
  },
  {
   "cell_type": "code",
   "execution_count": null,
   "metadata": {},
   "outputs": [],
   "source": [
    "i.rs_pkls"
   ]
  },
  {
   "cell_type": "code",
   "execution_count": null,
   "metadata": {
    "ExecuteTime": {
     "end_time": "2018-11-08T03:37:28.696465Z",
     "start_time": "2018-11-08T03:37:28.680359Z"
    }
   },
   "outputs": [],
   "source": [
    "i.mol"
   ]
  },
  {
   "cell_type": "code",
   "execution_count": null,
   "metadata": {
    "ExecuteTime": {
     "end_time": "2018-11-08T03:32:44.830813Z",
     "start_time": "2018-11-08T03:32:44.817755Z"
    }
   },
   "outputs": [],
   "source": [
    "i.mol"
   ]
  },
  {
   "cell_type": "code",
   "execution_count": null,
   "metadata": {
    "ExecuteTime": {
     "end_time": "2018-10-16T02:51:00.347820Z",
     "start_time": "2018-10-16T02:50:55.498468Z"
    }
   },
   "outputs": [],
   "source": [
    "caught = []\n",
    "for j, i in enumerate(yield_molecules(directory=directory)):\n",
    "    print('doing -----', j)\n",
    "    if '\\n' in str(i.SMILES):\n",
    "        print(i.name)\n",
    "        print('SMILES', i.SMILES)\n",
    "        caught.append(i)"
   ]
  },
  {
   "cell_type": "code",
   "execution_count": null,
   "metadata": {
    "ExecuteTime": {
     "end_time": "2018-10-16T02:51:00.354827Z",
     "start_time": "2018-10-16T02:51:00.349572Z"
    }
   },
   "outputs": [],
   "source": [
    "print(len(caught))\n",
    "for ca in caught:\n",
    "    print(ca.name, ca.pkl)\n",
    "    print(ca.SMILES)\n",
    "    splits = ca.SMILES.split('\\n')\n",
    "    print(splits)\n",
    "    break"
   ]
  },
  {
   "cell_type": "code",
   "execution_count": null,
   "metadata": {
    "ExecuteTime": {
     "end_time": "2018-10-16T02:52:19.169903Z",
     "start_time": "2018-10-16T02:52:19.158894Z"
    }
   },
   "outputs": [],
   "source": [
    "from collections import Counter\n",
    "print(Counter([i.DB for i in caught]))"
   ]
  },
  {
   "cell_type": "code",
   "execution_count": null,
   "metadata": {},
   "outputs": [],
   "source": []
  },
  {
   "cell_type": "markdown",
   "metadata": {},
   "source": [
    "## molecule list debug"
   ]
  },
  {
   "cell_type": "code",
   "execution_count": null,
   "metadata": {
    "ExecuteTime": {
     "end_time": "2018-10-16T02:56:30.758775Z",
     "start_time": "2018-10-16T02:56:30.747055Z"
    }
   },
   "outputs": [],
   "source": [
    "# list of molecules of interest\n",
    "molecules = ['4-hydroxy-3-octaprenylbenzoate', '2-dehydro-3-deoxy-L-fuconate', 'dTDP-4-dehydro-6-deoxy-alpha-D-glucopyranose', '2-oxopentanoate', \n",
    "             'L-methionine-7-amido-4-methylcoumarin', 'CpU', 'phenylpyruvate', 'nicotinate mononucleotide', 'asparagine', \"thymidine 5'-monophosphate\", \n",
    "             'beta-citryl-L-glutamate', 'L-lysine ethyl ester']"
   ]
  },
  {
   "cell_type": "code",
   "execution_count": null,
   "metadata": {
    "ExecuteTime": {
     "end_time": "2018-10-16T03:02:48.813541Z",
     "start_time": "2018-10-16T03:02:25.118094Z"
    }
   },
   "outputs": [],
   "source": [
    "# find rxn system files and molecule files for each molecule\n",
    "mol_dir = '/home/atarzia/psp/molecule_DBs/atarzia/'\n",
    "mol_dict = {}\n",
    "\n",
    "for mol in molecules:\n",
    "    print(mol)\n",
    "    for m in yield_molecules(directory=mol_dir):\n",
    "        if mol == m.name or mol == m.iupac_name:\n",
    "            print('found')\n",
    "            mol_dict[mol] = (m.pkl, m.rs_pkls)"
   ]
  },
  {
   "cell_type": "code",
   "execution_count": null,
   "metadata": {
    "ExecuteTime": {
     "end_time": "2018-10-16T03:12:20.557441Z",
     "start_time": "2018-10-16T03:12:20.386852Z"
    }
   },
   "outputs": [],
   "source": [
    "from BRENDA_IO import *\n",
    "mol = '2-dehydro-3-deoxy-L-fuconate'\n",
    "mol_val = mol_dict[mol]\n",
    "chebiID = get_chebiID_for_BRENDA(mol, 1)\n",
    "print(mol, '-- chebiID =', chebiID)"
   ]
  },
  {
   "cell_type": "code",
   "execution_count": null,
   "metadata": {
    "ExecuteTime": {
     "end_time": "2018-10-16T03:18:25.347003Z",
     "start_time": "2018-10-16T03:18:21.305722Z"
    }
   },
   "outputs": [],
   "source": [
    "from molecule import *\n",
    "from CHEBI_IO import *\n",
    "molec = molecule(mol, 'reactant', 'BRENDA', chebiID)\n",
    "molec.chebiID = molec.DB_ID\n",
    "get_cmpd_information(molec)\n",
    "\n",
    "print('this result is not right, the chebiID that was input links to a molecule!')"
   ]
  },
  {
   "cell_type": "code",
   "execution_count": null,
   "metadata": {
    "ExecuteTime": {
     "end_time": "2018-10-16T03:18:49.660781Z",
     "start_time": "2018-10-16T03:18:49.653213Z"
    }
   },
   "outputs": [],
   "source": [
    "import DB_functions"
   ]
  },
  {
   "cell_type": "code",
   "execution_count": null,
   "metadata": {
    "ExecuteTime": {
     "end_time": "2018-10-16T03:20:55.749151Z",
     "start_time": "2018-10-16T03:20:55.606633Z"
    }
   },
   "outputs": [],
   "source": [
    "DB_prop = DB_functions.get_DB_prop('CHEBI')\n",
    "compounds_file = DB_prop[0]+DB_prop[1]['cmpds_file']\n",
    "names_file = DB_prop[0]+DB_prop[1]['names_file']\n",
    "structures_file = DB_prop[0]+DB_prop[1]['strct_file']\n",
    "\n",
    "# set name by searching compound file\n",
    "res = search_for_compound_by_id(compounds_file, molec.chebiID)\n",
    "print(res)\n",
    "ID, parent_id, name, star = res\n",
    "if parent_id != 'null':\n",
    "    print('oi')"
   ]
  },
  {
   "cell_type": "code",
   "execution_count": null,
   "metadata": {
    "ExecuteTime": {
     "end_time": "2018-10-16T03:26:25.911516Z",
     "start_time": "2018-10-16T03:26:21.965351Z"
    }
   },
   "outputs": [],
   "source": [
    "# get structure using CHEBI ID\n",
    "# structures.csv - read in, get COMPOUND ID match then extract the\n",
    "# get SMILES\n",
    "structure, s_type = get_structure(structures_file, molec.chebiID)\n",
    "print(structure, s_type)\n",
    "print('this result is not right, the chebiID that was input links to a molecule!')"
   ]
  },
  {
   "cell_type": "code",
   "execution_count": null,
   "metadata": {
    "ExecuteTime": {
     "end_time": "2018-10-16T03:37:47.456035Z",
     "start_time": "2018-10-16T03:37:47.441650Z"
    }
   },
   "outputs": [],
   "source": [
    "from chembl_webresource_client.new_client import new_client\n",
    "molecule = new_client.molecule\n",
    "res = molecule.search(mol)  # 'viagra')\n",
    "# guaiacol"
   ]
  },
  {
   "cell_type": "code",
   "execution_count": null,
   "metadata": {
    "ExecuteTime": {
     "end_time": "2018-10-16T03:39:37.490367Z",
     "start_time": "2018-10-16T03:37:52.154990Z"
    }
   },
   "outputs": [],
   "source": [
    "print('there are', len(res), 'top search candidates:')\n",
    "for i in range(len(res)):\n",
    "    print('option:', i, 'name:', res[i]['pref_name'])\n",
    "    print([res[i]['molecule_synonyms'][j]['synonyms'] for j in range(len(res[i]['molecule_synonyms']))])"
   ]
  },
  {
   "cell_type": "code",
   "execution_count": null,
   "metadata": {},
   "outputs": [],
   "source": [
    "if structure is not None:\n",
    "    # is structure a MolBlock or Smiles\n",
    "    if s_type == 'mol':\n",
    "        # convert structure to SMILEs\n",
    "        rdkitmol = Chem.MolFromMolBlock(structure)\n",
    "        if rdkitmol is None:\n",
    "            print('structure could not be deciphered')\n",
    "            smile = None\n",
    "            molec.SMILES = smile\n",
    "            molec.mol = None\n",
    "            print('probably a polymeric structure - skipping.')\n",
    "        else:\n",
    "            rdkitmol.Compute2DCoords()\n",
    "            smile = Chem.MolToSmiles(rdkitmol)\n",
    "            molec.SMILES = smile\n",
    "            # remove molecules with generalised atoms\n",
    "            if '*' in smile:\n",
    "                molec.mol = None\n",
    "            else:\n",
    "                molec.mol = rdkitmol\n",
    "    elif s_type == 'SMILES':\n",
    "        smile = structure\n",
    "        rdkitmol = Chem.MolFromSmiles(smile)\n",
    "        if rdkitmol is None:\n",
    "            print('structure could not be deciphered')\n",
    "            molec.SMILES = smile\n",
    "            molec.mol = None\n",
    "        else:\n",
    "            rdkitmol.Compute2DCoords()\n",
    "            molec.SMILES = smile\n",
    "            # remove molecules with generalised atoms\n",
    "            if '*' in smile:\n",
    "                molec.mol = None\n",
    "            else:\n",
    "                molec.mol = rdkitmol\n",
    "    elif s_type == 'InChI':\n",
    "        rdkitmol = Chem.MolFromInchi(structure)\n",
    "        rdkitmol.Compute2DCoords()\n",
    "        smile = Chem.MolToSmiles(rdkitmol)\n",
    "        molec.SMILES = smile\n",
    "        # remove molecules with generalised atoms\n",
    "        if '*' in smile:\n",
    "            molec.mol = None\n",
    "        else:\n",
    "            molec.mol = rdkitmol\n",
    "    elif s_type == 'InChIKey':\n",
    "        rdkitmol = Chem.MolFromInchi(structure)\n",
    "        rdkitmol.Compute2DCoords()\n",
    "        smile = None\n",
    "        molec.SMILES = smile\n",
    "        molec.mol = None\n",
    "        print('molecule given as InChIKey - ambiguous')\n",
    "        print('probably a generic structure - skipping.')\n",
    "else:\n",
    "    smile = None\n",
    "    molec.SMILES = smile\n",
    "    molec.mol = None\n",
    "    print('molecule does not have recorded structure in CHEBI DB')\n",
    "    print('probably a generic structure - skipping.')\n"
   ]
  },
  {
   "cell_type": "code",
   "execution_count": null,
   "metadata": {
    "ExecuteTime": {
     "end_time": "2018-10-16T04:06:17.641608Z",
     "start_time": "2018-10-16T04:06:17.634854Z"
    }
   },
   "outputs": [],
   "source": [
    "# test libChEBIpy (https://github.com/libChEBI/libChEBIpy)\n",
    "from libchebipy import ChebiEntity\n",
    "print(molec.chebiID)\n",
    "entity = ChebiEntity(molec.chebiID) "
   ]
  },
  {
   "cell_type": "code",
   "execution_count": null,
   "metadata": {
    "ExecuteTime": {
     "end_time": "2018-10-16T04:15:47.510322Z",
     "start_time": "2018-10-16T04:15:47.500326Z"
    }
   },
   "outputs": [],
   "source": [
    "entity = ChebiEntity('1000') "
   ]
  },
  {
   "cell_type": "code",
   "execution_count": null,
   "metadata": {
    "ExecuteTime": {
     "end_time": "2018-10-16T04:15:47.819728Z",
     "start_time": "2018-10-16T04:15:47.811662Z"
    }
   },
   "outputs": [],
   "source": [
    "entity.get_smiles()"
   ]
  },
  {
   "cell_type": "code",
   "execution_count": null,
   "metadata": {
    "ExecuteTime": {
     "end_time": "2018-10-16T04:15:00.154192Z",
     "start_time": "2018-10-16T04:15:00.137302Z"
    }
   },
   "outputs": [],
   "source": [
    "if entity['_ChebiEntity__all_ids'] is None:\n",
    "    print('hey')"
   ]
  },
  {
   "cell_type": "code",
   "execution_count": null,
   "metadata": {
    "ExecuteTime": {
     "end_time": "2018-10-16T04:06:18.314207Z",
     "start_time": "2018-10-16T04:06:18.295831Z"
    }
   },
   "outputs": [],
   "source": [
    "entity.get_formula()"
   ]
  },
  {
   "cell_type": "code",
   "execution_count": null,
   "metadata": {
    "ExecuteTime": {
     "end_time": "2018-10-16T04:06:18.856494Z",
     "start_time": "2018-10-16T04:06:18.843149Z"
    }
   },
   "outputs": [],
   "source": [
    "entity.get_smiles()"
   ]
  },
  {
   "cell_type": "code",
   "execution_count": null,
   "metadata": {
    "ExecuteTime": {
     "end_time": "2018-10-16T04:06:05.927652Z",
     "start_time": "2018-10-16T04:06:05.916711Z"
    }
   },
   "outputs": [],
   "source": [
    "import libchebipy._parsers as parsers\n",
    "#print(parsers.get_names(37448))\n",
    "print(parsers.get_smiles('37448'))"
   ]
  },
  {
   "cell_type": "code",
   "execution_count": null,
   "metadata": {},
   "outputs": [],
   "source": []
  },
  {
   "cell_type": "code",
   "execution_count": null,
   "metadata": {},
   "outputs": [],
   "source": []
  },
  {
   "cell_type": "markdown",
   "metadata": {},
   "source": [
    "##  Random Code"
   ]
  },
  {
   "cell_type": "code",
   "execution_count": null,
   "metadata": {},
   "outputs": [],
   "source": [
    "If you want all possible names for a molecule (from the SMILES string) using Python:\n",
    "\n",
    ">>> from cinfony import webel, pybel\n",
    ">>> mol = pybel.readstring(\"smi\", \"C(=O)C=C\")\n",
    ">>> name = webel.Molecule(mol).write(\"names\")\n",
    ">>> print(name)\n",
    "\n",
    "['prop-2-enal', 'Acrolein', .."
   ]
  }
 ],
 "metadata": {
  "kernelspec": {
   "display_name": "Python 3",
   "language": "python",
   "name": "python3"
  },
  "language_info": {
   "codemirror_mode": {
    "name": "ipython",
    "version": 3
   },
   "file_extension": ".py",
   "mimetype": "text/x-python",
   "name": "python",
   "nbconvert_exporter": "python",
   "pygments_lexer": "ipython3",
   "version": "3.6.5"
  }
 },
 "nbformat": 4,
 "nbformat_minor": 2
}
