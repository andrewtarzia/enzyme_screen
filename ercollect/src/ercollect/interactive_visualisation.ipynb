{
 "cells": [
  {
   "cell_type": "code",
   "execution_count": 1,
   "metadata": {
    "ExecuteTime": {
     "end_time": "2018-11-08T00:04:02.672134Z",
     "start_time": "2018-11-08T00:04:02.625600Z"
    }
   },
   "outputs": [
    {
     "data": {
      "text/html": [
       "<style>.container { width:95% !important; }</style>"
      ],
      "text/plain": [
       "<IPython.core.display.HTML object>"
      ]
     },
     "metadata": {},
     "output_type": "display_data"
    }
   ],
   "source": [
    "from IPython.core.display import HTML\n",
    "display(HTML(\"<style>.container { width:95% !important; }</style>\"))\n",
    "%load_ext autoreload\n",
    "%autoreload 1"
   ]
  },
  {
   "cell_type": "markdown",
   "metadata": {},
   "source": [
    "Author: Andrew Tarzia\n",
    "\n",
    "Date Created: 12 Jul 2018\n",
    "\n",
    "Distributed under the terms of the MIT License."
   ]
  },
  {
   "cell_type": "markdown",
   "metadata": {},
   "source": [
    "# Notebook for specific visualization of molecules using RDKIT and other functions"
   ]
  },
  {
   "cell_type": "code",
   "execution_count": 2,
   "metadata": {
    "ExecuteTime": {
     "end_time": "2018-11-08T00:04:05.809336Z",
     "start_time": "2018-11-08T00:04:04.989457Z"
    }
   },
   "outputs": [],
   "source": [
    "import numpy as np\n",
    "import pandas as pd\n",
    "import os\n",
    "from rdkit.Chem import AllChem as Chem\n",
    "from rdkit.Chem import Descriptors\n",
    "from rdkit.Chem.Descriptors3D import NPR1, NPR2, PMI1, PMI2, PMI3\n",
    "from rdkit.Chem.Draw.MolDrawing import MolDrawing\n",
    "from rdkit.Chem.Draw import IPythonConsole\n",
    "from rdkit.Chem import Draw\n",
    "from rdkit.Geometry import rdGeometry\n",
    "from rdkit.Chem import PyMol\n",
    "import py3Dmol\n",
    "from ipywidgets import interact, interactive, fixed\n",
    "from rdkit import Geometry\n",
    "import tempfile\n",
    "import matplotlib.pyplot as plt\n",
    "%aimport ercollect.rdkit_functions\n",
    "%aimport ercollect.ellipsoid"
   ]
  },
  {
   "cell_type": "code",
   "execution_count": 3,
   "metadata": {
    "ExecuteTime": {
     "end_time": "2018-11-08T00:04:07.886179Z",
     "start_time": "2018-11-08T00:04:07.870806Z"
    }
   },
   "outputs": [],
   "source": [
    "def drawit(m, p, confId=-1):\n",
    "    mb = Chem.MolToMolBlock(m, confId=confId)\n",
    "    p.removeAllModels()\n",
    "    p.addModel(mb,'sdf')\n",
    "    p.setStyle({'stick':{}})\n",
    "    p.setBackgroundColor('0xeeeeee')\n",
    "    p.zoomTo()\n",
    "    return p.show()\n",
    "\n",
    "\n",
    "def drawit2(m, p, confId=-1):\n",
    "    mb = Chem.MolToMolBlock(m, confId=confId)\n",
    "    p.addModel(mb, 'sdf')\n",
    "    p.setStyle({'stick':{}})\n",
    "    p.setBackgroundColor('0xeeeeee')\n",
    "    p.zoomTo()"
   ]
  },
  {
   "cell_type": "markdown",
   "metadata": {},
   "source": [
    "## visualize molecules for Figure"
   ]
  },
  {
   "cell_type": "code",
   "execution_count": 28,
   "metadata": {
    "ExecuteTime": {
     "end_time": "2018-10-31T11:46:25.891378Z",
     "start_time": "2018-10-31T11:46:25.882281Z"
    }
   },
   "outputs": [],
   "source": [
    "molecules = {'urea': 'C(=O)(N)N',\n",
    "             'cyclohexane': 'C1CCCCC1'}"
   ]
  },
  {
   "cell_type": "code",
   "execution_count": 29,
   "metadata": {
    "ExecuteTime": {
     "end_time": "2018-10-31T11:56:20.563342Z",
     "start_time": "2018-10-31T11:46:32.105553Z"
    }
   },
   "outputs": [
    {
     "name": "stdin",
     "output_type": "stream",
     "text": [
      "done? \n"
     ]
    },
    {
     "ename": "ConnectionRefusedError",
     "evalue": "[Errno 111] Connection refused",
     "output_type": "error",
     "traceback": [
      "\u001b[0;31m---------------------------------------------------------------------------\u001b[0m",
      "\u001b[0;31mConnectionRefusedError\u001b[0m                    Traceback (most recent call last)",
      "\u001b[0;32m<ipython-input-29-ab05a13d59f6>\u001b[0m in \u001b[0;36m<module>\u001b[0;34m()\u001b[0m\n\u001b[1;32m      7\u001b[0m                                            \u001b[0mMW_thresh\u001b[0m\u001b[0;34m=\u001b[0m\u001b[0;36m130\u001b[0m\u001b[0;34m,\u001b[0m \u001b[0mshow_vdw\u001b[0m\u001b[0;34m=\u001b[0m\u001b[0;32mTrue\u001b[0m\u001b[0;34m,\u001b[0m\u001b[0;34m\u001b[0m\u001b[0m\n\u001b[1;32m      8\u001b[0m                                            \u001b[0mplot_ellip\u001b[0m\u001b[0;34m=\u001b[0m\u001b[0;32mFalse\u001b[0m\u001b[0;34m,\u001b[0m\u001b[0;34m\u001b[0m\u001b[0m\n\u001b[0;32m----> 9\u001b[0;31m                                            N_conformers=1)\n\u001b[0m\u001b[1;32m     10\u001b[0m     \u001b[0minput\u001b[0m\u001b[0;34m(\u001b[0m\u001b[0;34m'done?'\u001b[0m\u001b[0;34m)\u001b[0m\u001b[0;34m\u001b[0m\u001b[0m\n",
      "\u001b[0;32m~/psp/psp_source/ercollect/src/ercollect/rdkit_functions.py\u001b[0m in \u001b[0;36mcalc_molecule_diameter\u001b[0;34m(name, smile, vdwScale, boxMargin, spacing, MW_thresh, N_conformers, out_dir, show_vdw, plot_ellip, rSeed)\u001b[0m\n\u001b[1;32m    609\u001b[0m                                                 \u001b[0mspacing\u001b[0m\u001b[0;34m=\u001b[0m\u001b[0mspacing\u001b[0m\u001b[0;34m,\u001b[0m\u001b[0;34m\u001b[0m\u001b[0m\n\u001b[1;32m    610\u001b[0m                                                 \u001b[0mshow\u001b[0m\u001b[0;34m=\u001b[0m\u001b[0mshow_vdw\u001b[0m\u001b[0;34m,\u001b[0m\u001b[0;34m\u001b[0m\u001b[0m\n\u001b[0;32m--> 611\u001b[0;31m                                                 plot=plot_ellip)\n\u001b[0m\u001b[1;32m    612\u001b[0m \u001b[0;34m\u001b[0m\u001b[0m\n\u001b[1;32m    613\u001b[0m     res = write_molecule_results(out_file, cids,\n",
      "\u001b[0;32m~/psp/psp_source/ercollect/src/ercollect/rdkit_functions.py\u001b[0m in \u001b[0;36mget_ellip_diameters\u001b[0;34m(mol, cids, vdwScale, boxMargin, spacing, show, plot)\u001b[0m\n\u001b[1;32m    449\u001b[0m                 \u001b[0mprint\u001b[0m\u001b[0;34m(\u001b[0m\u001b[0;34m\"run 'pymol -R' to visualise structures\"\u001b[0m\u001b[0;34m)\u001b[0m\u001b[0;34m\u001b[0m\u001b[0m\n\u001b[1;32m    450\u001b[0m                 \u001b[0mprint\u001b[0m\u001b[0;34m(\u001b[0m\u001b[0;34m'visualisation will be skipped'\u001b[0m\u001b[0;34m)\u001b[0m\u001b[0;34m\u001b[0m\u001b[0m\n\u001b[0;32m--> 451\u001b[0;31m             \u001b[0mshow_shape\u001b[0m\u001b[0;34m(\u001b[0m\u001b[0mv\u001b[0m\u001b[0;34m,\u001b[0m \u001b[0mmol\u001b[0m\u001b[0;34m,\u001b[0m \u001b[0mconfId\u001b[0m\u001b[0;34m,\u001b[0m \u001b[0mshape\u001b[0m\u001b[0;34m)\u001b[0m\u001b[0;34m\u001b[0m\u001b[0m\n\u001b[0m\u001b[1;32m    452\u001b[0m             \u001b[0mv\u001b[0m\u001b[0;34m.\u001b[0m\u001b[0mserver\u001b[0m\u001b[0;34m.\u001b[0m\u001b[0mdo\u001b[0m\u001b[0;34m(\u001b[0m\u001b[0;34m'set transparency=0.5'\u001b[0m\u001b[0;34m)\u001b[0m\u001b[0;34m\u001b[0m\u001b[0m\n\u001b[1;32m    453\u001b[0m \u001b[0;34m\u001b[0m\u001b[0m\n",
      "\u001b[0;32m~/psp/psp_source/ercollect/src/ercollect/rdkit_functions.py\u001b[0m in \u001b[0;36mshow_shape\u001b[0;34m(viewer, mol, cid, shape)\u001b[0m\n\u001b[1;32m    229\u001b[0m     \u001b[0mtmpFile\u001b[0m \u001b[0;34m=\u001b[0m \u001b[0mtempfile\u001b[0m\u001b[0;34m.\u001b[0m\u001b[0mmktemp\u001b[0m\u001b[0;34m(\u001b[0m\u001b[0;34m'.grd'\u001b[0m\u001b[0;34m)\u001b[0m\u001b[0;34m\u001b[0m\u001b[0m\n\u001b[1;32m    230\u001b[0m     \u001b[0mGeometry\u001b[0m\u001b[0;34m.\u001b[0m\u001b[0mWriteGridToFile\u001b[0m\u001b[0;34m(\u001b[0m\u001b[0mshape\u001b[0m\u001b[0;34m,\u001b[0m \u001b[0mtmpFile\u001b[0m\u001b[0;34m)\u001b[0m\u001b[0;34m\u001b[0m\u001b[0m\n\u001b[0;32m--> 231\u001b[0;31m     \u001b[0mviewer\u001b[0m\u001b[0;34m.\u001b[0m\u001b[0mShowMol\u001b[0m\u001b[0;34m(\u001b[0m\u001b[0mmol\u001b[0m\u001b[0;34m,\u001b[0m \u001b[0mname\u001b[0m\u001b[0;34m=\u001b[0m\u001b[0;34m'testMol'\u001b[0m\u001b[0;34m,\u001b[0m \u001b[0mshowOnly\u001b[0m\u001b[0;34m=\u001b[0m\u001b[0;32mTrue\u001b[0m\u001b[0;34m,\u001b[0m \u001b[0mconfId\u001b[0m\u001b[0;34m=\u001b[0m\u001b[0mcid\u001b[0m\u001b[0;34m)\u001b[0m\u001b[0;34m\u001b[0m\u001b[0m\n\u001b[0m\u001b[1;32m    232\u001b[0m     \u001b[0mviewer\u001b[0m\u001b[0;34m.\u001b[0m\u001b[0mserver\u001b[0m\u001b[0;34m.\u001b[0m\u001b[0mloadSurface\u001b[0m\u001b[0;34m(\u001b[0m\u001b[0mtmpFile\u001b[0m\u001b[0;34m,\u001b[0m \u001b[0;34m'testGrid'\u001b[0m\u001b[0;34m,\u001b[0m \u001b[0;34m''\u001b[0m\u001b[0;34m,\u001b[0m \u001b[0;36m2.5\u001b[0m\u001b[0;34m)\u001b[0m\u001b[0;34m\u001b[0m\u001b[0m\n\u001b[1;32m    233\u001b[0m \u001b[0;34m\u001b[0m\u001b[0m\n",
      "\u001b[0;32m~/anaconda3/lib/python3.6/site-packages/rdkit/Chem/PyMol.py\u001b[0m in \u001b[0;36mShowMol\u001b[0;34m(self, mol, name, showOnly, highlightFeatures, molB, confId, zoom, forcePDB, showSticks)\u001b[0m\n\u001b[1;32m     80\u001b[0m       \u001b[0mself\u001b[0m\u001b[0;34m.\u001b[0m\u001b[0mserver\u001b[0m\u001b[0;34m.\u001b[0m\u001b[0mdo\u001b[0m\u001b[0;34m(\u001b[0m\u001b[0;34m'view rdinterface,store'\u001b[0m\u001b[0;34m)\u001b[0m\u001b[0;34m\u001b[0m\u001b[0m\n\u001b[1;32m     81\u001b[0m     \u001b[0;32mif\u001b[0m \u001b[0mshowOnly\u001b[0m\u001b[0;34m:\u001b[0m\u001b[0;34m\u001b[0m\u001b[0m\n\u001b[0;32m---> 82\u001b[0;31m       \u001b[0mself\u001b[0m\u001b[0;34m.\u001b[0m\u001b[0mDeleteAll\u001b[0m\u001b[0;34m(\u001b[0m\u001b[0;34m)\u001b[0m\u001b[0;34m\u001b[0m\u001b[0m\n\u001b[0m\u001b[1;32m     83\u001b[0m \u001b[0;34m\u001b[0m\u001b[0m\n\u001b[1;32m     84\u001b[0m     \u001b[0;32mif\u001b[0m \u001b[0;32mnot\u001b[0m \u001b[0mforcePDB\u001b[0m \u001b[0;32mand\u001b[0m \u001b[0mmol\u001b[0m\u001b[0;34m.\u001b[0m\u001b[0mGetNumAtoms\u001b[0m\u001b[0;34m(\u001b[0m\u001b[0;34m)\u001b[0m \u001b[0;34m<\u001b[0m \u001b[0;36m999\u001b[0m\u001b[0;34m:\u001b[0m\u001b[0;34m\u001b[0m\u001b[0m\n",
      "\u001b[0;32m~/anaconda3/lib/python3.6/site-packages/rdkit/Chem/PyMol.py\u001b[0m in \u001b[0;36mDeleteAll\u001b[0;34m(self)\u001b[0m\n\u001b[1;32m     54\u001b[0m   \u001b[0;32mdef\u001b[0m \u001b[0mDeleteAll\u001b[0m\u001b[0;34m(\u001b[0m\u001b[0mself\u001b[0m\u001b[0;34m)\u001b[0m\u001b[0;34m:\u001b[0m\u001b[0;34m\u001b[0m\u001b[0m\n\u001b[1;32m     55\u001b[0m     \u001b[0;34m\" blows out everything in the viewer \"\u001b[0m\u001b[0;34m\u001b[0m\u001b[0m\n\u001b[0;32m---> 56\u001b[0;31m     \u001b[0mself\u001b[0m\u001b[0;34m.\u001b[0m\u001b[0mserver\u001b[0m\u001b[0;34m.\u001b[0m\u001b[0mdeleteAll\u001b[0m\u001b[0;34m(\u001b[0m\u001b[0;34m)\u001b[0m\u001b[0;34m\u001b[0m\u001b[0m\n\u001b[0m\u001b[1;32m     57\u001b[0m \u001b[0;34m\u001b[0m\u001b[0m\n\u001b[1;32m     58\u001b[0m   \u001b[0;32mdef\u001b[0m \u001b[0mDeleteAllExcept\u001b[0m\u001b[0;34m(\u001b[0m\u001b[0mself\u001b[0m\u001b[0;34m,\u001b[0m \u001b[0mexcludes\u001b[0m\u001b[0;34m)\u001b[0m\u001b[0;34m:\u001b[0m\u001b[0;34m\u001b[0m\u001b[0m\n",
      "\u001b[0;32m~/anaconda3/lib/python3.6/xmlrpc/client.py\u001b[0m in \u001b[0;36m__call__\u001b[0;34m(self, *args)\u001b[0m\n\u001b[1;32m   1110\u001b[0m         \u001b[0;32mreturn\u001b[0m \u001b[0m_Method\u001b[0m\u001b[0;34m(\u001b[0m\u001b[0mself\u001b[0m\u001b[0;34m.\u001b[0m\u001b[0m__send\u001b[0m\u001b[0;34m,\u001b[0m \u001b[0;34m\"%s.%s\"\u001b[0m \u001b[0;34m%\u001b[0m \u001b[0;34m(\u001b[0m\u001b[0mself\u001b[0m\u001b[0;34m.\u001b[0m\u001b[0m__name\u001b[0m\u001b[0;34m,\u001b[0m \u001b[0mname\u001b[0m\u001b[0;34m)\u001b[0m\u001b[0;34m)\u001b[0m\u001b[0;34m\u001b[0m\u001b[0m\n\u001b[1;32m   1111\u001b[0m     \u001b[0;32mdef\u001b[0m \u001b[0m__call__\u001b[0m\u001b[0;34m(\u001b[0m\u001b[0mself\u001b[0m\u001b[0;34m,\u001b[0m \u001b[0;34m*\u001b[0m\u001b[0margs\u001b[0m\u001b[0;34m)\u001b[0m\u001b[0;34m:\u001b[0m\u001b[0;34m\u001b[0m\u001b[0m\n\u001b[0;32m-> 1112\u001b[0;31m         \u001b[0;32mreturn\u001b[0m \u001b[0mself\u001b[0m\u001b[0;34m.\u001b[0m\u001b[0m__send\u001b[0m\u001b[0;34m(\u001b[0m\u001b[0mself\u001b[0m\u001b[0;34m.\u001b[0m\u001b[0m__name\u001b[0m\u001b[0;34m,\u001b[0m \u001b[0margs\u001b[0m\u001b[0;34m)\u001b[0m\u001b[0;34m\u001b[0m\u001b[0m\n\u001b[0m\u001b[1;32m   1113\u001b[0m \u001b[0;34m\u001b[0m\u001b[0m\n\u001b[1;32m   1114\u001b[0m \u001b[0;31m##\u001b[0m\u001b[0;34m\u001b[0m\u001b[0;34m\u001b[0m\u001b[0m\n",
      "\u001b[0;32m~/anaconda3/lib/python3.6/xmlrpc/client.py\u001b[0m in \u001b[0;36m__request\u001b[0;34m(self, methodname, params)\u001b[0m\n\u001b[1;32m   1450\u001b[0m             \u001b[0mself\u001b[0m\u001b[0;34m.\u001b[0m\u001b[0m__handler\u001b[0m\u001b[0;34m,\u001b[0m\u001b[0;34m\u001b[0m\u001b[0m\n\u001b[1;32m   1451\u001b[0m             \u001b[0mrequest\u001b[0m\u001b[0;34m,\u001b[0m\u001b[0;34m\u001b[0m\u001b[0m\n\u001b[0;32m-> 1452\u001b[0;31m             \u001b[0mverbose\u001b[0m\u001b[0;34m=\u001b[0m\u001b[0mself\u001b[0m\u001b[0;34m.\u001b[0m\u001b[0m__verbose\u001b[0m\u001b[0;34m\u001b[0m\u001b[0m\n\u001b[0m\u001b[1;32m   1453\u001b[0m             )\n\u001b[1;32m   1454\u001b[0m \u001b[0;34m\u001b[0m\u001b[0m\n",
      "\u001b[0;32m~/anaconda3/lib/python3.6/xmlrpc/client.py\u001b[0m in \u001b[0;36mrequest\u001b[0;34m(self, host, handler, request_body, verbose)\u001b[0m\n\u001b[1;32m   1152\u001b[0m         \u001b[0;32mfor\u001b[0m \u001b[0mi\u001b[0m \u001b[0;32min\u001b[0m \u001b[0;34m(\u001b[0m\u001b[0;36m0\u001b[0m\u001b[0;34m,\u001b[0m \u001b[0;36m1\u001b[0m\u001b[0;34m)\u001b[0m\u001b[0;34m:\u001b[0m\u001b[0;34m\u001b[0m\u001b[0m\n\u001b[1;32m   1153\u001b[0m             \u001b[0;32mtry\u001b[0m\u001b[0;34m:\u001b[0m\u001b[0;34m\u001b[0m\u001b[0m\n\u001b[0;32m-> 1154\u001b[0;31m                 \u001b[0;32mreturn\u001b[0m \u001b[0mself\u001b[0m\u001b[0;34m.\u001b[0m\u001b[0msingle_request\u001b[0m\u001b[0;34m(\u001b[0m\u001b[0mhost\u001b[0m\u001b[0;34m,\u001b[0m \u001b[0mhandler\u001b[0m\u001b[0;34m,\u001b[0m \u001b[0mrequest_body\u001b[0m\u001b[0;34m,\u001b[0m \u001b[0mverbose\u001b[0m\u001b[0;34m)\u001b[0m\u001b[0;34m\u001b[0m\u001b[0m\n\u001b[0m\u001b[1;32m   1155\u001b[0m             \u001b[0;32mexcept\u001b[0m \u001b[0mhttp\u001b[0m\u001b[0;34m.\u001b[0m\u001b[0mclient\u001b[0m\u001b[0;34m.\u001b[0m\u001b[0mRemoteDisconnected\u001b[0m\u001b[0;34m:\u001b[0m\u001b[0;34m\u001b[0m\u001b[0m\n\u001b[1;32m   1156\u001b[0m                 \u001b[0;32mif\u001b[0m \u001b[0mi\u001b[0m\u001b[0;34m:\u001b[0m\u001b[0;34m\u001b[0m\u001b[0m\n",
      "\u001b[0;32m~/anaconda3/lib/python3.6/xmlrpc/client.py\u001b[0m in \u001b[0;36msingle_request\u001b[0;34m(self, host, handler, request_body, verbose)\u001b[0m\n\u001b[1;32m   1164\u001b[0m         \u001b[0;31m# issue XML-RPC request\u001b[0m\u001b[0;34m\u001b[0m\u001b[0;34m\u001b[0m\u001b[0m\n\u001b[1;32m   1165\u001b[0m         \u001b[0;32mtry\u001b[0m\u001b[0;34m:\u001b[0m\u001b[0;34m\u001b[0m\u001b[0m\n\u001b[0;32m-> 1166\u001b[0;31m             \u001b[0mhttp_conn\u001b[0m \u001b[0;34m=\u001b[0m \u001b[0mself\u001b[0m\u001b[0;34m.\u001b[0m\u001b[0msend_request\u001b[0m\u001b[0;34m(\u001b[0m\u001b[0mhost\u001b[0m\u001b[0;34m,\u001b[0m \u001b[0mhandler\u001b[0m\u001b[0;34m,\u001b[0m \u001b[0mrequest_body\u001b[0m\u001b[0;34m,\u001b[0m \u001b[0mverbose\u001b[0m\u001b[0;34m)\u001b[0m\u001b[0;34m\u001b[0m\u001b[0m\n\u001b[0m\u001b[1;32m   1167\u001b[0m             \u001b[0mresp\u001b[0m \u001b[0;34m=\u001b[0m \u001b[0mhttp_conn\u001b[0m\u001b[0;34m.\u001b[0m\u001b[0mgetresponse\u001b[0m\u001b[0;34m(\u001b[0m\u001b[0;34m)\u001b[0m\u001b[0;34m\u001b[0m\u001b[0m\n\u001b[1;32m   1168\u001b[0m             \u001b[0;32mif\u001b[0m \u001b[0mresp\u001b[0m\u001b[0;34m.\u001b[0m\u001b[0mstatus\u001b[0m \u001b[0;34m==\u001b[0m \u001b[0;36m200\u001b[0m\u001b[0;34m:\u001b[0m\u001b[0;34m\u001b[0m\u001b[0m\n",
      "\u001b[0;32m~/anaconda3/lib/python3.6/xmlrpc/client.py\u001b[0m in \u001b[0;36msend_request\u001b[0;34m(self, host, handler, request_body, debug)\u001b[0m\n\u001b[1;32m   1277\u001b[0m         \u001b[0mheaders\u001b[0m\u001b[0;34m.\u001b[0m\u001b[0mappend\u001b[0m\u001b[0;34m(\u001b[0m\u001b[0;34m(\u001b[0m\u001b[0;34m\"User-Agent\"\u001b[0m\u001b[0;34m,\u001b[0m \u001b[0mself\u001b[0m\u001b[0;34m.\u001b[0m\u001b[0muser_agent\u001b[0m\u001b[0;34m)\u001b[0m\u001b[0;34m)\u001b[0m\u001b[0;34m\u001b[0m\u001b[0m\n\u001b[1;32m   1278\u001b[0m         \u001b[0mself\u001b[0m\u001b[0;34m.\u001b[0m\u001b[0msend_headers\u001b[0m\u001b[0;34m(\u001b[0m\u001b[0mconnection\u001b[0m\u001b[0;34m,\u001b[0m \u001b[0mheaders\u001b[0m\u001b[0;34m)\u001b[0m\u001b[0;34m\u001b[0m\u001b[0m\n\u001b[0;32m-> 1279\u001b[0;31m         \u001b[0mself\u001b[0m\u001b[0;34m.\u001b[0m\u001b[0msend_content\u001b[0m\u001b[0;34m(\u001b[0m\u001b[0mconnection\u001b[0m\u001b[0;34m,\u001b[0m \u001b[0mrequest_body\u001b[0m\u001b[0;34m)\u001b[0m\u001b[0;34m\u001b[0m\u001b[0m\n\u001b[0m\u001b[1;32m   1280\u001b[0m         \u001b[0;32mreturn\u001b[0m \u001b[0mconnection\u001b[0m\u001b[0;34m\u001b[0m\u001b[0m\n\u001b[1;32m   1281\u001b[0m \u001b[0;34m\u001b[0m\u001b[0m\n",
      "\u001b[0;32m~/anaconda3/lib/python3.6/xmlrpc/client.py\u001b[0m in \u001b[0;36msend_content\u001b[0;34m(self, connection, request_body)\u001b[0m\n\u001b[1;32m   1307\u001b[0m \u001b[0;34m\u001b[0m\u001b[0m\n\u001b[1;32m   1308\u001b[0m         \u001b[0mconnection\u001b[0m\u001b[0;34m.\u001b[0m\u001b[0mputheader\u001b[0m\u001b[0;34m(\u001b[0m\u001b[0;34m\"Content-Length\"\u001b[0m\u001b[0;34m,\u001b[0m \u001b[0mstr\u001b[0m\u001b[0;34m(\u001b[0m\u001b[0mlen\u001b[0m\u001b[0;34m(\u001b[0m\u001b[0mrequest_body\u001b[0m\u001b[0;34m)\u001b[0m\u001b[0;34m)\u001b[0m\u001b[0;34m)\u001b[0m\u001b[0;34m\u001b[0m\u001b[0m\n\u001b[0;32m-> 1309\u001b[0;31m         \u001b[0mconnection\u001b[0m\u001b[0;34m.\u001b[0m\u001b[0mendheaders\u001b[0m\u001b[0;34m(\u001b[0m\u001b[0mrequest_body\u001b[0m\u001b[0;34m)\u001b[0m\u001b[0;34m\u001b[0m\u001b[0m\n\u001b[0m\u001b[1;32m   1310\u001b[0m \u001b[0;34m\u001b[0m\u001b[0m\n\u001b[1;32m   1311\u001b[0m     \u001b[0;31m##\u001b[0m\u001b[0;34m\u001b[0m\u001b[0;34m\u001b[0m\u001b[0m\n",
      "\u001b[0;32m~/anaconda3/lib/python3.6/http/client.py\u001b[0m in \u001b[0;36mendheaders\u001b[0;34m(self, message_body, encode_chunked)\u001b[0m\n\u001b[1;32m   1232\u001b[0m         \u001b[0;32melse\u001b[0m\u001b[0;34m:\u001b[0m\u001b[0;34m\u001b[0m\u001b[0m\n\u001b[1;32m   1233\u001b[0m             \u001b[0;32mraise\u001b[0m \u001b[0mCannotSendHeader\u001b[0m\u001b[0;34m(\u001b[0m\u001b[0;34m)\u001b[0m\u001b[0;34m\u001b[0m\u001b[0m\n\u001b[0;32m-> 1234\u001b[0;31m         \u001b[0mself\u001b[0m\u001b[0;34m.\u001b[0m\u001b[0m_send_output\u001b[0m\u001b[0;34m(\u001b[0m\u001b[0mmessage_body\u001b[0m\u001b[0;34m,\u001b[0m \u001b[0mencode_chunked\u001b[0m\u001b[0;34m=\u001b[0m\u001b[0mencode_chunked\u001b[0m\u001b[0;34m)\u001b[0m\u001b[0;34m\u001b[0m\u001b[0m\n\u001b[0m\u001b[1;32m   1235\u001b[0m \u001b[0;34m\u001b[0m\u001b[0m\n\u001b[1;32m   1236\u001b[0m     def request(self, method, url, body=None, headers={}, *,\n",
      "\u001b[0;32m~/anaconda3/lib/python3.6/http/client.py\u001b[0m in \u001b[0;36m_send_output\u001b[0;34m(self, message_body, encode_chunked)\u001b[0m\n\u001b[1;32m   1024\u001b[0m         \u001b[0mmsg\u001b[0m \u001b[0;34m=\u001b[0m \u001b[0;34mb\"\\r\\n\"\u001b[0m\u001b[0;34m.\u001b[0m\u001b[0mjoin\u001b[0m\u001b[0;34m(\u001b[0m\u001b[0mself\u001b[0m\u001b[0;34m.\u001b[0m\u001b[0m_buffer\u001b[0m\u001b[0;34m)\u001b[0m\u001b[0;34m\u001b[0m\u001b[0m\n\u001b[1;32m   1025\u001b[0m         \u001b[0;32mdel\u001b[0m \u001b[0mself\u001b[0m\u001b[0;34m.\u001b[0m\u001b[0m_buffer\u001b[0m\u001b[0;34m[\u001b[0m\u001b[0;34m:\u001b[0m\u001b[0;34m]\u001b[0m\u001b[0;34m\u001b[0m\u001b[0m\n\u001b[0;32m-> 1026\u001b[0;31m         \u001b[0mself\u001b[0m\u001b[0;34m.\u001b[0m\u001b[0msend\u001b[0m\u001b[0;34m(\u001b[0m\u001b[0mmsg\u001b[0m\u001b[0;34m)\u001b[0m\u001b[0;34m\u001b[0m\u001b[0m\n\u001b[0m\u001b[1;32m   1027\u001b[0m \u001b[0;34m\u001b[0m\u001b[0m\n\u001b[1;32m   1028\u001b[0m         \u001b[0;32mif\u001b[0m \u001b[0mmessage_body\u001b[0m \u001b[0;32mis\u001b[0m \u001b[0;32mnot\u001b[0m \u001b[0;32mNone\u001b[0m\u001b[0;34m:\u001b[0m\u001b[0;34m\u001b[0m\u001b[0m\n",
      "\u001b[0;32m~/anaconda3/lib/python3.6/http/client.py\u001b[0m in \u001b[0;36msend\u001b[0;34m(self, data)\u001b[0m\n\u001b[1;32m    962\u001b[0m         \u001b[0;32mif\u001b[0m \u001b[0mself\u001b[0m\u001b[0;34m.\u001b[0m\u001b[0msock\u001b[0m \u001b[0;32mis\u001b[0m \u001b[0;32mNone\u001b[0m\u001b[0;34m:\u001b[0m\u001b[0;34m\u001b[0m\u001b[0m\n\u001b[1;32m    963\u001b[0m             \u001b[0;32mif\u001b[0m \u001b[0mself\u001b[0m\u001b[0;34m.\u001b[0m\u001b[0mauto_open\u001b[0m\u001b[0;34m:\u001b[0m\u001b[0;34m\u001b[0m\u001b[0m\n\u001b[0;32m--> 964\u001b[0;31m                 \u001b[0mself\u001b[0m\u001b[0;34m.\u001b[0m\u001b[0mconnect\u001b[0m\u001b[0;34m(\u001b[0m\u001b[0;34m)\u001b[0m\u001b[0;34m\u001b[0m\u001b[0m\n\u001b[0m\u001b[1;32m    965\u001b[0m             \u001b[0;32melse\u001b[0m\u001b[0;34m:\u001b[0m\u001b[0;34m\u001b[0m\u001b[0m\n\u001b[1;32m    966\u001b[0m                 \u001b[0;32mraise\u001b[0m \u001b[0mNotConnected\u001b[0m\u001b[0;34m(\u001b[0m\u001b[0;34m)\u001b[0m\u001b[0;34m\u001b[0m\u001b[0m\n",
      "\u001b[0;32m~/anaconda3/lib/python3.6/http/client.py\u001b[0m in \u001b[0;36mconnect\u001b[0;34m(self)\u001b[0m\n\u001b[1;32m    934\u001b[0m         \u001b[0;34m\"\"\"Connect to the host and port specified in __init__.\"\"\"\u001b[0m\u001b[0;34m\u001b[0m\u001b[0m\n\u001b[1;32m    935\u001b[0m         self.sock = self._create_connection(\n\u001b[0;32m--> 936\u001b[0;31m             (self.host,self.port), self.timeout, self.source_address)\n\u001b[0m\u001b[1;32m    937\u001b[0m         \u001b[0mself\u001b[0m\u001b[0;34m.\u001b[0m\u001b[0msock\u001b[0m\u001b[0;34m.\u001b[0m\u001b[0msetsockopt\u001b[0m\u001b[0;34m(\u001b[0m\u001b[0msocket\u001b[0m\u001b[0;34m.\u001b[0m\u001b[0mIPPROTO_TCP\u001b[0m\u001b[0;34m,\u001b[0m \u001b[0msocket\u001b[0m\u001b[0;34m.\u001b[0m\u001b[0mTCP_NODELAY\u001b[0m\u001b[0;34m,\u001b[0m \u001b[0;36m1\u001b[0m\u001b[0;34m)\u001b[0m\u001b[0;34m\u001b[0m\u001b[0m\n\u001b[1;32m    938\u001b[0m \u001b[0;34m\u001b[0m\u001b[0m\n",
      "\u001b[0;32m~/anaconda3/lib/python3.6/socket.py\u001b[0m in \u001b[0;36mcreate_connection\u001b[0;34m(address, timeout, source_address)\u001b[0m\n\u001b[1;32m    722\u001b[0m \u001b[0;34m\u001b[0m\u001b[0m\n\u001b[1;32m    723\u001b[0m     \u001b[0;32mif\u001b[0m \u001b[0merr\u001b[0m \u001b[0;32mis\u001b[0m \u001b[0;32mnot\u001b[0m \u001b[0;32mNone\u001b[0m\u001b[0;34m:\u001b[0m\u001b[0;34m\u001b[0m\u001b[0m\n\u001b[0;32m--> 724\u001b[0;31m         \u001b[0;32mraise\u001b[0m \u001b[0merr\u001b[0m\u001b[0;34m\u001b[0m\u001b[0m\n\u001b[0m\u001b[1;32m    725\u001b[0m     \u001b[0;32melse\u001b[0m\u001b[0;34m:\u001b[0m\u001b[0;34m\u001b[0m\u001b[0m\n\u001b[1;32m    726\u001b[0m         \u001b[0;32mraise\u001b[0m \u001b[0merror\u001b[0m\u001b[0;34m(\u001b[0m\u001b[0;34m\"getaddrinfo returns an empty list\"\u001b[0m\u001b[0;34m)\u001b[0m\u001b[0;34m\u001b[0m\u001b[0m\n",
      "\u001b[0;32m~/anaconda3/lib/python3.6/socket.py\u001b[0m in \u001b[0;36mcreate_connection\u001b[0;34m(address, timeout, source_address)\u001b[0m\n\u001b[1;32m    711\u001b[0m             \u001b[0;32mif\u001b[0m \u001b[0msource_address\u001b[0m\u001b[0;34m:\u001b[0m\u001b[0;34m\u001b[0m\u001b[0m\n\u001b[1;32m    712\u001b[0m                 \u001b[0msock\u001b[0m\u001b[0;34m.\u001b[0m\u001b[0mbind\u001b[0m\u001b[0;34m(\u001b[0m\u001b[0msource_address\u001b[0m\u001b[0;34m)\u001b[0m\u001b[0;34m\u001b[0m\u001b[0m\n\u001b[0;32m--> 713\u001b[0;31m             \u001b[0msock\u001b[0m\u001b[0;34m.\u001b[0m\u001b[0mconnect\u001b[0m\u001b[0;34m(\u001b[0m\u001b[0msa\u001b[0m\u001b[0;34m)\u001b[0m\u001b[0;34m\u001b[0m\u001b[0m\n\u001b[0m\u001b[1;32m    714\u001b[0m             \u001b[0;31m# Break explicitly a reference cycle\u001b[0m\u001b[0;34m\u001b[0m\u001b[0;34m\u001b[0m\u001b[0m\n\u001b[1;32m    715\u001b[0m             \u001b[0merr\u001b[0m \u001b[0;34m=\u001b[0m \u001b[0;32mNone\u001b[0m\u001b[0;34m\u001b[0m\u001b[0m\n",
      "\u001b[0;31mConnectionRefusedError\u001b[0m: [Errno 111] Connection refused"
     ]
    }
   ],
   "source": [
    "for name, smile in molecules.items():\n",
    "    m = Chem.MolFromSmiles(smile)\n",
    "    Draw.MolToFile(m, '/home/atarzia/psp/documents/psp_paper/figures/'+name+'.png')\n",
    "    ercollect.rdkit_functions.calc_molecule_diameter(name, smile, out_dir='./',\n",
    "                                           vdwScale=0.8, \n",
    "                                           boxMargin=6.0, spacing=0.3,\n",
    "                                           MW_thresh=130, show_vdw=True, \n",
    "                                           plot_ellip=False,\n",
    "                                           N_conformers=1)\n",
    "    input('done?')"
   ]
  },
  {
   "cell_type": "markdown",
   "metadata": {},
   "source": [
    "##  visualize all conformers of a molecule"
   ]
  },
  {
   "cell_type": "code",
   "execution_count": 26,
   "metadata": {
    "ExecuteTime": {
     "end_time": "2018-10-31T10:19:28.003072Z",
     "start_time": "2018-10-31T10:19:27.990543Z"
    }
   },
   "outputs": [],
   "source": [
    "molecules = {'urea': 'C(=O)(N)N',\n",
    "             }"
   ]
  },
  {
   "cell_type": "code",
   "execution_count": 27,
   "metadata": {
    "ExecuteTime": {
     "end_time": "2018-10-31T10:19:30.102425Z",
     "start_time": "2018-10-31T10:19:30.043196Z"
    }
   },
   "outputs": [
    {
     "data": {
      "application/3dmoljs_load.v0": "<div id=\"3dmolviewer_15443371939142494\"  style=\"position: relative; width: 400px; height: 400px\">\n        <p id=\"3dmolwarning_15443371939142494\" style=\"background-color:#ffcccc;color:black\">You appear to be running in JupyterLab.  You need to install the 3dmol extension: <br>\n        <tt>jupyter labextension install jupyterlab_3dmol</tt></p>\n        </div>\n<script>\n\nvar loadScriptAsync = function(uri){\n  return new Promise((resolve, reject) => {\n    var tag = document.createElement('script');\n    tag.src = uri;\n    tag.async = true;\n    tag.onload = () => {\n      resolve();\n    };\n  var firstScriptTag = document.getElementsByTagName('script')[0];\n  firstScriptTag.parentNode.insertBefore(tag, firstScriptTag);\n});\n};\n\nif(typeof $3Dmolpromise === 'undefined') {\n$3Dmolpromise = null;\n  $3Dmolpromise = loadScriptAsync('https://3dmol.csb.pitt.edu/build/3Dmol.js');\n}\n\nvar viewer_15443371939142494 = null;\nvar warn = document.getElementById(\"3dmolwarning_15443371939142494\");\nif(warn) {\n    warn.parentNode.removeChild(warn);\n}\n$3Dmolpromise.then(function() {\nviewer_15443371939142494 = $3Dmol.createViewer($(\"#3dmolviewer_15443371939142494\"),{backgroundColor:\"white\"});\n\tviewer_15443371939142494.removeAllModels();\n\tviewer_15443371939142494.addModel(\"\\n     RDKit          3D\\n\\n  8  7  0  0  0  0  0  0  0  0999 V2000\\n   -0.0511    0.5214   -0.0500 C   0  0  0  0  0  0  0  0  0  0  0  0\\n   -0.1737    1.7427   -0.1809 O   0  0  0  0  0  0  0  0  0  0  0  0\\n   -1.1695   -0.2940    0.3254 N   0  0  0  0  0  0  0  0  0  0  0  0\\n    1.1937   -0.1210   -0.2646 N   0  0  0  0  0  0  0  0  0  0  0  0\\n   -1.0337   -0.8912    1.1601 H   0  0  0  0  0  0  0  0  0  0  0  0\\n   -2.0157   -0.2263   -0.2562 H   0  0  0  0  0  0  0  0  0  0  0  0\\n    2.0091    0.0591    0.3520 H   0  0  0  0  0  0  0  0  0  0  0  0\\n    1.2409   -0.7906   -1.0857 H   0  0  0  0  0  0  0  0  0  0  0  0\\n  1  2  2  0\\n  1  3  1  0\\n  1  4  1  0\\n  3  5  1  0\\n  3  6  1  0\\n  4  7  1  0\\n  4  8  1  0\\nM  END\\n\",\"sdf\");\n\tviewer_15443371939142494.setStyle({\"stick\": {}});\n\tviewer_15443371939142494.setBackgroundColor(\"0xeeeeee\");\n\tviewer_15443371939142494.zoomTo();\nviewer_15443371939142494.render();\n});\n</script>",
      "text/html": [
       "<div id=\"3dmolviewer_15443371939142494\"  style=\"position: relative; width: 400px; height: 400px\">\n",
       "        <p id=\"3dmolwarning_15443371939142494\" style=\"background-color:#ffcccc;color:black\">You appear to be running in JupyterLab.  You need to install the 3dmol extension: <br>\n",
       "        <tt>jupyter labextension install jupyterlab_3dmol</tt></p>\n",
       "        </div>\n",
       "<script>\n",
       "\n",
       "var loadScriptAsync = function(uri){\n",
       "  return new Promise((resolve, reject) => {\n",
       "    var tag = document.createElement('script');\n",
       "    tag.src = uri;\n",
       "    tag.async = true;\n",
       "    tag.onload = () => {\n",
       "      resolve();\n",
       "    };\n",
       "  var firstScriptTag = document.getElementsByTagName('script')[0];\n",
       "  firstScriptTag.parentNode.insertBefore(tag, firstScriptTag);\n",
       "});\n",
       "};\n",
       "\n",
       "if(typeof $3Dmolpromise === 'undefined') {\n",
       "$3Dmolpromise = null;\n",
       "  $3Dmolpromise = loadScriptAsync('https://3dmol.csb.pitt.edu/build/3Dmol.js');\n",
       "}\n",
       "\n",
       "var viewer_15443371939142494 = null;\n",
       "var warn = document.getElementById(\"3dmolwarning_15443371939142494\");\n",
       "if(warn) {\n",
       "    warn.parentNode.removeChild(warn);\n",
       "}\n",
       "$3Dmolpromise.then(function() {\n",
       "viewer_15443371939142494 = $3Dmol.createViewer($(\"#3dmolviewer_15443371939142494\"),{backgroundColor:\"white\"});\n",
       "\tviewer_15443371939142494.removeAllModels();\n",
       "\tviewer_15443371939142494.addModel(\"\\n     RDKit          3D\\n\\n  8  7  0  0  0  0  0  0  0  0999 V2000\\n   -0.0511    0.5214   -0.0500 C   0  0  0  0  0  0  0  0  0  0  0  0\\n   -0.1737    1.7427   -0.1809 O   0  0  0  0  0  0  0  0  0  0  0  0\\n   -1.1695   -0.2940    0.3254 N   0  0  0  0  0  0  0  0  0  0  0  0\\n    1.1937   -0.1210   -0.2646 N   0  0  0  0  0  0  0  0  0  0  0  0\\n   -1.0337   -0.8912    1.1601 H   0  0  0  0  0  0  0  0  0  0  0  0\\n   -2.0157   -0.2263   -0.2562 H   0  0  0  0  0  0  0  0  0  0  0  0\\n    2.0091    0.0591    0.3520 H   0  0  0  0  0  0  0  0  0  0  0  0\\n    1.2409   -0.7906   -1.0857 H   0  0  0  0  0  0  0  0  0  0  0  0\\n  1  2  2  0\\n  1  3  1  0\\n  1  4  1  0\\n  3  5  1  0\\n  3  6  1  0\\n  4  7  1  0\\n  4  8  1  0\\nM  END\\n\",\"sdf\");\n",
       "\tviewer_15443371939142494.setStyle({\"stick\": {}});\n",
       "\tviewer_15443371939142494.setBackgroundColor(\"0xeeeeee\");\n",
       "\tviewer_15443371939142494.zoomTo();\n",
       "viewer_15443371939142494.render();\n",
       "});\n",
       "</script>"
      ]
     },
     "metadata": {},
     "output_type": "display_data"
    }
   ],
   "source": [
    "for name, smile in molecules.items():\n",
    "    # if name != 'MIM':\n",
    "    #     continue\n",
    "    m = Chem.MolFromSmiles(smile)\n",
    "    m = Chem.AddHs(m)\n",
    "    Chem.EmbedMultipleConfs(m, numConfs=10, randomSeed=0xf00d, \n",
    "                            useExpTorsionAnglePrefs=True,\n",
    "                            useBasicKnowledge=True)\n",
    "    p = py3Dmol.view(width=400,height=400)\n",
    "    interact(drawit, m=fixed(m),p=fixed(p),confId=(0,m.GetNumConformers()-1))"
   ]
  },
  {
   "cell_type": "code",
   "execution_count": 23,
   "metadata": {},
   "outputs": [
    {
     "data": {
      "image/png": "[encoded data removed]",
      "text/plain": [
       "<rdkit.Chem.rdchem.Mol at 0x7f5b71d03850>"
      ]
     },
     "execution_count": 23,
     "metadata": {},
     "output_type": "execute_result"
    }
   ],
   "source": [
    "m"
   ]
  },
  {
   "cell_type": "code",
   "execution_count": 24,
   "metadata": {
    "ExecuteTime": {
     "end_time": "2018-09-11T06:01:58.396423Z",
     "start_time": "2018-09-11T06:01:57.759990Z"
    }
   },
   "outputs": [
    {
     "data": {
      "application/3dmoljs_load.v0": "<div id=\"3dmolviewer_1544336327633447\"  style=\"position: relative; width: 400px; height: 400px\">\n        <p id=\"3dmolwarning_1544336327633447\" style=\"background-color:#ffcccc;color:black\">You appear to be running in JupyterLab.  You need to install the 3dmol extension: <br>\n        <tt>jupyter labextension install jupyterlab_3dmol</tt></p>\n        </div>\n<script>\n\nvar loadScriptAsync = function(uri){\n  return new Promise((resolve, reject) => {\n    var tag = document.createElement('script');\n    tag.src = uri;\n    tag.async = true;\n    tag.onload = () => {\n      resolve();\n    };\n  var firstScriptTag = document.getElementsByTagName('script')[0];\n  firstScriptTag.parentNode.insertBefore(tag, firstScriptTag);\n});\n};\n\nif(typeof $3Dmolpromise === 'undefined') {\n$3Dmolpromise = null;\n  $3Dmolpromise = loadScriptAsync('https://3dmol.csb.pitt.edu/build/3Dmol.js');\n}\n\nvar viewer_1544336327633447 = null;\nvar warn = document.getElementById(\"3dmolwarning_1544336327633447\");\nif(warn) {\n    warn.parentNode.removeChild(warn);\n}\n$3Dmolpromise.then(function() {\nviewer_1544336327633447 = $3Dmol.createViewer($(\"#3dmolviewer_1544336327633447\"),{backgroundColor:\"white\"});\n\tviewer_1544336327633447.addModel(\"\\n     RDKit          3D\\n\\n 22 22  0  0  0  0  0  0  0  0999 V2000\\n   -0.2715   -1.6911   -0.0721 C   0  0  0  0  0  0  0  0  0  0  0  0\\n   -1.5048   -0.8276   -0.1278 C   0  0  0  0  0  0  0  0  0  0  0  0\\n   -1.3023    0.4919   -0.7787 C   0  0  0  0  0  0  0  0  0  0  0  0\\n   -1.0025    1.6114    0.2099 C   0  0  0  0  0  0  0  0  0  0  0  0\\n    0.4896    1.8042    0.1944 C   0  0  0  0  0  0  0  0  0  0  0  0\\n    1.5695    1.0553    0.0708 C   0  0  0  0  0  0  0  0  0  0  0  0\\n    1.8392   -0.3870   -0.1186 C   0  0  0  0  0  0  0  0  0  0  0  0\\n    0.8274   -1.1386    0.7569 C   0  0  0  0  0  0  0  0  0  0  0  0\\n    0.0327   -1.9586   -1.0972 H   0  0  0  0  0  0  0  0  0  0  0  0\\n   -0.6045   -2.6617    0.4018 H   0  0  0  0  0  0  0  0  0  0  0  0\\n   -2.2523   -1.3961   -0.7251 H   0  0  0  0  0  0  0  0  0  0  0  0\\n   -1.9638   -0.7305    0.8942 H   0  0  0  0  0  0  0  0  0  0  0  0\\n   -0.4862    0.4199   -1.5426 H   0  0  0  0  0  0  0  0  0  0  0  0\\n   -2.2434    0.7852   -1.2896 H   0  0  0  0  0  0  0  0  0  0  0  0\\n   -1.3833    1.4113    1.2094 H   0  0  0  0  0  0  0  0  0  0  0  0\\n   -1.4395    2.5758   -0.1337 H   0  0  0  0  0  0  0  0  0  0  0  0\\n    0.7896    2.8519    0.3187 H   0  0  0  0  0  0  0  0  0  0  0  0\\n    2.4842    1.6229    0.1180 H   0  0  0  0  0  0  0  0  0  0  0  0\\n    1.6864   -0.6942   -1.1928 H   0  0  0  0  0  0  0  0  0  0  0  0\\n    2.8799   -0.6520    0.1497 H   0  0  0  0  0  0  0  0  0  0  0  0\\n    1.4053   -2.0087    1.1871 H   0  0  0  0  0  0  0  0  0  0  0  0\\n    0.4503   -0.4837    1.5672 H   0  0  0  0  0  0  0  0  0  0  0  0\\n  1  2  1  0\\n  2  3  1  0\\n  3  4  1  0\\n  4  5  1  0\\n  5  6  2  0\\n  6  7  1  0\\n  7  8  1  0\\n  8  1  1  0\\n  1  9  1  0\\n  1 10  1  0\\n  2 11  1  0\\n  2 12  1  0\\n  3 13  1  0\\n  3 14  1  0\\n  4 15  1  0\\n  4 16  1  0\\n  5 17  1  0\\n  6 18  1  0\\n  7 19  1  0\\n  7 20  1  0\\n  8 21  1  0\\n  8 22  1  0\\nM  END\\n\",\"sdf\");\n\tviewer_1544336327633447.setStyle({\"stick\": {}});\n\tviewer_1544336327633447.setBackgroundColor(\"0xeeeeee\");\n\tviewer_1544336327633447.zoomTo();\n\tviewer_1544336327633447.addModel(\"\\n     RDKit          3D\\n\\n 22 22  0  0  0  0  0  0  0  0999 V2000\\n   -0.5411    1.0922   -0.7933 C   0  0  0  0  0  0  0  0  0  0  0  0\\n    0.6284    1.3576    0.0992 C   0  0  0  0  0  0  0  0  0  0  0  0\\n    1.8182    0.4942   -0.1679 C   0  0  0  0  0  0  0  0  0  0  0  0\\n    1.6993   -0.8800    0.4525 C   0  0  0  0  0  0  0  0  0  0  0  0\\n    0.5652   -1.6511   -0.1237 C   0  0  0  0  0  0  0  0  0  0  0  0\\n   -0.7558   -1.5637   -0.0658 C   0  0  0  0  0  0  0  0  0  0  0  0\\n   -1.6962   -0.6436    0.6099 C   0  0  0  0  0  0  0  0  0  0  0  0\\n   -1.7849    0.7036   -0.0138 C   0  0  0  0  0  0  0  0  0  0  0  0\\n   -0.8292    2.0533   -1.3173 H   0  0  0  0  0  0  0  0  0  0  0  0\\n   -0.3267    0.3826   -1.6203 H   0  0  0  0  0  0  0  0  0  0  0  0\\n    0.9695    2.4267   -0.0096 H   0  0  0  0  0  0  0  0  0  0  0  0\\n    0.3004    1.2649    1.1646 H   0  0  0  0  0  0  0  0  0  0  0  0\\n    2.0464    0.4581   -1.2328 H   0  0  0  0  0  0  0  0  0  0  0  0\\n    2.6946    0.9808    0.3348 H   0  0  0  0  0  0  0  0  0  0  0  0\\n    1.6374   -0.7749    1.5504 H   0  0  0  0  0  0  0  0  0  0  0  0\\n    2.6258   -1.4289    0.2195 H   0  0  0  0  0  0  0  0  0  0  0  0\\n    0.8674   -2.4874   -0.7410 H   0  0  0  0  0  0  0  0  0  0  0  0\\n   -1.2070   -2.3548   -0.6532 H   0  0  0  0  0  0  0  0  0  0  0  0\\n   -2.7172   -1.1208    0.5455 H   0  0  0  0  0  0  0  0  0  0  0  0\\n   -1.4536   -0.5513    1.6977 H   0  0  0  0  0  0  0  0  0  0  0  0\\n   -1.8992    1.4689    0.7839 H   0  0  0  0  0  0  0  0  0  0  0  0\\n   -2.6416    0.7736   -0.7195 H   0  0  0  0  0  0  0  0  0  0  0  0\\n  1  2  1  0\\n  2  3  1  0\\n  3  4  1  0\\n  4  5  1  0\\n  5  6  2  0\\n  6  7  1  0\\n  7  8  1  0\\n  8  1  1  0\\n  1  9  1  0\\n  1 10  1  0\\n  2 11  1  0\\n  2 12  1  0\\n  3 13  1  0\\n  3 14  1  0\\n  4 15  1  0\\n  4 16  1  0\\n  5 17  1  0\\n  6 18  1  0\\n  7 19  1  0\\n  7 20  1  0\\n  8 21  1  0\\n  8 22  1  0\\nM  END\\n\",\"sdf\");\n\tviewer_1544336327633447.setStyle({\"stick\": {}});\n\tviewer_1544336327633447.setBackgroundColor(\"0xeeeeee\");\n\tviewer_1544336327633447.zoomTo();\n\tviewer_1544336327633447.addModel(\"\\n     RDKit          3D\\n\\n 22 22  0  0  0  0  0  0  0  0999 V2000\\n    0.5935    1.4077    0.3597 C   0  0  0  0  0  0  0  0  0  0  0  0\\n   -0.8653    1.4935    0.2386 C   0  0  0  0  0  0  0  0  0  0  0  0\\n   -1.5630    0.4107   -0.4918 C   0  0  0  0  0  0  0  0  0  0  0  0\\n   -1.5953   -0.9163    0.1822 C   0  0  0  0  0  0  0  0  0  0  0  0\\n   -0.4093   -1.7272    0.1705 C   0  0  0  0  0  0  0  0  0  0  0  0\\n    0.9225   -1.6942    0.1249 C   0  0  0  0  0  0  0  0  0  0  0  0\\n    1.8963   -0.6122    0.0551 C   0  0  0  0  0  0  0  0  0  0  0  0\\n    1.3122    0.5741   -0.6360 C   0  0  0  0  0  0  0  0  0  0  0  0\\n    0.8395    1.0922    1.4191 H   0  0  0  0  0  0  0  0  0  0  0  0\\n    1.0340    2.4490    0.3075 H   0  0  0  0  0  0  0  0  0  0  0  0\\n   -1.3576    1.5775    1.2527 H   0  0  0  0  0  0  0  0  0  0  0  0\\n   -1.1451    2.4669   -0.2629 H   0  0  0  0  0  0  0  0  0  0  0  0\\n   -2.6527    0.7403   -0.5219 H   0  0  0  0  0  0  0  0  0  0  0  0\\n   -1.3088    0.3444   -1.5711 H   0  0  0  0  0  0  0  0  0  0  0  0\\n   -1.9416   -0.7353    1.2407 H   0  0  0  0  0  0  0  0  0  0  0  0\\n   -2.4312   -1.4877   -0.2847 H   0  0  0  0  0  0  0  0  0  0  0  0\\n   -0.6949   -2.7987    0.2204 H   0  0  0  0  0  0  0  0  0  0  0  0\\n    1.3968   -2.6688    0.1425 H   0  0  0  0  0  0  0  0  0  0  0  0\\n    2.2224   -0.3217    1.0921 H   0  0  0  0  0  0  0  0  0  0  0  0\\n    2.8510   -0.9349   -0.4473 H   0  0  0  0  0  0  0  0  0  0  0  0\\n    2.1800    1.1255   -1.1054 H   0  0  0  0  0  0  0  0  0  0  0  0\\n    0.7166    0.2152   -1.4850 H   0  0  0  0  0  0  0  0  0  0  0  0\\n  1  2  1  0\\n  2  3  1  0\\n  3  4  1  0\\n  4  5  1  0\\n  5  6  2  0\\n  6  7  1  0\\n  7  8  1  0\\n  8  1  1  0\\n  1  9  1  0\\n  1 10  1  0\\n  2 11  1  0\\n  2 12  1  0\\n  3 13  1  0\\n  3 14  1  0\\n  4 15  1  0\\n  4 16  1  0\\n  5 17  1  0\\n  6 18  1  0\\n  7 19  1  0\\n  7 20  1  0\\n  8 21  1  0\\n  8 22  1  0\\nM  END\\n\",\"sdf\");\n\tviewer_1544336327633447.setStyle({\"stick\": {}});\n\tviewer_1544336327633447.setBackgroundColor(\"0xeeeeee\");\n\tviewer_1544336327633447.zoomTo();\n\tviewer_1544336327633447.addModel(\"\\n     RDKit          3D\\n\\n 22 22  0  0  0  0  0  0  0  0999 V2000\\n    0.9702    1.4128   -0.0280 C   0  0  0  0  0  0  0  0  0  0  0  0\\n   -0.2915    1.2294    0.7324 C   0  0  0  0  0  0  0  0  0  0  0  0\\n   -1.4733    0.8721   -0.1612 C   0  0  0  0  0  0  0  0  0  0  0  0\\n   -1.9826   -0.5383    0.1643 C   0  0  0  0  0  0  0  0  0  0  0  0\\n   -1.0474   -1.4711   -0.5387 C   0  0  0  0  0  0  0  0  0  0  0  0\\n    0.2579   -1.6820   -0.4749 C   0  0  0  0  0  0  0  0  0  0  0  0\\n    1.3469   -1.0510    0.3508 C   0  0  0  0  0  0  0  0  0  0  0  0\\n    1.8240    0.2351   -0.2195 C   0  0  0  0  0  0  0  0  0  0  0  0\\n    1.5854    2.2159    0.4773 H   0  0  0  0  0  0  0  0  0  0  0  0\\n    0.6933    1.8871   -1.0154 H   0  0  0  0  0  0  0  0  0  0  0  0\\n   -0.2241    0.5602    1.6049 H   0  0  0  0  0  0  0  0  0  0  0  0\\n   -0.5587    2.2408    1.1661 H   0  0  0  0  0  0  0  0  0  0  0  0\\n   -1.1147    0.8863   -1.2123 H   0  0  0  0  0  0  0  0  0  0  0  0\\n   -2.3252    1.5379   -0.0415 H   0  0  0  0  0  0  0  0  0  0  0  0\\n   -3.0079   -0.6759   -0.1726 H   0  0  0  0  0  0  0  0  0  0  0  0\\n   -1.8428   -0.7274    1.2517 H   0  0  0  0  0  0  0  0  0  0  0  0\\n   -1.5388   -2.1218   -1.2616 H   0  0  0  0  0  0  0  0  0  0  0  0\\n    0.6224   -2.4705   -1.1559 H   0  0  0  0  0  0  0  0  0  0  0  0\\n    2.2160   -1.7727    0.3065 H   0  0  0  0  0  0  0  0  0  0  0  0\\n    1.0351   -1.0269    1.3911 H   0  0  0  0  0  0  0  0  0  0  0  0\\n    2.8757    0.3957    0.1634 H   0  0  0  0  0  0  0  0  0  0  0  0\\n    1.9802    0.0643   -1.3268 H   0  0  0  0  0  0  0  0  0  0  0  0\\n  1  2  1  0\\n  2  3  1  0\\n  3  4  1  0\\n  4  5  1  0\\n  5  6  2  0\\n  6  7  1  0\\n  7  8  1  0\\n  8  1  1  0\\n  1  9  1  0\\n  1 10  1  0\\n  2 11  1  0\\n  2 12  1  0\\n  3 13  1  0\\n  3 14  1  0\\n  4 15  1  0\\n  4 16  1  0\\n  5 17  1  0\\n  6 18  1  0\\n  7 19  1  0\\n  7 20  1  0\\n  8 21  1  0\\n  8 22  1  0\\nM  END\\n\",\"sdf\");\n\tviewer_1544336327633447.setStyle({\"stick\": {}});\n\tviewer_1544336327633447.setBackgroundColor(\"0xeeeeee\");\n\tviewer_1544336327633447.zoomTo();\n\tviewer_1544336327633447.addModel(\"\\n     RDKit          3D\\n\\n 22 22  0  0  0  0  0  0  0  0999 V2000\\n   -0.3491   -1.6679   -0.0122 C   0  0  0  0  0  0  0  0  0  0  0  0\\n    0.9819   -1.0454   -0.4150 C   0  0  0  0  0  0  0  0  0  0  0  0\\n    1.5372   -0.2538    0.7255 C   0  0  0  0  0  0  0  0  0  0  0  0\\n    1.5463    1.2187    0.5025 C   0  0  0  0  0  0  0  0  0  0  0  0\\n    0.3618    1.7903   -0.1117 C   0  0  0  0  0  0  0  0  0  0  0  0\\n   -0.9269    1.4936   -0.2921 C   0  0  0  0  0  0  0  0  0  0  0  0\\n   -1.8155    0.3692    0.0720 C   0  0  0  0  0  0  0  0  0  0  0  0\\n   -1.5001   -0.9096   -0.6225 C   0  0  0  0  0  0  0  0  0  0  0  0\\n   -0.4250   -2.7201   -0.3590 H   0  0  0  0  0  0  0  0  0  0  0  0\\n   -0.4032   -1.6937    1.0941 H   0  0  0  0  0  0  0  0  0  0  0  0\\n    0.8063   -0.4342   -1.3268 H   0  0  0  0  0  0  0  0  0  0  0  0\\n    1.6751   -1.8750   -0.6717 H   0  0  0  0  0  0  0  0  0  0  0  0\\n    0.9904   -0.4712    1.6705 H   0  0  0  0  0  0  0  0  0  0  0  0\\n    2.6022   -0.5699    0.9196 H   0  0  0  0  0  0  0  0  0  0  0  0\\n    1.6908    1.7191    1.5036 H   0  0  0  0  0  0  0  0  0  0  0  0\\n    2.4429    1.4954   -0.0926 H   0  0  0  0  0  0  0  0  0  0  0  0\\n    0.6046    2.7513   -0.5584 H   0  0  0  0  0  0  0  0  0  0  0  0\\n   -1.4358    2.2787   -0.8425 H   0  0  0  0  0  0  0  0  0  0  0  0\\n   -2.8688    0.6418   -0.1781 H   0  0  0  0  0  0  0  0  0  0  0  0\\n   -1.8246    0.1829    1.1778 H   0  0  0  0  0  0  0  0  0  0  0  0\\n   -1.2869   -0.7226   -1.6731 H   0  0  0  0  0  0  0  0  0  0  0  0\\n   -2.4036   -1.5776   -0.5100 H   0  0  0  0  0  0  0  0  0  0  0  0\\n  1  2  1  0\\n  2  3  1  0\\n  3  4  1  0\\n  4  5  1  0\\n  5  6  2  0\\n  6  7  1  0\\n  7  8  1  0\\n  8  1  1  0\\n  1  9  1  0\\n  1 10  1  0\\n  2 11  1  0\\n  2 12  1  0\\n  3 13  1  0\\n  3 14  1  0\\n  4 15  1  0\\n  4 16  1  0\\n  5 17  1  0\\n  6 18  1  0\\n  7 19  1  0\\n  7 20  1  0\\n  8 21  1  0\\n  8 22  1  0\\nM  END\\n\",\"sdf\");\n\tviewer_1544336327633447.setStyle({\"stick\": {}});\n\tviewer_1544336327633447.setBackgroundColor(\"0xeeeeee\");\n\tviewer_1544336327633447.zoomTo();\n\tviewer_1544336327633447.addModel(\"\\n     RDKit          3D\\n\\n 22 22  0  0  0  0  0  0  0  0999 V2000\\n   -1.3543   -1.0223   -0.0239 C   0  0  0  0  0  0  0  0  0  0  0  0\\n    0.0158   -1.4172    0.4255 C   0  0  0  0  0  0  0  0  0  0  0  0\\n    0.9745   -1.1270   -0.7246 C   0  0  0  0  0  0  0  0  0  0  0  0\\n    2.0398   -0.2089   -0.1788 C   0  0  0  0  0  0  0  0  0  0  0  0\\n    1.4706    1.0853    0.2410 C   0  0  0  0  0  0  0  0  0  0  0  0\\n    0.3109    1.7205    0.1975 C   0  0  0  0  0  0  0  0  0  0  0  0\\n   -1.0515    1.4558   -0.3076 C   0  0  0  0  0  0  0  0  0  0  0  0\\n   -1.7594    0.3583    0.4250 C   0  0  0  0  0  0  0  0  0  0  0  0\\n   -1.4844   -1.1023   -1.1020 H   0  0  0  0  0  0  0  0  0  0  0  0\\n   -2.0752   -1.7329    0.4536 H   0  0  0  0  0  0  0  0  0  0  0  0\\n    0.3096   -0.9186    1.3569 H   0  0  0  0  0  0  0  0  0  0  0  0\\n    0.0407   -2.5248    0.5943 H   0  0  0  0  0  0  0  0  0  0  0  0\\n    1.4434   -2.0334   -1.1235 H   0  0  0  0  0  0  0  0  0  0  0  0\\n    0.4795   -0.6083   -1.5549 H   0  0  0  0  0  0  0  0  0  0  0  0\\n    2.4800   -0.7441    0.7132 H   0  0  0  0  0  0  0  0  0  0  0  0\\n    2.8708   -0.1123   -0.9051 H   0  0  0  0  0  0  0  0  0  0  0  0\\n    2.2198    1.6901    0.7249 H   0  0  0  0  0  0  0  0  0  0  0  0\\n    0.4108    2.6925    0.6622 H   0  0  0  0  0  0  0  0  0  0  0  0\\n   -1.0853    1.2319   -1.3852 H   0  0  0  0  0  0  0  0  0  0  0  0\\n   -1.6811    2.3795   -0.1733 H   0  0  0  0  0  0  0  0  0  0  0  0\\n   -1.7208    0.4808    1.5235 H   0  0  0  0  0  0  0  0  0  0  0  0\\n   -2.8544    0.4576    0.1614 H   0  0  0  0  0  0  0  0  0  0  0  0\\n  1  2  1  0\\n  2  3  1  0\\n  3  4  1  0\\n  4  5  1  0\\n  5  6  2  0\\n  6  7  1  0\\n  7  8  1  0\\n  8  1  1  0\\n  1  9  1  0\\n  1 10  1  0\\n  2 11  1  0\\n  2 12  1  0\\n  3 13  1  0\\n  3 14  1  0\\n  4 15  1  0\\n  4 16  1  0\\n  5 17  1  0\\n  6 18  1  0\\n  7 19  1  0\\n  7 20  1  0\\n  8 21  1  0\\n  8 22  1  0\\nM  END\\n\",\"sdf\");\n\tviewer_1544336327633447.setStyle({\"stick\": {}});\n\tviewer_1544336327633447.setBackgroundColor(\"0xeeeeee\");\n\tviewer_1544336327633447.zoomTo();\n\tviewer_1544336327633447.addModel(\"\\n     RDKit          3D\\n\\n 22 22  0  0  0  0  0  0  0  0999 V2000\\n   -0.8408    1.4753   -0.3871 C   0  0  0  0  0  0  0  0  0  0  0  0\\n    0.3494    1.3221    0.4829 C   0  0  0  0  0  0  0  0  0  0  0  0\\n    1.5377    0.6984   -0.2321 C   0  0  0  0  0  0  0  0  0  0  0  0\\n    1.8596   -0.6199    0.4794 C   0  0  0  0  0  0  0  0  0  0  0  0\\n    0.9174   -1.6609   -0.0147 C   0  0  0  0  0  0  0  0  0  0  0  0\\n   -0.3997   -1.7653   -0.0702 C   0  0  0  0  0  0  0  0  0  0  0  0\\n   -1.4933   -0.8404    0.3593 C   0  0  0  0  0  0  0  0  0  0  0  0\\n   -1.6881    0.2902   -0.5829 C   0  0  0  0  0  0  0  0  0  0  0  0\\n   -0.4799    1.8347   -1.3930 H   0  0  0  0  0  0  0  0  0  0  0  0\\n   -1.4557    2.3407   -0.0012 H   0  0  0  0  0  0  0  0  0  0  0  0\\n    0.1642    0.8158    1.4375 H   0  0  0  0  0  0  0  0  0  0  0  0\\n    0.6937    2.3634    0.7621 H   0  0  0  0  0  0  0  0  0  0  0  0\\n    1.3133    0.5018   -1.2941 H   0  0  0  0  0  0  0  0  0  0  0  0\\n    2.4429    1.3032   -0.1834 H   0  0  0  0  0  0  0  0  0  0  0  0\\n    1.6543   -0.4150    1.5654 H   0  0  0  0  0  0  0  0  0  0  0  0\\n    2.9031   -0.9074    0.3811 H   0  0  0  0  0  0  0  0  0  0  0  0\\n    1.4323   -2.5054   -0.4093 H   0  0  0  0  0  0  0  0  0  0  0  0\\n   -0.7576   -2.7109   -0.5169 H   0  0  0  0  0  0  0  0  0  0  0  0\\n   -2.4324   -1.4552    0.3534 H   0  0  0  0  0  0  0  0  0  0  0  0\\n   -1.3672   -0.5287    1.4184 H   0  0  0  0  0  0  0  0  0  0  0  0\\n   -2.7773    0.5857   -0.5287 H   0  0  0  0  0  0  0  0  0  0  0  0\\n   -1.5757   -0.1222   -1.6257 H   0  0  0  0  0  0  0  0  0  0  0  0\\n  1  2  1  0\\n  2  3  1  0\\n  3  4  1  0\\n  4  5  1  0\\n  5  6  2  0\\n  6  7  1  0\\n  7  8  1  0\\n  8  1  1  0\\n  1  9  1  0\\n  1 10  1  0\\n  2 11  1  0\\n  2 12  1  0\\n  3 13  1  0\\n  3 14  1  0\\n  4 15  1  0\\n  4 16  1  0\\n  5 17  1  0\\n  6 18  1  0\\n  7 19  1  0\\n  7 20  1  0\\n  8 21  1  0\\n  8 22  1  0\\nM  END\\n\",\"sdf\");\n\tviewer_1544336327633447.setStyle({\"stick\": {}});\n\tviewer_1544336327633447.setBackgroundColor(\"0xeeeeee\");\n\tviewer_1544336327633447.zoomTo();\n\tviewer_1544336327633447.addModel(\"\\n     RDKit          3D\\n\\n 22 22  0  0  0  0  0  0  0  0999 V2000\\n    0.7209   -1.4732    0.4893 C   0  0  0  0  0  0  0  0  0  0  0  0\\n   -0.3793   -1.3365   -0.5071 C   0  0  0  0  0  0  0  0  0  0  0  0\\n   -1.6001   -0.6510    0.0691 C   0  0  0  0  0  0  0  0  0  0  0  0\\n   -1.7876    0.7374   -0.5019 C   0  0  0  0  0  0  0  0  0  0  0  0\\n   -0.7746    1.6890   -0.0027 C   0  0  0  0  0  0  0  0  0  0  0  0\\n    0.5413    1.7156    0.0529 C   0  0  0  0  0  0  0  0  0  0  0  0\\n    1.5849    0.7298   -0.3967 C   0  0  0  0  0  0  0  0  0  0  0  0\\n    1.6528   -0.3490    0.6165 C   0  0  0  0  0  0  0  0  0  0  0  0\\n    1.2872   -2.4240    0.2604 H   0  0  0  0  0  0  0  0  0  0  0  0\\n    0.2344   -1.7012    1.4830 H   0  0  0  0  0  0  0  0  0  0  0  0\\n   -0.7295   -2.3860   -0.7480 H   0  0  0  0  0  0  0  0  0  0  0  0\\n   -0.0762   -0.9146   -1.4746 H   0  0  0  0  0  0  0  0  0  0  0  0\\n   -1.5115   -0.5501    1.1636 H   0  0  0  0  0  0  0  0  0  0  0  0\\n   -2.5417   -1.2025   -0.1282 H   0  0  0  0  0  0  0  0  0  0  0  0\\n   -2.8053    1.0691   -0.1795 H   0  0  0  0  0  0  0  0  0  0  0  0\\n   -1.8028    0.7243   -1.6083 H   0  0  0  0  0  0  0  0  0  0  0  0\\n   -1.2081    2.5780    0.4192 H   0  0  0  0  0  0  0  0  0  0  0  0\\n    0.9192    2.6136    0.5054 H   0  0  0  0  0  0  0  0  0  0  0  0\\n    1.4634    0.4221   -1.4300 H   0  0  0  0  0  0  0  0  0  0  0  0\\n    2.5630    1.2959   -0.3511 H   0  0  0  0  0  0  0  0  0  0  0  0\\n    1.5305    0.1376    1.6302 H   0  0  0  0  0  0  0  0  0  0  0  0\\n    2.7192   -0.7242    0.6386 H   0  0  0  0  0  0  0  0  0  0  0  0\\n  1  2  1  0\\n  2  3  1  0\\n  3  4  1  0\\n  4  5  1  0\\n  5  6  2  0\\n  6  7  1  0\\n  7  8  1  0\\n  8  1  1  0\\n  1  9  1  0\\n  1 10  1  0\\n  2 11  1  0\\n  2 12  1  0\\n  3 13  1  0\\n  3 14  1  0\\n  4 15  1  0\\n  4 16  1  0\\n  5 17  1  0\\n  6 18  1  0\\n  7 19  1  0\\n  7 20  1  0\\n  8 21  1  0\\n  8 22  1  0\\nM  END\\n\",\"sdf\");\n\tviewer_1544336327633447.setStyle({\"stick\": {}});\n\tviewer_1544336327633447.setBackgroundColor(\"0xeeeeee\");\n\tviewer_1544336327633447.zoomTo();\n\tviewer_1544336327633447.addModel(\"\\n     RDKit          3D\\n\\n 22 22  0  0  0  0  0  0  0  0999 V2000\\n   -0.4984    1.5450    0.4547 C   0  0  0  0  0  0  0  0  0  0  0  0\\n    0.7791    1.3852   -0.3493 C   0  0  0  0  0  0  0  0  0  0  0  0\\n    1.6144    0.3419    0.3391 C   0  0  0  0  0  0  0  0  0  0  0  0\\n    1.6506   -0.9555   -0.3766 C   0  0  0  0  0  0  0  0  0  0  0  0\\n    0.4082   -1.7280   -0.3521 C   0  0  0  0  0  0  0  0  0  0  0  0\\n   -0.8788   -1.6401   -0.0378 C   0  0  0  0  0  0  0  0  0  0  0  0\\n   -1.7092   -0.5576    0.4986 C   0  0  0  0  0  0  0  0  0  0  0  0\\n   -1.5666    0.7409   -0.2676 C   0  0  0  0  0  0  0  0  0  0  0  0\\n   -0.3403    1.1683    1.5019 H   0  0  0  0  0  0  0  0  0  0  0  0\\n   -0.8174    2.5907    0.5528 H   0  0  0  0  0  0  0  0  0  0  0  0\\n    1.2544    2.3599   -0.4316 H   0  0  0  0  0  0  0  0  0  0  0  0\\n    0.5699    1.0172   -1.3792 H   0  0  0  0  0  0  0  0  0  0  0  0\\n    1.3057    0.1748    1.4010 H   0  0  0  0  0  0  0  0  0  0  0  0\\n    2.6857    0.6986    0.3947 H   0  0  0  0  0  0  0  0  0  0  0  0\\n    2.4736   -1.5718    0.0806 H   0  0  0  0  0  0  0  0  0  0  0  0\\n    1.9690   -0.7819   -1.4415 H   0  0  0  0  0  0  0  0  0  0  0  0\\n    0.6005   -2.7477   -0.7263 H   0  0  0  0  0  0  0  0  0  0  0  0\\n   -1.4512   -2.5441   -0.2048 H   0  0  0  0  0  0  0  0  0  0  0  0\\n   -1.5018   -0.4131    1.5705 H   0  0  0  0  0  0  0  0  0  0  0  0\\n   -2.8002   -0.8295    0.4390 H   0  0  0  0  0  0  0  0  0  0  0  0\\n   -1.2428    0.4548   -1.2993 H   0  0  0  0  0  0  0  0  0  0  0  0\\n   -2.5045    1.2920   -0.3669 H   0  0  0  0  0  0  0  0  0  0  0  0\\n  1  2  1  0\\n  2  3  1  0\\n  3  4  1  0\\n  4  5  1  0\\n  5  6  2  0\\n  6  7  1  0\\n  7  8  1  0\\n  8  1  1  0\\n  1  9  1  0\\n  1 10  1  0\\n  2 11  1  0\\n  2 12  1  0\\n  3 13  1  0\\n  3 14  1  0\\n  4 15  1  0\\n  4 16  1  0\\n  5 17  1  0\\n  6 18  1  0\\n  7 19  1  0\\n  7 20  1  0\\n  8 21  1  0\\n  8 22  1  0\\nM  END\\n\",\"sdf\");\n\tviewer_1544336327633447.setStyle({\"stick\": {}});\n\tviewer_1544336327633447.setBackgroundColor(\"0xeeeeee\");\n\tviewer_1544336327633447.zoomTo();\n\tviewer_1544336327633447.addModel(\"\\n     RDKit          3D\\n\\n 22 22  0  0  0  0  0  0  0  0999 V2000\\n    0.4267   -1.3570    0.5421 C   0  0  0  0  0  0  0  0  0  0  0  0\\n   -0.9607   -1.4466    0.0126 C   0  0  0  0  0  0  0  0  0  0  0  0\\n   -1.8035   -0.2308    0.2771 C   0  0  0  0  0  0  0  0  0  0  0  0\\n   -1.4359    0.9591   -0.5467 C   0  0  0  0  0  0  0  0  0  0  0  0\\n   -0.3231    1.7476    0.0499 C   0  0  0  0  0  0  0  0  0  0  0  0\\n    0.9779    1.5849    0.2395 C   0  0  0  0  0  0  0  0  0  0  0  0\\n    1.9580    0.5319   -0.0534 C   0  0  0  0  0  0  0  0  0  0  0  0\\n    1.3372   -0.7678   -0.4915 C   0  0  0  0  0  0  0  0  0  0  0  0\\n    0.7739   -2.4051    0.7752 H   0  0  0  0  0  0  0  0  0  0  0  0\\n    0.5147   -0.8002    1.5032 H   0  0  0  0  0  0  0  0  0  0  0  0\\n   -0.9302   -1.7356   -1.0444 H   0  0  0  0  0  0  0  0  0  0  0  0\\n   -1.4680   -2.3009    0.5467 H   0  0  0  0  0  0  0  0  0  0  0  0\\n   -2.8601   -0.5183    0.0984 H   0  0  0  0  0  0  0  0  0  0  0  0\\n   -1.6702    0.0413    1.3527 H   0  0  0  0  0  0  0  0  0  0  0  0\\n   -2.3438    1.6238   -0.5663 H   0  0  0  0  0  0  0  0  0  0  0  0\\n   -1.2312    0.7239   -1.6116 H   0  0  0  0  0  0  0  0  0  0  0  0\\n   -0.6208    2.7160    0.4425 H   0  0  0  0  0  0  0  0  0  0  0  0\\n    1.4513    2.4260    0.7300 H   0  0  0  0  0  0  0  0  0  0  0  0\\n    2.5776    0.8931   -0.9197 H   0  0  0  0  0  0  0  0  0  0  0  0\\n    2.6373    0.3334    0.8148 H   0  0  0  0  0  0  0  0  0  0  0  0\\n    0.7941   -0.5549   -1.4539 H   0  0  0  0  0  0  0  0  0  0  0  0\\n    2.1987   -1.4638   -0.6973 H   0  0  0  0  0  0  0  0  0  0  0  0\\n  1  2  1  0\\n  2  3  1  0\\n  3  4  1  0\\n  4  5  1  0\\n  5  6  2  0\\n  6  7  1  0\\n  7  8  1  0\\n  8  1  1  0\\n  1  9  1  0\\n  1 10  1  0\\n  2 11  1  0\\n  2 12  1  0\\n  3 13  1  0\\n  3 14  1  0\\n  4 15  1  0\\n  4 16  1  0\\n  5 17  1  0\\n  6 18  1  0\\n  7 19  1  0\\n  7 20  1  0\\n  8 21  1  0\\n  8 22  1  0\\nM  END\\n\",\"sdf\");\n\tviewer_1544336327633447.setStyle({\"stick\": {}});\n\tviewer_1544336327633447.setBackgroundColor(\"0xeeeeee\");\n\tviewer_1544336327633447.zoomTo();\nviewer_1544336327633447.render();\n});\n</script>",
      "text/html": [
       "<div id=\"3dmolviewer_1544336327633447\"  style=\"position: relative; width: 400px; height: 400px\">\n",
       "        <p id=\"3dmolwarning_1544336327633447\" style=\"background-color:#ffcccc;color:black\">You appear to be running in JupyterLab.  You need to install the 3dmol extension: <br>\n",
       "        <tt>jupyter labextension install jupyterlab_3dmol</tt></p>\n",
       "        </div>\n",
       "<script>\n",
       "\n",
       "var loadScriptAsync = function(uri){\n",
       "  return new Promise((resolve, reject) => {\n",
       "    var tag = document.createElement('script');\n",
       "    tag.src = uri;\n",
       "    tag.async = true;\n",
       "    tag.onload = () => {\n",
       "      resolve();\n",
       "    };\n",
       "  var firstScriptTag = document.getElementsByTagName('script')[0];\n",
       "  firstScriptTag.parentNode.insertBefore(tag, firstScriptTag);\n",
       "});\n",
       "};\n",
       "\n",
       "if(typeof $3Dmolpromise === 'undefined') {\n",
       "$3Dmolpromise = null;\n",
       "  $3Dmolpromise = loadScriptAsync('https://3dmol.csb.pitt.edu/build/3Dmol.js');\n",
       "}\n",
       "\n",
       "var viewer_1544336327633447 = null;\n",
       "var warn = document.getElementById(\"3dmolwarning_1544336327633447\");\n",
       "if(warn) {\n",
       "    warn.parentNode.removeChild(warn);\n",
       "}\n",
       "$3Dmolpromise.then(function() {\n",
       "viewer_1544336327633447 = $3Dmol.createViewer($(\"#3dmolviewer_1544336327633447\"),{backgroundColor:\"white\"});\n",
       "\tviewer_1544336327633447.addModel(\"\\n     RDKit          3D\\n\\n 22 22  0  0  0  0  0  0  0  0999 V2000\\n   -0.2715   -1.6911   -0.0721 C   0  0  0  0  0  0  0  0  0  0  0  0\\n   -1.5048   -0.8276   -0.1278 C   0  0  0  0  0  0  0  0  0  0  0  0\\n   -1.3023    0.4919   -0.7787 C   0  0  0  0  0  0  0  0  0  0  0  0\\n   -1.0025    1.6114    0.2099 C   0  0  0  0  0  0  0  0  0  0  0  0\\n    0.4896    1.8042    0.1944 C   0  0  0  0  0  0  0  0  0  0  0  0\\n    1.5695    1.0553    0.0708 C   0  0  0  0  0  0  0  0  0  0  0  0\\n    1.8392   -0.3870   -0.1186 C   0  0  0  0  0  0  0  0  0  0  0  0\\n    0.8274   -1.1386    0.7569 C   0  0  0  0  0  0  0  0  0  0  0  0\\n    0.0327   -1.9586   -1.0972 H   0  0  0  0  0  0  0  0  0  0  0  0\\n   -0.6045   -2.6617    0.4018 H   0  0  0  0  0  0  0  0  0  0  0  0\\n   -2.2523   -1.3961   -0.7251 H   0  0  0  0  0  0  0  0  0  0  0  0\\n   -1.9638   -0.7305    0.8942 H   0  0  0  0  0  0  0  0  0  0  0  0\\n   -0.4862    0.4199   -1.5426 H   0  0  0  0  0  0  0  0  0  0  0  0\\n   -2.2434    0.7852   -1.2896 H   0  0  0  0  0  0  0  0  0  0  0  0\\n   -1.3833    1.4113    1.2094 H   0  0  0  0  0  0  0  0  0  0  0  0\\n   -1.4395    2.5758   -0.1337 H   0  0  0  0  0  0  0  0  0  0  0  0\\n    0.7896    2.8519    0.3187 H   0  0  0  0  0  0  0  0  0  0  0  0\\n    2.4842    1.6229    0.1180 H   0  0  0  0  0  0  0  0  0  0  0  0\\n    1.6864   -0.6942   -1.1928 H   0  0  0  0  0  0  0  0  0  0  0  0\\n    2.8799   -0.6520    0.1497 H   0  0  0  0  0  0  0  0  0  0  0  0\\n    1.4053   -2.0087    1.1871 H   0  0  0  0  0  0  0  0  0  0  0  0\\n    0.4503   -0.4837    1.5672 H   0  0  0  0  0  0  0  0  0  0  0  0\\n  1  2  1  0\\n  2  3  1  0\\n  3  4  1  0\\n  4  5  1  0\\n  5  6  2  0\\n  6  7  1  0\\n  7  8  1  0\\n  8  1  1  0\\n  1  9  1  0\\n  1 10  1  0\\n  2 11  1  0\\n  2 12  1  0\\n  3 13  1  0\\n  3 14  1  0\\n  4 15  1  0\\n  4 16  1  0\\n  5 17  1  0\\n  6 18  1  0\\n  7 19  1  0\\n  7 20  1  0\\n  8 21  1  0\\n  8 22  1  0\\nM  END\\n\",\"sdf\");\n",
       "\tviewer_1544336327633447.setStyle({\"stick\": {}});\n",
       "\tviewer_1544336327633447.setBackgroundColor(\"0xeeeeee\");\n",
       "\tviewer_1544336327633447.zoomTo();\n",
       "\tviewer_1544336327633447.addModel(\"\\n     RDKit          3D\\n\\n 22 22  0  0  0  0  0  0  0  0999 V2000\\n   -0.5411    1.0922   -0.7933 C   0  0  0  0  0  0  0  0  0  0  0  0\\n    0.6284    1.3576    0.0992 C   0  0  0  0  0  0  0  0  0  0  0  0\\n    1.8182    0.4942   -0.1679 C   0  0  0  0  0  0  0  0  0  0  0  0\\n    1.6993   -0.8800    0.4525 C   0  0  0  0  0  0  0  0  0  0  0  0\\n    0.5652   -1.6511   -0.1237 C   0  0  0  0  0  0  0  0  0  0  0  0\\n   -0.7558   -1.5637   -0.0658 C   0  0  0  0  0  0  0  0  0  0  0  0\\n   -1.6962   -0.6436    0.6099 C   0  0  0  0  0  0  0  0  0  0  0  0\\n   -1.7849    0.7036   -0.0138 C   0  0  0  0  0  0  0  0  0  0  0  0\\n   -0.8292    2.0533   -1.3173 H   0  0  0  0  0  0  0  0  0  0  0  0\\n   -0.3267    0.3826   -1.6203 H   0  0  0  0  0  0  0  0  0  0  0  0\\n    0.9695    2.4267   -0.0096 H   0  0  0  0  0  0  0  0  0  0  0  0\\n    0.3004    1.2649    1.1646 H   0  0  0  0  0  0  0  0  0  0  0  0\\n    2.0464    0.4581   -1.2328 H   0  0  0  0  0  0  0  0  0  0  0  0\\n    2.6946    0.9808    0.3348 H   0  0  0  0  0  0  0  0  0  0  0  0\\n    1.6374   -0.7749    1.5504 H   0  0  0  0  0  0  0  0  0  0  0  0\\n    2.6258   -1.4289    0.2195 H   0  0  0  0  0  0  0  0  0  0  0  0\\n    0.8674   -2.4874   -0.7410 H   0  0  0  0  0  0  0  0  0  0  0  0\\n   -1.2070   -2.3548   -0.6532 H   0  0  0  0  0  0  0  0  0  0  0  0\\n   -2.7172   -1.1208    0.5455 H   0  0  0  0  0  0  0  0  0  0  0  0\\n   -1.4536   -0.5513    1.6977 H   0  0  0  0  0  0  0  0  0  0  0  0\\n   -1.8992    1.4689    0.7839 H   0  0  0  0  0  0  0  0  0  0  0  0\\n   -2.6416    0.7736   -0.7195 H   0  0  0  0  0  0  0  0  0  0  0  0\\n  1  2  1  0\\n  2  3  1  0\\n  3  4  1  0\\n  4  5  1  0\\n  5  6  2  0\\n  6  7  1  0\\n  7  8  1  0\\n  8  1  1  0\\n  1  9  1  0\\n  1 10  1  0\\n  2 11  1  0\\n  2 12  1  0\\n  3 13  1  0\\n  3 14  1  0\\n  4 15  1  0\\n  4 16  1  0\\n  5 17  1  0\\n  6 18  1  0\\n  7 19  1  0\\n  7 20  1  0\\n  8 21  1  0\\n  8 22  1  0\\nM  END\\n\",\"sdf\");\n",
       "\tviewer_1544336327633447.setStyle({\"stick\": {}});\n",
       "\tviewer_1544336327633447.setBackgroundColor(\"0xeeeeee\");\n",
       "\tviewer_1544336327633447.zoomTo();\n",
       "\tviewer_1544336327633447.addModel(\"\\n     RDKit          3D\\n\\n 22 22  0  0  0  0  0  0  0  0999 V2000\\n    0.5935    1.4077    0.3597 C   0  0  0  0  0  0  0  0  0  0  0  0\\n   -0.8653    1.4935    0.2386 C   0  0  0  0  0  0  0  0  0  0  0  0\\n   -1.5630    0.4107   -0.4918 C   0  0  0  0  0  0  0  0  0  0  0  0\\n   -1.5953   -0.9163    0.1822 C   0  0  0  0  0  0  0  0  0  0  0  0\\n   -0.4093   -1.7272    0.1705 C   0  0  0  0  0  0  0  0  0  0  0  0\\n    0.9225   -1.6942    0.1249 C   0  0  0  0  0  0  0  0  0  0  0  0\\n    1.8963   -0.6122    0.0551 C   0  0  0  0  0  0  0  0  0  0  0  0\\n    1.3122    0.5741   -0.6360 C   0  0  0  0  0  0  0  0  0  0  0  0\\n    0.8395    1.0922    1.4191 H   0  0  0  0  0  0  0  0  0  0  0  0\\n    1.0340    2.4490    0.3075 H   0  0  0  0  0  0  0  0  0  0  0  0\\n   -1.3576    1.5775    1.2527 H   0  0  0  0  0  0  0  0  0  0  0  0\\n   -1.1451    2.4669   -0.2629 H   0  0  0  0  0  0  0  0  0  0  0  0\\n   -2.6527    0.7403   -0.5219 H   0  0  0  0  0  0  0  0  0  0  0  0\\n   -1.3088    0.3444   -1.5711 H   0  0  0  0  0  0  0  0  0  0  0  0\\n   -1.9416   -0.7353    1.2407 H   0  0  0  0  0  0  0  0  0  0  0  0\\n   -2.4312   -1.4877   -0.2847 H   0  0  0  0  0  0  0  0  0  0  0  0\\n   -0.6949   -2.7987    0.2204 H   0  0  0  0  0  0  0  0  0  0  0  0\\n    1.3968   -2.6688    0.1425 H   0  0  0  0  0  0  0  0  0  0  0  0\\n    2.2224   -0.3217    1.0921 H   0  0  0  0  0  0  0  0  0  0  0  0\\n    2.8510   -0.9349   -0.4473 H   0  0  0  0  0  0  0  0  0  0  0  0\\n    2.1800    1.1255   -1.1054 H   0  0  0  0  0  0  0  0  0  0  0  0\\n    0.7166    0.2152   -1.4850 H   0  0  0  0  0  0  0  0  0  0  0  0\\n  1  2  1  0\\n  2  3  1  0\\n  3  4  1  0\\n  4  5  1  0\\n  5  6  2  0\\n  6  7  1  0\\n  7  8  1  0\\n  8  1  1  0\\n  1  9  1  0\\n  1 10  1  0\\n  2 11  1  0\\n  2 12  1  0\\n  3 13  1  0\\n  3 14  1  0\\n  4 15  1  0\\n  4 16  1  0\\n  5 17  1  0\\n  6 18  1  0\\n  7 19  1  0\\n  7 20  1  0\\n  8 21  1  0\\n  8 22  1  0\\nM  END\\n\",\"sdf\");\n",
       "\tviewer_1544336327633447.setStyle({\"stick\": {}});\n",
       "\tviewer_1544336327633447.setBackgroundColor(\"0xeeeeee\");\n",
       "\tviewer_1544336327633447.zoomTo();\n",
       "\tviewer_1544336327633447.addModel(\"\\n     RDKit          3D\\n\\n 22 22  0  0  0  0  0  0  0  0999 V2000\\n    0.9702    1.4128   -0.0280 C   0  0  0  0  0  0  0  0  0  0  0  0\\n   -0.2915    1.2294    0.7324 C   0  0  0  0  0  0  0  0  0  0  0  0\\n   -1.4733    0.8721   -0.1612 C   0  0  0  0  0  0  0  0  0  0  0  0\\n   -1.9826   -0.5383    0.1643 C   0  0  0  0  0  0  0  0  0  0  0  0\\n   -1.0474   -1.4711   -0.5387 C   0  0  0  0  0  0  0  0  0  0  0  0\\n    0.2579   -1.6820   -0.4749 C   0  0  0  0  0  0  0  0  0  0  0  0\\n    1.3469   -1.0510    0.3508 C   0  0  0  0  0  0  0  0  0  0  0  0\\n    1.8240    0.2351   -0.2195 C   0  0  0  0  0  0  0  0  0  0  0  0\\n    1.5854    2.2159    0.4773 H   0  0  0  0  0  0  0  0  0  0  0  0\\n    0.6933    1.8871   -1.0154 H   0  0  0  0  0  0  0  0  0  0  0  0\\n   -0.2241    0.5602    1.6049 H   0  0  0  0  0  0  0  0  0  0  0  0\\n   -0.5587    2.2408    1.1661 H   0  0  0  0  0  0  0  0  0  0  0  0\\n   -1.1147    0.8863   -1.2123 H   0  0  0  0  0  0  0  0  0  0  0  0\\n   -2.3252    1.5379   -0.0415 H   0  0  0  0  0  0  0  0  0  0  0  0\\n   -3.0079   -0.6759   -0.1726 H   0  0  0  0  0  0  0  0  0  0  0  0\\n   -1.8428   -0.7274    1.2517 H   0  0  0  0  0  0  0  0  0  0  0  0\\n   -1.5388   -2.1218   -1.2616 H   0  0  0  0  0  0  0  0  0  0  0  0\\n    0.6224   -2.4705   -1.1559 H   0  0  0  0  0  0  0  0  0  0  0  0\\n    2.2160   -1.7727    0.3065 H   0  0  0  0  0  0  0  0  0  0  0  0\\n    1.0351   -1.0269    1.3911 H   0  0  0  0  0  0  0  0  0  0  0  0\\n    2.8757    0.3957    0.1634 H   0  0  0  0  0  0  0  0  0  0  0  0\\n    1.9802    0.0643   -1.3268 H   0  0  0  0  0  0  0  0  0  0  0  0\\n  1  2  1  0\\n  2  3  1  0\\n  3  4  1  0\\n  4  5  1  0\\n  5  6  2  0\\n  6  7  1  0\\n  7  8  1  0\\n  8  1  1  0\\n  1  9  1  0\\n  1 10  1  0\\n  2 11  1  0\\n  2 12  1  0\\n  3 13  1  0\\n  3 14  1  0\\n  4 15  1  0\\n  4 16  1  0\\n  5 17  1  0\\n  6 18  1  0\\n  7 19  1  0\\n  7 20  1  0\\n  8 21  1  0\\n  8 22  1  0\\nM  END\\n\",\"sdf\");\n",
       "\tviewer_1544336327633447.setStyle({\"stick\": {}});\n",
       "\tviewer_1544336327633447.setBackgroundColor(\"0xeeeeee\");\n",
       "\tviewer_1544336327633447.zoomTo();\n",
       "\tviewer_1544336327633447.addModel(\"\\n     RDKit          3D\\n\\n 22 22  0  0  0  0  0  0  0  0999 V2000\\n   -0.3491   -1.6679   -0.0122 C   0  0  0  0  0  0  0  0  0  0  0  0\\n    0.9819   -1.0454   -0.4150 C   0  0  0  0  0  0  0  0  0  0  0  0\\n    1.5372   -0.2538    0.7255 C   0  0  0  0  0  0  0  0  0  0  0  0\\n    1.5463    1.2187    0.5025 C   0  0  0  0  0  0  0  0  0  0  0  0\\n    0.3618    1.7903   -0.1117 C   0  0  0  0  0  0  0  0  0  0  0  0\\n   -0.9269    1.4936   -0.2921 C   0  0  0  0  0  0  0  0  0  0  0  0\\n   -1.8155    0.3692    0.0720 C   0  0  0  0  0  0  0  0  0  0  0  0\\n   -1.5001   -0.9096   -0.6225 C   0  0  0  0  0  0  0  0  0  0  0  0\\n   -0.4250   -2.7201   -0.3590 H   0  0  0  0  0  0  0  0  0  0  0  0\\n   -0.4032   -1.6937    1.0941 H   0  0  0  0  0  0  0  0  0  0  0  0\\n    0.8063   -0.4342   -1.3268 H   0  0  0  0  0  0  0  0  0  0  0  0\\n    1.6751   -1.8750   -0.6717 H   0  0  0  0  0  0  0  0  0  0  0  0\\n    0.9904   -0.4712    1.6705 H   0  0  0  0  0  0  0  0  0  0  0  0\\n    2.6022   -0.5699    0.9196 H   0  0  0  0  0  0  0  0  0  0  0  0\\n    1.6908    1.7191    1.5036 H   0  0  0  0  0  0  0  0  0  0  0  0\\n    2.4429    1.4954   -0.0926 H   0  0  0  0  0  0  0  0  0  0  0  0\\n    0.6046    2.7513   -0.5584 H   0  0  0  0  0  0  0  0  0  0  0  0\\n   -1.4358    2.2787   -0.8425 H   0  0  0  0  0  0  0  0  0  0  0  0\\n   -2.8688    0.6418   -0.1781 H   0  0  0  0  0  0  0  0  0  0  0  0\\n   -1.8246    0.1829    1.1778 H   0  0  0  0  0  0  0  0  0  0  0  0\\n   -1.2869   -0.7226   -1.6731 H   0  0  0  0  0  0  0  0  0  0  0  0\\n   -2.4036   -1.5776   -0.5100 H   0  0  0  0  0  0  0  0  0  0  0  0\\n  1  2  1  0\\n  2  3  1  0\\n  3  4  1  0\\n  4  5  1  0\\n  5  6  2  0\\n  6  7  1  0\\n  7  8  1  0\\n  8  1  1  0\\n  1  9  1  0\\n  1 10  1  0\\n  2 11  1  0\\n  2 12  1  0\\n  3 13  1  0\\n  3 14  1  0\\n  4 15  1  0\\n  4 16  1  0\\n  5 17  1  0\\n  6 18  1  0\\n  7 19  1  0\\n  7 20  1  0\\n  8 21  1  0\\n  8 22  1  0\\nM  END\\n\",\"sdf\");\n",
       "\tviewer_1544336327633447.setStyle({\"stick\": {}});\n",
       "\tviewer_1544336327633447.setBackgroundColor(\"0xeeeeee\");\n",
       "\tviewer_1544336327633447.zoomTo();\n",
       "\tviewer_1544336327633447.addModel(\"\\n     RDKit          3D\\n\\n 22 22  0  0  0  0  0  0  0  0999 V2000\\n   -1.3543   -1.0223   -0.0239 C   0  0  0  0  0  0  0  0  0  0  0  0\\n    0.0158   -1.4172    0.4255 C   0  0  0  0  0  0  0  0  0  0  0  0\\n    0.9745   -1.1270   -0.7246 C   0  0  0  0  0  0  0  0  0  0  0  0\\n    2.0398   -0.2089   -0.1788 C   0  0  0  0  0  0  0  0  0  0  0  0\\n    1.4706    1.0853    0.2410 C   0  0  0  0  0  0  0  0  0  0  0  0\\n    0.3109    1.7205    0.1975 C   0  0  0  0  0  0  0  0  0  0  0  0\\n   -1.0515    1.4558   -0.3076 C   0  0  0  0  0  0  0  0  0  0  0  0\\n   -1.7594    0.3583    0.4250 C   0  0  0  0  0  0  0  0  0  0  0  0\\n   -1.4844   -1.1023   -1.1020 H   0  0  0  0  0  0  0  0  0  0  0  0\\n   -2.0752   -1.7329    0.4536 H   0  0  0  0  0  0  0  0  0  0  0  0\\n    0.3096   -0.9186    1.3569 H   0  0  0  0  0  0  0  0  0  0  0  0\\n    0.0407   -2.5248    0.5943 H   0  0  0  0  0  0  0  0  0  0  0  0\\n    1.4434   -2.0334   -1.1235 H   0  0  0  0  0  0  0  0  0  0  0  0\\n    0.4795   -0.6083   -1.5549 H   0  0  0  0  0  0  0  0  0  0  0  0\\n    2.4800   -0.7441    0.7132 H   0  0  0  0  0  0  0  0  0  0  0  0\\n    2.8708   -0.1123   -0.9051 H   0  0  0  0  0  0  0  0  0  0  0  0\\n    2.2198    1.6901    0.7249 H   0  0  0  0  0  0  0  0  0  0  0  0\\n    0.4108    2.6925    0.6622 H   0  0  0  0  0  0  0  0  0  0  0  0\\n   -1.0853    1.2319   -1.3852 H   0  0  0  0  0  0  0  0  0  0  0  0\\n   -1.6811    2.3795   -0.1733 H   0  0  0  0  0  0  0  0  0  0  0  0\\n   -1.7208    0.4808    1.5235 H   0  0  0  0  0  0  0  0  0  0  0  0\\n   -2.8544    0.4576    0.1614 H   0  0  0  0  0  0  0  0  0  0  0  0\\n  1  2  1  0\\n  2  3  1  0\\n  3  4  1  0\\n  4  5  1  0\\n  5  6  2  0\\n  6  7  1  0\\n  7  8  1  0\\n  8  1  1  0\\n  1  9  1  0\\n  1 10  1  0\\n  2 11  1  0\\n  2 12  1  0\\n  3 13  1  0\\n  3 14  1  0\\n  4 15  1  0\\n  4 16  1  0\\n  5 17  1  0\\n  6 18  1  0\\n  7 19  1  0\\n  7 20  1  0\\n  8 21  1  0\\n  8 22  1  0\\nM  END\\n\",\"sdf\");\n",
       "\tviewer_1544336327633447.setStyle({\"stick\": {}});\n",
       "\tviewer_1544336327633447.setBackgroundColor(\"0xeeeeee\");\n",
       "\tviewer_1544336327633447.zoomTo();\n",
       "\tviewer_1544336327633447.addModel(\"\\n     RDKit          3D\\n\\n 22 22  0  0  0  0  0  0  0  0999 V2000\\n   -0.8408    1.4753   -0.3871 C   0  0  0  0  0  0  0  0  0  0  0  0\\n    0.3494    1.3221    0.4829 C   0  0  0  0  0  0  0  0  0  0  0  0\\n    1.5377    0.6984   -0.2321 C   0  0  0  0  0  0  0  0  0  0  0  0\\n    1.8596   -0.6199    0.4794 C   0  0  0  0  0  0  0  0  0  0  0  0\\n    0.9174   -1.6609   -0.0147 C   0  0  0  0  0  0  0  0  0  0  0  0\\n   -0.3997   -1.7653   -0.0702 C   0  0  0  0  0  0  0  0  0  0  0  0\\n   -1.4933   -0.8404    0.3593 C   0  0  0  0  0  0  0  0  0  0  0  0\\n   -1.6881    0.2902   -0.5829 C   0  0  0  0  0  0  0  0  0  0  0  0\\n   -0.4799    1.8347   -1.3930 H   0  0  0  0  0  0  0  0  0  0  0  0\\n   -1.4557    2.3407   -0.0012 H   0  0  0  0  0  0  0  0  0  0  0  0\\n    0.1642    0.8158    1.4375 H   0  0  0  0  0  0  0  0  0  0  0  0\\n    0.6937    2.3634    0.7621 H   0  0  0  0  0  0  0  0  0  0  0  0\\n    1.3133    0.5018   -1.2941 H   0  0  0  0  0  0  0  0  0  0  0  0\\n    2.4429    1.3032   -0.1834 H   0  0  0  0  0  0  0  0  0  0  0  0\\n    1.6543   -0.4150    1.5654 H   0  0  0  0  0  0  0  0  0  0  0  0\\n    2.9031   -0.9074    0.3811 H   0  0  0  0  0  0  0  0  0  0  0  0\\n    1.4323   -2.5054   -0.4093 H   0  0  0  0  0  0  0  0  0  0  0  0\\n   -0.7576   -2.7109   -0.5169 H   0  0  0  0  0  0  0  0  0  0  0  0\\n   -2.4324   -1.4552    0.3534 H   0  0  0  0  0  0  0  0  0  0  0  0\\n   -1.3672   -0.5287    1.4184 H   0  0  0  0  0  0  0  0  0  0  0  0\\n   -2.7773    0.5857   -0.5287 H   0  0  0  0  0  0  0  0  0  0  0  0\\n   -1.5757   -0.1222   -1.6257 H   0  0  0  0  0  0  0  0  0  0  0  0\\n  1  2  1  0\\n  2  3  1  0\\n  3  4  1  0\\n  4  5  1  0\\n  5  6  2  0\\n  6  7  1  0\\n  7  8  1  0\\n  8  1  1  0\\n  1  9  1  0\\n  1 10  1  0\\n  2 11  1  0\\n  2 12  1  0\\n  3 13  1  0\\n  3 14  1  0\\n  4 15  1  0\\n  4 16  1  0\\n  5 17  1  0\\n  6 18  1  0\\n  7 19  1  0\\n  7 20  1  0\\n  8 21  1  0\\n  8 22  1  0\\nM  END\\n\",\"sdf\");\n",
       "\tviewer_1544336327633447.setStyle({\"stick\": {}});\n",
       "\tviewer_1544336327633447.setBackgroundColor(\"0xeeeeee\");\n",
       "\tviewer_1544336327633447.zoomTo();\n",
       "\tviewer_1544336327633447.addModel(\"\\n     RDKit          3D\\n\\n 22 22  0  0  0  0  0  0  0  0999 V2000\\n    0.7209   -1.4732    0.4893 C   0  0  0  0  0  0  0  0  0  0  0  0\\n   -0.3793   -1.3365   -0.5071 C   0  0  0  0  0  0  0  0  0  0  0  0\\n   -1.6001   -0.6510    0.0691 C   0  0  0  0  0  0  0  0  0  0  0  0\\n   -1.7876    0.7374   -0.5019 C   0  0  0  0  0  0  0  0  0  0  0  0\\n   -0.7746    1.6890   -0.0027 C   0  0  0  0  0  0  0  0  0  0  0  0\\n    0.5413    1.7156    0.0529 C   0  0  0  0  0  0  0  0  0  0  0  0\\n    1.5849    0.7298   -0.3967 C   0  0  0  0  0  0  0  0  0  0  0  0\\n    1.6528   -0.3490    0.6165 C   0  0  0  0  0  0  0  0  0  0  0  0\\n    1.2872   -2.4240    0.2604 H   0  0  0  0  0  0  0  0  0  0  0  0\\n    0.2344   -1.7012    1.4830 H   0  0  0  0  0  0  0  0  0  0  0  0\\n   -0.7295   -2.3860   -0.7480 H   0  0  0  0  0  0  0  0  0  0  0  0\\n   -0.0762   -0.9146   -1.4746 H   0  0  0  0  0  0  0  0  0  0  0  0\\n   -1.5115   -0.5501    1.1636 H   0  0  0  0  0  0  0  0  0  0  0  0\\n   -2.5417   -1.2025   -0.1282 H   0  0  0  0  0  0  0  0  0  0  0  0\\n   -2.8053    1.0691   -0.1795 H   0  0  0  0  0  0  0  0  0  0  0  0\\n   -1.8028    0.7243   -1.6083 H   0  0  0  0  0  0  0  0  0  0  0  0\\n   -1.2081    2.5780    0.4192 H   0  0  0  0  0  0  0  0  0  0  0  0\\n    0.9192    2.6136    0.5054 H   0  0  0  0  0  0  0  0  0  0  0  0\\n    1.4634    0.4221   -1.4300 H   0  0  0  0  0  0  0  0  0  0  0  0\\n    2.5630    1.2959   -0.3511 H   0  0  0  0  0  0  0  0  0  0  0  0\\n    1.5305    0.1376    1.6302 H   0  0  0  0  0  0  0  0  0  0  0  0\\n    2.7192   -0.7242    0.6386 H   0  0  0  0  0  0  0  0  0  0  0  0\\n  1  2  1  0\\n  2  3  1  0\\n  3  4  1  0\\n  4  5  1  0\\n  5  6  2  0\\n  6  7  1  0\\n  7  8  1  0\\n  8  1  1  0\\n  1  9  1  0\\n  1 10  1  0\\n  2 11  1  0\\n  2 12  1  0\\n  3 13  1  0\\n  3 14  1  0\\n  4 15  1  0\\n  4 16  1  0\\n  5 17  1  0\\n  6 18  1  0\\n  7 19  1  0\\n  7 20  1  0\\n  8 21  1  0\\n  8 22  1  0\\nM  END\\n\",\"sdf\");\n",
       "\tviewer_1544336327633447.setStyle({\"stick\": {}});\n",
       "\tviewer_1544336327633447.setBackgroundColor(\"0xeeeeee\");\n",
       "\tviewer_1544336327633447.zoomTo();\n",
       "\tviewer_1544336327633447.addModel(\"\\n     RDKit          3D\\n\\n 22 22  0  0  0  0  0  0  0  0999 V2000\\n   -0.4984    1.5450    0.4547 C   0  0  0  0  0  0  0  0  0  0  0  0\\n    0.7791    1.3852   -0.3493 C   0  0  0  0  0  0  0  0  0  0  0  0\\n    1.6144    0.3419    0.3391 C   0  0  0  0  0  0  0  0  0  0  0  0\\n    1.6506   -0.9555   -0.3766 C   0  0  0  0  0  0  0  0  0  0  0  0\\n    0.4082   -1.7280   -0.3521 C   0  0  0  0  0  0  0  0  0  0  0  0\\n   -0.8788   -1.6401   -0.0378 C   0  0  0  0  0  0  0  0  0  0  0  0\\n   -1.7092   -0.5576    0.4986 C   0  0  0  0  0  0  0  0  0  0  0  0\\n   -1.5666    0.7409   -0.2676 C   0  0  0  0  0  0  0  0  0  0  0  0\\n   -0.3403    1.1683    1.5019 H   0  0  0  0  0  0  0  0  0  0  0  0\\n   -0.8174    2.5907    0.5528 H   0  0  0  0  0  0  0  0  0  0  0  0\\n    1.2544    2.3599   -0.4316 H   0  0  0  0  0  0  0  0  0  0  0  0\\n    0.5699    1.0172   -1.3792 H   0  0  0  0  0  0  0  0  0  0  0  0\\n    1.3057    0.1748    1.4010 H   0  0  0  0  0  0  0  0  0  0  0  0\\n    2.6857    0.6986    0.3947 H   0  0  0  0  0  0  0  0  0  0  0  0\\n    2.4736   -1.5718    0.0806 H   0  0  0  0  0  0  0  0  0  0  0  0\\n    1.9690   -0.7819   -1.4415 H   0  0  0  0  0  0  0  0  0  0  0  0\\n    0.6005   -2.7477   -0.7263 H   0  0  0  0  0  0  0  0  0  0  0  0\\n   -1.4512   -2.5441   -0.2048 H   0  0  0  0  0  0  0  0  0  0  0  0\\n   -1.5018   -0.4131    1.5705 H   0  0  0  0  0  0  0  0  0  0  0  0\\n   -2.8002   -0.8295    0.4390 H   0  0  0  0  0  0  0  0  0  0  0  0\\n   -1.2428    0.4548   -1.2993 H   0  0  0  0  0  0  0  0  0  0  0  0\\n   -2.5045    1.2920   -0.3669 H   0  0  0  0  0  0  0  0  0  0  0  0\\n  1  2  1  0\\n  2  3  1  0\\n  3  4  1  0\\n  4  5  1  0\\n  5  6  2  0\\n  6  7  1  0\\n  7  8  1  0\\n  8  1  1  0\\n  1  9  1  0\\n  1 10  1  0\\n  2 11  1  0\\n  2 12  1  0\\n  3 13  1  0\\n  3 14  1  0\\n  4 15  1  0\\n  4 16  1  0\\n  5 17  1  0\\n  6 18  1  0\\n  7 19  1  0\\n  7 20  1  0\\n  8 21  1  0\\n  8 22  1  0\\nM  END\\n\",\"sdf\");\n",
       "\tviewer_1544336327633447.setStyle({\"stick\": {}});\n",
       "\tviewer_1544336327633447.setBackgroundColor(\"0xeeeeee\");\n",
       "\tviewer_1544336327633447.zoomTo();\n",
       "\tviewer_1544336327633447.addModel(\"\\n     RDKit          3D\\n\\n 22 22  0  0  0  0  0  0  0  0999 V2000\\n    0.4267   -1.3570    0.5421 C   0  0  0  0  0  0  0  0  0  0  0  0\\n   -0.9607   -1.4466    0.0126 C   0  0  0  0  0  0  0  0  0  0  0  0\\n   -1.8035   -0.2308    0.2771 C   0  0  0  0  0  0  0  0  0  0  0  0\\n   -1.4359    0.9591   -0.5467 C   0  0  0  0  0  0  0  0  0  0  0  0\\n   -0.3231    1.7476    0.0499 C   0  0  0  0  0  0  0  0  0  0  0  0\\n    0.9779    1.5849    0.2395 C   0  0  0  0  0  0  0  0  0  0  0  0\\n    1.9580    0.5319   -0.0534 C   0  0  0  0  0  0  0  0  0  0  0  0\\n    1.3372   -0.7678   -0.4915 C   0  0  0  0  0  0  0  0  0  0  0  0\\n    0.7739   -2.4051    0.7752 H   0  0  0  0  0  0  0  0  0  0  0  0\\n    0.5147   -0.8002    1.5032 H   0  0  0  0  0  0  0  0  0  0  0  0\\n   -0.9302   -1.7356   -1.0444 H   0  0  0  0  0  0  0  0  0  0  0  0\\n   -1.4680   -2.3009    0.5467 H   0  0  0  0  0  0  0  0  0  0  0  0\\n   -2.8601   -0.5183    0.0984 H   0  0  0  0  0  0  0  0  0  0  0  0\\n   -1.6702    0.0413    1.3527 H   0  0  0  0  0  0  0  0  0  0  0  0\\n   -2.3438    1.6238   -0.5663 H   0  0  0  0  0  0  0  0  0  0  0  0\\n   -1.2312    0.7239   -1.6116 H   0  0  0  0  0  0  0  0  0  0  0  0\\n   -0.6208    2.7160    0.4425 H   0  0  0  0  0  0  0  0  0  0  0  0\\n    1.4513    2.4260    0.7300 H   0  0  0  0  0  0  0  0  0  0  0  0\\n    2.5776    0.8931   -0.9197 H   0  0  0  0  0  0  0  0  0  0  0  0\\n    2.6373    0.3334    0.8148 H   0  0  0  0  0  0  0  0  0  0  0  0\\n    0.7941   -0.5549   -1.4539 H   0  0  0  0  0  0  0  0  0  0  0  0\\n    2.1987   -1.4638   -0.6973 H   0  0  0  0  0  0  0  0  0  0  0  0\\n  1  2  1  0\\n  2  3  1  0\\n  3  4  1  0\\n  4  5  1  0\\n  5  6  2  0\\n  6  7  1  0\\n  7  8  1  0\\n  8  1  1  0\\n  1  9  1  0\\n  1 10  1  0\\n  2 11  1  0\\n  2 12  1  0\\n  3 13  1  0\\n  3 14  1  0\\n  4 15  1  0\\n  4 16  1  0\\n  5 17  1  0\\n  6 18  1  0\\n  7 19  1  0\\n  7 20  1  0\\n  8 21  1  0\\n  8 22  1  0\\nM  END\\n\",\"sdf\");\n",
       "\tviewer_1544336327633447.setStyle({\"stick\": {}});\n",
       "\tviewer_1544336327633447.setBackgroundColor(\"0xeeeeee\");\n",
       "\tviewer_1544336327633447.zoomTo();\n",
       "viewer_1544336327633447.render();\n",
       "});\n",
       "</script>"
      ]
     },
     "metadata": {},
     "output_type": "display_data"
    }
   ],
   "source": [
    "for name, smile in molecules.items():\n",
    "    # if name != '1,9-dichlorononane':\n",
    "    #     continue\n",
    "    m = Chem.MolFromSmiles(smile)\n",
    "    m = Chem.AddHs(m)\n",
    "    Chem.EmbedMultipleConfs(m, numConfs=10, randomSeed=0xf00d, \n",
    "                            useExpTorsionAnglePrefs=True,\n",
    "                            useBasicKnowledge=True)\n",
    "    p = py3Dmol.view(width=400,height=400)\n",
    "    for confId in range(10):\n",
    "        drawit2(m,p,confId)\n",
    "    p.show()"
   ]
  },
  {
   "cell_type": "markdown",
   "metadata": {},
   "source": [
    "##  Get molecular size of a test molecule"
   ]
  },
  {
   "cell_type": "code",
   "execution_count": 30,
   "metadata": {},
   "outputs": [
    {
     "name": "stdout",
     "output_type": "stream",
     "text": [
      "calculation already done.\n",
      "-------------- Urea --------------\n",
      "(2.996247328778547, 5.3219941425598405, 3.2523690137818617, 0.09206150458488746, 5.541262107230035, 0.09969220225449447)\n",
      "CPU times: user 3.87 ms, sys: 0 ns, total: 3.87 ms\n",
      "Wall time: 4.47 ms\n"
     ]
    }
   ],
   "source": [
    "%%time\n",
    "output_dir = '/home/atarzia/psp/molecule_DBs/atarzia/'\n",
    "name, smiles = 'Urea', 'C(=O)(N)N'\n",
    "\n",
    "res = ercollect.rdkit_functions.calc_molecule_diameter(name, smiles, out_dir=output_dir,\n",
    "                                             MW_thresh=2000, \n",
    "                                             vdwScale=0.8, \n",
    "                                             boxMargin=4.0,\n",
    "                                             spacing=0.5, \n",
    "                                             show_vdw=False, plot_ellip=False,\n",
    "                                             N_conformers=100)\n",
    "\n",
    "min_min = min(res.diam1)\n",
    "min_mid = min(res.diam2)\n",
    "min_diam_avg = np.average(res['diam1'])\n",
    "min_diam_std = np.std(res['diam1'])\n",
    "mid_diam_avg = np.average(res['diam2'])\n",
    "mid_diam_std = np.std(res['diam2'])\n",
    "result = (min_min, min_mid, min_diam_avg, min_diam_std,\n",
    "          mid_diam_avg, mid_diam_std)\n",
    "print('--------------', name, '--------------')\n",
    "print(result)"
   ]
  },
  {
   "cell_type": "markdown",
   "metadata": {},
   "source": [
    "##  Get molecular size of a series of test molecules"
   ]
  },
  {
   "cell_type": "code",
   "execution_count": 25,
   "metadata": {
    "ExecuteTime": {
     "end_time": "2018-11-10T02:10:22.575818Z",
     "start_time": "2018-11-10T02:09:48.357612Z"
    }
   },
   "outputs": [
    {
     "name": "stdout",
     "output_type": "stream",
     "text": [
      "calculation already done.\n",
      "-------------- n-octane --------------\n",
      "(4.741494427110743, 5.231540505356091, 5.3376988424576925, 0.2469008049052331, 6.228290740166219, 0.5134579960322305)\n",
      "calculation already done.\n",
      "-------------- n-hexane --------------\n",
      "(4.659126541472514, 4.962888353820132, 4.988207757671421, 0.17687701830504093, 5.626911442453076, 0.35181364795469455)\n",
      "calculation already done.\n",
      "-------------- n-decane --------------\n",
      "(4.798166295239634, 5.549371400956184, 5.578404480966401, 0.323370512487082, 6.862320119136749, 0.705062314782434)\n",
      "calculation already done.\n",
      "-------------- 2,3-dimethylbutane --------------\n",
      "(4.510147923751787, 6.154657950105251, 5.397115430320835, 0.6024946858573208, 6.49396247136056, 0.15020415693544759)\n",
      "calculation already done.\n",
      "-------------- 2,2-dimethylbutane --------------\n",
      "(5.628241038828123, 5.937057665319091, 5.889238761212571, 0.1052563031877767, 6.143082499749571, 0.0956997138584874)\n",
      "calculation already done.\n",
      "-------------- aniline --------------\n",
      "(3.26131642202166, 6.2905263747943465, 3.4604886638778622, 0.06803881849779644, 6.640537964658515, 0.1346942839802862)\n",
      "calculation already done.\n",
      "-------------- 2mIM --------------\n",
      "(3.615308577029893, 5.204853119494771, 3.976994142166544, 0.20914616860295096, 5.632490162421013, 0.24337695326471692)\n",
      "calculation already done.\n",
      "-------------- 2-Deoxy-D-ribose --------------\n",
      "(4.733057610854208, 5.6810904781774365, 5.574340780141068, 0.37858550181050166, 6.774775197549481, 0.5389003334957086)\n",
      "calculation already done.\n",
      "-------------- 2-deoxy-d-ribofuranose --------------\n",
      "(4.6005366043545415, 6.390122273601693, 5.2869544536372635, 0.33907108729180724, 7.276669468903221, 0.4687818017253163)\n",
      "calculation already done.\n",
      "-------------- 1H-indole --------------\n",
      "(3.380441611927172, 6.5496686908470885, 3.5686377864006302, 0.07666013896009138, 6.786603914742984, 0.10169918319360262)\n",
      "calculation already done.\n",
      "-------------- 3H-indole --------------\n",
      "(3.6107175586399407, 6.758440987327394, 3.9559097977096367, 0.15942942037066896, 7.076360971566248, 0.15617720941841212)\n",
      "calculation already done.\n",
      "-------------- cyclohexane --------------\n",
      "(4.779341915513174, 6.167704669782875, 5.037647315374701, 0.11943943695378463, 6.449470240875904, 0.1374295666989891)\n",
      "-------------- cyclooctene --------------\n",
      "(4.650022385219056, 6.905424692326815, 5.149357002978875, 0.18417532750509505, 7.4092469739791404, 0.1696617077625769)\n",
      "CPU times: user 1min 5s, sys: 536 ms, total: 1min 6s\n",
      "Wall time: 34.2 s\n"
     ]
    }
   ],
   "source": [
    "%%time\n",
    "output_dir = '/home/atarzia/psp/molecule_DBs/atarzia/'\n",
    "molecules = [('n-octane', 'CCCCCCCC'), ('n-hexane', 'CCCCCC'), ('n-decane', 'CCCCCCCCCC'), ('2,3-dimethylbutane', 'CC(C)C(C)C'),\n",
    "             ('2,2-dimethylbutane', 'CCC(C)(C)C'), ('aniline', 'C1=CC=C(C=C1)N'), ('2mIM', 'CC1=NC=CN1'), ('2-Deoxy-D-ribose', 'O=CC[C@H](O)[C@H](O)CO'),\n",
    "             ('2-deoxy-d-ribofuranose', 'C1C(C(OC1O)CO)O'), ('1H-indole', 'c1cc2ccccc2[nH]1'), ('3H-indole', 'C1C=Nc2ccccc12'),\n",
    "             ('cyclohexane', 'C1CCCCC1'), ('cyclooctene', 'C1CCCC=CCC1')]\n",
    "\n",
    "for name, smiles in molecules:\n",
    "    res = ercollect.rdkit_functions.calc_molecule_diameter(name, smiles, out_dir=output_dir,\n",
    "                                                 MW_thresh=2000, \n",
    "                                                 vdwScale=0.8, \n",
    "                                                 boxMargin=4.0,\n",
    "                                                 spacing=0.5, \n",
    "                                                 show_vdw=False, plot_ellip=False,\n",
    "                                                 N_conformers=100)\n",
    "\n",
    "    min_min = min(res.diam1)\n",
    "    min_mid = min(res.diam2)\n",
    "    min_diam_avg = np.average(res['diam1'])\n",
    "    min_diam_std = np.std(res['diam1'])\n",
    "    mid_diam_avg = np.average(res['diam2'])\n",
    "    mid_diam_std = np.std(res['diam2'])\n",
    "    result = (min_min, min_mid, min_diam_avg, min_diam_std,\n",
    "              mid_diam_avg, mid_diam_std)\n",
    "    print('--------------', name, '--------------')\n",
    "    print(result)"
   ]
  },
  {
   "cell_type": "markdown",
   "metadata": {},
   "source": [
    "## visualise the ellipsoid around a desired molecule"
   ]
  },
  {
   "cell_type": "code",
   "execution_count": 54,
   "metadata": {
    "ExecuteTime": {
     "end_time": "2018-11-01T14:24:56.570159Z",
     "start_time": "2018-11-01T14:24:56.545503Z"
    }
   },
   "outputs": [],
   "source": [
    "molecules = {'n-octane': 'CCCCCCCC'}\n",
    "#              'ethanol': 'CCO',\n",
    "#              'n-hexane': 'CCCCCC',\n",
    "#              'cyclohexane': 'C1CCCCC1',\n",
    "#              'para-xylene': 'Cc1ccc(C)cc1',\n",
    "#              'n-decanoic acid': 'CCCCCCCCCC(=O)O'}\n",
    "diameters = {}\n",
    "for name in molecules.keys():\n",
    "    diameters[name] = 0\n",
    "output_dir = '/home/atarzia/psp/molecule_param/'"
   ]
  },
  {
   "cell_type": "code",
   "execution_count": 44,
   "metadata": {
    "ExecuteTime": {
     "end_time": "2018-11-10T02:13:05.748778Z",
     "start_time": "2018-11-10T02:12:37.878218Z"
    }
   },
   "outputs": [
    {
     "data": {
      "application/3dmoljs_load.v0": "<div id=\"3dmolviewer_15432256697568948\"  style=\"position: relative; width: 400px; height: 400px\">\n        <p id=\"3dmolwarning_15432256697568948\" style=\"background-color:#ffcccc;color:black\">You appear to be running in JupyterLab.  You need to install the 3dmol extension: <br>\n        <tt>jupyter labextension install jupyterlab_3dmol</tt></p>\n        </div>\n<script>\n\nvar loadScriptAsync = function(uri){\n  return new Promise((resolve, reject) => {\n    var tag = document.createElement('script');\n    tag.src = uri;\n    tag.async = true;\n    tag.onload = () => {\n      resolve();\n    };\n  var firstScriptTag = document.getElementsByTagName('script')[0];\n  firstScriptTag.parentNode.insertBefore(tag, firstScriptTag);\n});\n};\n\nif(typeof $3Dmolpromise === 'undefined') {\n$3Dmolpromise = null;\n  $3Dmolpromise = loadScriptAsync('https://3dmol.csb.pitt.edu/build/3Dmol.js');\n}\n\nvar viewer_15432256697568948 = null;\nvar warn = document.getElementById(\"3dmolwarning_15432256697568948\");\nif(warn) {\n    warn.parentNode.removeChild(warn);\n}\n$3Dmolpromise.then(function() {\nviewer_15432256697568948 = $3Dmol.createViewer($(\"#3dmolviewer_15432256697568948\"),{backgroundColor:\"white\"});\n\tviewer_15432256697568948.addModel(\"\\n     RDKit          3D\\n\\n 26 25  0  0  0  0  0  0  0  0999 V2000\\n   -3.5583    0.9362   -0.6282 C   0  0  0  0  0  0  0  0  0  0  0  0\\n   -3.2713   -0.2875    0.1796 C   0  0  0  0  0  0  0  0  0  0  0  0\\n   -1.8930   -0.8554   -0.0754 C   0  0  0  0  0  0  0  0  0  0  0  0\\n   -0.8054    0.1412    0.2582 C   0  0  0  0  0  0  0  0  0  0  0  0\\n    0.5180   -0.5211   -0.0299 C   0  0  0  0  0  0  0  0  0  0  0  0\\n    1.6927    0.3870    0.2679 C   0  0  0  0  0  0  0  0  0  0  0  0\\n    2.9462   -0.4222   -0.0722 C   0  0  0  0  0  0  0  0  0  0  0  0\\n    4.2033    0.3485    0.1720 C   0  0  0  0  0  0  0  0  0  0  0  0\\n   -3.2241    1.8527   -0.1006 H   0  0  0  0  0  0  0  0  0  0  0  0\\n   -3.1234    0.8423   -1.6286 H   0  0  0  0  0  0  0  0  0  0  0  0\\n   -4.6688    1.0031   -0.7630 H   0  0  0  0  0  0  0  0  0  0  0  0\\n   -3.9948   -1.0792   -0.1468 H   0  0  0  0  0  0  0  0  0  0  0  0\\n   -3.4195   -0.1637    1.2582 H   0  0  0  0  0  0  0  0  0  0  0  0\\n   -1.7748   -1.1227   -1.1439 H   0  0  0  0  0  0  0  0  0  0  0  0\\n   -1.7708   -1.7404    0.5664 H   0  0  0  0  0  0  0  0  0  0  0  0\\n   -0.8452    0.2852    1.3763 H   0  0  0  0  0  0  0  0  0  0  0  0\\n   -0.9252    1.1102   -0.2196 H   0  0  0  0  0  0  0  0  0  0  0  0\\n    0.6421   -1.4166    0.6050 H   0  0  0  0  0  0  0  0  0  0  0  0\\n    0.5760   -0.8065   -1.0858 H   0  0  0  0  0  0  0  0  0  0  0  0\\n    1.7055    0.7712    1.2881 H   0  0  0  0  0  0  0  0  0  0  0  0\\n    1.6823    1.2511   -0.4506 H   0  0  0  0  0  0  0  0  0  0  0  0\\n    2.9378   -1.3096    0.6252 H   0  0  0  0  0  0  0  0  0  0  0  0\\n    2.8229   -0.8009   -1.0845 H   0  0  0  0  0  0  0  0  0  0  0  0\\n    4.8795    0.1698   -0.7027 H   0  0  0  0  0  0  0  0  0  0  0  0\\n    3.9561    1.4116    0.2549 H   0  0  0  0  0  0  0  0  0  0  0  0\\n    4.7123    0.0156    1.1152 H   0  0  0  0  0  0  0  0  0  0  0  0\\n  1  2  1  0\\n  2  3  1  0\\n  3  4  1  0\\n  4  5  1  0\\n  5  6  1  0\\n  6  7  1  0\\n  7  8  1  0\\n  1  9  1  0\\n  1 10  1  0\\n  1 11  1  0\\n  2 12  1  0\\n  2 13  1  0\\n  3 14  1  0\\n  3 15  1  0\\n  4 16  1  0\\n  4 17  1  0\\n  5 18  1  0\\n  5 19  1  0\\n  6 20  1  0\\n  6 21  1  0\\n  7 22  1  0\\n  7 23  1  0\\n  8 24  1  0\\n  8 25  1  0\\n  8 26  1  0\\nM  END\\n\",\"sdf\");\n\tviewer_15432256697568948.setStyle({\"stick\": {}});\n\tviewer_15432256697568948.setBackgroundColor(\"0xeeeeee\");\n\tviewer_15432256697568948.zoomTo();\n\tviewer_15432256697568948.addModel(\"\\n     RDKit          3D\\n\\n 26 25  0  0  0  0  0  0  0  0999 V2000\\n    3.9815    0.8090    0.1197 C   0  0  0  0  0  0  0  0  0  0  0  0\\n    2.9514   -0.0585   -0.6177 C   0  0  0  0  0  0  0  0  0  0  0  0\\n    1.6169    0.2463    0.0207 C   0  0  0  0  0  0  0  0  0  0  0  0\\n    0.5478   -0.5989   -0.6832 C   0  0  0  0  0  0  0  0  0  0  0  0\\n   -0.7568   -0.2646   -0.0186 C   0  0  0  0  0  0  0  0  0  0  0  0\\n   -1.9207   -1.0198   -0.6007 C   0  0  0  0  0  0  0  0  0  0  0  0\\n   -3.1661   -0.5763    0.1726 C   0  0  0  0  0  0  0  0  0  0  0  0\\n   -3.3954    0.8952    0.0396 C   0  0  0  0  0  0  0  0  0  0  0  0\\n    4.9486    0.6324   -0.3805 H   0  0  0  0  0  0  0  0  0  0  0  0\\n    3.9789    0.5301    1.1929 H   0  0  0  0  0  0  0  0  0  0  0  0\\n    3.6329    1.8578    0.0408 H   0  0  0  0  0  0  0  0  0  0  0  0\\n    3.1499   -1.1317   -0.4663 H   0  0  0  0  0  0  0  0  0  0  0  0\\n    2.9230    0.1876   -1.6875 H   0  0  0  0  0  0  0  0  0  0  0  0\\n    1.4004    1.3295   -0.1092 H   0  0  0  0  0  0  0  0  0  0  0  0\\n    1.6654    0.0224    1.0895 H   0  0  0  0  0  0  0  0  0  0  0  0\\n    0.5640   -0.3883   -1.7537 H   0  0  0  0  0  0  0  0  0  0  0  0\\n    0.8395   -1.6581   -0.5091 H   0  0  0  0  0  0  0  0  0  0  0  0\\n   -0.9594    0.8065   -0.1338 H   0  0  0  0  0  0  0  0  0  0  0  0\\n   -0.6736   -0.5096    1.0450 H   0  0  0  0  0  0  0  0  0  0  0  0\\n   -2.0540   -0.8929   -1.6754 H   0  0  0  0  0  0  0  0  0  0  0  0\\n   -1.7342   -2.0966   -0.4154 H   0  0  0  0  0  0  0  0  0  0  0  0\\n   -3.0686   -0.8182    1.2473 H   0  0  0  0  0  0  0  0  0  0  0  0\\n   -4.0427   -1.1664   -0.1921 H   0  0  0  0  0  0  0  0  0  0  0  0\\n   -3.0941    1.3041   -0.9306 H   0  0  0  0  0  0  0  0  0  0  0  0\\n   -4.4802    1.0827    0.2393 H   0  0  0  0  0  0  0  0  0  0  0  0\\n   -2.8543    1.4763    0.8317 H   0  0  0  0  0  0  0  0  0  0  0  0\\n  1  2  1  0\\n  2  3  1  0\\n  3  4  1  0\\n  4  5  1  0\\n  5  6  1  0\\n  6  7  1  0\\n  7  8  1  0\\n  1  9  1  0\\n  1 10  1  0\\n  1 11  1  0\\n  2 12  1  0\\n  2 13  1  0\\n  3 14  1  0\\n  3 15  1  0\\n  4 16  1  0\\n  4 17  1  0\\n  5 18  1  0\\n  5 19  1  0\\n  6 20  1  0\\n  6 21  1  0\\n  7 22  1  0\\n  7 23  1  0\\n  8 24  1  0\\n  8 25  1  0\\n  8 26  1  0\\nM  END\\n\",\"sdf\");\n\tviewer_15432256697568948.setStyle({\"stick\": {}});\n\tviewer_15432256697568948.setBackgroundColor(\"0xeeeeee\");\n\tviewer_15432256697568948.zoomTo();\n\tviewer_15432256697568948.addModel(\"\\n     RDKit          3D\\n\\n 26 25  0  0  0  0  0  0  0  0999 V2000\\n    4.3043    0.3636   -0.3056 C   0  0  0  0  0  0  0  0  0  0  0  0\\n    3.0195   -0.4000   -0.2525 C   0  0  0  0  0  0  0  0  0  0  0  0\\n    1.8538    0.5601   -0.3148 C   0  0  0  0  0  0  0  0  0  0  0  0\\n    0.5921   -0.2662   -0.2581 C   0  0  0  0  0  0  0  0  0  0  0  0\\n   -0.6552    0.6105   -0.3148 C   0  0  0  0  0  0  0  0  0  0  0  0\\n   -1.8276   -0.3285   -0.2507 C   0  0  0  0  0  0  0  0  0  0  0  0\\n   -3.1558    0.3822   -0.2962 C   0  0  0  0  0  0  0  0  0  0  0  0\\n   -4.2303   -0.7064   -0.2223 C   0  0  0  0  0  0  0  0  0  0  0  0\\n    5.1258   -0.1822    0.2170 H   0  0  0  0  0  0  0  0  0  0  0  0\\n    4.5741    0.5255   -1.3703 H   0  0  0  0  0  0  0  0  0  0  0  0\\n    4.1775    1.3646    0.1502 H   0  0  0  0  0  0  0  0  0  0  0  0\\n    2.9753   -1.1648   -1.0357 H   0  0  0  0  0  0  0  0  0  0  0  0\\n    3.0044   -0.9618    0.7260 H   0  0  0  0  0  0  0  0  0  0  0  0\\n    1.8362    1.2274    0.5707 H   0  0  0  0  0  0  0  0  0  0  0  0\\n    1.8866    1.0933   -1.2667 H   0  0  0  0  0  0  0  0  0  0  0  0\\n    0.5256   -0.8235    0.7089 H   0  0  0  0  0  0  0  0  0  0  0  0\\n    0.5931   -0.9867   -1.1016 H   0  0  0  0  0  0  0  0  0  0  0  0\\n   -0.6210    1.3261    0.5236 H   0  0  0  0  0  0  0  0  0  0  0  0\\n   -0.6758    1.1999   -1.2698 H   0  0  0  0  0  0  0  0  0  0  0  0\\n   -1.7333   -0.9125    0.6844 H   0  0  0  0  0  0  0  0  0  0  0  0\\n   -1.7538   -1.0046   -1.1270 H   0  0  0  0  0  0  0  0  0  0  0  0\\n   -3.2534    1.0642    0.5705 H   0  0  0  0  0  0  0  0  0  0  0  0\\n   -3.2574    0.8943   -1.2704 H   0  0  0  0  0  0  0  0  0  0  0  0\\n   -5.1346   -0.2579    0.1921 H   0  0  0  0  0  0  0  0  0  0  0  0\\n   -4.3424   -1.0959   -1.2563 H   0  0  0  0  0  0  0  0  0  0  0  0\\n   -3.8276   -1.5206    0.4483 H   0  0  0  0  0  0  0  0  0  0  0  0\\n  1  2  1  0\\n  2  3  1  0\\n  3  4  1  0\\n  4  5  1  0\\n  5  6  1  0\\n  6  7  1  0\\n  7  8  1  0\\n  1  9  1  0\\n  1 10  1  0\\n  1 11  1  0\\n  2 12  1  0\\n  2 13  1  0\\n  3 14  1  0\\n  3 15  1  0\\n  4 16  1  0\\n  4 17  1  0\\n  5 18  1  0\\n  5 19  1  0\\n  6 20  1  0\\n  6 21  1  0\\n  7 22  1  0\\n  7 23  1  0\\n  8 24  1  0\\n  8 25  1  0\\n  8 26  1  0\\nM  END\\n\",\"sdf\");\n\tviewer_15432256697568948.setStyle({\"stick\": {}});\n\tviewer_15432256697568948.setBackgroundColor(\"0xeeeeee\");\n\tviewer_15432256697568948.zoomTo();\n\tviewer_15432256697568948.addModel(\"\\n     RDKit          3D\\n\\n 26 25  0  0  0  0  0  0  0  0999 V2000\\n    3.5944   -0.3184    1.4017 C   0  0  0  0  0  0  0  0  0  0  0  0\\n    2.8331   -0.2922    0.1222 C   0  0  0  0  0  0  0  0  0  0  0  0\\n    1.4104    0.2457    0.2949 C   0  0  0  0  0  0  0  0  0  0  0  0\\n    0.7925    0.1988   -1.1012 C   0  0  0  0  0  0  0  0  0  0  0  0\\n   -0.6228    0.7062   -1.0884 C   0  0  0  0  0  0  0  0  0  0  0  0\\n   -1.4403   -0.1566   -0.1654 C   0  0  0  0  0  0  0  0  0  0  0  0\\n   -2.8707    0.3834   -0.1765 C   0  0  0  0  0  0  0  0  0  0  0  0\\n   -3.6832   -0.4851    0.7497 C   0  0  0  0  0  0  0  0  0  0  0  0\\n    3.2086    0.4913    2.0653 H   0  0  0  0  0  0  0  0  0  0  0  0\\n    3.5167   -1.2574    1.9716 H   0  0  0  0  0  0  0  0  0  0  0  0\\n    4.6754   -0.0477    1.2276 H   0  0  0  0  0  0  0  0  0  0  0  0\\n    3.3213    0.4083   -0.5982 H   0  0  0  0  0  0  0  0  0  0  0  0\\n    2.7273   -1.2702   -0.3709 H   0  0  0  0  0  0  0  0  0  0  0  0\\n    0.9031   -0.4761    0.9619 H   0  0  0  0  0  0  0  0  0  0  0  0\\n    1.3874    1.2420    0.7363 H   0  0  0  0  0  0  0  0  0  0  0  0\\n    1.4217    0.7560   -1.8251 H   0  0  0  0  0  0  0  0  0  0  0  0\\n    0.8381   -0.8635   -1.4098 H   0  0  0  0  0  0  0  0  0  0  0  0\\n   -1.0191    0.6807   -2.1108 H   0  0  0  0  0  0  0  0  0  0  0  0\\n   -0.6792    1.7429   -0.7169 H   0  0  0  0  0  0  0  0  0  0  0  0\\n   -1.0985   -0.1301    0.8676 H   0  0  0  0  0  0  0  0  0  0  0  0\\n   -1.5142   -1.2088   -0.5058 H   0  0  0  0  0  0  0  0  0  0  0  0\\n   -2.8218    1.4327    0.1489 H   0  0  0  0  0  0  0  0  0  0  0  0\\n   -3.2158    0.2739   -1.2398 H   0  0  0  0  0  0  0  0  0  0  0  0\\n   -4.3746   -1.1274    0.1745 H   0  0  0  0  0  0  0  0  0  0  0  0\\n   -4.2530    0.1951    1.4169 H   0  0  0  0  0  0  0  0  0  0  0  0\\n   -3.0367   -1.1235    1.4075 H   0  0  0  0  0  0  0  0  0  0  0  0\\n  1  2  1  0\\n  2  3  1  0\\n  3  4  1  0\\n  4  5  1  0\\n  5  6  1  0\\n  6  7  1  0\\n  7  8  1  0\\n  1  9  1  0\\n  1 10  1  0\\n  1 11  1  0\\n  2 12  1  0\\n  2 13  1  0\\n  3 14  1  0\\n  3 15  1  0\\n  4 16  1  0\\n  4 17  1  0\\n  5 18  1  0\\n  5 19  1  0\\n  6 20  1  0\\n  6 21  1  0\\n  7 22  1  0\\n  7 23  1  0\\n  8 24  1  0\\n  8 25  1  0\\n  8 26  1  0\\nM  END\\n\",\"sdf\");\n\tviewer_15432256697568948.setStyle({\"stick\": {}});\n\tviewer_15432256697568948.setBackgroundColor(\"0xeeeeee\");\n\tviewer_15432256697568948.zoomTo();\nviewer_15432256697568948.render();\n});\n</script>",
      "text/html": [
       "<div id=\"3dmolviewer_15432256697568948\"  style=\"position: relative; width: 400px; height: 400px\">\n",
       "        <p id=\"3dmolwarning_15432256697568948\" style=\"background-color:#ffcccc;color:black\">You appear to be running in JupyterLab.  You need to install the 3dmol extension: <br>\n",
       "        <tt>jupyter labextension install jupyterlab_3dmol</tt></p>\n",
       "        </div>\n",
       "<script>\n",
       "\n",
       "var loadScriptAsync = function(uri){\n",
       "  return new Promise((resolve, reject) => {\n",
       "    var tag = document.createElement('script');\n",
       "    tag.src = uri;\n",
       "    tag.async = true;\n",
       "    tag.onload = () => {\n",
       "      resolve();\n",
       "    };\n",
       "  var firstScriptTag = document.getElementsByTagName('script')[0];\n",
       "  firstScriptTag.parentNode.insertBefore(tag, firstScriptTag);\n",
       "});\n",
       "};\n",
       "\n",
       "if(typeof $3Dmolpromise === 'undefined') {\n",
       "$3Dmolpromise = null;\n",
       "  $3Dmolpromise = loadScriptAsync('https://3dmol.csb.pitt.edu/build/3Dmol.js');\n",
       "}\n",
       "\n",
       "var viewer_15432256697568948 = null;\n",
       "var warn = document.getElementById(\"3dmolwarning_15432256697568948\");\n",
       "if(warn) {\n",
       "    warn.parentNode.removeChild(warn);\n",
       "}\n",
       "$3Dmolpromise.then(function() {\n",
       "viewer_15432256697568948 = $3Dmol.createViewer($(\"#3dmolviewer_15432256697568948\"),{backgroundColor:\"white\"});\n",
       "\tviewer_15432256697568948.addModel(\"\\n     RDKit          3D\\n\\n 26 25  0  0  0  0  0  0  0  0999 V2000\\n   -3.5583    0.9362   -0.6282 C   0  0  0  0  0  0  0  0  0  0  0  0\\n   -3.2713   -0.2875    0.1796 C   0  0  0  0  0  0  0  0  0  0  0  0\\n   -1.8930   -0.8554   -0.0754 C   0  0  0  0  0  0  0  0  0  0  0  0\\n   -0.8054    0.1412    0.2582 C   0  0  0  0  0  0  0  0  0  0  0  0\\n    0.5180   -0.5211   -0.0299 C   0  0  0  0  0  0  0  0  0  0  0  0\\n    1.6927    0.3870    0.2679 C   0  0  0  0  0  0  0  0  0  0  0  0\\n    2.9462   -0.4222   -0.0722 C   0  0  0  0  0  0  0  0  0  0  0  0\\n    4.2033    0.3485    0.1720 C   0  0  0  0  0  0  0  0  0  0  0  0\\n   -3.2241    1.8527   -0.1006 H   0  0  0  0  0  0  0  0  0  0  0  0\\n   -3.1234    0.8423   -1.6286 H   0  0  0  0  0  0  0  0  0  0  0  0\\n   -4.6688    1.0031   -0.7630 H   0  0  0  0  0  0  0  0  0  0  0  0\\n   -3.9948   -1.0792   -0.1468 H   0  0  0  0  0  0  0  0  0  0  0  0\\n   -3.4195   -0.1637    1.2582 H   0  0  0  0  0  0  0  0  0  0  0  0\\n   -1.7748   -1.1227   -1.1439 H   0  0  0  0  0  0  0  0  0  0  0  0\\n   -1.7708   -1.7404    0.5664 H   0  0  0  0  0  0  0  0  0  0  0  0\\n   -0.8452    0.2852    1.3763 H   0  0  0  0  0  0  0  0  0  0  0  0\\n   -0.9252    1.1102   -0.2196 H   0  0  0  0  0  0  0  0  0  0  0  0\\n    0.6421   -1.4166    0.6050 H   0  0  0  0  0  0  0  0  0  0  0  0\\n    0.5760   -0.8065   -1.0858 H   0  0  0  0  0  0  0  0  0  0  0  0\\n    1.7055    0.7712    1.2881 H   0  0  0  0  0  0  0  0  0  0  0  0\\n    1.6823    1.2511   -0.4506 H   0  0  0  0  0  0  0  0  0  0  0  0\\n    2.9378   -1.3096    0.6252 H   0  0  0  0  0  0  0  0  0  0  0  0\\n    2.8229   -0.8009   -1.0845 H   0  0  0  0  0  0  0  0  0  0  0  0\\n    4.8795    0.1698   -0.7027 H   0  0  0  0  0  0  0  0  0  0  0  0\\n    3.9561    1.4116    0.2549 H   0  0  0  0  0  0  0  0  0  0  0  0\\n    4.7123    0.0156    1.1152 H   0  0  0  0  0  0  0  0  0  0  0  0\\n  1  2  1  0\\n  2  3  1  0\\n  3  4  1  0\\n  4  5  1  0\\n  5  6  1  0\\n  6  7  1  0\\n  7  8  1  0\\n  1  9  1  0\\n  1 10  1  0\\n  1 11  1  0\\n  2 12  1  0\\n  2 13  1  0\\n  3 14  1  0\\n  3 15  1  0\\n  4 16  1  0\\n  4 17  1  0\\n  5 18  1  0\\n  5 19  1  0\\n  6 20  1  0\\n  6 21  1  0\\n  7 22  1  0\\n  7 23  1  0\\n  8 24  1  0\\n  8 25  1  0\\n  8 26  1  0\\nM  END\\n\",\"sdf\");\n",
       "\tviewer_15432256697568948.setStyle({\"stick\": {}});\n",
       "\tviewer_15432256697568948.setBackgroundColor(\"0xeeeeee\");\n",
       "\tviewer_15432256697568948.zoomTo();\n",
       "\tviewer_15432256697568948.addModel(\"\\n     RDKit          3D\\n\\n 26 25  0  0  0  0  0  0  0  0999 V2000\\n    3.9815    0.8090    0.1197 C   0  0  0  0  0  0  0  0  0  0  0  0\\n    2.9514   -0.0585   -0.6177 C   0  0  0  0  0  0  0  0  0  0  0  0\\n    1.6169    0.2463    0.0207 C   0  0  0  0  0  0  0  0  0  0  0  0\\n    0.5478   -0.5989   -0.6832 C   0  0  0  0  0  0  0  0  0  0  0  0\\n   -0.7568   -0.2646   -0.0186 C   0  0  0  0  0  0  0  0  0  0  0  0\\n   -1.9207   -1.0198   -0.6007 C   0  0  0  0  0  0  0  0  0  0  0  0\\n   -3.1661   -0.5763    0.1726 C   0  0  0  0  0  0  0  0  0  0  0  0\\n   -3.3954    0.8952    0.0396 C   0  0  0  0  0  0  0  0  0  0  0  0\\n    4.9486    0.6324   -0.3805 H   0  0  0  0  0  0  0  0  0  0  0  0\\n    3.9789    0.5301    1.1929 H   0  0  0  0  0  0  0  0  0  0  0  0\\n    3.6329    1.8578    0.0408 H   0  0  0  0  0  0  0  0  0  0  0  0\\n    3.1499   -1.1317   -0.4663 H   0  0  0  0  0  0  0  0  0  0  0  0\\n    2.9230    0.1876   -1.6875 H   0  0  0  0  0  0  0  0  0  0  0  0\\n    1.4004    1.3295   -0.1092 H   0  0  0  0  0  0  0  0  0  0  0  0\\n    1.6654    0.0224    1.0895 H   0  0  0  0  0  0  0  0  0  0  0  0\\n    0.5640   -0.3883   -1.7537 H   0  0  0  0  0  0  0  0  0  0  0  0\\n    0.8395   -1.6581   -0.5091 H   0  0  0  0  0  0  0  0  0  0  0  0\\n   -0.9594    0.8065   -0.1338 H   0  0  0  0  0  0  0  0  0  0  0  0\\n   -0.6736   -0.5096    1.0450 H   0  0  0  0  0  0  0  0  0  0  0  0\\n   -2.0540   -0.8929   -1.6754 H   0  0  0  0  0  0  0  0  0  0  0  0\\n   -1.7342   -2.0966   -0.4154 H   0  0  0  0  0  0  0  0  0  0  0  0\\n   -3.0686   -0.8182    1.2473 H   0  0  0  0  0  0  0  0  0  0  0  0\\n   -4.0427   -1.1664   -0.1921 H   0  0  0  0  0  0  0  0  0  0  0  0\\n   -3.0941    1.3041   -0.9306 H   0  0  0  0  0  0  0  0  0  0  0  0\\n   -4.4802    1.0827    0.2393 H   0  0  0  0  0  0  0  0  0  0  0  0\\n   -2.8543    1.4763    0.8317 H   0  0  0  0  0  0  0  0  0  0  0  0\\n  1  2  1  0\\n  2  3  1  0\\n  3  4  1  0\\n  4  5  1  0\\n  5  6  1  0\\n  6  7  1  0\\n  7  8  1  0\\n  1  9  1  0\\n  1 10  1  0\\n  1 11  1  0\\n  2 12  1  0\\n  2 13  1  0\\n  3 14  1  0\\n  3 15  1  0\\n  4 16  1  0\\n  4 17  1  0\\n  5 18  1  0\\n  5 19  1  0\\n  6 20  1  0\\n  6 21  1  0\\n  7 22  1  0\\n  7 23  1  0\\n  8 24  1  0\\n  8 25  1  0\\n  8 26  1  0\\nM  END\\n\",\"sdf\");\n",
       "\tviewer_15432256697568948.setStyle({\"stick\": {}});\n",
       "\tviewer_15432256697568948.setBackgroundColor(\"0xeeeeee\");\n",
       "\tviewer_15432256697568948.zoomTo();\n",
       "\tviewer_15432256697568948.addModel(\"\\n     RDKit          3D\\n\\n 26 25  0  0  0  0  0  0  0  0999 V2000\\n    4.3043    0.3636   -0.3056 C   0  0  0  0  0  0  0  0  0  0  0  0\\n    3.0195   -0.4000   -0.2525 C   0  0  0  0  0  0  0  0  0  0  0  0\\n    1.8538    0.5601   -0.3148 C   0  0  0  0  0  0  0  0  0  0  0  0\\n    0.5921   -0.2662   -0.2581 C   0  0  0  0  0  0  0  0  0  0  0  0\\n   -0.6552    0.6105   -0.3148 C   0  0  0  0  0  0  0  0  0  0  0  0\\n   -1.8276   -0.3285   -0.2507 C   0  0  0  0  0  0  0  0  0  0  0  0\\n   -3.1558    0.3822   -0.2962 C   0  0  0  0  0  0  0  0  0  0  0  0\\n   -4.2303   -0.7064   -0.2223 C   0  0  0  0  0  0  0  0  0  0  0  0\\n    5.1258   -0.1822    0.2170 H   0  0  0  0  0  0  0  0  0  0  0  0\\n    4.5741    0.5255   -1.3703 H   0  0  0  0  0  0  0  0  0  0  0  0\\n    4.1775    1.3646    0.1502 H   0  0  0  0  0  0  0  0  0  0  0  0\\n    2.9753   -1.1648   -1.0357 H   0  0  0  0  0  0  0  0  0  0  0  0\\n    3.0044   -0.9618    0.7260 H   0  0  0  0  0  0  0  0  0  0  0  0\\n    1.8362    1.2274    0.5707 H   0  0  0  0  0  0  0  0  0  0  0  0\\n    1.8866    1.0933   -1.2667 H   0  0  0  0  0  0  0  0  0  0  0  0\\n    0.5256   -0.8235    0.7089 H   0  0  0  0  0  0  0  0  0  0  0  0\\n    0.5931   -0.9867   -1.1016 H   0  0  0  0  0  0  0  0  0  0  0  0\\n   -0.6210    1.3261    0.5236 H   0  0  0  0  0  0  0  0  0  0  0  0\\n   -0.6758    1.1999   -1.2698 H   0  0  0  0  0  0  0  0  0  0  0  0\\n   -1.7333   -0.9125    0.6844 H   0  0  0  0  0  0  0  0  0  0  0  0\\n   -1.7538   -1.0046   -1.1270 H   0  0  0  0  0  0  0  0  0  0  0  0\\n   -3.2534    1.0642    0.5705 H   0  0  0  0  0  0  0  0  0  0  0  0\\n   -3.2574    0.8943   -1.2704 H   0  0  0  0  0  0  0  0  0  0  0  0\\n   -5.1346   -0.2579    0.1921 H   0  0  0  0  0  0  0  0  0  0  0  0\\n   -4.3424   -1.0959   -1.2563 H   0  0  0  0  0  0  0  0  0  0  0  0\\n   -3.8276   -1.5206    0.4483 H   0  0  0  0  0  0  0  0  0  0  0  0\\n  1  2  1  0\\n  2  3  1  0\\n  3  4  1  0\\n  4  5  1  0\\n  5  6  1  0\\n  6  7  1  0\\n  7  8  1  0\\n  1  9  1  0\\n  1 10  1  0\\n  1 11  1  0\\n  2 12  1  0\\n  2 13  1  0\\n  3 14  1  0\\n  3 15  1  0\\n  4 16  1  0\\n  4 17  1  0\\n  5 18  1  0\\n  5 19  1  0\\n  6 20  1  0\\n  6 21  1  0\\n  7 22  1  0\\n  7 23  1  0\\n  8 24  1  0\\n  8 25  1  0\\n  8 26  1  0\\nM  END\\n\",\"sdf\");\n",
       "\tviewer_15432256697568948.setStyle({\"stick\": {}});\n",
       "\tviewer_15432256697568948.setBackgroundColor(\"0xeeeeee\");\n",
       "\tviewer_15432256697568948.zoomTo();\n",
       "\tviewer_15432256697568948.addModel(\"\\n     RDKit          3D\\n\\n 26 25  0  0  0  0  0  0  0  0999 V2000\\n    3.5944   -0.3184    1.4017 C   0  0  0  0  0  0  0  0  0  0  0  0\\n    2.8331   -0.2922    0.1222 C   0  0  0  0  0  0  0  0  0  0  0  0\\n    1.4104    0.2457    0.2949 C   0  0  0  0  0  0  0  0  0  0  0  0\\n    0.7925    0.1988   -1.1012 C   0  0  0  0  0  0  0  0  0  0  0  0\\n   -0.6228    0.7062   -1.0884 C   0  0  0  0  0  0  0  0  0  0  0  0\\n   -1.4403   -0.1566   -0.1654 C   0  0  0  0  0  0  0  0  0  0  0  0\\n   -2.8707    0.3834   -0.1765 C   0  0  0  0  0  0  0  0  0  0  0  0\\n   -3.6832   -0.4851    0.7497 C   0  0  0  0  0  0  0  0  0  0  0  0\\n    3.2086    0.4913    2.0653 H   0  0  0  0  0  0  0  0  0  0  0  0\\n    3.5167   -1.2574    1.9716 H   0  0  0  0  0  0  0  0  0  0  0  0\\n    4.6754   -0.0477    1.2276 H   0  0  0  0  0  0  0  0  0  0  0  0\\n    3.3213    0.4083   -0.5982 H   0  0  0  0  0  0  0  0  0  0  0  0\\n    2.7273   -1.2702   -0.3709 H   0  0  0  0  0  0  0  0  0  0  0  0\\n    0.9031   -0.4761    0.9619 H   0  0  0  0  0  0  0  0  0  0  0  0\\n    1.3874    1.2420    0.7363 H   0  0  0  0  0  0  0  0  0  0  0  0\\n    1.4217    0.7560   -1.8251 H   0  0  0  0  0  0  0  0  0  0  0  0\\n    0.8381   -0.8635   -1.4098 H   0  0  0  0  0  0  0  0  0  0  0  0\\n   -1.0191    0.6807   -2.1108 H   0  0  0  0  0  0  0  0  0  0  0  0\\n   -0.6792    1.7429   -0.7169 H   0  0  0  0  0  0  0  0  0  0  0  0\\n   -1.0985   -0.1301    0.8676 H   0  0  0  0  0  0  0  0  0  0  0  0\\n   -1.5142   -1.2088   -0.5058 H   0  0  0  0  0  0  0  0  0  0  0  0\\n   -2.8218    1.4327    0.1489 H   0  0  0  0  0  0  0  0  0  0  0  0\\n   -3.2158    0.2739   -1.2398 H   0  0  0  0  0  0  0  0  0  0  0  0\\n   -4.3746   -1.1274    0.1745 H   0  0  0  0  0  0  0  0  0  0  0  0\\n   -4.2530    0.1951    1.4169 H   0  0  0  0  0  0  0  0  0  0  0  0\\n   -3.0367   -1.1235    1.4075 H   0  0  0  0  0  0  0  0  0  0  0  0\\n  1  2  1  0\\n  2  3  1  0\\n  3  4  1  0\\n  4  5  1  0\\n  5  6  1  0\\n  6  7  1  0\\n  7  8  1  0\\n  1  9  1  0\\n  1 10  1  0\\n  1 11  1  0\\n  2 12  1  0\\n  2 13  1  0\\n  3 14  1  0\\n  3 15  1  0\\n  4 16  1  0\\n  4 17  1  0\\n  5 18  1  0\\n  5 19  1  0\\n  6 20  1  0\\n  6 21  1  0\\n  7 22  1  0\\n  7 23  1  0\\n  8 24  1  0\\n  8 25  1  0\\n  8 26  1  0\\nM  END\\n\",\"sdf\");\n",
       "\tviewer_15432256697568948.setStyle({\"stick\": {}});\n",
       "\tviewer_15432256697568948.setBackgroundColor(\"0xeeeeee\");\n",
       "\tviewer_15432256697568948.zoomTo();\n",
       "viewer_15432256697568948.render();\n",
       "});\n",
       "</script>"
      ]
     },
     "metadata": {},
     "output_type": "display_data"
    }
   ],
   "source": [
    "smiles = molecules['n-octane']\n",
    "m = Chem.MolFromSmiles(smiles)\n",
    "m = Chem.AddHs(m)\n",
    "Chem.EmbedMultipleConfs(m, numConfs=4,\n",
    "                        useExpTorsionAnglePrefs=True,\n",
    "                        useBasicKnowledge=True)\n",
    "p = py3Dmol.view(width=400,height=400)\n",
    "for confId in range(4):\n",
    "    drawit2(m,p,confId)\n",
    "p.show()\n",
    "v= PyMol.MolViewer()\n",
    "v.DeleteAll()\n",
    "for cid in range(4): \n",
    "    v.ShowMol(m,confId=cid,name='Conf-%d'%cid,showOnly=False)\n",
    "v.server.do('set grid_mode, on')\n",
    "v.server.do('ray')"
   ]
  },
  {
   "cell_type": "code",
   "execution_count": 56,
   "metadata": {
    "ExecuteTime": {
     "end_time": "2018-11-01T14:35:15.112712Z",
     "start_time": "2018-11-01T14:35:14.156943Z"
    }
   },
   "outputs": [
    {
     "name": "stdout",
     "output_type": "stream",
     "text": [
      "molecule: n-octane : SMILES: CCCCCCCC\n",
      "1 out of 1 done\n"
     ]
    }
   ],
   "source": [
    "# molecules = {'n-decanoic_acid': 'CCCCCCCCCC(=O)O'}\n",
    "os.system('rm '+output_dir+list(molecules.keys())[0]+'_diam_result.csv')\n",
    "ercollect.rdkit_functions.calc_molecule_diameters(molecules, out_dir=output_dir,\n",
    "                                        MW_thresh=2000, \n",
    "                                        rerun=True, vdwScale=0.8, \n",
    "                                        boxMargin=8.0,\n",
    "                                        spacing=0.6, show_vdw=True, plot_ellip=False,\n",
    "                                        N_conformers=1)"
   ]
  },
  {
   "cell_type": "markdown",
   "metadata": {},
   "source": [
    "# Debug and modification of RS database "
   ]
  },
  {
   "cell_type": "code",
   "execution_count": null,
   "metadata": {
    "ExecuteTime": {
     "end_time": "2018-10-10T08:15:33.906708Z",
     "start_time": "2018-10-10T08:15:33.731622Z"
    }
   },
   "outputs": [],
   "source": [
    "from rxn_syst import reaction, yield_rxn_syst, collect_RS_molecule_properties\n",
    "import glob\n",
    "directory = '/home/atarzia/psp/screening_results/biomin_search/'\n",
    "molecule_db_dir = '/home/atarzia/psp/molecule_DBs/atarzia/'\n",
    "molecules = glob.glob(molecule_db_dir+'ATRS_*.gpkl')\n",
    "count = 0\n",
    "rs_pkls_done = []"
   ]
  },
  {
   "cell_type": "code",
   "execution_count": null,
   "metadata": {
    "ExecuteTime": {
     "end_time": "2018-10-10T08:43:33.986659Z",
     "start_time": "2018-10-10T08:15:36.077552Z"
    },
    "scrolled": true
   },
   "outputs": [],
   "source": [
    "for rs in yield_rxn_syst(directory):\n",
    "    count += 1\n",
    "    if rs.pkl in rs_pkls_done:\n",
    "        continue\n",
    "    rs_pkls_done.append(rs.pkl)\n",
    "    if rs.skip_rxn is True:\n",
    "        continue\n",
    "    print('-----', count, '---', rs.pkl)\n",
    "    if rs.components is None:\n",
    "        continue\n",
    "    for m in rs.components:\n",
    "        print(m.name, m.role)\n",
    "        print(m.SMILES)\n",
    "        try:\n",
    "            print(m.pkl)\n",
    "        except AttributeError:\n",
    "            print('no pkl')\n",
    "    rs.mol_collected = False\n",
    "    collect_RS_molecule_properties(rs=rs, output_dir=directory,\n",
    "                                   mol_db_dir=molecule_db_dir,\n",
    "                                   molecules=molecules, count=0,\n",
    "                                   react_syst_files=[])\n",
    "    for m in rs.components:\n",
    "        print(m.pkl)"
   ]
  },
  {
   "cell_type": "code",
   "execution_count": null,
   "metadata": {},
   "outputs": [],
   "source": []
  },
  {
   "cell_type": "markdown",
   "metadata": {},
   "source": [
    "# Debug and modification of molecule database"
   ]
  },
  {
   "cell_type": "code",
   "execution_count": null,
   "metadata": {
    "ExecuteTime": {
     "end_time": "2018-11-08T02:46:03.214724Z",
     "start_time": "2018-11-08T02:46:03.210737Z"
    }
   },
   "outputs": [],
   "source": [
    "from ercollect.PUBCHEM_IO import get_logP_from_name, get_complexity_from_name, get_IUPAC_from_name\n",
    "from ercollect.molecule import yield_molecules, load_molecule\n",
    "directory = '/home/atarzia/psp/molecule_DBs/atarzia/'"
   ]
  },
  {
   "cell_type": "code",
   "execution_count": null,
   "metadata": {
    "ExecuteTime": {
     "end_time": "2018-11-08T03:33:35.781184Z",
     "start_time": "2018-11-08T03:33:34.771573Z"
    }
   },
   "outputs": [],
   "source": [
    "for j, i in enumerate(yield_molecules(directory=directory)):\n",
    "    if i.name == \"cocaine\":\n",
    "        print(i.name)\n",
    "        break"
   ]
  },
  {
   "cell_type": "code",
   "execution_count": null,
   "metadata": {},
   "outputs": [],
   "source": [
    "i.rs_pkls"
   ]
  },
  {
   "cell_type": "code",
   "execution_count": null,
   "metadata": {
    "ExecuteTime": {
     "end_time": "2018-11-08T03:37:28.696465Z",
     "start_time": "2018-11-08T03:37:28.680359Z"
    }
   },
   "outputs": [],
   "source": [
    "i.mol"
   ]
  },
  {
   "cell_type": "code",
   "execution_count": null,
   "metadata": {
    "ExecuteTime": {
     "end_time": "2018-11-08T03:32:44.830813Z",
     "start_time": "2018-11-08T03:32:44.817755Z"
    }
   },
   "outputs": [],
   "source": [
    "i.mol"
   ]
  },
  {
   "cell_type": "code",
   "execution_count": null,
   "metadata": {
    "ExecuteTime": {
     "end_time": "2018-10-16T02:51:00.347820Z",
     "start_time": "2018-10-16T02:50:55.498468Z"
    }
   },
   "outputs": [],
   "source": [
    "caught = []\n",
    "for j, i in enumerate(yield_molecules(directory=directory)):\n",
    "    print('doing -----', j)\n",
    "    if '\\n' in str(i.SMILES):\n",
    "        print(i.name)\n",
    "        print('SMILES', i.SMILES)\n",
    "        caught.append(i)"
   ]
  },
  {
   "cell_type": "code",
   "execution_count": null,
   "metadata": {
    "ExecuteTime": {
     "end_time": "2018-10-16T02:51:00.354827Z",
     "start_time": "2018-10-16T02:51:00.349572Z"
    }
   },
   "outputs": [],
   "source": [
    "print(len(caught))\n",
    "for ca in caught:\n",
    "    print(ca.name, ca.pkl)\n",
    "    print(ca.SMILES)\n",
    "    splits = ca.SMILES.split('\\n')\n",
    "    print(splits)\n",
    "    break"
   ]
  },
  {
   "cell_type": "code",
   "execution_count": null,
   "metadata": {
    "ExecuteTime": {
     "end_time": "2018-10-16T02:52:19.169903Z",
     "start_time": "2018-10-16T02:52:19.158894Z"
    }
   },
   "outputs": [],
   "source": [
    "from collections import Counter\n",
    "print(Counter([i.DB for i in caught]))"
   ]
  },
  {
   "cell_type": "code",
   "execution_count": null,
   "metadata": {},
   "outputs": [],
   "source": []
  },
  {
   "cell_type": "markdown",
   "metadata": {},
   "source": [
    "## molecule list debug"
   ]
  },
  {
   "cell_type": "code",
   "execution_count": null,
   "metadata": {
    "ExecuteTime": {
     "end_time": "2018-10-16T02:56:30.758775Z",
     "start_time": "2018-10-16T02:56:30.747055Z"
    }
   },
   "outputs": [],
   "source": [
    "# list of molecules of interest\n",
    "molecules = ['4-hydroxy-3-octaprenylbenzoate', '2-dehydro-3-deoxy-L-fuconate', 'dTDP-4-dehydro-6-deoxy-alpha-D-glucopyranose', '2-oxopentanoate', \n",
    "             'L-methionine-7-amido-4-methylcoumarin', 'CpU', 'phenylpyruvate', 'nicotinate mononucleotide', 'asparagine', \"thymidine 5'-monophosphate\", \n",
    "             'beta-citryl-L-glutamate', 'L-lysine ethyl ester']"
   ]
  },
  {
   "cell_type": "code",
   "execution_count": null,
   "metadata": {
    "ExecuteTime": {
     "end_time": "2018-10-16T03:02:48.813541Z",
     "start_time": "2018-10-16T03:02:25.118094Z"
    }
   },
   "outputs": [],
   "source": [
    "# find rxn system files and molecule files for each molecule\n",
    "mol_dir = '/home/atarzia/psp/molecule_DBs/atarzia/'\n",
    "mol_dict = {}\n",
    "\n",
    "for mol in molecules:\n",
    "    print(mol)\n",
    "    for m in yield_molecules(directory=mol_dir):\n",
    "        if mol == m.name or mol == m.iupac_name:\n",
    "            print('found')\n",
    "            mol_dict[mol] = (m.pkl, m.rs_pkls)"
   ]
  },
  {
   "cell_type": "code",
   "execution_count": null,
   "metadata": {
    "ExecuteTime": {
     "end_time": "2018-10-16T03:12:20.557441Z",
     "start_time": "2018-10-16T03:12:20.386852Z"
    }
   },
   "outputs": [],
   "source": [
    "from BRENDA_IO import *\n",
    "mol = '2-dehydro-3-deoxy-L-fuconate'\n",
    "mol_val = mol_dict[mol]\n",
    "chebiID = get_chebiID_for_BRENDA(mol, 1)\n",
    "print(mol, '-- chebiID =', chebiID)"
   ]
  },
  {
   "cell_type": "code",
   "execution_count": null,
   "metadata": {
    "ExecuteTime": {
     "end_time": "2018-10-16T03:18:25.347003Z",
     "start_time": "2018-10-16T03:18:21.305722Z"
    }
   },
   "outputs": [],
   "source": [
    "from molecule import *\n",
    "from CHEBI_IO import *\n",
    "molec = molecule(mol, 'reactant', 'BRENDA', chebiID)\n",
    "molec.chebiID = molec.DB_ID\n",
    "get_cmpd_information(molec)\n",
    "\n",
    "print('this result is not right, the chebiID that was input links to a molecule!')"
   ]
  },
  {
   "cell_type": "code",
   "execution_count": null,
   "metadata": {
    "ExecuteTime": {
     "end_time": "2018-10-16T03:18:49.660781Z",
     "start_time": "2018-10-16T03:18:49.653213Z"
    }
   },
   "outputs": [],
   "source": [
    "import DB_functions"
   ]
  },
  {
   "cell_type": "code",
   "execution_count": null,
   "metadata": {
    "ExecuteTime": {
     "end_time": "2018-10-16T03:20:55.749151Z",
     "start_time": "2018-10-16T03:20:55.606633Z"
    }
   },
   "outputs": [],
   "source": [
    "DB_prop = DB_functions.get_DB_prop('CHEBI')\n",
    "compounds_file = DB_prop[0]+DB_prop[1]['cmpds_file']\n",
    "names_file = DB_prop[0]+DB_prop[1]['names_file']\n",
    "structures_file = DB_prop[0]+DB_prop[1]['strct_file']\n",
    "\n",
    "# set name by searching compound file\n",
    "res = search_for_compound_by_id(compounds_file, molec.chebiID)\n",
    "print(res)\n",
    "ID, parent_id, name, star = res\n",
    "if parent_id != 'null':\n",
    "    print('oi')"
   ]
  },
  {
   "cell_type": "code",
   "execution_count": null,
   "metadata": {
    "ExecuteTime": {
     "end_time": "2018-10-16T03:26:25.911516Z",
     "start_time": "2018-10-16T03:26:21.965351Z"
    }
   },
   "outputs": [],
   "source": [
    "# get structure using CHEBI ID\n",
    "# structures.csv - read in, get COMPOUND ID match then extract the\n",
    "# get SMILES\n",
    "structure, s_type = get_structure(structures_file, molec.chebiID)\n",
    "print(structure, s_type)\n",
    "print('this result is not right, the chebiID that was input links to a molecule!')"
   ]
  },
  {
   "cell_type": "code",
   "execution_count": null,
   "metadata": {
    "ExecuteTime": {
     "end_time": "2018-10-16T03:37:47.456035Z",
     "start_time": "2018-10-16T03:37:47.441650Z"
    }
   },
   "outputs": [],
   "source": [
    "from chembl_webresource_client.new_client import new_client\n",
    "molecule = new_client.molecule\n",
    "res = molecule.search(mol)  # 'viagra')\n",
    "# guaiacol"
   ]
  },
  {
   "cell_type": "code",
   "execution_count": null,
   "metadata": {
    "ExecuteTime": {
     "end_time": "2018-10-16T03:39:37.490367Z",
     "start_time": "2018-10-16T03:37:52.154990Z"
    }
   },
   "outputs": [],
   "source": [
    "print('there are', len(res), 'top search candidates:')\n",
    "for i in range(len(res)):\n",
    "    print('option:', i, 'name:', res[i]['pref_name'])\n",
    "    print([res[i]['molecule_synonyms'][j]['synonyms'] for j in range(len(res[i]['molecule_synonyms']))])"
   ]
  },
  {
   "cell_type": "code",
   "execution_count": null,
   "metadata": {},
   "outputs": [],
   "source": [
    "if structure is not None:\n",
    "    # is structure a MolBlock or Smiles\n",
    "    if s_type == 'mol':\n",
    "        # convert structure to SMILEs\n",
    "        rdkitmol = Chem.MolFromMolBlock(structure)\n",
    "        if rdkitmol is None:\n",
    "            print('structure could not be deciphered')\n",
    "            smile = None\n",
    "            molec.SMILES = smile\n",
    "            molec.mol = None\n",
    "            print('probably a polymeric structure - skipping.')\n",
    "        else:\n",
    "            rdkitmol.Compute2DCoords()\n",
    "            smile = Chem.MolToSmiles(rdkitmol)\n",
    "            molec.SMILES = smile\n",
    "            # remove molecules with generalised atoms\n",
    "            if '*' in smile:\n",
    "                molec.mol = None\n",
    "            else:\n",
    "                molec.mol = rdkitmol\n",
    "    elif s_type == 'SMILES':\n",
    "        smile = structure\n",
    "        rdkitmol = Chem.MolFromSmiles(smile)\n",
    "        if rdkitmol is None:\n",
    "            print('structure could not be deciphered')\n",
    "            molec.SMILES = smile\n",
    "            molec.mol = None\n",
    "        else:\n",
    "            rdkitmol.Compute2DCoords()\n",
    "            molec.SMILES = smile\n",
    "            # remove molecules with generalised atoms\n",
    "            if '*' in smile:\n",
    "                molec.mol = None\n",
    "            else:\n",
    "                molec.mol = rdkitmol\n",
    "    elif s_type == 'InChI':\n",
    "        rdkitmol = Chem.MolFromInchi(structure)\n",
    "        rdkitmol.Compute2DCoords()\n",
    "        smile = Chem.MolToSmiles(rdkitmol)\n",
    "        molec.SMILES = smile\n",
    "        # remove molecules with generalised atoms\n",
    "        if '*' in smile:\n",
    "            molec.mol = None\n",
    "        else:\n",
    "            molec.mol = rdkitmol\n",
    "    elif s_type == 'InChIKey':\n",
    "        rdkitmol = Chem.MolFromInchi(structure)\n",
    "        rdkitmol.Compute2DCoords()\n",
    "        smile = None\n",
    "        molec.SMILES = smile\n",
    "        molec.mol = None\n",
    "        print('molecule given as InChIKey - ambiguous')\n",
    "        print('probably a generic structure - skipping.')\n",
    "else:\n",
    "    smile = None\n",
    "    molec.SMILES = smile\n",
    "    molec.mol = None\n",
    "    print('molecule does not have recorded structure in CHEBI DB')\n",
    "    print('probably a generic structure - skipping.')\n"
   ]
  },
  {
   "cell_type": "code",
   "execution_count": null,
   "metadata": {
    "ExecuteTime": {
     "end_time": "2018-10-16T04:06:17.641608Z",
     "start_time": "2018-10-16T04:06:17.634854Z"
    }
   },
   "outputs": [],
   "source": [
    "# test libChEBIpy (https://github.com/libChEBI/libChEBIpy)\n",
    "from libchebipy import ChebiEntity\n",
    "print(molec.chebiID)\n",
    "entity = ChebiEntity(molec.chebiID) "
   ]
  },
  {
   "cell_type": "code",
   "execution_count": null,
   "metadata": {
    "ExecuteTime": {
     "end_time": "2018-10-16T04:15:47.510322Z",
     "start_time": "2018-10-16T04:15:47.500326Z"
    }
   },
   "outputs": [],
   "source": [
    "entity = ChebiEntity('1000') "
   ]
  },
  {
   "cell_type": "code",
   "execution_count": null,
   "metadata": {
    "ExecuteTime": {
     "end_time": "2018-10-16T04:15:47.819728Z",
     "start_time": "2018-10-16T04:15:47.811662Z"
    }
   },
   "outputs": [],
   "source": [
    "entity.get_smiles()"
   ]
  },
  {
   "cell_type": "code",
   "execution_count": null,
   "metadata": {
    "ExecuteTime": {
     "end_time": "2018-10-16T04:15:00.154192Z",
     "start_time": "2018-10-16T04:15:00.137302Z"
    }
   },
   "outputs": [],
   "source": [
    "if entity['_ChebiEntity__all_ids'] is None:\n",
    "    print('hey')"
   ]
  },
  {
   "cell_type": "code",
   "execution_count": null,
   "metadata": {
    "ExecuteTime": {
     "end_time": "2018-10-16T04:06:18.314207Z",
     "start_time": "2018-10-16T04:06:18.295831Z"
    }
   },
   "outputs": [],
   "source": [
    "entity.get_formula()"
   ]
  },
  {
   "cell_type": "code",
   "execution_count": null,
   "metadata": {
    "ExecuteTime": {
     "end_time": "2018-10-16T04:06:18.856494Z",
     "start_time": "2018-10-16T04:06:18.843149Z"
    }
   },
   "outputs": [],
   "source": [
    "entity.get_smiles()"
   ]
  },
  {
   "cell_type": "code",
   "execution_count": null,
   "metadata": {
    "ExecuteTime": {
     "end_time": "2018-10-16T04:06:05.927652Z",
     "start_time": "2018-10-16T04:06:05.916711Z"
    }
   },
   "outputs": [],
   "source": [
    "import libchebipy._parsers as parsers\n",
    "#print(parsers.get_names(37448))\n",
    "print(parsers.get_smiles('37448'))"
   ]
  },
  {
   "cell_type": "code",
   "execution_count": null,
   "metadata": {},
   "outputs": [],
   "source": []
  },
  {
   "cell_type": "code",
   "execution_count": null,
   "metadata": {},
   "outputs": [],
   "source": []
  },
  {
   "cell_type": "markdown",
   "metadata": {},
   "source": [
    "##  Random Code"
   ]
  },
  {
   "cell_type": "code",
   "execution_count": null,
   "metadata": {},
   "outputs": [],
   "source": [
    "If you want all possible names for a molecule (from the SMILES string) using Python:\n",
    "\n",
    ">>> from cinfony import webel, pybel\n",
    ">>> mol = pybel.readstring(\"smi\", \"C(=O)C=C\")\n",
    ">>> name = webel.Molecule(mol).write(\"names\")\n",
    ">>> print(name)\n",
    "\n",
    "['prop-2-enal', 'Acrolein', .."
   ]
  }
 ],
 "metadata": {
  "kernelspec": {
   "display_name": "Python 3",
   "language": "python",
   "name": "python3"
  },
  "language_info": {
   "codemirror_mode": {
    "name": "ipython",
    "version": 3
   },
   "file_extension": ".py",
   "mimetype": "text/x-python",
   "name": "python",
   "nbconvert_exporter": "python",
   "pygments_lexer": "ipython3",
   "version": "3.6.5"
  }
 },
 "nbformat": 4,
 "nbformat_minor": 2
}
