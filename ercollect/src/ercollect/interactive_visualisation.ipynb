{
 "cells": [
  {
   "cell_type": "code",
   "execution_count": null,
   "metadata": {
    "ExecuteTime": {
     "end_time": "2018-11-08T00:04:02.672134Z",
     "start_time": "2018-11-08T00:04:02.625600Z"
    }
   },
   "outputs": [],
   "source": [
    "from IPython.core.display import HTML\n",
    "display(HTML(\"<style>.container { width:95% !important; }</style>\"))\n",
    "%load_ext autoreload\n",
    "%autoreload 1"
   ]
  },
  {
   "cell_type": "markdown",
   "metadata": {},
   "source": [
    "Author: Andrew Tarzia\n",
    "\n",
    "Date Created: 12 Jul 2018\n",
    "\n",
    "Distributed under the terms of the MIT License."
   ]
  },
  {
   "cell_type": "markdown",
   "metadata": {},
   "source": [
    "# Notebook for specific visualization of molecules using RDKIT and other functions"
   ]
  },
  {
   "cell_type": "code",
   "execution_count": null,
   "metadata": {
    "ExecuteTime": {
     "end_time": "2018-11-08T00:04:05.809336Z",
     "start_time": "2018-11-08T00:04:04.989457Z"
    }
   },
   "outputs": [],
   "source": [
    "import numpy as np\n",
    "import pandas as pd\n",
    "import os\n",
    "from rdkit.Chem import AllChem as Chem\n",
    "from rdkit.Chem import Descriptors\n",
    "from rdkit.Chem.Descriptors3D import NPR1, NPR2, PMI1, PMI2, PMI3\n",
    "from rdkit.Chem.Draw.MolDrawing import MolDrawing\n",
    "from rdkit.Chem.Draw import IPythonConsole\n",
    "from rdkit.Chem import Draw\n",
    "from rdkit.Geometry import rdGeometry\n",
    "from rdkit.Chem import PyMol\n",
    "import py3Dmol\n",
    "from ipywidgets import interact, interactive, fixed\n",
    "from rdkit import Geometry\n",
    "import tempfile\n",
    "import matplotlib.pyplot as plt\n",
    "%aimport ercollect.rdkit_functions\n",
    "%aimport ercollect.ellipsoid"
   ]
  },
  {
   "cell_type": "code",
   "execution_count": null,
   "metadata": {
    "ExecuteTime": {
     "end_time": "2018-11-08T00:04:07.886179Z",
     "start_time": "2018-11-08T00:04:07.870806Z"
    }
   },
   "outputs": [],
   "source": [
    "def drawit(m, p, confId=-1):\n",
    "    mb = Chem.MolToMolBlock(m, confId=confId)\n",
    "    p.removeAllModels()\n",
    "    p.addModel(mb,'sdf')\n",
    "    p.setStyle({'stick':{}})\n",
    "    p.setBackgroundColor('0xeeeeee')\n",
    "    p.zoomTo()\n",
    "    return p.show()\n",
    "\n",
    "\n",
    "def drawit2(m, p, confId=-1):\n",
    "    mb = Chem.MolToMolBlock(m, confId=confId)\n",
    "    p.addModel(mb, 'sdf')\n",
    "    p.setStyle({'stick':{}})\n",
    "    p.setBackgroundColor('0xeeeeee')\n",
    "    p.zoomTo()"
   ]
  },
  {
   "cell_type": "markdown",
   "metadata": {},
   "source": [
    "## visualize molecules for Figure"
   ]
  },
  {
   "cell_type": "code",
   "execution_count": null,
   "metadata": {
    "ExecuteTime": {
     "end_time": "2018-10-31T11:46:25.891378Z",
     "start_time": "2018-10-31T11:46:25.882281Z"
    }
   },
   "outputs": [],
   "source": [
    "molecules = {'ethanol': 'CCO',\n",
    "             'cyclohexane': 'C1CCCCC1'}"
   ]
  },
  {
   "cell_type": "code",
   "execution_count": null,
   "metadata": {
    "ExecuteTime": {
     "end_time": "2018-10-31T11:56:20.563342Z",
     "start_time": "2018-10-31T11:46:32.105553Z"
    }
   },
   "outputs": [],
   "source": [
    "for name, smile in molecules.items():\n",
    "    m = Chem.MolFromSmiles(smile)\n",
    "    Draw.MolToFile(m, '/home/atarzia/psp/documents/psp_paper/figures/'+name+'.png')\n",
    "    ercollect.rdkit_functions.calc_molecule_diameter(name, smile, out_dir='./',\n",
    "                                           vdwScale=0.8, \n",
    "                                           boxMargin=6.0, spacing=0.3,\n",
    "                                           MW_thresh=130, show_vdw=True, \n",
    "                                           plot_ellip=False,\n",
    "                                           N_conformers=1)\n",
    "    input('done?')"
   ]
  },
  {
   "cell_type": "markdown",
   "metadata": {},
   "source": [
    "##  visualize all conformers of a molecule"
   ]
  },
  {
   "cell_type": "code",
   "execution_count": null,
   "metadata": {
    "ExecuteTime": {
     "end_time": "2018-10-31T10:19:28.003072Z",
     "start_time": "2018-10-31T10:19:27.990543Z"
    }
   },
   "outputs": [],
   "source": [
    "molecules = {'m-xylene': 'CC1=CC(=CC=C1)C'}"
   ]
  },
  {
   "cell_type": "code",
   "execution_count": null,
   "metadata": {
    "ExecuteTime": {
     "end_time": "2018-10-31T10:19:30.102425Z",
     "start_time": "2018-10-31T10:19:30.043196Z"
    }
   },
   "outputs": [],
   "source": [
    "for name, smile in molecules.items():\n",
    "    # if name != 'MIM':\n",
    "    #     continue\n",
    "    m = Chem.MolFromSmiles(smile)\n",
    "    m = Chem.AddHs(m)\n",
    "    Chem.EmbedMultipleConfs(m, numConfs=10, randomSeed=0xf00d, \n",
    "                            useExpTorsionAnglePrefs=True,\n",
    "                            useBasicKnowledge=True)\n",
    "    p = py3Dmol.view(width=400,height=400)\n",
    "    interact(drawit, m=fixed(m),p=fixed(p),confId=(0,m.GetNumConformers()-1))"
   ]
  },
  {
   "cell_type": "code",
   "execution_count": null,
   "metadata": {},
   "outputs": [],
   "source": [
    "m"
   ]
  },
  {
   "cell_type": "code",
   "execution_count": null,
   "metadata": {
    "ExecuteTime": {
     "end_time": "2018-09-11T06:01:58.396423Z",
     "start_time": "2018-09-11T06:01:57.759990Z"
    }
   },
   "outputs": [],
   "source": [
    "for name, smile in molecules.items():\n",
    "    # if name != '1,9-dichlorononane':\n",
    "    #     continue\n",
    "    m = Chem.MolFromSmiles(smile)\n",
    "    m = Chem.AddHs(m)\n",
    "    Chem.EmbedMultipleConfs(m, numConfs=10, randomSeed=0xf00d, \n",
    "                            useExpTorsionAnglePrefs=True,\n",
    "                            useBasicKnowledge=True)\n",
    "    p = py3Dmol.view(width=400,height=400)\n",
    "    for confId in range(10):\n",
    "        drawit2(m,p,confId)\n",
    "    p.show()"
   ]
  },
  {
   "cell_type": "markdown",
   "metadata": {},
   "source": [
    "##  Get molecular size of a test molecule"
   ]
  },
  {
   "cell_type": "code",
   "execution_count": null,
   "metadata": {
    "ExecuteTime": {
     "end_time": "2018-11-10T02:10:22.575818Z",
     "start_time": "2018-11-10T02:09:48.357612Z"
    }
   },
   "outputs": [],
   "source": [
    "name, smiles = 'm-xylene', 'CC1=CC(=CC=C1)C' # 'n-hexane', 'CCCCCC'\n",
    "output_dir = '/home/atarzia/psp/molecule_DBs/atarzia/'\n",
    "res = ercollect.rdkit_functions.calc_molecule_diameter(name, smiles, out_dir=output_dir,\n",
    "                                             MW_thresh=2000, \n",
    "                                             vdwScale=0.8, \n",
    "                                             boxMargin=4.0,\n",
    "                                             spacing=0.6, show_vdw=False, plot_ellip=False,\n",
    "                                             N_conformers=100)\n",
    "\n",
    "min_min = min(res.diam1)\n",
    "min_mid = min(res.diam2)\n",
    "min_diam_avg = np.average(res['diam1'])\n",
    "min_diam_std = np.std(res['diam1'])\n",
    "mid_diam_avg = np.average(res['diam2'])\n",
    "mid_diam_std = np.std(res['diam2'])\n",
    "result = (min_min, min_mid, min_diam_avg, min_diam_std,\n",
    "          mid_diam_avg, mid_diam_std)\n",
    "print(result)    "
   ]
  },
  {
   "cell_type": "code",
   "execution_count": null,
   "metadata": {
    "ExecuteTime": {
     "end_time": "2018-11-10T02:10:22.604398Z",
     "start_time": "2018-11-10T02:10:22.578035Z"
    }
   },
   "outputs": [],
   "source": [
    "Chem.MolFromSmiles(smiles)"
   ]
  },
  {
   "cell_type": "markdown",
   "metadata": {},
   "source": [
    "## visualise the ellipsoid around a desired molecule"
   ]
  },
  {
   "cell_type": "code",
   "execution_count": null,
   "metadata": {
    "ExecuteTime": {
     "end_time": "2018-11-01T14:24:56.570159Z",
     "start_time": "2018-11-01T14:24:56.545503Z"
    }
   },
   "outputs": [],
   "source": [
    "molecules = {'ethanol': 'CCO',\n",
    "             'n-hexane': 'CCCCCC',\n",
    "             'cyclohexane': 'C1CCCCC1',\n",
    "             'para-xylene': 'Cc1ccc(C)cc1',\n",
    "             'n-decanoic acid': 'CCCCCCCCCC(=O)O'}\n",
    "diameters = {}\n",
    "for name in molecules.keys():\n",
    "    diameters[name] = 0\n",
    "output_dir = '/home/atarzia/psp/molecule_param/'"
   ]
  },
  {
   "cell_type": "code",
   "execution_count": null,
   "metadata": {
    "ExecuteTime": {
     "end_time": "2018-11-10T02:13:05.748778Z",
     "start_time": "2018-11-10T02:12:37.878218Z"
    }
   },
   "outputs": [],
   "source": [
    "smiles = '[Cl-].[Cl-].[Mg+2]'  # molecules['n-decanoic acid']\n",
    "m = Chem.MolFromSmiles(smiles)\n",
    "m = Chem.AddHs(m)\n",
    "Chem.EmbedMultipleConfs(m, numConfs=4,\n",
    "                        useExpTorsionAnglePrefs=True,\n",
    "                        useBasicKnowledge=True)\n",
    "p = py3Dmol.view(width=400,height=400)\n",
    "for confId in range(4):\n",
    "    drawit2(m,p,confId)\n",
    "p.show()\n",
    "v= PyMol.MolViewer()\n",
    "v.DeleteAll()\n",
    "for cid in range(4): \n",
    "    v.ShowMol(m,confId=cid,name='Conf-%d'%cid,showOnly=False)\n",
    "v.server.do('set grid_mode, on')\n",
    "v.server.do('ray')"
   ]
  },
  {
   "cell_type": "code",
   "execution_count": null,
   "metadata": {
    "ExecuteTime": {
     "end_time": "2018-11-01T14:35:15.112712Z",
     "start_time": "2018-11-01T14:35:14.156943Z"
    }
   },
   "outputs": [],
   "source": [
    "molecules = {'n-decanoic_acid': 'CCCCCCCCCC(=O)O'}\n",
    "os.system('rm '+output_dir+list(molecules.keys())[0]+'_diam_result.csv')\n",
    "rdkit_functions.calc_molecule_diameters(molecules, out_dir=output_dir,\n",
    "                                        MW_thresh=2000, \n",
    "                                        rerun=True, vdwScale=0.8, \n",
    "                                        boxMargin=4.0,\n",
    "                                        spacing=0.6, show_vdw=False, plot_ellip=True,\n",
    "                                        N_conformers=1)"
   ]
  },
  {
   "cell_type": "markdown",
   "metadata": {},
   "source": [
    "# Debug and modification of RS database "
   ]
  },
  {
   "cell_type": "code",
   "execution_count": null,
   "metadata": {
    "ExecuteTime": {
     "end_time": "2018-10-10T08:15:33.906708Z",
     "start_time": "2018-10-10T08:15:33.731622Z"
    }
   },
   "outputs": [],
   "source": [
    "from rxn_syst import reaction, yield_rxn_syst, collect_RS_molecule_properties\n",
    "import glob\n",
    "directory = '/home/atarzia/psp/screening_results/biomin_search/'\n",
    "molecule_db_dir = '/home/atarzia/psp/molecule_DBs/atarzia/'\n",
    "molecules = glob.glob(molecule_db_dir+'ATRS_*.gpkl')\n",
    "count = 0\n",
    "rs_pkls_done = []"
   ]
  },
  {
   "cell_type": "code",
   "execution_count": null,
   "metadata": {
    "ExecuteTime": {
     "end_time": "2018-10-10T08:43:33.986659Z",
     "start_time": "2018-10-10T08:15:36.077552Z"
    },
    "scrolled": true
   },
   "outputs": [],
   "source": [
    "for rs in yield_rxn_syst(directory):\n",
    "    count += 1\n",
    "    if rs.pkl in rs_pkls_done:\n",
    "        continue\n",
    "    rs_pkls_done.append(rs.pkl)\n",
    "    if rs.skip_rxn is True:\n",
    "        continue\n",
    "    print('-----', count, '---', rs.pkl)\n",
    "    if rs.components is None:\n",
    "        continue\n",
    "    for m in rs.components:\n",
    "        print(m.name, m.role)\n",
    "        print(m.SMILES)\n",
    "        try:\n",
    "            print(m.pkl)\n",
    "        except AttributeError:\n",
    "            print('no pkl')\n",
    "    rs.mol_collected = False\n",
    "    collect_RS_molecule_properties(rs=rs, output_dir=directory,\n",
    "                                   mol_db_dir=molecule_db_dir,\n",
    "                                   molecules=molecules, count=0,\n",
    "                                   react_syst_files=[])\n",
    "    for m in rs.components:\n",
    "        print(m.pkl)"
   ]
  },
  {
   "cell_type": "code",
   "execution_count": null,
   "metadata": {},
   "outputs": [],
   "source": []
  },
  {
   "cell_type": "markdown",
   "metadata": {},
   "source": [
    "# Debug and modification of molecule database"
   ]
  },
  {
   "cell_type": "code",
   "execution_count": null,
   "metadata": {
    "ExecuteTime": {
     "end_time": "2018-11-08T02:46:03.214724Z",
     "start_time": "2018-11-08T02:46:03.210737Z"
    }
   },
   "outputs": [],
   "source": [
    "from ercollect.PUBCHEM_IO import get_logP_from_name, get_complexity_from_name, get_IUPAC_from_name\n",
    "from ercollect.molecule import yield_molecules, load_molecule\n",
    "directory = '/home/atarzia/psp/molecule_DBs/atarzia/'"
   ]
  },
  {
   "cell_type": "code",
   "execution_count": null,
   "metadata": {
    "ExecuteTime": {
     "end_time": "2018-11-08T03:33:35.781184Z",
     "start_time": "2018-11-08T03:33:34.771573Z"
    }
   },
   "outputs": [],
   "source": [
    "for j, i in enumerate(yield_molecules(directory=directory)):\n",
    "    if i.name == \"cocaine\":\n",
    "        print(i.name)\n",
    "        break"
   ]
  },
  {
   "cell_type": "code",
   "execution_count": null,
   "metadata": {},
   "outputs": [],
   "source": [
    "i.rs_pkls"
   ]
  },
  {
   "cell_type": "code",
   "execution_count": null,
   "metadata": {
    "ExecuteTime": {
     "end_time": "2018-11-08T03:37:28.696465Z",
     "start_time": "2018-11-08T03:37:28.680359Z"
    }
   },
   "outputs": [],
   "source": [
    "i.mol"
   ]
  },
  {
   "cell_type": "code",
   "execution_count": null,
   "metadata": {
    "ExecuteTime": {
     "end_time": "2018-11-08T03:32:44.830813Z",
     "start_time": "2018-11-08T03:32:44.817755Z"
    }
   },
   "outputs": [],
   "source": [
    "i.mol"
   ]
  },
  {
   "cell_type": "code",
   "execution_count": null,
   "metadata": {
    "ExecuteTime": {
     "end_time": "2018-10-16T02:51:00.347820Z",
     "start_time": "2018-10-16T02:50:55.498468Z"
    }
   },
   "outputs": [],
   "source": [
    "caught = []\n",
    "for j, i in enumerate(yield_molecules(directory=directory)):\n",
    "    print('doing -----', j)\n",
    "    if '\\n' in str(i.SMILES):\n",
    "        print(i.name)\n",
    "        print('SMILES', i.SMILES)\n",
    "        caught.append(i)"
   ]
  },
  {
   "cell_type": "code",
   "execution_count": null,
   "metadata": {
    "ExecuteTime": {
     "end_time": "2018-10-16T02:51:00.354827Z",
     "start_time": "2018-10-16T02:51:00.349572Z"
    }
   },
   "outputs": [],
   "source": [
    "print(len(caught))\n",
    "for ca in caught:\n",
    "    print(ca.name, ca.pkl)\n",
    "    print(ca.SMILES)\n",
    "    splits = ca.SMILES.split('\\n')\n",
    "    print(splits)\n",
    "    break"
   ]
  },
  {
   "cell_type": "code",
   "execution_count": null,
   "metadata": {
    "ExecuteTime": {
     "end_time": "2018-10-16T02:52:19.169903Z",
     "start_time": "2018-10-16T02:52:19.158894Z"
    }
   },
   "outputs": [],
   "source": [
    "from collections import Counter\n",
    "print(Counter([i.DB for i in caught]))"
   ]
  },
  {
   "cell_type": "code",
   "execution_count": null,
   "metadata": {},
   "outputs": [],
   "source": []
  },
  {
   "cell_type": "markdown",
   "metadata": {},
   "source": [
    "## molecule list debug"
   ]
  },
  {
   "cell_type": "code",
   "execution_count": null,
   "metadata": {
    "ExecuteTime": {
     "end_time": "2018-10-16T02:56:30.758775Z",
     "start_time": "2018-10-16T02:56:30.747055Z"
    }
   },
   "outputs": [],
   "source": [
    "# list of molecules of interest\n",
    "molecules = ['4-hydroxy-3-octaprenylbenzoate', '2-dehydro-3-deoxy-L-fuconate', 'dTDP-4-dehydro-6-deoxy-alpha-D-glucopyranose', '2-oxopentanoate', \n",
    "             'L-methionine-7-amido-4-methylcoumarin', 'CpU', 'phenylpyruvate', 'nicotinate mononucleotide', 'asparagine', \"thymidine 5'-monophosphate\", \n",
    "             'beta-citryl-L-glutamate', 'L-lysine ethyl ester']"
   ]
  },
  {
   "cell_type": "code",
   "execution_count": null,
   "metadata": {
    "ExecuteTime": {
     "end_time": "2018-10-16T03:02:48.813541Z",
     "start_time": "2018-10-16T03:02:25.118094Z"
    }
   },
   "outputs": [],
   "source": [
    "# find rxn system files and molecule files for each molecule\n",
    "mol_dir = '/home/atarzia/psp/molecule_DBs/atarzia/'\n",
    "mol_dict = {}\n",
    "\n",
    "for mol in molecules:\n",
    "    print(mol)\n",
    "    for m in yield_molecules(directory=mol_dir):\n",
    "        if mol == m.name or mol == m.iupac_name:\n",
    "            print('found')\n",
    "            mol_dict[mol] = (m.pkl, m.rs_pkls)"
   ]
  },
  {
   "cell_type": "code",
   "execution_count": null,
   "metadata": {
    "ExecuteTime": {
     "end_time": "2018-10-16T03:12:20.557441Z",
     "start_time": "2018-10-16T03:12:20.386852Z"
    }
   },
   "outputs": [],
   "source": [
    "from BRENDA_IO import *\n",
    "mol = '2-dehydro-3-deoxy-L-fuconate'\n",
    "mol_val = mol_dict[mol]\n",
    "chebiID = get_chebiID_for_BRENDA(mol, 1)\n",
    "print(mol, '-- chebiID =', chebiID)"
   ]
  },
  {
   "cell_type": "code",
   "execution_count": null,
   "metadata": {
    "ExecuteTime": {
     "end_time": "2018-10-16T03:18:25.347003Z",
     "start_time": "2018-10-16T03:18:21.305722Z"
    }
   },
   "outputs": [],
   "source": [
    "from molecule import *\n",
    "from CHEBI_IO import *\n",
    "molec = molecule(mol, 'reactant', 'BRENDA', chebiID)\n",
    "molec.chebiID = molec.DB_ID\n",
    "get_cmpd_information(molec)\n",
    "\n",
    "print('this result is not right, the chebiID that was input links to a molecule!')"
   ]
  },
  {
   "cell_type": "code",
   "execution_count": null,
   "metadata": {
    "ExecuteTime": {
     "end_time": "2018-10-16T03:18:49.660781Z",
     "start_time": "2018-10-16T03:18:49.653213Z"
    }
   },
   "outputs": [],
   "source": [
    "import DB_functions"
   ]
  },
  {
   "cell_type": "code",
   "execution_count": null,
   "metadata": {
    "ExecuteTime": {
     "end_time": "2018-10-16T03:20:55.749151Z",
     "start_time": "2018-10-16T03:20:55.606633Z"
    }
   },
   "outputs": [],
   "source": [
    "DB_prop = DB_functions.get_DB_prop('CHEBI')\n",
    "compounds_file = DB_prop[0]+DB_prop[1]['cmpds_file']\n",
    "names_file = DB_prop[0]+DB_prop[1]['names_file']\n",
    "structures_file = DB_prop[0]+DB_prop[1]['strct_file']\n",
    "\n",
    "# set name by searching compound file\n",
    "res = search_for_compound_by_id(compounds_file, molec.chebiID)\n",
    "print(res)\n",
    "ID, parent_id, name, star = res\n",
    "if parent_id != 'null':\n",
    "    print('oi')"
   ]
  },
  {
   "cell_type": "code",
   "execution_count": null,
   "metadata": {
    "ExecuteTime": {
     "end_time": "2018-10-16T03:26:25.911516Z",
     "start_time": "2018-10-16T03:26:21.965351Z"
    }
   },
   "outputs": [],
   "source": [
    "# get structure using CHEBI ID\n",
    "# structures.csv - read in, get COMPOUND ID match then extract the\n",
    "# get SMILES\n",
    "structure, s_type = get_structure(structures_file, molec.chebiID)\n",
    "print(structure, s_type)\n",
    "print('this result is not right, the chebiID that was input links to a molecule!')"
   ]
  },
  {
   "cell_type": "code",
   "execution_count": null,
   "metadata": {
    "ExecuteTime": {
     "end_time": "2018-10-16T03:37:47.456035Z",
     "start_time": "2018-10-16T03:37:47.441650Z"
    }
   },
   "outputs": [],
   "source": [
    "from chembl_webresource_client.new_client import new_client\n",
    "molecule = new_client.molecule\n",
    "res = molecule.search(mol)  # 'viagra')\n",
    "# guaiacol"
   ]
  },
  {
   "cell_type": "code",
   "execution_count": null,
   "metadata": {
    "ExecuteTime": {
     "end_time": "2018-10-16T03:39:37.490367Z",
     "start_time": "2018-10-16T03:37:52.154990Z"
    }
   },
   "outputs": [],
   "source": [
    "print('there are', len(res), 'top search candidates:')\n",
    "for i in range(len(res)):\n",
    "    print('option:', i, 'name:', res[i]['pref_name'])\n",
    "    print([res[i]['molecule_synonyms'][j]['synonyms'] for j in range(len(res[i]['molecule_synonyms']))])"
   ]
  },
  {
   "cell_type": "code",
   "execution_count": null,
   "metadata": {},
   "outputs": [],
   "source": [
    "if structure is not None:\n",
    "    # is structure a MolBlock or Smiles\n",
    "    if s_type == 'mol':\n",
    "        # convert structure to SMILEs\n",
    "        rdkitmol = Chem.MolFromMolBlock(structure)\n",
    "        if rdkitmol is None:\n",
    "            print('structure could not be deciphered')\n",
    "            smile = None\n",
    "            molec.SMILES = smile\n",
    "            molec.mol = None\n",
    "            print('probably a polymeric structure - skipping.')\n",
    "        else:\n",
    "            rdkitmol.Compute2DCoords()\n",
    "            smile = Chem.MolToSmiles(rdkitmol)\n",
    "            molec.SMILES = smile\n",
    "            # remove molecules with generalised atoms\n",
    "            if '*' in smile:\n",
    "                molec.mol = None\n",
    "            else:\n",
    "                molec.mol = rdkitmol\n",
    "    elif s_type == 'SMILES':\n",
    "        smile = structure\n",
    "        rdkitmol = Chem.MolFromSmiles(smile)\n",
    "        if rdkitmol is None:\n",
    "            print('structure could not be deciphered')\n",
    "            molec.SMILES = smile\n",
    "            molec.mol = None\n",
    "        else:\n",
    "            rdkitmol.Compute2DCoords()\n",
    "            molec.SMILES = smile\n",
    "            # remove molecules with generalised atoms\n",
    "            if '*' in smile:\n",
    "                molec.mol = None\n",
    "            else:\n",
    "                molec.mol = rdkitmol\n",
    "    elif s_type == 'InChI':\n",
    "        rdkitmol = Chem.MolFromInchi(structure)\n",
    "        rdkitmol.Compute2DCoords()\n",
    "        smile = Chem.MolToSmiles(rdkitmol)\n",
    "        molec.SMILES = smile\n",
    "        # remove molecules with generalised atoms\n",
    "        if '*' in smile:\n",
    "            molec.mol = None\n",
    "        else:\n",
    "            molec.mol = rdkitmol\n",
    "    elif s_type == 'InChIKey':\n",
    "        rdkitmol = Chem.MolFromInchi(structure)\n",
    "        rdkitmol.Compute2DCoords()\n",
    "        smile = None\n",
    "        molec.SMILES = smile\n",
    "        molec.mol = None\n",
    "        print('molecule given as InChIKey - ambiguous')\n",
    "        print('probably a generic structure - skipping.')\n",
    "else:\n",
    "    smile = None\n",
    "    molec.SMILES = smile\n",
    "    molec.mol = None\n",
    "    print('molecule does not have recorded structure in CHEBI DB')\n",
    "    print('probably a generic structure - skipping.')\n"
   ]
  },
  {
   "cell_type": "code",
   "execution_count": null,
   "metadata": {
    "ExecuteTime": {
     "end_time": "2018-10-16T04:06:17.641608Z",
     "start_time": "2018-10-16T04:06:17.634854Z"
    }
   },
   "outputs": [],
   "source": [
    "# test libChEBIpy (https://github.com/libChEBI/libChEBIpy)\n",
    "from libchebipy import ChebiEntity\n",
    "print(molec.chebiID)\n",
    "entity = ChebiEntity(molec.chebiID) "
   ]
  },
  {
   "cell_type": "code",
   "execution_count": null,
   "metadata": {
    "ExecuteTime": {
     "end_time": "2018-10-16T04:15:47.510322Z",
     "start_time": "2018-10-16T04:15:47.500326Z"
    }
   },
   "outputs": [],
   "source": [
    "entity = ChebiEntity('1000') "
   ]
  },
  {
   "cell_type": "code",
   "execution_count": null,
   "metadata": {
    "ExecuteTime": {
     "end_time": "2018-10-16T04:15:47.819728Z",
     "start_time": "2018-10-16T04:15:47.811662Z"
    }
   },
   "outputs": [],
   "source": [
    "entity.get_smiles()"
   ]
  },
  {
   "cell_type": "code",
   "execution_count": null,
   "metadata": {
    "ExecuteTime": {
     "end_time": "2018-10-16T04:15:00.154192Z",
     "start_time": "2018-10-16T04:15:00.137302Z"
    }
   },
   "outputs": [],
   "source": [
    "if entity['_ChebiEntity__all_ids'] is None:\n",
    "    print('hey')"
   ]
  },
  {
   "cell_type": "code",
   "execution_count": null,
   "metadata": {
    "ExecuteTime": {
     "end_time": "2018-10-16T04:06:18.314207Z",
     "start_time": "2018-10-16T04:06:18.295831Z"
    }
   },
   "outputs": [],
   "source": [
    "entity.get_formula()"
   ]
  },
  {
   "cell_type": "code",
   "execution_count": null,
   "metadata": {
    "ExecuteTime": {
     "end_time": "2018-10-16T04:06:18.856494Z",
     "start_time": "2018-10-16T04:06:18.843149Z"
    }
   },
   "outputs": [],
   "source": [
    "entity.get_smiles()"
   ]
  },
  {
   "cell_type": "code",
   "execution_count": null,
   "metadata": {
    "ExecuteTime": {
     "end_time": "2018-10-16T04:06:05.927652Z",
     "start_time": "2018-10-16T04:06:05.916711Z"
    }
   },
   "outputs": [],
   "source": [
    "import libchebipy._parsers as parsers\n",
    "#print(parsers.get_names(37448))\n",
    "print(parsers.get_smiles('37448'))"
   ]
  },
  {
   "cell_type": "code",
   "execution_count": null,
   "metadata": {},
   "outputs": [],
   "source": []
  },
  {
   "cell_type": "code",
   "execution_count": null,
   "metadata": {},
   "outputs": [],
   "source": []
  },
  {
   "cell_type": "markdown",
   "metadata": {},
   "source": [
    "##  Random Code"
   ]
  },
  {
   "cell_type": "code",
   "execution_count": null,
   "metadata": {},
   "outputs": [],
   "source": [
    "If you want all possible names for a molecule (from the SMILES string) using Python:\n",
    "\n",
    ">>> from cinfony import webel, pybel\n",
    ">>> mol = pybel.readstring(\"smi\", \"C(=O)C=C\")\n",
    ">>> name = webel.Molecule(mol).write(\"names\")\n",
    ">>> print(name)\n",
    "\n",
    "['prop-2-enal', 'Acrolein', .."
   ]
  }
 ],
 "metadata": {
  "kernelspec": {
   "display_name": "Python 3",
   "language": "python",
   "name": "python3"
  },
  "language_info": {
   "codemirror_mode": {
    "name": "ipython",
    "version": 3
   },
   "file_extension": ".py",
   "mimetype": "text/x-python",
   "name": "python",
   "nbconvert_exporter": "python",
   "pygments_lexer": "ipython3",
   "version": "3.6.5"
  }
 },
 "nbformat": 4,
 "nbformat_minor": 2
}
