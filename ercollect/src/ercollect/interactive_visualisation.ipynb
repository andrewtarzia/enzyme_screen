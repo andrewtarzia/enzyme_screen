{
 "cells": [
  {
   "cell_type": "code",
   "execution_count": 115,
   "metadata": {
    "ExecuteTime": {
     "end_time": "2018-11-08T00:04:02.672134Z",
     "start_time": "2018-11-08T00:04:02.625600Z"
    }
   },
   "outputs": [
    {
     "data": {
      "text/html": [
       "<style>.container { width:95% !important; }</style>"
      ],
      "text/plain": [
       "<IPython.core.display.HTML object>"
      ]
     },
     "metadata": {},
     "output_type": "display_data"
    },
    {
     "name": "stdout",
     "output_type": "stream",
     "text": [
      "The autoreload extension is already loaded. To reload it, use:\n",
      "  %reload_ext autoreload\n"
     ]
    }
   ],
   "source": [
    "from IPython.core.display import HTML\n",
    "display(HTML(\"<style>.container { width:95% !important; }</style>\"))\n",
    "%load_ext autoreload\n",
    "%autoreload 1"
   ]
  },
  {
   "cell_type": "markdown",
   "metadata": {},
   "source": [
    "Author: Andrew Tarzia\n",
    "\n",
    "Date Created: 12 Jul 2018\n",
    "\n",
    "Distributed under the terms of the MIT License."
   ]
  },
  {
   "cell_type": "markdown",
   "metadata": {},
   "source": [
    "# Notebook for specific visualization of molecules using RDKIT and other functions"
   ]
  },
  {
   "cell_type": "code",
   "execution_count": 2,
   "metadata": {
    "ExecuteTime": {
     "end_time": "2018-11-08T00:04:05.809336Z",
     "start_time": "2018-11-08T00:04:04.989457Z"
    }
   },
   "outputs": [],
   "source": [
    "import numpy as np\n",
    "import pandas as pd\n",
    "import os\n",
    "from rdkit.Chem import AllChem as Chem\n",
    "from rdkit.Chem import Descriptors\n",
    "from rdkit.Chem.Descriptors3D import NPR1, NPR2, PMI1, PMI2, PMI3\n",
    "from rdkit.Chem.Draw.MolDrawing import MolDrawing\n",
    "from rdkit.Chem.Draw import IPythonConsole\n",
    "from rdkit.Chem import Draw\n",
    "from rdkit.Geometry import rdGeometry\n",
    "from rdkit.Chem import PyMol\n",
    "import py3Dmol\n",
    "from ipywidgets import interact, interactive, fixed\n",
    "from rdkit import Geometry\n",
    "import tempfile\n",
    "import matplotlib.pyplot as plt\n",
    "%aimport ercollect.rdkit_functions\n",
    "%aimport ercollect.ellipsoid"
   ]
  },
  {
   "cell_type": "code",
   "execution_count": 7,
   "metadata": {
    "ExecuteTime": {
     "end_time": "2018-11-08T00:04:07.886179Z",
     "start_time": "2018-11-08T00:04:07.870806Z"
    }
   },
   "outputs": [],
   "source": [
    "def drawit(m, p, confId=-1):\n",
    "    mb = Chem.MolToMolBlock(m, confId=confId)\n",
    "    p.removeAllModels()\n",
    "    p.addModel(mb,'sdf')\n",
    "    p.setStyle({'stick':{}})\n",
    "    p.setBackgroundColor('0xeeeeee')\n",
    "    p.zoomTo()\n",
    "    return p.show()\n",
    "\n",
    "\n",
    "def drawit2(m, p, confId=-1):\n",
    "    mb = Chem.MolToMolBlock(m, confId=confId)\n",
    "    p.addModel(mb, 'sdf')\n",
    "    p.setStyle({'stick':{}})\n",
    "    p.setBackgroundColor('0xeeeeee')\n",
    "    p.zoomTo()"
   ]
  },
  {
   "cell_type": "markdown",
   "metadata": {},
   "source": [
    "## visualize molecules for Figure"
   ]
  },
  {
   "cell_type": "code",
   "execution_count": 116,
   "metadata": {
    "ExecuteTime": {
     "end_time": "2018-10-31T11:46:25.891378Z",
     "start_time": "2018-10-31T11:46:25.882281Z"
    }
   },
   "outputs": [],
   "source": [
    "molecules = {'urea': 'C(=O)(N)N',\n",
    "             'cyclohexane': 'C1CCCCC1'}"
   ]
  },
  {
   "cell_type": "code",
   "execution_count": 117,
   "metadata": {
    "ExecuteTime": {
     "end_time": "2018-10-31T11:56:20.563342Z",
     "start_time": "2018-10-31T11:46:32.105553Z"
    }
   },
   "outputs": [
    {
     "name": "stdout",
     "output_type": "stream",
     "text": [
      "run 'pymol -R' to visualise structures\n",
      "visualisation will be skipped\n"
     ]
    },
    {
     "ename": "UnboundLocalError",
     "evalue": "local variable 'v' referenced before assignment",
     "output_type": "error",
     "traceback": [
      "\u001b[0;31m---------------------------------------------------------------------------\u001b[0m",
      "\u001b[0;31mUnboundLocalError\u001b[0m                         Traceback (most recent call last)",
      "\u001b[0;32m<ipython-input-117-ab05a13d59f6>\u001b[0m in \u001b[0;36m<module>\u001b[0;34m()\u001b[0m\n\u001b[1;32m      7\u001b[0m                                            \u001b[0mMW_thresh\u001b[0m\u001b[0;34m=\u001b[0m\u001b[0;36m130\u001b[0m\u001b[0;34m,\u001b[0m \u001b[0mshow_vdw\u001b[0m\u001b[0;34m=\u001b[0m\u001b[0;32mTrue\u001b[0m\u001b[0;34m,\u001b[0m\u001b[0;34m\u001b[0m\u001b[0m\n\u001b[1;32m      8\u001b[0m                                            \u001b[0mplot_ellip\u001b[0m\u001b[0;34m=\u001b[0m\u001b[0;32mFalse\u001b[0m\u001b[0;34m,\u001b[0m\u001b[0;34m\u001b[0m\u001b[0m\n\u001b[0;32m----> 9\u001b[0;31m                                            N_conformers=1)\n\u001b[0m\u001b[1;32m     10\u001b[0m     \u001b[0minput\u001b[0m\u001b[0;34m(\u001b[0m\u001b[0;34m'done?'\u001b[0m\u001b[0;34m)\u001b[0m\u001b[0;34m\u001b[0m\u001b[0m\n",
      "\u001b[0;32m~/psp/psp_source/ercollect/src/ercollect/rdkit_functions.py\u001b[0m in \u001b[0;36mcalc_molecule_diameter\u001b[0;34m(name, smile, vdwScale, boxMargin, spacing, MW_thresh, N_conformers, out_dir, show_vdw, plot_ellip, rSeed)\u001b[0m\n\u001b[1;32m    609\u001b[0m                                                 \u001b[0mspacing\u001b[0m\u001b[0;34m=\u001b[0m\u001b[0mspacing\u001b[0m\u001b[0;34m,\u001b[0m\u001b[0;34m\u001b[0m\u001b[0m\n\u001b[1;32m    610\u001b[0m                                                 \u001b[0mshow\u001b[0m\u001b[0;34m=\u001b[0m\u001b[0mshow_vdw\u001b[0m\u001b[0;34m,\u001b[0m\u001b[0;34m\u001b[0m\u001b[0m\n\u001b[0;32m--> 611\u001b[0;31m                                                 plot=plot_ellip)\n\u001b[0m\u001b[1;32m    612\u001b[0m \u001b[0;34m\u001b[0m\u001b[0m\n\u001b[1;32m    613\u001b[0m     res = write_molecule_results(out_file, cids,\n",
      "\u001b[0;32m~/psp/psp_source/ercollect/src/ercollect/rdkit_functions.py\u001b[0m in \u001b[0;36mget_ellip_diameters\u001b[0;34m(mol, cids, vdwScale, boxMargin, spacing, show, plot)\u001b[0m\n\u001b[1;32m    449\u001b[0m                 \u001b[0mprint\u001b[0m\u001b[0;34m(\u001b[0m\u001b[0;34m\"run 'pymol -R' to visualise structures\"\u001b[0m\u001b[0;34m)\u001b[0m\u001b[0;34m\u001b[0m\u001b[0m\n\u001b[1;32m    450\u001b[0m                 \u001b[0mprint\u001b[0m\u001b[0;34m(\u001b[0m\u001b[0;34m'visualisation will be skipped'\u001b[0m\u001b[0;34m)\u001b[0m\u001b[0;34m\u001b[0m\u001b[0m\n\u001b[0;32m--> 451\u001b[0;31m             \u001b[0mshow_shape\u001b[0m\u001b[0;34m(\u001b[0m\u001b[0mv\u001b[0m\u001b[0;34m,\u001b[0m \u001b[0mmol\u001b[0m\u001b[0;34m,\u001b[0m \u001b[0mconfId\u001b[0m\u001b[0;34m,\u001b[0m \u001b[0mshape\u001b[0m\u001b[0;34m)\u001b[0m\u001b[0;34m\u001b[0m\u001b[0m\n\u001b[0m\u001b[1;32m    452\u001b[0m             \u001b[0mv\u001b[0m\u001b[0;34m.\u001b[0m\u001b[0mserver\u001b[0m\u001b[0;34m.\u001b[0m\u001b[0mdo\u001b[0m\u001b[0;34m(\u001b[0m\u001b[0;34m'set transparency=0.5'\u001b[0m\u001b[0;34m)\u001b[0m\u001b[0;34m\u001b[0m\u001b[0m\n\u001b[1;32m    453\u001b[0m \u001b[0;34m\u001b[0m\u001b[0m\n",
      "\u001b[0;31mUnboundLocalError\u001b[0m: local variable 'v' referenced before assignment"
     ]
    }
   ],
   "source": [
    "for name, smile in molecules.items():\n",
    "    m = Chem.MolFromSmiles(smile)\n",
    "    Draw.MolToFile(m, '/home/atarzia/psp/documents/psp_paper/figures/'+name+'.png')\n",
    "    ercollect.rdkit_functions.calc_molecule_diameter(name, smile, out_dir='./',\n",
    "                                           vdwScale=0.8, \n",
    "                                           boxMargin=6.0, spacing=0.3,\n",
    "                                           MW_thresh=130, show_vdw=True, \n",
    "                                           plot_ellip=False,\n",
    "                                           N_conformers=1)\n",
    "    input('done?')"
   ]
  },
  {
   "cell_type": "markdown",
   "metadata": {},
   "source": [
    "##  visualize all conformers of a molecule"
   ]
  },
  {
   "cell_type": "code",
   "execution_count": 14,
   "metadata": {
    "ExecuteTime": {
     "end_time": "2018-10-31T10:19:28.003072Z",
     "start_time": "2018-10-31T10:19:27.990543Z"
    }
   },
   "outputs": [],
   "source": [
    "molecules = {'urea': '[H][C@@]12CC[C@]3(O)C[C@]1(CC3=C)[C@@H](C(O)=O)[C@]1([H])[C@@]3(C)CCC[C@@]21COC3=O',\n",
    "             }"
   ]
  },
  {
   "cell_type": "code",
   "execution_count": 15,
   "metadata": {
    "ExecuteTime": {
     "end_time": "2018-10-31T10:19:30.102425Z",
     "start_time": "2018-10-31T10:19:30.043196Z"
    }
   },
   "outputs": [
    {
     "data": {
      "application/3dmoljs_load.v0": "<div id=\"3dmolviewer_1544999680531669\"  style=\"position: relative; width: 400px; height: 400px\">\n        <p id=\"3dmolwarning_1544999680531669\" style=\"background-color:#ffcccc;color:black\">You appear to be running in JupyterLab.  You need to install the 3dmol extension: <br>\n        <tt>jupyter labextension install jupyterlab_3dmol</tt></p>\n        </div>\n<script>\n\nvar loadScriptAsync = function(uri){\n  return new Promise((resolve, reject) => {\n    var tag = document.createElement('script');\n    tag.src = uri;\n    tag.async = true;\n    tag.onload = () => {\n      resolve();\n    };\n  var firstScriptTag = document.getElementsByTagName('script')[0];\n  firstScriptTag.parentNode.insertBefore(tag, firstScriptTag);\n});\n};\n\nif(typeof $3Dmolpromise === 'undefined') {\n$3Dmolpromise = null;\n  $3Dmolpromise = loadScriptAsync('https://3dmol.csb.pitt.edu/build/3Dmol.js');\n}\n\nvar viewer_1544999680531669 = null;\nvar warn = document.getElementById(\"3dmolwarning_1544999680531669\");\nif(warn) {\n    warn.parentNode.removeChild(warn);\n}\n$3Dmolpromise.then(function() {\nviewer_1544999680531669 = $3Dmol.createViewer($(\"#3dmolviewer_1544999680531669\"),{backgroundColor:\"white\"});\n\tviewer_1544999680531669.removeAllModels();\n\tviewer_1544999680531669.addModel(\"\\n     RDKit          3D\\n\\n 51 55  0  0  0  0  0  0  0  0999 V2000\\n    0.5145   -0.9388   -0.5044 C   0  0  2  0  0  0  0  0  0  0  0  0\\n    1.5982   -1.8912   -0.1706 C   0  0  0  0  0  0  0  0  0  0  0  0\\n    2.8659   -1.4365   -0.8636 C   0  0  0  0  0  0  0  0  0  0  0  0\\n    3.2463   -0.0031   -0.4785 C   0  0  2  0  0  0  0  0  0  0  0  0\\n    4.5323    0.1004   -0.0174 O   0  0  0  0  0  0  0  0  0  0  0  0\\n    2.2317    0.5309    0.5546 C   0  0  0  0  0  0  0  0  0  0  0  0\\n    0.9841    0.4632   -0.2582 C   0  0  1  0  0  0  0  0  0  0  0  0\\n    1.4434    1.0669   -1.5702 C   0  0  0  0  0  0  0  0  0  0  0  0\\n    2.9164    0.9091   -1.5965 C   0  0  0  0  0  0  0  0  0  0  0  0\\n    3.7573    1.4543   -2.4260 C   0  0  0  0  0  0  0  0  0  0  0  0\\n   -0.2084    1.1721    0.3276 C   0  0  1  0  0  0  0  0  0  0  0  0\\n   -0.3125    2.5635   -0.1186 C   0  0  0  0  0  0  0  0  0  0  0  0\\n    0.7344    3.4172    0.2875 O   0  0  0  0  0  0  0  0  0  0  0  0\\n   -1.1925    3.0964   -0.8053 O   0  0  0  0  0  0  0  0  0  0  0  0\\n   -1.3647    0.2896    0.0759 C   0  0  2  0  0  0  0  0  0  0  0  0\\n   -2.5538    0.3921    0.9268 C   0  0  1  0  0  0  0  0  0  0  0  0\\n   -3.3200    1.6717    0.9123 C   0  0  0  0  0  0  0  0  0  0  0  0\\n   -3.5636   -0.6674    0.4791 C   0  0  0  0  0  0  0  0  0  0  0  0\\n   -2.9951   -2.0305    0.3413 C   0  0  0  0  0  0  0  0  0  0  0  0\\n   -1.7112   -2.0619   -0.4439 C   0  0  0  0  0  0  0  0  0  0  0  0\\n   -0.7511   -1.0983    0.2707 C   0  0  1  0  0  0  0  0  0  0  0  0\\n   -0.5950   -1.5468    1.6554 C   0  0  0  0  0  0  0  0  0  0  0  0\\n   -1.5211   -1.0372    2.5939 O   0  0  0  0  0  0  0  0  0  0  0  0\\n   -2.1883    0.1558    2.3680 C   0  0  0  0  0  0  0  0  0  0  0  0\\n   -2.4512    0.9460    3.2898 O   0  0  0  0  0  0  0  0  0  0  0  0\\n    0.2650   -1.0466   -1.5747 H   0  0  0  0  0  0  0  0  0  0  0  0\\n    1.8475   -2.0246    0.8760 H   0  0  0  0  0  0  0  0  0  0  0  0\\n    1.4028   -2.9190   -0.5786 H   0  0  0  0  0  0  0  0  0  0  0  0\\n    2.6646   -1.4670   -1.9578 H   0  0  0  0  0  0  0  0  0  0  0  0\\n    3.6721   -2.1438   -0.6122 H   0  0  0  0  0  0  0  0  0  0  0  0\\n    5.1403   -0.0403   -0.7822 H   0  0  0  0  0  0  0  0  0  0  0  0\\n    2.2544   -0.0251    1.4791 H   0  0  0  0  0  0  0  0  0  0  0  0\\n    2.5003    1.6078    0.6705 H   0  0  0  0  0  0  0  0  0  0  0  0\\n    1.0894    2.0746   -1.7479 H   0  0  0  0  0  0  0  0  0  0  0  0\\n    1.0514    0.4364   -2.4205 H   0  0  0  0  0  0  0  0  0  0  0  0\\n    3.4853    2.1241   -3.2424 H   0  0  0  0  0  0  0  0  0  0  0  0\\n    4.8155    1.2498   -2.3280 H   0  0  0  0  0  0  0  0  0  0  0  0\\n   -0.0347    1.1957    1.4444 H   0  0  0  0  0  0  0  0  0  0  0  0\\n    0.6532    4.4043    0.3323 H   0  0  0  0  0  0  0  0  0  0  0  0\\n   -1.6556    0.3330   -1.0056 H   0  0  0  0  0  0  0  0  0  0  0  0\\n   -3.7347    1.9559   -0.0732 H   0  0  0  0  0  0  0  0  0  0  0  0\\n   -2.8496    2.5021    1.4752 H   0  0  0  0  0  0  0  0  0  0  0  0\\n   -4.2549    1.4595    1.5231 H   0  0  0  0  0  0  0  0  0  0  0  0\\n   -4.4072   -0.7024    1.1963 H   0  0  0  0  0  0  0  0  0  0  0  0\\n   -3.9159   -0.3358   -0.5267 H   0  0  0  0  0  0  0  0  0  0  0  0\\n   -3.7528   -2.6225   -0.2542 H   0  0  0  0  0  0  0  0  0  0  0  0\\n   -2.8895   -2.6011    1.2827 H   0  0  0  0  0  0  0  0  0  0  0  0\\n   -1.2625   -3.0830   -0.3297 H   0  0  0  0  0  0  0  0  0  0  0  0\\n   -1.8445   -1.7956   -1.4914 H   0  0  0  0  0  0  0  0  0  0  0  0\\n    0.3982   -1.3848    2.1312 H   0  0  0  0  0  0  0  0  0  0  0  0\\n   -0.7338   -2.6692    1.6843 H   0  0  0  0  0  0  0  0  0  0  0  0\\n  1  2  1  0\\n  2  3  1  0\\n  3  4  1  0\\n  4  5  1  1\\n  4  6  1  0\\n  6  7  1  0\\n  7  8  1  6\\n  8  9  1  0\\n  9 10  2  3\\n  7 11  1  0\\n 11 12  1  0\\n 12 13  1  0\\n 12 14  2  0\\n 11 15  1  0\\n 15 16  1  0\\n 16 17  1  1\\n 16 18  1  0\\n 18 19  1  0\\n 19 20  1  0\\n 21 20  1  6\\n 21 22  1  0\\n 22 23  1  0\\n 23 24  1  0\\n 24 25  2  0\\n  7  1  1  0\\n 21 15  1  0\\n 21  1  1  0\\n  9  4  1  0\\n 24 16  1  0\\n  1 26  1  6\\n  2 27  1  0\\n  2 28  1  0\\n  3 29  1  0\\n  3 30  1  0\\n  5 31  1  0\\n  6 32  1  0\\n  6 33  1  0\\n  8 34  1  0\\n  8 35  1  0\\n 10 36  1  0\\n 10 37  1  0\\n 11 38  1  1\\n 13 39  1  0\\n 15 40  1  6\\n 17 41  1  0\\n 17 42  1  0\\n 17 43  1  0\\n 18 44  1  0\\n 18 45  1  0\\n 19 46  1  0\\n 19 47  1  0\\n 20 48  1  0\\n 20 49  1  0\\n 22 50  1  0\\n 22 51  1  0\\nM  END\\n\",\"sdf\");\n\tviewer_1544999680531669.setStyle({\"stick\": {}});\n\tviewer_1544999680531669.setBackgroundColor(\"0xeeeeee\");\n\tviewer_1544999680531669.zoomTo();\nviewer_1544999680531669.render();\n});\n</script>",
      "text/html": [
       "<div id=\"3dmolviewer_1544999680531669\"  style=\"position: relative; width: 400px; height: 400px\">\n",
       "        <p id=\"3dmolwarning_1544999680531669\" style=\"background-color:#ffcccc;color:black\">You appear to be running in JupyterLab.  You need to install the 3dmol extension: <br>\n",
       "        <tt>jupyter labextension install jupyterlab_3dmol</tt></p>\n",
       "        </div>\n",
       "<script>\n",
       "\n",
       "var loadScriptAsync = function(uri){\n",
       "  return new Promise((resolve, reject) => {\n",
       "    var tag = document.createElement('script');\n",
       "    tag.src = uri;\n",
       "    tag.async = true;\n",
       "    tag.onload = () => {\n",
       "      resolve();\n",
       "    };\n",
       "  var firstScriptTag = document.getElementsByTagName('script')[0];\n",
       "  firstScriptTag.parentNode.insertBefore(tag, firstScriptTag);\n",
       "});\n",
       "};\n",
       "\n",
       "if(typeof $3Dmolpromise === 'undefined') {\n",
       "$3Dmolpromise = null;\n",
       "  $3Dmolpromise = loadScriptAsync('https://3dmol.csb.pitt.edu/build/3Dmol.js');\n",
       "}\n",
       "\n",
       "var viewer_1544999680531669 = null;\n",
       "var warn = document.getElementById(\"3dmolwarning_1544999680531669\");\n",
       "if(warn) {\n",
       "    warn.parentNode.removeChild(warn);\n",
       "}\n",
       "$3Dmolpromise.then(function() {\n",
       "viewer_1544999680531669 = $3Dmol.createViewer($(\"#3dmolviewer_1544999680531669\"),{backgroundColor:\"white\"});\n",
       "\tviewer_1544999680531669.removeAllModels();\n",
       "\tviewer_1544999680531669.addModel(\"\\n     RDKit          3D\\n\\n 51 55  0  0  0  0  0  0  0  0999 V2000\\n    0.5145   -0.9388   -0.5044 C   0  0  2  0  0  0  0  0  0  0  0  0\\n    1.5982   -1.8912   -0.1706 C   0  0  0  0  0  0  0  0  0  0  0  0\\n    2.8659   -1.4365   -0.8636 C   0  0  0  0  0  0  0  0  0  0  0  0\\n    3.2463   -0.0031   -0.4785 C   0  0  2  0  0  0  0  0  0  0  0  0\\n    4.5323    0.1004   -0.0174 O   0  0  0  0  0  0  0  0  0  0  0  0\\n    2.2317    0.5309    0.5546 C   0  0  0  0  0  0  0  0  0  0  0  0\\n    0.9841    0.4632   -0.2582 C   0  0  1  0  0  0  0  0  0  0  0  0\\n    1.4434    1.0669   -1.5702 C   0  0  0  0  0  0  0  0  0  0  0  0\\n    2.9164    0.9091   -1.5965 C   0  0  0  0  0  0  0  0  0  0  0  0\\n    3.7573    1.4543   -2.4260 C   0  0  0  0  0  0  0  0  0  0  0  0\\n   -0.2084    1.1721    0.3276 C   0  0  1  0  0  0  0  0  0  0  0  0\\n   -0.3125    2.5635   -0.1186 C   0  0  0  0  0  0  0  0  0  0  0  0\\n    0.7344    3.4172    0.2875 O   0  0  0  0  0  0  0  0  0  0  0  0\\n   -1.1925    3.0964   -0.8053 O   0  0  0  0  0  0  0  0  0  0  0  0\\n   -1.3647    0.2896    0.0759 C   0  0  2  0  0  0  0  0  0  0  0  0\\n   -2.5538    0.3921    0.9268 C   0  0  1  0  0  0  0  0  0  0  0  0\\n   -3.3200    1.6717    0.9123 C   0  0  0  0  0  0  0  0  0  0  0  0\\n   -3.5636   -0.6674    0.4791 C   0  0  0  0  0  0  0  0  0  0  0  0\\n   -2.9951   -2.0305    0.3413 C   0  0  0  0  0  0  0  0  0  0  0  0\\n   -1.7112   -2.0619   -0.4439 C   0  0  0  0  0  0  0  0  0  0  0  0\\n   -0.7511   -1.0983    0.2707 C   0  0  1  0  0  0  0  0  0  0  0  0\\n   -0.5950   -1.5468    1.6554 C   0  0  0  0  0  0  0  0  0  0  0  0\\n   -1.5211   -1.0372    2.5939 O   0  0  0  0  0  0  0  0  0  0  0  0\\n   -2.1883    0.1558    2.3680 C   0  0  0  0  0  0  0  0  0  0  0  0\\n   -2.4512    0.9460    3.2898 O   0  0  0  0  0  0  0  0  0  0  0  0\\n    0.2650   -1.0466   -1.5747 H   0  0  0  0  0  0  0  0  0  0  0  0\\n    1.8475   -2.0246    0.8760 H   0  0  0  0  0  0  0  0  0  0  0  0\\n    1.4028   -2.9190   -0.5786 H   0  0  0  0  0  0  0  0  0  0  0  0\\n    2.6646   -1.4670   -1.9578 H   0  0  0  0  0  0  0  0  0  0  0  0\\n    3.6721   -2.1438   -0.6122 H   0  0  0  0  0  0  0  0  0  0  0  0\\n    5.1403   -0.0403   -0.7822 H   0  0  0  0  0  0  0  0  0  0  0  0\\n    2.2544   -0.0251    1.4791 H   0  0  0  0  0  0  0  0  0  0  0  0\\n    2.5003    1.6078    0.6705 H   0  0  0  0  0  0  0  0  0  0  0  0\\n    1.0894    2.0746   -1.7479 H   0  0  0  0  0  0  0  0  0  0  0  0\\n    1.0514    0.4364   -2.4205 H   0  0  0  0  0  0  0  0  0  0  0  0\\n    3.4853    2.1241   -3.2424 H   0  0  0  0  0  0  0  0  0  0  0  0\\n    4.8155    1.2498   -2.3280 H   0  0  0  0  0  0  0  0  0  0  0  0\\n   -0.0347    1.1957    1.4444 H   0  0  0  0  0  0  0  0  0  0  0  0\\n    0.6532    4.4043    0.3323 H   0  0  0  0  0  0  0  0  0  0  0  0\\n   -1.6556    0.3330   -1.0056 H   0  0  0  0  0  0  0  0  0  0  0  0\\n   -3.7347    1.9559   -0.0732 H   0  0  0  0  0  0  0  0  0  0  0  0\\n   -2.8496    2.5021    1.4752 H   0  0  0  0  0  0  0  0  0  0  0  0\\n   -4.2549    1.4595    1.5231 H   0  0  0  0  0  0  0  0  0  0  0  0\\n   -4.4072   -0.7024    1.1963 H   0  0  0  0  0  0  0  0  0  0  0  0\\n   -3.9159   -0.3358   -0.5267 H   0  0  0  0  0  0  0  0  0  0  0  0\\n   -3.7528   -2.6225   -0.2542 H   0  0  0  0  0  0  0  0  0  0  0  0\\n   -2.8895   -2.6011    1.2827 H   0  0  0  0  0  0  0  0  0  0  0  0\\n   -1.2625   -3.0830   -0.3297 H   0  0  0  0  0  0  0  0  0  0  0  0\\n   -1.8445   -1.7956   -1.4914 H   0  0  0  0  0  0  0  0  0  0  0  0\\n    0.3982   -1.3848    2.1312 H   0  0  0  0  0  0  0  0  0  0  0  0\\n   -0.7338   -2.6692    1.6843 H   0  0  0  0  0  0  0  0  0  0  0  0\\n  1  2  1  0\\n  2  3  1  0\\n  3  4  1  0\\n  4  5  1  1\\n  4  6  1  0\\n  6  7  1  0\\n  7  8  1  6\\n  8  9  1  0\\n  9 10  2  3\\n  7 11  1  0\\n 11 12  1  0\\n 12 13  1  0\\n 12 14  2  0\\n 11 15  1  0\\n 15 16  1  0\\n 16 17  1  1\\n 16 18  1  0\\n 18 19  1  0\\n 19 20  1  0\\n 21 20  1  6\\n 21 22  1  0\\n 22 23  1  0\\n 23 24  1  0\\n 24 25  2  0\\n  7  1  1  0\\n 21 15  1  0\\n 21  1  1  0\\n  9  4  1  0\\n 24 16  1  0\\n  1 26  1  6\\n  2 27  1  0\\n  2 28  1  0\\n  3 29  1  0\\n  3 30  1  0\\n  5 31  1  0\\n  6 32  1  0\\n  6 33  1  0\\n  8 34  1  0\\n  8 35  1  0\\n 10 36  1  0\\n 10 37  1  0\\n 11 38  1  1\\n 13 39  1  0\\n 15 40  1  6\\n 17 41  1  0\\n 17 42  1  0\\n 17 43  1  0\\n 18 44  1  0\\n 18 45  1  0\\n 19 46  1  0\\n 19 47  1  0\\n 20 48  1  0\\n 20 49  1  0\\n 22 50  1  0\\n 22 51  1  0\\nM  END\\n\",\"sdf\");\n",
       "\tviewer_1544999680531669.setStyle({\"stick\": {}});\n",
       "\tviewer_1544999680531669.setBackgroundColor(\"0xeeeeee\");\n",
       "\tviewer_1544999680531669.zoomTo();\n",
       "viewer_1544999680531669.render();\n",
       "});\n",
       "</script>"
      ]
     },
     "metadata": {},
     "output_type": "display_data"
    }
   ],
   "source": [
    "for name, smile in molecules.items():\n",
    "    # if name != 'MIM':\n",
    "    #     continue\n",
    "    m = Chem.MolFromSmiles(smile)\n",
    "    m = Chem.AddHs(m)\n",
    "    Chem.EmbedMultipleConfs(m, numConfs=10, randomSeed=0xf00d, \n",
    "                            useExpTorsionAnglePrefs=True,\n",
    "                            useBasicKnowledge=True)\n",
    "    p = py3Dmol.view(width=400,height=400)\n",
    "    interact(drawit, m=fixed(m),p=fixed(p),confId=(0,m.GetNumConformers()-1))"
   ]
  },
  {
   "cell_type": "code",
   "execution_count": 17,
   "metadata": {},
   "outputs": [
    {
     "data": {
      "image/png": "[encoded data removed]",
      "text/plain": [
       "<rdkit.Chem.rdchem.Mol at 0x7f055408abc0>"
      ]
     },
     "execution_count": 17,
     "metadata": {},
     "output_type": "execute_result"
    }
   ],
   "source": [
    "m"
   ]
  },
  {
   "cell_type": "code",
   "execution_count": 12,
   "metadata": {
    "ExecuteTime": {
     "end_time": "2018-09-11T06:01:58.396423Z",
     "start_time": "2018-09-11T06:01:57.759990Z"
    }
   },
   "outputs": [
    {
     "ename": "ValueError",
     "evalue": "Bad Conformer Id",
     "output_type": "error",
     "traceback": [
      "\u001b[0;31m---------------------------------------------------------------------------\u001b[0m",
      "\u001b[0;31mValueError\u001b[0m                                Traceback (most recent call last)",
      "\u001b[0;32m<ipython-input-12-9814c4bcbc80>\u001b[0m in \u001b[0;36m<module>\u001b[0;34m()\u001b[0m\n\u001b[1;32m      9\u001b[0m     \u001b[0mp\u001b[0m \u001b[0;34m=\u001b[0m \u001b[0mpy3Dmol\u001b[0m\u001b[0;34m.\u001b[0m\u001b[0mview\u001b[0m\u001b[0;34m(\u001b[0m\u001b[0mwidth\u001b[0m\u001b[0;34m=\u001b[0m\u001b[0;36m400\u001b[0m\u001b[0;34m,\u001b[0m\u001b[0mheight\u001b[0m\u001b[0;34m=\u001b[0m\u001b[0;36m400\u001b[0m\u001b[0;34m)\u001b[0m\u001b[0;34m\u001b[0m\u001b[0m\n\u001b[1;32m     10\u001b[0m     \u001b[0;32mfor\u001b[0m \u001b[0mconfId\u001b[0m \u001b[0;32min\u001b[0m \u001b[0mrange\u001b[0m\u001b[0;34m(\u001b[0m\u001b[0;36m10\u001b[0m\u001b[0;34m)\u001b[0m\u001b[0;34m:\u001b[0m\u001b[0;34m\u001b[0m\u001b[0m\n\u001b[0;32m---> 11\u001b[0;31m         \u001b[0mdrawit2\u001b[0m\u001b[0;34m(\u001b[0m\u001b[0mm\u001b[0m\u001b[0;34m,\u001b[0m\u001b[0mp\u001b[0m\u001b[0;34m,\u001b[0m\u001b[0mconfId\u001b[0m\u001b[0;34m)\u001b[0m\u001b[0;34m\u001b[0m\u001b[0m\n\u001b[0m\u001b[1;32m     12\u001b[0m     \u001b[0mp\u001b[0m\u001b[0;34m.\u001b[0m\u001b[0mshow\u001b[0m\u001b[0;34m(\u001b[0m\u001b[0;34m)\u001b[0m\u001b[0;34m\u001b[0m\u001b[0m\n",
      "\u001b[0;32m<ipython-input-7-4de13a40046f>\u001b[0m in \u001b[0;36mdrawit2\u001b[0;34m(m, p, confId)\u001b[0m\n\u001b[1;32m     10\u001b[0m \u001b[0;34m\u001b[0m\u001b[0m\n\u001b[1;32m     11\u001b[0m \u001b[0;32mdef\u001b[0m \u001b[0mdrawit2\u001b[0m\u001b[0;34m(\u001b[0m\u001b[0mm\u001b[0m\u001b[0;34m,\u001b[0m \u001b[0mp\u001b[0m\u001b[0;34m,\u001b[0m \u001b[0mconfId\u001b[0m\u001b[0;34m=\u001b[0m\u001b[0;34m-\u001b[0m\u001b[0;36m1\u001b[0m\u001b[0;34m)\u001b[0m\u001b[0;34m:\u001b[0m\u001b[0;34m\u001b[0m\u001b[0m\n\u001b[0;32m---> 12\u001b[0;31m     \u001b[0mmb\u001b[0m \u001b[0;34m=\u001b[0m \u001b[0mChem\u001b[0m\u001b[0;34m.\u001b[0m\u001b[0mMolToMolBlock\u001b[0m\u001b[0;34m(\u001b[0m\u001b[0mm\u001b[0m\u001b[0;34m,\u001b[0m \u001b[0mconfId\u001b[0m\u001b[0;34m=\u001b[0m\u001b[0mconfId\u001b[0m\u001b[0;34m)\u001b[0m\u001b[0;34m\u001b[0m\u001b[0m\n\u001b[0m\u001b[1;32m     13\u001b[0m     \u001b[0mp\u001b[0m\u001b[0;34m.\u001b[0m\u001b[0maddModel\u001b[0m\u001b[0;34m(\u001b[0m\u001b[0mmb\u001b[0m\u001b[0;34m,\u001b[0m \u001b[0;34m'sdf'\u001b[0m\u001b[0;34m)\u001b[0m\u001b[0;34m\u001b[0m\u001b[0m\n\u001b[1;32m     14\u001b[0m     \u001b[0mp\u001b[0m\u001b[0;34m.\u001b[0m\u001b[0msetStyle\u001b[0m\u001b[0;34m(\u001b[0m\u001b[0;34m{\u001b[0m\u001b[0;34m'stick'\u001b[0m\u001b[0;34m:\u001b[0m\u001b[0;34m{\u001b[0m\u001b[0;34m}\u001b[0m\u001b[0;34m}\u001b[0m\u001b[0;34m)\u001b[0m\u001b[0;34m\u001b[0m\u001b[0m\n",
      "\u001b[0;31mValueError\u001b[0m: Bad Conformer Id"
     ]
    }
   ],
   "source": [
    "for name, smile in molecules.items():\n",
    "    # if name != '1,9-dichlorononane':\n",
    "    #     continue\n",
    "    m = Chem.MolFromSmiles(smile)\n",
    "    m = Chem.AddHs(m)\n",
    "    Chem.EmbedMultipleConfs(m, numConfs=10, randomSeed=0xf00d, \n",
    "                            useExpTorsionAnglePrefs=True,\n",
    "                            useBasicKnowledge=True)\n",
    "    p = py3Dmol.view(width=400,height=400)\n",
    "    for confId in range(10):\n",
    "        drawit2(m,p,confId)\n",
    "    p.show()"
   ]
  },
  {
   "cell_type": "markdown",
   "metadata": {},
   "source": [
    "##  Get molecular size of a test molecule"
   ]
  },
  {
   "cell_type": "code",
   "execution_count": 3,
   "metadata": {},
   "outputs": [
    {
     "ename": "ValueError",
     "evalue": "min() arg is an empty sequence",
     "output_type": "error",
     "traceback": [
      "\u001b[0;31m---------------------------------------------------------------------------\u001b[0m",
      "\u001b[0;31mValueError\u001b[0m                                Traceback (most recent call last)",
      "\u001b[0;32m<timed exec>\u001b[0m in \u001b[0;36m<module>\u001b[0;34m()\u001b[0m\n",
      "\u001b[0;31mValueError\u001b[0m: min() arg is an empty sequence"
     ]
    }
   ],
   "source": [
    "%%time\n",
    "output_dir = '/home/atarzia/psp/molecule_DBs/atarzia/'\n",
    "name, smiles = 'C18252', 'O=C(O)c1cccc2ccc3cccc(C(=O)O)c3c12'\n",
    "\n",
    "res = ercollect.rdkit_functions.calc_molecule_diameter(name, smiles, out_dir=output_dir,\n",
    "                                             MW_thresh=2000, \n",
    "                                             vdwScale=0.8, \n",
    "                                             boxMargin=4.0,\n",
    "                                             spacing=0.5, \n",
    "                                             show_vdw=False, plot_ellip=False,\n",
    "                                             N_conformers=100)\n",
    "\n",
    "min_min = min(res.diam1)\n",
    "min_mid = min(res.diam2)\n",
    "min_diam_avg = np.average(res['diam1'])\n",
    "min_diam_std = np.std(res['diam1'])\n",
    "mid_diam_avg = np.average(res['diam2'])\n",
    "mid_diam_std = np.std(res['diam2'])\n",
    "result = (min_min, min_mid, min_diam_avg, min_diam_std,\n",
    "          mid_diam_avg, mid_diam_std)\n",
    "print('--------------', name, '--------------')\n",
    "print(result)"
   ]
  },
  {
   "cell_type": "markdown",
   "metadata": {},
   "source": [
    "##  Get molecular size of a series of test molecules"
   ]
  },
  {
   "cell_type": "code",
   "execution_count": 25,
   "metadata": {
    "ExecuteTime": {
     "end_time": "2018-11-10T02:10:22.575818Z",
     "start_time": "2018-11-10T02:09:48.357612Z"
    }
   },
   "outputs": [
    {
     "name": "stdout",
     "output_type": "stream",
     "text": [
      "calculation already done.\n",
      "-------------- n-octane --------------\n",
      "(4.741494427110743, 5.231540505356091, 5.3376988424576925, 0.2469008049052331, 6.228290740166219, 0.5134579960322305)\n",
      "calculation already done.\n",
      "-------------- n-hexane --------------\n",
      "(4.659126541472514, 4.962888353820132, 4.988207757671421, 0.17687701830504093, 5.626911442453076, 0.35181364795469455)\n",
      "calculation already done.\n",
      "-------------- n-decane --------------\n",
      "(4.798166295239634, 5.549371400956184, 5.578404480966401, 0.323370512487082, 6.862320119136749, 0.705062314782434)\n",
      "calculation already done.\n",
      "-------------- 2,3-dimethylbutane --------------\n",
      "(4.510147923751787, 6.154657950105251, 5.397115430320835, 0.6024946858573208, 6.49396247136056, 0.15020415693544759)\n",
      "calculation already done.\n",
      "-------------- 2,2-dimethylbutane --------------\n",
      "(5.628241038828123, 5.937057665319091, 5.889238761212571, 0.1052563031877767, 6.143082499749571, 0.0956997138584874)\n",
      "calculation already done.\n",
      "-------------- aniline --------------\n",
      "(3.26131642202166, 6.2905263747943465, 3.4604886638778622, 0.06803881849779644, 6.640537964658515, 0.1346942839802862)\n",
      "calculation already done.\n",
      "-------------- 2mIM --------------\n",
      "(3.615308577029893, 5.204853119494771, 3.976994142166544, 0.20914616860295096, 5.632490162421013, 0.24337695326471692)\n",
      "calculation already done.\n",
      "-------------- 2-Deoxy-D-ribose --------------\n",
      "(4.733057610854208, 5.6810904781774365, 5.574340780141068, 0.37858550181050166, 6.774775197549481, 0.5389003334957086)\n",
      "calculation already done.\n",
      "-------------- 2-deoxy-d-ribofuranose --------------\n",
      "(4.6005366043545415, 6.390122273601693, 5.2869544536372635, 0.33907108729180724, 7.276669468903221, 0.4687818017253163)\n",
      "calculation already done.\n",
      "-------------- 1H-indole --------------\n",
      "(3.380441611927172, 6.5496686908470885, 3.5686377864006302, 0.07666013896009138, 6.786603914742984, 0.10169918319360262)\n",
      "calculation already done.\n",
      "-------------- 3H-indole --------------\n",
      "(3.6107175586399407, 6.758440987327394, 3.9559097977096367, 0.15942942037066896, 7.076360971566248, 0.15617720941841212)\n",
      "calculation already done.\n",
      "-------------- cyclohexane --------------\n",
      "(4.779341915513174, 6.167704669782875, 5.037647315374701, 0.11943943695378463, 6.449470240875904, 0.1374295666989891)\n",
      "-------------- cyclooctene --------------\n",
      "(4.650022385219056, 6.905424692326815, 5.149357002978875, 0.18417532750509505, 7.4092469739791404, 0.1696617077625769)\n",
      "CPU times: user 1min 5s, sys: 536 ms, total: 1min 6s\n",
      "Wall time: 34.2 s\n"
     ]
    }
   ],
   "source": [
    "%%time\n",
    "output_dir = '/home/atarzia/psp/molecule_DBs/atarzia/'\n",
    "molecules = [('n-octane', 'CCCCCCCC'), ('n-hexane', 'CCCCCC'), ('n-decane', 'CCCCCCCCCC'), ('2,3-dimethylbutane', 'CC(C)C(C)C'),\n",
    "             ('2,2-dimethylbutane', 'CCC(C)(C)C'), ('aniline', 'C1=CC=C(C=C1)N'), ('2mIM', 'CC1=NC=CN1'), ('2-Deoxy-D-ribose', 'O=CC[C@H](O)[C@H](O)CO'),\n",
    "             ('2-deoxy-d-ribofuranose', 'C1C(C(OC1O)CO)O'), ('1H-indole', 'c1cc2ccccc2[nH]1'), ('3H-indole', 'C1C=Nc2ccccc12'),\n",
    "             ('cyclohexane', 'C1CCCCC1'), ('cyclooctene', 'C1CCCC=CCC1')]\n",
    "\n",
    "for name, smiles in molecules:\n",
    "    res = ercollect.rdkit_functions.calc_molecule_diameter(name, smiles, out_dir=output_dir,\n",
    "                                                 MW_thresh=2000, \n",
    "                                                 vdwScale=0.8, \n",
    "                                                 boxMargin=4.0,\n",
    "                                                 spacing=0.5, \n",
    "                                                 show_vdw=False, plot_ellip=False,\n",
    "                                                 N_conformers=100)\n",
    "\n",
    "    min_min = min(res.diam1)\n",
    "    min_mid = min(res.diam2)\n",
    "    min_diam_avg = np.average(res['diam1'])\n",
    "    min_diam_std = np.std(res['diam1'])\n",
    "    mid_diam_avg = np.average(res['diam2'])\n",
    "    mid_diam_std = np.std(res['diam2'])\n",
    "    result = (min_min, min_mid, min_diam_avg, min_diam_std,\n",
    "              mid_diam_avg, mid_diam_std)\n",
    "    print('--------------', name, '--------------')\n",
    "    print(result)"
   ]
  },
  {
   "cell_type": "markdown",
   "metadata": {},
   "source": [
    "## visualise the ellipsoid around a desired molecule"
   ]
  },
  {
   "cell_type": "code",
   "execution_count": 126,
   "metadata": {
    "ExecuteTime": {
     "end_time": "2018-11-01T14:24:56.570159Z",
     "start_time": "2018-11-01T14:24:56.545503Z"
    }
   },
   "outputs": [],
   "source": [
    "molecules = {'n-octane': 'CCCCCCCC',\n",
    "             'ethanol': 'CCO',\n",
    "             'n-hexane': 'CCCCCC',\n",
    "             'cyclohexane': 'C1CCCCC1',\n",
    "             'para-xylene': 'Cc1ccc(C)cc1',\n",
    "             'n-decanoic acid': 'CCCCCCCCCC(=O)O'}\n",
    "diameters = {}\n",
    "for name in molecules.keys():\n",
    "    diameters[name] = 0\n",
    "output_dir = '/home/atarzia/psp/molecule_param/'"
   ]
  },
  {
   "cell_type": "code",
   "execution_count": 127,
   "metadata": {
    "ExecuteTime": {
     "end_time": "2018-11-10T02:13:05.748778Z",
     "start_time": "2018-11-10T02:12:37.878218Z"
    }
   },
   "outputs": [
    {
     "data": {
      "application/3dmoljs_load.v0": "<div id=\"3dmolviewer_15452046138487597\"  style=\"position: relative; width: 400px; height: 400px\">\n        <p id=\"3dmolwarning_15452046138487597\" style=\"background-color:#ffcccc;color:black\">You appear to be running in JupyterLab.  You need to install the 3dmol extension: <br>\n        <tt>jupyter labextension install jupyterlab_3dmol</tt></p>\n        </div>\n<script>\n\nvar loadScriptAsync = function(uri){\n  return new Promise((resolve, reject) => {\n    var tag = document.createElement('script');\n    tag.src = uri;\n    tag.async = true;\n    tag.onload = () => {\n      resolve();\n    };\n  var firstScriptTag = document.getElementsByTagName('script')[0];\n  firstScriptTag.parentNode.insertBefore(tag, firstScriptTag);\n});\n};\n\nif(typeof $3Dmolpromise === 'undefined') {\n$3Dmolpromise = null;\n  $3Dmolpromise = loadScriptAsync('https://3dmol.csb.pitt.edu/build/3Dmol.js');\n}\n\nvar viewer_15452046138487597 = null;\nvar warn = document.getElementById(\"3dmolwarning_15452046138487597\");\nif(warn) {\n    warn.parentNode.removeChild(warn);\n}\n$3Dmolpromise.then(function() {\nviewer_15452046138487597 = $3Dmol.createViewer($(\"#3dmolviewer_15452046138487597\"),{backgroundColor:\"white\"});\n\tviewer_15452046138487597.addModel(\"\\n     RDKit          3D\\n\\n 18 18  0  0  0  0  0  0  0  0999 V2000\\n    1.0867    0.9271    0.3160 C   0  0  0  0  0  0  0  0  0  0  0  0\\n   -0.1435    1.3480   -0.4415 C   0  0  0  0  0  0  0  0  0  0  0  0\\n   -1.3199    0.4825   -0.2234 C   0  0  0  0  0  0  0  0  0  0  0  0\\n   -1.0773   -0.9417    0.0468 C   0  0  0  0  0  0  0  0  0  0  0  0\\n    0.2800   -1.3210    0.5066 C   0  0  0  0  0  0  0  0  0  0  0  0\\n    1.3602   -0.5017   -0.1796 C   0  0  0  0  0  0  0  0  0  0  0  0\\n    1.9139    1.6011    0.1198 H   0  0  0  0  0  0  0  0  0  0  0  0\\n    0.8713    0.8626    1.4081 H   0  0  0  0  0  0  0  0  0  0  0  0\\n   -0.3969    2.4076   -0.2140 H   0  0  0  0  0  0  0  0  0  0  0  0\\n    0.1331    1.2990   -1.5352 H   0  0  0  0  0  0  0  0  0  0  0  0\\n   -1.9743    0.5613   -1.1420 H   0  0  0  0  0  0  0  0  0  0  0  0\\n   -1.9507    0.9571    0.5852 H   0  0  0  0  0  0  0  0  0  0  0  0\\n   -1.3422   -1.5819   -0.8419 H   0  0  0  0  0  0  0  0  0  0  0  0\\n   -1.8082   -1.2788    0.8407 H   0  0  0  0  0  0  0  0  0  0  0  0\\n    0.4532   -2.3975    0.3922 H   0  0  0  0  0  0  0  0  0  0  0  0\\n    0.3596   -1.0769    1.5990 H   0  0  0  0  0  0  0  0  0  0  0  0\\n    2.3603   -0.8422    0.0592 H   0  0  0  0  0  0  0  0  0  0  0  0\\n    1.1946   -0.5046   -1.2957 H   0  0  0  0  0  0  0  0  0  0  0  0\\n  1  2  1  0\\n  2  3  1  0\\n  3  4  1  0\\n  4  5  1  0\\n  5  6  1  0\\n  6  1  1  0\\n  1  7  1  0\\n  1  8  1  0\\n  2  9  1  0\\n  2 10  1  0\\n  3 11  1  0\\n  3 12  1  0\\n  4 13  1  0\\n  4 14  1  0\\n  5 15  1  0\\n  5 16  1  0\\n  6 17  1  0\\n  6 18  1  0\\nM  END\\n\",\"sdf\");\n\tviewer_15452046138487597.setStyle({\"stick\": {}});\n\tviewer_15452046138487597.setBackgroundColor(\"0xeeeeee\");\n\tviewer_15452046138487597.zoomTo();\n\tviewer_15452046138487597.addModel(\"\\n     RDKit          3D\\n\\n 18 18  0  0  0  0  0  0  0  0999 V2000\\n   -0.0256   -1.4281   -0.3401 C   0  0  0  0  0  0  0  0  0  0  0  0\\n    1.1974   -0.7456    0.2014 C   0  0  0  0  0  0  0  0  0  0  0  0\\n    1.2469    0.6849   -0.2254 C   0  0  0  0  0  0  0  0  0  0  0  0\\n    0.0603    1.4316    0.3083 C   0  0  0  0  0  0  0  0  0  0  0  0\\n   -1.2132    0.7036    0.3294 C   0  0  0  0  0  0  0  0  0  0  0  0\\n   -1.2708   -0.6450   -0.2602 C   0  0  0  0  0  0  0  0  0  0  0  0\\n   -0.0934   -2.4131    0.2022 H   0  0  0  0  0  0  0  0  0  0  0  0\\n    0.2316   -1.7370   -1.3982 H   0  0  0  0  0  0  0  0  0  0  0  0\\n    1.2615   -0.8080    1.2892 H   0  0  0  0  0  0  0  0  0  0  0  0\\n    2.0966   -1.2846   -0.2119 H   0  0  0  0  0  0  0  0  0  0  0  0\\n    1.3207    0.7918   -1.3348 H   0  0  0  0  0  0  0  0  0  0  0  0\\n    2.1799    1.1274    0.1852 H   0  0  0  0  0  0  0  0  0  0  0  0\\n    0.0071    2.3870   -0.2928 H   0  0  0  0  0  0  0  0  0  0  0  0\\n    0.3538    1.7954    1.3381 H   0  0  0  0  0  0  0  0  0  0  0  0\\n   -1.9883    1.3309   -0.2084 H   0  0  0  0  0  0  0  0  0  0  0  0\\n   -1.6105    0.6897    1.3892 H   0  0  0  0  0  0  0  0  0  0  0  0\\n   -2.0259   -1.2537    0.3243 H   0  0  0  0  0  0  0  0  0  0  0  0\\n   -1.7284   -0.6271   -1.2956 H   0  0  0  0  0  0  0  0  0  0  0  0\\n  1  2  1  0\\n  2  3  1  0\\n  3  4  1  0\\n  4  5  1  0\\n  5  6  1  0\\n  6  1  1  0\\n  1  7  1  0\\n  1  8  1  0\\n  2  9  1  0\\n  2 10  1  0\\n  3 11  1  0\\n  3 12  1  0\\n  4 13  1  0\\n  4 14  1  0\\n  5 15  1  0\\n  5 16  1  0\\n  6 17  1  0\\n  6 18  1  0\\nM  END\\n\",\"sdf\");\n\tviewer_15452046138487597.setStyle({\"stick\": {}});\n\tviewer_15452046138487597.setBackgroundColor(\"0xeeeeee\");\n\tviewer_15452046138487597.zoomTo();\n\tviewer_15452046138487597.addModel(\"\\n     RDKit          3D\\n\\n 18 18  0  0  0  0  0  0  0  0999 V2000\\n    1.0272   -0.9903    0.2690 C   0  0  0  0  0  0  0  0  0  0  0  0\\n    1.2716    0.2539   -0.5817 C   0  0  0  0  0  0  0  0  0  0  0  0\\n    0.4237    1.3804   -0.0193 C   0  0  0  0  0  0  0  0  0  0  0  0\\n   -1.0323    0.9822   -0.2625 C   0  0  0  0  0  0  0  0  0  0  0  0\\n   -1.2684   -0.2557    0.6017 C   0  0  0  0  0  0  0  0  0  0  0  0\\n   -0.4306   -1.3792    0.0096 C   0  0  0  0  0  0  0  0  0  0  0  0\\n    1.7129   -1.8047   -0.0587 H   0  0  0  0  0  0  0  0  0  0  0  0\\n    1.1775   -0.7883    1.3454 H   0  0  0  0  0  0  0  0  0  0  0  0\\n    2.3358    0.5137   -0.6195 H   0  0  0  0  0  0  0  0  0  0  0  0\\n    0.8356    0.0147   -1.5828 H   0  0  0  0  0  0  0  0  0  0  0  0\\n    0.5423    1.4763    1.0709 H   0  0  0  0  0  0  0  0  0  0  0  0\\n    0.6442    2.3340   -0.5097 H   0  0  0  0  0  0  0  0  0  0  0  0\\n   -1.2013    0.7321   -1.3389 H   0  0  0  0  0  0  0  0  0  0  0  0\\n   -1.6947    1.8177    0.0678 H   0  0  0  0  0  0  0  0  0  0  0  0\\n   -0.8213   -0.0383    1.5982 H   0  0  0  0  0  0  0  0  0  0  0  0\\n   -2.3274   -0.5205    0.6537 H   0  0  0  0  0  0  0  0  0  0  0  0\\n   -0.5381   -1.3714   -1.1015 H   0  0  0  0  0  0  0  0  0  0  0  0\\n   -0.6569   -2.3565    0.4583 H   0  0  0  0  0  0  0  0  0  0  0  0\\n  1  2  1  0\\n  2  3  1  0\\n  3  4  1  0\\n  4  5  1  0\\n  5  6  1  0\\n  6  1  1  0\\n  1  7  1  0\\n  1  8  1  0\\n  2  9  1  0\\n  2 10  1  0\\n  3 11  1  0\\n  3 12  1  0\\n  4 13  1  0\\n  4 14  1  0\\n  5 15  1  0\\n  5 16  1  0\\n  6 17  1  0\\n  6 18  1  0\\nM  END\\n\",\"sdf\");\n\tviewer_15452046138487597.setStyle({\"stick\": {}});\n\tviewer_15452046138487597.setBackgroundColor(\"0xeeeeee\");\n\tviewer_15452046138487597.zoomTo();\n\tviewer_15452046138487597.addModel(\"\\n     RDKit          3D\\n\\n 18 18  0  0  0  0  0  0  0  0999 V2000\\n    0.4689    1.3263    0.4064 C   0  0  0  0  0  0  0  0  0  0  0  0\\n    1.4419    0.2093    0.1699 C   0  0  0  0  0  0  0  0  0  0  0  0\\n    0.8067   -0.7626   -0.8237 C   0  0  0  0  0  0  0  0  0  0  0  0\\n   -0.3277   -1.4234   -0.0416 C   0  0  0  0  0  0  0  0  0  0  0  0\\n   -1.3576   -0.3893    0.2249 C   0  0  0  0  0  0  0  0  0  0  0  0\\n   -0.9270    1.0164   -0.0255 C   0  0  0  0  0  0  0  0  0  0  0  0\\n    0.4486    1.5599    1.5070 H   0  0  0  0  0  0  0  0  0  0  0  0\\n    0.8326    2.2436   -0.0818 H   0  0  0  0  0  0  0  0  0  0  0  0\\n    1.5491   -0.3814    1.1209 H   0  0  0  0  0  0  0  0  0  0  0  0\\n    2.3991    0.5813   -0.1992 H   0  0  0  0  0  0  0  0  0  0  0  0\\n    1.5445   -1.5299   -1.1349 H   0  0  0  0  0  0  0  0  0  0  0  0\\n    0.3551   -0.2513   -1.6805 H   0  0  0  0  0  0  0  0  0  0  0  0\\n    0.1484   -1.8158    0.8974 H   0  0  0  0  0  0  0  0  0  0  0  0\\n   -0.6592   -2.2783   -0.6477 H   0  0  0  0  0  0  0  0  0  0  0  0\\n   -1.7694   -0.5049    1.2669 H   0  0  0  0  0  0  0  0  0  0  0  0\\n   -2.2448   -0.5901   -0.4396 H   0  0  0  0  0  0  0  0  0  0  0  0\\n   -1.6151    1.6777    0.5747 H   0  0  0  0  0  0  0  0  0  0  0  0\\n   -1.0941    1.3125   -1.0936 H   0  0  0  0  0  0  0  0  0  0  0  0\\n  1  2  1  0\\n  2  3  1  0\\n  3  4  1  0\\n  4  5  1  0\\n  5  6  1  0\\n  6  1  1  0\\n  1  7  1  0\\n  1  8  1  0\\n  2  9  1  0\\n  2 10  1  0\\n  3 11  1  0\\n  3 12  1  0\\n  4 13  1  0\\n  4 14  1  0\\n  5 15  1  0\\n  5 16  1  0\\n  6 17  1  0\\n  6 18  1  0\\nM  END\\n\",\"sdf\");\n\tviewer_15452046138487597.setStyle({\"stick\": {}});\n\tviewer_15452046138487597.setBackgroundColor(\"0xeeeeee\");\n\tviewer_15452046138487597.zoomTo();\nviewer_15452046138487597.render();\n});\n</script>",
      "text/html": [
       "<div id=\"3dmolviewer_15452046138487597\"  style=\"position: relative; width: 400px; height: 400px\">\n",
       "        <p id=\"3dmolwarning_15452046138487597\" style=\"background-color:#ffcccc;color:black\">You appear to be running in JupyterLab.  You need to install the 3dmol extension: <br>\n",
       "        <tt>jupyter labextension install jupyterlab_3dmol</tt></p>\n",
       "        </div>\n",
       "<script>\n",
       "\n",
       "var loadScriptAsync = function(uri){\n",
       "  return new Promise((resolve, reject) => {\n",
       "    var tag = document.createElement('script');\n",
       "    tag.src = uri;\n",
       "    tag.async = true;\n",
       "    tag.onload = () => {\n",
       "      resolve();\n",
       "    };\n",
       "  var firstScriptTag = document.getElementsByTagName('script')[0];\n",
       "  firstScriptTag.parentNode.insertBefore(tag, firstScriptTag);\n",
       "});\n",
       "};\n",
       "\n",
       "if(typeof $3Dmolpromise === 'undefined') {\n",
       "$3Dmolpromise = null;\n",
       "  $3Dmolpromise = loadScriptAsync('https://3dmol.csb.pitt.edu/build/3Dmol.js');\n",
       "}\n",
       "\n",
       "var viewer_15452046138487597 = null;\n",
       "var warn = document.getElementById(\"3dmolwarning_15452046138487597\");\n",
       "if(warn) {\n",
       "    warn.parentNode.removeChild(warn);\n",
       "}\n",
       "$3Dmolpromise.then(function() {\n",
       "viewer_15452046138487597 = $3Dmol.createViewer($(\"#3dmolviewer_15452046138487597\"),{backgroundColor:\"white\"});\n",
       "\tviewer_15452046138487597.addModel(\"\\n     RDKit          3D\\n\\n 18 18  0  0  0  0  0  0  0  0999 V2000\\n    1.0867    0.9271    0.3160 C   0  0  0  0  0  0  0  0  0  0  0  0\\n   -0.1435    1.3480   -0.4415 C   0  0  0  0  0  0  0  0  0  0  0  0\\n   -1.3199    0.4825   -0.2234 C   0  0  0  0  0  0  0  0  0  0  0  0\\n   -1.0773   -0.9417    0.0468 C   0  0  0  0  0  0  0  0  0  0  0  0\\n    0.2800   -1.3210    0.5066 C   0  0  0  0  0  0  0  0  0  0  0  0\\n    1.3602   -0.5017   -0.1796 C   0  0  0  0  0  0  0  0  0  0  0  0\\n    1.9139    1.6011    0.1198 H   0  0  0  0  0  0  0  0  0  0  0  0\\n    0.8713    0.8626    1.4081 H   0  0  0  0  0  0  0  0  0  0  0  0\\n   -0.3969    2.4076   -0.2140 H   0  0  0  0  0  0  0  0  0  0  0  0\\n    0.1331    1.2990   -1.5352 H   0  0  0  0  0  0  0  0  0  0  0  0\\n   -1.9743    0.5613   -1.1420 H   0  0  0  0  0  0  0  0  0  0  0  0\\n   -1.9507    0.9571    0.5852 H   0  0  0  0  0  0  0  0  0  0  0  0\\n   -1.3422   -1.5819   -0.8419 H   0  0  0  0  0  0  0  0  0  0  0  0\\n   -1.8082   -1.2788    0.8407 H   0  0  0  0  0  0  0  0  0  0  0  0\\n    0.4532   -2.3975    0.3922 H   0  0  0  0  0  0  0  0  0  0  0  0\\n    0.3596   -1.0769    1.5990 H   0  0  0  0  0  0  0  0  0  0  0  0\\n    2.3603   -0.8422    0.0592 H   0  0  0  0  0  0  0  0  0  0  0  0\\n    1.1946   -0.5046   -1.2957 H   0  0  0  0  0  0  0  0  0  0  0  0\\n  1  2  1  0\\n  2  3  1  0\\n  3  4  1  0\\n  4  5  1  0\\n  5  6  1  0\\n  6  1  1  0\\n  1  7  1  0\\n  1  8  1  0\\n  2  9  1  0\\n  2 10  1  0\\n  3 11  1  0\\n  3 12  1  0\\n  4 13  1  0\\n  4 14  1  0\\n  5 15  1  0\\n  5 16  1  0\\n  6 17  1  0\\n  6 18  1  0\\nM  END\\n\",\"sdf\");\n",
       "\tviewer_15452046138487597.setStyle({\"stick\": {}});\n",
       "\tviewer_15452046138487597.setBackgroundColor(\"0xeeeeee\");\n",
       "\tviewer_15452046138487597.zoomTo();\n",
       "\tviewer_15452046138487597.addModel(\"\\n     RDKit          3D\\n\\n 18 18  0  0  0  0  0  0  0  0999 V2000\\n   -0.0256   -1.4281   -0.3401 C   0  0  0  0  0  0  0  0  0  0  0  0\\n    1.1974   -0.7456    0.2014 C   0  0  0  0  0  0  0  0  0  0  0  0\\n    1.2469    0.6849   -0.2254 C   0  0  0  0  0  0  0  0  0  0  0  0\\n    0.0603    1.4316    0.3083 C   0  0  0  0  0  0  0  0  0  0  0  0\\n   -1.2132    0.7036    0.3294 C   0  0  0  0  0  0  0  0  0  0  0  0\\n   -1.2708   -0.6450   -0.2602 C   0  0  0  0  0  0  0  0  0  0  0  0\\n   -0.0934   -2.4131    0.2022 H   0  0  0  0  0  0  0  0  0  0  0  0\\n    0.2316   -1.7370   -1.3982 H   0  0  0  0  0  0  0  0  0  0  0  0\\n    1.2615   -0.8080    1.2892 H   0  0  0  0  0  0  0  0  0  0  0  0\\n    2.0966   -1.2846   -0.2119 H   0  0  0  0  0  0  0  0  0  0  0  0\\n    1.3207    0.7918   -1.3348 H   0  0  0  0  0  0  0  0  0  0  0  0\\n    2.1799    1.1274    0.1852 H   0  0  0  0  0  0  0  0  0  0  0  0\\n    0.0071    2.3870   -0.2928 H   0  0  0  0  0  0  0  0  0  0  0  0\\n    0.3538    1.7954    1.3381 H   0  0  0  0  0  0  0  0  0  0  0  0\\n   -1.9883    1.3309   -0.2084 H   0  0  0  0  0  0  0  0  0  0  0  0\\n   -1.6105    0.6897    1.3892 H   0  0  0  0  0  0  0  0  0  0  0  0\\n   -2.0259   -1.2537    0.3243 H   0  0  0  0  0  0  0  0  0  0  0  0\\n   -1.7284   -0.6271   -1.2956 H   0  0  0  0  0  0  0  0  0  0  0  0\\n  1  2  1  0\\n  2  3  1  0\\n  3  4  1  0\\n  4  5  1  0\\n  5  6  1  0\\n  6  1  1  0\\n  1  7  1  0\\n  1  8  1  0\\n  2  9  1  0\\n  2 10  1  0\\n  3 11  1  0\\n  3 12  1  0\\n  4 13  1  0\\n  4 14  1  0\\n  5 15  1  0\\n  5 16  1  0\\n  6 17  1  0\\n  6 18  1  0\\nM  END\\n\",\"sdf\");\n",
       "\tviewer_15452046138487597.setStyle({\"stick\": {}});\n",
       "\tviewer_15452046138487597.setBackgroundColor(\"0xeeeeee\");\n",
       "\tviewer_15452046138487597.zoomTo();\n",
       "\tviewer_15452046138487597.addModel(\"\\n     RDKit          3D\\n\\n 18 18  0  0  0  0  0  0  0  0999 V2000\\n    1.0272   -0.9903    0.2690 C   0  0  0  0  0  0  0  0  0  0  0  0\\n    1.2716    0.2539   -0.5817 C   0  0  0  0  0  0  0  0  0  0  0  0\\n    0.4237    1.3804   -0.0193 C   0  0  0  0  0  0  0  0  0  0  0  0\\n   -1.0323    0.9822   -0.2625 C   0  0  0  0  0  0  0  0  0  0  0  0\\n   -1.2684   -0.2557    0.6017 C   0  0  0  0  0  0  0  0  0  0  0  0\\n   -0.4306   -1.3792    0.0096 C   0  0  0  0  0  0  0  0  0  0  0  0\\n    1.7129   -1.8047   -0.0587 H   0  0  0  0  0  0  0  0  0  0  0  0\\n    1.1775   -0.7883    1.3454 H   0  0  0  0  0  0  0  0  0  0  0  0\\n    2.3358    0.5137   -0.6195 H   0  0  0  0  0  0  0  0  0  0  0  0\\n    0.8356    0.0147   -1.5828 H   0  0  0  0  0  0  0  0  0  0  0  0\\n    0.5423    1.4763    1.0709 H   0  0  0  0  0  0  0  0  0  0  0  0\\n    0.6442    2.3340   -0.5097 H   0  0  0  0  0  0  0  0  0  0  0  0\\n   -1.2013    0.7321   -1.3389 H   0  0  0  0  0  0  0  0  0  0  0  0\\n   -1.6947    1.8177    0.0678 H   0  0  0  0  0  0  0  0  0  0  0  0\\n   -0.8213   -0.0383    1.5982 H   0  0  0  0  0  0  0  0  0  0  0  0\\n   -2.3274   -0.5205    0.6537 H   0  0  0  0  0  0  0  0  0  0  0  0\\n   -0.5381   -1.3714   -1.1015 H   0  0  0  0  0  0  0  0  0  0  0  0\\n   -0.6569   -2.3565    0.4583 H   0  0  0  0  0  0  0  0  0  0  0  0\\n  1  2  1  0\\n  2  3  1  0\\n  3  4  1  0\\n  4  5  1  0\\n  5  6  1  0\\n  6  1  1  0\\n  1  7  1  0\\n  1  8  1  0\\n  2  9  1  0\\n  2 10  1  0\\n  3 11  1  0\\n  3 12  1  0\\n  4 13  1  0\\n  4 14  1  0\\n  5 15  1  0\\n  5 16  1  0\\n  6 17  1  0\\n  6 18  1  0\\nM  END\\n\",\"sdf\");\n",
       "\tviewer_15452046138487597.setStyle({\"stick\": {}});\n",
       "\tviewer_15452046138487597.setBackgroundColor(\"0xeeeeee\");\n",
       "\tviewer_15452046138487597.zoomTo();\n",
       "\tviewer_15452046138487597.addModel(\"\\n     RDKit          3D\\n\\n 18 18  0  0  0  0  0  0  0  0999 V2000\\n    0.4689    1.3263    0.4064 C   0  0  0  0  0  0  0  0  0  0  0  0\\n    1.4419    0.2093    0.1699 C   0  0  0  0  0  0  0  0  0  0  0  0\\n    0.8067   -0.7626   -0.8237 C   0  0  0  0  0  0  0  0  0  0  0  0\\n   -0.3277   -1.4234   -0.0416 C   0  0  0  0  0  0  0  0  0  0  0  0\\n   -1.3576   -0.3893    0.2249 C   0  0  0  0  0  0  0  0  0  0  0  0\\n   -0.9270    1.0164   -0.0255 C   0  0  0  0  0  0  0  0  0  0  0  0\\n    0.4486    1.5599    1.5070 H   0  0  0  0  0  0  0  0  0  0  0  0\\n    0.8326    2.2436   -0.0818 H   0  0  0  0  0  0  0  0  0  0  0  0\\n    1.5491   -0.3814    1.1209 H   0  0  0  0  0  0  0  0  0  0  0  0\\n    2.3991    0.5813   -0.1992 H   0  0  0  0  0  0  0  0  0  0  0  0\\n    1.5445   -1.5299   -1.1349 H   0  0  0  0  0  0  0  0  0  0  0  0\\n    0.3551   -0.2513   -1.6805 H   0  0  0  0  0  0  0  0  0  0  0  0\\n    0.1484   -1.8158    0.8974 H   0  0  0  0  0  0  0  0  0  0  0  0\\n   -0.6592   -2.2783   -0.6477 H   0  0  0  0  0  0  0  0  0  0  0  0\\n   -1.7694   -0.5049    1.2669 H   0  0  0  0  0  0  0  0  0  0  0  0\\n   -2.2448   -0.5901   -0.4396 H   0  0  0  0  0  0  0  0  0  0  0  0\\n   -1.6151    1.6777    0.5747 H   0  0  0  0  0  0  0  0  0  0  0  0\\n   -1.0941    1.3125   -1.0936 H   0  0  0  0  0  0  0  0  0  0  0  0\\n  1  2  1  0\\n  2  3  1  0\\n  3  4  1  0\\n  4  5  1  0\\n  5  6  1  0\\n  6  1  1  0\\n  1  7  1  0\\n  1  8  1  0\\n  2  9  1  0\\n  2 10  1  0\\n  3 11  1  0\\n  3 12  1  0\\n  4 13  1  0\\n  4 14  1  0\\n  5 15  1  0\\n  5 16  1  0\\n  6 17  1  0\\n  6 18  1  0\\nM  END\\n\",\"sdf\");\n",
       "\tviewer_15452046138487597.setStyle({\"stick\": {}});\n",
       "\tviewer_15452046138487597.setBackgroundColor(\"0xeeeeee\");\n",
       "\tviewer_15452046138487597.zoomTo();\n",
       "viewer_15452046138487597.render();\n",
       "});\n",
       "</script>"
      ]
     },
     "metadata": {},
     "output_type": "display_data"
    }
   ],
   "source": [
    "smiles = molecules['cyclohexane']\n",
    "m = Chem.MolFromSmiles(smiles)\n",
    "m = Chem.AddHs(m)\n",
    "Chem.EmbedMultipleConfs(m, numConfs=4,\n",
    "                        useExpTorsionAnglePrefs=True,\n",
    "                        useBasicKnowledge=True)\n",
    "p = py3Dmol.view(width=400,height=400)\n",
    "for confId in range(4):\n",
    "    drawit2(m,p,confId)\n",
    "p.show()\n",
    "v= PyMol.MolViewer()\n",
    "v.DeleteAll()\n",
    "for cid in range(1): \n",
    "    v.ShowMol(m,confId=cid,name='Conf-%d'%cid,showOnly=False)\n",
    "v.server.do('set grid_mode, on')\n",
    "v.server.do('ray')"
   ]
  },
  {
   "cell_type": "code",
   "execution_count": 56,
   "metadata": {
    "ExecuteTime": {
     "end_time": "2018-11-01T14:35:15.112712Z",
     "start_time": "2018-11-01T14:35:14.156943Z"
    }
   },
   "outputs": [
    {
     "name": "stdout",
     "output_type": "stream",
     "text": [
      "molecule: n-octane : SMILES: CCCCCCCC\n",
      "1 out of 1 done\n"
     ]
    }
   ],
   "source": [
    "# molecules = {'n-decanoic_acid': 'CCCCCCCCCC(=O)O'}\n",
    "os.system('rm '+output_dir+list(molecules.keys())[0]+'_diam_result.csv')\n",
    "ercollect.rdkit_functions.calc_molecule_diameters(molecules, out_dir=output_dir,\n",
    "                                        MW_thresh=2000, \n",
    "                                        rerun=True, vdwScale=0.8, \n",
    "                                        boxMargin=8.0,\n",
    "                                        spacing=0.6, show_vdw=True, plot_ellip=False,\n",
    "                                        N_conformers=1)"
   ]
  },
  {
   "cell_type": "markdown",
   "metadata": {},
   "source": [
    "# Debug and modification of RS database "
   ]
  },
  {
   "cell_type": "code",
   "execution_count": null,
   "metadata": {
    "ExecuteTime": {
     "end_time": "2018-10-10T08:15:33.906708Z",
     "start_time": "2018-10-10T08:15:33.731622Z"
    }
   },
   "outputs": [],
   "source": [
    "from rxn_syst import reaction, yield_rxn_syst, collect_RS_molecule_properties\n",
    "import glob\n",
    "directory = '/home/atarzia/psp/screening_results/biomin_search/'\n",
    "molecule_db_dir = '/home/atarzia/psp/molecule_DBs/atarzia/'\n",
    "molecules = glob.glob(molecule_db_dir+'ATRS_*.gpkl')\n",
    "count = 0\n",
    "rs_pkls_done = []"
   ]
  },
  {
   "cell_type": "code",
   "execution_count": null,
   "metadata": {
    "ExecuteTime": {
     "end_time": "2018-10-10T08:43:33.986659Z",
     "start_time": "2018-10-10T08:15:36.077552Z"
    },
    "scrolled": true
   },
   "outputs": [],
   "source": [
    "for rs in yield_rxn_syst(directory):\n",
    "    count += 1\n",
    "    if rs.pkl in rs_pkls_done:\n",
    "        continue\n",
    "    rs_pkls_done.append(rs.pkl)\n",
    "    if rs.skip_rxn is True:\n",
    "        continue\n",
    "    print('-----', count, '---', rs.pkl)\n",
    "    if rs.components is None:\n",
    "        continue\n",
    "    for m in rs.components:\n",
    "        print(m.name, m.role)\n",
    "        print(m.SMILES)\n",
    "        try:\n",
    "            print(m.pkl)\n",
    "        except AttributeError:\n",
    "            print('no pkl')\n",
    "    rs.mol_collected = False\n",
    "    collect_RS_molecule_properties(rs=rs, output_dir=directory,\n",
    "                                   mol_db_dir=molecule_db_dir,\n",
    "                                   molecules=molecules, count=0,\n",
    "                                   react_syst_files=[])\n",
    "    for m in rs.components:\n",
    "        print(m.pkl)"
   ]
  },
  {
   "cell_type": "code",
   "execution_count": null,
   "metadata": {},
   "outputs": [],
   "source": []
  },
  {
   "cell_type": "markdown",
   "metadata": {},
   "source": [
    "# Debug and modification of molecule database"
   ]
  },
  {
   "cell_type": "code",
   "execution_count": null,
   "metadata": {
    "ExecuteTime": {
     "end_time": "2018-11-08T02:46:03.214724Z",
     "start_time": "2018-11-08T02:46:03.210737Z"
    }
   },
   "outputs": [],
   "source": [
    "from ercollect.PUBCHEM_IO import get_logP_from_name, get_complexity_from_name, get_IUPAC_from_name\n",
    "from ercollect.molecule import yield_molecules, load_molecule\n",
    "directory = '/home/atarzia/psp/molecule_DBs/atarzia/'"
   ]
  },
  {
   "cell_type": "code",
   "execution_count": null,
   "metadata": {
    "ExecuteTime": {
     "end_time": "2018-11-08T03:33:35.781184Z",
     "start_time": "2018-11-08T03:33:34.771573Z"
    }
   },
   "outputs": [],
   "source": [
    "for j, i in enumerate(yield_molecules(directory=directory)):\n",
    "    if i.name == \"cocaine\":\n",
    "        print(i.name)\n",
    "        break"
   ]
  },
  {
   "cell_type": "code",
   "execution_count": null,
   "metadata": {},
   "outputs": [],
   "source": [
    "i.rs_pkls"
   ]
  },
  {
   "cell_type": "code",
   "execution_count": null,
   "metadata": {
    "ExecuteTime": {
     "end_time": "2018-11-08T03:37:28.696465Z",
     "start_time": "2018-11-08T03:37:28.680359Z"
    }
   },
   "outputs": [],
   "source": [
    "i.mol"
   ]
  },
  {
   "cell_type": "code",
   "execution_count": null,
   "metadata": {
    "ExecuteTime": {
     "end_time": "2018-11-08T03:32:44.830813Z",
     "start_time": "2018-11-08T03:32:44.817755Z"
    }
   },
   "outputs": [],
   "source": [
    "i.mol"
   ]
  },
  {
   "cell_type": "code",
   "execution_count": null,
   "metadata": {
    "ExecuteTime": {
     "end_time": "2018-10-16T02:51:00.347820Z",
     "start_time": "2018-10-16T02:50:55.498468Z"
    }
   },
   "outputs": [],
   "source": [
    "caught = []\n",
    "for j, i in enumerate(yield_molecules(directory=directory)):\n",
    "    print('doing -----', j)\n",
    "    if '\\n' in str(i.SMILES):\n",
    "        print(i.name)\n",
    "        print('SMILES', i.SMILES)\n",
    "        caught.append(i)"
   ]
  },
  {
   "cell_type": "code",
   "execution_count": null,
   "metadata": {
    "ExecuteTime": {
     "end_time": "2018-10-16T02:51:00.354827Z",
     "start_time": "2018-10-16T02:51:00.349572Z"
    }
   },
   "outputs": [],
   "source": [
    "print(len(caught))\n",
    "for ca in caught:\n",
    "    print(ca.name, ca.pkl)\n",
    "    print(ca.SMILES)\n",
    "    splits = ca.SMILES.split('\\n')\n",
    "    print(splits)\n",
    "    break"
   ]
  },
  {
   "cell_type": "code",
   "execution_count": null,
   "metadata": {
    "ExecuteTime": {
     "end_time": "2018-10-16T02:52:19.169903Z",
     "start_time": "2018-10-16T02:52:19.158894Z"
    }
   },
   "outputs": [],
   "source": [
    "from collections import Counter\n",
    "print(Counter([i.DB for i in caught]))"
   ]
  },
  {
   "cell_type": "code",
   "execution_count": null,
   "metadata": {},
   "outputs": [],
   "source": []
  },
  {
   "cell_type": "markdown",
   "metadata": {},
   "source": [
    "## molecule list debug"
   ]
  },
  {
   "cell_type": "code",
   "execution_count": null,
   "metadata": {
    "ExecuteTime": {
     "end_time": "2018-10-16T02:56:30.758775Z",
     "start_time": "2018-10-16T02:56:30.747055Z"
    }
   },
   "outputs": [],
   "source": [
    "# list of molecules of interest\n",
    "molecules = ['4-hydroxy-3-octaprenylbenzoate', '2-dehydro-3-deoxy-L-fuconate', 'dTDP-4-dehydro-6-deoxy-alpha-D-glucopyranose', '2-oxopentanoate', \n",
    "             'L-methionine-7-amido-4-methylcoumarin', 'CpU', 'phenylpyruvate', 'nicotinate mononucleotide', 'asparagine', \"thymidine 5'-monophosphate\", \n",
    "             'beta-citryl-L-glutamate', 'L-lysine ethyl ester']"
   ]
  },
  {
   "cell_type": "code",
   "execution_count": null,
   "metadata": {
    "ExecuteTime": {
     "end_time": "2018-10-16T03:02:48.813541Z",
     "start_time": "2018-10-16T03:02:25.118094Z"
    }
   },
   "outputs": [],
   "source": [
    "# find rxn system files and molecule files for each molecule\n",
    "mol_dir = '/home/atarzia/psp/molecule_DBs/atarzia/'\n",
    "mol_dict = {}\n",
    "\n",
    "for mol in molecules:\n",
    "    print(mol)\n",
    "    for m in yield_molecules(directory=mol_dir):\n",
    "        if mol == m.name or mol == m.iupac_name:\n",
    "            print('found')\n",
    "            mol_dict[mol] = (m.pkl, m.rs_pkls)"
   ]
  },
  {
   "cell_type": "code",
   "execution_count": null,
   "metadata": {
    "ExecuteTime": {
     "end_time": "2018-10-16T03:12:20.557441Z",
     "start_time": "2018-10-16T03:12:20.386852Z"
    }
   },
   "outputs": [],
   "source": [
    "from BRENDA_IO import *\n",
    "mol = '2-dehydro-3-deoxy-L-fuconate'\n",
    "mol_val = mol_dict[mol]\n",
    "chebiID = get_chebiID_for_BRENDA(mol, 1)\n",
    "print(mol, '-- chebiID =', chebiID)"
   ]
  },
  {
   "cell_type": "code",
   "execution_count": null,
   "metadata": {
    "ExecuteTime": {
     "end_time": "2018-10-16T03:18:25.347003Z",
     "start_time": "2018-10-16T03:18:21.305722Z"
    }
   },
   "outputs": [],
   "source": [
    "from molecule import *\n",
    "from CHEBI_IO import *\n",
    "molec = molecule(mol, 'reactant', 'BRENDA', chebiID)\n",
    "molec.chebiID = molec.DB_ID\n",
    "get_cmpd_information(molec)\n",
    "\n",
    "print('this result is not right, the chebiID that was input links to a molecule!')"
   ]
  },
  {
   "cell_type": "code",
   "execution_count": null,
   "metadata": {
    "ExecuteTime": {
     "end_time": "2018-10-16T03:18:49.660781Z",
     "start_time": "2018-10-16T03:18:49.653213Z"
    }
   },
   "outputs": [],
   "source": [
    "import DB_functions"
   ]
  },
  {
   "cell_type": "code",
   "execution_count": null,
   "metadata": {
    "ExecuteTime": {
     "end_time": "2018-10-16T03:20:55.749151Z",
     "start_time": "2018-10-16T03:20:55.606633Z"
    }
   },
   "outputs": [],
   "source": [
    "DB_prop = DB_functions.get_DB_prop('CHEBI')\n",
    "compounds_file = DB_prop[0]+DB_prop[1]['cmpds_file']\n",
    "names_file = DB_prop[0]+DB_prop[1]['names_file']\n",
    "structures_file = DB_prop[0]+DB_prop[1]['strct_file']\n",
    "\n",
    "# set name by searching compound file\n",
    "res = search_for_compound_by_id(compounds_file, molec.chebiID)\n",
    "print(res)\n",
    "ID, parent_id, name, star = res\n",
    "if parent_id != 'null':\n",
    "    print('oi')"
   ]
  },
  {
   "cell_type": "code",
   "execution_count": null,
   "metadata": {
    "ExecuteTime": {
     "end_time": "2018-10-16T03:26:25.911516Z",
     "start_time": "2018-10-16T03:26:21.965351Z"
    }
   },
   "outputs": [],
   "source": [
    "# get structure using CHEBI ID\n",
    "# structures.csv - read in, get COMPOUND ID match then extract the\n",
    "# get SMILES\n",
    "structure, s_type = get_structure(structures_file, molec.chebiID)\n",
    "print(structure, s_type)\n",
    "print('this result is not right, the chebiID that was input links to a molecule!')"
   ]
  },
  {
   "cell_type": "code",
   "execution_count": null,
   "metadata": {
    "ExecuteTime": {
     "end_time": "2018-10-16T03:37:47.456035Z",
     "start_time": "2018-10-16T03:37:47.441650Z"
    }
   },
   "outputs": [],
   "source": [
    "from chembl_webresource_client.new_client import new_client\n",
    "molecule = new_client.molecule\n",
    "res = molecule.search(mol)  # 'viagra')\n",
    "# guaiacol"
   ]
  },
  {
   "cell_type": "code",
   "execution_count": null,
   "metadata": {
    "ExecuteTime": {
     "end_time": "2018-10-16T03:39:37.490367Z",
     "start_time": "2018-10-16T03:37:52.154990Z"
    }
   },
   "outputs": [],
   "source": [
    "print('there are', len(res), 'top search candidates:')\n",
    "for i in range(len(res)):\n",
    "    print('option:', i, 'name:', res[i]['pref_name'])\n",
    "    print([res[i]['molecule_synonyms'][j]['synonyms'] for j in range(len(res[i]['molecule_synonyms']))])"
   ]
  },
  {
   "cell_type": "code",
   "execution_count": null,
   "metadata": {},
   "outputs": [],
   "source": [
    "if structure is not None:\n",
    "    # is structure a MolBlock or Smiles\n",
    "    if s_type == 'mol':\n",
    "        # convert structure to SMILEs\n",
    "        rdkitmol = Chem.MolFromMolBlock(structure)\n",
    "        if rdkitmol is None:\n",
    "            print('structure could not be deciphered')\n",
    "            smile = None\n",
    "            molec.SMILES = smile\n",
    "            molec.mol = None\n",
    "            print('probably a polymeric structure - skipping.')\n",
    "        else:\n",
    "            rdkitmol.Compute2DCoords()\n",
    "            smile = Chem.MolToSmiles(rdkitmol)\n",
    "            molec.SMILES = smile\n",
    "            # remove molecules with generalised atoms\n",
    "            if '*' in smile:\n",
    "                molec.mol = None\n",
    "            else:\n",
    "                molec.mol = rdkitmol\n",
    "    elif s_type == 'SMILES':\n",
    "        smile = structure\n",
    "        rdkitmol = Chem.MolFromSmiles(smile)\n",
    "        if rdkitmol is None:\n",
    "            print('structure could not be deciphered')\n",
    "            molec.SMILES = smile\n",
    "            molec.mol = None\n",
    "        else:\n",
    "            rdkitmol.Compute2DCoords()\n",
    "            molec.SMILES = smile\n",
    "            # remove molecules with generalised atoms\n",
    "            if '*' in smile:\n",
    "                molec.mol = None\n",
    "            else:\n",
    "                molec.mol = rdkitmol\n",
    "    elif s_type == 'InChI':\n",
    "        rdkitmol = Chem.MolFromInchi(structure)\n",
    "        rdkitmol.Compute2DCoords()\n",
    "        smile = Chem.MolToSmiles(rdkitmol)\n",
    "        molec.SMILES = smile\n",
    "        # remove molecules with generalised atoms\n",
    "        if '*' in smile:\n",
    "            molec.mol = None\n",
    "        else:\n",
    "            molec.mol = rdkitmol\n",
    "    elif s_type == 'InChIKey':\n",
    "        rdkitmol = Chem.MolFromInchi(structure)\n",
    "        rdkitmol.Compute2DCoords()\n",
    "        smile = None\n",
    "        molec.SMILES = smile\n",
    "        molec.mol = None\n",
    "        print('molecule given as InChIKey - ambiguous')\n",
    "        print('probably a generic structure - skipping.')\n",
    "else:\n",
    "    smile = None\n",
    "    molec.SMILES = smile\n",
    "    molec.mol = None\n",
    "    print('molecule does not have recorded structure in CHEBI DB')\n",
    "    print('probably a generic structure - skipping.')\n"
   ]
  },
  {
   "cell_type": "code",
   "execution_count": null,
   "metadata": {
    "ExecuteTime": {
     "end_time": "2018-10-16T04:06:17.641608Z",
     "start_time": "2018-10-16T04:06:17.634854Z"
    }
   },
   "outputs": [],
   "source": [
    "# test libChEBIpy (https://github.com/libChEBI/libChEBIpy)\n",
    "from libchebipy import ChebiEntity\n",
    "print(molec.chebiID)\n",
    "entity = ChebiEntity(molec.chebiID) "
   ]
  },
  {
   "cell_type": "code",
   "execution_count": null,
   "metadata": {
    "ExecuteTime": {
     "end_time": "2018-10-16T04:15:47.510322Z",
     "start_time": "2018-10-16T04:15:47.500326Z"
    }
   },
   "outputs": [],
   "source": [
    "entity = ChebiEntity('1000') "
   ]
  },
  {
   "cell_type": "code",
   "execution_count": null,
   "metadata": {
    "ExecuteTime": {
     "end_time": "2018-10-16T04:15:47.819728Z",
     "start_time": "2018-10-16T04:15:47.811662Z"
    }
   },
   "outputs": [],
   "source": [
    "entity.get_smiles()"
   ]
  },
  {
   "cell_type": "code",
   "execution_count": null,
   "metadata": {
    "ExecuteTime": {
     "end_time": "2018-10-16T04:15:00.154192Z",
     "start_time": "2018-10-16T04:15:00.137302Z"
    }
   },
   "outputs": [],
   "source": [
    "if entity['_ChebiEntity__all_ids'] is None:\n",
    "    print('hey')"
   ]
  },
  {
   "cell_type": "code",
   "execution_count": null,
   "metadata": {
    "ExecuteTime": {
     "end_time": "2018-10-16T04:06:18.314207Z",
     "start_time": "2018-10-16T04:06:18.295831Z"
    }
   },
   "outputs": [],
   "source": [
    "entity.get_formula()"
   ]
  },
  {
   "cell_type": "code",
   "execution_count": null,
   "metadata": {
    "ExecuteTime": {
     "end_time": "2018-10-16T04:06:18.856494Z",
     "start_time": "2018-10-16T04:06:18.843149Z"
    }
   },
   "outputs": [],
   "source": [
    "entity.get_smiles()"
   ]
  },
  {
   "cell_type": "code",
   "execution_count": null,
   "metadata": {
    "ExecuteTime": {
     "end_time": "2018-10-16T04:06:05.927652Z",
     "start_time": "2018-10-16T04:06:05.916711Z"
    }
   },
   "outputs": [],
   "source": [
    "import libchebipy._parsers as parsers\n",
    "#print(parsers.get_names(37448))\n",
    "print(parsers.get_smiles('37448'))"
   ]
  },
  {
   "cell_type": "markdown",
   "metadata": {},
   "source": [
    "## Testing New KEGG API usage on 11/12/18"
   ]
  },
  {
   "cell_type": "code",
   "execution_count": 211,
   "metadata": {},
   "outputs": [
    {
     "name": "stdout",
     "output_type": "stream",
     "text": [
      "http://rest.kegg.jp/get/C00017/mol\n",
      "False\n",
      "True\n"
     ]
    }
   ],
   "source": [
    "import requests\n",
    "# KEGG_ID = 'C05615'\n",
    "KEGG_ID = 'C00017'\n",
    "# KEGG_ID = 'C00267'\n",
    "URL = 'http://rest.kegg.jp/get/'+KEGG_ID+'/mol'\n",
    "print(URL)\n",
    "request = requests.post(URL)\n",
    "print(request.status_code == 404)\n",
    "output = request.text\n",
    "print(request.status_code == 200)\n",
    "# print(output)"
   ]
  },
  {
   "cell_type": "code",
   "execution_count": 212,
   "metadata": {},
   "outputs": [
    {
     "data": {
      "text/plain": [
       "' \\n \\n \\n 11 10  0  0  1  0  0  0  0  0999 V2000\\n   23.5200  -21.2800    0.0000 N   0  0  0  0  0  0  0  0  0  0  0  0\\n   24.7100  -20.5800    0.0000 C   0  0  3  0  0  0  0  0  0  0  0  0\\n   25.9700  -21.2800    0.0000 C   0  0  0  0  0  0  0  0  0  0  0  0\\n   27.1600  -20.5800    0.0000 N   0  0  0  0  0  0  0  0  0  0  0  0\\n   25.9700  -22.6800    0.0000 O   0  0  0  0  0  0  0  0  0  0  0  0\\n   28.3500  -21.2800    0.0000 C   0  0  0  0  0  0  0  0  0  0  0  0\\n   28.3500  -22.6800    0.0000 R   0  0  0  0  0  0  0  0  0  0  0  0\\n   29.6100  -20.5800    0.0000 C   0  0  0  0  0  0  0  0  0  0  0  0\\n   29.6100  -19.1800    0.0000 O   0  0  0  0  0  0  0  0  0  0  0  0\\n   30.8000  -21.2800    0.0000 O   0  0  0  0  0  0  0  0  0  0  0  0\\n   24.7100  -19.1800    0.0000 R   0  0  0  0  0  0  0  0  0  0  0  0\\n  1  2  1  0     0  0\\n  2  3  1  0     0  0\\n  3  4  1  0     0  0\\n  3  5  2  0     0  0\\n  4  6  1  0     0  0\\n  6  7  1  6     0  0\\n  6  8  1  0     0  0\\n  8  9  2  0     0  0\\n  8 10  1  0     0  0\\n  2 11  1  1     0  0\\nM  STY  1   1 SRU\\nM  SLB  1   1   1\\nM  SCN  1   1 HT \\nM  SAL   1  5   3   4   5   6   7\\nM  SDI   1  4   25.8300  -23.5900   25.8300  -19.1100\\nM  SDI   1  4   28.4900  -19.1100   28.4900  -23.5900\\nM  SMT   1 n\\nM  END\\n\\n> <ENTRY>\\ncpd:C00017\\n\\n$$$$\\n'"
      ]
     },
     "execution_count": 212,
     "metadata": {},
     "output_type": "execute_result"
    }
   ],
   "source": [
    "output"
   ]
  },
  {
   "cell_type": "code",
   "execution_count": 213,
   "metadata": {},
   "outputs": [],
   "source": [
    "output = output.split('\\n')\n",
    "output[1] = '     RDKit          2D'\n",
    "output = '\\n'.join(output)"
   ]
  },
  {
   "cell_type": "code",
   "execution_count": 214,
   "metadata": {},
   "outputs": [
    {
     "name": "stdout",
     "output_type": "stream",
     "text": [
      " \n",
      "     RDKit          2D\n",
      " \n",
      " 11 10  0  0  1  0  0  0  0  0999 V2000\n",
      "   23.5200  -21.2800    0.0000 N   0  0  0  0  0  0  0  0  0  0  0  0\n",
      "   24.7100  -20.5800    0.0000 C   0  0  3  0  0  0  0  0  0  0  0  0\n",
      "   25.9700  -21.2800    0.0000 C   0  0  0  0  0  0  0  0  0  0  0  0\n",
      "   27.1600  -20.5800    0.0000 N   0  0  0  0  0  0  0  0  0  0  0  0\n",
      "   25.9700  -22.6800    0.0000 O   0  0  0  0  0  0  0  0  0  0  0  0\n",
      "   28.3500  -21.2800    0.0000 C   0  0  0  0  0  0  0  0  0  0  0  0\n",
      "   28.3500  -22.6800    0.0000 R   0  0  0  0  0  0  0  0  0  0  0  0\n",
      "   29.6100  -20.5800    0.0000 C   0  0  0  0  0  0  0  0  0  0  0  0\n",
      "   29.6100  -19.1800    0.0000 O   0  0  0  0  0  0  0  0  0  0  0  0\n",
      "   30.8000  -21.2800    0.0000 O   0  0  0  0  0  0  0  0  0  0  0  0\n",
      "   24.7100  -19.1800    0.0000 R   0  0  0  0  0  0  0  0  0  0  0  0\n",
      "  1  2  1  0     0  0\n",
      "  2  3  1  0     0  0\n",
      "  3  4  1  0     0  0\n",
      "  3  5  2  0     0  0\n",
      "  4  6  1  0     0  0\n",
      "  6  7  1  6     0  0\n",
      "  6  8  1  0     0  0\n",
      "  8  9  2  0     0  0\n",
      "  8 10  1  0     0  0\n",
      "  2 11  1  1     0  0\n",
      "M  STY  1   1 SRU\n",
      "M  SLB  1   1   1\n",
      "M  SCN  1   1 HT \n",
      "M  SAL   1  5   3   4   5   6   7\n",
      "M  SDI   1  4   25.8300  -23.5900   25.8300  -19.1100\n",
      "M  SDI   1  4   28.4900  -19.1100   28.4900  -23.5900\n",
      "M  SMT   1 n\n",
      "M  END\n",
      "\n",
      "> <ENTRY>\n",
      "cpd:C00017\n",
      "\n",
      "$$$$\n",
      "\n"
     ]
    }
   ],
   "source": [
    "print(output)"
   ]
  },
  {
   "cell_type": "code",
   "execution_count": 215,
   "metadata": {},
   "outputs": [
    {
     "name": "stderr",
     "output_type": "stream",
     "text": [
      "RDKit ERROR: [01:28:42]  Unhandled CTAB feature: S group SRU on line: 26. Molecule skipped.\n"
     ]
    }
   ],
   "source": [
    "mol = Chem.MolFromMolBlock(output)\n",
    "# mol = Chem.MolFromMolFile('temp3.mol')\n",
    "# mol = Chem.MolFromSmiles('C([C@@H]1[C@H]([C@@H]([C@H](C(O1)O)O)O)O)O')\n",
    "# smiles = Chem.MolToSmiles(mol)"
   ]
  },
  {
   "cell_type": "code",
   "execution_count": 217,
   "metadata": {},
   "outputs": [
    {
     "data": {
      "text/plain": [
       "True"
      ]
     },
     "execution_count": 217,
     "metadata": {},
     "output_type": "execute_result"
    }
   ],
   "source": [
    "mol is None"
   ]
  },
  {
   "cell_type": "code",
   "execution_count": 195,
   "metadata": {},
   "outputs": [
    {
     "name": "stdout",
     "output_type": "stream",
     "text": [
      "[(0, 'R'), (1, 'S'), (4, 'S'), (8, 'R')]\n",
      "OC[C@H]1OC(O)[C@H](O)[C@@H](O)[C@@H]1O\n"
     ]
    }
   ],
   "source": [
    "print(Chem.FindMolChiralCenters(mol))\n",
    "print(smiles)"
   ]
  },
  {
   "cell_type": "code",
   "execution_count": 196,
   "metadata": {},
   "outputs": [
    {
     "data": {
      "image/png": "[encoded data removed]",
      "text/plain": [
       "<rdkit.Chem.rdchem.Mol at 0x7f5b6083ecb0>"
      ]
     },
     "execution_count": 196,
     "metadata": {},
     "output_type": "execute_result"
    }
   ],
   "source": [
    "mol"
   ]
  },
  {
   "cell_type": "code",
   "execution_count": 189,
   "metadata": {},
   "outputs": [
    {
     "data": {
      "image/png": "[encoded data removed]",
      "text/plain": [
       "<rdkit.Chem.rdchem.Mol at 0x7f5b608baf80>"
      ]
     },
     "execution_count": 189,
     "metadata": {},
     "output_type": "execute_result"
    }
   ],
   "source": [
    "mol"
   ]
  },
  {
   "cell_type": "code",
   "execution_count": 182,
   "metadata": {},
   "outputs": [
    {
     "data": {
      "image/png": "[encoded data removed]",
      "text/plain": [
       "<rdkit.Chem.rdchem.Mol at 0x7f5b6092ebc0>"
      ]
     },
     "execution_count": 182,
     "metadata": {},
     "output_type": "execute_result"
    }
   ],
   "source": [
    "mol"
   ]
  },
  {
   "cell_type": "code",
   "execution_count": 145,
   "metadata": {},
   "outputs": [
    {
     "name": "stdout",
     "output_type": "stream",
     "text": [
      "CHI_TETRAHEDRAL_CW\n",
      "CHI_UNSPECIFIED\n",
      "CHI_UNSPECIFIED\n",
      "CHI_UNSPECIFIED\n",
      "CHI_UNSPECIFIED\n",
      "CHI_UNSPECIFIED\n"
     ]
    }
   ],
   "source": [
    "for atom in mol.GetAtoms():\n",
    "    print(atom.GetChiralTag())"
   ]
  },
  {
   "cell_type": "code",
   "execution_count": 86,
   "metadata": {},
   "outputs": [
    {
     "data": {
      "application/3dmoljs_load.v0": "<div id=\"3dmolviewer_15445357079618337\"  style=\"position: relative; width: 400px; height: 400px\">\n        <p id=\"3dmolwarning_15445357079618337\" style=\"background-color:#ffcccc;color:black\">You appear to be running in JupyterLab.  You need to install the 3dmol extension: <br>\n        <tt>jupyter labextension install jupyterlab_3dmol</tt></p>\n        </div>\n<script>\n\nvar loadScriptAsync = function(uri){\n  return new Promise((resolve, reject) => {\n    var tag = document.createElement('script');\n    tag.src = uri;\n    tag.async = true;\n    tag.onload = () => {\n      resolve();\n    };\n  var firstScriptTag = document.getElementsByTagName('script')[0];\n  firstScriptTag.parentNode.insertBefore(tag, firstScriptTag);\n});\n};\n\nif(typeof $3Dmolpromise === 'undefined') {\n$3Dmolpromise = null;\n  $3Dmolpromise = loadScriptAsync('https://3dmol.csb.pitt.edu/build/3Dmol.js');\n}\n\nvar viewer_15445357079618337 = null;\nvar warn = document.getElementById(\"3dmolwarning_15445357079618337\");\nif(warn) {\n    warn.parentNode.removeChild(warn);\n}\n$3Dmolpromise.then(function() {\nviewer_15445357079618337 = $3Dmol.createViewer($(\"#3dmolviewer_15445357079618337\"),{backgroundColor:\"white\"});\n\tviewer_15445357079618337.addModel(\" \\n     RDKit          3D\\n\\n 24 24  0  0  1  0  0  0  0  0999 V2000\\n    1.1169   -0.1138   -0.6765 C   0  0  0  0  0  0  0  0  0  0  0  0\\n    0.3133    1.0402   -0.0095 C   0  0  0  0  0  0  0  0  0  0  0  0\\n    0.3598   -1.2897   -0.9616 O   0  0  0  0  0  0  0  0  0  0  0  0\\n    2.4017   -0.4661    0.0923 C   0  0  0  0  0  0  0  0  0  0  0  0\\n   -1.1294    1.0126   -0.5412 C   0  0  0  0  0  0  0  0  0  0  0  0\\n    0.9232    2.2692   -0.3152 O   0  0  0  0  0  0  0  0  0  0  0  0\\n   -0.7228   -1.4779   -0.0667 C   0  0  0  0  0  0  0  0  0  0  0  0\\n    2.1136   -1.0681    1.3262 O   0  0  0  0  0  0  0  0  0  0  0  0\\n   -1.7828   -0.3653   -0.2519 C   0  0  0  0  0  0  0  0  0  0  0  0\\n   -1.8894    2.0456    0.0361 O   0  0  0  0  0  0  0  0  0  0  0  0\\n   -1.3179   -2.7212   -0.3206 O   0  0  0  0  0  0  0  0  0  0  0  0\\n   -2.6339   -0.3169    0.8680 O   0  0  0  0  0  0  0  0  0  0  0  0\\n    1.4517    0.2710   -1.6657 H   0  0  0  0  0  0  0  0  0  0  0  0\\n    0.2881    0.8935    1.0963 H   0  0  0  0  0  0  0  0  0  0  0  0\\n    2.9943   -1.1837   -0.5142 H   0  0  0  0  0  0  0  0  0  0  0  0\\n    3.0307    0.4450    0.2266 H   0  0  0  0  0  0  0  0  0  0  0  0\\n   -1.0947    1.1491   -1.6499 H   0  0  0  0  0  0  0  0  0  0  0  0\\n    0.6687    2.9067    0.4020 H   0  0  0  0  0  0  0  0  0  0  0  0\\n   -0.3567   -1.4764    0.9867 H   0  0  0  0  0  0  0  0  0  0  0  0\\n    2.1089   -0.3469    2.0079 H   0  0  0  0  0  0  0  0  0  0  0  0\\n   -2.4109   -0.6237   -1.1334 H   0  0  0  0  0  0  0  0  0  0  0  0\\n   -1.7086    2.8689   -0.4885 H   0  0  0  0  0  0  0  0  0  0  0  0\\n   -0.6377   -3.4090   -0.0973 H   0  0  0  0  0  0  0  0  0  0  0  0\\n   -2.0861   -0.0430    1.6499 H   0  0  0  0  0  0  0  0  0  0  0  0\\n  1  2  1  0\\n  1  3  1  0\\n  1  4  1  0\\n  2  5  1  0\\n  2  6  1  0\\n  3  7  1  0\\n  4  8  1  0\\n  5  9  1  0\\n  5 10  1  0\\n  7 11  1  0\\n  9 12  1  0\\n  7  9  1  0\\n  1 13  1  0\\n  2 14  1  0\\n  4 15  1  0\\n  4 16  1  0\\n  5 17  1  0\\n  6 18  1  0\\n  7 19  1  0\\n  8 20  1  0\\n  9 21  1  0\\n 10 22  1  0\\n 11 23  1  0\\n 12 24  1  0\\nM  END\\n\",\"sdf\");\n\tviewer_15445357079618337.setStyle({\"stick\": {}});\n\tviewer_15445357079618337.setBackgroundColor(\"0xeeeeee\");\n\tviewer_15445357079618337.zoomTo();\nviewer_15445357079618337.render();\n});\n</script>",
      "text/html": [
       "<div id=\"3dmolviewer_15445357079618337\"  style=\"position: relative; width: 400px; height: 400px\">\n",
       "        <p id=\"3dmolwarning_15445357079618337\" style=\"background-color:#ffcccc;color:black\">You appear to be running in JupyterLab.  You need to install the 3dmol extension: <br>\n",
       "        <tt>jupyter labextension install jupyterlab_3dmol</tt></p>\n",
       "        </div>\n",
       "<script>\n",
       "\n",
       "var loadScriptAsync = function(uri){\n",
       "  return new Promise((resolve, reject) => {\n",
       "    var tag = document.createElement('script');\n",
       "    tag.src = uri;\n",
       "    tag.async = true;\n",
       "    tag.onload = () => {\n",
       "      resolve();\n",
       "    };\n",
       "  var firstScriptTag = document.getElementsByTagName('script')[0];\n",
       "  firstScriptTag.parentNode.insertBefore(tag, firstScriptTag);\n",
       "});\n",
       "};\n",
       "\n",
       "if(typeof $3Dmolpromise === 'undefined') {\n",
       "$3Dmolpromise = null;\n",
       "  $3Dmolpromise = loadScriptAsync('https://3dmol.csb.pitt.edu/build/3Dmol.js');\n",
       "}\n",
       "\n",
       "var viewer_15445357079618337 = null;\n",
       "var warn = document.getElementById(\"3dmolwarning_15445357079618337\");\n",
       "if(warn) {\n",
       "    warn.parentNode.removeChild(warn);\n",
       "}\n",
       "$3Dmolpromise.then(function() {\n",
       "viewer_15445357079618337 = $3Dmol.createViewer($(\"#3dmolviewer_15445357079618337\"),{backgroundColor:\"white\"});\n",
       "\tviewer_15445357079618337.addModel(\" \\n     RDKit          3D\\n\\n 24 24  0  0  1  0  0  0  0  0999 V2000\\n    1.1169   -0.1138   -0.6765 C   0  0  0  0  0  0  0  0  0  0  0  0\\n    0.3133    1.0402   -0.0095 C   0  0  0  0  0  0  0  0  0  0  0  0\\n    0.3598   -1.2897   -0.9616 O   0  0  0  0  0  0  0  0  0  0  0  0\\n    2.4017   -0.4661    0.0923 C   0  0  0  0  0  0  0  0  0  0  0  0\\n   -1.1294    1.0126   -0.5412 C   0  0  0  0  0  0  0  0  0  0  0  0\\n    0.9232    2.2692   -0.3152 O   0  0  0  0  0  0  0  0  0  0  0  0\\n   -0.7228   -1.4779   -0.0667 C   0  0  0  0  0  0  0  0  0  0  0  0\\n    2.1136   -1.0681    1.3262 O   0  0  0  0  0  0  0  0  0  0  0  0\\n   -1.7828   -0.3653   -0.2519 C   0  0  0  0  0  0  0  0  0  0  0  0\\n   -1.8894    2.0456    0.0361 O   0  0  0  0  0  0  0  0  0  0  0  0\\n   -1.3179   -2.7212   -0.3206 O   0  0  0  0  0  0  0  0  0  0  0  0\\n   -2.6339   -0.3169    0.8680 O   0  0  0  0  0  0  0  0  0  0  0  0\\n    1.4517    0.2710   -1.6657 H   0  0  0  0  0  0  0  0  0  0  0  0\\n    0.2881    0.8935    1.0963 H   0  0  0  0  0  0  0  0  0  0  0  0\\n    2.9943   -1.1837   -0.5142 H   0  0  0  0  0  0  0  0  0  0  0  0\\n    3.0307    0.4450    0.2266 H   0  0  0  0  0  0  0  0  0  0  0  0\\n   -1.0947    1.1491   -1.6499 H   0  0  0  0  0  0  0  0  0  0  0  0\\n    0.6687    2.9067    0.4020 H   0  0  0  0  0  0  0  0  0  0  0  0\\n   -0.3567   -1.4764    0.9867 H   0  0  0  0  0  0  0  0  0  0  0  0\\n    2.1089   -0.3469    2.0079 H   0  0  0  0  0  0  0  0  0  0  0  0\\n   -2.4109   -0.6237   -1.1334 H   0  0  0  0  0  0  0  0  0  0  0  0\\n   -1.7086    2.8689   -0.4885 H   0  0  0  0  0  0  0  0  0  0  0  0\\n   -0.6377   -3.4090   -0.0973 H   0  0  0  0  0  0  0  0  0  0  0  0\\n   -2.0861   -0.0430    1.6499 H   0  0  0  0  0  0  0  0  0  0  0  0\\n  1  2  1  0\\n  1  3  1  0\\n  1  4  1  0\\n  2  5  1  0\\n  2  6  1  0\\n  3  7  1  0\\n  4  8  1  0\\n  5  9  1  0\\n  5 10  1  0\\n  7 11  1  0\\n  9 12  1  0\\n  7  9  1  0\\n  1 13  1  0\\n  2 14  1  0\\n  4 15  1  0\\n  4 16  1  0\\n  5 17  1  0\\n  6 18  1  0\\n  7 19  1  0\\n  8 20  1  0\\n  9 21  1  0\\n 10 22  1  0\\n 11 23  1  0\\n 12 24  1  0\\nM  END\\n\",\"sdf\");\n",
       "\tviewer_15445357079618337.setStyle({\"stick\": {}});\n",
       "\tviewer_15445357079618337.setBackgroundColor(\"0xeeeeee\");\n",
       "\tviewer_15445357079618337.zoomTo();\n",
       "viewer_15445357079618337.render();\n",
       "});\n",
       "</script>"
      ]
     },
     "metadata": {},
     "output_type": "display_data"
    }
   ],
   "source": [
    "mol = Chem.AddHs(mol)\n",
    "cids = Chem.EmbedMultipleConfs(mol, numConfs=10, randomSeed=0xf00d, \n",
    "                        useExpTorsionAnglePrefs=True,\n",
    "                        useBasicKnowledge=True)\n",
    "# quick UFF optimize\n",
    "for cid in cids:\n",
    "    Chem.UFFOptimizeMolecule(mol, confId=cid)\n",
    "p = py3Dmol.view(width=400,height=400)\n",
    "for confId in range(1):\n",
    "    drawit2(mol, p, confId)\n",
    "p.show()"
   ]
  },
  {
   "cell_type": "markdown",
   "metadata": {},
   "source": [
    "##  Random Code"
   ]
  },
  {
   "cell_type": "code",
   "execution_count": 54,
   "metadata": {},
   "outputs": [],
   "source": [
    "from rdkit.Chem import Descriptors, Crippen"
   ]
  },
  {
   "cell_type": "code",
   "execution_count": 111,
   "metadata": {},
   "outputs": [
    {
     "data": {
      "image/png": "[encoded data removed]",
      "text/plain": [
       "<rdkit.Chem.rdchem.Mol at 0x7f0538b283f0>"
      ]
     },
     "execution_count": 111,
     "metadata": {},
     "output_type": "execute_result"
    }
   ],
   "source": [
    "Chem.MolFromSmiles('CC(=O)[O-]')"
   ]
  },
  {
   "cell_type": "code",
   "execution_count": 112,
   "metadata": {},
   "outputs": [
    {
     "data": {
      "image/png": "[encoded data removed]",
      "text/plain": [
       "<rdkit.Chem.rdchem.Mol at 0x7f0538f39940>"
      ]
     },
     "execution_count": 112,
     "metadata": {},
     "output_type": "execute_result"
    }
   ],
   "source": [
    "Chem.AddHs(Chem.MolFromSmiles('CC(=O)[O-]'))"
   ]
  },
  {
   "cell_type": "code",
   "execution_count": 113,
   "metadata": {},
   "outputs": [
    {
     "data": {
      "image/png": "[encoded data removed]",
      "text/plain": [
       "<rdkit.Chem.rdchem.Mol at 0x7f0538b1cbc0>"
      ]
     },
     "execution_count": 113,
     "metadata": {},
     "output_type": "execute_result"
    }
   ],
   "source": [
    "Chem.MolFromSmiles('CC(=O)O')"
   ]
  },
  {
   "cell_type": "code",
   "execution_count": 114,
   "metadata": {},
   "outputs": [
    {
     "data": {
      "image/png": "[encoded data removed]",
      "text/plain": [
       "<rdkit.Chem.rdchem.Mol at 0x7f0539fa3ad0>"
      ]
     },
     "execution_count": 114,
     "metadata": {},
     "output_type": "execute_result"
    }
   ],
   "source": [
    "Chem.AddHs(Chem.MolFromSmiles('CC(=O)O'))"
   ]
  },
  {
   "cell_type": "code",
   "execution_count": 47,
   "metadata": {},
   "outputs": [],
   "source": [
    "def get_logSw(mol):\n",
    "    \"\"\"Get water solubility using RDKit as described here:\n",
    "    https://github.com/PatWalters/solubility. Using the newly paramterized\n",
    "    function.\n",
    "\n",
    "    \"\"\"\n",
    "    from ercollect.solubility.esol import ESOLCalculator\n",
    "    esol_calculator = ESOLCalculator()\n",
    "    logS = esol_calculator.calc_esol(mol)\n",
    "    return logS"
   ]
  },
  {
   "cell_type": "code",
   "execution_count": 85,
   "metadata": {},
   "outputs": [
    {
     "name": "stdout",
     "output_type": "stream",
     "text": [
      "-1.8381714841261103\n",
      "2.1965000000000003\n",
      "2.3392000000000013\n"
     ]
    }
   ],
   "source": [
    "print(get_logSw(Chem.MolFromSmiles('CCCCC')))\n",
    "print(Descriptors.MolLogP(Chem.MolFromSmiles('CCCCC')))\n",
    "print(Crippen.MolLogP(Chem.MolFromSmiles('CCCCCCCCO')))"
   ]
  },
  {
   "cell_type": "code",
   "execution_count": null,
   "metadata": {},
   "outputs": [],
   "source": [
    "If you want all possible names for a molecule (from the SMILES string) using Python:\n",
    "\n",
    ">>> from cinfony import webel, pybel\n",
    ">>> mol = pybel.readstring(\"smi\", \"C(=O)C=C\")\n",
    ">>> name = webel.Molecule(mol).write(\"names\")\n",
    ">>> print(name)\n",
    "\n",
    "['prop-2-enal', 'Acrolein', .."
   ]
  },
  {
   "cell_type": "code",
   "execution_count": 92,
   "metadata": {},
   "outputs": [],
   "source": [
    "file = '/home/atarzia/psp/sequence_db/full_dataset/5__BRENDA_sequences_output.csv'"
   ]
  },
  {
   "cell_type": "code",
   "execution_count": 93,
   "metadata": {},
   "outputs": [],
   "source": [
    "import pandas as pd\n",
    "import matplotlib.pyplot as plt"
   ]
  },
  {
   "cell_type": "code",
   "execution_count": 94,
   "metadata": {},
   "outputs": [],
   "source": [
    "output = pd.read_table(file, delimiter='@', skiprows=[0],\n",
    "                           names=['acc_code', 'organism', 'EC_code',\n",
    "                                  'species', 'note', 'pI', 'GRAVY',\n",
    "                                  'I_index', 'A_index', 'TM_index'],\n",
    "                           engine='python')"
   ]
  },
  {
   "cell_type": "code",
   "execution_count": 106,
   "metadata": {},
   "outputs": [
    {
     "data": {
      "text/plain": [
       "(0, 7)"
      ]
     },
     "execution_count": 106,
     "metadata": {},
     "output_type": "execute_result"
    },
    {
     "data": {
      "image/png": "[encoded data removed]",
      "text/plain": [
       "<Figure size 432x288 with 1 Axes>"
      ]
     },
     "metadata": {},
     "output_type": "display_data"
    }
   ],
   "source": [
    "fig, ax = plt.subplots()\n",
    "parts = ax.violinplot(output.GRAVY, [1],\n",
    "               showmeans=False,\n",
    "               showmedians=False,\n",
    "               showextrema=False,)\n",
    "for pc in parts['bodies']:\n",
    "    pc.set_facecolor('purple')\n",
    "    pc.set_edgecolor('black')\n",
    "    pc.set_alpha(1)\n",
    "# ax.violinplot(output.GRAVY, [2],\n",
    "#                showmeans=False,\n",
    "#                showmedians=False)\n",
    "# ax.violinplot(output.GRAVY, [3],\n",
    "#                showmeans=False,\n",
    "#                showmedians=False)\n",
    "# ax.violinplot(output.GRAVY, [4],\n",
    "#                showmeans=False,\n",
    "#                showmedians=False)\n",
    "# ax.violinplot(output.GRAVY, [5],\n",
    "#                showmeans=False,\n",
    "#                showmedians=False)\n",
    "\n",
    "ax.text(0.21, -2,\n",
    "        'more stable', fontsize=16, ha= 'left', va= 'bottom',\n",
    "        rotation=90)\n",
    "ax.arrow(0.5, -2, 0, 3,\n",
    "         head_width=0.2, head_length=0.2, fc='k',\n",
    "         ec='k')\n",
    "ax.set_xlim(0, 7)"
   ]
  },
  {
   "cell_type": "code",
   "execution_count": null,
   "metadata": {},
   "outputs": [],
   "source": []
  },
  {
   "cell_type": "code",
   "execution_count": null,
   "metadata": {},
   "outputs": [],
   "source": []
  }
 ],
 "metadata": {
  "kernelspec": {
   "display_name": "Python 3",
   "language": "python",
   "name": "python3"
  },
  "language_info": {
   "codemirror_mode": {
    "name": "ipython",
    "version": 3
   },
   "file_extension": ".py",
   "mimetype": "text/x-python",
   "name": "python",
   "nbconvert_exporter": "python",
   "pygments_lexer": "ipython3",
   "version": "3.6.5"
  }
 },
 "nbformat": 4,
 "nbformat_minor": 2
}
