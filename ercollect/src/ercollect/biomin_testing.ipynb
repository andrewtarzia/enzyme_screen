{
 "cells": [
  {
   "cell_type": "code",
   "execution_count": 1,
   "metadata": {
    "ExecuteTime": {
     "end_time": "2018-08-16T12:58:08.962914Z",
     "start_time": "2018-08-16T12:58:08.888578Z"
    }
   },
   "outputs": [
    {
     "data": {
      "text/html": [
       "<style>.container { width:95% !important; }</style>"
      ],
      "text/plain": [
       "<IPython.core.display.HTML object>"
      ]
     },
     "metadata": {},
     "output_type": "display_data"
    }
   ],
   "source": [
    "from IPython.core.display import HTML\n",
    "display(HTML(\"<style>.container { width:95% !important; }</style>\"))   \n",
    "%load_ext autoreload\n",
    "%autoreload 1"
   ]
  },
  {
   "cell_type": "markdown",
   "metadata": {},
   "source": [
    "Author: Andrew Tarzia\n",
    "\n",
    "Date Created: 12 Jul 2018\n",
    "\n",
    "Distributed under the terms of the MIT License."
   ]
  },
  {
   "cell_type": "markdown",
   "metadata": {},
   "source": [
    "# Notebook for getting molecule parameters using RDKIT\n"
   ]
  },
  {
   "cell_type": "code",
   "execution_count": 2,
   "metadata": {
    "ExecuteTime": {
     "end_time": "2018-07-20T03:02:46.474884Z",
     "start_time": "2018-07-20T03:02:45.933524Z"
    }
   },
   "outputs": [],
   "source": [
    "import numpy as np\n",
    "import pandas as pd\n",
    "import os\n",
    "from rdkit.Chem import AllChem as Chem\n",
    "from rdkit.Chem import Descriptors\n",
    "from rdkit.Chem.Descriptors3D import NPR1, NPR2, PMI1, PMI2, PMI3\n",
    "from rdkit.Chem.Draw.MolDrawing import MolDrawing\n",
    "from rdkit.Chem.Draw import IPythonConsole\n",
    "from rdkit.Chem import Draw\n",
    "from rdkit.Geometry import rdGeometry\n",
    "from rdkit.Chem import PyMol\n",
    "from rdkit import Geometry\n",
    "import tempfile\n",
    "import matplotlib.pyplot as plt\n",
    "%aimport rdkit_functions\n",
    "%aimport ellipsoid"
   ]
  },
  {
   "cell_type": "markdown",
   "metadata": {},
   "source": [
    "# Notes:\n",
    "# Todo:\n",
    "- timing\n",
    " - speed up reading: https://rdkit.blogspot.com/2016/09/avoiding-unnecessary-work-and.html"
   ]
  },
  {
   "cell_type": "code",
   "execution_count": 3,
   "metadata": {
    "ExecuteTime": {
     "end_time": "2018-07-20T03:02:46.479775Z",
     "start_time": "2018-07-20T03:02:46.476049Z"
    }
   },
   "outputs": [],
   "source": [
    "# molecule file dir\n",
    "molecule_file = '/home/atarzia/psp/biomin_assays/molecules/molecules.txt'\n",
    "# output dir\n",
    "output_dir = '/home/atarzia/psp/biomin_assays/molecules/'"
   ]
  },
  {
   "cell_type": "code",
   "execution_count": 4,
   "metadata": {
    "ExecuteTime": {
     "end_time": "2018-07-20T03:02:46.619563Z",
     "start_time": "2018-07-20T03:02:46.588537Z"
    }
   },
   "outputs": [],
   "source": [
    "def define_plot_variables(ax, title, ytitle, xtitle, xlim, ylim):\n",
    "    \"\"\"\n",
    "    Series of matplotlib pyplot settings to make all plots unitform.\n",
    "    \"\"\"\n",
    "    # Set number of ticks for x-axis\n",
    "    ax.tick_params(axis='both', which='major', labelsize=16)\n",
    "\n",
    "    ax.set_ylabel(ytitle, fontsize=16)\n",
    "    # ax.legend([y, n], ['aligned', 'not aligned'], loc=4, fancybox=True)\n",
    "    ax.set_xlim(xlim)\n",
    "    ax.set_ylim(ylim)\n",
    "    ax.set_xticklabels(['diffuses', 'does not diffuse'])\n",
    "    ax.set_xticks([0.25, 0.75])\n",
    "\n",
    "\n",
    "def define_parity_plot_variables(ax, title, ytitle, xtitle, xlim, ylim):\n",
    "    \"\"\"\n",
    "    Series of matplotlib pyplot settings to make all plots unitform.\n",
    "    \"\"\"\n",
    "    # Set number of ticks for x-axis\n",
    "    ax.tick_params(axis='both', which='major', labelsize=16)\n",
    "\n",
    "    ax.set_xlabel(xtitle, fontsize=16)\n",
    "    ax.set_ylabel(ytitle, fontsize=16)\n",
    "    # ax.legend([y, n], ['aligned', 'not aligned'], loc=4, fancybox=True)\n",
    "    ax.set_xlim(xlim)\n",
    "    ax.set_ylim(ylim)\n"
   ]
  },
  {
   "cell_type": "code",
   "execution_count": 5,
   "metadata": {
    "ExecuteTime": {
     "end_time": "2018-07-20T03:02:47.149042Z",
     "start_time": "2018-07-20T03:02:46.852566Z"
    }
   },
   "outputs": [
    {
     "name": "stdout",
     "output_type": "stream",
     "text": [
      "/home/atarzia/psp/biomin_assays/molecules/molecules_1.pdf\n",
      "/home/atarzia/psp/biomin_assays/molecules/molecules_2.pdf\n",
      "/home/atarzia/psp/biomin_assays/molecules/molecules_3.pdf\n"
     ]
    }
   ],
   "source": [
    "df, molecules, diameters = rdkit_functions.read_mol_txt_file(molecule_file)\n",
    "rdkit_functions.produce_quick_fig_mol(molecules, output_dir+'molecules.pdf')"
   ]
  },
  {
   "cell_type": "markdown",
   "metadata": {},
   "source": [
    "## Calculate size and shape"
   ]
  },
  {
   "cell_type": "code",
   "execution_count": 6,
   "metadata": {
    "ExecuteTime": {
     "end_time": "2018-07-20T03:02:47.778048Z",
     "start_time": "2018-07-20T03:02:47.757787Z"
    }
   },
   "outputs": [],
   "source": [
    "try:\n",
    "    v = PyMol.MolViewer()\n",
    "except ConnectionRefusedError:\n",
    "    pass"
   ]
  },
  {
   "cell_type": "code",
   "execution_count": 7,
   "metadata": {
    "ExecuteTime": {
     "end_time": "2018-07-20T03:02:48.709532Z",
     "start_time": "2018-07-20T03:02:48.704076Z"
    }
   },
   "outputs": [
    {
     "data": {
      "text/plain": [
       "{'2,6-dichloroindophenol': 'C1=CC(=O)C=CC1=NC2=CC(=C(C(=C2)Cl)O)Cl',\n",
       " '2-octanol': 'CCCCCCC(C)O',\n",
       " '3-amino-1,2,4-triazole': 'C1=NNC(=N1)N',\n",
       " '5-Methylphenazin-5-ium': 'C[N+]1=C2C=CC=CC2=NC3=CC=CC=C31',\n",
       " 'ABTS': 'CCN1C2=C(C=C(C=C2)S(=O)(=O)[O-])SC1=NN=C3N(C4=C(S3)C=C(C=C4)S(=O)(=O)[O-])CC',\n",
       " 'Amplex Red': 'CC(=O)N1C2=C(C=C(C=C2)O)OC3=C1C=CC(=C3)O',\n",
       " 'D-fructose': 'C1C(C(C(C(O1)(CO)O)O)O)O',\n",
       " 'D-glucose (chain)': 'C(C(C(C(C(C=O)O)O)O)O)O',\n",
       " 'D-glucose (ring)': 'C(C1C(C(C(C(O1)O)O)O)O)O',\n",
       " 'Gluconolactone': 'C(C1C(C(C(C(=O)O1)O)O)O)O',\n",
       " 'L-fructose': 'C(C(C(C(C(=O)CO)O)O)O)O',\n",
       " 'L-lactate': 'CC(C(=O)[O-])[O-]',\n",
       " 'Urea': 'C(=O)(N)N',\n",
       " 'acetic acid': 'CC(=O)O',\n",
       " 'ammonia': 'N',\n",
       " 'butyric acid': 'CCCC(=O)O',\n",
       " 'carbon dioxide': 'C(=O)=O',\n",
       " 'decanoic acid': 'CCCCCCCCCC(=O)O',\n",
       " 'dodecanoic acid': 'CCCCCCCCCCCC(=O)O',\n",
       " 'gluconic acid': 'C(C(C(C(C(C(=O)O)O)O)O)O)O',\n",
       " 'hexanoic acid': 'CCCCCC(=O)O',\n",
       " 'hydrogen peroxide': 'OO',\n",
       " 'methosulfate': 'COS(=O)(=O)[O-]',\n",
       " 'methyl ethyl ketone peroxide': 'CCC(C)(OO)OOC(C)(CC)OO',\n",
       " 'octanoic acid': 'CCCCCCCC(=O)O',\n",
       " 'octyl acetate': 'CCCCCCCCOC(=O)C',\n",
       " 'oxygen': 'O=O',\n",
       " 'p-nitrophenol': 'C1=CC(=CC=C1[N+](=O)[O-])O',\n",
       " 'p-nitrophenyl': 'C1=CC=C(C=C1)[N+](=O)[O-]',\n",
       " 'p-nitrophenyl acetate': 'CC(=O)OC1=CC=C(C=C1)[N+](=O)[O-]',\n",
       " 'p-nitrophenyl butyrate': 'CCCC(=O)OC1=CC=C(C=C1)[N+](=O)[O-]',\n",
       " 'p-nitrophenyl decanoate': 'CCCCCCCCCC(=O)OC1=CC=C(C=C1)[N+](=O)[O-]',\n",
       " 'p-nitrophenyl dodecanoate': 'CCCCCCCCCCCC(=O)OC1=CC=C(C=C1)[N+](=O)[O-]',\n",
       " 'p-nitrophenyl hexanoate': 'CCCCCC(=O)OC1=CC=C(C=C1)[N+](=O)[O-]',\n",
       " 'p-nitrophenyl octanoate': 'CCCCCCCC(=O)OC1=CC=C(C=C1)[N+](=O)[O-]',\n",
       " 'p-nitrophenyl phosphate': 'C1=CC(=CC=C1[N+](=O)[O-])OP(=O)(O)O',\n",
       " 'penicillin-G': 'CC1(C(N2C(S1)C(C2=O)NC(=O)CC3=CC=CC=C3)C(=O)O)C',\n",
       " 'phosphate acid': 'OP(=O)([O-])[O-]',\n",
       " 'purporogallin': 'C1=CC(=O)C(=C2C(=C1)C=C(C(=C2O)O)O)O',\n",
       " 'pyrogallol': 'C1=CC(=C(C(=C1)O)O)O',\n",
       " 'pyruvate': 'CC(=O)C(=O)[O-]',\n",
       " 'resorufin': 'C1=CC2=C(C=C1O)OC3=CC(=O)C=CC3=N2',\n",
       " 'sucrose': 'C(C1C(C(C(C(O1)OC2(C(C(C(O2)CO)O)O)CO)O)O)O)O',\n",
       " 'tert-butyl hydroperoxide': 'CC(C)(C)OO',\n",
       " 'vinyl acetate': 'CC(=O)OC=C',\n",
       " 'water': 'O'}"
      ]
     },
     "execution_count": 7,
     "metadata": {},
     "output_type": "execute_result"
    }
   ],
   "source": [
    "molecules"
   ]
  },
  {
   "cell_type": "code",
   "execution_count": 8,
   "metadata": {
    "ExecuteTime": {
     "end_time": "2018-07-20T03:14:31.011905Z",
     "start_time": "2018-07-20T03:02:54.776740Z"
    }
   },
   "outputs": [
    {
     "name": "stdout",
     "output_type": "stream",
     "text": [
      "molecule: pyrogallol : SMILES: C1=CC(=C(C(=C1)O)O)O\n",
      "1 out of 46 done\n",
      "molecule: purporogallin : SMILES: C1=CC(=O)C(=C2C(=C1)C=C(C(=C2O)O)O)O\n",
      "2 out of 46 done\n",
      "molecule: hydrogen peroxide : SMILES: OO\n",
      "3 out of 46 done\n",
      "molecule: water : SMILES: O\n",
      "4 out of 46 done\n",
      "molecule: oxygen : SMILES: O=O\n",
      "5 out of 46 done\n",
      "molecule: ABTS : SMILES: CCN1C2=C(C=C(C=C2)S(=O)(=O)[O-])SC1=NN=C3N(C4=C(S3)C=C(C=C4)S(=O)(=O)[O-])CC\n",
      "6 out of 46 done\n",
      "molecule: 3-amino-1,2,4-triazole : SMILES: C1=NNC(=N1)N\n",
      "7 out of 46 done\n",
      "molecule: methosulfate : SMILES: COS(=O)(=O)[O-]\n",
      "8 out of 46 done\n",
      "molecule: 5-Methylphenazin-5-ium : SMILES: C[N+]1=C2C=CC=CC2=NC3=CC=CC=C31\n",
      "9 out of 46 done\n",
      "molecule: 2,6-dichloroindophenol : SMILES: C1=CC(=O)C=CC1=NC2=CC(=C(C(=C2)Cl)O)Cl\n",
      "10 out of 46 done\n",
      "molecule: Gluconolactone : SMILES: C(C1C(C(C(C(=O)O1)O)O)O)O\n",
      "11 out of 46 done\n",
      "molecule: Urea : SMILES: C(=O)(N)N\n",
      "12 out of 46 done\n",
      "molecule: carbon dioxide : SMILES: C(=O)=O\n",
      "13 out of 46 done\n",
      "molecule: ammonia : SMILES: N\n",
      "14 out of 46 done\n",
      "molecule: gluconic acid : SMILES: C(C(C(C(C(C(=O)O)O)O)O)O)O\n",
      "15 out of 46 done\n",
      "molecule: L-lactate : SMILES: CC(C(=O)[O-])[O-]\n",
      "16 out of 46 done\n",
      "molecule: pyruvate : SMILES: CC(=O)C(=O)[O-]\n",
      "17 out of 46 done\n",
      "molecule: sucrose : SMILES: C(C1C(C(C(C(O1)OC2(C(C(C(O2)CO)O)O)CO)O)O)O)O\n",
      "18 out of 46 done\n",
      "molecule: L-fructose : SMILES: C(C(C(C(C(=O)CO)O)O)O)O\n",
      "19 out of 46 done\n",
      "molecule: D-fructose : SMILES: C1C(C(C(C(O1)(CO)O)O)O)O\n",
      "20 out of 46 done\n",
      "molecule: D-glucose (chain) : SMILES: C(C(C(C(C(C=O)O)O)O)O)O\n",
      "21 out of 46 done\n",
      "molecule: D-glucose (ring) : SMILES: C(C1C(C(C(C(O1)O)O)O)O)O\n",
      "22 out of 46 done\n",
      "molecule: p-nitrophenyl : SMILES: C1=CC=C(C=C1)[N+](=O)[O-]\n",
      "23 out of 46 done\n",
      "molecule: p-nitrophenol : SMILES: C1=CC(=CC=C1[N+](=O)[O-])O\n",
      "24 out of 46 done\n",
      "molecule: p-nitrophenyl acetate : SMILES: CC(=O)OC1=CC=C(C=C1)[N+](=O)[O-]\n",
      "25 out of 46 done\n",
      "molecule: acetic acid : SMILES: CC(=O)O\n",
      "26 out of 46 done\n",
      "molecule: p-nitrophenyl phosphate : SMILES: C1=CC(=CC=C1[N+](=O)[O-])OP(=O)(O)O\n",
      "27 out of 46 done\n",
      "molecule: phosphate acid : SMILES: OP(=O)([O-])[O-]\n",
      "28 out of 46 done\n",
      "molecule: p-nitrophenyl butyrate : SMILES: CCCC(=O)OC1=CC=C(C=C1)[N+](=O)[O-]\n",
      "29 out of 46 done\n",
      "molecule: butyric acid : SMILES: CCCC(=O)O\n",
      "30 out of 46 done\n",
      "molecule: p-nitrophenyl hexanoate : SMILES: CCCCCC(=O)OC1=CC=C(C=C1)[N+](=O)[O-]\n",
      "31 out of 46 done\n",
      "molecule: hexanoic acid : SMILES: CCCCCC(=O)O\n",
      "32 out of 46 done\n",
      "molecule: p-nitrophenyl octanoate : SMILES: CCCCCCCC(=O)OC1=CC=C(C=C1)[N+](=O)[O-]\n",
      "33 out of 46 done\n",
      "molecule: octanoic acid : SMILES: CCCCCCCC(=O)O\n",
      "34 out of 46 done\n",
      "molecule: p-nitrophenyl decanoate : SMILES: CCCCCCCCCC(=O)OC1=CC=C(C=C1)[N+](=O)[O-]\n",
      "35 out of 46 done\n",
      "molecule: decanoic acid : SMILES: CCCCCCCCCC(=O)O\n",
      "36 out of 46 done\n",
      "molecule: p-nitrophenyl dodecanoate : SMILES: CCCCCCCCCCCC(=O)OC1=CC=C(C=C1)[N+](=O)[O-]\n",
      "37 out of 46 done\n",
      "molecule: dodecanoic acid : SMILES: CCCCCCCCCCCC(=O)O\n",
      "38 out of 46 done\n",
      "molecule: 2-octanol : SMILES: CCCCCCC(C)O\n",
      "39 out of 46 done\n",
      "molecule: vinyl acetate : SMILES: CC(=O)OC=C\n",
      "40 out of 46 done\n",
      "molecule: octyl acetate : SMILES: CCCCCCCCOC(=O)C\n",
      "41 out of 46 done\n",
      "molecule: penicillin-G : SMILES: CC1(C(N2C(S1)C(C2=O)NC(=O)CC3=CC=CC=C3)C(=O)O)C\n",
      "42 out of 46 done\n",
      "molecule: resorufin : SMILES: C1=CC2=C(C=C1O)OC3=CC(=O)C=CC3=N2\n",
      "43 out of 46 done\n",
      "molecule: methyl ethyl ketone peroxide : SMILES: CCC(C)(OO)OOC(C)(CC)OO\n",
      "44 out of 46 done\n",
      "molecule: tert-butyl hydroperoxide : SMILES: CC(C)(C)OO\n",
      "45 out of 46 done\n",
      "molecule: Amplex Red : SMILES: CC(=O)N1C2=C(C=C(C=C2)O)OC3=C1C=CC(=C3)O\n",
      "46 out of 46 done\n"
     ]
    }
   ],
   "source": [
    "rdkit_functions.calc_molecule_diameters(molecules, diameters, \n",
    "                                        out_dir=output_dir, vdwScale=0.8, boxMargin=4.0,\n",
    "                                        spacing=0.6, show_vdw=False, plot_ellip=False,\n",
    "                                        N_conformers=50, \n",
    "                                        show_conf=False)"
   ]
  },
  {
   "cell_type": "markdown",
   "metadata": {},
   "source": [
    "## Results"
   ]
  },
  {
   "cell_type": "code",
   "execution_count": 9,
   "metadata": {
    "ExecuteTime": {
     "end_time": "2018-07-20T03:14:31.157009Z",
     "start_time": "2018-07-20T03:14:31.013977Z"
    }
   },
   "outputs": [
    {
     "name": "stdout",
     "output_type": "stream",
     "text": [
      "pyrogallol:\n",
      "cannot diffuse\n",
      "min diameter = 3.177 angstrom\n",
      "mid diameter = 7.236 angstrom\n",
      "-\n",
      "purporogallin:\n",
      "cannot diffuse\n",
      "min diameter = 4.107 angstrom\n",
      "mid diameter = 8.521 angstrom\n",
      "-\n",
      "hydrogen peroxide:\n",
      "can diffuse\n",
      "min diameter = 2.791 angstrom\n",
      "mid diameter = 3.202 angstrom\n",
      "-\n",
      "water:\n",
      "can diffuse\n",
      "min diameter = 2.492 angstrom\n",
      "mid diameter = 2.586 angstrom\n",
      "-\n",
      "oxygen:\n",
      "can diffuse\n",
      "min diameter = 2.841 angstrom\n",
      "mid diameter = 2.9 angstrom\n",
      "-\n",
      "ABTS:\n",
      "cannot diffuse\n",
      "min diameter = 6.094 angstrom\n",
      "mid diameter = 8.834 angstrom\n",
      "-\n",
      "3-amino-1,2,4-triazole:\n",
      "cannot diffuse\n",
      "min diameter = 3.08 angstrom\n",
      "mid diameter = 5.189 angstrom\n",
      "-\n",
      "methosulfate:\n",
      "cannot diffuse\n",
      "min diameter = 4.933 angstrom\n",
      "mid diameter = 5.33 angstrom\n",
      "-\n",
      "5-Methylphenazin-5-ium:\n",
      "cannot diffuse\n",
      "min diameter = 3.817 angstrom\n",
      "mid diameter = 8.297 angstrom\n",
      "-\n",
      "2,6-dichloroindophenol:\n",
      "cannot diffuse\n",
      "min diameter = 5.866 angstrom\n",
      "mid diameter = 9.147 angstrom\n",
      "-\n",
      "Gluconolactone:\n",
      "cannot diffuse\n",
      "min diameter = 4.48 angstrom\n",
      "mid diameter = 6.832 angstrom\n",
      "-\n",
      "Urea:\n",
      "cannot diffuse\n",
      "min diameter = 2.956 angstrom\n",
      "mid diameter = 5.209 angstrom\n",
      "-\n",
      "carbon dioxide:\n",
      "can diffuse\n",
      "min diameter = 2.837 angstrom\n",
      "mid diameter = 2.915 angstrom\n",
      "-\n",
      "ammonia:\n",
      "can diffuse\n",
      "min diameter = 2.676 angstrom\n",
      "mid diameter = 2.928 angstrom\n",
      "-\n",
      "gluconic acid:\n",
      "cannot diffuse\n",
      "min diameter = 5.591 angstrom\n",
      "mid diameter = 6.348 angstrom\n",
      "-\n",
      "L-lactate:\n",
      "cannot diffuse\n",
      "min diameter = 4.46 angstrom\n",
      "mid diameter = 5.373 angstrom\n",
      "-\n",
      "pyruvate:\n",
      "cannot diffuse\n",
      "min diameter = 3.441 angstrom\n",
      "mid diameter = 5.461 angstrom\n",
      "-\n",
      "sucrose:\n",
      "cannot diffuse\n",
      "min diameter = 6.409 angstrom\n",
      "mid diameter = 8.51 angstrom\n",
      "-\n",
      "L-fructose:\n",
      "cannot diffuse\n",
      "min diameter = 5.291 angstrom\n",
      "mid diameter = 6.362 angstrom\n",
      "-\n",
      "D-fructose:\n",
      "cannot diffuse\n",
      "min diameter = 5.464 angstrom\n",
      "mid diameter = 6.842 angstrom\n",
      "-\n",
      "D-glucose (chain):\n",
      "cannot diffuse\n",
      "min diameter = 5.029 angstrom\n",
      "mid diameter = 6.258 angstrom\n",
      "-\n",
      "D-glucose (ring):\n",
      "cannot diffuse\n",
      "min diameter = 4.561 angstrom\n",
      "mid diameter = 6.775 angstrom\n",
      "-\n",
      "p-nitrophenyl:\n",
      "cannot diffuse\n",
      "min diameter = 3.301 angstrom\n",
      "mid diameter = 6.393 angstrom\n",
      "-\n",
      "p-nitrophenol:\n",
      "cannot diffuse\n",
      "min diameter = 3.209 angstrom\n",
      "mid diameter = 6.123 angstrom\n",
      "-\n",
      "p-nitrophenyl acetate:\n",
      "cannot diffuse\n",
      "min diameter = 4.327 angstrom\n",
      "mid diameter = 6.286 angstrom\n",
      "-\n",
      "acetic acid:\n",
      "cannot diffuse\n",
      "min diameter = 3.441 angstrom\n",
      "mid diameter = 4.667 angstrom\n",
      "-\n",
      "p-nitrophenyl phosphate:\n",
      "cannot diffuse\n",
      "min diameter = 5.152 angstrom\n",
      "mid diameter = 6.584 angstrom\n",
      "-\n",
      "phosphate acid:\n",
      "cannot diffuse\n",
      "min diameter = 5.033 angstrom\n",
      "mid diameter = 5.264 angstrom\n",
      "-\n",
      "p-nitrophenyl butyrate:\n",
      "cannot diffuse\n",
      "min diameter = 4.586 angstrom\n",
      "mid diameter = 6.276 angstrom\n",
      "-\n",
      "butyric acid:\n",
      "cannot diffuse\n",
      "min diameter = 3.815 angstrom\n",
      "mid diameter = 4.974 angstrom\n",
      "-\n",
      "p-nitrophenyl hexanoate:\n",
      "cannot diffuse\n",
      "min diameter = 4.98 angstrom\n",
      "mid diameter = 6.505 angstrom\n",
      "-\n",
      "hexanoic acid:\n",
      "cannot diffuse\n",
      "min diameter = 4.229 angstrom\n",
      "mid diameter = 5.45 angstrom\n",
      "-\n",
      "p-nitrophenyl octanoate:\n",
      "cannot diffuse\n",
      "min diameter = 4.722 angstrom\n",
      "mid diameter = 6.699 angstrom\n",
      "-\n",
      "octanoic acid:\n",
      "cannot diffuse\n",
      "min diameter = 4.896 angstrom\n",
      "mid diameter = 5.326 angstrom\n",
      "-\n",
      "p-nitrophenyl decanoate:\n",
      "cannot diffuse\n",
      "min diameter = 4.928 angstrom\n",
      "mid diameter = 6.827 angstrom\n",
      "-\n",
      "decanoic acid:\n",
      "cannot diffuse\n",
      "min diameter = 4.649 angstrom\n",
      "mid diameter = 5.774 angstrom\n",
      "-\n",
      "p-nitrophenyl dodecanoate:\n",
      "cannot diffuse\n",
      "min diameter = 5.517 angstrom\n",
      "mid diameter = 6.546 angstrom\n",
      "-\n",
      "dodecanoic acid:\n",
      "cannot diffuse\n",
      "min diameter = 5.119 angstrom\n",
      "mid diameter = 6.373 angstrom\n",
      "-\n",
      "2-octanol:\n",
      "cannot diffuse\n",
      "min diameter = 4.734 angstrom\n",
      "mid diameter = 5.857 angstrom\n",
      "-\n",
      "vinyl acetate:\n",
      "cannot diffuse\n",
      "min diameter = 3.667 angstrom\n",
      "mid diameter = 5.049 angstrom\n",
      "-\n",
      "octyl acetate:\n",
      "cannot diffuse\n",
      "min diameter = 4.597 angstrom\n",
      "mid diameter = 5.7 angstrom\n",
      "-\n",
      "penicillin-G:\n",
      "cannot diffuse\n",
      "min diameter = 6.277 angstrom\n",
      "mid diameter = 7.961 angstrom\n",
      "-\n",
      "resorufin:\n",
      "cannot diffuse\n",
      "min diameter = 3.389 angstrom\n",
      "mid diameter = 7.161 angstrom\n",
      "-\n",
      "methyl ethyl ketone peroxide:\n",
      "cannot diffuse\n",
      "min diameter = 5.556 angstrom\n",
      "mid diameter = 7.225 angstrom\n",
      "-\n",
      "tert-butyl hydroperoxide:\n",
      "cannot diffuse\n",
      "min diameter = 5.263 angstrom\n",
      "mid diameter = 5.745 angstrom\n",
      "-\n",
      "Amplex Red:\n",
      "cannot diffuse\n",
      "min diameter = 5.203 angstrom\n",
      "mid diameter = 10.251 angstrom\n",
      "-\n"
     ]
    }
   ],
   "source": [
    "threshold = 4.2\n",
    "diffuse = {}\n",
    "no_diffuse = {}\n",
    "for name, smile in molecules.items():\n",
    "    out_file = output_dir+name+'_diam_result.csv'\n",
    "    if os.path.isfile(out_file) is False:\n",
    "        continue\n",
    "    results = pd.read_csv(out_file)\n",
    "    min_diam = min(results['diam1'])\n",
    "    mid_diam = min(results['diam2'])\n",
    "    # print(min(results['diam1']))\n",
    "    # print(min(results['diam2']))\n",
    "    # plt.hist(results['diam1'], facecolor='k', alpha=0.4)\n",
    "    # plt.hist(results['diam2'], facecolor='r', alpha=0.4)\n",
    "    if mid_diam <= threshold:\n",
    "        print(name+':')\n",
    "        print('can diffuse')\n",
    "        print('min diameter =', round(min_diam, 3), 'angstrom')\n",
    "        print('mid diameter =', round(mid_diam, 3), 'angstrom')\n",
    "        diffuse[name] = smile\n",
    "    else:\n",
    "        print(name+':')\n",
    "        print('cannot diffuse')\n",
    "        print('min diameter =', round(min_diam, 3), 'angstrom')\n",
    "        print('mid diameter =', round(mid_diam, 3), 'angstrom')\n",
    "        no_diffuse[name] = smile\n",
    "    print('-')"
   ]
  },
  {
   "cell_type": "code",
   "execution_count": 10,
   "metadata": {
    "ExecuteTime": {
     "end_time": "2018-07-20T03:14:31.347441Z",
     "start_time": "2018-07-20T03:14:31.158605Z"
    }
   },
   "outputs": [
    {
     "name": "stdout",
     "output_type": "stream",
     "text": [
      "/home/atarzia/psp/biomin_assays/molecules/no_diffuse_mol_1.pdf\n",
      "/home/atarzia/psp/biomin_assays/molecules/no_diffuse_mol_2.pdf\n",
      "/home/atarzia/psp/biomin_assays/molecules/no_diffuse_mol_3.pdf\n"
     ]
    }
   ],
   "source": [
    "if len(diffuse) > 0:\n",
    "    rdkit_functions.produce_quick_fig_mol(diffuse, output_dir+'diffuse_mol.pdf', \n",
    "                                          labels=False, mpr=5, ims=200)\n",
    "if len(no_diffuse) > 0:\n",
    "    rdkit_functions.produce_quick_fig_mol(no_diffuse, output_dir+'no_diffuse_mol.pdf', \n",
    "                                          labels=False, mpr=5, ims=200)"
   ]
  },
  {
   "cell_type": "markdown",
   "metadata": {},
   "source": [
    "## Plot categorical scatter"
   ]
  },
  {
   "cell_type": "code",
   "execution_count": 11,
   "metadata": {
    "ExecuteTime": {
     "end_time": "2018-07-20T03:14:32.160003Z",
     "start_time": "2018-07-20T03:14:31.349558Z"
    }
   },
   "outputs": [
    {
     "data": {
      "image/png": "[encoded data removed]",
      "text/plain": [
       "<Figure size 360x360 with 1 Axes>"
      ]
     },
     "metadata": {},
     "output_type": "display_data"
    }
   ],
   "source": [
    "threshold = 4.2\n",
    "dx = 0.15\n",
    "fig, ax = plt.subplots(figsize=(5,5))\n",
    "for name, smile in molecules.items():\n",
    "    out_file = output_dir+name+'_diam_result.csv'\n",
    "    if os.path.isfile(out_file) is False:\n",
    "        continue\n",
    "    results = pd.read_csv(out_file)\n",
    "    mid_diam = min(results['diam2'])\n",
    "    if mid_diam <= threshold:\n",
    "        C = 'b'\n",
    "        M = 'o'\n",
    "        E = 'k'\n",
    "        D = 0.25\n",
    "    else:\n",
    "        C = 'r'\n",
    "        M = 'X'\n",
    "        E = 'k'\n",
    "        D = 0.75\n",
    "    ax.scatter(D+(dx*(np.random.random() - 0.5) * 2),\n",
    "               mid_diam, c=C, \n",
    "               edgecolors=E, marker=M, alpha=1.0,\n",
    "               s=80)\n",
    "    \n",
    "ax.axhline(y=threshold, c='k')\n",
    "define_plot_variables(ax,\n",
    "                      title='',\n",
    "                      xtitle='',\n",
    "                      ytitle='intermediate diameter [$\\mathrm{\\AA}$]',\n",
    "                      xlim=(0, 1),\n",
    "                      ylim=(0, 10))\n",
    "fig.tight_layout()\n",
    "fig.savefig(output_dir+\"categorical.pdf\", dpi=720,\n",
    "            bbox_inches='tight')"
   ]
  },
  {
   "cell_type": "markdown",
   "metadata": {},
   "source": [
    "## Plot Shapes"
   ]
  },
  {
   "cell_type": "code",
   "execution_count": 12,
   "metadata": {
    "ExecuteTime": {
     "end_time": "2018-07-20T03:14:32.861467Z",
     "start_time": "2018-07-20T03:14:32.161808Z"
    }
   },
   "outputs": [
    {
     "data": {
      "image/png": "[encoded data removed]",
      "text/plain": [
       "<Figure size 360x360 with 1 Axes>"
      ]
     },
     "metadata": {},
     "output_type": "display_data"
    }
   ],
   "source": [
    "threshold = 4.2\n",
    "fig, ax = plt.subplots(figsize=(5,5))\n",
    "for name, smile in molecules.items():\n",
    "    out_file = output_dir+name+'_diam_result.csv'\n",
    "    if os.path.isfile(out_file) is False:\n",
    "        continue\n",
    "    results = pd.read_csv(out_file)\n",
    "    mid_diam = min(results['diam2'])\n",
    "    if mid_diam <= threshold:\n",
    "        C = 'b'\n",
    "        M = 'o'\n",
    "        E = 'k'\n",
    "        D = 0.25\n",
    "    else:\n",
    "        C = 'r'\n",
    "        M = 'X'\n",
    "        E = 'k'\n",
    "        D = 0.75\n",
    "    ax.scatter(np.average(results['ratio_1']),\n",
    "               np.average(results['ratio_2']),\n",
    "               c=C, \n",
    "               edgecolors=E, marker=M, alpha=1.0,\n",
    "               s=80)\n",
    "    \n",
    "ax.plot([0, 0.5, 1, 0], [1, 0.5, 1, 1], c='k', lw=2)\n",
    "ax.text(0.75, 1.03, 'sphere', fontsize=20)\n",
    "ax.text(0.4, 0.45, 'oblate', fontsize=20)\n",
    "ax.text(-0.05, 1.03, 'prolate', fontsize=20)\n",
    "define_parity_plot_variables(ax,\n",
    "                             title='',\n",
    "                             xtitle='$I_1$ / $I_3$',\n",
    "                             ytitle='$I_2$ / $I_3$',\n",
    "                             xlim=(-0.1, 1.1),\n",
    "                             ylim=(0.4, 1.1))\n",
    "fig.tight_layout()\n",
    "fig.savefig(output_dir+\"shape.pdf\", dpi=720,\n",
    "            bbox_inches='tight')"
   ]
  },
  {
   "cell_type": "code",
   "execution_count": null,
   "metadata": {},
   "outputs": [],
   "source": []
  },
  {
   "cell_type": "markdown",
   "metadata": {},
   "source": [
    "## Visualise conformers"
   ]
  },
  {
   "cell_type": "code",
   "execution_count": 19,
   "metadata": {
    "ExecuteTime": {
     "end_time": "2018-07-20T03:00:40.687062Z",
     "start_time": "2018-07-20T03:00:40.679039Z"
    }
   },
   "outputs": [],
   "source": [
    "import py3Dmol\n",
    "from ipywidgets import interact, interactive, fixed"
   ]
  },
  {
   "cell_type": "code",
   "execution_count": 20,
   "metadata": {
    "ExecuteTime": {
     "end_time": "2018-07-20T03:00:41.133111Z",
     "start_time": "2018-07-20T03:00:41.081024Z"
    }
   },
   "outputs": [],
   "source": [
    "def drawit(m, p, confId=-1):\n",
    "    mb = Chem.MolToMolBlock(m, confId=confId)\n",
    "    p.removeAllModels()\n",
    "    p.addModel(mb,'sdf')\n",
    "    p.setStyle({'stick':{}})\n",
    "    p.setBackgroundColor('0xeeeeee')\n",
    "    p.zoomTo()\n",
    "    return p.show()\n",
    "\n",
    "\n",
    "def drawit2(m, p, confId=-1):\n",
    "    mb = Chem.MolToMolBlock(m, confId=confId)\n",
    "    p.addModel(mb, 'sdf')\n",
    "    p.setStyle({'stick':{}})\n",
    "    p.setBackgroundColor('0xeeeeee')\n",
    "    p.zoomTo()"
   ]
  },
  {
   "cell_type": "code",
   "execution_count": 23,
   "metadata": {
    "ExecuteTime": {
     "end_time": "2018-07-20T03:01:01.400600Z",
     "start_time": "2018-07-20T03:01:01.199680Z"
    }
   },
   "outputs": [
    {
     "data": {
      "application/vnd.jupyter.widget-view+json": {
       "model_id": "011606cf41df444398bf38101afad35a",
       "version_major": 2,
       "version_minor": 0
      },
      "text/html": [
       "<p>Failed to display Jupyter Widget of type <code>interactive</code>.</p>\n",
       "<p>\n",
       "  If you're reading this message in the Jupyter Notebook or JupyterLab Notebook, it may mean\n",
       "  that the widgets JavaScript is still loading. If this message persists, it\n",
       "  likely means that the widgets JavaScript library is either not installed or\n",
       "  not enabled. See the <a href=\"https://ipywidgets.readthedocs.io/en/stable/user_install.html\">Jupyter\n",
       "  Widgets Documentation</a> for setup instructions.\n",
       "</p>\n",
       "<p>\n",
       "  If you're reading this message in another frontend (for example, a static\n",
       "  rendering on GitHub or <a href=\"https://nbviewer.jupyter.org/\">NBViewer</a>),\n",
       "  it may mean that your frontend doesn't currently support widgets.\n",
       "</p>\n"
      ],
      "text/plain": [
       "interactive(children=(IntSlider(value=0, description='confId', max=9), Output()), _dom_classes=('widget-interact',))"
      ]
     },
     "metadata": {},
     "output_type": "display_data"
    }
   ],
   "source": [
    "for name, smile in molecules.items():\n",
    "    m = Chem.MolFromSmiles(smile)\n",
    "    m = Chem.AddHs(m)\n",
    "    Chem.EmbedMultipleConfs(m, numConfs=10, randomSeed=0xf00d, \n",
    "                            useExpTorsionAnglePrefs=True,\n",
    "                            useBasicKnowledge=True)\n",
    "    p = py3Dmol.view(width=400,height=400)\n",
    "    interact(drawit, m=fixed(m),p=fixed(p),confId=(0,m.GetNumConformers()-1))"
   ]
  },
  {
   "cell_type": "code",
   "execution_count": 21,
   "metadata": {
    "ExecuteTime": {
     "end_time": "2018-07-20T03:00:41.525473Z",
     "start_time": "2018-07-20T03:00:41.319182Z"
    }
   },
   "outputs": [
    {
     "data": {
      "application/3dmoljs_load.v0": "<div id=\"3dmolviewer_15320556415225942\"  style=\"position: relative; width: 400px; height: 400px\">\n        <p id=\"3dmolwarning_15320556415225942\" style=\"background-color:#ffcccc;color:black\">You appear to be running in JupyterLab.  You need to install the 3dmol extension: <br>\n        <tt>jupyter labextension install jupyterlab_3dmol</tt></p>\n        </div>\n<script>\n\nvar loadScriptAsync = function(uri){\n  return new Promise((resolve, reject) => {\n    var tag = document.createElement('script');\n    tag.src = uri;\n    tag.async = true;\n    tag.onload = () => {\n      resolve();\n    };\n  var firstScriptTag = document.getElementsByTagName('script')[0];\n  firstScriptTag.parentNode.insertBefore(tag, firstScriptTag);\n});\n};\n\nif(typeof $3Dmolpromise === 'undefined') {\n$3Dmolpromise = null;\n  $3Dmolpromise = loadScriptAsync('https://3dmol.csb.pitt.edu/build/3Dmol.js');\n}\n\nvar viewer_15320556415225942 = null;\nvar warn = document.getElementById(\"3dmolwarning_15320556415225942\");\nif(warn) {\n    warn.parentNode.removeChild(warn);\n}\n$3Dmolpromise.then(function() {\nviewer_15320556415225942 = $3Dmol.createViewer($(\"#3dmolviewer_15320556415225942\"),{backgroundColor:\"white\"});\n\tviewer_15320556415225942.addModel(\"\\n     RDKit          3D\\n\\n 32 32  0  0  0  0  0  0  0  0999 V2000\\n   -5.7158    0.6999   -0.2011 C   0  0  0  0  0  0  0  0  0  0  0  0\\n   -4.1936    0.8326   -0.0930 C   0  0  0  0  0  0  0  0  0  0  0  0\\n   -3.5455   -0.4995    0.0901 C   0  0  0  0  0  0  0  0  0  0  0  0\\n   -2.0501   -0.4735    0.2208 C   0  0  0  0  0  0  0  0  0  0  0  0\\n   -1.4355    0.1097   -1.0014 C   0  0  0  0  0  0  0  0  0  0  0  0\\n    0.0569    0.1447   -0.9273 C   0  0  0  0  0  0  0  0  0  0  0  0\\n    0.7198    0.6111   -1.8879 O   0  0  0  0  0  0  0  0  0  0  0  0\\n    0.7747   -0.3184    0.1659 O   0  0  0  0  0  0  0  0  0  0  0  0\\n    2.1613   -0.2865    0.2360 C   0  0  0  0  0  0  0  0  0  0  0  0\\n    2.9287   -1.3472   -0.2167 C   0  0  0  0  0  0  0  0  0  0  0  0\\n    4.3053   -1.3334   -0.1552 C   0  0  0  0  0  0  0  0  0  0  0  0\\n    4.9703   -0.2401    0.3697 C   0  0  0  0  0  0  0  0  0  0  0  0\\n    4.2356    0.8151    0.8212 C   0  0  0  0  0  0  0  0  0  0  0  0\\n    2.8637    0.7825    0.7513 C   0  0  0  0  0  0  0  0  0  0  0  0\\n    6.3889   -0.1882    0.4501 N   0  0  0  0  0  0  0  0  0  0  0  0\\n    7.0600   -1.1444    0.0412 O   0  0  0  0  0  0  0  0  0  0  0  0\\n    7.0076    0.9126    0.9766 O   0  0  0  0  0  0  0  0  0  0  0  0\\n   -6.1673    1.0123    0.7604 H   0  0  0  0  0  0  0  0  0  0  0  0\\n   -6.1357    1.3232   -0.9902 H   0  0  0  0  0  0  0  0  0  0  0  0\\n   -6.0069   -0.3733   -0.3348 H   0  0  0  0  0  0  0  0  0  0  0  0\\n   -3.9555    1.5204    0.7400 H   0  0  0  0  0  0  0  0  0  0  0  0\\n   -3.8100    1.2899   -1.0331 H   0  0  0  0  0  0  0  0  0  0  0  0\\n   -3.9871   -0.9554    1.0248 H   0  0  0  0  0  0  0  0  0  0  0  0\\n   -3.8760   -1.2193   -0.7144 H   0  0  0  0  0  0  0  0  0  0  0  0\\n   -1.6899   -1.5013    0.4205 H   0  0  0  0  0  0  0  0  0  0  0  0\\n   -1.8105    0.2112    1.0752 H   0  0  0  0  0  0  0  0  0  0  0  0\\n   -1.8331    1.1510   -1.1718 H   0  0  0  0  0  0  0  0  0  0  0  0\\n   -1.7055   -0.4787   -1.8899 H   0  0  0  0  0  0  0  0  0  0  0  0\\n    2.4207   -2.2109   -0.6306 H   0  0  0  0  0  0  0  0  0  0  0  0\\n    4.9261   -2.1548   -0.5047 H   0  0  0  0  0  0  0  0  0  0  0  0\\n    4.7805    1.6728    1.2339 H   0  0  0  0  0  0  0  0  0  0  0  0\\n    2.3178    1.6360    1.1185 H   0  0  0  0  0  0  0  0  0  0  0  0\\n  1  2  1  0\\n  2  3  1  0\\n  3  4  1  0\\n  4  5  1  0\\n  5  6  1  0\\n  6  7  2  0\\n  6  8  1  0\\n  8  9  1  0\\n  9 10  2  0\\n 10 11  1  0\\n 11 12  2  0\\n 12 13  1  0\\n 13 14  2  0\\n 12 15  1  0\\n 15 16  2  0\\n 15 17  1  0\\n 14  9  1  0\\n  1 18  1  0\\n  1 19  1  0\\n  1 20  1  0\\n  2 21  1  0\\n  2 22  1  0\\n  3 23  1  0\\n  3 24  1  0\\n  4 25  1  0\\n  4 26  1  0\\n  5 27  1  0\\n  5 28  1  0\\n 10 29  1  0\\n 11 30  1  0\\n 13 31  1  0\\n 14 32  1  0\\nM  CHG  2  15   1  17  -1\\nM  END\\n\",\"sdf\");\n\tviewer_15320556415225942.setStyle({\"stick\": {}});\n\tviewer_15320556415225942.setBackgroundColor(\"0xeeeeee\");\n\tviewer_15320556415225942.zoomTo();\n\tviewer_15320556415225942.addModel(\"\\n     RDKit          3D\\n\\n 32 32  0  0  0  0  0  0  0  0999 V2000\\n   -5.8533   -0.3811    0.5463 C   0  0  0  0  0  0  0  0  0  0  0  0\\n   -4.3697   -0.5834    0.6808 C   0  0  0  0  0  0  0  0  0  0  0  0\\n   -3.5926    0.1376   -0.4060 C   0  0  0  0  0  0  0  0  0  0  0  0\\n   -2.1143   -0.1521   -0.1529 C   0  0  0  0  0  0  0  0  0  0  0  0\\n   -1.2451    0.5235   -1.1824 C   0  0  0  0  0  0  0  0  0  0  0  0\\n    0.1693    0.1994   -0.8752 C   0  0  0  0  0  0  0  0  0  0  0  0\\n    0.6522   -0.8942   -1.2601 O   0  0  0  0  0  0  0  0  0  0  0  0\\n    0.9928    1.0624   -0.1721 O   0  0  0  0  0  0  0  0  0  0  0  0\\n    2.3006    0.6704    0.0661 C   0  0  0  0  0  0  0  0  0  0  0  0\\n    3.3060    1.0252   -0.8194 C   0  0  0  0  0  0  0  0  0  0  0  0\\n    4.6150    0.6616   -0.6293 C   0  0  0  0  0  0  0  0  0  0  0  0\\n    4.9237   -0.0829    0.4877 C   0  0  0  0  0  0  0  0  0  0  0  0\\n    3.9545   -0.4495    1.3814 C   0  0  0  0  0  0  0  0  0  0  0  0\\n    2.6217   -0.0758    1.1816 C   0  0  0  0  0  0  0  0  0  0  0  0\\n    6.2724   -0.4779    0.7167 N   0  0  0  0  0  0  0  0  0  0  0  0\\n    6.6297   -1.1440    1.6874 O   0  0  0  0  0  0  0  0  0  0  0  0\\n    7.2667   -0.1106   -0.1840 O   0  0  0  0  0  0  0  0  0  0  0  0\\n   -6.2284   -0.8395   -0.3965 H   0  0  0  0  0  0  0  0  0  0  0  0\\n   -6.0491    0.7102    0.5413 H   0  0  0  0  0  0  0  0  0  0  0  0\\n   -6.3206   -0.8627    1.4384 H   0  0  0  0  0  0  0  0  0  0  0  0\\n   -4.0373   -0.1298    1.6431 H   0  0  0  0  0  0  0  0  0  0  0  0\\n   -4.1185   -1.6522    0.6594 H   0  0  0  0  0  0  0  0  0  0  0  0\\n   -3.8115    1.2070   -0.4412 H   0  0  0  0  0  0  0  0  0  0  0  0\\n   -3.8853   -0.3682   -1.3685 H   0  0  0  0  0  0  0  0  0  0  0  0\\n   -1.9546   -1.2404   -0.2306 H   0  0  0  0  0  0  0  0  0  0  0  0\\n   -1.8437    0.2706    0.8368 H   0  0  0  0  0  0  0  0  0  0  0  0\\n   -1.4473    0.1996   -2.2146 H   0  0  0  0  0  0  0  0  0  0  0  0\\n   -1.3888    1.6335   -1.1756 H   0  0  0  0  0  0  0  0  0  0  0  0\\n    3.0508    1.6114   -1.6940 H   0  0  0  0  0  0  0  0  0  0  0  0\\n    5.4282    0.9183   -1.2947 H   0  0  0  0  0  0  0  0  0  0  0  0\\n    4.2245   -1.0314    2.2455 H   0  0  0  0  0  0  0  0  0  0  0  0\\n    1.8523   -0.3550    1.8718 H   0  0  0  0  0  0  0  0  0  0  0  0\\n  1  2  1  0\\n  2  3  1  0\\n  3  4  1  0\\n  4  5  1  0\\n  5  6  1  0\\n  6  7  2  0\\n  6  8  1  0\\n  8  9  1  0\\n  9 10  2  0\\n 10 11  1  0\\n 11 12  2  0\\n 12 13  1  0\\n 13 14  2  0\\n 12 15  1  0\\n 15 16  2  0\\n 15 17  1  0\\n 14  9  1  0\\n  1 18  1  0\\n  1 19  1  0\\n  1 20  1  0\\n  2 21  1  0\\n  2 22  1  0\\n  3 23  1  0\\n  3 24  1  0\\n  4 25  1  0\\n  4 26  1  0\\n  5 27  1  0\\n  5 28  1  0\\n 10 29  1  0\\n 11 30  1  0\\n 13 31  1  0\\n 14 32  1  0\\nM  CHG  2  15   1  17  -1\\nM  END\\n\",\"sdf\");\n\tviewer_15320556415225942.setStyle({\"stick\": {}});\n\tviewer_15320556415225942.setBackgroundColor(\"0xeeeeee\");\n\tviewer_15320556415225942.zoomTo();\n\tviewer_15320556415225942.addModel(\"\\n     RDKit          3D\\n\\n 32 32  0  0  0  0  0  0  0  0999 V2000\\n   -3.2903   -1.7253   -0.8076 C   0  0  0  0  0  0  0  0  0  0  0  0\\n   -2.3701   -0.4866   -0.7005 C   0  0  0  0  0  0  0  0  0  0  0  0\\n   -3.2641    0.6701   -0.4933 C   0  0  0  0  0  0  0  0  0  0  0  0\\n   -2.5749    1.9773   -0.4227 C   0  0  0  0  0  0  0  0  0  0  0  0\\n   -1.6551    2.1932    0.6934 C   0  0  0  0  0  0  0  0  0  0  0  0\\n   -0.4581    1.3666    0.8428 C   0  0  0  0  0  0  0  0  0  0  0  0\\n   -0.1483    0.7420    1.9209 O   0  0  0  0  0  0  0  0  0  0  0  0\\n    0.4716    1.1848   -0.2016 O   0  0  0  0  0  0  0  0  0  0  0  0\\n    1.6032    0.3885   -0.0256 C   0  0  0  0  0  0  0  0  0  0  0  0\\n    2.7293    0.8807    0.6304 C   0  0  0  0  0  0  0  0  0  0  0  0\\n    3.8745    0.1681    0.8412 C   0  0  0  0  0  0  0  0  0  0  0  0\\n    3.9311   -1.1384    0.3733 C   0  0  0  0  0  0  0  0  0  0  0  0\\n    2.8353   -1.6529   -0.2780 C   0  0  0  0  0  0  0  0  0  0  0  0\\n    1.6722   -0.9092   -0.4842 C   0  0  0  0  0  0  0  0  0  0  0  0\\n    5.0861   -1.9387    0.5492 N   0  0  0  0  0  0  0  0  0  0  0  0\\n    6.0808   -1.4795    1.1393 O   0  0  0  0  0  0  0  0  0  0  0  0\\n    5.1010   -3.2130    0.0669 O   0  0  0  0  0  0  0  0  0  0  0  0\\n   -2.5924   -2.5949   -0.7391 H   0  0  0  0  0  0  0  0  0  0  0  0\\n   -3.9754   -1.6749    0.0466 H   0  0  0  0  0  0  0  0  0  0  0  0\\n   -3.7404   -1.7100   -1.7987 H   0  0  0  0  0  0  0  0  0  0  0  0\\n   -1.7367   -0.3767   -1.5919 H   0  0  0  0  0  0  0  0  0  0  0  0\\n   -1.7416   -0.6787    0.1571 H   0  0  0  0  0  0  0  0  0  0  0  0\\n   -3.8078    0.4598    0.4975 H   0  0  0  0  0  0  0  0  0  0  0  0\\n   -4.1254    0.6872   -1.2293 H   0  0  0  0  0  0  0  0  0  0  0  0\\n   -3.3566    2.8193   -0.4512 H   0  0  0  0  0  0  0  0  0  0  0  0\\n   -1.9959    2.1371   -1.4102 H   0  0  0  0  0  0  0  0  0  0  0  0\\n   -2.1965    2.1035    1.7031 H   0  0  0  0  0  0  0  0  0  0  0  0\\n   -1.3581    3.3062    0.7329 H   0  0  0  0  0  0  0  0  0  0  0  0\\n    2.6362    1.9207    0.9837 H   0  0  0  0  0  0  0  0  0  0  0  0\\n    4.7462    0.5937    1.3667 H   0  0  0  0  0  0  0  0  0  0  0  0\\n    2.8129   -2.6812   -0.6728 H   0  0  0  0  0  0  0  0  0  0  0  0\\n    0.8076   -1.3389   -1.0073 H   0  0  0  0  0  0  0  0  0  0  0  0\\n  1  2  1  0\\n  2  3  1  0\\n  3  4  1  0\\n  4  5  1  0\\n  5  6  1  0\\n  6  7  2  0\\n  6  8  1  0\\n  8  9  1  0\\n  9 10  2  0\\n 10 11  1  0\\n 11 12  2  0\\n 12 13  1  0\\n 13 14  2  0\\n 12 15  1  0\\n 15 16  2  0\\n 15 17  1  0\\n 14  9  1  0\\n  1 18  1  0\\n  1 19  1  0\\n  1 20  1  0\\n  2 21  1  0\\n  2 22  1  0\\n  3 23  1  0\\n  3 24  1  0\\n  4 25  1  0\\n  4 26  1  0\\n  5 27  1  0\\n  5 28  1  0\\n 10 29  1  0\\n 11 30  1  0\\n 13 31  1  0\\n 14 32  1  0\\nM  CHG  2  15   1  17  -1\\nM  END\\n\",\"sdf\");\n\tviewer_15320556415225942.setStyle({\"stick\": {}});\n\tviewer_15320556415225942.setBackgroundColor(\"0xeeeeee\");\n\tviewer_15320556415225942.zoomTo();\n\tviewer_15320556415225942.addModel(\"\\n     RDKit          3D\\n\\n 32 32  0  0  0  0  0  0  0  0999 V2000\\n   -5.7430   -0.2035   -0.4910 C   0  0  0  0  0  0  0  0  0  0  0  0\\n   -4.2419   -0.1651   -0.6991 C   0  0  0  0  0  0  0  0  0  0  0  0\\n   -3.6747    0.8791    0.2077 C   0  0  0  0  0  0  0  0  0  0  0  0\\n   -2.1811    1.0206    0.0996 C   0  0  0  0  0  0  0  0  0  0  0  0\\n   -1.4364   -0.2293    0.4327 C   0  0  0  0  0  0  0  0  0  0  0  0\\n    0.0183    0.0537    0.2850 C   0  0  0  0  0  0  0  0  0  0  0  0\\n    0.4578    1.1871   -0.0667 O   0  0  0  0  0  0  0  0  0  0  0  0\\n    0.9914   -0.9244    0.5283 O   0  0  0  0  0  0  0  0  0  0  0  0\\n    2.3399   -0.6799    0.3966 C   0  0  0  0  0  0  0  0  0  0  0  0\\n    2.9586   -0.8976   -0.8260 C   0  0  0  0  0  0  0  0  0  0  0  0\\n    4.3054   -0.6674   -1.0069 C   0  0  0  0  0  0  0  0  0  0  0  0\\n    5.0572   -0.2057    0.0656 C   0  0  0  0  0  0  0  0  0  0  0  0\\n    4.4131    0.0011    1.2682 C   0  0  0  0  0  0  0  0  0  0  0  0\\n    3.0773   -0.2207    1.4707 C   0  0  0  0  0  0  0  0  0  0  0  0\\n    6.4431    0.0338   -0.1117 N   0  0  0  0  0  0  0  0  0  0  0  0\\n    6.9833   -0.1636   -1.2045 O   0  0  0  0  0  0  0  0  0  0  0  0\\n    7.1707    0.4884    0.9534 O   0  0  0  0  0  0  0  0  0  0  0  0\\n   -6.3069   -0.2838   -1.4326 H   0  0  0  0  0  0  0  0  0  0  0  0\\n   -6.0552   -1.0325    0.1704 H   0  0  0  0  0  0  0  0  0  0  0  0\\n   -6.1050    0.7366    0.0098 H   0  0  0  0  0  0  0  0  0  0  0  0\\n   -3.8611   -1.1820   -0.5021 H   0  0  0  0  0  0  0  0  0  0  0  0\\n   -4.0756    0.0738   -1.7633 H   0  0  0  0  0  0  0  0  0  0  0  0\\n   -3.9640    0.6677    1.2551 H   0  0  0  0  0  0  0  0  0  0  0  0\\n   -4.1264    1.8519   -0.0728 H   0  0  0  0  0  0  0  0  0  0  0  0\\n   -1.8979    1.3566   -0.9164 H   0  0  0  0  0  0  0  0  0  0  0  0\\n   -1.8573    1.8213    0.7950 H   0  0  0  0  0  0  0  0  0  0  0  0\\n   -1.6001   -0.4915    1.4926 H   0  0  0  0  0  0  0  0  0  0  0  0\\n   -1.7745   -1.0235   -0.2624 H   0  0  0  0  0  0  0  0  0  0  0  0\\n    2.3311   -1.2594   -1.6382 H   0  0  0  0  0  0  0  0  0  0  0  0\\n    4.7659   -0.8474   -1.9804 H   0  0  0  0  0  0  0  0  0  0  0  0\\n    5.0119    0.3596    2.0899 H   0  0  0  0  0  0  0  0  0  0  0  0\\n    2.5760   -0.0538    2.4279 H   0  0  0  0  0  0  0  0  0  0  0  0\\n  1  2  1  0\\n  2  3  1  0\\n  3  4  1  0\\n  4  5  1  0\\n  5  6  1  0\\n  6  7  2  0\\n  6  8  1  0\\n  8  9  1  0\\n  9 10  2  0\\n 10 11  1  0\\n 11 12  2  0\\n 12 13  1  0\\n 13 14  2  0\\n 12 15  1  0\\n 15 16  2  0\\n 15 17  1  0\\n 14  9  1  0\\n  1 18  1  0\\n  1 19  1  0\\n  1 20  1  0\\n  2 21  1  0\\n  2 22  1  0\\n  3 23  1  0\\n  3 24  1  0\\n  4 25  1  0\\n  4 26  1  0\\n  5 27  1  0\\n  5 28  1  0\\n 10 29  1  0\\n 11 30  1  0\\n 13 31  1  0\\n 14 32  1  0\\nM  CHG  2  15   1  17  -1\\nM  END\\n\",\"sdf\");\n\tviewer_15320556415225942.setStyle({\"stick\": {}});\n\tviewer_15320556415225942.setBackgroundColor(\"0xeeeeee\");\n\tviewer_15320556415225942.zoomTo();\n\tviewer_15320556415225942.addModel(\"\\n     RDKit          3D\\n\\n 32 32  0  0  0  0  0  0  0  0999 V2000\\n   -4.6249   -0.7736    0.9873 C   0  0  0  0  0  0  0  0  0  0  0  0\\n   -3.1793   -0.8764    1.3970 C   0  0  0  0  0  0  0  0  0  0  0  0\\n   -2.3207   -0.5874    0.1814 C   0  0  0  0  0  0  0  0  0  0  0  0\\n   -2.6314    0.8105   -0.3146 C   0  0  0  0  0  0  0  0  0  0  0  0\\n   -1.7551    1.0726   -1.5376 C   0  0  0  0  0  0  0  0  0  0  0  0\\n   -0.3507    0.9548   -1.0996 C   0  0  0  0  0  0  0  0  0  0  0  0\\n    0.1735    1.9089   -0.4779 O   0  0  0  0  0  0  0  0  0  0  0  0\\n    0.4197   -0.1640   -1.3437 O   0  0  0  0  0  0  0  0  0  0  0  0\\n    1.7271   -0.1536   -0.8820 C   0  0  0  0  0  0  0  0  0  0  0  0\\n    2.0705   -0.6084    0.3661 C   0  0  0  0  0  0  0  0  0  0  0  0\\n    3.3967   -0.5573    0.7350 C   0  0  0  0  0  0  0  0  0  0  0  0\\n    4.3786   -0.0652   -0.1100 C   0  0  0  0  0  0  0  0  0  0  0  0\\n    3.9813    0.3806   -1.3556 C   0  0  0  0  0  0  0  0  0  0  0  0\\n    2.6808    0.3533   -1.7743 C   0  0  0  0  0  0  0  0  0  0  0  0\\n    5.7467   -0.0074    0.2582 N   0  0  0  0  0  0  0  0  0  0  0  0\\n    6.1041   -0.4077    1.3798 O   0  0  0  0  0  0  0  0  0  0  0  0\\n    6.6662    0.4791   -0.6009 O   0  0  0  0  0  0  0  0  0  0  0  0\\n   -5.2587   -1.5861    1.4211 H   0  0  0  0  0  0  0  0  0  0  0  0\\n   -4.7540   -0.8195   -0.1145 H   0  0  0  0  0  0  0  0  0  0  0  0\\n   -4.9883    0.2340    1.3140 H   0  0  0  0  0  0  0  0  0  0  0  0\\n   -2.9280   -1.9123    1.7646 H   0  0  0  0  0  0  0  0  0  0  0  0\\n   -2.9052   -0.1753    2.1913 H   0  0  0  0  0  0  0  0  0  0  0  0\\n   -1.2371   -0.6477    0.4205 H   0  0  0  0  0  0  0  0  0  0  0  0\\n   -2.5240   -1.2897   -0.6525 H   0  0  0  0  0  0  0  0  0  0  0  0\\n   -3.7005    0.8912   -0.5955 H   0  0  0  0  0  0  0  0  0  0  0  0\\n   -2.4056    1.5461    0.4818 H   0  0  0  0  0  0  0  0  0  0  0  0\\n   -2.0004    0.3347   -2.3278 H   0  0  0  0  0  0  0  0  0  0  0  0\\n   -1.9286    2.0862   -1.9458 H   0  0  0  0  0  0  0  0  0  0  0  0\\n    1.2992   -0.9885    1.0154 H   0  0  0  0  0  0  0  0  0  0  0  0\\n    3.7133   -0.9115    1.7259 H   0  0  0  0  0  0  0  0  0  0  0  0\\n    4.7495    0.7690   -2.0252 H   0  0  0  0  0  0  0  0  0  0  0  0\\n    2.3853    0.7105   -2.7630 H   0  0  0  0  0  0  0  0  0  0  0  0\\n  1  2  1  0\\n  2  3  1  0\\n  3  4  1  0\\n  4  5  1  0\\n  5  6  1  0\\n  6  7  2  0\\n  6  8  1  0\\n  8  9  1  0\\n  9 10  2  0\\n 10 11  1  0\\n 11 12  2  0\\n 12 13  1  0\\n 13 14  2  0\\n 12 15  1  0\\n 15 16  2  0\\n 15 17  1  0\\n 14  9  1  0\\n  1 18  1  0\\n  1 19  1  0\\n  1 20  1  0\\n  2 21  1  0\\n  2 22  1  0\\n  3 23  1  0\\n  3 24  1  0\\n  4 25  1  0\\n  4 26  1  0\\n  5 27  1  0\\n  5 28  1  0\\n 10 29  1  0\\n 11 30  1  0\\n 13 31  1  0\\n 14 32  1  0\\nM  CHG  2  15   1  17  -1\\nM  END\\n\",\"sdf\");\n\tviewer_15320556415225942.setStyle({\"stick\": {}});\n\tviewer_15320556415225942.setBackgroundColor(\"0xeeeeee\");\n\tviewer_15320556415225942.zoomTo();\n\tviewer_15320556415225942.addModel(\"\\n     RDKit          3D\\n\\n 32 32  0  0  0  0  0  0  0  0999 V2000\\n   -5.7646    0.3193   -0.1097 C   0  0  0  0  0  0  0  0  0  0  0  0\\n   -4.3032    0.3008    0.3388 C   0  0  0  0  0  0  0  0  0  0  0  0\\n   -3.5077   -0.4774   -0.6760 C   0  0  0  0  0  0  0  0  0  0  0  0\\n   -2.0776   -0.5468   -0.2691 C   0  0  0  0  0  0  0  0  0  0  0  0\\n   -1.4942    0.8397   -0.1845 C   0  0  0  0  0  0  0  0  0  0  0  0\\n   -0.0515    0.6333    0.2096 C   0  0  0  0  0  0  0  0  0  0  0  0\\n    0.2289    0.4062    1.4134 O   0  0  0  0  0  0  0  0  0  0  0  0\\n    0.9697    0.6841   -0.7013 O   0  0  0  0  0  0  0  0  0  0  0  0\\n    2.3016    0.4965   -0.3593 C   0  0  0  0  0  0  0  0  0  0  0  0\\n    2.9112   -0.7515   -0.3768 C   0  0  0  0  0  0  0  0  0  0  0  0\\n    4.2296   -0.9324   -0.0381 C   0  0  0  0  0  0  0  0  0  0  0  0\\n    5.0145    0.1449    0.3406 C   0  0  0  0  0  0  0  0  0  0  0  0\\n    4.4095    1.3958    0.3600 C   0  0  0  0  0  0  0  0  0  0  0  0\\n    3.0836    1.5661    0.0176 C   0  0  0  0  0  0  0  0  0  0  0  0\\n    6.3724   -0.0413    0.6901 N   0  0  0  0  0  0  0  0  0  0  0  0\\n    6.8475   -1.1889    0.6475 O   0  0  0  0  0  0  0  0  0  0  0  0\\n    7.1838    0.9944    1.0726 O   0  0  0  0  0  0  0  0  0  0  0  0\\n   -6.3931    0.5530    0.7558 H   0  0  0  0  0  0  0  0  0  0  0  0\\n   -5.8373    1.0975   -0.8959 H   0  0  0  0  0  0  0  0  0  0  0  0\\n   -5.9606   -0.6639   -0.5700 H   0  0  0  0  0  0  0  0  0  0  0  0\\n   -3.9132    1.3470    0.3544 H   0  0  0  0  0  0  0  0  0  0  0  0\\n   -4.1948   -0.0982    1.3533 H   0  0  0  0  0  0  0  0  0  0  0  0\\n   -3.6130    0.0660   -1.6550 H   0  0  0  0  0  0  0  0  0  0  0  0\\n   -3.9337   -1.5073   -0.8114 H   0  0  0  0  0  0  0  0  0  0  0  0\\n   -1.4653   -1.2159   -0.9107 H   0  0  0  0  0  0  0  0  0  0  0  0\\n   -2.0722   -1.0300    0.7547 H   0  0  0  0  0  0  0  0  0  0  0  0\\n   -1.9822    1.5115    0.5195 H   0  0  0  0  0  0  0  0  0  0  0  0\\n   -1.5461    1.2799   -1.2118 H   0  0  0  0  0  0  0  0  0  0  0  0\\n    2.2754   -1.5783   -0.6768 H   0  0  0  0  0  0  0  0  0  0  0  0\\n    4.6638   -1.9423   -0.0683 H   0  0  0  0  0  0  0  0  0  0  0  0\\n    5.0062    2.2412    0.6505 H   0  0  0  0  0  0  0  0  0  0  0  0\\n    2.6126    2.5592    0.0361 H   0  0  0  0  0  0  0  0  0  0  0  0\\n  1  2  1  0\\n  2  3  1  0\\n  3  4  1  0\\n  4  5  1  0\\n  5  6  1  0\\n  6  7  2  0\\n  6  8  1  0\\n  8  9  1  0\\n  9 10  2  0\\n 10 11  1  0\\n 11 12  2  0\\n 12 13  1  0\\n 13 14  2  0\\n 12 15  1  0\\n 15 16  2  0\\n 15 17  1  0\\n 14  9  1  0\\n  1 18  1  0\\n  1 19  1  0\\n  1 20  1  0\\n  2 21  1  0\\n  2 22  1  0\\n  3 23  1  0\\n  3 24  1  0\\n  4 25  1  0\\n  4 26  1  0\\n  5 27  1  0\\n  5 28  1  0\\n 10 29  1  0\\n 11 30  1  0\\n 13 31  1  0\\n 14 32  1  0\\nM  CHG  2  15   1  17  -1\\nM  END\\n\",\"sdf\");\n\tviewer_15320556415225942.setStyle({\"stick\": {}});\n\tviewer_15320556415225942.setBackgroundColor(\"0xeeeeee\");\n\tviewer_15320556415225942.zoomTo();\n\tviewer_15320556415225942.addModel(\"\\n     RDKit          3D\\n\\n 32 32  0  0  0  0  0  0  0  0999 V2000\\n   -6.0827    0.1136   -0.0277 C   0  0  0  0  0  0  0  0  0  0  0  0\\n   -4.7991   -0.5625    0.4020 C   0  0  0  0  0  0  0  0  0  0  0  0\\n   -3.6444    0.2717   -0.1153 C   0  0  0  0  0  0  0  0  0  0  0  0\\n   -2.3207   -0.3575    0.2855 C   0  0  0  0  0  0  0  0  0  0  0  0\\n   -1.2276    0.5219   -0.2604 C   0  0  0  0  0  0  0  0  0  0  0  0\\n    0.1239    0.0178    0.0622 C   0  0  0  0  0  0  0  0  0  0  0  0\\n    0.3674   -1.0263    0.7178 O   0  0  0  0  0  0  0  0  0  0  0  0\\n    1.2024    0.7592   -0.3973 O   0  0  0  0  0  0  0  0  0  0  0  0\\n    2.5156    0.4475   -0.1956 C   0  0  0  0  0  0  0  0  0  0  0  0\\n    3.2353   -0.3397   -1.0711 C   0  0  0  0  0  0  0  0  0  0  0  0\\n    4.5657   -0.6423   -0.8456 C   0  0  0  0  0  0  0  0  0  0  0  0\\n    5.2254   -0.1690    0.2632 C   0  0  0  0  0  0  0  0  0  0  0  0\\n    4.5027    0.6171    1.1354 C   0  0  0  0  0  0  0  0  0  0  0  0\\n    3.1777    0.9215    0.9157 C   0  0  0  0  0  0  0  0  0  0  0  0\\n    6.6050   -0.4689    0.5192 N   0  0  0  0  0  0  0  0  0  0  0  0\\n    7.2941   -1.1606   -0.2197 O   0  0  0  0  0  0  0  0  0  0  0  0\\n    7.1906    0.0438    1.6518 O   0  0  0  0  0  0  0  0  0  0  0  0\\n   -6.5714   -0.4316   -0.8605 H   0  0  0  0  0  0  0  0  0  0  0  0\\n   -5.8905    1.1708   -0.2519 H   0  0  0  0  0  0  0  0  0  0  0  0\\n   -6.7800    0.0830    0.8368 H   0  0  0  0  0  0  0  0  0  0  0  0\\n   -4.7407   -0.6228    1.5060 H   0  0  0  0  0  0  0  0  0  0  0  0\\n   -4.7922   -1.5829   -0.0014 H   0  0  0  0  0  0  0  0  0  0  0  0\\n   -3.7285    1.3123    0.2275 H   0  0  0  0  0  0  0  0  0  0  0  0\\n   -3.7593    0.2910   -1.2301 H   0  0  0  0  0  0  0  0  0  0  0  0\\n   -2.2595   -1.3703   -0.1175 H   0  0  0  0  0  0  0  0  0  0  0  0\\n   -2.3006   -0.3998    1.3879 H   0  0  0  0  0  0  0  0  0  0  0  0\\n   -1.3181    1.5339    0.1371 H   0  0  0  0  0  0  0  0  0  0  0  0\\n   -1.3222    0.4913   -1.3789 H   0  0  0  0  0  0  0  0  0  0  0  0\\n    2.7572   -0.7466   -1.9770 H   0  0  0  0  0  0  0  0  0  0  0  0\\n    5.1328   -1.2606   -1.5323 H   0  0  0  0  0  0  0  0  0  0  0  0\\n    5.0110    1.0007    2.0201 H   0  0  0  0  0  0  0  0  0  0  0  0\\n    2.6306    1.5443    1.6202 H   0  0  0  0  0  0  0  0  0  0  0  0\\n  1  2  1  0\\n  2  3  1  0\\n  3  4  1  0\\n  4  5  1  0\\n  5  6  1  0\\n  6  7  2  0\\n  6  8  1  0\\n  8  9  1  0\\n  9 10  2  0\\n 10 11  1  0\\n 11 12  2  0\\n 12 13  1  0\\n 13 14  2  0\\n 12 15  1  0\\n 15 16  2  0\\n 15 17  1  0\\n 14  9  1  0\\n  1 18  1  0\\n  1 19  1  0\\n  1 20  1  0\\n  2 21  1  0\\n  2 22  1  0\\n  3 23  1  0\\n  3 24  1  0\\n  4 25  1  0\\n  4 26  1  0\\n  5 27  1  0\\n  5 28  1  0\\n 10 29  1  0\\n 11 30  1  0\\n 13 31  1  0\\n 14 32  1  0\\nM  CHG  2  15   1  17  -1\\nM  END\\n\",\"sdf\");\n\tviewer_15320556415225942.setStyle({\"stick\": {}});\n\tviewer_15320556415225942.setBackgroundColor(\"0xeeeeee\");\n\tviewer_15320556415225942.zoomTo();\n\tviewer_15320556415225942.addModel(\"\\n     RDKit          3D\\n\\n 32 32  0  0  0  0  0  0  0  0999 V2000\\n    4.0473   -1.1644    1.1249 C   0  0  0  0  0  0  0  0  0  0  0  0\\n    3.5777    0.1236    0.4593 C   0  0  0  0  0  0  0  0  0  0  0  0\\n    2.9888   -0.1917   -0.9175 C   0  0  0  0  0  0  0  0  0  0  0  0\\n    2.5276    1.0576   -1.5795 C   0  0  0  0  0  0  0  0  0  0  0  0\\n    1.4760    1.8204   -0.8411 C   0  0  0  0  0  0  0  0  0  0  0  0\\n    0.2534    1.0429   -0.6734 C   0  0  0  0  0  0  0  0  0  0  0  0\\n    0.1431   -0.0973   -1.1645 O   0  0  0  0  0  0  0  0  0  0  0  0\\n   -0.8577    1.5243    0.0409 O   0  0  0  0  0  0  0  0  0  0  0  0\\n   -1.9801    0.7172    0.1515 C   0  0  0  0  0  0  0  0  0  0  0  0\\n   -2.9796    0.7488   -0.7969 C   0  0  0  0  0  0  0  0  0  0  0  0\\n   -4.1042   -0.0468   -0.7046 C   0  0  0  0  0  0  0  0  0  0  0  0\\n   -4.2907   -0.9212    0.3466 C   0  0  0  0  0  0  0  0  0  0  0  0\\n   -3.2849   -0.9550    1.3041 C   0  0  0  0  0  0  0  0  0  0  0  0\\n   -2.1598   -0.1595    1.2119 C   0  0  0  0  0  0  0  0  0  0  0  0\\n   -5.4485   -1.7397    0.4419 N   0  0  0  0  0  0  0  0  0  0  0  0\\n   -5.6663   -2.5396    1.3647 O   0  0  0  0  0  0  0  0  0  0  0  0\\n   -6.3890   -1.6412   -0.5488 O   0  0  0  0  0  0  0  0  0  0  0  0\\n    4.9759   -1.4585    0.5899 H   0  0  0  0  0  0  0  0  0  0  0  0\\n    4.1669   -1.0372    2.2032 H   0  0  0  0  0  0  0  0  0  0  0  0\\n    3.3076   -1.9668    0.9304 H   0  0  0  0  0  0  0  0  0  0  0  0\\n    2.8339    0.5750    1.1422 H   0  0  0  0  0  0  0  0  0  0  0  0\\n    4.4044    0.8511    0.3529 H   0  0  0  0  0  0  0  0  0  0  0  0\\n    2.3131   -1.0355   -0.8937 H   0  0  0  0  0  0  0  0  0  0  0  0\\n    3.8775   -0.5497   -1.5330 H   0  0  0  0  0  0  0  0  0  0  0  0\\n    2.1961    0.8318   -2.6294 H   0  0  0  0  0  0  0  0  0  0  0  0\\n    3.4380    1.7120   -1.7419 H   0  0  0  0  0  0  0  0  0  0  0  0\\n    1.2970    2.8196   -1.3168 H   0  0  0  0  0  0  0  0  0  0  0  0\\n    1.8594    2.0758    0.1888 H   0  0  0  0  0  0  0  0  0  0  0  0\\n   -2.8729    1.4281   -1.6480 H   0  0  0  0  0  0  0  0  0  0  0  0\\n   -4.8927   -0.0163   -1.4628 H   0  0  0  0  0  0  0  0  0  0  0  0\\n   -3.3934   -1.6345    2.1531 H   0  0  0  0  0  0  0  0  0  0  0  0\\n   -1.3641   -0.1731    1.9504 H   0  0  0  0  0  0  0  0  0  0  0  0\\n  1  2  1  0\\n  2  3  1  0\\n  3  4  1  0\\n  4  5  1  0\\n  5  6  1  0\\n  6  7  2  0\\n  6  8  1  0\\n  8  9  1  0\\n  9 10  2  0\\n 10 11  1  0\\n 11 12  2  0\\n 12 13  1  0\\n 13 14  2  0\\n 12 15  1  0\\n 15 16  2  0\\n 15 17  1  0\\n 14  9  1  0\\n  1 18  1  0\\n  1 19  1  0\\n  1 20  1  0\\n  2 21  1  0\\n  2 22  1  0\\n  3 23  1  0\\n  3 24  1  0\\n  4 25  1  0\\n  4 26  1  0\\n  5 27  1  0\\n  5 28  1  0\\n 10 29  1  0\\n 11 30  1  0\\n 13 31  1  0\\n 14 32  1  0\\nM  CHG  2  15   1  17  -1\\nM  END\\n\",\"sdf\");\n\tviewer_15320556415225942.setStyle({\"stick\": {}});\n\tviewer_15320556415225942.setBackgroundColor(\"0xeeeeee\");\n\tviewer_15320556415225942.zoomTo();\n\tviewer_15320556415225942.addModel(\"\\n     RDKit          3D\\n\\n 32 32  0  0  0  0  0  0  0  0999 V2000\\n   -4.7100   -0.1677    0.8132 C   0  0  0  0  0  0  0  0  0  0  0  0\\n   -4.5165    0.8176   -0.2814 C   0  0  0  0  0  0  0  0  0  0  0  0\\n   -3.4291    0.5645   -1.2406 C   0  0  0  0  0  0  0  0  0  0  0  0\\n   -2.0493    0.5644   -0.7362 C   0  0  0  0  0  0  0  0  0  0  0  0\\n   -1.7106   -0.4632    0.2793 C   0  0  0  0  0  0  0  0  0  0  0  0\\n   -0.2310   -0.3385    0.6316 C   0  0  0  0  0  0  0  0  0  0  0  0\\n    0.1174   -0.0206    1.7718 O   0  0  0  0  0  0  0  0  0  0  0  0\\n    0.7325   -0.5827   -0.3339 O   0  0  0  0  0  0  0  0  0  0  0  0\\n    2.1065   -0.4896   -0.0769 C   0  0  0  0  0  0  0  0  0  0  0  0\\n    2.6875    0.7548   -0.0957 C   0  0  0  0  0  0  0  0  0  0  0  0\\n    4.0248    0.9386    0.1432 C   0  0  0  0  0  0  0  0  0  0  0  0\\n    4.8064   -0.1623    0.4095 C   0  0  0  0  0  0  0  0  0  0  0  0\\n    4.2167   -1.4105    0.4273 C   0  0  0  0  0  0  0  0  0  0  0  0\\n    2.8740   -1.5924    0.1874 C   0  0  0  0  0  0  0  0  0  0  0  0\\n    6.1825    0.0396    0.6493 N   0  0  0  0  0  0  0  0  0  0  0  0\\n    6.6719    1.1691    0.6322 O   0  0  0  0  0  0  0  0  0  0  0  0\\n    6.9797   -1.0408    0.9034 O   0  0  0  0  0  0  0  0  0  0  0  0\\n   -5.8278   -0.3475    0.8725 H   0  0  0  0  0  0  0  0  0  0  0  0\\n   -4.2565   -1.1330    0.5545 H   0  0  0  0  0  0  0  0  0  0  0  0\\n   -4.4173    0.2054    1.8191 H   0  0  0  0  0  0  0  0  0  0  0  0\\n   -4.3738    1.8242    0.2061 H   0  0  0  0  0  0  0  0  0  0  0  0\\n   -5.4567    0.9637   -0.8945 H   0  0  0  0  0  0  0  0  0  0  0  0\\n   -3.4663    1.2960   -2.1037 H   0  0  0  0  0  0  0  0  0  0  0  0\\n   -3.5814   -0.4434   -1.7561 H   0  0  0  0  0  0  0  0  0  0  0  0\\n   -1.3006    0.4213   -1.5966 H   0  0  0  0  0  0  0  0  0  0  0  0\\n   -1.7232    1.6006   -0.3701 H   0  0  0  0  0  0  0  0  0  0  0  0\\n   -1.9403   -1.4802   -0.0368 H   0  0  0  0  0  0  0  0  0  0  0  0\\n   -2.1972   -0.2314    1.2552 H   0  0  0  0  0  0  0  0  0  0  0  0\\n    2.0621    1.6318   -0.3085 H   0  0  0  0  0  0  0  0  0  0  0  0\\n    4.4831    1.9435    0.1294 H   0  0  0  0  0  0  0  0  0  0  0  0\\n    4.8536   -2.2746    0.6427 H   0  0  0  0  0  0  0  0  0  0  0  0\\n    2.3891   -2.5564    0.1965 H   0  0  0  0  0  0  0  0  0  0  0  0\\n  1  2  1  0\\n  2  3  1  0\\n  3  4  1  0\\n  4  5  1  0\\n  5  6  1  0\\n  6  7  2  0\\n  6  8  1  0\\n  8  9  1  0\\n  9 10  2  0\\n 10 11  1  0\\n 11 12  2  0\\n 12 13  1  0\\n 13 14  2  0\\n 12 15  1  0\\n 15 16  2  0\\n 15 17  1  0\\n 14  9  1  0\\n  1 18  1  0\\n  1 19  1  0\\n  1 20  1  0\\n  2 21  1  0\\n  2 22  1  0\\n  3 23  1  0\\n  3 24  1  0\\n  4 25  1  0\\n  4 26  1  0\\n  5 27  1  0\\n  5 28  1  0\\n 10 29  1  0\\n 11 30  1  0\\n 13 31  1  0\\n 14 32  1  0\\nM  CHG  2  15   1  17  -1\\nM  END\\n\",\"sdf\");\n\tviewer_15320556415225942.setStyle({\"stick\": {}});\n\tviewer_15320556415225942.setBackgroundColor(\"0xeeeeee\");\n\tviewer_15320556415225942.zoomTo();\n\tviewer_15320556415225942.addModel(\"\\n     RDKit          3D\\n\\n 32 32  0  0  0  0  0  0  0  0999 V2000\\n   -4.5211    0.4751    1.5302 C   0  0  0  0  0  0  0  0  0  0  0  0\\n   -4.4933    0.6435    0.0647 C   0  0  0  0  0  0  0  0  0  0  0  0\\n   -3.9383   -0.4965   -0.7154 C   0  0  0  0  0  0  0  0  0  0  0  0\\n   -2.5349   -0.8655   -0.4172 C   0  0  0  0  0  0  0  0  0  0  0  0\\n   -1.5511    0.2577   -0.6700 C   0  0  0  0  0  0  0  0  0  0  0  0\\n   -0.1599   -0.1616   -0.3564 C   0  0  0  0  0  0  0  0  0  0  0  0\\n    0.1256   -1.3117    0.0638 O   0  0  0  0  0  0  0  0  0  0  0  0\\n    0.8633    0.7342   -0.5284 O   0  0  0  0  0  0  0  0  0  0  0  0\\n    2.1997    0.4617   -0.2707 C   0  0  0  0  0  0  0  0  0  0  0  0\\n    2.8096    0.6683    0.9445 C   0  0  0  0  0  0  0  0  0  0  0  0\\n    4.1570    0.3685    1.1212 C   0  0  0  0  0  0  0  0  0  0  0  0\\n    4.9355   -0.1457    0.0930 C   0  0  0  0  0  0  0  0  0  0  0  0\\n    4.3165   -0.3491   -1.1194 C   0  0  0  0  0  0  0  0  0  0  0  0\\n    2.9646   -0.0483   -1.2970 C   0  0  0  0  0  0  0  0  0  0  0  0\\n    6.3091   -0.4500    0.2774 N   0  0  0  0  0  0  0  0  0  0  0  0\\n    6.9495   -0.9076   -0.6832 O   0  0  0  0  0  0  0  0  0  0  0  0\\n    6.9678   -0.2650    1.4634 O   0  0  0  0  0  0  0  0  0  0  0  0\\n   -4.0948   -0.4728    1.9069 H   0  0  0  0  0  0  0  0  0  0  0  0\\n   -3.9786    1.2893    2.0684 H   0  0  0  0  0  0  0  0  0  0  0  0\\n   -5.5698    0.5115    1.9392 H   0  0  0  0  0  0  0  0  0  0  0  0\\n   -5.5258    0.8336   -0.2965 H   0  0  0  0  0  0  0  0  0  0  0  0\\n   -3.9229    1.5794   -0.1714 H   0  0  0  0  0  0  0  0  0  0  0  0\\n   -4.5717   -1.3946   -0.5866 H   0  0  0  0  0  0  0  0  0  0  0  0\\n   -4.0048   -0.2317   -1.7966 H   0  0  0  0  0  0  0  0  0  0  0  0\\n   -2.4050   -1.2992    0.6060 H   0  0  0  0  0  0  0  0  0  0  0  0\\n   -2.2437   -1.6861   -1.1145 H   0  0  0  0  0  0  0  0  0  0  0  0\\n   -1.5695    0.4911   -1.7550 H   0  0  0  0  0  0  0  0  0  0  0  0\\n   -1.8043    1.1514   -0.0433 H   0  0  0  0  0  0  0  0  0  0  0  0\\n    2.2161    1.0666    1.7493 H   0  0  0  0  0  0  0  0  0  0  0  0\\n    4.6496    0.5286    2.0800 H   0  0  0  0  0  0  0  0  0  0  0  0\\n    4.9175   -0.7541   -1.9400 H   0  0  0  0  0  0  0  0  0  0  0  0\\n    2.5080   -0.2207   -2.2652 H   0  0  0  0  0  0  0  0  0  0  0  0\\n  1  2  1  0\\n  2  3  1  0\\n  3  4  1  0\\n  4  5  1  0\\n  5  6  1  0\\n  6  7  2  0\\n  6  8  1  0\\n  8  9  1  0\\n  9 10  2  0\\n 10 11  1  0\\n 11 12  2  0\\n 12 13  1  0\\n 13 14  2  0\\n 12 15  1  0\\n 15 16  2  0\\n 15 17  1  0\\n 14  9  1  0\\n  1 18  1  0\\n  1 19  1  0\\n  1 20  1  0\\n  2 21  1  0\\n  2 22  1  0\\n  3 23  1  0\\n  3 24  1  0\\n  4 25  1  0\\n  4 26  1  0\\n  5 27  1  0\\n  5 28  1  0\\n 10 29  1  0\\n 11 30  1  0\\n 13 31  1  0\\n 14 32  1  0\\nM  CHG  2  15   1  17  -1\\nM  END\\n\",\"sdf\");\n\tviewer_15320556415225942.setStyle({\"stick\": {}});\n\tviewer_15320556415225942.setBackgroundColor(\"0xeeeeee\");\n\tviewer_15320556415225942.zoomTo();\nviewer_15320556415225942.render();\n});\n</script>",
      "text/html": [
       "<div id=\"3dmolviewer_15320556415225942\"  style=\"position: relative; width: 400px; height: 400px\">\n",
       "        <p id=\"3dmolwarning_15320556415225942\" style=\"background-color:#ffcccc;color:black\">You appear to be running in JupyterLab.  You need to install the 3dmol extension: <br>\n",
       "        <tt>jupyter labextension install jupyterlab_3dmol</tt></p>\n",
       "        </div>\n",
       "<script>\n",
       "\n",
       "var loadScriptAsync = function(uri){\n",
       "  return new Promise((resolve, reject) => {\n",
       "    var tag = document.createElement('script');\n",
       "    tag.src = uri;\n",
       "    tag.async = true;\n",
       "    tag.onload = () => {\n",
       "      resolve();\n",
       "    };\n",
       "  var firstScriptTag = document.getElementsByTagName('script')[0];\n",
       "  firstScriptTag.parentNode.insertBefore(tag, firstScriptTag);\n",
       "});\n",
       "};\n",
       "\n",
       "if(typeof $3Dmolpromise === 'undefined') {\n",
       "$3Dmolpromise = null;\n",
       "  $3Dmolpromise = loadScriptAsync('https://3dmol.csb.pitt.edu/build/3Dmol.js');\n",
       "}\n",
       "\n",
       "var viewer_15320556415225942 = null;\n",
       "var warn = document.getElementById(\"3dmolwarning_15320556415225942\");\n",
       "if(warn) {\n",
       "    warn.parentNode.removeChild(warn);\n",
       "}\n",
       "$3Dmolpromise.then(function() {\n",
       "viewer_15320556415225942 = $3Dmol.createViewer($(\"#3dmolviewer_15320556415225942\"),{backgroundColor:\"white\"});\n",
       "\tviewer_15320556415225942.addModel(\"\\n     RDKit          3D\\n\\n 32 32  0  0  0  0  0  0  0  0999 V2000\\n   -5.7158    0.6999   -0.2011 C   0  0  0  0  0  0  0  0  0  0  0  0\\n   -4.1936    0.8326   -0.0930 C   0  0  0  0  0  0  0  0  0  0  0  0\\n   -3.5455   -0.4995    0.0901 C   0  0  0  0  0  0  0  0  0  0  0  0\\n   -2.0501   -0.4735    0.2208 C   0  0  0  0  0  0  0  0  0  0  0  0\\n   -1.4355    0.1097   -1.0014 C   0  0  0  0  0  0  0  0  0  0  0  0\\n    0.0569    0.1447   -0.9273 C   0  0  0  0  0  0  0  0  0  0  0  0\\n    0.7198    0.6111   -1.8879 O   0  0  0  0  0  0  0  0  0  0  0  0\\n    0.7747   -0.3184    0.1659 O   0  0  0  0  0  0  0  0  0  0  0  0\\n    2.1613   -0.2865    0.2360 C   0  0  0  0  0  0  0  0  0  0  0  0\\n    2.9287   -1.3472   -0.2167 C   0  0  0  0  0  0  0  0  0  0  0  0\\n    4.3053   -1.3334   -0.1552 C   0  0  0  0  0  0  0  0  0  0  0  0\\n    4.9703   -0.2401    0.3697 C   0  0  0  0  0  0  0  0  0  0  0  0\\n    4.2356    0.8151    0.8212 C   0  0  0  0  0  0  0  0  0  0  0  0\\n    2.8637    0.7825    0.7513 C   0  0  0  0  0  0  0  0  0  0  0  0\\n    6.3889   -0.1882    0.4501 N   0  0  0  0  0  0  0  0  0  0  0  0\\n    7.0600   -1.1444    0.0412 O   0  0  0  0  0  0  0  0  0  0  0  0\\n    7.0076    0.9126    0.9766 O   0  0  0  0  0  0  0  0  0  0  0  0\\n   -6.1673    1.0123    0.7604 H   0  0  0  0  0  0  0  0  0  0  0  0\\n   -6.1357    1.3232   -0.9902 H   0  0  0  0  0  0  0  0  0  0  0  0\\n   -6.0069   -0.3733   -0.3348 H   0  0  0  0  0  0  0  0  0  0  0  0\\n   -3.9555    1.5204    0.7400 H   0  0  0  0  0  0  0  0  0  0  0  0\\n   -3.8100    1.2899   -1.0331 H   0  0  0  0  0  0  0  0  0  0  0  0\\n   -3.9871   -0.9554    1.0248 H   0  0  0  0  0  0  0  0  0  0  0  0\\n   -3.8760   -1.2193   -0.7144 H   0  0  0  0  0  0  0  0  0  0  0  0\\n   -1.6899   -1.5013    0.4205 H   0  0  0  0  0  0  0  0  0  0  0  0\\n   -1.8105    0.2112    1.0752 H   0  0  0  0  0  0  0  0  0  0  0  0\\n   -1.8331    1.1510   -1.1718 H   0  0  0  0  0  0  0  0  0  0  0  0\\n   -1.7055   -0.4787   -1.8899 H   0  0  0  0  0  0  0  0  0  0  0  0\\n    2.4207   -2.2109   -0.6306 H   0  0  0  0  0  0  0  0  0  0  0  0\\n    4.9261   -2.1548   -0.5047 H   0  0  0  0  0  0  0  0  0  0  0  0\\n    4.7805    1.6728    1.2339 H   0  0  0  0  0  0  0  0  0  0  0  0\\n    2.3178    1.6360    1.1185 H   0  0  0  0  0  0  0  0  0  0  0  0\\n  1  2  1  0\\n  2  3  1  0\\n  3  4  1  0\\n  4  5  1  0\\n  5  6  1  0\\n  6  7  2  0\\n  6  8  1  0\\n  8  9  1  0\\n  9 10  2  0\\n 10 11  1  0\\n 11 12  2  0\\n 12 13  1  0\\n 13 14  2  0\\n 12 15  1  0\\n 15 16  2  0\\n 15 17  1  0\\n 14  9  1  0\\n  1 18  1  0\\n  1 19  1  0\\n  1 20  1  0\\n  2 21  1  0\\n  2 22  1  0\\n  3 23  1  0\\n  3 24  1  0\\n  4 25  1  0\\n  4 26  1  0\\n  5 27  1  0\\n  5 28  1  0\\n 10 29  1  0\\n 11 30  1  0\\n 13 31  1  0\\n 14 32  1  0\\nM  CHG  2  15   1  17  -1\\nM  END\\n\",\"sdf\");\n",
       "\tviewer_15320556415225942.setStyle({\"stick\": {}});\n",
       "\tviewer_15320556415225942.setBackgroundColor(\"0xeeeeee\");\n",
       "\tviewer_15320556415225942.zoomTo();\n",
       "\tviewer_15320556415225942.addModel(\"\\n     RDKit          3D\\n\\n 32 32  0  0  0  0  0  0  0  0999 V2000\\n   -5.8533   -0.3811    0.5463 C   0  0  0  0  0  0  0  0  0  0  0  0\\n   -4.3697   -0.5834    0.6808 C   0  0  0  0  0  0  0  0  0  0  0  0\\n   -3.5926    0.1376   -0.4060 C   0  0  0  0  0  0  0  0  0  0  0  0\\n   -2.1143   -0.1521   -0.1529 C   0  0  0  0  0  0  0  0  0  0  0  0\\n   -1.2451    0.5235   -1.1824 C   0  0  0  0  0  0  0  0  0  0  0  0\\n    0.1693    0.1994   -0.8752 C   0  0  0  0  0  0  0  0  0  0  0  0\\n    0.6522   -0.8942   -1.2601 O   0  0  0  0  0  0  0  0  0  0  0  0\\n    0.9928    1.0624   -0.1721 O   0  0  0  0  0  0  0  0  0  0  0  0\\n    2.3006    0.6704    0.0661 C   0  0  0  0  0  0  0  0  0  0  0  0\\n    3.3060    1.0252   -0.8194 C   0  0  0  0  0  0  0  0  0  0  0  0\\n    4.6150    0.6616   -0.6293 C   0  0  0  0  0  0  0  0  0  0  0  0\\n    4.9237   -0.0829    0.4877 C   0  0  0  0  0  0  0  0  0  0  0  0\\n    3.9545   -0.4495    1.3814 C   0  0  0  0  0  0  0  0  0  0  0  0\\n    2.6217   -0.0758    1.1816 C   0  0  0  0  0  0  0  0  0  0  0  0\\n    6.2724   -0.4779    0.7167 N   0  0  0  0  0  0  0  0  0  0  0  0\\n    6.6297   -1.1440    1.6874 O   0  0  0  0  0  0  0  0  0  0  0  0\\n    7.2667   -0.1106   -0.1840 O   0  0  0  0  0  0  0  0  0  0  0  0\\n   -6.2284   -0.8395   -0.3965 H   0  0  0  0  0  0  0  0  0  0  0  0\\n   -6.0491    0.7102    0.5413 H   0  0  0  0  0  0  0  0  0  0  0  0\\n   -6.3206   -0.8627    1.4384 H   0  0  0  0  0  0  0  0  0  0  0  0\\n   -4.0373   -0.1298    1.6431 H   0  0  0  0  0  0  0  0  0  0  0  0\\n   -4.1185   -1.6522    0.6594 H   0  0  0  0  0  0  0  0  0  0  0  0\\n   -3.8115    1.2070   -0.4412 H   0  0  0  0  0  0  0  0  0  0  0  0\\n   -3.8853   -0.3682   -1.3685 H   0  0  0  0  0  0  0  0  0  0  0  0\\n   -1.9546   -1.2404   -0.2306 H   0  0  0  0  0  0  0  0  0  0  0  0\\n   -1.8437    0.2706    0.8368 H   0  0  0  0  0  0  0  0  0  0  0  0\\n   -1.4473    0.1996   -2.2146 H   0  0  0  0  0  0  0  0  0  0  0  0\\n   -1.3888    1.6335   -1.1756 H   0  0  0  0  0  0  0  0  0  0  0  0\\n    3.0508    1.6114   -1.6940 H   0  0  0  0  0  0  0  0  0  0  0  0\\n    5.4282    0.9183   -1.2947 H   0  0  0  0  0  0  0  0  0  0  0  0\\n    4.2245   -1.0314    2.2455 H   0  0  0  0  0  0  0  0  0  0  0  0\\n    1.8523   -0.3550    1.8718 H   0  0  0  0  0  0  0  0  0  0  0  0\\n  1  2  1  0\\n  2  3  1  0\\n  3  4  1  0\\n  4  5  1  0\\n  5  6  1  0\\n  6  7  2  0\\n  6  8  1  0\\n  8  9  1  0\\n  9 10  2  0\\n 10 11  1  0\\n 11 12  2  0\\n 12 13  1  0\\n 13 14  2  0\\n 12 15  1  0\\n 15 16  2  0\\n 15 17  1  0\\n 14  9  1  0\\n  1 18  1  0\\n  1 19  1  0\\n  1 20  1  0\\n  2 21  1  0\\n  2 22  1  0\\n  3 23  1  0\\n  3 24  1  0\\n  4 25  1  0\\n  4 26  1  0\\n  5 27  1  0\\n  5 28  1  0\\n 10 29  1  0\\n 11 30  1  0\\n 13 31  1  0\\n 14 32  1  0\\nM  CHG  2  15   1  17  -1\\nM  END\\n\",\"sdf\");\n",
       "\tviewer_15320556415225942.setStyle({\"stick\": {}});\n",
       "\tviewer_15320556415225942.setBackgroundColor(\"0xeeeeee\");\n",
       "\tviewer_15320556415225942.zoomTo();\n",
       "\tviewer_15320556415225942.addModel(\"\\n     RDKit          3D\\n\\n 32 32  0  0  0  0  0  0  0  0999 V2000\\n   -3.2903   -1.7253   -0.8076 C   0  0  0  0  0  0  0  0  0  0  0  0\\n   -2.3701   -0.4866   -0.7005 C   0  0  0  0  0  0  0  0  0  0  0  0\\n   -3.2641    0.6701   -0.4933 C   0  0  0  0  0  0  0  0  0  0  0  0\\n   -2.5749    1.9773   -0.4227 C   0  0  0  0  0  0  0  0  0  0  0  0\\n   -1.6551    2.1932    0.6934 C   0  0  0  0  0  0  0  0  0  0  0  0\\n   -0.4581    1.3666    0.8428 C   0  0  0  0  0  0  0  0  0  0  0  0\\n   -0.1483    0.7420    1.9209 O   0  0  0  0  0  0  0  0  0  0  0  0\\n    0.4716    1.1848   -0.2016 O   0  0  0  0  0  0  0  0  0  0  0  0\\n    1.6032    0.3885   -0.0256 C   0  0  0  0  0  0  0  0  0  0  0  0\\n    2.7293    0.8807    0.6304 C   0  0  0  0  0  0  0  0  0  0  0  0\\n    3.8745    0.1681    0.8412 C   0  0  0  0  0  0  0  0  0  0  0  0\\n    3.9311   -1.1384    0.3733 C   0  0  0  0  0  0  0  0  0  0  0  0\\n    2.8353   -1.6529   -0.2780 C   0  0  0  0  0  0  0  0  0  0  0  0\\n    1.6722   -0.9092   -0.4842 C   0  0  0  0  0  0  0  0  0  0  0  0\\n    5.0861   -1.9387    0.5492 N   0  0  0  0  0  0  0  0  0  0  0  0\\n    6.0808   -1.4795    1.1393 O   0  0  0  0  0  0  0  0  0  0  0  0\\n    5.1010   -3.2130    0.0669 O   0  0  0  0  0  0  0  0  0  0  0  0\\n   -2.5924   -2.5949   -0.7391 H   0  0  0  0  0  0  0  0  0  0  0  0\\n   -3.9754   -1.6749    0.0466 H   0  0  0  0  0  0  0  0  0  0  0  0\\n   -3.7404   -1.7100   -1.7987 H   0  0  0  0  0  0  0  0  0  0  0  0\\n   -1.7367   -0.3767   -1.5919 H   0  0  0  0  0  0  0  0  0  0  0  0\\n   -1.7416   -0.6787    0.1571 H   0  0  0  0  0  0  0  0  0  0  0  0\\n   -3.8078    0.4598    0.4975 H   0  0  0  0  0  0  0  0  0  0  0  0\\n   -4.1254    0.6872   -1.2293 H   0  0  0  0  0  0  0  0  0  0  0  0\\n   -3.3566    2.8193   -0.4512 H   0  0  0  0  0  0  0  0  0  0  0  0\\n   -1.9959    2.1371   -1.4102 H   0  0  0  0  0  0  0  0  0  0  0  0\\n   -2.1965    2.1035    1.7031 H   0  0  0  0  0  0  0  0  0  0  0  0\\n   -1.3581    3.3062    0.7329 H   0  0  0  0  0  0  0  0  0  0  0  0\\n    2.6362    1.9207    0.9837 H   0  0  0  0  0  0  0  0  0  0  0  0\\n    4.7462    0.5937    1.3667 H   0  0  0  0  0  0  0  0  0  0  0  0\\n    2.8129   -2.6812   -0.6728 H   0  0  0  0  0  0  0  0  0  0  0  0\\n    0.8076   -1.3389   -1.0073 H   0  0  0  0  0  0  0  0  0  0  0  0\\n  1  2  1  0\\n  2  3  1  0\\n  3  4  1  0\\n  4  5  1  0\\n  5  6  1  0\\n  6  7  2  0\\n  6  8  1  0\\n  8  9  1  0\\n  9 10  2  0\\n 10 11  1  0\\n 11 12  2  0\\n 12 13  1  0\\n 13 14  2  0\\n 12 15  1  0\\n 15 16  2  0\\n 15 17  1  0\\n 14  9  1  0\\n  1 18  1  0\\n  1 19  1  0\\n  1 20  1  0\\n  2 21  1  0\\n  2 22  1  0\\n  3 23  1  0\\n  3 24  1  0\\n  4 25  1  0\\n  4 26  1  0\\n  5 27  1  0\\n  5 28  1  0\\n 10 29  1  0\\n 11 30  1  0\\n 13 31  1  0\\n 14 32  1  0\\nM  CHG  2  15   1  17  -1\\nM  END\\n\",\"sdf\");\n",
       "\tviewer_15320556415225942.setStyle({\"stick\": {}});\n",
       "\tviewer_15320556415225942.setBackgroundColor(\"0xeeeeee\");\n",
       "\tviewer_15320556415225942.zoomTo();\n",
       "\tviewer_15320556415225942.addModel(\"\\n     RDKit          3D\\n\\n 32 32  0  0  0  0  0  0  0  0999 V2000\\n   -5.7430   -0.2035   -0.4910 C   0  0  0  0  0  0  0  0  0  0  0  0\\n   -4.2419   -0.1651   -0.6991 C   0  0  0  0  0  0  0  0  0  0  0  0\\n   -3.6747    0.8791    0.2077 C   0  0  0  0  0  0  0  0  0  0  0  0\\n   -2.1811    1.0206    0.0996 C   0  0  0  0  0  0  0  0  0  0  0  0\\n   -1.4364   -0.2293    0.4327 C   0  0  0  0  0  0  0  0  0  0  0  0\\n    0.0183    0.0537    0.2850 C   0  0  0  0  0  0  0  0  0  0  0  0\\n    0.4578    1.1871   -0.0667 O   0  0  0  0  0  0  0  0  0  0  0  0\\n    0.9914   -0.9244    0.5283 O   0  0  0  0  0  0  0  0  0  0  0  0\\n    2.3399   -0.6799    0.3966 C   0  0  0  0  0  0  0  0  0  0  0  0\\n    2.9586   -0.8976   -0.8260 C   0  0  0  0  0  0  0  0  0  0  0  0\\n    4.3054   -0.6674   -1.0069 C   0  0  0  0  0  0  0  0  0  0  0  0\\n    5.0572   -0.2057    0.0656 C   0  0  0  0  0  0  0  0  0  0  0  0\\n    4.4131    0.0011    1.2682 C   0  0  0  0  0  0  0  0  0  0  0  0\\n    3.0773   -0.2207    1.4707 C   0  0  0  0  0  0  0  0  0  0  0  0\\n    6.4431    0.0338   -0.1117 N   0  0  0  0  0  0  0  0  0  0  0  0\\n    6.9833   -0.1636   -1.2045 O   0  0  0  0  0  0  0  0  0  0  0  0\\n    7.1707    0.4884    0.9534 O   0  0  0  0  0  0  0  0  0  0  0  0\\n   -6.3069   -0.2838   -1.4326 H   0  0  0  0  0  0  0  0  0  0  0  0\\n   -6.0552   -1.0325    0.1704 H   0  0  0  0  0  0  0  0  0  0  0  0\\n   -6.1050    0.7366    0.0098 H   0  0  0  0  0  0  0  0  0  0  0  0\\n   -3.8611   -1.1820   -0.5021 H   0  0  0  0  0  0  0  0  0  0  0  0\\n   -4.0756    0.0738   -1.7633 H   0  0  0  0  0  0  0  0  0  0  0  0\\n   -3.9640    0.6677    1.2551 H   0  0  0  0  0  0  0  0  0  0  0  0\\n   -4.1264    1.8519   -0.0728 H   0  0  0  0  0  0  0  0  0  0  0  0\\n   -1.8979    1.3566   -0.9164 H   0  0  0  0  0  0  0  0  0  0  0  0\\n   -1.8573    1.8213    0.7950 H   0  0  0  0  0  0  0  0  0  0  0  0\\n   -1.6001   -0.4915    1.4926 H   0  0  0  0  0  0  0  0  0  0  0  0\\n   -1.7745   -1.0235   -0.2624 H   0  0  0  0  0  0  0  0  0  0  0  0\\n    2.3311   -1.2594   -1.6382 H   0  0  0  0  0  0  0  0  0  0  0  0\\n    4.7659   -0.8474   -1.9804 H   0  0  0  0  0  0  0  0  0  0  0  0\\n    5.0119    0.3596    2.0899 H   0  0  0  0  0  0  0  0  0  0  0  0\\n    2.5760   -0.0538    2.4279 H   0  0  0  0  0  0  0  0  0  0  0  0\\n  1  2  1  0\\n  2  3  1  0\\n  3  4  1  0\\n  4  5  1  0\\n  5  6  1  0\\n  6  7  2  0\\n  6  8  1  0\\n  8  9  1  0\\n  9 10  2  0\\n 10 11  1  0\\n 11 12  2  0\\n 12 13  1  0\\n 13 14  2  0\\n 12 15  1  0\\n 15 16  2  0\\n 15 17  1  0\\n 14  9  1  0\\n  1 18  1  0\\n  1 19  1  0\\n  1 20  1  0\\n  2 21  1  0\\n  2 22  1  0\\n  3 23  1  0\\n  3 24  1  0\\n  4 25  1  0\\n  4 26  1  0\\n  5 27  1  0\\n  5 28  1  0\\n 10 29  1  0\\n 11 30  1  0\\n 13 31  1  0\\n 14 32  1  0\\nM  CHG  2  15   1  17  -1\\nM  END\\n\",\"sdf\");\n",
       "\tviewer_15320556415225942.setStyle({\"stick\": {}});\n",
       "\tviewer_15320556415225942.setBackgroundColor(\"0xeeeeee\");\n",
       "\tviewer_15320556415225942.zoomTo();\n",
       "\tviewer_15320556415225942.addModel(\"\\n     RDKit          3D\\n\\n 32 32  0  0  0  0  0  0  0  0999 V2000\\n   -4.6249   -0.7736    0.9873 C   0  0  0  0  0  0  0  0  0  0  0  0\\n   -3.1793   -0.8764    1.3970 C   0  0  0  0  0  0  0  0  0  0  0  0\\n   -2.3207   -0.5874    0.1814 C   0  0  0  0  0  0  0  0  0  0  0  0\\n   -2.6314    0.8105   -0.3146 C   0  0  0  0  0  0  0  0  0  0  0  0\\n   -1.7551    1.0726   -1.5376 C   0  0  0  0  0  0  0  0  0  0  0  0\\n   -0.3507    0.9548   -1.0996 C   0  0  0  0  0  0  0  0  0  0  0  0\\n    0.1735    1.9089   -0.4779 O   0  0  0  0  0  0  0  0  0  0  0  0\\n    0.4197   -0.1640   -1.3437 O   0  0  0  0  0  0  0  0  0  0  0  0\\n    1.7271   -0.1536   -0.8820 C   0  0  0  0  0  0  0  0  0  0  0  0\\n    2.0705   -0.6084    0.3661 C   0  0  0  0  0  0  0  0  0  0  0  0\\n    3.3967   -0.5573    0.7350 C   0  0  0  0  0  0  0  0  0  0  0  0\\n    4.3786   -0.0652   -0.1100 C   0  0  0  0  0  0  0  0  0  0  0  0\\n    3.9813    0.3806   -1.3556 C   0  0  0  0  0  0  0  0  0  0  0  0\\n    2.6808    0.3533   -1.7743 C   0  0  0  0  0  0  0  0  0  0  0  0\\n    5.7467   -0.0074    0.2582 N   0  0  0  0  0  0  0  0  0  0  0  0\\n    6.1041   -0.4077    1.3798 O   0  0  0  0  0  0  0  0  0  0  0  0\\n    6.6662    0.4791   -0.6009 O   0  0  0  0  0  0  0  0  0  0  0  0\\n   -5.2587   -1.5861    1.4211 H   0  0  0  0  0  0  0  0  0  0  0  0\\n   -4.7540   -0.8195   -0.1145 H   0  0  0  0  0  0  0  0  0  0  0  0\\n   -4.9883    0.2340    1.3140 H   0  0  0  0  0  0  0  0  0  0  0  0\\n   -2.9280   -1.9123    1.7646 H   0  0  0  0  0  0  0  0  0  0  0  0\\n   -2.9052   -0.1753    2.1913 H   0  0  0  0  0  0  0  0  0  0  0  0\\n   -1.2371   -0.6477    0.4205 H   0  0  0  0  0  0  0  0  0  0  0  0\\n   -2.5240   -1.2897   -0.6525 H   0  0  0  0  0  0  0  0  0  0  0  0\\n   -3.7005    0.8912   -0.5955 H   0  0  0  0  0  0  0  0  0  0  0  0\\n   -2.4056    1.5461    0.4818 H   0  0  0  0  0  0  0  0  0  0  0  0\\n   -2.0004    0.3347   -2.3278 H   0  0  0  0  0  0  0  0  0  0  0  0\\n   -1.9286    2.0862   -1.9458 H   0  0  0  0  0  0  0  0  0  0  0  0\\n    1.2992   -0.9885    1.0154 H   0  0  0  0  0  0  0  0  0  0  0  0\\n    3.7133   -0.9115    1.7259 H   0  0  0  0  0  0  0  0  0  0  0  0\\n    4.7495    0.7690   -2.0252 H   0  0  0  0  0  0  0  0  0  0  0  0\\n    2.3853    0.7105   -2.7630 H   0  0  0  0  0  0  0  0  0  0  0  0\\n  1  2  1  0\\n  2  3  1  0\\n  3  4  1  0\\n  4  5  1  0\\n  5  6  1  0\\n  6  7  2  0\\n  6  8  1  0\\n  8  9  1  0\\n  9 10  2  0\\n 10 11  1  0\\n 11 12  2  0\\n 12 13  1  0\\n 13 14  2  0\\n 12 15  1  0\\n 15 16  2  0\\n 15 17  1  0\\n 14  9  1  0\\n  1 18  1  0\\n  1 19  1  0\\n  1 20  1  0\\n  2 21  1  0\\n  2 22  1  0\\n  3 23  1  0\\n  3 24  1  0\\n  4 25  1  0\\n  4 26  1  0\\n  5 27  1  0\\n  5 28  1  0\\n 10 29  1  0\\n 11 30  1  0\\n 13 31  1  0\\n 14 32  1  0\\nM  CHG  2  15   1  17  -1\\nM  END\\n\",\"sdf\");\n",
       "\tviewer_15320556415225942.setStyle({\"stick\": {}});\n",
       "\tviewer_15320556415225942.setBackgroundColor(\"0xeeeeee\");\n",
       "\tviewer_15320556415225942.zoomTo();\n",
       "\tviewer_15320556415225942.addModel(\"\\n     RDKit          3D\\n\\n 32 32  0  0  0  0  0  0  0  0999 V2000\\n   -5.7646    0.3193   -0.1097 C   0  0  0  0  0  0  0  0  0  0  0  0\\n   -4.3032    0.3008    0.3388 C   0  0  0  0  0  0  0  0  0  0  0  0\\n   -3.5077   -0.4774   -0.6760 C   0  0  0  0  0  0  0  0  0  0  0  0\\n   -2.0776   -0.5468   -0.2691 C   0  0  0  0  0  0  0  0  0  0  0  0\\n   -1.4942    0.8397   -0.1845 C   0  0  0  0  0  0  0  0  0  0  0  0\\n   -0.0515    0.6333    0.2096 C   0  0  0  0  0  0  0  0  0  0  0  0\\n    0.2289    0.4062    1.4134 O   0  0  0  0  0  0  0  0  0  0  0  0\\n    0.9697    0.6841   -0.7013 O   0  0  0  0  0  0  0  0  0  0  0  0\\n    2.3016    0.4965   -0.3593 C   0  0  0  0  0  0  0  0  0  0  0  0\\n    2.9112   -0.7515   -0.3768 C   0  0  0  0  0  0  0  0  0  0  0  0\\n    4.2296   -0.9324   -0.0381 C   0  0  0  0  0  0  0  0  0  0  0  0\\n    5.0145    0.1449    0.3406 C   0  0  0  0  0  0  0  0  0  0  0  0\\n    4.4095    1.3958    0.3600 C   0  0  0  0  0  0  0  0  0  0  0  0\\n    3.0836    1.5661    0.0176 C   0  0  0  0  0  0  0  0  0  0  0  0\\n    6.3724   -0.0413    0.6901 N   0  0  0  0  0  0  0  0  0  0  0  0\\n    6.8475   -1.1889    0.6475 O   0  0  0  0  0  0  0  0  0  0  0  0\\n    7.1838    0.9944    1.0726 O   0  0  0  0  0  0  0  0  0  0  0  0\\n   -6.3931    0.5530    0.7558 H   0  0  0  0  0  0  0  0  0  0  0  0\\n   -5.8373    1.0975   -0.8959 H   0  0  0  0  0  0  0  0  0  0  0  0\\n   -5.9606   -0.6639   -0.5700 H   0  0  0  0  0  0  0  0  0  0  0  0\\n   -3.9132    1.3470    0.3544 H   0  0  0  0  0  0  0  0  0  0  0  0\\n   -4.1948   -0.0982    1.3533 H   0  0  0  0  0  0  0  0  0  0  0  0\\n   -3.6130    0.0660   -1.6550 H   0  0  0  0  0  0  0  0  0  0  0  0\\n   -3.9337   -1.5073   -0.8114 H   0  0  0  0  0  0  0  0  0  0  0  0\\n   -1.4653   -1.2159   -0.9107 H   0  0  0  0  0  0  0  0  0  0  0  0\\n   -2.0722   -1.0300    0.7547 H   0  0  0  0  0  0  0  0  0  0  0  0\\n   -1.9822    1.5115    0.5195 H   0  0  0  0  0  0  0  0  0  0  0  0\\n   -1.5461    1.2799   -1.2118 H   0  0  0  0  0  0  0  0  0  0  0  0\\n    2.2754   -1.5783   -0.6768 H   0  0  0  0  0  0  0  0  0  0  0  0\\n    4.6638   -1.9423   -0.0683 H   0  0  0  0  0  0  0  0  0  0  0  0\\n    5.0062    2.2412    0.6505 H   0  0  0  0  0  0  0  0  0  0  0  0\\n    2.6126    2.5592    0.0361 H   0  0  0  0  0  0  0  0  0  0  0  0\\n  1  2  1  0\\n  2  3  1  0\\n  3  4  1  0\\n  4  5  1  0\\n  5  6  1  0\\n  6  7  2  0\\n  6  8  1  0\\n  8  9  1  0\\n  9 10  2  0\\n 10 11  1  0\\n 11 12  2  0\\n 12 13  1  0\\n 13 14  2  0\\n 12 15  1  0\\n 15 16  2  0\\n 15 17  1  0\\n 14  9  1  0\\n  1 18  1  0\\n  1 19  1  0\\n  1 20  1  0\\n  2 21  1  0\\n  2 22  1  0\\n  3 23  1  0\\n  3 24  1  0\\n  4 25  1  0\\n  4 26  1  0\\n  5 27  1  0\\n  5 28  1  0\\n 10 29  1  0\\n 11 30  1  0\\n 13 31  1  0\\n 14 32  1  0\\nM  CHG  2  15   1  17  -1\\nM  END\\n\",\"sdf\");\n",
       "\tviewer_15320556415225942.setStyle({\"stick\": {}});\n",
       "\tviewer_15320556415225942.setBackgroundColor(\"0xeeeeee\");\n",
       "\tviewer_15320556415225942.zoomTo();\n",
       "\tviewer_15320556415225942.addModel(\"\\n     RDKit          3D\\n\\n 32 32  0  0  0  0  0  0  0  0999 V2000\\n   -6.0827    0.1136   -0.0277 C   0  0  0  0  0  0  0  0  0  0  0  0\\n   -4.7991   -0.5625    0.4020 C   0  0  0  0  0  0  0  0  0  0  0  0\\n   -3.6444    0.2717   -0.1153 C   0  0  0  0  0  0  0  0  0  0  0  0\\n   -2.3207   -0.3575    0.2855 C   0  0  0  0  0  0  0  0  0  0  0  0\\n   -1.2276    0.5219   -0.2604 C   0  0  0  0  0  0  0  0  0  0  0  0\\n    0.1239    0.0178    0.0622 C   0  0  0  0  0  0  0  0  0  0  0  0\\n    0.3674   -1.0263    0.7178 O   0  0  0  0  0  0  0  0  0  0  0  0\\n    1.2024    0.7592   -0.3973 O   0  0  0  0  0  0  0  0  0  0  0  0\\n    2.5156    0.4475   -0.1956 C   0  0  0  0  0  0  0  0  0  0  0  0\\n    3.2353   -0.3397   -1.0711 C   0  0  0  0  0  0  0  0  0  0  0  0\\n    4.5657   -0.6423   -0.8456 C   0  0  0  0  0  0  0  0  0  0  0  0\\n    5.2254   -0.1690    0.2632 C   0  0  0  0  0  0  0  0  0  0  0  0\\n    4.5027    0.6171    1.1354 C   0  0  0  0  0  0  0  0  0  0  0  0\\n    3.1777    0.9215    0.9157 C   0  0  0  0  0  0  0  0  0  0  0  0\\n    6.6050   -0.4689    0.5192 N   0  0  0  0  0  0  0  0  0  0  0  0\\n    7.2941   -1.1606   -0.2197 O   0  0  0  0  0  0  0  0  0  0  0  0\\n    7.1906    0.0438    1.6518 O   0  0  0  0  0  0  0  0  0  0  0  0\\n   -6.5714   -0.4316   -0.8605 H   0  0  0  0  0  0  0  0  0  0  0  0\\n   -5.8905    1.1708   -0.2519 H   0  0  0  0  0  0  0  0  0  0  0  0\\n   -6.7800    0.0830    0.8368 H   0  0  0  0  0  0  0  0  0  0  0  0\\n   -4.7407   -0.6228    1.5060 H   0  0  0  0  0  0  0  0  0  0  0  0\\n   -4.7922   -1.5829   -0.0014 H   0  0  0  0  0  0  0  0  0  0  0  0\\n   -3.7285    1.3123    0.2275 H   0  0  0  0  0  0  0  0  0  0  0  0\\n   -3.7593    0.2910   -1.2301 H   0  0  0  0  0  0  0  0  0  0  0  0\\n   -2.2595   -1.3703   -0.1175 H   0  0  0  0  0  0  0  0  0  0  0  0\\n   -2.3006   -0.3998    1.3879 H   0  0  0  0  0  0  0  0  0  0  0  0\\n   -1.3181    1.5339    0.1371 H   0  0  0  0  0  0  0  0  0  0  0  0\\n   -1.3222    0.4913   -1.3789 H   0  0  0  0  0  0  0  0  0  0  0  0\\n    2.7572   -0.7466   -1.9770 H   0  0  0  0  0  0  0  0  0  0  0  0\\n    5.1328   -1.2606   -1.5323 H   0  0  0  0  0  0  0  0  0  0  0  0\\n    5.0110    1.0007    2.0201 H   0  0  0  0  0  0  0  0  0  0  0  0\\n    2.6306    1.5443    1.6202 H   0  0  0  0  0  0  0  0  0  0  0  0\\n  1  2  1  0\\n  2  3  1  0\\n  3  4  1  0\\n  4  5  1  0\\n  5  6  1  0\\n  6  7  2  0\\n  6  8  1  0\\n  8  9  1  0\\n  9 10  2  0\\n 10 11  1  0\\n 11 12  2  0\\n 12 13  1  0\\n 13 14  2  0\\n 12 15  1  0\\n 15 16  2  0\\n 15 17  1  0\\n 14  9  1  0\\n  1 18  1  0\\n  1 19  1  0\\n  1 20  1  0\\n  2 21  1  0\\n  2 22  1  0\\n  3 23  1  0\\n  3 24  1  0\\n  4 25  1  0\\n  4 26  1  0\\n  5 27  1  0\\n  5 28  1  0\\n 10 29  1  0\\n 11 30  1  0\\n 13 31  1  0\\n 14 32  1  0\\nM  CHG  2  15   1  17  -1\\nM  END\\n\",\"sdf\");\n",
       "\tviewer_15320556415225942.setStyle({\"stick\": {}});\n",
       "\tviewer_15320556415225942.setBackgroundColor(\"0xeeeeee\");\n",
       "\tviewer_15320556415225942.zoomTo();\n",
       "\tviewer_15320556415225942.addModel(\"\\n     RDKit          3D\\n\\n 32 32  0  0  0  0  0  0  0  0999 V2000\\n    4.0473   -1.1644    1.1249 C   0  0  0  0  0  0  0  0  0  0  0  0\\n    3.5777    0.1236    0.4593 C   0  0  0  0  0  0  0  0  0  0  0  0\\n    2.9888   -0.1917   -0.9175 C   0  0  0  0  0  0  0  0  0  0  0  0\\n    2.5276    1.0576   -1.5795 C   0  0  0  0  0  0  0  0  0  0  0  0\\n    1.4760    1.8204   -0.8411 C   0  0  0  0  0  0  0  0  0  0  0  0\\n    0.2534    1.0429   -0.6734 C   0  0  0  0  0  0  0  0  0  0  0  0\\n    0.1431   -0.0973   -1.1645 O   0  0  0  0  0  0  0  0  0  0  0  0\\n   -0.8577    1.5243    0.0409 O   0  0  0  0  0  0  0  0  0  0  0  0\\n   -1.9801    0.7172    0.1515 C   0  0  0  0  0  0  0  0  0  0  0  0\\n   -2.9796    0.7488   -0.7969 C   0  0  0  0  0  0  0  0  0  0  0  0\\n   -4.1042   -0.0468   -0.7046 C   0  0  0  0  0  0  0  0  0  0  0  0\\n   -4.2907   -0.9212    0.3466 C   0  0  0  0  0  0  0  0  0  0  0  0\\n   -3.2849   -0.9550    1.3041 C   0  0  0  0  0  0  0  0  0  0  0  0\\n   -2.1598   -0.1595    1.2119 C   0  0  0  0  0  0  0  0  0  0  0  0\\n   -5.4485   -1.7397    0.4419 N   0  0  0  0  0  0  0  0  0  0  0  0\\n   -5.6663   -2.5396    1.3647 O   0  0  0  0  0  0  0  0  0  0  0  0\\n   -6.3890   -1.6412   -0.5488 O   0  0  0  0  0  0  0  0  0  0  0  0\\n    4.9759   -1.4585    0.5899 H   0  0  0  0  0  0  0  0  0  0  0  0\\n    4.1669   -1.0372    2.2032 H   0  0  0  0  0  0  0  0  0  0  0  0\\n    3.3076   -1.9668    0.9304 H   0  0  0  0  0  0  0  0  0  0  0  0\\n    2.8339    0.5750    1.1422 H   0  0  0  0  0  0  0  0  0  0  0  0\\n    4.4044    0.8511    0.3529 H   0  0  0  0  0  0  0  0  0  0  0  0\\n    2.3131   -1.0355   -0.8937 H   0  0  0  0  0  0  0  0  0  0  0  0\\n    3.8775   -0.5497   -1.5330 H   0  0  0  0  0  0  0  0  0  0  0  0\\n    2.1961    0.8318   -2.6294 H   0  0  0  0  0  0  0  0  0  0  0  0\\n    3.4380    1.7120   -1.7419 H   0  0  0  0  0  0  0  0  0  0  0  0\\n    1.2970    2.8196   -1.3168 H   0  0  0  0  0  0  0  0  0  0  0  0\\n    1.8594    2.0758    0.1888 H   0  0  0  0  0  0  0  0  0  0  0  0\\n   -2.8729    1.4281   -1.6480 H   0  0  0  0  0  0  0  0  0  0  0  0\\n   -4.8927   -0.0163   -1.4628 H   0  0  0  0  0  0  0  0  0  0  0  0\\n   -3.3934   -1.6345    2.1531 H   0  0  0  0  0  0  0  0  0  0  0  0\\n   -1.3641   -0.1731    1.9504 H   0  0  0  0  0  0  0  0  0  0  0  0\\n  1  2  1  0\\n  2  3  1  0\\n  3  4  1  0\\n  4  5  1  0\\n  5  6  1  0\\n  6  7  2  0\\n  6  8  1  0\\n  8  9  1  0\\n  9 10  2  0\\n 10 11  1  0\\n 11 12  2  0\\n 12 13  1  0\\n 13 14  2  0\\n 12 15  1  0\\n 15 16  2  0\\n 15 17  1  0\\n 14  9  1  0\\n  1 18  1  0\\n  1 19  1  0\\n  1 20  1  0\\n  2 21  1  0\\n  2 22  1  0\\n  3 23  1  0\\n  3 24  1  0\\n  4 25  1  0\\n  4 26  1  0\\n  5 27  1  0\\n  5 28  1  0\\n 10 29  1  0\\n 11 30  1  0\\n 13 31  1  0\\n 14 32  1  0\\nM  CHG  2  15   1  17  -1\\nM  END\\n\",\"sdf\");\n",
       "\tviewer_15320556415225942.setStyle({\"stick\": {}});\n",
       "\tviewer_15320556415225942.setBackgroundColor(\"0xeeeeee\");\n",
       "\tviewer_15320556415225942.zoomTo();\n",
       "\tviewer_15320556415225942.addModel(\"\\n     RDKit          3D\\n\\n 32 32  0  0  0  0  0  0  0  0999 V2000\\n   -4.7100   -0.1677    0.8132 C   0  0  0  0  0  0  0  0  0  0  0  0\\n   -4.5165    0.8176   -0.2814 C   0  0  0  0  0  0  0  0  0  0  0  0\\n   -3.4291    0.5645   -1.2406 C   0  0  0  0  0  0  0  0  0  0  0  0\\n   -2.0493    0.5644   -0.7362 C   0  0  0  0  0  0  0  0  0  0  0  0\\n   -1.7106   -0.4632    0.2793 C   0  0  0  0  0  0  0  0  0  0  0  0\\n   -0.2310   -0.3385    0.6316 C   0  0  0  0  0  0  0  0  0  0  0  0\\n    0.1174   -0.0206    1.7718 O   0  0  0  0  0  0  0  0  0  0  0  0\\n    0.7325   -0.5827   -0.3339 O   0  0  0  0  0  0  0  0  0  0  0  0\\n    2.1065   -0.4896   -0.0769 C   0  0  0  0  0  0  0  0  0  0  0  0\\n    2.6875    0.7548   -0.0957 C   0  0  0  0  0  0  0  0  0  0  0  0\\n    4.0248    0.9386    0.1432 C   0  0  0  0  0  0  0  0  0  0  0  0\\n    4.8064   -0.1623    0.4095 C   0  0  0  0  0  0  0  0  0  0  0  0\\n    4.2167   -1.4105    0.4273 C   0  0  0  0  0  0  0  0  0  0  0  0\\n    2.8740   -1.5924    0.1874 C   0  0  0  0  0  0  0  0  0  0  0  0\\n    6.1825    0.0396    0.6493 N   0  0  0  0  0  0  0  0  0  0  0  0\\n    6.6719    1.1691    0.6322 O   0  0  0  0  0  0  0  0  0  0  0  0\\n    6.9797   -1.0408    0.9034 O   0  0  0  0  0  0  0  0  0  0  0  0\\n   -5.8278   -0.3475    0.8725 H   0  0  0  0  0  0  0  0  0  0  0  0\\n   -4.2565   -1.1330    0.5545 H   0  0  0  0  0  0  0  0  0  0  0  0\\n   -4.4173    0.2054    1.8191 H   0  0  0  0  0  0  0  0  0  0  0  0\\n   -4.3738    1.8242    0.2061 H   0  0  0  0  0  0  0  0  0  0  0  0\\n   -5.4567    0.9637   -0.8945 H   0  0  0  0  0  0  0  0  0  0  0  0\\n   -3.4663    1.2960   -2.1037 H   0  0  0  0  0  0  0  0  0  0  0  0\\n   -3.5814   -0.4434   -1.7561 H   0  0  0  0  0  0  0  0  0  0  0  0\\n   -1.3006    0.4213   -1.5966 H   0  0  0  0  0  0  0  0  0  0  0  0\\n   -1.7232    1.6006   -0.3701 H   0  0  0  0  0  0  0  0  0  0  0  0\\n   -1.9403   -1.4802   -0.0368 H   0  0  0  0  0  0  0  0  0  0  0  0\\n   -2.1972   -0.2314    1.2552 H   0  0  0  0  0  0  0  0  0  0  0  0\\n    2.0621    1.6318   -0.3085 H   0  0  0  0  0  0  0  0  0  0  0  0\\n    4.4831    1.9435    0.1294 H   0  0  0  0  0  0  0  0  0  0  0  0\\n    4.8536   -2.2746    0.6427 H   0  0  0  0  0  0  0  0  0  0  0  0\\n    2.3891   -2.5564    0.1965 H   0  0  0  0  0  0  0  0  0  0  0  0\\n  1  2  1  0\\n  2  3  1  0\\n  3  4  1  0\\n  4  5  1  0\\n  5  6  1  0\\n  6  7  2  0\\n  6  8  1  0\\n  8  9  1  0\\n  9 10  2  0\\n 10 11  1  0\\n 11 12  2  0\\n 12 13  1  0\\n 13 14  2  0\\n 12 15  1  0\\n 15 16  2  0\\n 15 17  1  0\\n 14  9  1  0\\n  1 18  1  0\\n  1 19  1  0\\n  1 20  1  0\\n  2 21  1  0\\n  2 22  1  0\\n  3 23  1  0\\n  3 24  1  0\\n  4 25  1  0\\n  4 26  1  0\\n  5 27  1  0\\n  5 28  1  0\\n 10 29  1  0\\n 11 30  1  0\\n 13 31  1  0\\n 14 32  1  0\\nM  CHG  2  15   1  17  -1\\nM  END\\n\",\"sdf\");\n",
       "\tviewer_15320556415225942.setStyle({\"stick\": {}});\n",
       "\tviewer_15320556415225942.setBackgroundColor(\"0xeeeeee\");\n",
       "\tviewer_15320556415225942.zoomTo();\n",
       "\tviewer_15320556415225942.addModel(\"\\n     RDKit          3D\\n\\n 32 32  0  0  0  0  0  0  0  0999 V2000\\n   -4.5211    0.4751    1.5302 C   0  0  0  0  0  0  0  0  0  0  0  0\\n   -4.4933    0.6435    0.0647 C   0  0  0  0  0  0  0  0  0  0  0  0\\n   -3.9383   -0.4965   -0.7154 C   0  0  0  0  0  0  0  0  0  0  0  0\\n   -2.5349   -0.8655   -0.4172 C   0  0  0  0  0  0  0  0  0  0  0  0\\n   -1.5511    0.2577   -0.6700 C   0  0  0  0  0  0  0  0  0  0  0  0\\n   -0.1599   -0.1616   -0.3564 C   0  0  0  0  0  0  0  0  0  0  0  0\\n    0.1256   -1.3117    0.0638 O   0  0  0  0  0  0  0  0  0  0  0  0\\n    0.8633    0.7342   -0.5284 O   0  0  0  0  0  0  0  0  0  0  0  0\\n    2.1997    0.4617   -0.2707 C   0  0  0  0  0  0  0  0  0  0  0  0\\n    2.8096    0.6683    0.9445 C   0  0  0  0  0  0  0  0  0  0  0  0\\n    4.1570    0.3685    1.1212 C   0  0  0  0  0  0  0  0  0  0  0  0\\n    4.9355   -0.1457    0.0930 C   0  0  0  0  0  0  0  0  0  0  0  0\\n    4.3165   -0.3491   -1.1194 C   0  0  0  0  0  0  0  0  0  0  0  0\\n    2.9646   -0.0483   -1.2970 C   0  0  0  0  0  0  0  0  0  0  0  0\\n    6.3091   -0.4500    0.2774 N   0  0  0  0  0  0  0  0  0  0  0  0\\n    6.9495   -0.9076   -0.6832 O   0  0  0  0  0  0  0  0  0  0  0  0\\n    6.9678   -0.2650    1.4634 O   0  0  0  0  0  0  0  0  0  0  0  0\\n   -4.0948   -0.4728    1.9069 H   0  0  0  0  0  0  0  0  0  0  0  0\\n   -3.9786    1.2893    2.0684 H   0  0  0  0  0  0  0  0  0  0  0  0\\n   -5.5698    0.5115    1.9392 H   0  0  0  0  0  0  0  0  0  0  0  0\\n   -5.5258    0.8336   -0.2965 H   0  0  0  0  0  0  0  0  0  0  0  0\\n   -3.9229    1.5794   -0.1714 H   0  0  0  0  0  0  0  0  0  0  0  0\\n   -4.5717   -1.3946   -0.5866 H   0  0  0  0  0  0  0  0  0  0  0  0\\n   -4.0048   -0.2317   -1.7966 H   0  0  0  0  0  0  0  0  0  0  0  0\\n   -2.4050   -1.2992    0.6060 H   0  0  0  0  0  0  0  0  0  0  0  0\\n   -2.2437   -1.6861   -1.1145 H   0  0  0  0  0  0  0  0  0  0  0  0\\n   -1.5695    0.4911   -1.7550 H   0  0  0  0  0  0  0  0  0  0  0  0\\n   -1.8043    1.1514   -0.0433 H   0  0  0  0  0  0  0  0  0  0  0  0\\n    2.2161    1.0666    1.7493 H   0  0  0  0  0  0  0  0  0  0  0  0\\n    4.6496    0.5286    2.0800 H   0  0  0  0  0  0  0  0  0  0  0  0\\n    4.9175   -0.7541   -1.9400 H   0  0  0  0  0  0  0  0  0  0  0  0\\n    2.5080   -0.2207   -2.2652 H   0  0  0  0  0  0  0  0  0  0  0  0\\n  1  2  1  0\\n  2  3  1  0\\n  3  4  1  0\\n  4  5  1  0\\n  5  6  1  0\\n  6  7  2  0\\n  6  8  1  0\\n  8  9  1  0\\n  9 10  2  0\\n 10 11  1  0\\n 11 12  2  0\\n 12 13  1  0\\n 13 14  2  0\\n 12 15  1  0\\n 15 16  2  0\\n 15 17  1  0\\n 14  9  1  0\\n  1 18  1  0\\n  1 19  1  0\\n  1 20  1  0\\n  2 21  1  0\\n  2 22  1  0\\n  3 23  1  0\\n  3 24  1  0\\n  4 25  1  0\\n  4 26  1  0\\n  5 27  1  0\\n  5 28  1  0\\n 10 29  1  0\\n 11 30  1  0\\n 13 31  1  0\\n 14 32  1  0\\nM  CHG  2  15   1  17  -1\\nM  END\\n\",\"sdf\");\n",
       "\tviewer_15320556415225942.setStyle({\"stick\": {}});\n",
       "\tviewer_15320556415225942.setBackgroundColor(\"0xeeeeee\");\n",
       "\tviewer_15320556415225942.zoomTo();\n",
       "viewer_15320556415225942.render();\n",
       "});\n",
       "</script>"
      ]
     },
     "metadata": {},
     "output_type": "display_data"
    }
   ],
   "source": [
    "for name, smile in molecules.items():\n",
    "    m = Chem.MolFromSmiles(smile)\n",
    "    m = Chem.AddHs(m)\n",
    "    Chem.EmbedMultipleConfs(m, numConfs=10, randomSeed=0xf00d, \n",
    "                            useExpTorsionAnglePrefs=True,\n",
    "                            useBasicKnowledge=True)\n",
    "    p = py3Dmol.view(width=400,height=400)\n",
    "    for confId in range(10):\n",
    "        drawit2(m,p,confId)\n",
    "    p.show()"
   ]
  },
  {
   "cell_type": "code",
   "execution_count": null,
   "metadata": {},
   "outputs": [],
   "source": []
  },
  {
   "cell_type": "code",
   "execution_count": null,
   "metadata": {},
   "outputs": [],
   "source": []
  },
  {
   "cell_type": "code",
   "execution_count": null,
   "metadata": {},
   "outputs": [],
   "source": []
  },
  {
   "cell_type": "code",
   "execution_count": null,
   "metadata": {},
   "outputs": [],
   "source": []
  },
  {
   "cell_type": "code",
   "execution_count": 100,
   "metadata": {},
   "outputs": [
    {
     "data": {
      "text/plain": [
       "(0, 10)"
      ]
     },
     "execution_count": 100,
     "metadata": {},
     "output_type": "execute_result"
    },
    {
     "data": {
      "image/png": "[encoded data removed]",
      "text/plain": [
       "<Figure size 432x288 with 1 Axes>"
      ]
     },
     "metadata": {},
     "output_type": "display_data"
    }
   ],
   "source": [
    "plt.hist(min_diam_sums, facecolor='k', alpha=0.4)\n",
    "plt.hist(mid_diam_sums, facecolor='r', alpha=0.4)\n",
    "plt.hist(avg_diam_sums, facecolor='b', alpha=0.4)\n",
    "plt.xlim(0, 10)"
   ]
  },
  {
   "cell_type": "code",
   "execution_count": null,
   "metadata": {},
   "outputs": [],
   "source": []
  },
  {
   "cell_type": "code",
   "execution_count": null,
   "metadata": {},
   "outputs": [],
   "source": []
  },
  {
   "cell_type": "code",
   "execution_count": null,
   "metadata": {},
   "outputs": [],
   "source": []
  }
 ],
 "metadata": {
  "kernelspec": {
   "display_name": "Python 3",
   "language": "python",
   "name": "python3"
  },
  "language_info": {
   "codemirror_mode": {
    "name": "ipython",
    "version": 3
   },
   "file_extension": ".py",
   "mimetype": "text/x-python",
   "name": "python",
   "nbconvert_exporter": "python",
   "pygments_lexer": "ipython3",
   "version": "3.6.5"
  }
 },
 "nbformat": 4,
 "nbformat_minor": 2
}
