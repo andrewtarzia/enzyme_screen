{
 "cells": [
  {
   "cell_type": "code",
   "execution_count": 12,
   "metadata": {
    "ExecuteTime": {
     "end_time": "2018-11-08T00:04:02.672134Z",
     "start_time": "2018-11-08T00:04:02.625600Z"
    }
   },
   "outputs": [
    {
     "data": {
      "text/html": [
       "<style>.container { width:95% !important; }</style>"
      ],
      "text/plain": [
       "<IPython.core.display.HTML object>"
      ]
     },
     "metadata": {},
     "output_type": "display_data"
    }
   ],
   "source": [
    "from IPython.core.display import HTML\n",
    "display(HTML(\"<style>.container { width:95% !important; }</style>\"))\n",
    "%load_ext autoreload\n",
    "%autoreload 1"
   ]
  },
  {
   "cell_type": "markdown",
   "metadata": {},
   "source": [
    "Author: Andrew Tarzia\n",
    "\n",
    "Date Created: 12 Jul 2018\n",
    "\n",
    "Distributed under the terms of the MIT License."
   ]
  },
  {
   "cell_type": "markdown",
   "metadata": {},
   "source": [
    "## Visualize properties of a random subset of reaction systems in a directory for comparison\n",
    "- check:\n",
    "    - reaction components with Database website\n",
    "    - molecules with PUBCHEM/CHEBI\n",
    "    - molecule properties with PUBCHEM\n",
    "    - sequence with Database website\n",
    "    - sequence properties with UniPROT"
   ]
  },
  {
   "cell_type": "code",
   "execution_count": 13,
   "metadata": {
    "ExecuteTime": {
     "end_time": "2018-11-08T02:15:52.671859Z",
     "start_time": "2018-11-08T02:15:52.407602Z"
    }
   },
   "outputs": [],
   "source": [
    "import glob\n",
    "from ercollect import molecule as mol\n",
    "from ercollect.molecule import molecule\n",
    "from ercollect import rxn_syst\n",
    "from ercollect.rxn_syst import reaction\n",
    "import numpy as np\n",
    "import random\n",
    "from rdkit.Chem import Draw\n",
    "from rdkit.Chem import AllChem as Chem\n",
    "from rdkit.Chem.Draw import IPythonConsole\n",
    "from rdkit.Chem.Draw import rdMolDraw2D\n",
    "from rdkit.Chem.Draw.MolDrawing import MolDrawing, DrawingOptions\n",
    "from IPython.display import clear_output"
   ]
  },
  {
   "cell_type": "code",
   "execution_count": 4,
   "metadata": {
    "ExecuteTime": {
     "end_time": "2018-11-08T02:15:53.180016Z",
     "start_time": "2018-11-08T02:15:53.176223Z"
    }
   },
   "outputs": [],
   "source": [
    "directory = '/home/atarzia/psp/screening_results/'\n",
    "directory += 'kegg_111218/'\n",
    "# directory += 'atlas_111218/'\n",
    "# directory += 'new_reactions_kegg_atlas/'\n",
    "# directory += 'new_reactions_sabio_wcharge/'\n",
    "# directory += 'biomin_search_sabio_wcharge/'"
   ]
  },
  {
   "cell_type": "markdown",
   "metadata": {},
   "source": [
    "### collect a random subset of X reactions"
   ]
  },
  {
   "cell_type": "code",
   "execution_count": null,
   "metadata": {},
   "outputs": [],
   "source": [
    "no_ = 300\n",
    "rs_to_test = []\n",
    "no_rxns_in_total = len(glob.glob(rs_dir+\"*sRS*.gpkl\"))\n",
    "idx = np.random.randint(no_rxns_in_total, size=no_) # + 10000"
   ]
  },
  {
   "cell_type": "code",
   "execution_count": null,
   "metadata": {},
   "outputs": [],
   "source": [
    "generator = rxn_syst.yield_rxn_syst(output_dir=rs_dir)"
   ]
  },
  {
   "cell_type": "code",
   "execution_count": null,
   "metadata": {
    "ExecuteTime": {
     "end_time": "2018-11-08T04:04:21.726854Z",
     "start_time": "2018-11-08T04:04:21.552644Z"
    },
    "code_folding": [
     2
    ]
   },
   "outputs": [],
   "source": [
    "smiles_list = []\n",
    "n_list = []\n",
    "for i, rs in enumerate(generator):\n",
    "    if i not in idx:\n",
    "        continue\n",
    "    if '-3_' not in rs.pkl:\n",
    "        continue\n",
    "    print('index:', i)\n",
    "    print('pkl', rs.pkl)\n",
    "    print('EC', rs.EC)\n",
    "#     try:\n",
    "#         print('reversible?', rs.reversible)\n",
    "#     except AttributeError:\n",
    "#         print('reversible?', 'unknown')\n",
    "    if rs.skip_rxn is True:\n",
    "        print('should be skipped?')\n",
    "        try:\n",
    "            print(rs.skip_reason)\n",
    "        except AttributeError:\n",
    "            pass\n",
    "    else:\n",
    "        print('----------------------------------------------')\n",
    "        # check component properties\n",
    "        smiles_list = []\n",
    "        n_list = []\n",
    "        for m in rs.components:\n",
    "            print('-----------')\n",
    "            print(m.name, '--', m.role)\n",
    "            print('iupac:', m.iupac_name)\n",
    "            if m.SMILES is not None:\n",
    "                n_list.append(m.DB+' - '+m.name)\n",
    "                smiles_list.append(m.SMILES)\n",
    "                print('CHEBI ID:', m.chebiID)\n",
    "                print('SMILES:', m.SMILES)\n",
    "                print('PUBCHEM XlogP:', m.XlogP)\n",
    "                print('PUBCHEM complexity:', m.complexity)\n",
    "                print('RDKIT logP:', m.logP)\n",
    "                print('RDKIT Synthetic accessibility:', m.Synth_score)   \n",
    "                print('size:', m.mid_diam, 'angstrom')\n",
    "        print('----------------------------------------------')\n",
    "        print('change in complexity:', rs.delta_comp)\n",
    "        print('change in synthetic accessibility:', rs.delta_sa)\n",
    "        # check sequence properties\n",
    "        print('----------------------------------------------')\n",
    "        try:\n",
    "            if rs.sequence is not None:\n",
    "                print(rs.sequence)\n",
    "                try:\n",
    "                    print('uniprotID:', rs.UniprotID)\n",
    "                except AttributeError:\n",
    "                    pass\n",
    "                print('add other sequence IDs for other DBs')\n",
    "                print('sequence length:', len(rs.sequence))\n",
    "                print('pI:', rs.pI)\n",
    "                print('GRAVY:', rs.GRAVY)\n",
    "                print('A index:', rs.A_index)\n",
    "                print('I index:', rs.I_index)\n",
    "                print('TM index:', rs.TM_index)\n",
    "        except AttributeError:\n",
    "            pass\n",
    "    input('done?')\n",
    "    clear_output()"
   ]
  },
  {
   "cell_type": "code",
   "execution_count": null,
   "metadata": {
    "ExecuteTime": {
     "end_time": "2018-11-08T04:04:30.152549Z",
     "start_time": "2018-11-08T04:04:30.099518Z"
    }
   },
   "outputs": [],
   "source": [
    "m_list = [Chem.MolFromSmiles(i) for i in smiles_list]\n",
    "Draw.MolsToGridImage(m_list, legends=n_list)\n"
   ]
  },
  {
   "cell_type": "markdown",
   "metadata": {},
   "source": [
    "## Visualize a specific reaction system\n",
    "- includes search functions"
   ]
  },
  {
   "cell_type": "code",
   "execution_count": 38,
   "metadata": {},
   "outputs": [],
   "source": [
    "from ercollect.rxn_syst import reaction, get_RS, yield_rxn_syst\n",
    "from rdkit.Chem import AllChem as Chem\n",
    "from rdkit.Chem import Draw, Descriptors"
   ]
  },
  {
   "cell_type": "code",
   "execution_count": 39,
   "metadata": {},
   "outputs": [],
   "source": [
    "directory = '/home/atarzia/psp/screening_results/'\n",
    "directory += 'kegg_111218/'\n",
    "# directory += 'atlas_111218/'\n",
    "# directory += 'new_reactions_kegg_atlas/'\n",
    "# directory += 'new_reactions_sabio_wcharge/'\n",
    "# directory += 'biomin_search_sabio_wcharge/'"
   ]
  },
  {
   "cell_type": "code",
   "execution_count": 18,
   "metadata": {},
   "outputs": [
    {
     "name": "stdout",
     "output_type": "stream",
     "text": [
      "error loading (the exception needs to be determined):\n",
      "/home/atarzia/psp/screening_results/new_reactions_kegg_atlas/sRS-1_14_13_58-KEGG-R02449.gpkl\n"
     ]
    },
    {
     "ename": "SystemExit",
     "evalue": "",
     "output_type": "error",
     "traceback": [
      "An exception has occurred, use %tb to see the full traceback.\n",
      "\u001b[0;31mSystemExit\u001b[0m\n"
     ]
    },
    {
     "name": "stderr",
     "output_type": "stream",
     "text": [
      "/home/atarzia/anaconda3/lib/python3.6/site-packages/IPython/core/interactiveshell.py:2918: UserWarning: To exit: use 'exit', 'quit', or Ctrl-D.\n",
      "  warn(\"To exit: use 'exit', 'quit', or Ctrl-D.\", stacklevel=1)\n"
     ]
    }
   ],
   "source": [
    "# get a list of RS with max_comp_size < XX and sequence != None\n",
    "XX = 6.5\n",
    "for rs in yield_rxn_syst(output_dir=directory):\n",
    "    if rs.skip_rxn is True:\n",
    "        continue\n",
    "    if rs.max_comp_size is None:\n",
    "        continue\n",
    "    if rs.max_comp_size < XX:\n",
    "        try:\n",
    "            if rs.sequence is not None:\n",
    "                print(rs.pkl, rs.TM_index, rs.A_index)\n",
    "        except AttributeError:\n",
    "            pass"
   ]
  },
  {
   "cell_type": "code",
   "execution_count": 63,
   "metadata": {},
   "outputs": [],
   "source": [
    "pkl_name = 'sRS-4_2_1_65-KEGG-R01267.gpkl'"
   ]
  },
  {
   "cell_type": "code",
   "execution_count": 64,
   "metadata": {},
   "outputs": [
    {
     "name": "stdout",
     "output_type": "stream",
     "text": [
      "loading: sRS-4_2_1_65-KEGG-R01267.gpkl\n"
     ]
    }
   ],
   "source": [
    "rs = get_RS(directory+pkl_name, output_dir=directory, verbose=True)"
   ]
  },
  {
   "cell_type": "code",
   "execution_count": 65,
   "metadata": {},
   "outputs": [
    {
     "data": {
      "text/plain": [
       "{'DB': 'KEGG',\n",
       " 'DB_ID': 'R01267',\n",
       " 'EC': '4.2.1.65',\n",
       " 'UniprotID': None,\n",
       " 'components': [<ercollect.molecule.molecule at 0x7f026016aba8>,\n",
       "  <ercollect.molecule.molecule at 0x7f026013f0b8>,\n",
       "  <ercollect.molecule.molecule at 0x7f026013f240>],\n",
       " 'delta_comp': 0.0,\n",
       " 'delta_sa': 0.7269922811313192,\n",
       " 'max_XlogP': -3.4,\n",
       " 'max_comp_size': 6.344,\n",
       " 'max_logP': -0.6880200000000001,\n",
       " 'max_logS': 0.6780971995634897,\n",
       " 'min_XlogP': -3.7,\n",
       " 'min_logP': -1.7263000000000002,\n",
       " 'min_logS': 0.023729556962231432,\n",
       " 'mol_collected': True,\n",
       " 'p_max_comp': 134.0,\n",
       " 'p_max_sa': 3.2425352473881235,\n",
       " 'pkl': 'sRS-4_2_1_65-KEGG-R01267.gpkl',\n",
       " 'r_max_comp': 134.0,\n",
       " 'r_max_sa': 2.5155429662568043,\n",
       " 'reversible': True,\n",
       " 'skip_reason': None,\n",
       " 'skip_rxn': False}"
      ]
     },
     "execution_count": 65,
     "metadata": {},
     "output_type": "execute_result"
    }
   ],
   "source": [
    "rs.__dict__"
   ]
  },
  {
   "cell_type": "code",
   "execution_count": 66,
   "metadata": {},
   "outputs": [
    {
     "name": "stdout",
     "output_type": "stream",
     "text": [
      "C00152 6.344 -1.7263000000000002 reactant 2.5155429662568043 134 /home/atarzia/psp/molecule_DBs/atarzia/ATRS_2737.gpkl\n",
      "C00152 KEGG\n",
      "C02512 5.92 -0.6880200000000001 product 3.2425352473881235 134 /home/atarzia/psp/molecule_DBs/atarzia/ATRS_2734.gpkl\n",
      "C02512 KEGG\n",
      "C00001 2.843 -0.8247 product 5.868476923076923 0 /home/atarzia/psp/molecule_DBs/atarzia/ATRS_7.gpkl\n",
      "C00001 KEGG\n"
     ]
    },
    {
     "data": {
      "image/png": "[encoded data removed]",
      "text/plain": [
       "<PIL.PngImagePlugin.PngImageFile image mode=RGB size=600x200 at 0x7F0260323208>"
      ]
     },
     "execution_count": 66,
     "metadata": {},
     "output_type": "execute_result"
    }
   ],
   "source": [
    "smiles_list = []\n",
    "n_list = []\n",
    "for m in rs.components:\n",
    "    print(m.name, m.mid_diam, m.logP, m.role, m.Synth_score, m.complexity, m.pkl)\n",
    "    print(m.name, m.DB)\n",
    "    n_list.append(m.name)\n",
    "    smiles_list.append(m.SMILES)\n",
    "    MOL = Chem.MolFromSmiles(m.SMILES)\n",
    "    Draw.MolToFile(MOL, fileName=m.name+'.svg')\n",
    "m_list = [Chem.MolFromSmiles(i) for i in smiles_list]\n",
    "Draw.MolsToGridImage(m_list, legends=n_list)"
   ]
  },
  {
   "cell_type": "code",
   "execution_count": null,
   "metadata": {},
   "outputs": [],
   "source": []
  },
  {
   "cell_type": "markdown",
   "metadata": {},
   "source": [
    "## Analyse all RS for a certain skip_reaction reason"
   ]
  },
  {
   "cell_type": "code",
   "execution_count": 48,
   "metadata": {},
   "outputs": [],
   "source": [
    "import os"
   ]
  },
  {
   "cell_type": "code",
   "execution_count": 49,
   "metadata": {
    "ExecuteTime": {
     "end_time": "2018-11-08T02:15:53.180016Z",
     "start_time": "2018-11-08T02:15:53.176223Z"
    }
   },
   "outputs": [],
   "source": [
    "directory = '/home/atarzia/psp/screening_results/'\n",
    "directory += 'kegg_111218/'\n",
    "# directory += 'atlas_111218/'\n",
    "# directory += 'new_reactions_kegg_atlas/'\n",
    "# directory += 'new_reactions_sabio_wcharge/'\n",
    "# directory += 'biomin_search_sabio_wcharge/'"
   ]
  },
  {
   "cell_type": "code",
   "execution_count": 52,
   "metadata": {
    "ExecuteTime": {
     "end_time": "2018-11-08T04:04:21.726854Z",
     "start_time": "2018-11-08T04:04:21.552644Z"
    },
    "code_folding": [
     2
    ]
   },
   "outputs": [
    {
     "name": "stdout",
     "output_type": "stream",
     "text": [
      "sRS-1_1_1_314-KEGG-R09546.gpkl\n",
      "sRS-1_1_1_314-KEGG-R09547.gpkl\n"
     ]
    }
   ],
   "source": [
    "count = 0\n",
    "count_total = 0\n",
    "for rs in rxn_syst.yield_rxn_syst(output_dir=directory):\n",
    "    count_total += 1\n",
    "    try:\n",
    "        if rs.reversible is True:\n",
    "            count += 1\n",
    "    except AttributeError:\n",
    "        print(rs.pkl)\n",
    "#     if rs.skip_rxn is True:\n",
    "#         if rs.skip_reason == 'one component has no SMILES':\n",
    "#             count += 1\n",
    "#             print(rs.pkl)\n",
    "#             os.system('rm '+rs_dir+rs.pkl)"
   ]
  },
  {
   "cell_type": "code",
   "execution_count": 53,
   "metadata": {},
   "outputs": [
    {
     "name": "stdout",
     "output_type": "stream",
     "text": [
      "12180 12182 99.98358233459203\n"
     ]
    }
   ],
   "source": [
    "print(count, count_total, count/count_total * 100)"
   ]
  },
  {
   "cell_type": "markdown",
   "metadata": {},
   "source": [
    "## Analyse the number of times each skip_reason is used"
   ]
  },
  {
   "cell_type": "code",
   "execution_count": 23,
   "metadata": {},
   "outputs": [],
   "source": [
    "from ercollect import rxn_syst\n",
    "from rdkit.Chem import Descriptors\n",
    "import matplotlib.pyplot as plt"
   ]
  },
  {
   "cell_type": "code",
   "execution_count": 14,
   "metadata": {},
   "outputs": [],
   "source": [
    "reasons = {'one component failed resolution': 0, 'SABIO E-ID is for mutant': 0, \n",
    "           'SABIO R-ID not found': 0,  'DNA present - SABIO has a bug': 0,\n",
    "           'CHEBI ID of a component not available': 0, 'a component is in skip_names': 0,\n",
    "           'one component is ?': 0, 'No result for KEGG URL search - likely outdated': 0,\n",
    "           'CHEBI ID not available for one component': 0,\n",
    "           'one component has invalid SMILES': 0, 'one component has no SMILES': 0, \n",
    "           'one component has wildcard SMILES': 0,\n",
    "           'one component has no molecule - rxn is incomplete or generic': 0,\n",
    "           'one component could not have diameter calculated': 0,\n",
    "           'KEGG ID could not be converted to MOL': 0,\n",
    "           'KEGG ID gave generic structure': 0,\n",
    "           'KEGG rxn includes polymeric species': 0}"
   ]
  },
  {
   "cell_type": "code",
   "execution_count": 15,
   "metadata": {},
   "outputs": [],
   "source": [
    "directory = '/home/atarzia/psp/screening_results/'\n",
    "directory += 'kegg_111218/'\n",
    "# directory += 'new_reactions_atlas_111218/'\n",
    "# directory += 'new_reactions_kegg_atlas/'\n",
    "# directory += 'new_reactions_sabio_wcharge/'\n",
    "# directory += 'biomin_search_sabio_wcharge/'"
   ]
  },
  {
   "cell_type": "code",
   "execution_count": 16,
   "metadata": {},
   "outputs": [],
   "source": [
    "count_total = 0\n",
    "count_skipped = 0\n",
    "for rs in rxn_syst.yield_rxn_syst(output_dir=directory):\n",
    "#     if 'KEGG' not in rs.pkl:\n",
    "#         continue\n",
    "    count_total += 1\n",
    "    if rs.skip_rxn is True:\n",
    "        count_skipped += 1\n",
    "        reasons[rs.skip_reason] += 1\n",
    "#         if rs.skip_reason == 'CHEBI ID not available for one component':\n",
    "#             print(rs.__dict__)\n",
    "#             input()"
   ]
  },
  {
   "cell_type": "code",
   "execution_count": 17,
   "metadata": {},
   "outputs": [
    {
     "name": "stdout",
     "output_type": "stream",
     "text": [
      "7971 12182 65.43260548350025\n"
     ]
    }
   ],
   "source": [
    "print(count_skipped, count_total, count_skipped/count_total * 100)"
   ]
  },
  {
   "cell_type": "code",
   "execution_count": 18,
   "metadata": {},
   "outputs": [
    {
     "data": {
      "text/plain": [
       "{'CHEBI ID not available for one component': 0,\n",
       " 'CHEBI ID of a component not available': 0,\n",
       " 'DNA present - SABIO has a bug': 0,\n",
       " 'KEGG ID could not be converted to MOL': 2897,\n",
       " 'KEGG ID gave generic structure': 138,\n",
       " 'KEGG rxn includes polymeric species': 44,\n",
       " 'No result for KEGG URL search - likely outdated': 2,\n",
       " 'SABIO E-ID is for mutant': 0,\n",
       " 'SABIO R-ID not found': 0,\n",
       " 'a component is in skip_names': 0,\n",
       " 'one component could not have diameter calculated': 4494,\n",
       " 'one component failed resolution': 0,\n",
       " 'one component has invalid SMILES': 0,\n",
       " 'one component has no SMILES': 0,\n",
       " 'one component has no molecule - rxn is incomplete or generic': 0,\n",
       " 'one component has wildcard SMILES': 396,\n",
       " 'one component is ?': 0}"
      ]
     },
     "execution_count": 18,
     "metadata": {},
     "output_type": "execute_result"
    }
   ],
   "source": [
    "reasons"
   ]
  },
  {
   "cell_type": "code",
   "execution_count": 25,
   "metadata": {},
   "outputs": [
    {
     "name": "stdout",
     "output_type": "stream",
     "text": [
      "sRS-1_13_11_XX-KEGG-R09163.gpkl\n",
      "sRS-1_13_11_XX-KEGG-R09206.gpkl\n",
      "sRS-1_14_11_12-KEGG-R07184.gpkl\n",
      "sRS-1_6_XX_XX-KEGG-R09218.gpkl\n",
      "sRS-4_1_1_XX-KEGG-R09164.gpkl\n",
      "sRS-4_1_1_XX-KEGG-R09207.gpkl\n",
      "sRS-4_1_1_XX-KEGG-R09208.gpkl\n",
      "sRS-4_2_3_127-KEGG-R10006.gpkl\n",
      "sRS-4_2_3_42-KEGG-R06313.gpkl\n",
      "sRS-4_2_3_80-KEGG-R10726.gpkl\n",
      "sRS-XX_XX_XX_XX-KEGG-R06314.gpkl\n",
      "sRS-XX_XX_XX_XX-KEGG-R06316.gpkl\n",
      "sRS-XX_XX_XX_XX-KEGG-R06317.gpkl\n",
      "sRS-XX_XX_XX_XX-KEGG-R08420.gpkl\n"
     ]
    }
   ],
   "source": [
    "MWs =[]\n",
    "for rs in rxn_syst.yield_rxn_syst(output_dir=directory):\n",
    "    rs_MW = []\n",
    "    if rs.skip_rxn is True:\n",
    "        if rs.skip_reason == 'one component could not have diameter calculated':\n",
    "            if rs.components is not None:\n",
    "                for m in rs.components:\n",
    "                    MW = Descriptors.MolWt(m.mol)\n",
    "                    rs_MW.append(MW)\n",
    "                    MWs.append(MW)\n",
    "                if max(rs_MW) < 500:\n",
    "                    print(rs.pkl)"
   ]
  },
  {
   "cell_type": "code",
   "execution_count": null,
   "metadata": {},
   "outputs": [],
   "source": []
  },
  {
   "cell_type": "code",
   "execution_count": null,
   "metadata": {},
   "outputs": [],
   "source": []
  },
  {
   "cell_type": "markdown",
   "metadata": {},
   "source": [
    "## Analyse a list of RS\n",
    "- example given here of RS with max_comp_size < some threshold\n",
    "- using threshold 4.2 angstrom 10/12/18"
   ]
  },
  {
   "cell_type": "code",
   "execution_count": 26,
   "metadata": {},
   "outputs": [],
   "source": [
    "from ercollect.rxn_syst import reaction, get_RS, yield_rxn_syst\n",
    "from rdkit.Chem import AllChem as Chem\n",
    "from rdkit.Chem import Draw"
   ]
  },
  {
   "cell_type": "code",
   "execution_count": 27,
   "metadata": {},
   "outputs": [],
   "source": [
    "RS_des = ['sRS-1_11_1_21-KEGG-R00009.gpkl', 'sRS-1_11_1_21-KEGG-R00602.gpkl',\n",
    "          'sRS-1_11_1_8-KEGG-R02810.gpkl', 'sRS-1_13_11_49-KEGG-R05721.gpkl',\n",
    "          'sRS-1_15_1_1-KEGG-R00275.gpkl', 'sRS-1_16_3_1-KEGG-R00078.gpkl',\n",
    "          'sRS-1_1_3_13-KEGG-R00608.gpkl', 'sRS-1_2_2_4-KEGG-R00276.gpkl',\n",
    "          'sRS-1_2_98_1-KEGG-R00614.gpkl', 'sRS-1_4_3_21-KEGG-R06154.gpkl',\n",
    "          'sRS-1_7_1_14-KEGG-R09809.gpkl', 'sRS-1_7_3_6-KEGG-R10230.gpkl',\n",
    "          'sRS-1_8_3_4-KEGG-R01851.gpkl', 'sRS-3_13_1_5-KEGG-R10534.gpkl',\n",
    "          'sRS-3_13_1_5-KEGG-R10535.gpkl', 'sRS-3_13_1_5-KEGG-R10538.gpkl',\n",
    "          'sRS-3_5_1_49-KEGG-R00524.gpkl', 'sRS-3_5_5_8-KEGG-R05780.gpkl',\n",
    "          'sRS-3_5_5_XX-KEGG-R00152.gpkl', 'sRS-4_2_1_112-KEGG-R05380.gpkl',\n",
    "          'sRS-4_2_1_66-KEGG-R01408.gpkl', 'sRS-4_99_1_2-KEGG-R09339.gpkl',\n",
    "          'sRS-XX_XX_XX_XX-KEGG-R00793.gpkl', 'sRS-XX_XX_XX_XX-KEGG-R09094.gpkl',\n",
    "          'sRS-XX_XX_XX_XX-KEGG-R09996.gpkl']"
   ]
  },
  {
   "cell_type": "code",
   "execution_count": 30,
   "metadata": {},
   "outputs": [],
   "source": [
    "directory = '/home/atarzia/psp/screening_results/'\n",
    "directory += 'kegg_111218/'\n",
    "# directory += 'atlas_111218/'\n",
    "# directory += 'new_reactions_kegg_atlas/'\n",
    "# directory += 'new_reactions_sabio_wcharge/'\n",
    "# directory += 'biomin_search_sabio_wcharge/'"
   ]
  },
  {
   "cell_type": "code",
   "execution_count": 37,
   "metadata": {},
   "outputs": [
    {
     "name": "stdout",
     "output_type": "stream",
     "text": [
      "sRS-1_13_11_XX-KEGG-R09163.gpkl\n",
      "C18252 0 O=C(O)c1cccc2ccc3cccc(C(=O)O)c3c12\n",
      "/home/atarzia/psp/molecule_DBs/atarzia/ATRS_4518.gpkl\n",
      "---------------------------------------------\n",
      "sRS-1_13_11_XX-KEGG-R09206.gpkl\n",
      "C18277 0 O=C(O)c1cccc2ccc3c4ccccc4cc(C(=O)O)c3c12\n",
      "/home/atarzia/psp/molecule_DBs/atarzia/ATRS_4520.gpkl\n",
      "---------------------------------------------\n",
      "sRS-1_14_11_12-KEGG-R07184.gpkl\n",
      "C12308 0 C=C1C[C@]23C[C@@]1(O)CC[C@H]2[C@@]12CCC[C@](C)(C(=O)OC1)[C@H]2[C@@H]3C(=O)O\n",
      "/home/atarzia/psp/molecule_DBs/atarzia/ATRS_6409.gpkl\n",
      "---------------------------------------------\n",
      "sRS-1_6_XX_XX-KEGG-R09218.gpkl\n",
      "C18252 0 O=C(O)c1cccc2ccc3cccc(C(=O)O)c3c12\n",
      "/home/atarzia/psp/molecule_DBs/atarzia/ATRS_4518.gpkl\n",
      "---------------------------------------------\n",
      "sRS-4_1_1_XX-KEGG-R09164.gpkl\n",
      "C18252 0 O=C(O)c1cccc2ccc3cccc(C(=O)O)c3c12\n",
      "/home/atarzia/psp/molecule_DBs/atarzia/ATRS_4518.gpkl\n",
      "---------------------------------------------\n",
      "sRS-4_1_1_XX-KEGG-R09207.gpkl\n",
      "C18277 0 O=C(O)c1cccc2ccc3c4ccccc4cc(C(=O)O)c3c12\n",
      "/home/atarzia/psp/molecule_DBs/atarzia/ATRS_4520.gpkl\n",
      "---------------------------------------------\n",
      "sRS-4_1_1_XX-KEGG-R09208.gpkl\n",
      "C18277 0 O=C(O)c1cccc2ccc3c4ccccc4cc(C(=O)O)c3c12\n",
      "/home/atarzia/psp/molecule_DBs/atarzia/ATRS_4520.gpkl\n",
      "---------------------------------------------\n",
      "sRS-4_2_3_127-KEGG-R10006.gpkl\n",
      "C20274 0 C=C1CC[C@H]2[C@H]3C1[C@@]2(C)CC[C@H]3C(C)C\n",
      "/home/atarzia/psp/molecule_DBs/atarzia/ATRS_4955.gpkl\n",
      "---------------------------------------------\n",
      "sRS-4_2_3_42-KEGG-R06313.gpkl\n",
      "C11890 0 CC1(C)CCC[C@@]2(C)[C@H]1CC[C@H]1C[C@H]3C[C@@]12CC[C@@]3(C)O\n",
      "/home/atarzia/psp/molecule_DBs/atarzia/ATRS_483.gpkl\n",
      "---------------------------------------------\n",
      "sRS-4_2_3_80-KEGG-R10726.gpkl\n",
      "C20804 0 CC1=CC[C@@H]2[C@@H]3[C@H]1[C@]2(C)CCCC3(C)C\n",
      "/home/atarzia/psp/molecule_DBs/atarzia/ATRS_4911.gpkl\n",
      "---------------------------------------------\n",
      "sRS-XX_XX_XX_XX-KEGG-R06314.gpkl\n",
      "C11891 0 C=C1CC[C@]23C[C@@H]1C[C@@H]2CC[C@H]1C(C)(C)CCC[C@@]13C\n",
      "/home/atarzia/psp/molecule_DBs/atarzia/ATRS_481.gpkl\n",
      "---------------------------------------------\n",
      "sRS-XX_XX_XX_XX-KEGG-R06316.gpkl\n",
      "C11890 0 CC1(C)CCC[C@@]2(C)[C@H]1CC[C@H]1C[C@H]3C[C@@]12CC[C@@]3(C)O\n",
      "/home/atarzia/psp/molecule_DBs/atarzia/ATRS_483.gpkl\n",
      "C06088 0 C[C@]12CC[C@@H](O)[C@@](C)(CO)[C@@H]1CC[C@H]1C[C@H]3C[C@@]12CC[C@]3(O)CO\n",
      "/home/atarzia/psp/molecule_DBs/atarzia/ATRS_484.gpkl\n",
      "---------------------------------------------\n",
      "sRS-XX_XX_XX_XX-KEGG-R06317.gpkl\n",
      "C11891 0 C=C1CC[C@]23C[C@@H]1C[C@@H]2CC[C@H]1C(C)(C)CCC[C@@]13C\n",
      "/home/atarzia/psp/molecule_DBs/atarzia/ATRS_481.gpkl\n",
      "C06088 0 C[C@]12CC[C@@H](O)[C@@](C)(CO)[C@@H]1CC[C@H]1C[C@H]3C[C@@]12CC[C@]3(O)CO\n",
      "/home/atarzia/psp/molecule_DBs/atarzia/ATRS_484.gpkl\n",
      "---------------------------------------------\n",
      "sRS-XX_XX_XX_XX-KEGG-R08420.gpkl\n",
      "C10763 0 O=c1cccc2n1C[C@@H]1CNC[C@@H]2C1\n",
      "/home/atarzia/psp/molecule_DBs/atarzia/ATRS_1104.gpkl\n",
      "---------------------------------------------\n",
      "14\n"
     ]
    }
   ],
   "source": [
    "count = 0\n",
    "for pkl in RS_des:\n",
    "    print(pkl)\n",
    "    rs = get_RS(directory+pkl, output_dir=directory, verbose=False)\n",
    "    smiles_list = []\n",
    "    n_list = []\n",
    "    for m in rs.components:\n",
    "        if m.mid_diam == 0:\n",
    "            print(m.name, m.mid_diam, m.SMILES)\n",
    "            print(m.pkl)\n",
    "    print('---------------------------------------------')\n",
    "    count += 1\n",
    "print(count)"
   ]
  },
  {
   "cell_type": "code",
   "execution_count": 36,
   "metadata": {},
   "outputs": [
    {
     "data": {
      "text/plain": [
       "<rdkit.Chem.rdchem.Mol at 0x7f02682df3b0>"
      ]
     },
     "execution_count": 36,
     "metadata": {},
     "output_type": "execute_result"
    }
   ],
   "source": [
    "m.mol"
   ]
  },
  {
   "cell_type": "markdown",
   "metadata": {},
   "source": [
    "##  Modify some attribute of all RS"
   ]
  },
  {
   "cell_type": "code",
   "execution_count": 37,
   "metadata": {},
   "outputs": [],
   "source": [
    "directory = '/home/atarzia/psp/screening_results/'\n",
    "directory += 'kegg_111218/'\n",
    "# directory += 'atlas_111218/'\n",
    "# directory += 'new_reactions_kegg_atlas/'\n",
    "# directory += 'new_reactions_sabio_wcharge/'\n",
    "# directory += 'biomin_search_sabio_wcharge/'"
   ]
  },
  {
   "cell_type": "code",
   "execution_count": 38,
   "metadata": {},
   "outputs": [
    {
     "data": {
      "text/plain": [
       "{'DB': 'KEGG',\n",
       " 'DB_ID': 'R09996',\n",
       " 'EC': '-.-.-.-',\n",
       " 'UniprotID': None,\n",
       " 'all_fit': True,\n",
       " 'components': [<ercollect.molecule.molecule at 0x7fd4c2a82550>,\n",
       "  <ercollect.molecule.molecule at 0x7fd4c2a82e10>,\n",
       "  <ercollect.molecule.molecule at 0x7fd4c2a82f98>],\n",
       " 'delta_comp': 6.0,\n",
       " 'delta_sa': 0.16509230769230676,\n",
       " 'max_XlogP': 0.2,\n",
       " 'max_comp_size': 3.107,\n",
       " 'max_logP': 0.067,\n",
       " 'min_XlogP': -1.1,\n",
       " 'min_logP': -0.44710000000000005,\n",
       " 'mol_collected': True,\n",
       " 'p_max_comp': 8.0,\n",
       " 'p_max_sa': 4.107167918949392,\n",
       " 'pkl': 'sRS-XX_XX_XX_XX-KEGG-R09996.gpkl',\n",
       " 'r_max_comp': 2.0,\n",
       " 'r_max_sa': 3.942075611257085,\n",
       " 'req_mod': None,\n",
       " 'seed_MOF': None,\n",
       " 'skip_reason': None,\n",
       " 'skip_rxn': False}"
      ]
     },
     "execution_count": 38,
     "metadata": {},
     "output_type": "execute_result"
    }
   ],
   "source": [
    "rs.__dict__"
   ]
  },
  {
   "cell_type": "code",
   "execution_count": 39,
   "metadata": {},
   "outputs": [],
   "source": [
    "for rs in rxn_syst.yield_rxn_syst(output_dir=rs_dir):\n",
    "    rs.mol_collected = False\n",
    "    rs.max_logP = None\n",
    "    rs.max_XlogP = None\n",
    "    rs.max_logS = None\n",
    "    rs.min_logP = None\n",
    "    rs.min_XlogP = None\n",
    "    rs.min_logS = None\n",
    "    rs.save_object(rs_dir+rs.pkl)"
   ]
  },
  {
   "cell_type": "code",
   "execution_count": null,
   "metadata": {},
   "outputs": [],
   "source": []
  }
 ],
 "metadata": {
  "kernelspec": {
   "display_name": "Python 3",
   "language": "python",
   "name": "python3"
  },
  "language_info": {
   "codemirror_mode": {
    "name": "ipython",
    "version": 3
   },
   "file_extension": ".py",
   "mimetype": "text/x-python",
   "name": "python",
   "nbconvert_exporter": "python",
   "pygments_lexer": "ipython3",
   "version": "3.6.5"
  }
 },
 "nbformat": 4,
 "nbformat_minor": 2
}
