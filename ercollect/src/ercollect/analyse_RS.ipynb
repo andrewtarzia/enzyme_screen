{
 "cells": [
  {
   "cell_type": "code",
   "execution_count": 2,
   "metadata": {
    "ExecuteTime": {
     "end_time": "2018-11-08T00:04:02.672134Z",
     "start_time": "2018-11-08T00:04:02.625600Z"
    }
   },
   "outputs": [
    {
     "data": {
      "text/html": [
       "<style>.container { width:95% !important; }</style>"
      ],
      "text/plain": [
       "<IPython.core.display.HTML object>"
      ]
     },
     "metadata": {},
     "output_type": "display_data"
    },
    {
     "name": "stdout",
     "output_type": "stream",
     "text": [
      "The autoreload extension is already loaded. To reload it, use:\n",
      "  %reload_ext autoreload\n"
     ]
    }
   ],
   "source": [
    "from IPython.core.display import HTML\n",
    "display(HTML(\"<style>.container { width:95% !important; }</style>\"))\n",
    "%load_ext autoreload\n",
    "%autoreload 1"
   ]
  },
  {
   "cell_type": "markdown",
   "metadata": {},
   "source": [
    "Author: Andrew Tarzia\n",
    "\n",
    "Date Created: 12 Jul 2018\n",
    "\n",
    "Distributed under the terms of the MIT License."
   ]
  },
  {
   "cell_type": "markdown",
   "metadata": {},
   "source": [
    "## Visualize properties of a random subset of reaction systems in a directory for comparison\n",
    "- check:\n",
    "    - reaction components with Database website\n",
    "    - molecules with PUBCHEM/CHEBI\n",
    "    - molecule properties with PUBCHEM\n",
    "    - sequence with Database website\n",
    "    - sequence properties with UniPROT"
   ]
  },
  {
   "cell_type": "code",
   "execution_count": 4,
   "metadata": {
    "ExecuteTime": {
     "end_time": "2018-11-08T02:15:52.671859Z",
     "start_time": "2018-11-08T02:15:52.407602Z"
    }
   },
   "outputs": [],
   "source": [
    "import glob\n",
    "from ercollect import molecule as mol\n",
    "from ercollect.molecule import molecule\n",
    "from ercollect import rxn_syst\n",
    "from ercollect.rxn_syst import reaction\n",
    "import numpy as np\n",
    "import random\n",
    "from rdkit.Chem import Draw\n",
    "from rdkit.Chem import AllChem as Chem\n",
    "from rdkit.Chem.Draw import IPythonConsole\n",
    "from rdkit.Chem.Draw import rdMolDraw2D\n",
    "from rdkit.Chem.Draw.MolDrawing import MolDrawing, DrawingOptions\n",
    "from IPython.display import clear_output"
   ]
  },
  {
   "cell_type": "code",
   "execution_count": 5,
   "metadata": {
    "ExecuteTime": {
     "end_time": "2018-11-08T02:15:53.180016Z",
     "start_time": "2018-11-08T02:15:53.176223Z"
    }
   },
   "outputs": [],
   "source": [
    "# rs_dir = '/home/atarzia/psp/screening_results/new_reactions_sabio_wcharge/'\n",
    "rs_dir = '/home/atarzia/psp/screening_results/biomin_search_sabio_wcharge/'"
   ]
  },
  {
   "cell_type": "markdown",
   "metadata": {},
   "source": [
    "### collect a random subset of X reactions"
   ]
  },
  {
   "cell_type": "code",
   "execution_count": 13,
   "metadata": {},
   "outputs": [],
   "source": [
    "no_ = 10\n",
    "rs_to_test = []\n",
    "no_rxns_in_total = len(glob.glob(rs_dir+\"*sRS*.gpkl\"))\n",
    "idx = np.random.randint(no_rxns_in_total, size=no_) # + 10000"
   ]
  },
  {
   "cell_type": "code",
   "execution_count": 14,
   "metadata": {},
   "outputs": [],
   "source": [
    "generator = rxn_syst.yield_rxn_syst(output_dir=rs_dir)"
   ]
  },
  {
   "cell_type": "code",
   "execution_count": 15,
   "metadata": {
    "ExecuteTime": {
     "end_time": "2018-11-08T04:04:21.726854Z",
     "start_time": "2018-11-08T04:04:21.552644Z"
    },
    "code_folding": [
     2
    ]
   },
   "outputs": [],
   "source": [
    "smiles_list = []\n",
    "n_list = []\n",
    "for i, rs in enumerate(generator):\n",
    "    if i not in idx:\n",
    "        continue\n",
    "    print('index:', i)\n",
    "    print('pkl', rs.pkl)\n",
    "    print('EC', rs.EC)\n",
    "#     try:\n",
    "#         print('reversible?', rs.reversible)\n",
    "#     except AttributeError:\n",
    "#         print('reversible?', 'unknown')\n",
    "    if rs.skip_rxn is True:\n",
    "        print('should be skipped?')\n",
    "        try:\n",
    "            print(rs.skip_reason)\n",
    "        except AttributeError:\n",
    "            pass\n",
    "    else:\n",
    "        print('----------------------------------------------')\n",
    "        # check component properties\n",
    "        smiles_list = []\n",
    "        n_list = []\n",
    "        for m in rs.components:\n",
    "            print('-----------')\n",
    "            print(m.name, '--', m.role)\n",
    "            print('iupac:', m.iupac_name)\n",
    "            if m.SMILES is not None:\n",
    "                n_list.append(m.DB+' - '+m.name)\n",
    "                smiles_list.append(m.SMILES)\n",
    "                print('CHEBI ID:', m.chebiID)\n",
    "                print('SMILES:', m.SMILES)\n",
    "                print('PUBCHEM XlogP:', m.XlogP)\n",
    "                print('PUBCHEM complexity:', m.complexity)\n",
    "                print('RDKIT logP:', m.logP)\n",
    "                print('RDKIT Synthetic accessibility:', m.Synth_score)   \n",
    "                print('size:', m.mid_diam, 'angstrom')\n",
    "        print('----------------------------------------------')\n",
    "        print('change in complexity:', rs.delta_comp)\n",
    "        print('change in synthetic accessibility:', rs.delta_sa)\n",
    "        # check sequence properties\n",
    "        print('----------------------------------------------')\n",
    "        try:\n",
    "            if rs.sequence is not None:\n",
    "                print(rs.sequence)\n",
    "                try:\n",
    "                    print('uniprotID:', rs.UniprotID)\n",
    "                except AttributeError:\n",
    "                    pass\n",
    "                print('add other sequence IDs for other DBs')\n",
    "                print('sequence length:', len(rs.sequence))\n",
    "                print('pI:', rs.pI)\n",
    "                print('GRAVY:', rs.GRAVY)\n",
    "                print('A index:', rs.A_index)\n",
    "                print('I index:', rs.I_index)\n",
    "                print('TM index:', rs.TM_index)\n",
    "        except AttributeError:\n",
    "            pass\n",
    "    input('done?')\n",
    "    clear_output()"
   ]
  },
  {
   "cell_type": "code",
   "execution_count": 21,
   "metadata": {
    "ExecuteTime": {
     "end_time": "2018-11-08T04:04:30.152549Z",
     "start_time": "2018-11-08T04:04:30.099518Z"
    }
   },
   "outputs": [
    {
     "data": {
      "image/png": "[encoded data removed]",
      "text/plain": [
       "<PIL.PngImagePlugin.PngImageFile image mode=RGB size=600x400 at 0x7FEF260FF7F0>"
      ]
     },
     "execution_count": 21,
     "metadata": {},
     "output_type": "execute_result"
    }
   ],
   "source": [
    "m_list = [Chem.MolFromSmiles(i) for i in smiles_list]\n",
    "Draw.MolsToGridImage(m_list, legends=n_list)\n"
   ]
  },
  {
   "cell_type": "markdown",
   "metadata": {},
   "source": [
    "## Visualize a specific reaction system\n",
    "- includes search functions"
   ]
  },
  {
   "cell_type": "code",
   "execution_count": 9,
   "metadata": {},
   "outputs": [],
   "source": [
    "from ercollect.rxn_syst import reaction, get_RS, yield_rxn_syst\n",
    "from rdkit.Chem import AllChem as Chem\n",
    "from rdkit.Chem import Draw"
   ]
  },
  {
   "cell_type": "code",
   "execution_count": 10,
   "metadata": {},
   "outputs": [],
   "source": [
    "directory = '/home/atarzia/psp/screening_results/'\n",
    "directory += 'new_reactions_kegg_atlas/'\n",
    "# directory += 'new_reactions_sabio_wcharge/'\n",
    "# directory += 'biomin_search_sabio_wcharge/'"
   ]
  },
  {
   "cell_type": "code",
   "execution_count": 11,
   "metadata": {},
   "outputs": [
    {
     "ename": "AttributeError",
     "evalue": "'reaction' object has no attribute 'max_comp_size'",
     "output_type": "error",
     "traceback": [
      "\u001b[0;31m---------------------------------------------------------------------------\u001b[0m",
      "\u001b[0;31mAttributeError\u001b[0m                            Traceback (most recent call last)",
      "\u001b[0;32m<ipython-input-11-cb7e856ed16d>\u001b[0m in \u001b[0;36m<module>\u001b[0;34m()\u001b[0m\n\u001b[1;32m      4\u001b[0m     \u001b[0;32mif\u001b[0m \u001b[0mrs\u001b[0m\u001b[0;34m.\u001b[0m\u001b[0mskip_rxn\u001b[0m \u001b[0;32mis\u001b[0m \u001b[0;32mTrue\u001b[0m\u001b[0;34m:\u001b[0m\u001b[0;34m\u001b[0m\u001b[0m\n\u001b[1;32m      5\u001b[0m         \u001b[0;32mcontinue\u001b[0m\u001b[0;34m\u001b[0m\u001b[0m\n\u001b[0;32m----> 6\u001b[0;31m     \u001b[0;32mif\u001b[0m \u001b[0mrs\u001b[0m\u001b[0;34m.\u001b[0m\u001b[0mmax_comp_size\u001b[0m \u001b[0;32mis\u001b[0m \u001b[0;32mNone\u001b[0m\u001b[0;34m:\u001b[0m\u001b[0;34m\u001b[0m\u001b[0m\n\u001b[0m\u001b[1;32m      7\u001b[0m         \u001b[0;32mcontinue\u001b[0m\u001b[0;34m\u001b[0m\u001b[0m\n\u001b[1;32m      8\u001b[0m     \u001b[0;32mif\u001b[0m \u001b[0mrs\u001b[0m\u001b[0;34m.\u001b[0m\u001b[0mmax_comp_size\u001b[0m \u001b[0;34m<\u001b[0m \u001b[0mXX\u001b[0m\u001b[0;34m:\u001b[0m\u001b[0;34m\u001b[0m\u001b[0m\n",
      "\u001b[0;31mAttributeError\u001b[0m: 'reaction' object has no attribute 'max_comp_size'"
     ]
    }
   ],
   "source": [
    "# get a list of RS with max_comp_size < XX and sequence != None\n",
    "XX = 6.5\n",
    "for rs in yield_rxn_syst(output_dir=directory):\n",
    "    if rs.skip_rxn is True:\n",
    "        continue\n",
    "    if rs.max_comp_size is None:\n",
    "        continue\n",
    "    if rs.max_comp_size < XX:\n",
    "        try:\n",
    "            if rs.sequence is not None:\n",
    "                print(rs.pkl, rs.TM_index, rs.A_index)\n",
    "        except AttributeError:\n",
    "            pass"
   ]
  },
  {
   "cell_type": "code",
   "execution_count": 12,
   "metadata": {},
   "outputs": [],
   "source": [
    "pkl_name = 'sRS-1_14_13_XX-ATLAS-rat019476.gpkl'"
   ]
  },
  {
   "cell_type": "code",
   "execution_count": 13,
   "metadata": {},
   "outputs": [
    {
     "name": "stdout",
     "output_type": "stream",
     "text": [
      "loading: sRS-1_14_13_XX-ATLAS-rat019476.gpkl\n"
     ]
    }
   ],
   "source": [
    "rs = get_RS(directory+pkl_name, output_dir=directory, verbose=True)"
   ]
  },
  {
   "cell_type": "code",
   "execution_count": 14,
   "metadata": {},
   "outputs": [
    {
     "data": {
      "text/plain": [
       "{'DB': 'ATLAS',\n",
       " 'DB_ID': 'rat019476',\n",
       " 'EC': '1.14.13.-',\n",
       " 'UniprotID': None,\n",
       " 'all_fit': None,\n",
       " 'components': [<ercollect.molecule.molecule at 0x7efd3c9107b8>,\n",
       "  <molecule.molecule at 0x7efd3c909b70>,\n",
       "  <molecule.molecule at 0x7efd3c909a90>,\n",
       "  <molecule.molecule at 0x7efd3c909898>,\n",
       "  <molecule.molecule at 0x7efd3c910a90>,\n",
       "  <ercollect.molecule.molecule at 0x7efd3c909438>,\n",
       "  <molecule.molecule at 0x7efd3c9092b0>,\n",
       "  <molecule.molecule at 0x7efd3c8d3320>],\n",
       " 'pkl': 'sRS-1_14_13_XX-ATLAS-rat019476.gpkl',\n",
       " 'req_mod': None,\n",
       " 'seed_MOF': None,\n",
       " 'skip_reason': None,\n",
       " 'skip_rxn': False}"
      ]
     },
     "execution_count": 14,
     "metadata": {},
     "output_type": "execute_result"
    }
   ],
   "source": [
    "rs.__dict__"
   ]
  },
  {
   "cell_type": "code",
   "execution_count": 16,
   "metadata": {},
   "outputs": [
    {
     "name": "stdout",
     "output_type": "stream",
     "text": [
      "C00007 None 0.067 reactant 3.373829457410931 0 /home/atarzia/psp/molecule_DBs/atarzia/ATRS_4.gpkl\n",
      "cis-4-carboxymethylenebut-2-en-4-olide None 0.06790000000000002 product 3.355269366675514 236 /home/atarzia/psp/molecule_DBs/atarzia/ATRS_1895.gpkl\n",
      "NADPH None -2.5693999999999964 reactant 5.474954998539056 1410 /home/atarzia/psp/molecule_DBs/atarzia/ATRS_261.gpkl\n",
      "hydron None 0.1125 reactant 7.745184615384615 0 /home/atarzia/psp/molecule_DBs/atarzia/ATRS_17.gpkl\n",
      "Protoanemonin None 0.6131 product 3.8960154893580867 144 /home/atarzia/psp/molecule_DBs/atarzia/ATRS_1124.gpkl\n",
      "C00006 None -2.898899999999996 product 5.33232270259073 1300 /home/atarzia/psp/molecule_DBs/atarzia/ATRS_525.gpkl\n",
      "water None -0.8247 product 5.868476923076923 0 /home/atarzia/psp/molecule_DBs/atarzia/ATRS_14.gpkl\n",
      "hydrogencarbonate None -1.1122999999999998 reactant 3.110319200314134 24.8 /home/atarzia/psp/molecule_DBs/atarzia/ATRS_1432.gpkl\n"
     ]
    },
    {
     "data": {
      "image/png": "[encoded data removed]",
      "text/plain": [
       "<PIL.PngImagePlugin.PngImageFile image mode=RGB size=600x600 at 0x7EFD3C8AD4E0>"
      ]
     },
     "execution_count": 16,
     "metadata": {},
     "output_type": "execute_result"
    }
   ],
   "source": [
    "smiles_list = []\n",
    "n_list = []\n",
    "for m in rs.components:\n",
    "    print(m.name, m.mid_diam, m.logP, m.role, m.Synth_score, m.complexity, m.pkl)\n",
    "    n_list.append(m.name)\n",
    "    smiles_list.append(m.SMILES)\n",
    "    MOL = Chem.MolFromSmiles(m.SMILES)\n",
    "#     Draw.MolToFile(MOL, fileName=m.name+'.svg')\n",
    "m_list = [Chem.MolFromSmiles(i) for i in smiles_list]\n",
    "Draw.MolsToGridImage(m_list, legends=n_list)"
   ]
  },
  {
   "cell_type": "code",
   "execution_count": null,
   "metadata": {},
   "outputs": [],
   "source": []
  }
 ],
 "metadata": {
  "kernelspec": {
   "display_name": "Python 3",
   "language": "python",
   "name": "python3"
  },
  "language_info": {
   "codemirror_mode": {
    "name": "ipython",
    "version": 3
   },
   "file_extension": ".py",
   "mimetype": "text/x-python",
   "name": "python",
   "nbconvert_exporter": "python",
   "pygments_lexer": "ipython3",
   "version": "3.6.5"
  }
 },
 "nbformat": 4,
 "nbformat_minor": 2
}
