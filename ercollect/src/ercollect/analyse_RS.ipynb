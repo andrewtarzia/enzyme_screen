{
 "cells": [
  {
   "cell_type": "code",
   "execution_count": 85,
   "metadata": {
    "ExecuteTime": {
     "end_time": "2018-11-08T00:04:02.672134Z",
     "start_time": "2018-11-08T00:04:02.625600Z"
    }
   },
   "outputs": [
    {
     "data": {
      "text/html": [
       "<style>.container { width:95% !important; }</style>"
      ],
      "text/plain": [
       "<IPython.core.display.HTML object>"
      ]
     },
     "metadata": {},
     "output_type": "display_data"
    }
   ],
   "source": [
    "from IPython.core.display import HTML\n",
    "display(HTML(\"<style>.container { width:95% !important; }</style>\"))\n",
    "%load_ext autoreload\n",
    "%autoreload 1"
   ]
  },
  {
   "cell_type": "markdown",
   "metadata": {},
   "source": [
    "Author: Andrew Tarzia\n",
    "\n",
    "Date Created: 12 Jul 2018\n",
    "\n",
    "Distributed under the terms of the MIT License."
   ]
  },
  {
   "cell_type": "markdown",
   "metadata": {},
   "source": [
    "## Visualize properties of a random subset of reaction systems in a directory for comparison\n",
    "- check:\n",
    "    - reaction components with Database website\n",
    "    - molecules with PUBCHEM/CHEBI\n",
    "    - molecule properties with PUBCHEM\n",
    "    - sequence with Database website\n",
    "    - sequence properties with UniPROT"
   ]
  },
  {
   "cell_type": "code",
   "execution_count": 68,
   "metadata": {
    "ExecuteTime": {
     "end_time": "2018-11-08T02:15:52.671859Z",
     "start_time": "2018-11-08T02:15:52.407602Z"
    }
   },
   "outputs": [],
   "source": [
    "import glob\n",
    "from ercollect import molecule as mol\n",
    "from ercollect.molecule import molecule\n",
    "from ercollect import rxn_syst\n",
    "from ercollect.rxn_syst import reaction\n",
    "import numpy as np\n",
    "import random\n",
    "from rdkit.Chem import Draw\n",
    "from rdkit.Chem import AllChem as Chem\n",
    "from rdkit.Chem.Draw import IPythonConsole\n",
    "from rdkit.Chem.Draw import rdMolDraw2D\n",
    "from rdkit.Chem.Draw.MolDrawing import MolDrawing, DrawingOptions\n",
    "from IPython.display import clear_output"
   ]
  },
  {
   "cell_type": "code",
   "execution_count": 69,
   "metadata": {
    "ExecuteTime": {
     "end_time": "2018-11-08T02:15:53.180016Z",
     "start_time": "2018-11-08T02:15:53.176223Z"
    }
   },
   "outputs": [],
   "source": [
    "directory = '/home/atarzia/psp/screening_results/'\n",
    "directory += 'kegg_111218/'\n",
    "# directory += 'atlas_111218/'\n",
    "# directory += 'new_reactions_kegg_atlas/'\n",
    "# directory += 'new_reactions_sabio_wcharge/'\n",
    "# directory += 'biomin_search_sabio_wcharge/'"
   ]
  },
  {
   "cell_type": "markdown",
   "metadata": {},
   "source": [
    "### collect a random subset of X reactions"
   ]
  },
  {
   "cell_type": "code",
   "execution_count": 71,
   "metadata": {},
   "outputs": [],
   "source": [
    "no_ = 300\n",
    "rs_to_test = []\n",
    "no_rxns_in_total = len(glob.glob(directory+\"*sRS*.gpkl\"))\n",
    "idx = np.random.randint(no_rxns_in_total, size=no_) # + 10000"
   ]
  },
  {
   "cell_type": "code",
   "execution_count": 72,
   "metadata": {},
   "outputs": [],
   "source": [
    "generator = rxn_syst.yield_rxn_syst(output_dir=directory)"
   ]
  },
  {
   "cell_type": "code",
   "execution_count": 74,
   "metadata": {
    "ExecuteTime": {
     "end_time": "2018-11-08T04:04:21.726854Z",
     "start_time": "2018-11-08T04:04:21.552644Z"
    },
    "code_folding": [
     2
    ]
   },
   "outputs": [
    {
     "name": "stdout",
     "output_type": "stream",
     "text": [
      "index: 142\n",
      "pkl sRS-2_1_1_262-KEGG-R10167.gpkl\n",
      "EC 2.1.1.262\n",
      "----------------------------------------------\n",
      "-----------\n",
      "C00019 -- reactant\n",
      "iupac: None\n",
      "SMILES: C[S+](CC[C@H](N)C(=O)[O-])C[C@H]1O[C@@H](n2cnc3c(N)ncnc32)[C@H](O)[C@@H]1O\n",
      "PUBCHEM XlogP: -2.8\n",
      "PUBCHEM complexity: 527\n",
      "RDKIT logP: -3.256899999999996\n",
      "RDKIT Synthetic accessibility: 4.7565494434378035\n",
      "size: 9.075 angstrom\n",
      "-----------\n",
      "C00751 -- reactant\n",
      "iupac: None\n",
      "SMILES: CC(C)=CCC/C(C)=C/CC/C(C)=C/CC/C=C(\\C)CC/C=C(\\C)CCC=C(C)C\n",
      "PUBCHEM XlogP: 11.6\n",
      "PUBCHEM complexity: 578\n",
      "RDKIT logP: 10.60499999999999\n",
      "RDKIT Synthetic accessibility: 2.803558629592615\n",
      "size: 7.58 angstrom\n",
      "-----------\n",
      "C00021 -- product\n",
      "iupac: (2S)-2-amino-4-[[(2S,3S,4R,5R)-5-(6-aminopurin-9-yl)-3,4-dihydroxyoxolan-2-yl]methylsulfanyl]butanoic acid\n",
      "SMILES: Nc1ncnc2c1ncn2[C@@H]1O[C@H](CSCC[C@H](N)C(=O)O)[C@@H](O)[C@H]1O\n",
      "PUBCHEM XlogP: -3.5\n",
      "PUBCHEM complexity: 504\n",
      "RDKIT logP: -1.4370999999999983\n",
      "RDKIT Synthetic accessibility: 3.9878562207640913\n",
      "size: 8.568 angstrom\n",
      "-----------\n",
      "C20411 -- product\n",
      "iupac: None\n",
      "SMILES: C=C(C)C(C)CC/C(C)=C/CC/C(C)=C/CC/C=C(\\C)CC/C=C(\\C)CCC=C(C)C\n",
      "PUBCHEM XlogP: 12.2\n",
      "PUBCHEM complexity: 656\n",
      "RDKIT logP: 10.850999999999988\n",
      "RDKIT Synthetic accessibility: 3.6826226015379504\n",
      "size: 8.685 angstrom\n",
      "----------------------------------------------\n",
      "change in complexity: 78.0\n",
      "change in synthetic accessibility: 0.8790639719453353\n",
      "----------------------------------------------\n"
     ]
    },
    {
     "ename": "KeyboardInterrupt",
     "evalue": "",
     "output_type": "error",
     "traceback": [
      "\u001b[0;31m---------------------------------------------------------------------------\u001b[0m",
      "\u001b[0;31mKeyboardInterrupt\u001b[0m                         Traceback (most recent call last)",
      "\u001b[0;32m~/anaconda3/lib/python3.6/site-packages/ipykernel/kernelbase.py\u001b[0m in \u001b[0;36m_input_request\u001b[0;34m(self, prompt, ident, parent, password)\u001b[0m\n\u001b[1;32m    728\u001b[0m             \u001b[0;32mtry\u001b[0m\u001b[0;34m:\u001b[0m\u001b[0;34m\u001b[0m\u001b[0m\n\u001b[0;32m--> 729\u001b[0;31m                 \u001b[0mident\u001b[0m\u001b[0;34m,\u001b[0m \u001b[0mreply\u001b[0m \u001b[0;34m=\u001b[0m \u001b[0mself\u001b[0m\u001b[0;34m.\u001b[0m\u001b[0msession\u001b[0m\u001b[0;34m.\u001b[0m\u001b[0mrecv\u001b[0m\u001b[0;34m(\u001b[0m\u001b[0mself\u001b[0m\u001b[0;34m.\u001b[0m\u001b[0mstdin_socket\u001b[0m\u001b[0;34m,\u001b[0m \u001b[0;36m0\u001b[0m\u001b[0;34m)\u001b[0m\u001b[0;34m\u001b[0m\u001b[0m\n\u001b[0m\u001b[1;32m    730\u001b[0m             \u001b[0;32mexcept\u001b[0m \u001b[0mException\u001b[0m\u001b[0;34m:\u001b[0m\u001b[0;34m\u001b[0m\u001b[0m\n",
      "\u001b[0;32m~/anaconda3/lib/python3.6/site-packages/jupyter_client/session.py\u001b[0m in \u001b[0;36mrecv\u001b[0;34m(self, socket, mode, content, copy)\u001b[0m\n\u001b[1;32m    802\u001b[0m         \u001b[0;32mtry\u001b[0m\u001b[0;34m:\u001b[0m\u001b[0;34m\u001b[0m\u001b[0m\n\u001b[0;32m--> 803\u001b[0;31m             \u001b[0mmsg_list\u001b[0m \u001b[0;34m=\u001b[0m \u001b[0msocket\u001b[0m\u001b[0;34m.\u001b[0m\u001b[0mrecv_multipart\u001b[0m\u001b[0;34m(\u001b[0m\u001b[0mmode\u001b[0m\u001b[0;34m,\u001b[0m \u001b[0mcopy\u001b[0m\u001b[0;34m=\u001b[0m\u001b[0mcopy\u001b[0m\u001b[0;34m)\u001b[0m\u001b[0;34m\u001b[0m\u001b[0m\n\u001b[0m\u001b[1;32m    804\u001b[0m         \u001b[0;32mexcept\u001b[0m \u001b[0mzmq\u001b[0m\u001b[0;34m.\u001b[0m\u001b[0mZMQError\u001b[0m \u001b[0;32mas\u001b[0m \u001b[0me\u001b[0m\u001b[0;34m:\u001b[0m\u001b[0;34m\u001b[0m\u001b[0m\n",
      "\u001b[0;32m~/anaconda3/lib/python3.6/site-packages/zmq/sugar/socket.py\u001b[0m in \u001b[0;36mrecv_multipart\u001b[0;34m(self, flags, copy, track)\u001b[0m\n\u001b[1;32m    394\u001b[0m         \"\"\"\n\u001b[0;32m--> 395\u001b[0;31m         \u001b[0mparts\u001b[0m \u001b[0;34m=\u001b[0m \u001b[0;34m[\u001b[0m\u001b[0mself\u001b[0m\u001b[0;34m.\u001b[0m\u001b[0mrecv\u001b[0m\u001b[0;34m(\u001b[0m\u001b[0mflags\u001b[0m\u001b[0;34m,\u001b[0m \u001b[0mcopy\u001b[0m\u001b[0;34m=\u001b[0m\u001b[0mcopy\u001b[0m\u001b[0;34m,\u001b[0m \u001b[0mtrack\u001b[0m\u001b[0;34m=\u001b[0m\u001b[0mtrack\u001b[0m\u001b[0;34m)\u001b[0m\u001b[0;34m]\u001b[0m\u001b[0;34m\u001b[0m\u001b[0m\n\u001b[0m\u001b[1;32m    396\u001b[0m         \u001b[0;31m# have first part already, only loop while more to receive\u001b[0m\u001b[0;34m\u001b[0m\u001b[0;34m\u001b[0m\u001b[0m\n",
      "\u001b[0;32mzmq/backend/cython/socket.pyx\u001b[0m in \u001b[0;36mzmq.backend.cython.socket.Socket.recv\u001b[0;34m()\u001b[0m\n",
      "\u001b[0;32mzmq/backend/cython/socket.pyx\u001b[0m in \u001b[0;36mzmq.backend.cython.socket.Socket.recv\u001b[0;34m()\u001b[0m\n",
      "\u001b[0;32mzmq/backend/cython/socket.pyx\u001b[0m in \u001b[0;36mzmq.backend.cython.socket._recv_copy\u001b[0;34m()\u001b[0m\n",
      "\u001b[0;32m~/anaconda3/lib/python3.6/site-packages/zmq/backend/cython/checkrc.pxd\u001b[0m in \u001b[0;36mzmq.backend.cython.checkrc._check_rc\u001b[0;34m()\u001b[0m\n",
      "\u001b[0;31mKeyboardInterrupt\u001b[0m: ",
      "\nDuring handling of the above exception, another exception occurred:\n",
      "\u001b[0;31mKeyboardInterrupt\u001b[0m                         Traceback (most recent call last)",
      "\u001b[0;32m<ipython-input-74-bb5feb91bbad>\u001b[0m in \u001b[0;36m<module>\u001b[0;34m()\u001b[0m\n\u001b[1;32m     59\u001b[0m         \u001b[0;32mexcept\u001b[0m \u001b[0mAttributeError\u001b[0m\u001b[0;34m:\u001b[0m\u001b[0;34m\u001b[0m\u001b[0m\n\u001b[1;32m     60\u001b[0m             \u001b[0;32mpass\u001b[0m\u001b[0;34m\u001b[0m\u001b[0m\n\u001b[0;32m---> 61\u001b[0;31m     \u001b[0minput\u001b[0m\u001b[0;34m(\u001b[0m\u001b[0;34m'done?'\u001b[0m\u001b[0;34m)\u001b[0m\u001b[0;34m\u001b[0m\u001b[0m\n\u001b[0m\u001b[1;32m     62\u001b[0m     \u001b[0mclear_output\u001b[0m\u001b[0;34m(\u001b[0m\u001b[0;34m)\u001b[0m\u001b[0;34m\u001b[0m\u001b[0m\n",
      "\u001b[0;32m~/anaconda3/lib/python3.6/site-packages/ipykernel/kernelbase.py\u001b[0m in \u001b[0;36mraw_input\u001b[0;34m(self, prompt)\u001b[0m\n\u001b[1;32m    702\u001b[0m             \u001b[0mself\u001b[0m\u001b[0;34m.\u001b[0m\u001b[0m_parent_ident\u001b[0m\u001b[0;34m,\u001b[0m\u001b[0;34m\u001b[0m\u001b[0m\n\u001b[1;32m    703\u001b[0m             \u001b[0mself\u001b[0m\u001b[0;34m.\u001b[0m\u001b[0m_parent_header\u001b[0m\u001b[0;34m,\u001b[0m\u001b[0;34m\u001b[0m\u001b[0m\n\u001b[0;32m--> 704\u001b[0;31m             \u001b[0mpassword\u001b[0m\u001b[0;34m=\u001b[0m\u001b[0;32mFalse\u001b[0m\u001b[0;34m,\u001b[0m\u001b[0;34m\u001b[0m\u001b[0m\n\u001b[0m\u001b[1;32m    705\u001b[0m         )\n\u001b[1;32m    706\u001b[0m \u001b[0;34m\u001b[0m\u001b[0m\n",
      "\u001b[0;32m~/anaconda3/lib/python3.6/site-packages/ipykernel/kernelbase.py\u001b[0m in \u001b[0;36m_input_request\u001b[0;34m(self, prompt, ident, parent, password)\u001b[0m\n\u001b[1;32m    732\u001b[0m             \u001b[0;32mexcept\u001b[0m \u001b[0mKeyboardInterrupt\u001b[0m\u001b[0;34m:\u001b[0m\u001b[0;34m\u001b[0m\u001b[0m\n\u001b[1;32m    733\u001b[0m                 \u001b[0;31m# re-raise KeyboardInterrupt, to truncate traceback\u001b[0m\u001b[0;34m\u001b[0m\u001b[0;34m\u001b[0m\u001b[0m\n\u001b[0;32m--> 734\u001b[0;31m                 \u001b[0;32mraise\u001b[0m \u001b[0mKeyboardInterrupt\u001b[0m\u001b[0;34m\u001b[0m\u001b[0m\n\u001b[0m\u001b[1;32m    735\u001b[0m             \u001b[0;32melse\u001b[0m\u001b[0;34m:\u001b[0m\u001b[0;34m\u001b[0m\u001b[0m\n\u001b[1;32m    736\u001b[0m                 \u001b[0;32mbreak\u001b[0m\u001b[0;34m\u001b[0m\u001b[0m\n",
      "\u001b[0;31mKeyboardInterrupt\u001b[0m: "
     ]
    }
   ],
   "source": [
    "smiles_list = []\n",
    "n_list = []\n",
    "for i, rs in enumerate(generator):\n",
    "    if i not in idx:\n",
    "        continue\n",
    "    if '-2_' not in rs.pkl:\n",
    "        continue\n",
    "    print('index:', i)\n",
    "    print('pkl', rs.pkl)\n",
    "    print('EC', rs.EC)\n",
    "#     try:\n",
    "#         print('reversible?', rs.reversible)\n",
    "#     except AttributeError:\n",
    "#         print('reversible?', 'unknown')\n",
    "    if rs.skip_rxn is True:\n",
    "        print('should be skipped?')\n",
    "        try:\n",
    "            print(rs.skip_reason)\n",
    "        except AttributeError:\n",
    "            pass\n",
    "    else:\n",
    "        print('----------------------------------------------')\n",
    "        # check component properties\n",
    "        smiles_list = []\n",
    "        n_list = []\n",
    "        for m in rs.components:\n",
    "            print('-----------')\n",
    "            print(m.name, '--', m.role)\n",
    "            print('iupac:', m.iupac_name)\n",
    "            if m.SMILES is not None:\n",
    "                n_list.append(m.DB+' - '+m.name)\n",
    "                smiles_list.append(m.SMILES)\n",
    "#                 print('CHEBI ID:', m.chebiID)\n",
    "                print('SMILES:', m.SMILES)\n",
    "                print('PUBCHEM XlogP:', m.XlogP)\n",
    "                print('PUBCHEM complexity:', m.complexity)\n",
    "                print('RDKIT logP:', m.logP)\n",
    "                print('RDKIT Synthetic accessibility:', m.Synth_score)   \n",
    "                print('size:', m.mid_diam, 'angstrom')\n",
    "        print('----------------------------------------------')\n",
    "        print('change in complexity:', rs.delta_comp)\n",
    "        print('change in synthetic accessibility:', rs.delta_sa)\n",
    "        # check sequence properties\n",
    "        print('----------------------------------------------')\n",
    "        try:\n",
    "            if rs.sequence is not None:\n",
    "                print(rs.sequence)\n",
    "                try:\n",
    "                    print('uniprotID:', rs.UniprotID)\n",
    "                except AttributeError:\n",
    "                    pass\n",
    "                print('add other sequence IDs for other DBs')\n",
    "                print('sequence length:', len(rs.sequence))\n",
    "                print('pI:', rs.pI)\n",
    "                print('GRAVY:', rs.GRAVY)\n",
    "                print('A index:', rs.A_index)\n",
    "                print('I index:', rs.I_index)\n",
    "                print('TM index:', rs.TM_index)\n",
    "        except AttributeError:\n",
    "            pass\n",
    "    input('done?')\n",
    "    clear_output()"
   ]
  },
  {
   "cell_type": "code",
   "execution_count": null,
   "metadata": {
    "ExecuteTime": {
     "end_time": "2018-11-08T04:04:30.152549Z",
     "start_time": "2018-11-08T04:04:30.099518Z"
    }
   },
   "outputs": [],
   "source": [
    "m_list = [Chem.MolFromSmiles(i) for i in smiles_list]\n",
    "Draw.MolsToGridImage(m_list, legends=n_list)\n"
   ]
  },
  {
   "cell_type": "markdown",
   "metadata": {},
   "source": [
    "## Visualize a specific reaction system\n",
    "- includes search functions"
   ]
  },
  {
   "cell_type": "code",
   "execution_count": 38,
   "metadata": {},
   "outputs": [],
   "source": [
    "from ercollect.rxn_syst import reaction, get_RS, yield_rxn_syst\n",
    "from rdkit.Chem import AllChem as Chem\n",
    "from rdkit.Chem import Draw, Descriptors"
   ]
  },
  {
   "cell_type": "code",
   "execution_count": 39,
   "metadata": {},
   "outputs": [],
   "source": [
    "directory = '/home/atarzia/psp/screening_results/'\n",
    "directory += 'kegg_111218/'\n",
    "# directory += 'atlas_111218/'\n",
    "# directory += 'new_reactions_kegg_atlas/'\n",
    "# directory += 'new_reactions_sabio_wcharge/'\n",
    "# directory += 'biomin_search_sabio_wcharge/'"
   ]
  },
  {
   "cell_type": "code",
   "execution_count": 18,
   "metadata": {},
   "outputs": [
    {
     "name": "stdout",
     "output_type": "stream",
     "text": [
      "error loading (the exception needs to be determined):\n",
      "/home/atarzia/psp/screening_results/new_reactions_kegg_atlas/sRS-1_14_13_58-KEGG-R02449.gpkl\n"
     ]
    },
    {
     "ename": "SystemExit",
     "evalue": "",
     "output_type": "error",
     "traceback": [
      "An exception has occurred, use %tb to see the full traceback.\n",
      "\u001b[0;31mSystemExit\u001b[0m\n"
     ]
    },
    {
     "name": "stderr",
     "output_type": "stream",
     "text": [
      "/home/atarzia/anaconda3/lib/python3.6/site-packages/IPython/core/interactiveshell.py:2918: UserWarning: To exit: use 'exit', 'quit', or Ctrl-D.\n",
      "  warn(\"To exit: use 'exit', 'quit', or Ctrl-D.\", stacklevel=1)\n"
     ]
    }
   ],
   "source": [
    "# get a list of RS with max_comp_size < XX and sequence != None\n",
    "XX = 6.5\n",
    "for rs in yield_rxn_syst(output_dir=directory):\n",
    "    if rs.skip_rxn is True:\n",
    "        continue\n",
    "    if rs.max_comp_size is None:\n",
    "        continue\n",
    "    if rs.max_comp_size < XX:\n",
    "        try:\n",
    "            if rs.sequence is not None:\n",
    "                print(rs.pkl, rs.TM_index, rs.A_index)\n",
    "        except AttributeError:\n",
    "            pass"
   ]
  },
  {
   "cell_type": "code",
   "execution_count": 92,
   "metadata": {},
   "outputs": [],
   "source": [
    "pkl_name = 'sRS-5_3_1_3-KEGG-R01577.gpkl'"
   ]
  },
  {
   "cell_type": "code",
   "execution_count": 93,
   "metadata": {},
   "outputs": [
    {
     "name": "stdout",
     "output_type": "stream",
     "text": [
      "loading: sRS-5_3_1_3-KEGG-R01577.gpkl\n"
     ]
    }
   ],
   "source": [
    "rs = get_RS(directory+pkl_name, output_dir=directory, verbose=True)"
   ]
  },
  {
   "cell_type": "code",
   "execution_count": 94,
   "metadata": {},
   "outputs": [
    {
     "data": {
      "text/plain": [
       "{'DB': 'KEGG',\n",
       " 'DB_ID': 'R01577',\n",
       " 'EC': '5.3.1.3',\n",
       " 'UniprotID': None,\n",
       " 'components': [<ercollect.molecule.molecule at 0x7f025ede7c50>,\n",
       "  <ercollect.molecule.molecule at 0x7f025f003198>],\n",
       " 'delta_comp': 10.0,\n",
       " 'delta_sa': 0.3611524080243482,\n",
       " 'max_XlogP': -2.2,\n",
       " 'max_comp_size': 6.692,\n",
       " 'max_logP': -2.5806999999999998,\n",
       " 'max_logS': 1.1857576546495243,\n",
       " 'min_XlogP': -2.5,\n",
       " 'min_logP': -2.5823000000000005,\n",
       " 'min_logS': 1.1834927874073125,\n",
       " 'mol_collected': True,\n",
       " 'p_max_comp': 127.0,\n",
       " 'p_max_sa': 4.164330538100029,\n",
       " 'pkl': 'sRS-5_3_1_3-KEGG-R01577.gpkl',\n",
       " 'r_max_comp': 117.0,\n",
       " 'r_max_sa': 3.803178130075681,\n",
       " 'reversible': True,\n",
       " 'skip_reason': None,\n",
       " 'skip_rxn': False}"
      ]
     },
     "execution_count": 94,
     "metadata": {},
     "output_type": "execute_result"
    }
   ],
   "source": [
    "rs.__dict__"
   ]
  },
  {
   "cell_type": "code",
   "execution_count": 95,
   "metadata": {},
   "outputs": [
    {
     "name": "stdout",
     "output_type": "stream",
     "text": [
      "C00216 6.692 -2.5823000000000005 reactant 3.803178130075681 117 /home/atarzia/psp/molecule_DBs/atarzia/ATRS_3471.gpkl\n",
      "C00216 KEGG\n",
      "--- 150.05282342\n",
      "C00309 6.144 -2.5806999999999998 product 4.164330538100029 127 /home/atarzia/psp/molecule_DBs/atarzia/ATRS_3431.gpkl\n",
      "C00309 KEGG\n",
      "--- 150.05282342\n"
     ]
    },
    {
     "data": {
      "image/png": "[encoded data removed]",
      "text/plain": [
       "<PIL.PngImagePlugin.PngImageFile image mode=RGB size=600x200 at 0x7F025EDF7BE0>"
      ]
     },
     "execution_count": 95,
     "metadata": {},
     "output_type": "execute_result"
    }
   ],
   "source": [
    "smiles_list = []\n",
    "n_list = []\n",
    "for m in rs.components:\n",
    "    print(m.name, m.mid_diam, m.logP, m.role, m.Synth_score, m.complexity, m.pkl)\n",
    "    print(m.name, m.DB)\n",
    "    print('---', Descriptors.ExactMolWt(Chem.MolFromSmiles(m.SMILES)))\n",
    "    n_list.append(m.name)\n",
    "    smiles_list.append(m.SMILES)\n",
    "    MOL = Chem.MolFromSmiles(m.SMILES)\n",
    "    Draw.MolToFile(MOL, fileName=m.name+'.svg')\n",
    "m_list = [Chem.MolFromSmiles(i) for i in smiles_list]\n",
    "Draw.MolsToGridImage(m_list, legends=n_list)"
   ]
  },
  {
   "cell_type": "code",
   "execution_count": null,
   "metadata": {},
   "outputs": [],
   "source": []
  },
  {
   "cell_type": "markdown",
   "metadata": {},
   "source": [
    "## Analyse all RS for a certain skip_reaction reason"
   ]
  },
  {
   "cell_type": "code",
   "execution_count": 75,
   "metadata": {},
   "outputs": [],
   "source": [
    "import os"
   ]
  },
  {
   "cell_type": "code",
   "execution_count": 76,
   "metadata": {
    "ExecuteTime": {
     "end_time": "2018-11-08T02:15:53.180016Z",
     "start_time": "2018-11-08T02:15:53.176223Z"
    }
   },
   "outputs": [],
   "source": [
    "directory = '/home/atarzia/psp/screening_results/'\n",
    "directory += 'kegg_111218/'\n",
    "# directory += 'atlas_111218/'\n",
    "# directory += 'new_reactions_kegg_atlas/'\n",
    "# directory += 'new_reactions_sabio_wcharge/'\n",
    "# directory += 'biomin_search_sabio_wcharge/'"
   ]
  },
  {
   "cell_type": "code",
   "execution_count": 82,
   "metadata": {
    "ExecuteTime": {
     "end_time": "2018-11-08T04:04:21.726854Z",
     "start_time": "2018-11-08T04:04:21.552644Z"
    },
    "code_folding": [
     2
    ]
   },
   "outputs": [],
   "source": [
    "count = 0\n",
    "count_total = 0\n",
    "max_logP = 0\n",
    "min_logS = 0\n",
    "for rs in rxn_syst.yield_rxn_syst(output_dir=directory):\n",
    "    count_total += 1\n",
    "    try:\n",
    "        if rs.reversible is True:\n",
    "            count += 1\n",
    "        max_logP = max([max_logP, rs.max_logP])\n",
    "        min_logS = min([min_logS, rs.min_logS])\n",
    "    except AttributeError:\n",
    "        pass\n",
    "#     if rs.skip_rxn is True:\n",
    "#         if rs.skip_reason == 'one component has no SMILES':\n",
    "#             count += 1\n",
    "#             print(rs.pkl)\n",
    "#             os.system('rm '+rs_dir+rs.pkl)"
   ]
  },
  {
   "cell_type": "code",
   "execution_count": 84,
   "metadata": {},
   "outputs": [
    {
     "data": {
      "text/plain": [
       "(11.941399999999982, -11.69390846242745)"
      ]
     },
     "execution_count": 84,
     "metadata": {},
     "output_type": "execute_result"
    }
   ],
   "source": [
    "max_logP, min_logS"
   ]
  },
  {
   "cell_type": "code",
   "execution_count": 79,
   "metadata": {},
   "outputs": [
    {
     "name": "stdout",
     "output_type": "stream",
     "text": [
      "0 12182 0.0\n"
     ]
    }
   ],
   "source": [
    "print(count, count_total, count/count_total * 100)"
   ]
  },
  {
   "cell_type": "markdown",
   "metadata": {},
   "source": [
    "## Analyse the number of times each skip_reason is used"
   ]
  },
  {
   "cell_type": "code",
   "execution_count": 23,
   "metadata": {},
   "outputs": [],
   "source": [
    "from ercollect import rxn_syst\n",
    "from rdkit.Chem import Descriptors\n",
    "import matplotlib.pyplot as plt"
   ]
  },
  {
   "cell_type": "code",
   "execution_count": 14,
   "metadata": {},
   "outputs": [],
   "source": [
    "reasons = {'one component failed resolution': 0, 'SABIO E-ID is for mutant': 0, \n",
    "           'SABIO R-ID not found': 0,  'DNA present - SABIO has a bug': 0,\n",
    "           'CHEBI ID of a component not available': 0, 'a component is in skip_names': 0,\n",
    "           'one component is ?': 0, 'No result for KEGG URL search - likely outdated': 0,\n",
    "           'CHEBI ID not available for one component': 0,\n",
    "           'one component has invalid SMILES': 0, 'one component has no SMILES': 0, \n",
    "           'one component has wildcard SMILES': 0,\n",
    "           'one component has no molecule - rxn is incomplete or generic': 0,\n",
    "           'one component could not have diameter calculated': 0,\n",
    "           'KEGG ID could not be converted to MOL': 0,\n",
    "           'KEGG ID gave generic structure': 0,\n",
    "           'KEGG rxn includes polymeric species': 0}"
   ]
  },
  {
   "cell_type": "code",
   "execution_count": 15,
   "metadata": {},
   "outputs": [],
   "source": [
    "directory = '/home/atarzia/psp/screening_results/'\n",
    "directory += 'kegg_111218/'\n",
    "# directory += 'new_reactions_atlas_111218/'\n",
    "# directory += 'new_reactions_kegg_atlas/'\n",
    "# directory += 'new_reactions_sabio_wcharge/'\n",
    "# directory += 'biomin_search_sabio_wcharge/'"
   ]
  },
  {
   "cell_type": "code",
   "execution_count": 16,
   "metadata": {},
   "outputs": [],
   "source": [
    "count_total = 0\n",
    "count_skipped = 0\n",
    "for rs in rxn_syst.yield_rxn_syst(output_dir=directory):\n",
    "#     if 'KEGG' not in rs.pkl:\n",
    "#         continue\n",
    "    count_total += 1\n",
    "    if rs.skip_rxn is True:\n",
    "        count_skipped += 1\n",
    "        reasons[rs.skip_reason] += 1\n",
    "#         if rs.skip_reason == 'CHEBI ID not available for one component':\n",
    "#             print(rs.__dict__)\n",
    "#             input()"
   ]
  },
  {
   "cell_type": "code",
   "execution_count": 17,
   "metadata": {},
   "outputs": [
    {
     "name": "stdout",
     "output_type": "stream",
     "text": [
      "7971 12182 65.43260548350025\n"
     ]
    }
   ],
   "source": [
    "print(count_skipped, count_total, count_skipped/count_total * 100)"
   ]
  },
  {
   "cell_type": "code",
   "execution_count": 18,
   "metadata": {},
   "outputs": [
    {
     "data": {
      "text/plain": [
       "{'CHEBI ID not available for one component': 0,\n",
       " 'CHEBI ID of a component not available': 0,\n",
       " 'DNA present - SABIO has a bug': 0,\n",
       " 'KEGG ID could not be converted to MOL': 2897,\n",
       " 'KEGG ID gave generic structure': 138,\n",
       " 'KEGG rxn includes polymeric species': 44,\n",
       " 'No result for KEGG URL search - likely outdated': 2,\n",
       " 'SABIO E-ID is for mutant': 0,\n",
       " 'SABIO R-ID not found': 0,\n",
       " 'a component is in skip_names': 0,\n",
       " 'one component could not have diameter calculated': 4494,\n",
       " 'one component failed resolution': 0,\n",
       " 'one component has invalid SMILES': 0,\n",
       " 'one component has no SMILES': 0,\n",
       " 'one component has no molecule - rxn is incomplete or generic': 0,\n",
       " 'one component has wildcard SMILES': 396,\n",
       " 'one component is ?': 0}"
      ]
     },
     "execution_count": 18,
     "metadata": {},
     "output_type": "execute_result"
    }
   ],
   "source": [
    "reasons"
   ]
  },
  {
   "cell_type": "code",
   "execution_count": 25,
   "metadata": {},
   "outputs": [
    {
     "name": "stdout",
     "output_type": "stream",
     "text": [
      "sRS-1_13_11_XX-KEGG-R09163.gpkl\n",
      "sRS-1_13_11_XX-KEGG-R09206.gpkl\n",
      "sRS-1_14_11_12-KEGG-R07184.gpkl\n",
      "sRS-1_6_XX_XX-KEGG-R09218.gpkl\n",
      "sRS-4_1_1_XX-KEGG-R09164.gpkl\n",
      "sRS-4_1_1_XX-KEGG-R09207.gpkl\n",
      "sRS-4_1_1_XX-KEGG-R09208.gpkl\n",
      "sRS-4_2_3_127-KEGG-R10006.gpkl\n",
      "sRS-4_2_3_42-KEGG-R06313.gpkl\n",
      "sRS-4_2_3_80-KEGG-R10726.gpkl\n",
      "sRS-XX_XX_XX_XX-KEGG-R06314.gpkl\n",
      "sRS-XX_XX_XX_XX-KEGG-R06316.gpkl\n",
      "sRS-XX_XX_XX_XX-KEGG-R06317.gpkl\n",
      "sRS-XX_XX_XX_XX-KEGG-R08420.gpkl\n"
     ]
    }
   ],
   "source": [
    "MWs =[]\n",
    "for rs in rxn_syst.yield_rxn_syst(output_dir=directory):\n",
    "    rs_MW = []\n",
    "    if rs.skip_rxn is True:\n",
    "        if rs.skip_reason == 'one component could not have diameter calculated':\n",
    "            if rs.components is not None:\n",
    "                for m in rs.components:\n",
    "                    MW = Descriptors.MolWt(m.mol)\n",
    "                    rs_MW.append(MW)\n",
    "                    MWs.append(MW)\n",
    "                if max(rs_MW) < 500:\n",
    "                    print(rs.pkl)"
   ]
  },
  {
   "cell_type": "code",
   "execution_count": null,
   "metadata": {},
   "outputs": [],
   "source": []
  },
  {
   "cell_type": "code",
   "execution_count": null,
   "metadata": {},
   "outputs": [],
   "source": []
  },
  {
   "cell_type": "markdown",
   "metadata": {},
   "source": [
    "## Analyse a list of RS\n",
    "- example given here of RS with max_comp_size < some threshold\n",
    "- using threshold 4.2 angstrom 10/12/18"
   ]
  },
  {
   "cell_type": "code",
   "execution_count": 26,
   "metadata": {},
   "outputs": [],
   "source": [
    "from ercollect.rxn_syst import reaction, get_RS, yield_rxn_syst\n",
    "from rdkit.Chem import AllChem as Chem\n",
    "from rdkit.Chem import Draw"
   ]
  },
  {
   "cell_type": "code",
   "execution_count": 27,
   "metadata": {},
   "outputs": [],
   "source": [
    "RS_des = ['sRS-1_11_1_21-KEGG-R00009.gpkl', 'sRS-1_11_1_21-KEGG-R00602.gpkl',\n",
    "          'sRS-1_11_1_8-KEGG-R02810.gpkl', 'sRS-1_13_11_49-KEGG-R05721.gpkl',\n",
    "          'sRS-1_15_1_1-KEGG-R00275.gpkl', 'sRS-1_16_3_1-KEGG-R00078.gpkl',\n",
    "          'sRS-1_1_3_13-KEGG-R00608.gpkl', 'sRS-1_2_2_4-KEGG-R00276.gpkl',\n",
    "          'sRS-1_2_98_1-KEGG-R00614.gpkl', 'sRS-1_4_3_21-KEGG-R06154.gpkl',\n",
    "          'sRS-1_7_1_14-KEGG-R09809.gpkl', 'sRS-1_7_3_6-KEGG-R10230.gpkl',\n",
    "          'sRS-1_8_3_4-KEGG-R01851.gpkl', 'sRS-3_13_1_5-KEGG-R10534.gpkl',\n",
    "          'sRS-3_13_1_5-KEGG-R10535.gpkl', 'sRS-3_13_1_5-KEGG-R10538.gpkl',\n",
    "          'sRS-3_5_1_49-KEGG-R00524.gpkl', 'sRS-3_5_5_8-KEGG-R05780.gpkl',\n",
    "          'sRS-3_5_5_XX-KEGG-R00152.gpkl', 'sRS-4_2_1_112-KEGG-R05380.gpkl',\n",
    "          'sRS-4_2_1_66-KEGG-R01408.gpkl', 'sRS-4_99_1_2-KEGG-R09339.gpkl',\n",
    "          'sRS-XX_XX_XX_XX-KEGG-R00793.gpkl', 'sRS-XX_XX_XX_XX-KEGG-R09094.gpkl',\n",
    "          'sRS-XX_XX_XX_XX-KEGG-R09996.gpkl']"
   ]
  },
  {
   "cell_type": "code",
   "execution_count": 30,
   "metadata": {},
   "outputs": [],
   "source": [
    "directory = '/home/atarzia/psp/screening_results/'\n",
    "directory += 'kegg_111218/'\n",
    "# directory += 'atlas_111218/'\n",
    "# directory += 'new_reactions_kegg_atlas/'\n",
    "# directory += 'new_reactions_sabio_wcharge/'\n",
    "# directory += 'biomin_search_sabio_wcharge/'"
   ]
  },
  {
   "cell_type": "code",
   "execution_count": 37,
   "metadata": {},
   "outputs": [
    {
     "name": "stdout",
     "output_type": "stream",
     "text": [
      "sRS-1_13_11_XX-KEGG-R09163.gpkl\n",
      "C18252 0 O=C(O)c1cccc2ccc3cccc(C(=O)O)c3c12\n",
      "/home/atarzia/psp/molecule_DBs/atarzia/ATRS_4518.gpkl\n",
      "---------------------------------------------\n",
      "sRS-1_13_11_XX-KEGG-R09206.gpkl\n",
      "C18277 0 O=C(O)c1cccc2ccc3c4ccccc4cc(C(=O)O)c3c12\n",
      "/home/atarzia/psp/molecule_DBs/atarzia/ATRS_4520.gpkl\n",
      "---------------------------------------------\n",
      "sRS-1_14_11_12-KEGG-R07184.gpkl\n",
      "C12308 0 C=C1C[C@]23C[C@@]1(O)CC[C@H]2[C@@]12CCC[C@](C)(C(=O)OC1)[C@H]2[C@@H]3C(=O)O\n",
      "/home/atarzia/psp/molecule_DBs/atarzia/ATRS_6409.gpkl\n",
      "---------------------------------------------\n",
      "sRS-1_6_XX_XX-KEGG-R09218.gpkl\n",
      "C18252 0 O=C(O)c1cccc2ccc3cccc(C(=O)O)c3c12\n",
      "/home/atarzia/psp/molecule_DBs/atarzia/ATRS_4518.gpkl\n",
      "---------------------------------------------\n",
      "sRS-4_1_1_XX-KEGG-R09164.gpkl\n",
      "C18252 0 O=C(O)c1cccc2ccc3cccc(C(=O)O)c3c12\n",
      "/home/atarzia/psp/molecule_DBs/atarzia/ATRS_4518.gpkl\n",
      "---------------------------------------------\n",
      "sRS-4_1_1_XX-KEGG-R09207.gpkl\n",
      "C18277 0 O=C(O)c1cccc2ccc3c4ccccc4cc(C(=O)O)c3c12\n",
      "/home/atarzia/psp/molecule_DBs/atarzia/ATRS_4520.gpkl\n",
      "---------------------------------------------\n",
      "sRS-4_1_1_XX-KEGG-R09208.gpkl\n",
      "C18277 0 O=C(O)c1cccc2ccc3c4ccccc4cc(C(=O)O)c3c12\n",
      "/home/atarzia/psp/molecule_DBs/atarzia/ATRS_4520.gpkl\n",
      "---------------------------------------------\n",
      "sRS-4_2_3_127-KEGG-R10006.gpkl\n",
      "C20274 0 C=C1CC[C@H]2[C@H]3C1[C@@]2(C)CC[C@H]3C(C)C\n",
      "/home/atarzia/psp/molecule_DBs/atarzia/ATRS_4955.gpkl\n",
      "---------------------------------------------\n",
      "sRS-4_2_3_42-KEGG-R06313.gpkl\n",
      "C11890 0 CC1(C)CCC[C@@]2(C)[C@H]1CC[C@H]1C[C@H]3C[C@@]12CC[C@@]3(C)O\n",
      "/home/atarzia/psp/molecule_DBs/atarzia/ATRS_483.gpkl\n",
      "---------------------------------------------\n",
      "sRS-4_2_3_80-KEGG-R10726.gpkl\n",
      "C20804 0 CC1=CC[C@@H]2[C@@H]3[C@H]1[C@]2(C)CCCC3(C)C\n",
      "/home/atarzia/psp/molecule_DBs/atarzia/ATRS_4911.gpkl\n",
      "---------------------------------------------\n",
      "sRS-XX_XX_XX_XX-KEGG-R06314.gpkl\n",
      "C11891 0 C=C1CC[C@]23C[C@@H]1C[C@@H]2CC[C@H]1C(C)(C)CCC[C@@]13C\n",
      "/home/atarzia/psp/molecule_DBs/atarzia/ATRS_481.gpkl\n",
      "---------------------------------------------\n",
      "sRS-XX_XX_XX_XX-KEGG-R06316.gpkl\n",
      "C11890 0 CC1(C)CCC[C@@]2(C)[C@H]1CC[C@H]1C[C@H]3C[C@@]12CC[C@@]3(C)O\n",
      "/home/atarzia/psp/molecule_DBs/atarzia/ATRS_483.gpkl\n",
      "C06088 0 C[C@]12CC[C@@H](O)[C@@](C)(CO)[C@@H]1CC[C@H]1C[C@H]3C[C@@]12CC[C@]3(O)CO\n",
      "/home/atarzia/psp/molecule_DBs/atarzia/ATRS_484.gpkl\n",
      "---------------------------------------------\n",
      "sRS-XX_XX_XX_XX-KEGG-R06317.gpkl\n",
      "C11891 0 C=C1CC[C@]23C[C@@H]1C[C@@H]2CC[C@H]1C(C)(C)CCC[C@@]13C\n",
      "/home/atarzia/psp/molecule_DBs/atarzia/ATRS_481.gpkl\n",
      "C06088 0 C[C@]12CC[C@@H](O)[C@@](C)(CO)[C@@H]1CC[C@H]1C[C@H]3C[C@@]12CC[C@]3(O)CO\n",
      "/home/atarzia/psp/molecule_DBs/atarzia/ATRS_484.gpkl\n",
      "---------------------------------------------\n",
      "sRS-XX_XX_XX_XX-KEGG-R08420.gpkl\n",
      "C10763 0 O=c1cccc2n1C[C@@H]1CNC[C@@H]2C1\n",
      "/home/atarzia/psp/molecule_DBs/atarzia/ATRS_1104.gpkl\n",
      "---------------------------------------------\n",
      "14\n"
     ]
    }
   ],
   "source": [
    "count = 0\n",
    "for pkl in RS_des:\n",
    "    print(pkl)\n",
    "    rs = get_RS(directory+pkl, output_dir=directory, verbose=False)\n",
    "    smiles_list = []\n",
    "    n_list = []\n",
    "    for m in rs.components:\n",
    "        if m.mid_diam == 0:\n",
    "            print(m.name, m.mid_diam, m.SMILES)\n",
    "            print(m.pkl)\n",
    "    print('---------------------------------------------')\n",
    "    count += 1\n",
    "print(count)"
   ]
  },
  {
   "cell_type": "code",
   "execution_count": 36,
   "metadata": {},
   "outputs": [
    {
     "data": {
      "text/plain": [
       "<rdkit.Chem.rdchem.Mol at 0x7f02682df3b0>"
      ]
     },
     "execution_count": 36,
     "metadata": {},
     "output_type": "execute_result"
    }
   ],
   "source": [
    "m.mol"
   ]
  },
  {
   "cell_type": "markdown",
   "metadata": {},
   "source": [
    "##  Modify some attribute of all RS"
   ]
  },
  {
   "cell_type": "code",
   "execution_count": 37,
   "metadata": {},
   "outputs": [],
   "source": [
    "directory = '/home/atarzia/psp/screening_results/'\n",
    "directory += 'kegg_111218/'\n",
    "# directory += 'atlas_111218/'\n",
    "# directory += 'new_reactions_kegg_atlas/'\n",
    "# directory += 'new_reactions_sabio_wcharge/'\n",
    "# directory += 'biomin_search_sabio_wcharge/'"
   ]
  },
  {
   "cell_type": "code",
   "execution_count": 38,
   "metadata": {},
   "outputs": [
    {
     "data": {
      "text/plain": [
       "{'DB': 'KEGG',\n",
       " 'DB_ID': 'R09996',\n",
       " 'EC': '-.-.-.-',\n",
       " 'UniprotID': None,\n",
       " 'all_fit': True,\n",
       " 'components': [<ercollect.molecule.molecule at 0x7fd4c2a82550>,\n",
       "  <ercollect.molecule.molecule at 0x7fd4c2a82e10>,\n",
       "  <ercollect.molecule.molecule at 0x7fd4c2a82f98>],\n",
       " 'delta_comp': 6.0,\n",
       " 'delta_sa': 0.16509230769230676,\n",
       " 'max_XlogP': 0.2,\n",
       " 'max_comp_size': 3.107,\n",
       " 'max_logP': 0.067,\n",
       " 'min_XlogP': -1.1,\n",
       " 'min_logP': -0.44710000000000005,\n",
       " 'mol_collected': True,\n",
       " 'p_max_comp': 8.0,\n",
       " 'p_max_sa': 4.107167918949392,\n",
       " 'pkl': 'sRS-XX_XX_XX_XX-KEGG-R09996.gpkl',\n",
       " 'r_max_comp': 2.0,\n",
       " 'r_max_sa': 3.942075611257085,\n",
       " 'req_mod': None,\n",
       " 'seed_MOF': None,\n",
       " 'skip_reason': None,\n",
       " 'skip_rxn': False}"
      ]
     },
     "execution_count": 38,
     "metadata": {},
     "output_type": "execute_result"
    }
   ],
   "source": [
    "rs.__dict__"
   ]
  },
  {
   "cell_type": "code",
   "execution_count": 39,
   "metadata": {},
   "outputs": [],
   "source": [
    "for rs in rxn_syst.yield_rxn_syst(output_dir=rs_dir):\n",
    "    rs.mol_collected = False\n",
    "    rs.max_logP = None\n",
    "    rs.max_XlogP = None\n",
    "    rs.max_logS = None\n",
    "    rs.min_logP = None\n",
    "    rs.min_XlogP = None\n",
    "    rs.min_logS = None\n",
    "    rs.save_object(rs_dir+rs.pkl)"
   ]
  },
  {
   "cell_type": "code",
   "execution_count": null,
   "metadata": {},
   "outputs": [],
   "source": []
  }
 ],
 "metadata": {
  "kernelspec": {
   "display_name": "Python 3",
   "language": "python",
   "name": "python3"
  },
  "language_info": {
   "codemirror_mode": {
    "name": "ipython",
    "version": 3
   },
   "file_extension": ".py",
   "mimetype": "text/x-python",
   "name": "python",
   "nbconvert_exporter": "python",
   "pygments_lexer": "ipython3",
   "version": "3.6.5"
  }
 },
 "nbformat": 4,
 "nbformat_minor": 2
}
