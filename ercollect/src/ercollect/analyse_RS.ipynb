{
 "cells": [
  {
   "cell_type": "code",
   "execution_count": 12,
   "metadata": {
    "ExecuteTime": {
     "end_time": "2018-11-08T00:04:02.672134Z",
     "start_time": "2018-11-08T00:04:02.625600Z"
    }
   },
   "outputs": [
    {
     "data": {
      "text/html": [
       "<style>.container { width:95% !important; }</style>"
      ],
      "text/plain": [
       "<IPython.core.display.HTML object>"
      ]
     },
     "metadata": {},
     "output_type": "display_data"
    }
   ],
   "source": [
    "from IPython.core.display import HTML\n",
    "display(HTML(\"<style>.container { width:95% !important; }</style>\"))\n",
    "%load_ext autoreload\n",
    "%autoreload 1"
   ]
  },
  {
   "cell_type": "markdown",
   "metadata": {},
   "source": [
    "Author: Andrew Tarzia\n",
    "\n",
    "Date Created: 12 Jul 2018\n",
    "\n",
    "Distributed under the terms of the MIT License."
   ]
  },
  {
   "cell_type": "markdown",
   "metadata": {},
   "source": [
    "## Visualize properties of a random subset of reaction systems in a directory for comparison\n",
    "- check:\n",
    "    - reaction components with Database website\n",
    "    - molecules with PUBCHEM/CHEBI\n",
    "    - molecule properties with PUBCHEM\n",
    "    - sequence with Database website\n",
    "    - sequence properties with UniPROT"
   ]
  },
  {
   "cell_type": "code",
   "execution_count": 13,
   "metadata": {
    "ExecuteTime": {
     "end_time": "2018-11-08T02:15:52.671859Z",
     "start_time": "2018-11-08T02:15:52.407602Z"
    }
   },
   "outputs": [],
   "source": [
    "import glob\n",
    "from ercollect import molecule as mol\n",
    "from ercollect.molecule import molecule\n",
    "from ercollect import rxn_syst\n",
    "from ercollect.rxn_syst import reaction\n",
    "import numpy as np\n",
    "import random\n",
    "from rdkit.Chem import Draw\n",
    "from rdkit.Chem import AllChem as Chem\n",
    "from rdkit.Chem.Draw import IPythonConsole\n",
    "from rdkit.Chem.Draw import rdMolDraw2D\n",
    "from rdkit.Chem.Draw.MolDrawing import MolDrawing, DrawingOptions\n",
    "from IPython.display import clear_output"
   ]
  },
  {
   "cell_type": "code",
   "execution_count": null,
   "metadata": {
    "ExecuteTime": {
     "end_time": "2018-11-08T02:15:53.180016Z",
     "start_time": "2018-11-08T02:15:53.176223Z"
    }
   },
   "outputs": [],
   "source": [
    "directory = '/home/atarzia/psp/screening_results/'\n",
    "directory += 'new_reactions_kegg_atlas/'\n",
    "# directory += 'new_reactions_sabio_wcharge/'\n",
    "# directory += 'biomin_search_sabio_wcharge/'"
   ]
  },
  {
   "cell_type": "markdown",
   "metadata": {},
   "source": [
    "### collect a random subset of X reactions"
   ]
  },
  {
   "cell_type": "code",
   "execution_count": null,
   "metadata": {},
   "outputs": [],
   "source": [
    "no_ = 300\n",
    "rs_to_test = []\n",
    "no_rxns_in_total = len(glob.glob(rs_dir+\"*sRS*.gpkl\"))\n",
    "idx = np.random.randint(no_rxns_in_total, size=no_) # + 10000"
   ]
  },
  {
   "cell_type": "code",
   "execution_count": null,
   "metadata": {},
   "outputs": [],
   "source": [
    "generator = rxn_syst.yield_rxn_syst(output_dir=rs_dir)"
   ]
  },
  {
   "cell_type": "code",
   "execution_count": null,
   "metadata": {
    "ExecuteTime": {
     "end_time": "2018-11-08T04:04:21.726854Z",
     "start_time": "2018-11-08T04:04:21.552644Z"
    },
    "code_folding": [
     2
    ]
   },
   "outputs": [],
   "source": [
    "smiles_list = []\n",
    "n_list = []\n",
    "for i, rs in enumerate(generator):\n",
    "    if i not in idx:\n",
    "        continue\n",
    "    if '-3_' not in rs.pkl:\n",
    "        continue\n",
    "    print('index:', i)\n",
    "    print('pkl', rs.pkl)\n",
    "    print('EC', rs.EC)\n",
    "#     try:\n",
    "#         print('reversible?', rs.reversible)\n",
    "#     except AttributeError:\n",
    "#         print('reversible?', 'unknown')\n",
    "    if rs.skip_rxn is True:\n",
    "        print('should be skipped?')\n",
    "        try:\n",
    "            print(rs.skip_reason)\n",
    "        except AttributeError:\n",
    "            pass\n",
    "    else:\n",
    "        print('----------------------------------------------')\n",
    "        # check component properties\n",
    "        smiles_list = []\n",
    "        n_list = []\n",
    "        for m in rs.components:\n",
    "            print('-----------')\n",
    "            print(m.name, '--', m.role)\n",
    "            print('iupac:', m.iupac_name)\n",
    "            if m.SMILES is not None:\n",
    "                n_list.append(m.DB+' - '+m.name)\n",
    "                smiles_list.append(m.SMILES)\n",
    "                print('CHEBI ID:', m.chebiID)\n",
    "                print('SMILES:', m.SMILES)\n",
    "                print('PUBCHEM XlogP:', m.XlogP)\n",
    "                print('PUBCHEM complexity:', m.complexity)\n",
    "                print('RDKIT logP:', m.logP)\n",
    "                print('RDKIT Synthetic accessibility:', m.Synth_score)   \n",
    "                print('size:', m.mid_diam, 'angstrom')\n",
    "        print('----------------------------------------------')\n",
    "        print('change in complexity:', rs.delta_comp)\n",
    "        print('change in synthetic accessibility:', rs.delta_sa)\n",
    "        # check sequence properties\n",
    "        print('----------------------------------------------')\n",
    "        try:\n",
    "            if rs.sequence is not None:\n",
    "                print(rs.sequence)\n",
    "                try:\n",
    "                    print('uniprotID:', rs.UniprotID)\n",
    "                except AttributeError:\n",
    "                    pass\n",
    "                print('add other sequence IDs for other DBs')\n",
    "                print('sequence length:', len(rs.sequence))\n",
    "                print('pI:', rs.pI)\n",
    "                print('GRAVY:', rs.GRAVY)\n",
    "                print('A index:', rs.A_index)\n",
    "                print('I index:', rs.I_index)\n",
    "                print('TM index:', rs.TM_index)\n",
    "        except AttributeError:\n",
    "            pass\n",
    "    input('done?')\n",
    "    clear_output()"
   ]
  },
  {
   "cell_type": "code",
   "execution_count": null,
   "metadata": {
    "ExecuteTime": {
     "end_time": "2018-11-08T04:04:30.152549Z",
     "start_time": "2018-11-08T04:04:30.099518Z"
    }
   },
   "outputs": [],
   "source": [
    "m_list = [Chem.MolFromSmiles(i) for i in smiles_list]\n",
    "Draw.MolsToGridImage(m_list, legends=n_list)\n"
   ]
  },
  {
   "cell_type": "markdown",
   "metadata": {},
   "source": [
    "## Visualize a specific reaction system\n",
    "- includes search functions"
   ]
  },
  {
   "cell_type": "code",
   "execution_count": 16,
   "metadata": {},
   "outputs": [],
   "source": [
    "from ercollect.rxn_syst import reaction, get_RS, yield_rxn_syst\n",
    "from rdkit.Chem import AllChem as Chem\n",
    "from rdkit.Chem import Draw"
   ]
  },
  {
   "cell_type": "code",
   "execution_count": 17,
   "metadata": {},
   "outputs": [],
   "source": [
    "directory = '/home/atarzia/psp/screening_results/'\n",
    "directory += 'new_reactions_kegg_atlas/'\n",
    "# directory += 'new_reactions_sabio_wcharge/'\n",
    "# directory += 'biomin_search_sabio_wcharge/'"
   ]
  },
  {
   "cell_type": "code",
   "execution_count": 18,
   "metadata": {},
   "outputs": [
    {
     "name": "stdout",
     "output_type": "stream",
     "text": [
      "error loading (the exception needs to be determined):\n",
      "/home/atarzia/psp/screening_results/new_reactions_kegg_atlas/sRS-1_14_13_58-KEGG-R02449.gpkl\n"
     ]
    },
    {
     "ename": "SystemExit",
     "evalue": "",
     "output_type": "error",
     "traceback": [
      "An exception has occurred, use %tb to see the full traceback.\n",
      "\u001b[0;31mSystemExit\u001b[0m\n"
     ]
    },
    {
     "name": "stderr",
     "output_type": "stream",
     "text": [
      "/home/atarzia/anaconda3/lib/python3.6/site-packages/IPython/core/interactiveshell.py:2918: UserWarning: To exit: use 'exit', 'quit', or Ctrl-D.\n",
      "  warn(\"To exit: use 'exit', 'quit', or Ctrl-D.\", stacklevel=1)\n"
     ]
    }
   ],
   "source": [
    "# get a list of RS with max_comp_size < XX and sequence != None\n",
    "XX = 6.5\n",
    "for rs in yield_rxn_syst(output_dir=directory):\n",
    "    if rs.skip_rxn is True:\n",
    "        continue\n",
    "    if rs.max_comp_size is None:\n",
    "        continue\n",
    "    if rs.max_comp_size < XX:\n",
    "        try:\n",
    "            if rs.sequence is not None:\n",
    "                print(rs.pkl, rs.TM_index, rs.A_index)\n",
    "        except AttributeError:\n",
    "            pass"
   ]
  },
  {
   "cell_type": "code",
   "execution_count": 30,
   "metadata": {},
   "outputs": [],
   "source": [
    "pkl_name = 'sRS-1_11_1_7-KEGG-R00602.gpkl'"
   ]
  },
  {
   "cell_type": "code",
   "execution_count": 31,
   "metadata": {},
   "outputs": [
    {
     "name": "stdout",
     "output_type": "stream",
     "text": [
      "loading: sRS-1_11_1_7-KEGG-R00602.gpkl\n"
     ]
    }
   ],
   "source": [
    "rs = get_RS(directory+pkl_name, output_dir=directory, verbose=True)"
   ]
  },
  {
   "cell_type": "code",
   "execution_count": 32,
   "metadata": {},
   "outputs": [
    {
     "data": {
      "text/plain": [
       "{'DB': 'KEGG',\n",
       " 'DB_ID': 'R00602',\n",
       " 'EC': '1.11.1.7',\n",
       " 'UniprotID': None,\n",
       " 'all_fit': True,\n",
       " 'components': [<molecule.molecule at 0x7fd4c2e105c0>,\n",
       "  <molecule.molecule at 0x7fd4c3a03518>,\n",
       "  <molecule.molecule at 0x7fd4c3a03588>,\n",
       "  <molecule.molecule at 0x7fd4c3a03a58>],\n",
       " 'delta_comp': 0.0,\n",
       " 'delta_sa': 0.9710769230769225,\n",
       " 'max_XlogP': 1.2,\n",
       " 'max_comp_size': 3.553,\n",
       " 'max_logP': 0.01739999999999997,\n",
       " 'min_XlogP': -0.9,\n",
       " 'min_logP': -0.3915,\n",
       " 'mol_collected': True,\n",
       " 'p_max_comp': 2.0,\n",
       " 'p_max_sa': 4.043614072795545,\n",
       " 'pkl': 'sRS-1_11_1_7-KEGG-R00602.gpkl',\n",
       " 'r_max_comp': 2.0,\n",
       " 'r_max_sa': 3.072537149718623,\n",
       " 'req_mod': None,\n",
       " 'seed_MOF': None,\n",
       " 'skip_reason': None,\n",
       " 'skip_rxn': False}"
      ]
     },
     "execution_count": 32,
     "metadata": {},
     "output_type": "execute_result"
    }
   ],
   "source": [
    "rs.__dict__"
   ]
  },
  {
   "cell_type": "code",
   "execution_count": 33,
   "metadata": {},
   "outputs": [
    {
     "name": "stdout",
     "output_type": "stream",
     "text": [
      "Methanol 3.51 -0.3915 reactant 2.701044842026315 2 /home/atarzia/psp/molecule_DBs/atarzia/ATRS_98.gpkl\n",
      "hydrogen peroxide 3.211 0.01739999999999997 reactant 3.072537149718623 0 /home/atarzia/psp/molecule_DBs/atarzia/ATRS_3.gpkl\n",
      "Formaldehyde 3.553 -0.1849 product 4.043614072795545 2 /home/atarzia/psp/molecule_DBs/atarzia/ATRS_870.gpkl\n",
      "water 2.586 -0.8247 product 5.868476923076923 0 /home/atarzia/psp/molecule_DBs/atarzia/ATRS_14.gpkl\n"
     ]
    },
    {
     "ename": "OSError",
     "evalue": "cannot identify image file <_io.BytesIO object at 0x7fd4c2680fc0>",
     "output_type": "error",
     "traceback": [
      "\u001b[0;31m---------------------------------------------------------------------------\u001b[0m",
      "\u001b[0;31mOSError\u001b[0m                                   Traceback (most recent call last)",
      "\u001b[0;32m<ipython-input-33-b5830b1ee408>\u001b[0m in \u001b[0;36m<module>\u001b[0;34m()\u001b[0m\n\u001b[1;32m      9\u001b[0m \u001b[0;31m#     Draw.MolToFile(MOL, fileName=m.name+'.svg')\u001b[0m\u001b[0;34m\u001b[0m\u001b[0;34m\u001b[0m\u001b[0m\n\u001b[1;32m     10\u001b[0m \u001b[0mm_list\u001b[0m \u001b[0;34m=\u001b[0m \u001b[0;34m[\u001b[0m\u001b[0mChem\u001b[0m\u001b[0;34m.\u001b[0m\u001b[0mMolFromSmiles\u001b[0m\u001b[0;34m(\u001b[0m\u001b[0mi\u001b[0m\u001b[0;34m)\u001b[0m \u001b[0;32mfor\u001b[0m \u001b[0mi\u001b[0m \u001b[0;32min\u001b[0m \u001b[0msmiles_list\u001b[0m\u001b[0;34m]\u001b[0m\u001b[0;34m\u001b[0m\u001b[0m\n\u001b[0;32m---> 11\u001b[0;31m \u001b[0mDraw\u001b[0m\u001b[0;34m.\u001b[0m\u001b[0mMolsToGridImage\u001b[0m\u001b[0;34m(\u001b[0m\u001b[0mm_list\u001b[0m\u001b[0;34m,\u001b[0m \u001b[0mlegends\u001b[0m\u001b[0;34m=\u001b[0m\u001b[0mn_list\u001b[0m\u001b[0;34m)\u001b[0m\u001b[0;34m\u001b[0m\u001b[0m\n\u001b[0m",
      "\u001b[0;32m~/anaconda3/lib/python3.6/site-packages/rdkit/Chem/Draw/IPythonConsole.py\u001b[0m in \u001b[0;36mShowMols\u001b[0;34m(mols, maxMols, **kwargs)\u001b[0m\n\u001b[1;32m    176\u001b[0m         \u001b[0mkwargs\u001b[0m\u001b[0;34m[\u001b[0m\u001b[0mprop\u001b[0m\u001b[0;34m]\u001b[0m \u001b[0;34m=\u001b[0m \u001b[0mkwargs\u001b[0m\u001b[0;34m[\u001b[0m\u001b[0mprop\u001b[0m\u001b[0;34m]\u001b[0m\u001b[0;34m[\u001b[0m\u001b[0;34m:\u001b[0m\u001b[0mmaxMols\u001b[0m\u001b[0;34m]\u001b[0m\u001b[0;34m\u001b[0m\u001b[0m\n\u001b[1;32m    177\u001b[0m \u001b[0;34m\u001b[0m\u001b[0m\n\u001b[0;32m--> 178\u001b[0;31m   \u001b[0mres\u001b[0m \u001b[0;34m=\u001b[0m \u001b[0mfn\u001b[0m\u001b[0;34m(\u001b[0m\u001b[0mmols\u001b[0m\u001b[0;34m,\u001b[0m \u001b[0;34m**\u001b[0m\u001b[0mkwargs\u001b[0m\u001b[0;34m)\u001b[0m\u001b[0;34m\u001b[0m\u001b[0m\n\u001b[0m\u001b[1;32m    179\u001b[0m   \u001b[0;32mif\u001b[0m \u001b[0mkwargs\u001b[0m\u001b[0;34m[\u001b[0m\u001b[0;34m'useSVG'\u001b[0m\u001b[0;34m]\u001b[0m\u001b[0;34m:\u001b[0m\u001b[0;34m\u001b[0m\u001b[0m\n\u001b[1;32m    180\u001b[0m     \u001b[0;32mreturn\u001b[0m \u001b[0mSVG\u001b[0m\u001b[0;34m(\u001b[0m\u001b[0mres\u001b[0m\u001b[0;34m)\u001b[0m\u001b[0;34m\u001b[0m\u001b[0m\n",
      "\u001b[0;32m~/anaconda3/lib/python3.6/site-packages/rdkit/Chem/Draw/__init__.py\u001b[0m in \u001b[0;36mMolsToGridImage\u001b[0;34m(mols, molsPerRow, subImgSize, legends, highlightAtomLists, highlightBondLists, useSVG, **kwargs)\u001b[0m\n\u001b[1;32m    451\u001b[0m                             \u001b[0mhighlightAtomLists\u001b[0m\u001b[0;34m=\u001b[0m\u001b[0mhighlightAtomLists\u001b[0m\u001b[0;34m,\u001b[0m\u001b[0;34m\u001b[0m\u001b[0m\n\u001b[1;32m    452\u001b[0m                             \u001b[0mhighlightBondLists\u001b[0m\u001b[0;34m=\u001b[0m\u001b[0mhighlightBondLists\u001b[0m\u001b[0;34m,\u001b[0m\u001b[0;34m\u001b[0m\u001b[0m\n\u001b[0;32m--> 453\u001b[0;31m                             **kwargs)\n\u001b[0m\u001b[1;32m    454\u001b[0m \u001b[0;34m\u001b[0m\u001b[0m\n\u001b[1;32m    455\u001b[0m \u001b[0;34m\u001b[0m\u001b[0m\n",
      "\u001b[0;32m~/anaconda3/lib/python3.6/site-packages/rdkit/Chem/Draw/__init__.py\u001b[0m in \u001b[0;36m_MolsToGridImage\u001b[0;34m(mols, molsPerRow, subImgSize, legends, highlightAtomLists, highlightBondLists, **kwargs)\u001b[0m\n\u001b[1;32m    401\u001b[0m                       highlightBonds=highlightBondLists,**kwargs)\n\u001b[1;32m    402\u001b[0m     \u001b[0md2d\u001b[0m\u001b[0;34m.\u001b[0m\u001b[0mFinishDrawing\u001b[0m\u001b[0;34m(\u001b[0m\u001b[0;34m)\u001b[0m\u001b[0;34m\u001b[0m\u001b[0m\n\u001b[0;32m--> 403\u001b[0;31m     \u001b[0mres\u001b[0m \u001b[0;34m=\u001b[0m \u001b[0m_drawerToImage\u001b[0m\u001b[0;34m(\u001b[0m\u001b[0md2d\u001b[0m\u001b[0;34m)\u001b[0m\u001b[0;34m\u001b[0m\u001b[0m\n\u001b[0m\u001b[1;32m    404\u001b[0m \u001b[0;34m\u001b[0m\u001b[0m\n\u001b[1;32m    405\u001b[0m   \u001b[0;32mreturn\u001b[0m \u001b[0mres\u001b[0m\u001b[0;34m\u001b[0m\u001b[0m\n",
      "\u001b[0;32m~/anaconda3/lib/python3.6/site-packages/rdkit/Chem/Draw/__init__.py\u001b[0m in \u001b[0;36m_drawerToImage\u001b[0;34m(d2d)\u001b[0m\n\u001b[1;32m    311\u001b[0m     \u001b[0;32mfrom\u001b[0m \u001b[0mPIL\u001b[0m \u001b[0;32mimport\u001b[0m \u001b[0mImage\u001b[0m\u001b[0;34m\u001b[0m\u001b[0m\n\u001b[1;32m    312\u001b[0m   \u001b[0msio\u001b[0m \u001b[0;34m=\u001b[0m \u001b[0mBytesIO\u001b[0m\u001b[0;34m(\u001b[0m\u001b[0md2d\u001b[0m\u001b[0;34m.\u001b[0m\u001b[0mGetDrawingText\u001b[0m\u001b[0;34m(\u001b[0m\u001b[0;34m)\u001b[0m\u001b[0;34m)\u001b[0m\u001b[0;34m\u001b[0m\u001b[0m\n\u001b[0;32m--> 313\u001b[0;31m   \u001b[0;32mreturn\u001b[0m \u001b[0mImage\u001b[0m\u001b[0;34m.\u001b[0m\u001b[0mopen\u001b[0m\u001b[0;34m(\u001b[0m\u001b[0msio\u001b[0m\u001b[0;34m)\u001b[0m\u001b[0;34m\u001b[0m\u001b[0m\n\u001b[0m\u001b[1;32m    314\u001b[0m \u001b[0;34m\u001b[0m\u001b[0m\n\u001b[1;32m    315\u001b[0m \u001b[0;32mdef\u001b[0m \u001b[0m_okToKekulizeMol\u001b[0m\u001b[0;34m(\u001b[0m\u001b[0mmol\u001b[0m\u001b[0;34m,\u001b[0m\u001b[0mkekulize\u001b[0m\u001b[0;34m)\u001b[0m\u001b[0;34m:\u001b[0m\u001b[0;34m\u001b[0m\u001b[0m\n",
      "\u001b[0;32m~/anaconda3/lib/python3.6/site-packages/PIL/Image.py\u001b[0m in \u001b[0;36mopen\u001b[0;34m(fp, mode)\u001b[0m\n\u001b[1;32m   2655\u001b[0m         \u001b[0mwarnings\u001b[0m\u001b[0;34m.\u001b[0m\u001b[0mwarn\u001b[0m\u001b[0;34m(\u001b[0m\u001b[0mmessage\u001b[0m\u001b[0;34m)\u001b[0m\u001b[0;34m\u001b[0m\u001b[0m\n\u001b[1;32m   2656\u001b[0m     raise IOError(\"cannot identify image file %r\"\n\u001b[0;32m-> 2657\u001b[0;31m                   % (filename if filename else fp))\n\u001b[0m\u001b[1;32m   2658\u001b[0m \u001b[0;34m\u001b[0m\u001b[0m\n\u001b[1;32m   2659\u001b[0m \u001b[0;31m#\u001b[0m\u001b[0;34m\u001b[0m\u001b[0;34m\u001b[0m\u001b[0m\n",
      "\u001b[0;31mOSError\u001b[0m: cannot identify image file <_io.BytesIO object at 0x7fd4c2680fc0>"
     ]
    }
   ],
   "source": [
    "smiles_list = []\n",
    "n_list = []\n",
    "for m in rs.components:\n",
    "    print(m.name, m.mid_diam, m.logP, m.role, m.Synth_score, m.complexity, m.pkl)\n",
    "#     print(m.name, m.KEGG_ID, m.role)\n",
    "    n_list.append(m.name)\n",
    "    smiles_list.append(m.SMILES)\n",
    "    MOL = Chem.MolFromSmiles(m.SMILES)\n",
    "#     Draw.MolToFile(MOL, fileName=m.name+'.svg')\n",
    "m_list = [Chem.MolFromSmiles(i) for i in smiles_list]\n",
    "Draw.MolsToGridImage(m_list, legends=n_list)"
   ]
  },
  {
   "cell_type": "markdown",
   "metadata": {},
   "source": [
    "## Analyse all RS for a certain skip_reaction reason"
   ]
  },
  {
   "cell_type": "code",
   "execution_count": null,
   "metadata": {},
   "outputs": [],
   "source": [
    "import os"
   ]
  },
  {
   "cell_type": "code",
   "execution_count": null,
   "metadata": {
    "ExecuteTime": {
     "end_time": "2018-11-08T02:15:53.180016Z",
     "start_time": "2018-11-08T02:15:53.176223Z"
    }
   },
   "outputs": [],
   "source": [
    "# rs_dir = '/home/atarzia/psp/screening_results/new_reactions_sabio_wcharge/'\n",
    "rs_dir = '/home/atarzia/psp/screening_results/new_reactions_kegg_atlas/'\n",
    "# rs_dir = '/home/atarzia/psp/screening_results/biomin_search_sabio_wcharge/'"
   ]
  },
  {
   "cell_type": "code",
   "execution_count": null,
   "metadata": {
    "ExecuteTime": {
     "end_time": "2018-11-08T04:04:21.726854Z",
     "start_time": "2018-11-08T04:04:21.552644Z"
    },
    "code_folding": [
     2
    ]
   },
   "outputs": [],
   "source": [
    "count = 0\n",
    "count_total = 0\n",
    "for rs in rxn_syst.yield_rxn_syst(output_dir=rs_dir):\n",
    "    count_total += 1\n",
    "    if rs.skip_rxn is True:\n",
    "        if rs.skip_reason == 'one component has no SMILES':\n",
    "            count += 1\n",
    "            print(rs.pkl)\n",
    "            os.system('rm '+rs_dir+rs.pkl)"
   ]
  },
  {
   "cell_type": "code",
   "execution_count": null,
   "metadata": {},
   "outputs": [],
   "source": [
    "print(count, count_total, count/count_total * 100)"
   ]
  },
  {
   "cell_type": "markdown",
   "metadata": {},
   "source": [
    "## Analyse the number of times each skip_reason is used"
   ]
  },
  {
   "cell_type": "code",
   "execution_count": null,
   "metadata": {},
   "outputs": [],
   "source": [
    "reasons = {'one component failed resolution': 0, 'SABIO E-ID is for mutant': 0, \n",
    "           'SABIO R-ID not found': 0,  'DNA present - SABIO has a bug': 0,\n",
    "           'CHEBI ID of a component not available': 0, 'a component is in skip_names': 0,\n",
    "           'one component is ?': 0, 'No result for KEGG URL search - likely outdated': 0,\n",
    "           'CHEBI ID not available for one component': 0,\n",
    "           'one component has invalid SMILES': 0, 'one component has no SMILES': 0, \n",
    "           'one component has wildcard SMILES': 0,\n",
    "           'one component has no molecule - rxn is incomplete or generic': 0,\n",
    "           'one component could not have diameter calculated': 0}"
   ]
  },
  {
   "cell_type": "code",
   "execution_count": null,
   "metadata": {},
   "outputs": [],
   "source": [
    "# rs_dir = '/home/atarzia/psp/screening_results/new_reactions_sabio_wcharge/'\n",
    "rs_dir = '/home/atarzia/psp/screening_results/new_reactions_kegg_atlas/'\n",
    "# rs_dir = '/home/atarzia/psp/screening_results/biomin_search_sabio_wcharge/'"
   ]
  },
  {
   "cell_type": "code",
   "execution_count": null,
   "metadata": {},
   "outputs": [],
   "source": [
    "count_total = 0\n",
    "count_skipped = 0\n",
    "for rs in rxn_syst.yield_rxn_syst(output_dir=rs_dir):\n",
    "    if 'KEGG' not in rs.pkl:\n",
    "        continue\n",
    "    count_total += 1\n",
    "    if rs.skip_rxn is True:\n",
    "        count_skipped += 1\n",
    "        reasons[rs.skip_reason] += 1\n",
    "#         if rs.skip_reason == 'CHEBI ID not available for one component':\n",
    "#             print(rs.__dict__)\n",
    "#             input()"
   ]
  },
  {
   "cell_type": "code",
   "execution_count": null,
   "metadata": {},
   "outputs": [],
   "source": [
    "print(count_skipped, count_total, count_skipped/count_total * 100)"
   ]
  },
  {
   "cell_type": "code",
   "execution_count": null,
   "metadata": {},
   "outputs": [],
   "source": [
    "reasons"
   ]
  },
  {
   "cell_type": "markdown",
   "metadata": {},
   "source": [
    "## Analyse RS with max_comp_size < some threshold\n",
    "- using threshold 4.2 angstrom 10/12/18"
   ]
  },
  {
   "cell_type": "code",
   "execution_count": 5,
   "metadata": {},
   "outputs": [],
   "source": [
    "from ercollect.rxn_syst import reaction, get_RS, yield_rxn_syst\n",
    "from rdkit.Chem import AllChem as Chem\n",
    "from rdkit.Chem import Draw"
   ]
  },
  {
   "cell_type": "code",
   "execution_count": 6,
   "metadata": {},
   "outputs": [],
   "source": [
    "RS_des = ['sRS-1_11_1_21-KEGG-R00009.gpkl', 'sRS-1_11_1_21-KEGG-R00602.gpkl',\n",
    "          'sRS-1_11_1_8-KEGG-R02810.gpkl', 'sRS-1_13_11_49-KEGG-R05721.gpkl',\n",
    "          'sRS-1_15_1_1-KEGG-R00275.gpkl', 'sRS-1_16_3_1-KEGG-R00078.gpkl',\n",
    "          'sRS-1_1_3_13-KEGG-R00608.gpkl', 'sRS-1_2_2_4-KEGG-R00276.gpkl',\n",
    "          'sRS-1_2_98_1-KEGG-R00614.gpkl', 'sRS-1_4_3_21-KEGG-R06154.gpkl',\n",
    "          'sRS-1_7_1_14-KEGG-R09809.gpkl', 'sRS-1_7_3_6-KEGG-R10230.gpkl',\n",
    "          'sRS-1_8_3_4-KEGG-R01851.gpkl', 'sRS-3_13_1_5-KEGG-R10534.gpkl',\n",
    "          'sRS-3_13_1_5-KEGG-R10535.gpkl', 'sRS-3_13_1_5-KEGG-R10538.gpkl',\n",
    "          'sRS-3_5_1_49-KEGG-R00524.gpkl', 'sRS-3_5_5_8-KEGG-R05780.gpkl',\n",
    "          'sRS-3_5_5_XX-KEGG-R00152.gpkl', 'sRS-4_2_1_112-KEGG-R05380.gpkl',\n",
    "          'sRS-4_2_1_66-KEGG-R01408.gpkl', 'sRS-4_99_1_2-KEGG-R09339.gpkl',\n",
    "          'sRS-XX_XX_XX_XX-KEGG-R00793.gpkl', 'sRS-XX_XX_XX_XX-KEGG-R09094.gpkl',\n",
    "          'sRS-XX_XX_XX_XX-KEGG-R09996.gpkl']"
   ]
  },
  {
   "cell_type": "code",
   "execution_count": 14,
   "metadata": {},
   "outputs": [],
   "source": [
    "directory = '/home/atarzia/psp/screening_results/'\n",
    "directory += 'new_reactions_kegg_atlas/'\n",
    "# directory += 'new_reactions_sabio_wcharge/'\n",
    "# directory += 'biomin_search_sabio_wcharge/'"
   ]
  },
  {
   "cell_type": "code",
   "execution_count": 34,
   "metadata": {},
   "outputs": [
    {
     "name": "stdout",
     "output_type": "stream",
     "text": [
      "sRS-1_11_1_21-KEGG-R00009.gpkl\n",
      "loading: sRS-1_11_1_21-KEGG-R00009.gpkl\n",
      "---------------------------------------------\n",
      "sRS-1_11_1_21-KEGG-R00602.gpkl\n",
      "loading: sRS-1_11_1_21-KEGG-R00602.gpkl\n",
      "---------------------------------------------\n",
      "sRS-1_11_1_8-KEGG-R02810.gpkl\n",
      "loading: sRS-1_11_1_8-KEGG-R02810.gpkl\n",
      "---------------------------------------------\n",
      "sRS-1_13_11_49-KEGG-R05721.gpkl\n",
      "loading: sRS-1_13_11_49-KEGG-R05721.gpkl\n",
      "---------------------------------------------\n",
      "sRS-1_15_1_1-KEGG-R00275.gpkl\n",
      "loading: sRS-1_15_1_1-KEGG-R00275.gpkl\n",
      "---------------------------------------------\n",
      "sRS-1_16_3_1-KEGG-R00078.gpkl\n",
      "loading: sRS-1_16_3_1-KEGG-R00078.gpkl\n",
      "---------------------------------------------\n",
      "sRS-1_1_3_13-KEGG-R00608.gpkl\n",
      "loading: sRS-1_1_3_13-KEGG-R00608.gpkl\n",
      "---------------------------------------------\n",
      "sRS-1_2_2_4-KEGG-R00276.gpkl\n",
      "loading: sRS-1_2_2_4-KEGG-R00276.gpkl\n",
      "---------------------------------------------\n",
      "sRS-1_2_98_1-KEGG-R00614.gpkl\n",
      "loading: sRS-1_2_98_1-KEGG-R00614.gpkl\n",
      "---------------------------------------------\n",
      "sRS-1_4_3_21-KEGG-R06154.gpkl\n",
      "loading: sRS-1_4_3_21-KEGG-R06154.gpkl\n",
      "---------------------------------------------\n",
      "sRS-1_7_1_14-KEGG-R09809.gpkl\n",
      "loading: sRS-1_7_1_14-KEGG-R09809.gpkl\n",
      "---------------------------------------------\n",
      "sRS-1_7_3_6-KEGG-R10230.gpkl\n",
      "loading: sRS-1_7_3_6-KEGG-R10230.gpkl\n",
      "---------------------------------------------\n",
      "sRS-1_8_3_4-KEGG-R01851.gpkl\n",
      "loading: sRS-1_8_3_4-KEGG-R01851.gpkl\n",
      "---------------------------------------------\n",
      "sRS-3_13_1_5-KEGG-R10534.gpkl\n",
      "loading: sRS-3_13_1_5-KEGG-R10534.gpkl\n",
      "---------------------------------------------\n",
      "sRS-3_13_1_5-KEGG-R10535.gpkl\n",
      "loading: sRS-3_13_1_5-KEGG-R10535.gpkl\n",
      "---------------------------------------------\n",
      "sRS-3_13_1_5-KEGG-R10538.gpkl\n",
      "loading: sRS-3_13_1_5-KEGG-R10538.gpkl\n",
      "---------------------------------------------\n",
      "sRS-3_5_1_49-KEGG-R00524.gpkl\n",
      "loading: sRS-3_5_1_49-KEGG-R00524.gpkl\n",
      "---------------------------------------------\n",
      "sRS-3_5_5_8-KEGG-R05780.gpkl\n",
      "loading: sRS-3_5_5_8-KEGG-R05780.gpkl\n",
      "---------------------------------------------\n",
      "sRS-3_5_5_XX-KEGG-R00152.gpkl\n",
      "loading: sRS-3_5_5_XX-KEGG-R00152.gpkl\n",
      "---------------------------------------------\n",
      "sRS-4_2_1_112-KEGG-R05380.gpkl\n",
      "loading: sRS-4_2_1_112-KEGG-R05380.gpkl\n",
      "---------------------------------------------\n",
      "sRS-4_2_1_66-KEGG-R01408.gpkl\n",
      "loading: sRS-4_2_1_66-KEGG-R01408.gpkl\n",
      "---------------------------------------------\n",
      "sRS-4_99_1_2-KEGG-R09339.gpkl\n",
      "loading: sRS-4_99_1_2-KEGG-R09339.gpkl\n",
      "---------------------------------------------\n",
      "sRS-XX_XX_XX_XX-KEGG-R00793.gpkl\n",
      "loading: sRS-XX_XX_XX_XX-KEGG-R00793.gpkl\n",
      "---------------------------------------------\n",
      "sRS-XX_XX_XX_XX-KEGG-R09094.gpkl\n",
      "loading: sRS-XX_XX_XX_XX-KEGG-R09094.gpkl\n",
      "---------------------------------------------\n",
      "sRS-XX_XX_XX_XX-KEGG-R09996.gpkl\n",
      "loading: sRS-XX_XX_XX_XX-KEGG-R09996.gpkl\n",
      "---------------------------------------------\n",
      "25\n"
     ]
    }
   ],
   "source": [
    "count = 0\n",
    "for pkl in RS_des:\n",
    "    print(pkl)\n",
    "    rs = get_RS(directory+pkl, output_dir=directory, verbose=True)\n",
    "    smiles_list = []\n",
    "    n_list = []\n",
    "#     for m in rs.components:\n",
    "#         print(m.name, m.mid_diam)\n",
    "    print('---------------------------------------------')\n",
    "    count += 1\n",
    "print(count)"
   ]
  },
  {
   "cell_type": "code",
   "execution_count": null,
   "metadata": {},
   "outputs": [],
   "source": []
  }
 ],
 "metadata": {
  "kernelspec": {
   "display_name": "Python 3",
   "language": "python",
   "name": "python3"
  },
  "language_info": {
   "codemirror_mode": {
    "name": "ipython",
    "version": 3
   },
   "file_extension": ".py",
   "mimetype": "text/x-python",
   "name": "python",
   "nbconvert_exporter": "python",
   "pygments_lexer": "ipython3",
   "version": "3.6.5"
  }
 },
 "nbformat": 4,
 "nbformat_minor": 2
}
