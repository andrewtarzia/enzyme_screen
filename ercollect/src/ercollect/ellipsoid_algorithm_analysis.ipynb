{
 "cells": [
  {
   "cell_type": "code",
   "execution_count": 1,
   "metadata": {
    "ExecuteTime": {
     "end_time": "2018-11-08T00:04:02.672134Z",
     "start_time": "2018-11-08T00:04:02.625600Z"
    }
   },
   "outputs": [
    {
     "data": {
      "text/html": [
       "<style>.container { width:95% !important; }</style>"
      ],
      "text/plain": [
       "<IPython.core.display.HTML object>"
      ]
     },
     "metadata": {},
     "output_type": "display_data"
    }
   ],
   "source": [
    "from IPython.core.display import HTML\n",
    "display(HTML(\"<style>.container { width:95% !important; }</style>\"))\n",
    "%load_ext autoreload\n",
    "%autoreload 1"
   ]
  },
  {
   "cell_type": "markdown",
   "metadata": {},
   "source": [
    "Author: Andrew Tarzia\n",
    "\n",
    "Date Created: 12 Jul 2018\n",
    "\n",
    "Distributed under the terms of the MIT License."
   ]
  },
  {
   "cell_type": "code",
   "execution_count": 2,
   "metadata": {
    "ExecuteTime": {
     "end_time": "2018-11-08T00:04:05.809336Z",
     "start_time": "2018-11-08T00:04:04.989457Z"
    }
   },
   "outputs": [],
   "source": [
    "import numpy as np\n",
    "import pandas as pd\n",
    "import os\n",
    "from rdkit.Chem import AllChem as Chem\n",
    "from rdkit.Chem import Descriptors\n",
    "from rdkit.Chem.Descriptors3D import NPR1, NPR2, PMI1, PMI2, PMI3\n",
    "from rdkit.Chem.Draw.MolDrawing import MolDrawing\n",
    "from rdkit.Chem.Draw import IPythonConsole\n",
    "from rdkit.Chem import Draw\n",
    "from rdkit.Geometry import rdGeometry\n",
    "from rdkit.Chem import PyMol\n",
    "import py3Dmol\n",
    "from ipywidgets import interact, interactive, fixed\n",
    "from rdkit import Geometry\n",
    "import tempfile\n",
    "import matplotlib.pyplot as plt\n",
    "%aimport ercollect.rdkit_functions\n",
    "%aimport ercollect.ellipsoid"
   ]
  },
  {
   "cell_type": "markdown",
   "metadata": {},
   "source": [
    "## This section looks at analysing the ellipsoids fit to a VDW cloud as a function of parameters"
   ]
  },
  {
   "cell_type": "code",
   "execution_count": 301,
   "metadata": {},
   "outputs": [],
   "source": [
    "name, smiles = 'n-octane', 'CCCCCCCC'\n",
    "output_dir = '/home/atarzia/psp/molecule_param/'\n",
    "m = Chem.MolFromSmiles(smiles)\n",
    "m = Chem.AddHs(m)"
   ]
  },
  {
   "cell_type": "code",
   "execution_count": 307,
   "metadata": {},
   "outputs": [],
   "source": [
    "# get conformers using ETKDG algorithm\n",
    "cids = Chem.EmbedMultipleConfs(mol=m, numConfs=5,\n",
    "                               useExpTorsionAnglePrefs=True,\n",
    "                               useBasicKnowledge=True,\n",
    "                               randomSeed=1000)"
   ]
  },
  {
   "cell_type": "code",
   "execution_count": 308,
   "metadata": {},
   "outputs": [],
   "source": [
    "# quick UFF optimize\n",
    "for cid in cids:\n",
    "    Chem.UFFOptimizeMolecule(m, confId=cid)"
   ]
  },
  {
   "cell_type": "markdown",
   "metadata": {},
   "source": [
    "### Inside get_ellip_diameters()"
   ]
  },
  {
   "cell_type": "code",
   "execution_count": 310,
   "metadata": {},
   "outputs": [],
   "source": [
    "# only interested in first (and only) conformer\n",
    "confId = 2"
   ]
  },
  {
   "cell_type": "code",
   "execution_count": 311,
   "metadata": {},
   "outputs": [],
   "source": [
    "conf = m.GetConformer(confId)"
   ]
  },
  {
   "cell_type": "code",
   "execution_count": 312,
   "metadata": {},
   "outputs": [
    {
     "name": "stdout",
     "output_type": "stream",
     "text": [
      "-4.7236520657266095 4.991454008315334\n",
      "-1.4649908998099799 1.6813811193422012\n",
      "-1.4189326821343222 1.3992416591048715\n"
     ]
    }
   ],
   "source": [
    "print(min(conf.GetPositions()[:, 0]), max(conf.GetPositions()[:, 0]))\n",
    "print(min(conf.GetPositions()[:, 1]), max(conf.GetPositions()[:, 1]))\n",
    "print(min(conf.GetPositions()[:, 2]), max(conf.GetPositions()[:, 2]))"
   ]
  },
  {
   "cell_type": "markdown",
   "metadata": {},
   "source": [
    "### Inside get_molec_shape()"
   ]
  },
  {
   "cell_type": "code",
   "execution_count": 313,
   "metadata": {},
   "outputs": [],
   "source": [
    "box = Chem.ComputeConfBox(conf)"
   ]
  },
  {
   "cell_type": "code",
   "execution_count": 314,
   "metadata": {},
   "outputs": [
    {
     "name": "stdout",
     "output_type": "stream",
     "text": [
      "[(-6.7236520657266095, -3.4649908998099797, -3.418932682134322), (6.991454008315334, 3.681381119342201, 3.3992416591048715)]\n"
     ]
    }
   ],
   "source": [
    "print([(i.x, i.y, i.z) for i in box])"
   ]
  },
  {
   "cell_type": "code",
   "execution_count": 329,
   "metadata": {},
   "outputs": [],
   "source": [
    "boxMargin = 4"
   ]
  },
  {
   "cell_type": "code",
   "execution_count": 330,
   "metadata": {},
   "outputs": [],
   "source": [
    "sideLen = (box[1].x-box[0].x + 2*boxMargin,\n",
    "           box[1].y-box[0].y + 2*boxMargin,\n",
    "           box[1].z-box[0].z + 2*boxMargin)"
   ]
  },
  {
   "cell_type": "code",
   "execution_count": 331,
   "metadata": {},
   "outputs": [
    {
     "name": "stdout",
     "output_type": "stream",
     "text": [
      "(21.715106074041945, 15.146372019152182, 14.818174341239194)\n"
     ]
    }
   ],
   "source": [
    "print(sideLen)"
   ]
  },
  {
   "cell_type": "code",
   "execution_count": 332,
   "metadata": {},
   "outputs": [],
   "source": [
    "spacing = 0.4"
   ]
  },
  {
   "cell_type": "code",
   "execution_count": 333,
   "metadata": {},
   "outputs": [],
   "source": [
    "shape = rdGeometry.UniformGrid3D(2*sideLen[0],\n",
    "                                     2*sideLen[1],\n",
    "                                     2*sideLen[2],\n",
    "                                     spacing=spacing)"
   ]
  },
  {
   "cell_type": "code",
   "execution_count": 334,
   "metadata": {},
   "outputs": [],
   "source": [
    "vdwScale = 0.8"
   ]
  },
  {
   "cell_type": "code",
   "execution_count": 335,
   "metadata": {},
   "outputs": [],
   "source": [
    "Chem.EncodeShape(m, shape, confId=confId, ignoreHs=False,\n",
    "                     vdwScale=vdwScale)"
   ]
  },
  {
   "cell_type": "markdown",
   "metadata": {},
   "source": [
    "### Returned"
   ]
  },
  {
   "cell_type": "code",
   "execution_count": 336,
   "metadata": {},
   "outputs": [],
   "source": [
    "# get ellipsoid fitting all points with value > 2\n",
    "# - i.e. within vdw shape\n",
    "hit_points = []\n",
    "all_points = []\n",
    "for idx in range(shape.GetSize()):\n",
    "    pt = shape.GetGridPointLoc(idx)\n",
    "    value = shape.GetVal(idx)\n",
    "    point = np.array([pt.x, pt.y, pt.z])\n",
    "    all_points.append(point)\n",
    "    if value > 1:\n",
    "        hit_points.append(point)\n",
    "all_points = np.asarray(all_points)   \n",
    "hit_points = np.asarray(hit_points)"
   ]
  },
  {
   "cell_type": "code",
   "execution_count": 337,
   "metadata": {},
   "outputs": [
    {
     "name": "stdout",
     "output_type": "stream",
     "text": [
      "613016\n"
     ]
    }
   ],
   "source": [
    "print(len(all_points))"
   ]
  },
  {
   "cell_type": "code",
   "execution_count": 338,
   "metadata": {},
   "outputs": [
    {
     "name": "stdout",
     "output_type": "stream",
     "text": [
      "2432\n"
     ]
    }
   ],
   "source": [
    "print(len(hit_points))"
   ]
  },
  {
   "cell_type": "code",
   "execution_count": 339,
   "metadata": {},
   "outputs": [
    {
     "name": "stdout",
     "output_type": "stream",
     "text": [
      "-21.715106074041945 21.48489392595806\n",
      "-15.146372019152182 14.853627980847818\n",
      "-14.818174341239194 14.381825658760809\n"
     ]
    }
   ],
   "source": [
    "print(min(all_points[:, 0]), max(all_points[:, 0]))\n",
    "print(min(all_points[:, 1]), max(all_points[:, 1]))\n",
    "print(min(all_points[:, 2]), max(all_points[:, 2]))"
   ]
  },
  {
   "cell_type": "code",
   "execution_count": 328,
   "metadata": {},
   "outputs": [
    {
     "name": "stdout",
     "output_type": "stream",
     "text": [
      "-29.715106074041945 29.48489392595806\n",
      "-23.14637201915218 22.85362798084782\n",
      "-22.818174341239192 22.38182565876081\n"
     ]
    }
   ],
   "source": [
    "print(min(all_points[:, 0]), max(all_points[:, 0]))\n",
    "print(min(all_points[:, 1]), max(all_points[:, 1]))\n",
    "print(min(all_points[:, 2]), max(all_points[:, 2]))"
   ]
  },
  {
   "cell_type": "code",
   "execution_count": 287,
   "metadata": {},
   "outputs": [],
   "source": [
    "a = hit_points"
   ]
  },
  {
   "cell_type": "code",
   "execution_count": 298,
   "metadata": {},
   "outputs": [
    {
     "data": {
      "text/plain": [
       "(array([156., 177., 271., 254., 284., 249., 287., 310., 305., 124.]),\n",
       " array([-6.02991146, -4.82991146, -3.62991146, -2.42991146, -1.22991146,\n",
       "        -0.02991146,  1.17008854,  2.37008854,  3.57008854,  4.77008854,\n",
       "         5.97008854]),\n",
       " <a list of 10 Patch objects>)"
      ]
     },
     "execution_count": 298,
     "metadata": {},
     "output_type": "execute_result"
    },
    {
     "data": {
      "image/png": "[encoded data removed]",
      "text/plain": [
       "<Figure size 432x288 with 1 Axes>"
      ]
     },
     "metadata": {},
     "output_type": "display_data"
    }
   ],
   "source": [
    "plt.hist(hit_points[:, 0], alpha=0.5)\n",
    "plt.hist(a[:, 0], alpha=0.5)"
   ]
  },
  {
   "cell_type": "code",
   "execution_count": 196,
   "metadata": {},
   "outputs": [
    {
     "data": {
      "image/png": "[encoded data removed]",
      "text/plain": [
       "<Figure size 576x576 with 1 Axes>"
      ]
     },
     "metadata": {},
     "output_type": "display_data"
    }
   ],
   "source": [
    "fig = plt.figure(figsize=(8, 8))\n",
    "ax = fig.add_subplot(111, projection='3d')\n",
    "# plot points\n",
    "atom_positions = conf.GetPositions()\n",
    "ax.scatter(atom_positions[:, 0], atom_positions[:, 1],\n",
    "           atom_positions[:, 2],\n",
    "           color='k', marker='o', s=100)\n",
    "ax.scatter(hit_points[:, 0], hit_points[:, 1], hit_points[:, 2],\n",
    "           color='g', marker='x', edgecolor=None,\n",
    "           s=50, alpha=0.2)\n",
    "\n",
    "# plot ellipsoid\n",
    "# ET.plotEllipsoid(center, radii, rotation, ax=ax, plotAxes=False)\n",
    "ax.set_xlabel(\"$x$ [$\\mathrm{\\AA}$]\", fontsize=16)\n",
    "ax.set_ylabel(\"$y$ [$\\mathrm{\\AA}$]\", fontsize=16)\n",
    "ax.set_zlabel(\"$z$ [$\\mathrm{\\AA}$]\", fontsize=16)\n",
    "# ax.set_xlim(box[0].x-boxMargin, box[1].x+boxMargin)\n",
    "# ax.set_ylim(box[0].y-boxMargin, box[1].y+boxMargin)\n",
    "# ax.set_zlim(box[0].z-boxMargin, box[1].z+boxMargin)\n",
    "ax.set_xlim(box[0].x-2, box[1].x+2)\n",
    "ax.set_ylim(box[0].y-2, box[1].y+2)\n",
    "ax.set_zlim(box[0].z-2, box[1].z+2)\n",
    "ax.set_aspect('equal', 'box')\n",
    "# plt.axis('off')\n",
    "\n",
    "dist = [20, 30]\n",
    "angles = [45, -180]\n",
    "ax.view_init(dist[0], angles[0])\n",
    "fig.tight_layout()\n",
    "fig.savefig(output_dir+'temporary_1.pdf', dpi=720,\n",
    "            bbox_inches='tight')"
   ]
  },
  {
   "cell_type": "code",
   "execution_count": 142,
   "metadata": {},
   "outputs": [
    {
     "name": "stdin",
     "output_type": "stream",
     "text": [
      "you sure? \n"
     ]
    }
   ],
   "source": [
    "# save too dicts\n",
    "if input('you sure?') == 't':\n",
    "    hp = {'4_pt4': [],\n",
    "          '8_pt4': [],\n",
    "          '4_pt6': [],\n",
    "          '8_pt6': []}"
   ]
  },
  {
   "cell_type": "code",
   "execution_count": 143,
   "metadata": {},
   "outputs": [],
   "source": [
    "# hp['4_pt4'] = a\n",
    "# hp['8_pt4'] = a\n",
    "hp['4_pt6'] = a\n",
    "# hp['8_pt6'] = a"
   ]
  },
  {
   "cell_type": "code",
   "execution_count": 144,
   "metadata": {},
   "outputs": [
    {
     "data": {
      "text/plain": [
       "{'4_pt4': array([[-1.36725273,  1.14447124, -3.1843216 ],\n",
       "        [-2.96725273, -0.85552876, -2.7843216 ],\n",
       "        [-0.96725273, -0.85552876, -2.7843216 ],\n",
       "        ...,\n",
       "        [ 0.63274727,  1.14447124,  2.4156784 ],\n",
       "        [ 1.03274727,  1.14447124,  2.4156784 ],\n",
       "        [ 1.43274727,  1.14447124,  2.4156784 ]]),\n",
       " '4_pt6': array([[-0.76725273, -0.65552876, -2.9843216 ],\n",
       "        [-1.36725273, -0.05552876, -2.9843216 ],\n",
       "        [-0.76725273, -0.05552876, -2.9843216 ],\n",
       "        ...,\n",
       "        [ 0.43274727,  1.14447124,  2.4156784 ],\n",
       "        [ 1.03274727,  1.14447124,  2.4156784 ],\n",
       "        [ 1.63274727,  1.14447124,  2.4156784 ]]),\n",
       " '8_pt4': array([[-1.36725273,  1.14447124, -3.1843216 ],\n",
       "        [-2.96725273, -0.85552876, -2.7843216 ],\n",
       "        [-0.96725273, -0.85552876, -2.7843216 ],\n",
       "        ...,\n",
       "        [ 0.63274727,  1.14447124,  2.4156784 ],\n",
       "        [ 1.03274727,  1.14447124,  2.4156784 ],\n",
       "        [ 1.43274727,  1.14447124,  2.4156784 ]]),\n",
       " '8_pt6': array([[-3.36725273, -0.85552876, -2.5843216 ],\n",
       "        [-2.76725273, -0.85552876, -2.5843216 ],\n",
       "        [-0.96725273, -0.85552876, -2.5843216 ],\n",
       "        ...,\n",
       "        [ 1.43274727,  0.94447124,  2.2156784 ],\n",
       "        [ 0.83274727,  1.54447124,  2.2156784 ],\n",
       "        [ 1.43274727,  1.54447124,  2.2156784 ]])}"
      ]
     },
     "execution_count": 144,
     "metadata": {},
     "output_type": "execute_result"
    }
   ],
   "source": [
    "hp"
   ]
  },
  {
   "cell_type": "code",
   "execution_count": 146,
   "metadata": {},
   "outputs": [
    {
     "name": "stdout",
     "output_type": "stream",
     "text": [
      "4_pt4\n",
      "2432\n",
      "8_pt4\n",
      "2432\n",
      "4_pt6\n",
      "722\n",
      "8_pt6\n",
      "714\n"
     ]
    }
   ],
   "source": [
    "for i, j in hp.items():\n",
    "    print(i)\n",
    "    print(len(j))\n",
    "    "
   ]
  },
  {
   "cell_type": "markdown",
   "metadata": {},
   "source": [
    "## Get timing information for calculating molecular size"
   ]
  },
  {
   "cell_type": "code",
   "execution_count": 8,
   "metadata": {},
   "outputs": [],
   "source": [
    "import time"
   ]
  },
  {
   "cell_type": "code",
   "execution_count": 21,
   "metadata": {},
   "outputs": [
    {
     "name": "stdout",
     "output_type": "stream",
     "text": [
      "doing: (0.6, 10)\n",
      "doing: (0.6, 50)\n",
      "doing: (0.6, 200)\n",
      "doing: (0.4, 10)\n",
      "doing: (0.4, 50)\n",
      "doing: (0.4, 200)\n",
      "doing: (0.8, 10)\n",
      "doing: (0.8, 50)\n",
      "doing: (0.8, 200)\n",
      "doing: (0.5, 10)\n",
      "doing: (0.5, 50)\n",
      "doing: (0.5, 200)\n"
     ]
    }
   ],
   "source": [
    "name, smiles = 'n-octane', 'CCCCCCCC'\n",
    "output_dir = '/home/atarzia/psp/molecule_DBs/atarzia/'\n",
    "# spacing, conf\n",
    "param_test = [(0.6, 10), (0.6, 50), (0.6, 200), (0.4, 10), (0.4, 50), (0.4, 200), (0.8, 10), (0.8, 50), (0.8, 200), (0.5, 10), (0.5, 50), (0.5, 200),]\n",
    "result = []\n",
    "for p in param_test:\n",
    "    print('doing:', p)\n",
    "    os.system('rm '+output_dir+name+'_diam_result.csv')\n",
    "    start_time = time.time()\n",
    "    res = ercollect.rdkit_functions.calc_molecule_diameter(name, smiles, out_dir=output_dir,\n",
    "                                             MW_thresh=2000, \n",
    "                                             vdwScale=0.8, \n",
    "                                             boxMargin=4.0,\n",
    "                                             spacing=p[0], \n",
    "                                             show_vdw=False, plot_ellip=False,\n",
    "                                             N_conformers=p[1])\n",
    "    end_time = time.time()\n",
    "    t = end_time - start_time\n",
    "    result.append(t)"
   ]
  },
  {
   "cell_type": "code",
   "execution_count": 22,
   "metadata": {},
   "outputs": [
    {
     "data": {
      "text/plain": [
       "[2.6102492809295654,\n",
       " 12.930054187774658,\n",
       " 51.61365842819214,\n",
       " 12.452444314956665,\n",
       " 85.55890369415283,\n",
       " 238.37334775924683,\n",
       " 1.1112666130065918,\n",
       " 5.299277067184448,\n",
       " 20.148927688598633,\n",
       " 4.761769771575928,\n",
       " 25.313056468963623,\n",
       " 99.35008955001831]"
      ]
     },
     "execution_count": 22,
     "metadata": {},
     "output_type": "execute_result"
    }
   ],
   "source": [
    "result"
   ]
  },
  {
   "cell_type": "code",
   "execution_count": 24,
   "metadata": {},
   "outputs": [
    {
     "data": {
      "image/png": "[encoded data removed]",
      "text/plain": [
       "<Figure size 432x288 with 1 Axes>"
      ]
     },
     "metadata": {},
     "output_type": "display_data"
    }
   ],
   "source": [
    "for p, r in zip(param_test, result):\n",
    "    if p[1] == 10:\n",
    "        plt.scatter(p[0], r-min(result), c='k')\n",
    "    if p[1] == 50:\n",
    "        plt.scatter(p[0], r-min(result), c='r')\n",
    "    if p[1] == 200:\n",
    "        plt.scatter(p[0], r-min(result), c='b')"
   ]
  },
  {
   "cell_type": "code",
   "execution_count": 28,
   "metadata": {},
   "outputs": [
    {
     "data": {
      "image/png": "[encoded data removed]",
      "text/plain": [
       "<Figure size 432x288 with 1 Axes>"
      ]
     },
     "metadata": {},
     "output_type": "display_data"
    }
   ],
   "source": [
    "for p, r in zip(param_test, result):\n",
    "    if p[0] == 0.4:\n",
    "        plt.scatter(p[1], r-min(result), c='k')\n",
    "    if p[0] == 0.5:\n",
    "        plt.scatter(p[1], r-min(result), c='r')\n",
    "    if p[0] == 0.6:\n",
    "        plt.scatter(p[1], r-min(result), c='b')\n",
    "    if p[0] == 0.8:\n",
    "        plt.scatter(p[1], r-min(result), c='green')\n",
    "    plt.plot(np.linspace(0, 200, 2), np.linspace(0, 100, 2))"
   ]
  },
  {
   "cell_type": "markdown",
   "metadata": {},
   "source": [
    "## How does the minimum intermediate diameter change as a function of N conformers and random seed?"
   ]
  },
  {
   "cell_type": "code",
   "execution_count": 11,
   "metadata": {},
   "outputs": [
    {
     "name": "stdout",
     "output_type": "stream",
     "text": [
      "doing: (1, 10)\n",
      "doing: (1, 50)\n",
      "doing: (1, 200)\n",
      "doing: (1, 1000)\n",
      "doing: (10, 10)\n",
      "doing: (10, 50)\n",
      "doing: (10, 200)\n",
      "doing: (10, 1000)\n",
      "doing: (1000, 10)\n",
      "doing: (1000, 50)\n",
      "doing: (1000, 200)\n",
      "doing: (1000, 1000)\n",
      "doing: (135113, 10)\n",
      "doing: (135113, 50)\n",
      "doing: (135113, 200)\n",
      "doing: (135113, 1000)\n",
      "doing: (7973855, 10)\n",
      "doing: (7973855, 50)\n",
      "doing: (7973855, 200)\n",
      "doing: (7973855, 1000)\n"
     ]
    }
   ],
   "source": [
    "name, smiles = 'n-octane', 'CCCCCCCC'\n",
    "output_dir = '/home/atarzia/psp/molecule_DBs/atarzia/'\n",
    "# random seed, conf\n",
    "param_test = [(1, 10), (1, 50), (1, 200), (1, 1000), (10, 10), (10, 50), (10, 200), (10, 1000), \n",
    "              (1000, 10), (1000, 50), (1000, 200), (1000, 1000), (135113, 10), (135113, 50), (135113, 200), (135113, 1000),\n",
    "              (7973855, 10), (7973855, 50), (7973855, 200), (7973855, 1000),]\n",
    "result = []\n",
    "for p in param_test:\n",
    "    print('doing:', p)\n",
    "    os.system('rm '+output_dir+name+'_diam_result.csv')\n",
    "    res = ercollect.rdkit_functions.calc_molecule_diameter(name, smiles, out_dir=output_dir,\n",
    "                                             MW_thresh=2000, \n",
    "                                             vdwScale=0.8, \n",
    "                                             boxMargin=4.0,\n",
    "                                             spacing=0.5, \n",
    "                                             show_vdw=False, plot_ellip=False,\n",
    "                                             N_conformers=p[1],\n",
    "                                             rSeed=p[0])\n",
    "    result.append(min(res.diam2))"
   ]
  },
  {
   "cell_type": "code",
   "execution_count": 12,
   "metadata": {},
   "outputs": [
    {
     "data": {
      "text/plain": [
       "[5.8043224920316945,\n",
       " 5.103240290832818,\n",
       " 5.103240290832818,\n",
       " 5.103240290832818,\n",
       " 5.6774695208655865,\n",
       " 5.337594474073877,\n",
       " 5.234933595860988,\n",
       " 5.0903211247663505,\n",
       " 5.282262866984238,\n",
       " 5.249760926771138,\n",
       " 5.132127195697385,\n",
       " 5.103748205886893,\n",
       " 5.2101676992667825,\n",
       " 5.2101676992667825,\n",
       " 5.175478905664319,\n",
       " 5.063515205807234,\n",
       " 5.780915663861822,\n",
       " 5.145997525071174,\n",
       " 5.145997525071174,\n",
       " 5.124655767040809]"
      ]
     },
     "execution_count": 12,
     "metadata": {},
     "output_type": "execute_result"
    }
   ],
   "source": [
    "result"
   ]
  },
  {
   "cell_type": "code",
   "execution_count": 13,
   "metadata": {},
   "outputs": [
    {
     "data": {
      "image/png": "[encoded data removed]",
      "text/plain": [
       "<Figure size 432x288 with 1 Axes>"
      ]
     },
     "metadata": {},
     "output_type": "display_data"
    }
   ],
   "source": [
    "for p, r in zip(param_test, result):\n",
    "    if p[0] == 1:\n",
    "        plt.scatter(p[1], r, c='k')\n",
    "    if p[0] == 10:\n",
    "        plt.scatter(p[1], r, c='r')\n",
    "    if p[0] == 1000:\n",
    "        plt.scatter(p[1], r, c='b')\n",
    "    if p[0] == 135113:\n",
    "        plt.scatter(p[1], r, c='green')\n",
    "    if p[0] == 7973855:\n",
    "        plt.scatter(p[1], r, c='purple')"
   ]
  },
  {
   "cell_type": "code",
   "execution_count": 14,
   "metadata": {},
   "outputs": [
    {
     "data": {
      "image/png": "[encoded data removed]",
      "text/plain": [
       "<Figure size 432x288 with 1 Axes>"
      ]
     },
     "metadata": {},
     "output_type": "display_data"
    }
   ],
   "source": [
    "for p, r in zip(param_test, result):\n",
    "    if p[0] == 1:\n",
    "        plt.scatter(p[1], r-min(result), c='k')\n",
    "    if p[0] == 10:\n",
    "        plt.scatter(p[1], r-min(result), c='r')\n",
    "    if p[0] == 1000:\n",
    "        plt.scatter(p[1], r-min(result), c='b')\n",
    "    if p[0] == 135113:\n",
    "        plt.scatter(p[1], r-min(result), c='green')\n",
    "    if p[0] == 7973855:\n",
    "        plt.scatter(p[1], r-min(result), c='purple')"
   ]
  },
  {
   "cell_type": "code",
   "execution_count": null,
   "metadata": {},
   "outputs": [],
   "source": []
  }
 ],
 "metadata": {
  "kernelspec": {
   "display_name": "Python 3",
   "language": "python",
   "name": "python3"
  },
  "language_info": {
   "codemirror_mode": {
    "name": "ipython",
    "version": 3
   },
   "file_extension": ".py",
   "mimetype": "text/x-python",
   "name": "python",
   "nbconvert_exporter": "python",
   "pygments_lexer": "ipython3",
   "version": "3.6.5"
  }
 },
 "nbformat": 4,
 "nbformat_minor": 2
}
