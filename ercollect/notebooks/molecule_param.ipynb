{
 "cells": [
  {
   "cell_type": "code",
   "execution_count": null,
   "metadata": {
    "ExecuteTime": {
     "end_time": "2018-09-13T09:28:10.884033Z",
     "start_time": "2018-09-13T09:28:10.856020Z"
    }
   },
   "outputs": [],
   "source": [
    "from IPython.core.display import HTML\n",
    "display(HTML(\"<style>.container { width:95% !important; }</style>\"))   \n",
    "%load_ext autoreload\n",
    "%autoreload 1"
   ]
  },
  {
   "cell_type": "markdown",
   "metadata": {},
   "source": [
    "Author: Andrew Tarzia\n",
    "\n",
    "Date Created: 12 Jul 2018\n",
    "\n",
    "Distributed under the terms of the MIT License."
   ]
  },
  {
   "cell_type": "markdown",
   "metadata": {},
   "source": [
    "# Notebook for getting molecule parameters using RDKIT\n"
   ]
  },
  {
   "cell_type": "code",
   "execution_count": null,
   "metadata": {
    "ExecuteTime": {
     "end_time": "2018-09-13T09:28:13.027808Z",
     "start_time": "2018-09-13T09:28:12.084855Z"
    }
   },
   "outputs": [],
   "source": [
    "import numpy as np\n",
    "import pandas as pd\n",
    "import os\n",
    "from rdkit.Chem import AllChem as Chem\n",
    "from rdkit.Chem import Descriptors\n",
    "from rdkit.Chem.Descriptors3D import NPR1, NPR2, PMI1, PMI2, PMI3\n",
    "from rdkit.Chem.Draw.MolDrawing import MolDrawing\n",
    "from rdkit.Chem.Draw import IPythonConsole\n",
    "from rdkit.Chem import Draw\n",
    "from rdkit.Geometry import rdGeometry\n",
    "from rdkit.Chem import PyMol\n",
    "from rdkit import Geometry\n",
    "import tempfile\n",
    "import matplotlib.pyplot as plt\n",
    "%aimport rdkit_functions"
   ]
  },
  {
   "cell_type": "code",
   "execution_count": null,
   "metadata": {
    "ExecuteTime": {
     "end_time": "2018-09-13T11:23:00.569712Z",
     "start_time": "2018-09-13T11:23:00.554918Z"
    }
   },
   "outputs": [],
   "source": [
    "# molecule file dir\n",
    "molecule_file = '/home/atarzia/psp/molecule_param/test_molecules.txt'\n",
    "# output dir\n",
    "output_dir = '/home/atarzia/psp/molecule_param/'"
   ]
  },
  {
   "cell_type": "code",
   "execution_count": null,
   "metadata": {
    "ExecuteTime": {
     "end_time": "2018-09-13T11:23:25.887057Z",
     "start_time": "2018-09-13T11:23:25.809001Z"
    }
   },
   "outputs": [],
   "source": [
    "def define_plot_variables(ax, title, ytitle, xtitle, xlim, ylim):\n",
    "    \"\"\"\n",
    "    Series of matplotlib pyplot settings to make all plots unitform.\n",
    "    \"\"\"\n",
    "    # Set number of ticks for x-axis\n",
    "    ax.tick_params(axis='both', which='major', labelsize=16)\n",
    "\n",
    "    ax.set_ylabel(ytitle, fontsize=16)\n",
    "    # ax.legend([y, n], ['aligned', 'not aligned'], loc=4, fancybox=True)\n",
    "    ax.set_xlim(xlim)\n",
    "    ax.set_ylim(ylim)\n",
    "    ax.set_xticklabels(['diffuses', 'does not diffuse'])\n",
    "    ax.set_xticks([0.25, 0.75])\n",
    "\n",
    "\n",
    "def define_parity_plot_variables(ax, title, ytitle, xtitle, xlim, ylim):\n",
    "    \"\"\"\n",
    "    Series of matplotlib pyplot settings to make all plots unitform.\n",
    "    \"\"\"\n",
    "    # Set number of ticks for x-axis\n",
    "    ax.tick_params(axis='both', which='major', labelsize=16)\n",
    "\n",
    "    ax.set_xlabel(xtitle, fontsize=16)\n",
    "    ax.set_ylabel(ytitle, fontsize=16)\n",
    "    # ax.legend([y, n], ['aligned', 'not aligned'], loc=4, fancybox=True)\n",
    "    ax.set_xlim(xlim)\n",
    "    ax.set_ylim(ylim)\n"
   ]
  },
  {
   "cell_type": "code",
   "execution_count": null,
   "metadata": {
    "ExecuteTime": {
     "end_time": "2018-09-13T11:23:26.429858Z",
     "start_time": "2018-09-13T11:23:26.098795Z"
    }
   },
   "outputs": [],
   "source": [
    "df, molecules, diameters = rdkit_functions.read_mol_txt_file(molecule_file)\n",
    "rdkit_functions.produce_quick_fig_mol(molecules, output_dir+'test_molecules.pdf')"
   ]
  },
  {
   "cell_type": "markdown",
   "metadata": {},
   "source": [
    "## Calculate all MWs"
   ]
  },
  {
   "cell_type": "code",
   "execution_count": null,
   "metadata": {
    "ExecuteTime": {
     "end_time": "2018-09-13T11:23:40.740471Z",
     "start_time": "2018-09-13T11:23:40.703558Z"
    }
   },
   "outputs": [],
   "source": [
    "for m, smile in molecules.items():\n",
    "    print(m, smile)\n",
    "    # Read SMILES and add Hs\n",
    "    mol = Chem.AddHs(Chem.MolFromSmiles(smile))\n",
    "    MW = Descriptors.MolWt(mol)\n",
    "    print('MW =', MW)"
   ]
  },
  {
   "cell_type": "markdown",
   "metadata": {},
   "source": [
    "## Calculate size and shape"
   ]
  },
  {
   "cell_type": "code",
   "execution_count": null,
   "metadata": {
    "ExecuteTime": {
     "end_time": "2018-09-13T11:38:03.621083Z",
     "start_time": "2018-09-13T11:33:18.962114Z"
    }
   },
   "outputs": [],
   "source": [
    "rdkit_functions.calc_molecule_diameters(molecules, \n",
    "                                        out_dir=output_dir, vdwScale=0.8, boxMargin=4.0,\n",
    "                                        spacing=0.6, show_vdw=False, plot_ellip=False,\n",
    "                                        N_conformers=50, MW_thresh=2000)"
   ]
  },
  {
   "cell_type": "markdown",
   "metadata": {},
   "source": [
    "## Results"
   ]
  },
  {
   "cell_type": "code",
   "execution_count": null,
   "metadata": {
    "ExecuteTime": {
     "end_time": "2018-09-13T11:41:22.933662Z",
     "start_time": "2018-09-13T11:41:22.732674Z"
    }
   },
   "outputs": [],
   "source": [
    "threshold = 4.2\n",
    "diffuse = {}\n",
    "no_diffuse = {}\n",
    "for name, smile in molecules.items():\n",
    "    out_file = output_dir+name.replace(' ', '_')+'_diam_result.csv'\n",
    "    print(out_file)\n",
    "    if os.path.isfile(out_file) is False:\n",
    "        continue\n",
    "    results = pd.read_csv(out_file)\n",
    "    min_diam = min(results['diam1'])\n",
    "    mid_diam = min(results['diam2'])\n",
    "    lit_d = df[df['molecule'] == name]['diffuse'].iloc[0]\n",
    "    if lit_d == 't':\n",
    "        if mid_diam <= threshold:\n",
    "            print(name+':')\n",
    "            print('can diffuse')\n",
    "            print('min diameter =', round(min_diam, 3), 'angstrom')\n",
    "            print('mid diameter =', round(mid_diam, 3), 'angstrom')\n",
    "            diffuse[name] = smile\n",
    "        else:\n",
    "            print(name+':')\n",
    "            print('cannot diffuse - lit says it can!')\n",
    "            print('min diameter =', round(min_diam, 3), 'angstrom')\n",
    "            print('mid diameter =', round(mid_diam, 3), 'angstrom')\n",
    "            no_diffuse[name] = smile\n",
    "    else:\n",
    "        if mid_diam <= threshold:\n",
    "            print(name+':')\n",
    "            print('can diffuse - lit says it cannot!')\n",
    "            print('min diameter =', round(min_diam, 3), 'angstrom')\n",
    "            print('mid diameter =', round(mid_diam, 3), 'angstrom')\n",
    "            diffuse[name] = smile\n",
    "        else:\n",
    "            print(name+':')\n",
    "            print('cannot diffuse')\n",
    "            print('min diameter =', round(min_diam, 3), 'angstrom')\n",
    "            print('mid diameter =', round(mid_diam, 3), 'angstrom')\n",
    "            no_diffuse[name] = smile\n",
    "    print('-')"
   ]
  },
  {
   "cell_type": "code",
   "execution_count": null,
   "metadata": {
    "ExecuteTime": {
     "end_time": "2018-09-13T11:39:29.924884Z",
     "start_time": "2018-09-13T11:39:29.803363Z"
    }
   },
   "outputs": [],
   "source": [
    "if len(diffuse) > 0:\n",
    "    rdkit_functions.produce_quick_fig_mol(diffuse, output_dir+'diffuse_mol.pdf', \n",
    "                                          labels=False, mpr=5, ims=200)\n",
    "if len(no_diffuse) > 0:\n",
    "    rdkit_functions.produce_quick_fig_mol(no_diffuse, output_dir+'no_diffuse_mol.pdf', \n",
    "                                          labels=False, mpr=5, ims=200)"
   ]
  },
  {
   "cell_type": "markdown",
   "metadata": {},
   "source": [
    "## Plot parity of kinetic diameters"
   ]
  },
  {
   "cell_type": "code",
   "execution_count": null,
   "metadata": {
    "ExecuteTime": {
     "end_time": "2018-09-13T11:41:33.958798Z",
     "start_time": "2018-09-13T11:41:33.339304Z"
    }
   },
   "outputs": [],
   "source": [
    "threshold = 4.2\n",
    "fig, ax = plt.subplots(figsize=(5,5))\n",
    "for name, smile in molecules.items():\n",
    "    try:\n",
    "        kin_diam = float(diameters[name])\n",
    "    except ValueError:\n",
    "        print('no radius given for this molecule - skipped')\n",
    "        continue\n",
    "    out_file = output_dir+name.replace(' ', '_')+'_diam_result.csv'\n",
    "    if os.path.isfile(out_file) is False:\n",
    "        continue\n",
    "    results = pd.read_csv(out_file)\n",
    "    mid_diam = min(results['diam2'])\n",
    "    lit_d = df[df['molecule'] == name]['diffuse'].iloc[0]\n",
    "    if lit_d == 't':\n",
    "        if mid_diam <= threshold:\n",
    "            C = 'b'\n",
    "            M = 'o'\n",
    "            E = 'k'\n",
    "            D = 0.25\n",
    "        else:\n",
    "            C = 'b'\n",
    "            M = 'X'\n",
    "            E = 'k'\n",
    "            D = 0.25\n",
    "    else:\n",
    "        if mid_diam <= threshold:\n",
    "            C = 'r'\n",
    "            M = 'X'\n",
    "            E = 'k'\n",
    "            D = 0.75\n",
    "        else:\n",
    "            C = 'r'\n",
    "            M = 'o'\n",
    "            E = 'k'\n",
    "            D = 0.75\n",
    "    ax.scatter(kin_diam, mid_diam, c=C, \n",
    "               edgecolors=E, marker=M, alpha=1.0,\n",
    "               s=80)\n",
    "    \n",
    "ax.axhline(y=threshold, c='k')\n",
    "ax.axvline(x=threshold, c='k')\n",
    "ax.plot(np.linspace(-1, 12, 2), np.linspace(-1, 12, 2), c='k', alpha=0.4)\n",
    "# plot the limit from the two Sholl papers on diffusion\n",
    "# ax.axvspan(4.0, 4.2, facecolor='r', alpha=0.5)\n",
    "\n",
    "\n",
    "define_parity_plot_variables(ax,\n",
    "                             title='',\n",
    "                             xtitle='kinetic diameter [$\\mathrm{\\AA}$]',\n",
    "                             ytitle='intermediate diameter [$\\mathrm{\\AA}$]',\n",
    "                             xlim=(0, 10),\n",
    "                             ylim=(0, 10))\n",
    "fig.tight_layout()\n",
    "fig.savefig(output_dir+\"parity.pdf\", dpi=720,\n",
    "            bbox_inches='tight')"
   ]
  },
  {
   "cell_type": "markdown",
   "metadata": {},
   "source": [
    "## Plot categorical scatter"
   ]
  },
  {
   "cell_type": "code",
   "execution_count": null,
   "metadata": {
    "ExecuteTime": {
     "end_time": "2018-09-13T11:41:39.911171Z",
     "start_time": "2018-09-13T11:41:39.406018Z"
    }
   },
   "outputs": [],
   "source": [
    "threshold = 4.2\n",
    "dx = 0.15\n",
    "fig, ax = plt.subplots(figsize=(5,5))\n",
    "for name, smile in molecules.items():\n",
    "    out_file = output_dir+name.replace(' ', '_')+'_diam_result.csv'\n",
    "    if os.path.isfile(out_file) is False:\n",
    "        continue\n",
    "    results = pd.read_csv(out_file)\n",
    "    mid_diam = min(results['diam2'])\n",
    "    lit_d = df[df['molecule'] == name]['diffuse'].iloc[0]\n",
    "    if lit_d == 't':\n",
    "        if mid_diam <= threshold:\n",
    "            C = 'b'\n",
    "            M = 'o'\n",
    "            E = 'k'\n",
    "            D = 0.25\n",
    "        else:\n",
    "            C = 'b'\n",
    "            M = 'X'\n",
    "            E = 'k'\n",
    "            D = 0.25\n",
    "    else:\n",
    "        if mid_diam <= threshold:\n",
    "            C = 'r'\n",
    "            M = 'X'\n",
    "            E = 'k'\n",
    "            D = 0.75\n",
    "        else:\n",
    "            C = 'r'\n",
    "            M = 'o'\n",
    "            E = 'k'\n",
    "            D = 0.75\n",
    "    ax.scatter(D+(dx*(np.random.random() - 0.5) * 2),\n",
    "               mid_diam, c=C, \n",
    "               edgecolors=E, marker=M, alpha=1.0,\n",
    "               s=80)\n",
    "    \n",
    "ax.axhline(y=threshold, c='k')\n",
    "define_plot_variables(ax,\n",
    "                      title='',\n",
    "                      xtitle='',\n",
    "                      ytitle='intermediate diameter [$\\mathrm{\\AA}$]',\n",
    "                      xlim=(0, 1),\n",
    "                      ylim=(0, 10))\n",
    "fig.tight_layout()\n",
    "fig.savefig(output_dir+\"categorical.pdf\", dpi=720,\n",
    "            bbox_inches='tight')"
   ]
  },
  {
   "cell_type": "markdown",
   "metadata": {},
   "source": [
    "## Plot Shapes"
   ]
  },
  {
   "cell_type": "code",
   "execution_count": null,
   "metadata": {
    "ExecuteTime": {
     "end_time": "2018-09-13T11:41:50.386882Z",
     "start_time": "2018-09-13T11:41:49.846270Z"
    }
   },
   "outputs": [],
   "source": [
    "threshold = 4.2\n",
    "fig, ax = plt.subplots(figsize=(5,5))\n",
    "for name, smile in molecules.items():\n",
    "    out_file = output_dir+name.replace(' ', '_')+'_diam_result.csv'\n",
    "    if os.path.isfile(out_file) is False:\n",
    "        continue\n",
    "    results = pd.read_csv(out_file)\n",
    "    mid_diam = min(results['diam2'])\n",
    "    lit_d = df[df['molecule'] == name]['diffuse'].iloc[0]\n",
    "    if lit_d == 't':\n",
    "        if mid_diam <= threshold:\n",
    "            C = 'b'\n",
    "            M = 'o'\n",
    "            E = 'k'\n",
    "            D = 0.25\n",
    "        else:\n",
    "            C = 'b'\n",
    "            M = 'X'\n",
    "            E = 'k'\n",
    "            D = 0.25\n",
    "    else:\n",
    "        if mid_diam <= threshold:\n",
    "            C = 'r'\n",
    "            M = 'X'\n",
    "            E = 'k'\n",
    "            D = 0.75\n",
    "        else:\n",
    "            C = 'r'\n",
    "            M = 'o'\n",
    "            E = 'k'\n",
    "            D = 0.75\n",
    "    ax.scatter(np.average(results['ratio_1']),\n",
    "               np.average(results['ratio_2']),\n",
    "               c=C, \n",
    "               edgecolors=E, marker=M, alpha=1.0,\n",
    "               s=80)\n",
    "    \n",
    "ax.plot([0, 0.5, 1, 0], [1, 0.5, 1, 1], c='k', lw=2)\n",
    "ax.text(0.75, 1.03, 'sphere', fontsize=20)\n",
    "ax.text(0.4, 0.45, 'oblate', fontsize=20)\n",
    "ax.text(-0.05, 1.03, 'prolate', fontsize=20)\n",
    "define_parity_plot_variables(ax,\n",
    "                             title='',\n",
    "                             xtitle='$I_1$ / $I_3$',\n",
    "                             ytitle='$I_2$ / $I_3$',\n",
    "                             xlim=(-0.1, 1.1),\n",
    "                             ylim=(0.4, 1.1))\n",
    "fig.tight_layout()\n",
    "fig.savefig(output_dir+\"shape.pdf\", dpi=720,\n",
    "            bbox_inches='tight')"
   ]
  },
  {
   "cell_type": "code",
   "execution_count": null,
   "metadata": {},
   "outputs": [],
   "source": []
  },
  {
   "cell_type": "code",
   "execution_count": null,
   "metadata": {},
   "outputs": [],
   "source": []
  },
  {
   "cell_type": "code",
   "execution_count": null,
   "metadata": {},
   "outputs": [],
   "source": []
  },
  {
   "cell_type": "code",
   "execution_count": null,
   "metadata": {},
   "outputs": [],
   "source": []
  },
  {
   "cell_type": "code",
   "execution_count": null,
   "metadata": {},
   "outputs": [],
   "source": []
  },
  {
   "cell_type": "markdown",
   "metadata": {},
   "source": [
    "## Spacing tests:  -- done 18/7/18\n",
    "- run ellipsoid tests 25 times with 10 conformers each time and save the average and std deviation of the min and mid diameter"
   ]
  },
  {
   "cell_type": "code",
   "execution_count": null,
   "metadata": {
    "ExecuteTime": {
     "end_time": "2018-07-18T05:57:09.601988Z",
     "start_time": "2018-07-18T05:57:09.564614Z"
    }
   },
   "outputs": [],
   "source": [
    "# molecule: {spacing: (avg, std)}\n",
    "spacing_tests_min = {'benzene': {'0.1': (0, 0),\n",
    "                                 '0.2': (0, 0),\n",
    "                                 '0.4': (3.3794289152145467 , 0.019673085424443428),\n",
    "                                 '0.5': (3.3333897302564544 , 0.028678701518417928),\n",
    "                                 '0.6': (3.2315745363725337 , 0.017849243469717994),\n",
    "                                 '1.0': (2.849180995220388 , 0.04838637474340038)},\n",
    "                     'n-hexane': {'0.1': (0, 0),\n",
    "                                  '0.2': (0, 0),\n",
    "                                  '0.4': (5.0835923862674495 , 0.06895603460636741),\n",
    "                                  '0.5': (4.978275495360503 , 0.05683250141249099),\n",
    "                                  '0.6': (4.873315126271812 , 0.06108305615909574),\n",
    "                                  '1.0': (4.497290421763366 , 0.08750991331271302)},\n",
    "                     '1,2,4-trimethylbenzene': {'0.1': (0, 0),\n",
    "                                                '0.3': (4.840076609847893 , 0.045205419877336145),\n",
    "                                                '0.4': (4.74736322402256 , 0.03994801793792416),\n",
    "                                                '0.5': (4.641228188625925 , 0.06616635800790348),\n",
    "                                                '0.6': (4.488226784532858 , 0.04847658400864577),\n",
    "                                                '1.0': (3.9248371015184085 , 0.12679311000462484)}}\n",
    "\n",
    "spacing_tests_mid = {'benzene': {'0.1': (0, 0),\n",
    "                                 '0.2': (0, 0),\n",
    "                                 '0.4': (6.649454451273829 , 0.013495748028405818),\n",
    "                                 '0.5': (6.546971715975721 , 0.037964346782573745),\n",
    "                                 '0.6': (6.525331194565837 , 0.029609796662037183),\n",
    "                                 '1.0': (6.068867263161149 , 0.07011555279897945)},\n",
    "                     'n-hexane': {'0.1': (0, 0),\n",
    "                                  '0.2': (0, 0),\n",
    "                                  '0.4': (5.727257044536465 , 0.1284078518182792),\n",
    "                                  '0.5': (5.670823148829275 , 0.11718708499887756),\n",
    "                                  '0.6': (5.5647520341975625 , 0.10709935627025727),\n",
    "                                  '1.0': (5.32170216216025 , 0.13483968819479367)},\n",
    "                     '1,2,4-trimethylbenzene': {'0.1': (0, 0),\n",
    "                                                '0.3': (7.426353842175533 , 0.03786939839775834),\n",
    "                                                '0.4': (7.333573135450377 , 0.04630508640316625),\n",
    "                                                '0.5': (7.314738056193096 , 0.048482526890533326),\n",
    "                                                '0.6': (7.226540741526308 , 0.07419202615800291),\n",
    "                                                '1.0': (7.013051712007243 , 0.07598138464225354)}}\n",
    "                     \n",
    "markers = {'benzene': 'o', 'n-hexane': 'X', '1,2,4-trimethylbenzene': 'D'}\n",
    "colours = {'benzene': 'k', 'n-hexane': 'r', '1,2,4-trimethylbenzene': 'b'}"
   ]
  },
  {
   "cell_type": "code",
   "execution_count": null,
   "metadata": {
    "ExecuteTime": {
     "end_time": "2018-07-18T05:57:12.348698Z",
     "start_time": "2018-07-18T05:57:11.958494Z"
    }
   },
   "outputs": [],
   "source": [
    "fig, ax = plt.subplots()\n",
    "for mol in spacing_tests_min.keys():\n",
    "    for key, val in spacing_tests_min[mol].items():\n",
    "        sp = float(key)\n",
    "        avg = val[0]\n",
    "        std = val[1]\n",
    "        ax.errorbar(sp, avg, c=colours[mol], yerr=std, fmt=markers[mol])\n",
    "\n",
    "define_parity_plot_variables(ax,\n",
    "                             title='',\n",
    "                             xtitle='spacing [$\\AA$]',\n",
    "                             ytitle='min diameter [$\\AA$]',\n",
    "                             xlim=(0, 1.1),\n",
    "                             ylim=(0, 10))\n",
    "fig.tight_layout()\n",
    "fig.savefig(output_dir+\"min_spacing.pdf\", dpi=720,\n",
    "            bbox_inches='tight')"
   ]
  },
  {
   "cell_type": "code",
   "execution_count": null,
   "metadata": {
    "ExecuteTime": {
     "end_time": "2018-07-18T05:57:12.764710Z",
     "start_time": "2018-07-18T05:57:12.350549Z"
    }
   },
   "outputs": [],
   "source": [
    "fig, ax = plt.subplots()\n",
    "for mol in spacing_tests_mid.keys():\n",
    "    for key, val in spacing_tests_mid[mol].items():\n",
    "        sp = float(key)\n",
    "        avg = val[0]\n",
    "        std = val[1]\n",
    "        ax.errorbar(sp, avg, c=colours[mol], yerr=std, fmt=markers[mol])\n",
    "\n",
    "define_parity_plot_variables(ax,\n",
    "                             title='',\n",
    "                             xtitle='spacing [$\\AA$]',\n",
    "                             ytitle='mid diameter [$\\AA$]',\n",
    "                             xlim=(0, 1.1),\n",
    "                             ylim=(0, 10))\n",
    "fig.tight_layout()\n",
    "fig.savefig(output_dir+\"mid_spacing.pdf\", dpi=720,\n",
    "            bbox_inches='tight')"
   ]
  },
  {
   "cell_type": "markdown",
   "metadata": {},
   "source": [
    "## Conformer No. Tests - done 18/7/18\n",
    "- 2 trials\n",
    "- differ number of conformers\n",
    "- spacing = 0.6"
   ]
  },
  {
   "cell_type": "code",
   "execution_count": null,
   "metadata": {
    "ExecuteTime": {
     "end_time": "2018-07-18T07:04:43.669935Z",
     "start_time": "2018-07-18T07:04:43.640083Z"
    }
   },
   "outputs": [],
   "source": [
    "# molecule: {spacing: (avg, std)}\n",
    "conformer_tests_min = {'benzene': {'1': (3.221373248755991 , 0.004852646654566861),\n",
    "                                   '10': (3.2588304836940942 , 0.006956539037165754),\n",
    "                                   '50': (3.2436940191596317 , 0.016198271266676167),\n",
    "                                   '100': (3.2326218504059288 , 0.003853874440666649),\n",
    "                                   '500': (3.2330473832007325 , 0.0018236559425053311)},\n",
    "                     'n-hexane': {'1': (5.141141045458199 , 0.13304093800965688),\n",
    "                                   '10': (4.957373679413936 , 0.023610168570660228),\n",
    "                                   '50': (4.87212020107353 , 0.017040469280273474),\n",
    "                                   '100': (4.911133486971741 , 0.01723649729619181),\n",
    "                                   '500': (4.891902480769925 , 0.008404023636215285)},\n",
    "                     '1,2,4-trimethylbenzene': {'1': (4.498871204493703 , 0.1362145494522462),\n",
    "                                   '10': (4.478884245679016 , 0.015539006468946681),\n",
    "                                   '50': (4.507169342491871 , 0.0035833227709809456),\n",
    "                                   '100': (4.487331546112546 , 0.006343296733285264),\n",
    "                                   '500': (4.493251428144968 , 0.0030979508775335063)}}\n",
    "\n",
    "conformer_tests_mid = {'benzene': {'1': (6.473960279275529 , 0.024503187415663596),\n",
    "                                   '10': (6.501792400073141 , 0.01924244928963903),\n",
    "                                   '50': (6.528516395372385 , 0.008131803260291726),\n",
    "                                   '100': (6.5407585651138795 , 0.002276161285552636),\n",
    "                                   '500': (6.53315674537609 , 0.0012551802254567868)},\n",
    "                     'n-hexane': {'1': (5.248219801680463 , 0.1596778847869671),\n",
    "                                   '10': (5.512843592215781 , 0.00251194113303832),\n",
    "                                   '50': (5.595576007199124 , 0.09552089437927647),\n",
    "                                   '100': (5.576820296115795 , 0.04429024204647147),\n",
    "                                   '500': (5.581235665531599 , 0.007401442176630635)},\n",
    "                     '1,2,4-trimethylbenzene': {'1': (7.36604554182822 , 0.04078536880172745),\n",
    "                                   '10': (7.276754072294647 , 0.052813283959488366),\n",
    "                                   '50': (7.214263004894109 , 0.017593374853946298),\n",
    "                                   '100': (7.229715994297686 , 0.003505550538929647),\n",
    "                                   '500': (7.239862461826757 , 0.001030076037960903)}}\n",
    "                     \n",
    "markers = {'benzene': 'o', 'n-hexane': 'X', '1,2,4-trimethylbenzene': 'D'}\n",
    "colours = {'benzene': 'k', 'n-hexane': 'r', '1,2,4-trimethylbenzene': 'b'}"
   ]
  },
  {
   "cell_type": "code",
   "execution_count": null,
   "metadata": {
    "ExecuteTime": {
     "end_time": "2018-07-18T07:05:04.278237Z",
     "start_time": "2018-07-18T07:05:03.882882Z"
    }
   },
   "outputs": [],
   "source": [
    "fig, ax = plt.subplots()\n",
    "for mol in conformer_tests_min.keys():\n",
    "    for key, val in conformer_tests_min[mol].items():\n",
    "        sp = float(key)\n",
    "        avg = val[0]\n",
    "        std = val[1]\n",
    "        ax.errorbar(sp, avg, c=colours[mol], yerr=std, fmt=markers[mol])\n",
    "\n",
    "define_parity_plot_variables(ax,\n",
    "                             title='',\n",
    "                             xtitle='$N$',\n",
    "                             ytitle='min diameter [$\\AA$]',\n",
    "                             xlim=(0, 550),\n",
    "                             ylim=(0, 10))\n",
    "fig.tight_layout()\n",
    "fig.savefig(output_dir+\"min_conf.pdf\", dpi=720,\n",
    "            bbox_inches='tight')"
   ]
  },
  {
   "cell_type": "code",
   "execution_count": null,
   "metadata": {
    "ExecuteTime": {
     "end_time": "2018-07-18T07:04:55.326666Z",
     "start_time": "2018-07-18T07:04:54.988153Z"
    }
   },
   "outputs": [],
   "source": [
    "fig, ax = plt.subplots()\n",
    "for mol in conformer_tests_mid.keys():\n",
    "    for key, val in conformer_tests_mid[mol].items():\n",
    "        sp = float(key)\n",
    "        avg = val[0]\n",
    "        std = val[1]\n",
    "        ax.errorbar(sp, avg, c=colours[mol], yerr=std, fmt=markers[mol])\n",
    "\n",
    "define_parity_plot_variables(ax,\n",
    "                             title='',\n",
    "                             xtitle='$N$',\n",
    "                             ytitle='mid diameter [$\\AA$]',\n",
    "                             xlim=(0, 550),\n",
    "                             ylim=(0, 10))\n",
    "fig.tight_layout()\n",
    "fig.savefig(output_dir+\"mid_conf.pdf\", dpi=720,\n",
    "            bbox_inches='tight')"
   ]
  },
  {
   "cell_type": "code",
   "execution_count": null,
   "metadata": {},
   "outputs": [],
   "source": []
  }
 ],
 "metadata": {
  "kernelspec": {
   "display_name": "Python 3",
   "language": "python",
   "name": "python3"
  },
  "language_info": {
   "codemirror_mode": {
    "name": "ipython",
    "version": 3
   },
   "file_extension": ".py",
   "mimetype": "text/x-python",
   "name": "python",
   "nbconvert_exporter": "python",
   "pygments_lexer": "ipython3",
   "version": "3.6.5"
  }
 },
 "nbformat": 4,
 "nbformat_minor": 2
}
