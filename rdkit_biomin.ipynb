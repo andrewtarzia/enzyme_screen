{
 "cells": [
  {
   "cell_type": "code",
   "execution_count": 1,
   "metadata": {
    "ExecuteTime": {
     "end_time": "2018-04-24T03:23:06.761154Z",
     "start_time": "2018-04-24T03:23:06.729312Z"
    }
   },
   "outputs": [
    {
     "data": {
      "text/html": [
       "<style>.container { width:95% !important; }</style>"
      ],
      "text/plain": [
       "<IPython.core.display.HTML object>"
      ]
     },
     "metadata": {},
     "output_type": "display_data"
    }
   ],
   "source": [
    "from IPython.core.display import HTML\n",
    "display(HTML(\"<style>.container { width:95% !important; }</style>\"))   \n",
    "%load_ext autoreload\n",
    "%autoreload 1"
   ]
  },
  {
   "cell_type": "markdown",
   "metadata": {},
   "source": [
    "Author: Andrew Tarzia\n",
    "\n",
    "Date Created: 12 Jul 2018\n",
    "\n",
    "License:"
   ]
  },
  {
   "cell_type": "markdown",
   "metadata": {},
   "source": [
    "# Notebook for getting molecule parameters using RDKIT\n"
   ]
  },
  {
   "cell_type": "code",
   "execution_count": 2,
   "metadata": {
    "ExecuteTime": {
     "end_time": "2018-04-24T03:23:07.958684Z",
     "start_time": "2018-04-24T03:23:07.399243Z"
    }
   },
   "outputs": [],
   "source": [
    "import numpy as np\n",
    "import pandas as pd\n",
    "from rdkit.Chem import AllChem as Chem\n",
    "from rdkit.Chem import Descriptors\n",
    "from rdkit.Chem.Descriptors3D import NPR1, NPR2, PMI1, PMI2, PMI3\n",
    "from rdkit.Chem.Draw.MolDrawing import MolDrawing\n",
    "from rdkit.Chem.Draw import IPythonConsole\n",
    "from rdkit.Chem import Draw\n",
    "from rdkit.Geometry import rdGeometry\n",
    "from rdkit.Chem import PyMol\n",
    "from rdkit import Geometry\n",
    "import tempfile\n",
    "import matplotlib.pyplot as plt\n",
    "%aimport rdkit_functions"
   ]
  },
  {
   "cell_type": "markdown",
   "metadata": {},
   "source": [
    "# Notes:\n",
    "# Todo:\n",
    "- timing\n",
    " - speed up reading: https://rdkit.blogspot.com/2016/09/avoiding-unnecessary-work-and.html"
   ]
  },
  {
   "cell_type": "code",
   "execution_count": 8,
   "metadata": {},
   "outputs": [],
   "source": [
    "# molecule file dir\n",
    "molecule_file = '/home/atarzia/psp/biomin_assays/molecules/molecules.txt'\n",
    "# output dir\n",
    "output_dir = '/home/atarzia/psp/biomin_assays/molecules/'"
   ]
  },
  {
   "cell_type": "code",
   "execution_count": 9,
   "metadata": {},
   "outputs": [],
   "source": [
    "def define_plot_variables(ax, title, ytitle, xtitle, xlim, ylim):\n",
    "    \"\"\"\n",
    "    Series of matplotlib pyplot settings to make all plots unitform.\n",
    "    \"\"\"\n",
    "    # Set number of ticks for x-axis\n",
    "    ax.tick_params(axis='both', which='major', labelsize=16)\n",
    "\n",
    "    ax.set_ylabel(ytitle, fontsize=16)\n",
    "    # ax.legend([y, n], ['aligned', 'not aligned'], loc=4, fancybox=True)\n",
    "    ax.set_xlim(xlim)\n",
    "    ax.set_ylim(ylim)\n",
    "    ax.set_xticklabels(['diffuses', 'does not diffuse'])\n",
    "    ax.set_xticks([0.25, 0.75])\n",
    "\n",
    "\n",
    "def define_parity_plot_variables(ax, title, ytitle, xtitle, xlim, ylim):\n",
    "    \"\"\"\n",
    "    Series of matplotlib pyplot settings to make all plots unitform.\n",
    "    \"\"\"\n",
    "    # Set number of ticks for x-axis\n",
    "    ax.tick_params(axis='both', which='major', labelsize=16)\n",
    "\n",
    "    ax.set_xlabel(xtitle, fontsize=16)\n",
    "    ax.set_ylabel(ytitle, fontsize=16)\n",
    "    # ax.legend([y, n], ['aligned', 'not aligned'], loc=4, fancybox=True)\n",
    "    ax.set_xlim(xlim)\n",
    "    ax.set_ylim(ylim)\n"
   ]
  },
  {
   "cell_type": "code",
   "execution_count": 10,
   "metadata": {},
   "outputs": [],
   "source": [
    "df, molecules, diameters = rdkit_functions.read_mol_txt_file(molecule_file)\n",
    "rdkit_functions.produce_quick_fig_mol(molecules, output_dir+'molecules.pdf')"
   ]
  },
  {
   "cell_type": "markdown",
   "metadata": {},
   "source": [
    "## Calculate size and shape"
   ]
  },
  {
   "cell_type": "code",
   "execution_count": 11,
   "metadata": {},
   "outputs": [],
   "source": [
    "try:\n",
    "    v = PyMol.MolViewer()\n",
    "except ConnectionRefusedError:\n",
    "    pass"
   ]
  },
  {
   "cell_type": "code",
   "execution_count": 12,
   "metadata": {},
   "outputs": [
    {
     "data": {
      "text/plain": [
       "{'2,6-dichloroindophenol': 'C1=CC(=O)C=CC1=NC2=CC(=C(C(=C2)Cl)O)Cl',\n",
       " '2-octanol': 'CCCCCCC(C)O',\n",
       " '3-amino-1,2,4-triazole': 'C1=NNC(=N1)N',\n",
       " '5-Methylphenazin-5-ium': 'C[N+]1=C2C=CC=CC2=NC3=CC=CC=C31',\n",
       " 'ABTS': 'CCN1C2=C(C=C(C=C2)S(=O)(=O)[O-])SC1=NN=C3N(C4=C(S3)C=C(C=C4)S(=O)(=O)[O-])CC',\n",
       " 'Amplex Red': 'CC(=O)N1C2=C(C=C(C=C2)O)OC3=C1C=CC(=C3)O',\n",
       " 'D-fructose': 'C1C(C(C(C(O1)(CO)O)O)O)O',\n",
       " 'D-glucose (chain)': 'C(C(C(C(C(C=O)O)O)O)O)O',\n",
       " 'D-glucose (ring)': 'C(C1C(C(C(C(O1)O)O)O)O)O',\n",
       " 'Gluconolactone': 'C(C1C(C(C(C(=O)O1)O)O)O)O',\n",
       " 'L-fructose': 'C(C(C(C(C(=O)CO)O)O)O)O',\n",
       " 'L-lactate': 'CC(C(=O)[O-])[O-]',\n",
       " 'Urea': 'C(=O)(N)N',\n",
       " 'acetic acid': 'CC(=O)O',\n",
       " 'ammonia': 'N',\n",
       " 'butyric acid': 'CCCC(=O)O',\n",
       " 'carbon dioxide': 'C(=O)=O',\n",
       " 'decanoic acid': 'CCCCCCCCCC(=O)O',\n",
       " 'dodecanoic acid': 'CCCCCCCCCCCC(=O)O',\n",
       " 'gluconic acid': 'C(C(C(C(C(C(=O)O)O)O)O)O)O',\n",
       " 'hexanoic acid': 'CCCCCC(=O)O',\n",
       " 'hydrogen peroxide': 'OO',\n",
       " 'methosulfate': 'COS(=O)(=O)[O-]',\n",
       " 'methyl ethyl ketone peroxide': 'CCC(C)(OO)OOC(C)(CC)OO',\n",
       " 'octanoic acid': 'CCCCCCCC(=O)O',\n",
       " 'octyl acetate': 'CCCCCCCCOC(=O)C',\n",
       " 'oxygen': 'O=O',\n",
       " 'p-nitrophenol': 'C1=CC(=CC=C1[N+](=O)[O-])O',\n",
       " 'p-nitrophenyl': 'C1=CC=C(C=C1)[N+](=O)[O-]',\n",
       " 'p-nitrophenyl acetate': 'CC(=O)OC1=CC=C(C=C1)[N+](=O)[O-]',\n",
       " 'p-nitrophenyl butyrate': 'CCCC(=O)OC1=CC=C(C=C1)[N+](=O)[O-]',\n",
       " 'p-nitrophenyl decanoate': 'CCCCCCCCCC(=O)OC1=CC=C(C=C1)[N+](=O)[O-]',\n",
       " 'p-nitrophenyl dodecanoate': 'CCCCCCCCCCCC(=O)OC1=CC=C(C=C1)[N+](=O)[O-]',\n",
       " 'p-nitrophenyl hexanoate': 'CCCCCC(=O)OC1=CC=C(C=C1)[N+](=O)[O-]',\n",
       " 'p-nitrophenyl octanoate': 'CCCCCCCC(=O)OC1=CC=C(C=C1)[N+](=O)[O-]',\n",
       " 'p-nitrophenyl phosphate': 'C1=CC(=CC=C1[N+](=O)[O-])OP(=O)(O)O',\n",
       " 'penicillin-G': 'CC1(C(N2C(S1)C(C2=O)NC(=O)CC3=CC=CC=C3)C(=O)O)C',\n",
       " 'phosphate acid': 'OP(=O)([O-])[O-]',\n",
       " 'purporogallin': 'C1=CC(=O)C(=C2C(=C1)C=C(C(=C2O)O)O)O',\n",
       " 'pyrogallol': 'C1=CC(=C(C(=C1)O)O)O',\n",
       " 'pyruvate': 'CC(=O)C(=O)[O-]',\n",
       " 'resorufin': 'C1=CC2=C(C=C1O)OC3=CC(=O)C=CC3=N2',\n",
       " 'sucrose': 'C(C1C(C(C(C(O1)OC2(C(C(C(O2)CO)O)O)CO)O)O)O)O',\n",
       " 'tert-butyl hydroperoxide': 'CC(C)(C)OO',\n",
       " 'vinyl acetate': 'CC(=O)OC=C',\n",
       " 'water': 'O'}"
      ]
     },
     "execution_count": 12,
     "metadata": {},
     "output_type": "execute_result"
    }
   ],
   "source": [
    "molecules"
   ]
  },
  {
   "cell_type": "code",
   "execution_count": 15,
   "metadata": {},
   "outputs": [
    {
     "name": "stdout",
     "output_type": "stream",
     "text": [
      "molecule: pyrogallol : SMILES: C1=CC(=C(C(=C1)O)O)O\n",
      "No. of conformers: 10\n",
      "minimum diameter = 3.57 angstrom\n",
      "intermediate diameter = 6.971 angstrom\n",
      "molecule: purporogallin : SMILES: C1=CC(=O)C(=C2C(=C1)C=C(C(=C2O)O)O)O\n",
      "No. of conformers: 10\n",
      "minimum diameter = 3.742 angstrom\n",
      "intermediate diameter = 7.425 angstrom\n",
      "molecule: hydrogen peroxide : SMILES: OO\n",
      "No. of conformers: 10\n",
      "minimum diameter = 3.107 angstrom\n",
      "intermediate diameter = 3.666 angstrom\n",
      "--- calc says it diffuses, lit says it doesn't diffuse! ---\n",
      "molecule: water : SMILES: O\n",
      "No. of conformers: 10\n",
      "minimum diameter = 3.2 angstrom\n",
      "intermediate diameter = 3.27 angstrom\n",
      "--- calc says it diffuses, lit says it doesn't diffuse! ---\n",
      "molecule: oxygen : SMILES: O=O\n",
      "No. of conformers: 10\n",
      "minimum diameter = 3.2 angstrom\n",
      "intermediate diameter = 3.2 angstrom\n",
      "--- calc says it diffuses, lit says it doesn't diffuse! ---\n",
      "molecule: ABTS : SMILES: CCN1C2=C(C=C(C=C2)S(=O)(=O)[O-])SC1=NN=C3N(C4=C(S3)C=C(C=C4)S(=O)(=O)[O-])CC\n",
      "No. of conformers: 10\n",
      "minimum diameter = 3.904 angstrom\n",
      "intermediate diameter = 5.875 angstrom\n",
      "molecule: 3-amino-1,2,4-triazole : SMILES: C1=NNC(=N1)N\n",
      "No. of conformers: 10\n",
      "minimum diameter = 4.06 angstrom\n",
      "intermediate diameter = 5.35 angstrom\n",
      "molecule: methosulfate : SMILES: COS(=O)(=O)[O-]\n",
      "No. of conformers: 10\n",
      "minimum diameter = 4.124 angstrom\n",
      "intermediate diameter = 4.709 angstrom\n",
      "molecule: 5-Methylphenazin-5-ium : SMILES: C[N+]1=C2C=CC=CC2=NC3=CC=CC=C31\n",
      "No. of conformers: 10\n",
      "minimum diameter = 3.395 angstrom\n",
      "intermediate diameter = 7.562 angstrom\n",
      "molecule: 2,6-dichloroindophenol : SMILES: C1=CC(=O)C=CC1=NC2=CC(=C(C(=C2)Cl)O)Cl\n",
      "No. of conformers: 10\n",
      "minimum diameter = 4.23 angstrom\n",
      "intermediate diameter = 5.176 angstrom\n",
      "molecule: Gluconolactone : SMILES: C(C1C(C(C(C(=O)O1)O)O)O)O\n",
      "No. of conformers: 10\n",
      "minimum diameter = 4.769 angstrom\n",
      "intermediate diameter = 6.595 angstrom\n",
      "molecule: Urea : SMILES: C(=O)(N)N\n",
      "No. of conformers: 10\n",
      "minimum diameter = 3.673 angstrom\n",
      "intermediate diameter = 4.782 angstrom\n",
      "molecule: carbon dioxide : SMILES: C(=O)=O\n",
      "No. of conformers: 10\n",
      "minimum diameter = 3.381 angstrom\n",
      "intermediate diameter = 3.56 angstrom\n",
      "--- calc says it diffuses, lit says it doesn't diffuse! ---\n",
      "molecule: ammonia : SMILES: N\n",
      "No. of conformers: 10\n",
      "minimum diameter = 3.598 angstrom\n",
      "intermediate diameter = 3.794 angstrom\n",
      "--- calc says it diffuses, lit says it doesn't diffuse! ---\n",
      "molecule: gluconic acid : SMILES: C(C(C(C(C(C(=O)O)O)O)O)O)O\n",
      "No. of conformers: 10\n",
      "minimum diameter = 5.222 angstrom\n",
      "intermediate diameter = 6.09 angstrom\n",
      "molecule: L-lactate : SMILES: CC(C(=O)[O-])[O-]\n",
      "No. of conformers: 10\n",
      "minimum diameter = 4.441 angstrom\n",
      "intermediate diameter = 5.615 angstrom\n",
      "molecule: pyruvate : SMILES: CC(=O)C(=O)[O-]\n",
      "No. of conformers: 10\n",
      "minimum diameter = 4.002 angstrom\n",
      "intermediate diameter = 5.535 angstrom\n",
      "molecule: sucrose : SMILES: C(C1C(C(C(C(O1)OC2(C(C(C(O2)CO)O)O)CO)O)O)O)O\n",
      "No. of conformers: 10\n",
      "minimum diameter = 4.527 angstrom\n",
      "intermediate diameter = 6.162 angstrom\n",
      "molecule: L-fructose : SMILES: C(C(C(C(C(=O)CO)O)O)O)O\n",
      "No. of conformers: 10\n",
      "minimum diameter = 4.896 angstrom\n",
      "intermediate diameter = 6.118 angstrom\n",
      "molecule: D-fructose : SMILES: C1C(C(C(C(O1)(CO)O)O)O)O\n",
      "No. of conformers: 10\n",
      "minimum diameter = 5.125 angstrom\n",
      "intermediate diameter = 6.325 angstrom\n",
      "molecule: D-glucose (chain) : SMILES: C(C(C(C(C(C=O)O)O)O)O)O\n",
      "No. of conformers: 10\n",
      "minimum diameter = 4.71 angstrom\n",
      "intermediate diameter = 5.962 angstrom\n",
      "molecule: D-glucose (ring) : SMILES: C(C1C(C(C(C(O1)O)O)O)O)O\n",
      "No. of conformers: 10\n",
      "minimum diameter = 4.649 angstrom\n",
      "intermediate diameter = 6.569 angstrom\n",
      "molecule: p-nitrophenyl : SMILES: C1=CC=C(C=C1)[N+](=O)[O-]\n",
      "No. of conformers: 10\n",
      "minimum diameter = 4.045 angstrom\n",
      "intermediate diameter = 6.048 angstrom\n",
      "molecule: p-nitrophenol : SMILES: C1=CC(=CC=C1[N+](=O)[O-])O\n",
      "No. of conformers: 10\n",
      "minimum diameter = 3.529 angstrom\n",
      "intermediate diameter = 6.201 angstrom\n",
      "molecule: p-nitrophenyl acetate : SMILES: CC(=O)OC1=CC=C(C=C1)[N+](=O)[O-]\n",
      "No. of conformers: 10\n",
      "minimum diameter = 4.172 angstrom\n",
      "intermediate diameter = 6.075 angstrom\n",
      "molecule: acetic acid : SMILES: CC(=O)O\n",
      "No. of conformers: 10\n",
      "minimum diameter = 4.027 angstrom\n",
      "intermediate diameter = 5.072 angstrom\n",
      "molecule: p-nitrophenyl phosphate : SMILES: C1=CC(=CC=C1[N+](=O)[O-])OP(=O)(O)O\n",
      "No. of conformers: 10\n",
      "minimum diameter = 4.11 angstrom\n",
      "intermediate diameter = 5.786 angstrom\n",
      "molecule: phosphate acid : SMILES: OP(=O)([O-])[O-]\n",
      "No. of conformers: 10\n",
      "minimum diameter = 4.453 angstrom\n",
      "intermediate diameter = 4.975 angstrom\n",
      "molecule: p-nitrophenyl butyrate : SMILES: CCCC(=O)OC1=CC=C(C=C1)[N+](=O)[O-]\n",
      "No. of conformers: 10\n",
      "minimum diameter = 4.347 angstrom\n",
      "intermediate diameter = 5.39 angstrom\n",
      "molecule: butyric acid : SMILES: CCCC(=O)O\n",
      "No. of conformers: 10\n",
      "minimum diameter = 4.387 angstrom\n",
      "intermediate diameter = 5.234 angstrom\n",
      "molecule: p-nitrophenyl hexanoate : SMILES: CCCCCC(=O)OC1=CC=C(C=C1)[N+](=O)[O-]\n",
      "No. of conformers: 10\n",
      "minimum diameter = 4.907 angstrom\n",
      "intermediate diameter = 5.78 angstrom\n",
      "molecule: hexanoic acid : SMILES: CCCCCC(=O)O\n",
      "No. of conformers: 10\n",
      "minimum diameter = 4.315 angstrom\n",
      "intermediate diameter = 5.106 angstrom\n",
      "molecule: p-nitrophenyl octanoate : SMILES: CCCCCCCC(=O)OC1=CC=C(C=C1)[N+](=O)[O-]\n",
      "No. of conformers: 10\n",
      "minimum diameter = 5.17 angstrom\n",
      "intermediate diameter = 6.021 angstrom\n",
      "molecule: octanoic acid : SMILES: CCCCCCCC(=O)O\n",
      "No. of conformers: 10\n",
      "minimum diameter = 4.375 angstrom\n",
      "intermediate diameter = 5.066 angstrom\n",
      "molecule: p-nitrophenyl decanoate : SMILES: CCCCCCCCCC(=O)OC1=CC=C(C=C1)[N+](=O)[O-]\n",
      "No. of conformers: 10\n",
      "minimum diameter = 5.377 angstrom\n",
      "intermediate diameter = 6.434 angstrom\n",
      "molecule: decanoic acid : SMILES: CCCCCCCCCC(=O)O\n",
      "No. of conformers: 10\n",
      "minimum diameter = 4.45 angstrom\n",
      "intermediate diameter = 5.147 angstrom\n",
      "molecule: p-nitrophenyl dodecanoate : SMILES: CCCCCCCCCCCC(=O)OC1=CC=C(C=C1)[N+](=O)[O-]\n",
      "No. of conformers: 10\n",
      "minimum diameter = 5.858 angstrom\n",
      "intermediate diameter = 6.456 angstrom\n",
      "molecule: dodecanoic acid : SMILES: CCCCCCCCCCCC(=O)O\n",
      "No. of conformers: 10\n",
      "minimum diameter = 4.486 angstrom\n",
      "intermediate diameter = 5.076 angstrom\n",
      "molecule: 2-octanol : SMILES: CCCCCCC(C)O\n",
      "No. of conformers: 10\n",
      "minimum diameter = 3.967 angstrom\n",
      "intermediate diameter = 4.914 angstrom\n",
      "molecule: vinyl acetate : SMILES: CC(=O)OC=C\n",
      "No. of conformers: 10\n",
      "minimum diameter = 3.295 angstrom\n",
      "intermediate diameter = 4.77 angstrom\n",
      "molecule: octyl acetate : SMILES: CCCCCCCCOC(=O)C\n",
      "No. of conformers: 10\n",
      "minimum diameter = 4.106 angstrom\n",
      "intermediate diameter = 4.885 angstrom\n",
      "molecule: penicillin-G : SMILES: CC1(C(N2C(S1)C(C2=O)NC(=O)CC3=CC=CC=C3)C(=O)O)C\n",
      "No. of conformers: 10\n",
      "minimum diameter = 4.564 angstrom\n",
      "intermediate diameter = 5.896 angstrom\n",
      "molecule: resorufin : SMILES: C1=CC2=C(C=C1O)OC3=CC(=O)C=CC3=N2\n",
      "No. of conformers: 10\n",
      "minimum diameter = 3.415 angstrom\n",
      "intermediate diameter = 5.876 angstrom\n",
      "molecule: methyl ethyl ketone peroxide : SMILES: CCC(C)(OO)OOC(C)(CC)OO\n",
      "No. of conformers: 10\n",
      "minimum diameter = 3.896 angstrom\n",
      "intermediate diameter = 5.264 angstrom\n",
      "molecule: tert-butyl hydroperoxide : SMILES: CC(C)(C)OO\n",
      "No. of conformers: 10\n",
      "minimum diameter = 5.207 angstrom\n",
      "intermediate diameter = 5.638 angstrom\n",
      "molecule: Amplex Red : SMILES: CC(=O)N1C2=C(C=C(C=C2)O)OC3=C1C=CC(=C3)O\n",
      "No. of conformers: 10\n",
      "minimum diameter = 3.405 angstrom\n",
      "intermediate diameter = 8.15 angstrom\n"
     ]
    },
    {
     "data": {
      "image/png": "[encoded data removed]",
      "text/plain": [
       "<Figure size 360x360 with 1 Axes>"
      ]
     },
     "metadata": {},
     "output_type": "display_data"
    },
    {
     "data": {
      "image/png": "[encoded data removed]",
      "text/plain": [
       "<Figure size 360x360 with 1 Axes>"
      ]
     },
     "metadata": {},
     "output_type": "display_data"
    },
    {
     "data": {
      "image/png": "[encoded data removed]",
      "text/plain": [
       "<Figure size 360x360 with 1 Axes>"
      ]
     },
     "metadata": {},
     "output_type": "display_data"
    }
   ],
   "source": [
    "fig1, ax1 = plt.subplots(figsize=(5,5))\n",
    "fig2, ax2 = plt.subplots(figsize=(5,5))\n",
    "fig3, ax3 = plt.subplots(figsize=(5,5))\n",
    "# spacing in X direction\n",
    "dx = 0.15\n",
    "# threshold for diffusion through ZIF-8\n",
    "# from Exploring the Framework Hydrophobicity and Flexibility \n",
    "# of ZIF-8: From Biofuel Recovery to Hydrocarbon Separations\n",
    "threshold = 4.2\n",
    "\n",
    "min_diam_sums = []\n",
    "mid_diam_sums = []\n",
    "avg_diam_sums = []\n",
    "for T in np.arange(1):\n",
    "    for name, smile in molecules.items():\n",
    "        if name != 'vinyl acetate':\n",
    "            continue\n",
    "        print('molecule:', name,':', 'SMILES:', smile)\n",
    "        try:\n",
    "            kin_diam = float(diameters[name])\n",
    "        except ValueError:\n",
    "            print('no radius given for this molecule - skipped')\n",
    "            continue\n",
    "\n",
    "        # Read SMILES and add Hs\n",
    "        mol = Chem.AddHs(Chem.MolFromSmiles(smile))\n",
    "        # 2D to 3D\n",
    "        # with multiple conformers\n",
    "        cids = Chem.EmbedMultipleConfs(mol, 100) #, Chem.ETKDG())\n",
    "        print('No. of conformers:', len(cids))\n",
    "        # quick UFF optimize\n",
    "        for cid in cids: Chem.UFFOptimizeMolecule(mol, confId=cid)\n",
    "        # align all conformers\n",
    "        # Chem.AlignMolConformers(mol, [0])\n",
    "        # rdkit_functions.show_all_conformers(v, mol, cids)\n",
    "        mol_coms = rdkit_functions.get_COMs(mol, cids)\n",
    "        # get principal moments of intertia\n",
    "        _, _, _, ratio_1_, ratio_2_ = rdkit_functions.get_inertial_prop(mol, cids)\n",
    "        # print(np.average(ratio_1_), np.average(ratio_2_))\n",
    "        conf_diameters, conf_axes, conf_moments = rdkit_functions.get_vdw_diameters(mol, cids, \n",
    "                                                                    mol_coms, \n",
    "                                                                    vdwScale=1.0, \n",
    "                                                                    boxMargin=4.0, \n",
    "                                                                    spacing=0.1,\n",
    "                                                                    vec_spacing=0.01,\n",
    "                                                                    show=False, \n",
    "                                                                    plot=False)\n",
    "        \n",
    "        # show one conformers axes of inertia in pymol\n",
    "        # rdkit_functions.show_axes(mol, confId, mol_coms, conf_axes)\n",
    "        diams = [sorted(i) for i in conf_diameters]\n",
    "        min_diam = np.average([i[0] for i in diams])  # use the avg min diam\n",
    "        mid_diam = np.average([i[1] for i in diams])  # use the avg intermediate diam\n",
    "        print('minimum diameter =', round(min_diam, 3), 'angstrom')\n",
    "        print('intermediate diameter =', round(mid_diam, 3), 'angstrom')\n",
    "        min_diam_sums.append(min_diam)\n",
    "        mid_diam_sums.append(mid_diam) \n",
    "        avg_diam_sums.append(np.average([min_diam, mid_diam]))\n",
    "        # for categorical plot - use the experimental results\n",
    "        # get the diffusion binary result\n",
    "        diffuses = df[df['molecule'] == name]['diffuse'].iloc[0]\n",
    "        if mid_diam <= threshold:\n",
    "            C = 'b'\n",
    "            M = 'o'\n",
    "            E = 'k'\n",
    "            D = 0.25\n",
    "        else:\n",
    "            C = 'r'\n",
    "            M = 'X'\n",
    "            E = 'k'\n",
    "            D = 0.75\n",
    "            print(\"--- lit says it diffuses, calc says it doesn't diffuse! ---\")\n",
    "        ax1.scatter(D+(dx*(np.random.random() - 0.5) * 2),\n",
    "                    mid_diam, c=C, \n",
    "                    edgecolors=E, marker=M, alpha=1.0,\n",
    "                    s=80)\n",
    "        ax2.scatter(kin_diam, mid_diam, c=C, \n",
    "                    edgecolors=E, marker=M, alpha=1.0,\n",
    "                    s=80)\n",
    "        ax3.scatter(np.average(ratio_1_), np.average(ratio_2_),\n",
    "                    c=C, \n",
    "                    edgecolors=E, marker=M, alpha=1.0,\n",
    "                    s=80)\n",
    "    \n",
    "ax1.axhline(y=threshold, c='k')\n",
    "define_plot_variables(ax1,\n",
    "                      title='',\n",
    "                      xtitle='',\n",
    "                      ytitle='intermediate diameter [$\\mathrm{\\AA}$]',\n",
    "                      xlim=(0, 1),\n",
    "                      ylim=(0, 10))\n",
    "fig1.tight_layout()\n",
    "fig1.savefig(output_dir+\"categorical.pdf\", dpi=720,\n",
    "            bbox_inches='tight')\n",
    "\n",
    "\n",
    "ax2.plot(np.linspace(-1, 12, 2), np.linspace(-1, 12, 2), c='k', alpha=0.4)\n",
    "ax2.axvspan(4.0, 4.2, facecolor='r', alpha=0.5)  # plot the limit from the two Sholl papers on diffusion\n",
    "\n",
    "\n",
    "define_parity_plot_variables(ax2,\n",
    "                             title='',\n",
    "                             xtitle='kinetic diameter [$\\mathrm{\\AA}$]',\n",
    "                             ytitle='intermediate diameter [$\\mathrm{\\AA}$]',\n",
    "                             xlim=(0, 10),\n",
    "                             ylim=(0, 10))\n",
    "\n",
    "fig2.tight_layout()\n",
    "fig2.savefig(output_dir+\"parity.pdf\", dpi=720,\n",
    "            bbox_inches='tight')\n",
    "\n",
    "\n",
    "ax3.plot([0, 0.5, 1, 0], [1, 0.5, 1, 1], c='k', lw=2)\n",
    "ax3.text(0.75, 1.01, 'sphere', fontsize=20)\n",
    "ax3.text(0.4, 0.45, 'disk', fontsize=20)\n",
    "ax3.text(-0.05, 1.01, 'rod', fontsize=20)\n",
    "define_parity_plot_variables(ax3,\n",
    "                             title='',\n",
    "                             xtitle='$I_1$ / $I_3$',\n",
    "                             ytitle='$I_2$ / $I_3$',\n",
    "                             xlim=(-0.1, 1.1),\n",
    "                             ylim=(0.4, 1.1))\n",
    "fig3.tight_layout()\n",
    "fig3.savefig(output_dir+\"shape.pdf\", dpi=720,\n",
    "            bbox_inches='tight')"
   ]
  },
  {
   "cell_type": "code",
   "execution_count": null,
   "metadata": {},
   "outputs": [],
   "source": []
  },
  {
   "cell_type": "code",
   "execution_count": null,
   "metadata": {},
   "outputs": [],
   "source": []
  },
  {
   "cell_type": "code",
   "execution_count": null,
   "metadata": {},
   "outputs": [],
   "source": []
  },
  {
   "cell_type": "code",
   "execution_count": null,
   "metadata": {},
   "outputs": [],
   "source": []
  },
  {
   "cell_type": "code",
   "execution_count": null,
   "metadata": {},
   "outputs": [],
   "source": []
  },
  {
   "cell_type": "code",
   "execution_count": 100,
   "metadata": {},
   "outputs": [
    {
     "data": {
      "text/plain": [
       "(0, 10)"
      ]
     },
     "execution_count": 100,
     "metadata": {},
     "output_type": "execute_result"
    },
    {
     "data": {
      "image/png": "[encoded data removed]",
      "text/plain": [
       "<Figure size 432x288 with 1 Axes>"
      ]
     },
     "metadata": {},
     "output_type": "display_data"
    }
   ],
   "source": [
    "plt.hist(min_diam_sums, facecolor='k', alpha=0.4)\n",
    "plt.hist(mid_diam_sums, facecolor='r', alpha=0.4)\n",
    "plt.hist(avg_diam_sums, facecolor='b', alpha=0.4)\n",
    "plt.xlim(0, 10)"
   ]
  },
  {
   "cell_type": "code",
   "execution_count": null,
   "metadata": {},
   "outputs": [],
   "source": []
  },
  {
   "cell_type": "code",
   "execution_count": null,
   "metadata": {},
   "outputs": [],
   "source": []
  },
  {
   "cell_type": "code",
   "execution_count": null,
   "metadata": {},
   "outputs": [],
   "source": []
  }
 ],
 "metadata": {
  "kernelspec": {
   "display_name": "Python 3",
   "language": "python",
   "name": "python3"
  },
  "language_info": {
   "codemirror_mode": {
    "name": "ipython",
    "version": 3
   },
   "file_extension": ".py",
   "mimetype": "text/x-python",
   "name": "python",
   "nbconvert_exporter": "python",
   "pygments_lexer": "ipython3",
   "version": "3.6.5"
  }
 },
 "nbformat": 4,
 "nbformat_minor": 2
}
