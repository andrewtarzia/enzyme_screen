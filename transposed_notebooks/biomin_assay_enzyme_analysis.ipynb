{
 "cells": [
  {
   "cell_type": "code",
   "execution_count": null,
   "metadata": {
    "ExecuteTime": {
     "end_time": "2018-09-14T03:42:18.620154Z",
     "start_time": "2018-09-14T03:42:18.604865Z"
    }
   },
   "outputs": [],
   "source": [
    "from IPython.core.display import HTML\n",
    "display(HTML(\"<style>.container { width:95% !important; }</style>\"))\n",
    "%load_ext autoreload\n",
    "%autoreload 1"
   ]
  },
  {
   "cell_type": "markdown",
   "metadata": {},
   "source": [
    "Author: Andrew Tarzia\n",
    "\n",
    "Date Created: 05 Aug 2018\n",
    "\n",
    "Distributed under the terms of the MIT License."
   ]
  },
  {
   "cell_type": "markdown",
   "metadata": {},
   "source": [
    "# Notebook to analyse all enzymes used in ZIF-8 experiments using BRENDA database\n",
    "\n",
    "TODO:\n",
    "- add license\n",
    "- modifications\n",
    "    - introduce exposure consideration\n",
    "        - get another method for calculating exposure without structure?\n",
    "    - generalise code to multiple target residues (\"targ = convert_to_one_letter_code_sing('target_res')\" needs to act on a list"
   ]
  },
  {
   "cell_type": "code",
   "execution_count": null,
   "metadata": {
    "ExecuteTime": {
     "end_time": "2018-09-14T03:42:20.585986Z",
     "start_time": "2018-09-14T03:42:20.515800Z"
    }
   },
   "outputs": [],
   "source": [
    "import os\n",
    "import glob\n",
    "import pandas as pd\n",
    "import matplotlib.pyplot as plt\n",
    "from Bio import SeqIO\n",
    "from Bio.SeqUtils.ProtParam import ProteinAnalysis\n",
    "from Bio.Alphabet import IUPAC\n",
    "from rdkit.Chem.Draw import IPythonConsole  # to show molecules in notebook\n",
    "import time\n",
    "import numpy as np\n",
    "import pandas as pd\n",
    "# ensure cpickle usage\n",
    "try:\n",
    "    import cPickle as pickle\n",
    "except ModuleNotFoundError:\n",
    "    import pickle\n",
    "from rdkit.Chem import AllChem as Chem\n",
    "from rdkit.Chem import Descriptors\n",
    "from rdkit.Chem.Descriptors3D import NPR1, NPR2, PMI1, PMI2, PMI3\n",
    "from rdkit.Chem.Draw.MolDrawing import MolDrawing\n",
    "from rdkit.Chem.Draw import IPythonConsole\n",
    "from rdkit.Chem import Draw\n",
    "from rdkit.Geometry import rdGeometry\n",
    "from rdkit.Chem import PyMol\n",
    "from rdkit import Geometry\n",
    "import tempfile\n",
    "%aimport pi_fn\n",
    "%aimport parameters\n",
    "%aimport BRENDA_IO\n",
    "%aimport SABIO_IO\n",
    "%aimport rdkit_functions\n",
    "%aimport ellipsoid\n",
    "%aimport DB_functions\n",
    "%aimport CHEBI_IO\n",
    "%aimport BKMS_IO\n",
    "%aimport KEGG_IO\n",
    "%aimport molecule\n",
    "%aimport Uniprot_IO\n",
    "%aimport PUBCHEM_IO\n",
    "%aimport rxn_syst"
   ]
  },
  {
   "cell_type": "markdown",
   "metadata": {},
   "source": [
    "# Calculate pI of all sequences in EC No. used in literature\n",
    "## Produces distribution for each EC No.\n",
    "\n",
    "## Notes:\n",
    "### Biopython:\n",
    "- pK values and the methods are taken from::\n",
    "    * Bjellqvist, B.,Hughes, G.J., Pasquali, Ch., Paquet, N., Ravier, F.,\n",
    "    Sanchez, J.-Ch., Frutiger, S. & Hochstrasser, D.F.\n",
    "    The focusing positions of polypeptides in immobilized pH gradients can be\n",
    "    predicted from their amino acid sequences. Electrophoresis 1993, 14,\n",
    "    1023-1031.\n",
    "    * Bjellqvist, B., Basse, B., Olsen, E. and Celis, J.E.\n",
    "    Reference points for comparisons of two-dimensional maps of proteins from\n",
    "    different human cell types defined in a pH scale where isoelectric points\n",
    "    correlate with polypeptide compositions. Electrophoresis 1994, 15, 529-539.\n",
    "\n",
    "|  AA | pKa  |\n",
    "|-----|------|\n",
    "| ASP | 4.05 |\n",
    "| GLU | 4.45 |\n",
    "| HIS | 5.98 |\n",
    "| CYS | 9.00 |\n",
    "| TYR | 10.0 |\n",
    "| LYS | 10.0 |\n",
    "| ARG | 12.0 |\n",
    "| N-terminus | 7.50 |\n",
    "| N-terminus : GLU | 7.7 |\n",
    "| N-terminus : VAL | 7.44 |\n",
    "| N-terminus : THR | 6.82 |\n",
    "| N-terminus : PRO | 8.36 |\n",
    "| N-terminus : SER | 6.93 |\n",
    "| N-terminus : MET | 7.00 |\n",
    "| N-terminus : ALA | 7.59 |\n",
    "| C-terminus | 3.55 |\n",
    "| C-terminus : ASP | 4.55 |\n",
    "| C-terminus : GLU | 4.75 |\n",
    "\n",
    "- with the above pKas and the data set in Tash's paper (DOI:) we apply a pI cut off = XX.\n",
    "\n",
    "\n",
    "### Modified pIs:\n",
    "- assuming sequence only and therefore cannot use DSSP to calculate exposure"
   ]
  },
  {
   "cell_type": "code",
   "execution_count": null,
   "metadata": {
    "ExecuteTime": {
     "end_time": "2018-09-05T10:05:51.429516Z",
     "start_time": "2018-09-05T10:05:51.423274Z"
    }
   },
   "outputs": [],
   "source": [
    "# get parameters\n",
    "param_dict = parameters.get_parameters()\n",
    "\n",
    "# input parameters\n",
    "database_directory = '/home/atarzia/psp/sequence_db/bio_min_dataset/'\n",
    "output_dir = database_directory"
   ]
  },
  {
   "cell_type": "code",
   "execution_count": null,
   "metadata": {
    "ExecuteTime": {
     "end_time": "2018-09-04T01:57:55.758820Z",
     "start_time": "2018-09-04T01:57:55.727743Z"
    }
   },
   "outputs": [],
   "source": [
    "# set EC numbers of interest based on dataset\n",
    "# 'none' in species lists implies species was not given with literature report.\n",
    "EC_set = {\n",
    "    # EC : species list\n",
    "    '1.11.1.5': ['equus caballus', ],\n",
    "    '1.11.1.6': ['bos taurus', ],\n",
    "    '1.11.1.7': ['armoracia rusticana', ],\n",
    "    '1.9.3.1': ['equus caballus', ],\n",
    "    '1.1.5.2': ['none', ],\n",
    "    '3.5.1.5': ['canavalia ensiformis'],\n",
    "    '1.1.3.4': ['aspergillus niger'],\n",
    "    '1.13.12.4': ['none'],\n",
    "    '3.2.1.26': ['none'],\n",
    "    '3.1.1.3': ['thermomyces lanuginosus', 'alcaligenes sp.',\n",
    "                'pseudomonas fluorescens',\n",
    "                'rhizomucor miehei', 'candida antarctica',\n",
    "                'aspergillus niger'],\n",
    "    '3.1.1.6': ['lactobacillus acidophilus'],\n",
    "    '3.5.1.11': ['none'],\n",
    "    }"
   ]
  },
  {
   "cell_type": "code",
   "execution_count": null,
   "metadata": {
    "ExecuteTime": {
     "end_time": "2018-09-04T01:57:59.129946Z",
     "start_time": "2018-09-04T01:57:55.896594Z"
    }
   },
   "outputs": [],
   "source": [
    "# get input FASTA file names\n",
    "database_names = []\n",
    "for i in glob.glob(database_directory+\"*fasta\"):\n",
    "    if \"_mod\" not in i:\n",
    "        database_names.append(i)\n",
    "database_names = sorted(database_names)\n",
    "print('databases:')\n",
    "for i in database_names:\n",
    "    print('--', i.replace(database_directory, ''))\n",
    "\n",
    "# prepare output CSV file\n",
    "redo_pi = input('redo pI calculation (True = yes, False = no)')\n",
    "if redo_pi == 'True':\n",
    "    redo_pi = True\n",
    "    pi_fn.prepare_out_csv(output_dir, param_dict)\n",
    "    # fix formatting of FASTA files to match BIOPYTHON readable\n",
    "    pi_fn.fix_fasta(database_names)"
   ]
  },
  {
   "cell_type": "code",
   "execution_count": null,
   "metadata": {
    "ExecuteTime": {
     "end_time": "2018-08-16T14:29:29.526226Z",
     "start_time": "2018-08-16T14:23:40.616149Z"
    },
    "scrolled": true
   },
   "outputs": [],
   "source": [
    "print('calculate all pIs for target EC sequences')\n",
    "for EC_file in database_names:\n",
    "    # read the file\n",
    "    # but to avoid memory issues\n",
    "    # we will calculate the pI on the fly\n",
    "    # using the bio python module\n",
    "    print('doing:', EC_file)\n",
    "    file_mod = EC_file.replace(\".fasta\", \"_mod.fasta\")\n",
    "    if redo_pi is True:\n",
    "        pi_fn.calculate_pI_from_file(file_mod, param_dict, output_dir)\n",
    "    print('plot distribution of pIs')\n",
    "    pi_data = pd.read_csv(output_dir+param_dict['out_CSV_pi'], index_col=False)\n",
    "    EC_pi_data = pi_data[pi_data['fasta_file'] == file_mod]\n",
    "    pi_fn.plot_EC_pI_dist(EC_pi_data, param_dict,\n",
    "                          filename=file_mod.replace('.fasta', '.pdf'),\n",
    "                          title=file_mod.replace(output_dir, '').replace('__BRENDA_sequences_mod.fasta', ''))\n",
    "    print('done')"
   ]
  },
  {
   "cell_type": "markdown",
   "metadata": {},
   "source": [
    "# Collect pI of species used in Literature data base using BRENDA"
   ]
  },
  {
   "cell_type": "code",
   "execution_count": null,
   "metadata": {
    "ExecuteTime": {
     "end_time": "2018-08-16T14:29:29.747710Z",
     "start_time": "2018-08-16T14:29:29.743742Z"
    }
   },
   "outputs": [],
   "source": [
    "# get parameters\n",
    "param_dict = parameters.get_parameters()\n",
    "\n",
    "# input parameters\n",
    "database_directory = '/home/atarzia/psp/sequence_db/bio_min_dataset/'\n",
    "output_dir = database_directory"
   ]
  },
  {
   "cell_type": "code",
   "execution_count": null,
   "metadata": {
    "ExecuteTime": {
     "end_time": "2018-08-16T14:29:29.759008Z",
     "start_time": "2018-08-16T14:29:29.749457Z"
    }
   },
   "outputs": [],
   "source": [
    "# set EC numbers of interest based on dataset\n",
    "# 'none' in species lists implies species was not given with literature report.\n",
    "EC_set = {\n",
    "    # EC : species list\n",
    "    '1.11.1.5': ['equus caballus', ],\n",
    "    '1.11.1.6': ['bos taurus', ],\n",
    "    '1.11.1.7': ['armoracia rusticana', ],\n",
    "    '1.9.3.1': ['equus caballus', ],\n",
    "    '1.1.5.2': ['none', ],\n",
    "    '3.5.1.5': ['canavalia ensiformis'],\n",
    "    '1.1.3.4': ['aspergillus niger'],\n",
    "    '1.13.12.4': ['none'],\n",
    "    '3.2.1.26': ['none'],\n",
    "    '3.1.1.3': ['thermomyces lanuginosus', 'alcaligenes sp.',\n",
    "                'pseudomonas fluorescens',\n",
    "                'rhizomucor miehei', 'candida antarctica',\n",
    "                'aspergillus niger'],\n",
    "    '3.1.1.6': ['lactobacillus acidophilus'],\n",
    "    '3.5.1.11': ['none'],\n",
    "    }"
   ]
  },
  {
   "cell_type": "code",
   "execution_count": null,
   "metadata": {
    "ExecuteTime": {
     "end_time": "2018-08-16T14:29:32.898540Z",
     "start_time": "2018-08-16T14:29:29.761048Z"
    }
   },
   "outputs": [],
   "source": [
    "# read in pI output file\n",
    "pi_data = pd.read_csv(output_dir+param_dict['out_CSV_pi'], index_col=False)"
   ]
  },
  {
   "cell_type": "code",
   "execution_count": null,
   "metadata": {
    "ExecuteTime": {
     "end_time": "2018-08-16T14:29:37.771822Z",
     "start_time": "2018-08-16T14:29:32.900487Z"
    },
    "scrolled": false
   },
   "outputs": [],
   "source": [
    "print('Screen all Enzymes in EC Classes using BRENDA data')\n",
    "count_done = 0\n",
    "total_start_time = time.time()\n",
    "for EC_file in database_names:\n",
    "    # read the file\n",
    "    # but to avoid memory issues\n",
    "    # we will calculate the pI on the fly\n",
    "    # using the bio python module\n",
    "    print('-----------------------------------------------')\n",
    "    print('doing:', EC_file)\n",
    "    file_mod = EC_file.replace(\".fasta\", \"_mod.fasta\")\n",
    "    EC_pi_data = pi_data[pi_data['fasta_file'] == file_mod]\n",
    "    # only keep those that pass the pI test\n",
    "    pi_passed_data = EC_pi_data[EC_pi_data['pi'] < param_dict['cutoff_pi']]\n",
    "    print('--- ', \n",
    "          len(pi_passed_data), 'proteins out of', len(EC_pi_data), \n",
    "          'remain, OR', int(len(pi_passed_data)/len(EC_pi_data)*100),\n",
    "          \"% ---\")\n",
    "    EC_no = list(set(EC_pi_data['EC.code']))[0].replace(' ', '').replace(\".\", \"_\")\n",
    "    print('EC:', EC_no.replace(\"_\", \".\"))\n",
    "    br_datafile = 'brenda_download_'+EC_no+'.txt'\n",
    "    # convert br_datafile into dictionary\n",
    "    br_symbols, br_data = brenda_IO.get_brenda_dict(param_dict['BRENDA_DB_loc']+br_datafile)\n",
    "    # from here is quite bio-min assay literature specific - although the code can be reused\n",
    "    # get species of interest from known EC records\n",
    "    species_of_interest = EC_set[EC_no.replace('_', '.')]\n",
    "    for spec in species_of_interest:\n",
    "        print('species:', spec)\n",
    "        # is species in sequence data?\n",
    "        spec_in_seq, spec_in_br = brenda_IO.is_species_reported(spec, \n",
    "                                                                EC_pi_data, \n",
    "                                                                br_data, \n",
    "                                                                verbose=True)\n",
    "        PR_of_int = []\n",
    "        for i in sorted(br_data['PR']):\n",
    "            if spec in i.lower():\n",
    "                # this assumes that the first item of each line is always \"#\"\n",
    "                PR_info = i.split(\"#\")[1]            \n",
    "                if PR_info not in PR_of_int:\n",
    "                    PR_of_int.append(PR_info)\n",
    "        # get pI from BRENDA\n",
    "        prop_of_int = 'PI'\n",
    "        list_of_int = br_data[prop_of_int]\n",
    "        # get list of protein codes with property of interest\n",
    "        EC_prop_PR_codes = brenda_IO.get_prop_PR_codes(list_of_int)\n",
    "        value_of_int = {}\n",
    "        for PR in PR_of_int:\n",
    "            if PR in set([j for i in EC_prop_PR_codes.values() for j in i ]):\n",
    "                print('protein code:', PR, 'has', prop_of_int, 'in BRENDA')\n",
    "            else:\n",
    "                print('protein code:', PR, 'does not have', prop_of_int, 'in BRENDA')\n",
    "            values = [list_of_int[i].split(\" \")[1] \n",
    "                      for i in EC_prop_PR_codes.keys() if PR in EC_prop_PR_codes[i]]\n",
    "            # apply property specific rules\n",
    "            # check for ranges - append min and max\n",
    "            values_min = [i.split('-')[0] for i in values if '-' in i and i[0] != '-']\n",
    "            values_max = [i.split('-')[1] for i in values if '-' in i and i[0] != '-']\n",
    "            if len(values_min) > 0 and len(values_max) > 0:\n",
    "                for i in np.arange(len(values)-1, -1, -1):\n",
    "                    if '-' in values[i]:\n",
    "                        del values[i]\n",
    "                print(values_min, values_max)\n",
    "                values.append(values_min[0])\n",
    "                values.append(values_max[0])\n",
    "            # PI == float\n",
    "            values = [float(i) for i in values]\n",
    "            # PI => between 0 and 14\n",
    "            values = [i for i in values if i >= 0 and i <= 14]\n",
    "            if len(values) > 0:\n",
    "                value_of_int[PR] = values\n",
    "        print('reported pIs in BRENDA:', value_of_int.values())\n",
    "    count_done += 1\n",
    "print('--- finished %s EC classes in %s seconds ---' % (count_done, '{0:.2f}'.format(time.time() - total_start_time)))"
   ]
  },
  {
   "cell_type": "markdown",
   "metadata": {},
   "source": [
    "# From the list of reactions reported in the literature - determine, which molecules fit in ZIF-8"
   ]
  },
  {
   "cell_type": "code",
   "execution_count": null,
   "metadata": {
    "ExecuteTime": {
     "end_time": "2018-09-11T08:57:31.614222Z",
     "start_time": "2018-09-11T08:57:31.590555Z"
    },
    "code_folding": [
     0,
     15
    ]
   },
   "outputs": [],
   "source": [
    "def define_plot_variables(ax, title, ytitle, xtitle, xlim, ylim):\n",
    "    \"\"\"\n",
    "    Series of matplotlib pyplot settings to make all plots unitform.\n",
    "    \"\"\"\n",
    "    # Set number of ticks for x-axis\n",
    "    ax.tick_params(axis='both', which='major', labelsize=16)\n",
    "\n",
    "    ax.set_ylabel(ytitle, fontsize=16)\n",
    "    # ax.legend([y, n], ['aligned', 'not aligned'], loc=4, fancybox=True)\n",
    "    ax.set_xlim(xlim)\n",
    "    ax.set_ylim(ylim)\n",
    "    ax.set_xticklabels(['diffuses', 'does not diffuse'])\n",
    "    ax.set_xticks([0.25, 0.75])\n",
    "\n",
    "\n",
    "def define_parity_plot_variables(ax, title, ytitle, xtitle, xlim, ylim):\n",
    "    \"\"\"\n",
    "    Series of matplotlib pyplot settings to make all plots unitform.\n",
    "    \"\"\"\n",
    "    # Set number of ticks for x-axis\n",
    "    ax.tick_params(axis='both', which='major', labelsize=16)\n",
    "\n",
    "    ax.set_xlabel(xtitle, fontsize=16)\n",
    "    ax.set_ylabel(ytitle, fontsize=16)\n",
    "    # ax.legend([y, n], ['aligned', 'not aligned'], loc=4, fancybox=True)\n",
    "    ax.set_xlim(xlim)\n",
    "    ax.set_ylim(ylim)\n"
   ]
  },
  {
   "cell_type": "code",
   "execution_count": null,
   "metadata": {
    "ExecuteTime": {
     "end_time": "2018-09-11T08:57:35.869919Z",
     "start_time": "2018-09-11T08:57:35.727793Z"
    },
    "code_folding": [
     2
    ]
   },
   "outputs": [],
   "source": [
    "# set EC numbers of interest based on dataset\n",
    "# 'none' in species lists implies species was not given with literature report.\n",
    "EC_mol_set = {\n",
    "    # EC : species list : unique molecules\n",
    "    '1.11.1.5': {'equus caballus': [\n",
    "        ('hydrogen peroxide', 'OO'),\n",
    "        ('pyrogallol', 'C1=CC(=C(C(=C1)O)O)O'),\n",
    "        ('purporogallin', 'C1=CC(=O)C(=C2C(=C1)C=C(C(=C2O)O)O)O'),\n",
    "    ]},\n",
    "    '1.11.1.6': {'bos taurus': [\n",
    "        ('hydrogen peroxide', 'OO'),\n",
    "        ('water', 'O'),\n",
    "        ('oxygen', 'O=O'),\n",
    "        ('3-amino-1,2,4-triazole', 'C1=NNC(=N1)N'),\n",
    "    ]},\n",
    "    '1.11.1.7': {'armoracia rusticana': [\n",
    "        ('pyrogallol', 'C1=CC(=C(C(=C1)O)O)O'),\n",
    "        ('purporogallin', 'C1=CC(=O)C(=C2C(=C1)C=C(C(=C2O)O)O)O'),\n",
    "        ('hydrogen peroxide', 'OO'),\n",
    "        ('water', 'O'),\n",
    "        ('oxygen', 'O=O'),\n",
    "        ('ABTS', 'CCN1C2=C(C=C(C=C2)S(=O)(=O)[O-])SC1=NN=C3N(C4=C(S3)C=C(C=C4)S(=O)(=O)[O-])CC'),\n",
    "    ]},\n",
    "    '1.9.3.1': {'equus caballus': [\n",
    "        ('hydrogen peroxide', 'OO'),\n",
    "        ('water', 'O'),\n",
    "        ('oxygen', 'O=O'),\n",
    "        ('ABTS', 'CCN1C2=C(C=C(C=C2)S(=O)(=O)[O-])SC1=NN=C3N(C4=C(S3)C=C(C=C4)S(=O)(=O)[O-])CC'),\n",
    "        ('Amplex Red', 'CC(=O)N1C2=C(C=C(C=C2)O)OC3=C1C=CC(=C3)O'),\n",
    "        ('resorufin', 'C1=CC2=C(C=C1O)OC3=CC(=O)C=CC3=N2'),\n",
    "        ('methyl ethyl ketone peroxide', 'CCC(C)(OO)OOC(C)(CC)OO'),\n",
    "        ('tert-butyl hydroperoxide', 'CC(C)(C)OO'),\n",
    "    ]},\n",
    "    '1.1.5.2': {'none': [\n",
    "        ('methosulfate', 'COS(=O)(=O)[O-]'),\n",
    "        ('5-Methylphenazin-5-ium', 'C[N+]1=C2C=CC=CC2=NC3=CC=CC=C31'),\n",
    "        ('2,6-dichloroindophenol', 'C1=CC(=O)C=CC1=NC2=CC(=C(C(=C2)Cl)O)Cl'),\n",
    "    ]},\n",
    "    '3.5.1.5': {'canavalia ensiformis': [\n",
    "        ('Urea', 'C(=O)(N)N'),\n",
    "        ('water', 'O'),\n",
    "        ('carbon dioxide', 'C(=O)=O'),\n",
    "        ('ammonia', 'N'),\n",
    "    ]},\n",
    "    '1.1.3.4': {'aspergillus niger': [\n",
    "        ('D-glucose (chain)', 'C(C(C(C(C(C=O)O)O)O)O)O'),\n",
    "        ('D-glucose (ring)', 'C(C1C(C(C(C(O1)O)O)O)O)O'),\n",
    "        ('gluconic acid', 'C(C(C(C(C(C(=O)O)O)O)O)O)O'),\n",
    "        ('hydrogen peroxide', 'OO'),\n",
    "        ('Gluconolactone', 'C(C1C(C(C(C(=O)O1)O)O)O)O'),\n",
    "    ]},\n",
    "    '1.13.12.4': {'none': [\n",
    "        ('hydrogen peroxide', 'OO'),\n",
    "        ('pyruvate', 'CC(=O)C(=O)[O-]'),\n",
    "        ('L-lactate', 'CC(C(=O)[O-])[O-]'),\n",
    "        \n",
    "    ]},\n",
    "    '3.2.1.26': {'none': [\n",
    "        ('sucrose', 'C(C1C(C(C(C(O1)OC2(C(C(C(O2)CO)O)O)CO)O)O)O)O'),\n",
    "        ('L-fructose', 'C(C(C(C(C(=O)CO)O)O)O)O'),\n",
    "        ('D-fructose', 'C1C(C(C(C(O1)(CO)O)O)O)O'),\n",
    "    ]},\n",
    "    '3.1.1.3': {'thermomyces lanuginosus': [\n",
    "                    ('p-nitrophenol', 'C1=CC(=CC=C1[N+](=O)[O-])O'),\n",
    "                    ('p-nitrophenyl butyrate', 'CCCC(=O)OC1=CC=C(C=C1)[N+](=O)[O-]'),\n",
    "                    ('butyric acid', 'CCCC(=O)O'),\n",
    "                ],\n",
    "                'alcaligenes sp.': [  # not sure about this one - the kinetic resolution may not belong to this enyzme?\n",
    "                    ('2-octanol', 'CCCCCCC(C)O'),\n",
    "                    ('vinyl acetate', 'CC(=O)OC=C'),\n",
    "                    ('octyl acetate', 'CCCCCCCCOC(=O)C'),\n",
    "                    ('p-nitrophenyl', 'C1=CC=C(C=C1)[N+](=O)[O-]'),\n",
    "                    ('p-nitrophenyl octanoate', 'CCCCCCCC(=O)OC1=CC=C(C=C1)[N+](=O)[O-]'),\n",
    "                    ('octanoic acid', 'CCCCCCCC(=O)O'),\n",
    "                ],\n",
    "                'pseudomonas fluorescens': [\n",
    "                    ('p-nitrophenol', 'C1=CC(=CC=C1[N+](=O)[O-])O'),\n",
    "                    ('p-nitrophenyl butyrate', 'CCCC(=O)OC1=CC=C(C=C1)[N+](=O)[O-]'),\n",
    "                    ('butyric acid', 'CCCC(=O)O'),\n",
    "                ],\n",
    "                'rhizomucor miehei': [\n",
    "                    ('p-nitrophenol', 'C1=CC(=CC=C1[N+](=O)[O-])O'),\n",
    "                    ('p-nitrophenyl butyrate', 'CCCC(=O)OC1=CC=C(C=C1)[N+](=O)[O-]'),\n",
    "                    ('butyric acid', 'CCCC(=O)O'),\n",
    "                ], \n",
    "                'candida antarctica': [\n",
    "                    ('p-nitrophenol', 'C1=CC(=CC=C1[N+](=O)[O-])O'),\n",
    "                    ('p-nitrophenyl butyrate', 'CCCC(=O)OC1=CC=C(C=C1)[N+](=O)[O-]'),\n",
    "                    ('butyric acid', 'CCCC(=O)O'),\n",
    "                ],\n",
    "                'aspergillus niger': [\n",
    "                    ('p-nitrophenol', 'C1=CC(=CC=C1[N+](=O)[O-])O'),\n",
    "                    ('p-nitrophenyl acetate', 'CC(=O)OC1=CC=C(C=C1)[N+](=O)[O-]'),\n",
    "                    ('acetic acid', 'CC(=O)O'),\n",
    "                ]},\n",
    "    '3.1.1.6': {'lactobacillus acidophilus': [\n",
    "        ('p-nitrophenyl', 'C1=CC=C(C=C1)[N+](=O)[O-]'),\n",
    "        ('p-nitrophenol', 'C1=CC(=CC=C1[N+](=O)[O-])O'),\n",
    "        ('p-nitrophenyl acetate', 'CC(=O)OC1=CC=C(C=C1)[N+](=O)[O-]'),\n",
    "        ('acetic acid', 'CC(=O)O'),\n",
    "        ('p-nitrophenyl phosphate', 'C1=CC(=CC=C1[N+](=O)[O-])OP(=O)(O)O'),\n",
    "        ('phosphate acid', 'OP(=O)([O-])[O-]'),\n",
    "        ('p-nitrophenyl butyrate', 'CCCC(=O)OC1=CC=C(C=C1)[N+](=O)[O-]'),\n",
    "        ('butyric acid', 'CCCC(=O)O'),\n",
    "        ('p-nitrophenyl hexanoate', 'CCCCCC(=O)OC1=CC=C(C=C1)[N+](=O)[O-]'),\n",
    "        ('hexanoic acid', 'CCCCCC(=O)O'),\n",
    "        ('p-nitrophenyl octanoate', 'CCCCCCCC(=O)OC1=CC=C(C=C1)[N+](=O)[O-]'),\n",
    "        ('octanoic acid', 'CCCCCCCC(=O)O'),\n",
    "        ('p-nitrophenyl decanoate', 'CCCCCCCCCC(=O)OC1=CC=C(C=C1)[N+](=O)[O-]'),\n",
    "        ('decanoic acid', 'CCCCCCCCCC(=O)O'),\n",
    "        ('p-nitrophenyl dodecanoate', 'CCCCCCCCCCCC(=O)OC1=CC=C(C=C1)[N+](=O)[O-]'),\n",
    "        ('dodecanoic acid', 'CCCCCCCCCCCC(=O)O'),\n",
    "    ]},\n",
    "    '3.5.1.11': {'none': [\n",
    "        ('penicillin-G', 'CC1(C(N2C(S1)C(C2=O)NC(=O)CC3=CC=CC=C3)C(=O)O)C'),\n",
    "    ]},\n",
    "    }"
   ]
  },
  {
   "cell_type": "code",
   "execution_count": null,
   "metadata": {
    "ExecuteTime": {
     "end_time": "2018-09-11T08:57:37.292843Z",
     "start_time": "2018-09-11T08:57:37.287501Z"
    }
   },
   "outputs": [],
   "source": [
    "# get parameters\n",
    "param_dict = parameters.get_parameters()\n",
    "threshold = float(param_dict['diffuse_threshold'])\n",
    "# input parameters\n",
    "database_directory = '/home/atarzia/psp/screening_results/biomin_known/'\n",
    "output_dir = database_directory"
   ]
  },
  {
   "cell_type": "code",
   "execution_count": null,
   "metadata": {
    "ExecuteTime": {
     "end_time": "2018-09-11T08:57:40.351608Z",
     "start_time": "2018-09-11T08:57:40.039805Z"
    }
   },
   "outputs": [],
   "source": [
    "# get all unique molecules and draw 2D structures\n",
    "molecules = {}\n",
    "diameters = {}\n",
    "for i in EC_mol_set.keys():\n",
    "    for j in EC_mol_set[i].keys():\n",
    "        for mol in EC_mol_set[i][j]:\n",
    "            molecules[mol[0]] = mol[1]\n",
    "            diameters[mol[0]] = 0\n",
    "            rdkit_functions.draw_smiles_to_svg(mol[1], output_dir+mol[0].replace(' ', '_')+'_2d.svg')"
   ]
  },
  {
   "cell_type": "markdown",
   "metadata": {},
   "source": [
    "#### calculate size"
   ]
  },
  {
   "cell_type": "code",
   "execution_count": null,
   "metadata": {
    "ExecuteTime": {
     "end_time": "2018-09-11T09:12:37.370570Z",
     "start_time": "2018-09-11T08:58:31.573272Z"
    },
    "scrolled": true
   },
   "outputs": [],
   "source": [
    "rdkit_functions.calc_molecule_diameters(molecules,\n",
    "                                        out_dir=output_dir, vdwScale=0.8, boxMargin=4.0,\n",
    "                                        spacing=0.6, show_vdw=False, plot_ellip=False,\n",
    "                                        N_conformers=50, MW_thresh=2000)"
   ]
  },
  {
   "cell_type": "markdown",
   "metadata": {},
   "source": [
    "#### get results"
   ]
  },
  {
   "cell_type": "code",
   "execution_count": null,
   "metadata": {
    "ExecuteTime": {
     "end_time": "2018-09-11T09:12:37.554088Z",
     "start_time": "2018-09-11T09:12:37.375525Z"
    }
   },
   "outputs": [],
   "source": [
    "threshold = float(param_dict['diffuse_threshold'])\n",
    "diffuse = {}\n",
    "no_diffuse = {}\n",
    "count = 0\n",
    "for name, smile in molecules.items():\n",
    "    out_file = output_dir+name.replace(' ', '_')+'_diam_result.csv'\n",
    "    if os.path.isfile(out_file) is False:\n",
    "        continue\n",
    "    count += 1\n",
    "    results = pd.read_csv(out_file)\n",
    "    min_diam = min(results['diam1'])\n",
    "    mid_diam = min(results['diam2'])\n",
    "    # print(min(results['diam1']))\n",
    "    # print(min(results['diam2']))\n",
    "    # plt.hist(results['diam1'], facecolor='k', alpha=0.4)\n",
    "    # plt.hist(results['diam2'], facecolor='r', alpha=0.4)\n",
    "    if mid_diam <= threshold:\n",
    "        print(name+':')\n",
    "        print('can diffuse')\n",
    "        print('min diameter =', round(min_diam, 3), 'angstrom')\n",
    "        print('mid diameter =', round(mid_diam, 3), 'angstrom')\n",
    "        diffuse[name] = smile\n",
    "    else:\n",
    "        print(name+':')\n",
    "        print('cannot diffuse')\n",
    "        print('min diameter =', round(min_diam, 3), 'angstrom')\n",
    "        print('mid diameter =', round(mid_diam, 3), 'angstrom')\n",
    "        no_diffuse[name] = smile\n",
    "    print('-')\n",
    "print('analyzed ', count, 'molecules')"
   ]
  },
  {
   "cell_type": "markdown",
   "metadata": {},
   "source": [
    "#### Plot categorical scatter plot"
   ]
  },
  {
   "cell_type": "code",
   "execution_count": null,
   "metadata": {
    "ExecuteTime": {
     "end_time": "2018-09-11T09:12:38.497890Z",
     "start_time": "2018-09-11T09:12:37.556985Z"
    }
   },
   "outputs": [],
   "source": [
    "threshold = float(param_dict['diffuse_threshold'])\n",
    "dx = 0.15\n",
    "fig, ax = plt.subplots(figsize=(5,5))\n",
    "for name, smile in molecules.items():\n",
    "    out_file = output_dir+name.replace(' ', '_')+'_diam_result.csv'\n",
    "    if os.path.isfile(out_file) is False:\n",
    "        continue\n",
    "    results = pd.read_csv(out_file)\n",
    "    mid_diam = min(results['diam2'])\n",
    "    if mid_diam <= threshold:\n",
    "        C = 'b'\n",
    "        M = 'o'\n",
    "        E = 'k'\n",
    "        D = 0.25\n",
    "    else:\n",
    "        C = 'r'\n",
    "        M = 'X'\n",
    "        E = 'k'\n",
    "        D = 0.75\n",
    "    ax.scatter(D+(dx*(np.random.random() - 0.5) * 2),\n",
    "               mid_diam, c=C, \n",
    "               edgecolors=E, marker=M, alpha=1.0,\n",
    "               s=100)\n",
    "    \n",
    "ax.axhline(y=threshold, c='k')\n",
    "define_plot_variables(ax,\n",
    "                      title='',\n",
    "                      xtitle='',\n",
    "                      ytitle='intermediate diameter [$\\mathrm{\\AA}$]',\n",
    "                      xlim=(0, 1),\n",
    "                      ylim=(0, 10))\n",
    "fig.tight_layout()\n",
    "fig.savefig(output_dir+\"categorical.pdf\", dpi=720,\n",
    "            bbox_inches='tight')"
   ]
  },
  {
   "cell_type": "markdown",
   "metadata": {},
   "source": [
    "#### Plot shapes"
   ]
  },
  {
   "cell_type": "code",
   "execution_count": null,
   "metadata": {
    "ExecuteTime": {
     "end_time": "2018-09-11T09:12:39.246350Z",
     "start_time": "2018-09-11T09:12:38.499789Z"
    },
    "scrolled": false
   },
   "outputs": [],
   "source": [
    "threshold = float(param_dict['diffuse_threshold'])\n",
    "fig, ax = plt.subplots(figsize=(5,5))\n",
    "for name, smile in molecules.items():\n",
    "    out_file = output_dir+name.replace(' ', '_')+'_diam_result.csv'\n",
    "    if os.path.isfile(out_file) is False:\n",
    "        continue\n",
    "    results = pd.read_csv(out_file)\n",
    "    mid_diam = min(results['diam2'])\n",
    "    if mid_diam <= threshold:\n",
    "        C = 'b'\n",
    "        M = 'o'\n",
    "        E = 'k'\n",
    "        D = 0.25\n",
    "    else:\n",
    "        C = 'r'\n",
    "        M = 'X'\n",
    "        E = 'k'\n",
    "        D = 0.75\n",
    "    ax.scatter(np.average(results['ratio_1']),\n",
    "               np.average(results['ratio_2']),\n",
    "               c=C, \n",
    "               edgecolors=E, marker=M, alpha=1.0,\n",
    "               s=100)\n",
    "    \n",
    "ax.plot([0, 0.5, 1, 0], [1, 0.5, 1, 1], c='k', lw=2)\n",
    "ax.text(0.75, 1.03, 'sphere', fontsize=20)\n",
    "ax.text(0.4, 0.45, 'oblate', fontsize=20)\n",
    "ax.text(-0.05, 1.03, 'prolate', fontsize=20)\n",
    "define_parity_plot_variables(ax,\n",
    "                             title='',\n",
    "                             xtitle='$I_1$ / $I_3$',\n",
    "                             ytitle='$I_2$ / $I_3$',\n",
    "                             xlim=(-0.1, 1.1),\n",
    "                             ylim=(0.4, 1.1))\n",
    "fig.tight_layout()\n",
    "fig.savefig(output_dir+\"shape.pdf\", dpi=720,\n",
    "            bbox_inches='tight')"
   ]
  },
  {
   "cell_type": "markdown",
   "metadata": {},
   "source": [
    "# Collect reactant-product systems \n",
    "suggest new reactions!"
   ]
  },
  {
   "cell_type": "markdown",
   "metadata": {},
   "source": [
    "### Collect all reaction systems from multiple databases\n",
    "Online."
   ]
  },
  {
   "cell_type": "code",
   "execution_count": null,
   "metadata": {
    "ExecuteTime": {
     "end_time": "2018-09-14T03:42:26.873322Z",
     "start_time": "2018-09-14T03:42:26.854953Z"
    }
   },
   "outputs": [],
   "source": [
    "# set output directory\n",
    "output_dir = '/home/atarzia/psp/screening_results/biomin_search/'\n",
    "\n",
    "# set databases to search to collect reaction systems\n",
    "# BKMS should always be last as the culmination of all DBs\n",
    "Databases = ['BRENDA', 'SABIO', 'KEGG', 'BKMS', ]\n",
    "\n",
    "# set EC numbers of interest\n",
    "EC_int = ['1.11.1.5', '1.11.1.6', '1.11.1.7', '1.9.3.1',\n",
    "          '1.1.5.2', '3.5.1.5', '1.1.3.4', '1.13.12.4',\n",
    "          '3.2.1.26', '3.1.1.3', '3.1.1.6', '3.5.1.11']\n",
    "\n",
    "# csv file with molecular output\n",
    "mol_output_file = output_dir+'screening_output.csv'\n",
    "molecule_output = DB_functions.initialize_mol_output_DF(mol_output_file, overwrite=False)"
   ]
  },
  {
   "cell_type": "code",
   "execution_count": null,
   "metadata": {
    "ExecuteTime": {
     "end_time": "2018-09-12T00:41:30.032546Z",
     "start_time": "2018-09-11T22:29:24.804593Z"
    },
    "scrolled": true
   },
   "outputs": [],
   "source": [
    "for DB in Databases:\n",
    "    # get database specific information\n",
    "    DB_prop = DB_functions.get_DB_prop(DB)\n",
    "    db_dir = DB_prop[0]\n",
    "    # iterate over EC numbers of interest\n",
    "    for EC in EC_int:\n",
    "        rxn_syst.get_reaction_systems(EC, DB, output_dir, clean_system=False)"
   ]
  },
  {
   "cell_type": "code",
   "execution_count": null,
   "metadata": {
    "ExecuteTime": {
     "end_time": "2018-09-12T00:41:30.381777Z",
     "start_time": "2018-09-12T00:41:30.034685Z"
    }
   },
   "outputs": [],
   "source": [
    "# what percentage of reaction systems have skip_rxn = False\n",
    "count = 0\n",
    "react_syst_files = glob.glob(output_dir+'sRS-*.pkl')\n",
    "for rs in rxn_syst.yield_rxn_syst(output_dir):\n",
    "    if rs.skip_rxn is False:\n",
    "        count += 1\n",
    "        \n",
    "print('-----------------------------------')\n",
    "print(count, 'reaction systems of', len(react_syst_files), 'are NOT skipped.')\n",
    "print('=>', round(count/len(react_syst_files), 4)*100, 'percent')\n",
    "print('-----------------------------------')"
   ]
  },
  {
   "cell_type": "markdown",
   "metadata": {},
   "source": [
    "### Check all reaction systems for if they fit through MOF\n",
    "Not DB dependant.\n",
    "Offline."
   ]
  },
  {
   "cell_type": "code",
   "execution_count": null,
   "metadata": {
    "ExecuteTime": {
     "end_time": "2018-09-14T01:50:32.757744Z",
     "start_time": "2018-09-14T01:50:32.716995Z"
    }
   },
   "outputs": [],
   "source": [
    "# get parameters\n",
    "param_dict = parameters.get_parameters()\n",
    "threshold = float(param_dict['diffuse_threshold'])\n",
    "react_syst_files = glob.glob(output_dir+'sRS-*.pkl')"
   ]
  },
  {
   "cell_type": "code",
   "execution_count": null,
   "metadata": {
    "ExecuteTime": {
     "end_time": "2018-09-12T06:01:20.020174Z",
     "start_time": "2018-09-12T05:30:58.473482Z"
    },
    "scrolled": true
   },
   "outputs": [],
   "source": [
    "# iterate over reaction system files\n",
    "count = 0\n",
    "for rs in rxn_syst.yield_rxn_syst(output_dir):\n",
    "    print('checking rxn', count, 'of', len(react_syst_files))\n",
    "    count += 1\n",
    "    if rs.skip_rxn is True:\n",
    "        print('skipping reaction....')\n",
    "        continue\n",
    "    \n",
    "    # define reactants and products dict\n",
    "    # name: (smile, DB, DB_ID, iupac_name, role)\n",
    "    components_dict = {}\n",
    "    \n",
    "    # ignore any reactions with unknown components\n",
    "    rs.skip_rxn = False\n",
    "    for m in rs.components:\n",
    "        if m.mol is None:\n",
    "            rs.skip_rxn = True\n",
    "    \n",
    "    if rs.skip_rxn is True:\n",
    "        print('skipping reaction - it is incomplete or generic')\n",
    "        rs.save_object(output_dir+rs.pkl)\n",
    "        continue\n",
    "    for m in rs.components:\n",
    "        # get IUPAC NAME\n",
    "        if m.iupac_name is None:\n",
    "            m.cirpy_to_iupac()\n",
    "        # remove reactions with general atoms (given by '*' in SMILES)\n",
    "        if \"*\" in m.SMILES:\n",
    "            rs.skip_rxn = True\n",
    "            print('skipping reaction - it is incomplete or generic')\n",
    "            rs.save_object(output_dir+rs.pkl)\n",
    "            break\n",
    "        components_dict[m.name] = (m.SMILES, m.DB, m.DB_ID, m.iupac_name, m.role.lower())\n",
    "    \n",
    "    # calculate molecule size of all components\n",
    "    # save to molecule output files\n",
    "    molecule_output = DB_functions.initialize_mol_output_DF(mol_output_file, overwrite=False)\n",
    "    DB_functions.get_molecule_diameters(components_dict,\n",
    "                                        molecule_output=molecule_output,\n",
    "                                        mol_output_file=mol_output_file, out_dir=output_dir,\n",
    "                                        vdwScale=0.8, boxMargin=4.0, \n",
    "                                        spacing=0.6, N_conformers=50, MW_thresh=250)\n",
    "    \n",
    "    molecule_output = DB_functions.initialize_mol_output_DF(mol_output_file, overwrite=False)\n",
    "    \n",
    "    # get diameters (should alrady be calculated) \n",
    "    # of all components of reaction\n",
    "    rs.check_all_fit(threshold, molecule_output)\n",
    "    \n",
    "    # ignore any reactions with components with no sizes\n",
    "    for m in rs.components:\n",
    "        if m.mid_diam is None or m.mid_diam == 0:\n",
    "            rs.skip_rxn = True\n",
    "    rs.save_object(output_dir+rs.pkl)\n",
    "    print('-----------------------------------')"
   ]
  },
  {
   "cell_type": "code",
   "execution_count": null,
   "metadata": {
    "ExecuteTime": {
     "end_time": "2018-09-12T06:33:00.723257Z",
     "start_time": "2018-09-12T06:33:00.386949Z"
    }
   },
   "outputs": [],
   "source": [
    "# what percentage of reaction systems have skip_rxn = False\n",
    "count = 0\n",
    "react_syst_files = glob.glob(output_dir+'sRS-*.pkl')\n",
    "for rs in rxn_syst.yield_rxn_syst(output_dir):\n",
    "    if rs.skip_rxn is False:\n",
    "        count += 1\n",
    "        \n",
    "print('-----------------------------------')\n",
    "print(count, 'reaction systems of', len(react_syst_files), 'are NOT skipped.')\n",
    "print('=>', round(count/len(react_syst_files), 4)*100, 'percent')\n",
    "print('-----------------------------------')"
   ]
  },
  {
   "cell_type": "markdown",
   "metadata": {},
   "source": [
    "### Get subset of reaction systems that fit, with known protein sequences and checks if MOF can be seeded\n",
    "DB dependant.\n",
    "Online collection of Uniprot sequence."
   ]
  },
  {
   "cell_type": "code",
   "execution_count": null,
   "metadata": {
    "ExecuteTime": {
     "end_time": "2018-09-12T06:33:01.744401Z",
     "start_time": "2018-09-12T06:33:01.727131Z"
    }
   },
   "outputs": [],
   "source": [
    "param_dict = parameters.get_parameters()\n",
    "react_syst_files = glob.glob(output_dir+'sRS-*.pkl')"
   ]
  },
  {
   "cell_type": "code",
   "execution_count": null,
   "metadata": {
    "ExecuteTime": {
     "end_time": "2018-09-12T06:39:05.970876Z",
     "start_time": "2018-09-12T06:33:05.164778Z"
    },
    "scrolled": true
   },
   "outputs": [],
   "source": [
    "# iterate over reaction system files\n",
    "count = 0\n",
    "for rs in rxn_syst.yield_rxn_syst(output_dir):\n",
    "    count += 1\n",
    "    if rs.skip_rxn is True:\n",
    "        continue\n",
    "    # this is only possible for reaction systems with UNIPROT ID\n",
    "    if rs.UniprotID is None or rs.UniprotID == '':\n",
    "        continue\n",
    "    # pI already checked?\n",
    "    if rs.seed_MOF is not None:\n",
    "        continue\n",
    "    print('checking rxn', count, 'of', len(react_syst_files))        \n",
    "    # split UniprotID for the cases where multiple subunits exist\n",
    "    IDs = rs.UniprotID.split(\" \")\n",
    "    print('Uniprot IDs:', IDs)\n",
    "    if len(IDs) > 0:\n",
    "        # iterate over all UniProtIDs\n",
    "        # assume all sequences require pI < cutoff for MOF growth\n",
    "        # this is done by collating all sequences\n",
    "        total_sequence = ''\n",
    "        for i in IDs:\n",
    "            sequence = Uniprot_IO.get_sequence(i)\n",
    "            total_sequence += sequence\n",
    "        rs = pi_fn.calculate_rxn_syst_pI(total_sequence, rs, param_dict=param_dict)\n",
    "        rs.save_object(output_dir+rs.pkl)\n",
    "        print('seed MOF?', rs.seed_MOF)\n",
    "    else:\n",
    "        rs.save_object(output_dir+rs.pkl)\n",
    "        print('seed MOF?', rs.seed_MOF)\n",
    "    print('-----------------------------------')"
   ]
  },
  {
   "cell_type": "markdown",
   "metadata": {},
   "source": [
    "### Get/calculate molecular properties using RDKIT\n",
    "- RDKIT:\n",
    "    - synthetic accesibility: https://www.ncbi.nlm.nih.gov/pmc/articles/PMC3225829/ (1 = easy to make, 10 = harder)\n",
    "    - logP (hydrophobicity): https://pubs.acs.org/doi/10.1021/ci990307l (smaller = more hydrophilic)"
   ]
  },
  {
   "cell_type": "code",
   "execution_count": null,
   "metadata": {
    "ExecuteTime": {
     "end_time": "2018-09-14T03:42:33.855012Z",
     "start_time": "2018-09-14T03:42:33.848058Z"
    }
   },
   "outputs": [],
   "source": [
    "molecule_output = DB_functions.initialize_mol_output_DF(mol_output_file, overwrite=False)"
   ]
  },
  {
   "cell_type": "code",
   "execution_count": null,
   "metadata": {
    "ExecuteTime": {
     "end_time": "2018-09-14T03:44:40.194440Z",
     "start_time": "2018-09-14T03:44:34.741838Z"
    },
    "scrolled": true
   },
   "outputs": [],
   "source": [
    "fig1, ax1 = plt.subplots(figsize=(8,5))\n",
    "fig2, ax2 = plt.subplots(figsize=(8,5))\n",
    "\n",
    "for idx, row in molecule_output.iterrows():\n",
    "    name = row['name']\n",
    "    smiles = row['SMILE']\n",
    "    if row['mid_diam'] == 0:\n",
    "        continue\n",
    "    mol = Chem.MolFromSmiles(smiles)\n",
    "    mol = Chem.AddHs(mol)\n",
    "    #print('-------------------------------------')\n",
    "    #print('molecule:', name)\n",
    "    logP = Descriptors.MolLogP(mol, includeHs=True)\n",
    "    #print('logP =', logP)\n",
    "    SA = molecule.get_SynthA_score(mol)\n",
    "    #print('synthetic accesibility =', SA)\n",
    "    # print(name,'__',logP,'__',SA)\n",
    "    #print('-------------------------------------')\n",
    "    if logP <= 0:\n",
    "        C = 'b'\n",
    "    else:\n",
    "        C = 'r'\n",
    "    ax1.scatter(logP,\n",
    "                row['mid_diam'], c=C, \n",
    "                edgecolors='k', marker='o', alpha=1.0,\n",
    "                s=100)\n",
    "    ax2.scatter(SA,\n",
    "                row['mid_diam'], c='purple', \n",
    "                edgecolors='k', marker='o', alpha=1.0,\n",
    "                s=100)\n",
    "    \n",
    "\n",
    "ax1.tick_params(axis='both', which='major', labelsize=16)\n",
    "ax1.set_xlabel('logP', fontsize=16)\n",
    "ax1.set_ylabel('intermediate diameter [$\\mathrm{\\AA}$]', fontsize=16)\n",
    "ax1.set_xlim(-10, 10)\n",
    "ax1.set_ylim(0, 15)\n",
    "    \n",
    "ax2.tick_params(axis='both', which='major', labelsize=16)\n",
    "ax2.set_xlabel('synthetic accessibility', fontsize=16)\n",
    "ax2.set_ylabel('intermediate diameter [$\\mathrm{\\AA}$]', fontsize=16)\n",
    "ax2.set_xlim(0, 10)\n",
    "ax2.set_ylim(0, 15)\n",
    "    \n",
    "fig1.tight_layout()\n",
    "fig1.savefig(output_dir+\"logP_scatter.pdf\",\n",
    "             dpi=720, bbox_inches='tight')\n",
    "fig2.tight_layout()\n",
    "fig2.savefig(output_dir+\"SA_scatter.pdf\",\n",
    "             dpi=720, bbox_inches='tight')"
   ]
  },
  {
   "cell_type": "markdown",
   "metadata": {},
   "source": [
    "## Output"
   ]
  },
  {
   "cell_type": "markdown",
   "metadata": {},
   "source": [
    "### percentage of reaction systems with sequence data?"
   ]
  },
  {
   "cell_type": "code",
   "execution_count": null,
   "metadata": {
    "ExecuteTime": {
     "end_time": "2018-09-12T06:39:06.186822Z",
     "start_time": "2018-09-12T06:39:05.975979Z"
    }
   },
   "outputs": [],
   "source": [
    "count = 0\n",
    "react_syst_files = glob.glob(output_dir+'sRS-*.pkl')\n",
    "for rs in rxn_syst.yield_rxn_syst(output_dir):\n",
    "    # this is only possible for reaction systems with UNIPROT ID\n",
    "    if rs.UniprotID != '':\n",
    "        if rs.UniprotID != None:\n",
    "            count += 1\n",
    "        \n",
    "print('-----------------------------------')\n",
    "print(count, 'reaction systems of', len(react_syst_files), 'had a sequence.')\n",
    "print('=>', round(count/len(react_syst_files), 4)*100, 'percent')\n",
    "print('-----------------------------------')"
   ]
  },
  {
   "cell_type": "markdown",
   "metadata": {},
   "source": [
    "### Plot distribution of all pI values for reaction systems"
   ]
  },
  {
   "cell_type": "code",
   "execution_count": null,
   "metadata": {
    "ExecuteTime": {
     "end_time": "2018-09-12T07:07:04.097880Z",
     "start_time": "2018-09-12T07:07:04.085455Z"
    }
   },
   "outputs": [],
   "source": [
    "react_syst_files = glob.glob(output_dir+'sRS-*.pkl')"
   ]
  },
  {
   "cell_type": "code",
   "execution_count": null,
   "metadata": {
    "ExecuteTime": {
     "end_time": "2018-09-12T11:40:28.786877Z",
     "start_time": "2018-09-12T11:38:56.264704Z"
    }
   },
   "outputs": [],
   "source": [
    "fig, ax = plt.subplots(figsize=(8,5))\n",
    "native_pi = []\n",
    "succ_pi = []\n",
    "count = 0\n",
    "for rs in rxn_syst.yield_rxn_syst(output_dir):  \n",
    "    print('checking rxn', count, 'of', len(react_syst_files))\n",
    "    count += 1\n",
    "    # collect pIs of all sequences even if reaction is skipped elsewhere\n",
    "    if rs.skip_rxn is True and rs.UniprotID != '' and rs.UniprotID != None:\n",
    "        try:\n",
    "            pI = rs.pI\n",
    "        except AttributeError:\n",
    "            print('calculating pI')\n",
    "            IDs = rs.UniprotID.split(\" \")\n",
    "            total_sequence = ''\n",
    "            for i in IDs:\n",
    "                sequence = Uniprot_IO.get_sequence(i)\n",
    "                total_sequence += sequence\n",
    "            rs = pi_fn.calculate_rxn_syst_pI(total_sequence, rs, param_dict=param_dict)\n",
    "            rs.save_object(output_dir+rs.pkl)\n",
    "    \n",
    "    if rs.UniprotID != '' and rs.UniprotID != None:\n",
    "        if rs.req_mod == None:\n",
    "            native_pi.append(rs.pI)\n",
    "        else:\n",
    "            succ_pi.append(rs.pI)\n",
    "        \n",
    "ax.hist(native_pi,\n",
    "        facecolor='k',\n",
    "        alpha=0.5,\n",
    "        histtype='stepfilled',\n",
    "        bins=np.arange(0, 14 + 0.2, 0.5),\n",
    "        label='unmodified')\n",
    "\n",
    "ax.hist(succ_pi,\n",
    "        facecolor='firebrick',\n",
    "        alpha=0.5,\n",
    "        histtype='stepfilled',\n",
    "        bins=np.arange(0, 14 + 0.2, 0.5),\n",
    "        label='succinylated')\n",
    "\n",
    "ax.tick_params(axis='both', which='major', labelsize=16)\n",
    "ax.set_xlabel('calculated pI', fontsize=16)\n",
    "ax.set_ylabel('count', fontsize=16)\n",
    "ax.set_xlim(0, 14)\n",
    "# plot pI cut-off\n",
    "ax.axvline(x=param_dict['cutoff_pi'], c='k', lw='2', linestyle='--')\n",
    "# legend\n",
    "ax.legend(fontsize=16)\n",
    "\n",
    "fig.tight_layout()\n",
    "fig.savefig(output_dir+\"pI_dist.pdf\",\n",
    "            dpi=720, bbox_inches='tight')"
   ]
  },
  {
   "cell_type": "markdown",
   "metadata": {},
   "source": [
    "### Plot pI vs maximum component size"
   ]
  },
  {
   "cell_type": "code",
   "execution_count": null,
   "metadata": {
    "ExecuteTime": {
     "end_time": "2018-09-12T11:41:43.437869Z",
     "start_time": "2018-09-12T11:41:43.407675Z"
    },
    "code_folding": []
   },
   "outputs": [],
   "source": [
    "def define_plot_variables(ax, title, ytitle, xtitle, xlim, ylim):\n",
    "    \"\"\"\n",
    "    Series of matplotlib pyplot settings to make all plots unitform.\n",
    "    \"\"\"\n",
    "    # Set number of ticks for x-axis\n",
    "    ax.tick_params(axis='both', which='major', labelsize=16)\n",
    "    ax.set_xlabel(xtitle, fontsize=16)\n",
    "    ax.set_ylabel(ytitle, fontsize=16)\n",
    "    # ax.legend([y, n], ['aligned', 'not aligned'], loc=4, fancybox=True)\n",
    "    ax.set_xlim(xlim)\n",
    "    ax.set_ylim(ylim)\n"
   ]
  },
  {
   "cell_type": "code",
   "execution_count": null,
   "metadata": {
    "ExecuteTime": {
     "end_time": "2018-09-12T11:41:45.678509Z",
     "start_time": "2018-09-12T11:41:43.539059Z"
    }
   },
   "outputs": [],
   "source": [
    "fig, ax = plt.subplots(figsize=(8,5))\n",
    "# iterate over reaction system files\n",
    "for rs in rxn_syst.yield_rxn_syst(output_dir):\n",
    "    if rs.skip_rxn is True:\n",
    "        continue\n",
    "        \n",
    "    if rs.seed_MOF is None:\n",
    "        continue\n",
    "    \n",
    "    if rs.all_fit is True and rs.seed_MOF is True:\n",
    "        M = 'o'\n",
    "        if rs.req_mod is not None:\n",
    "            C = 'orange'\n",
    "        else:\n",
    "            C = 'b'\n",
    "        E = 'k'\n",
    "    else:\n",
    "        #if rs.pI < 6 or rs.max_comp_size < 4.2:\n",
    "        #    print(rs.seed_MOF, rs.all_fit, rs.pkl, rs.pI, rs.max_comp_size)\n",
    "        #    input('done')\n",
    "        M = 'o'\n",
    "        C = 'r'\n",
    "        E = 'k'\n",
    "        \n",
    "    ax.scatter(rs.pI,\n",
    "               rs.max_comp_size, c=C, \n",
    "               edgecolors=E, marker=M, alpha=1.0,\n",
    "               s=100)\n",
    "    \n",
    "# decoy legend\n",
    "ax.scatter(-100, 100,\n",
    "           c='b', \n",
    "           edgecolors=E,\n",
    "           marker='o', \n",
    "           alpha=1.0,\n",
    "           s=100,\n",
    "           label='candidate - native')\n",
    "ax.scatter(-100, 100,\n",
    "           c='orange',\n",
    "           edgecolors=E,\n",
    "           marker='o',\n",
    "           alpha=1,\n",
    "           s=100,\n",
    "           label='candidate - modified')\n",
    "ax.scatter(-100, 100,\n",
    "           c='r',\n",
    "           edgecolors=E,\n",
    "           marker='x',\n",
    "           alpha=1,\n",
    "           s=100,\n",
    "           label='non-candidate')\n",
    "\n",
    "ax.legend(loc=1, fontsize=12)\n",
    "\n",
    "ax.axhline(y=threshold, c='k')\n",
    "ax.axvline(x=param_dict['cutoff_pi'], c='k')\n",
    "define_plot_variables(ax,\n",
    "                      title='',\n",
    "                      xtitle='pI',\n",
    "                      ytitle='diameter of largest component [$\\mathrm{\\AA}$]',\n",
    "                      xlim=(0, 14),\n",
    "                      ylim=(0, 10))\n",
    "fig.tight_layout()\n",
    "fig.savefig(output_dir+\"size_vs_pI.pdf\", dpi=720,\n",
    "            bbox_inches='tight')"
   ]
  },
  {
   "cell_type": "markdown",
   "metadata": {},
   "source": [
    "### Plot # of reactions vs threshold value"
   ]
  },
  {
   "cell_type": "code",
   "execution_count": null,
   "metadata": {
    "ExecuteTime": {
     "end_time": "2018-09-12T11:41:45.693389Z",
     "start_time": "2018-09-12T11:41:45.680737Z"
    },
    "code_folding": []
   },
   "outputs": [],
   "source": [
    "def define_plot_variables(ax, title, ytitle, xtitle, xlim, ylim):\n",
    "    \"\"\"\n",
    "    Series of matplotlib pyplot settings to make all plots unitform.\n",
    "    \"\"\"\n",
    "    # Set number of ticks for x-axis\n",
    "    ax.tick_params(axis='both', which='major', labelsize=16)\n",
    "\n",
    "    ax.set_xlabel(xtitle, fontsize=16)\n",
    "    ax.set_ylabel(ytitle, fontsize=16)\n",
    "    # ax.legend([y, n], ['aligned', 'not aligned'], loc=4, fancybox=True)\n",
    "    ax.set_xlim(xlim)\n",
    "    ax.set_ylim(ylim)\n"
   ]
  },
  {
   "cell_type": "code",
   "execution_count": null,
   "metadata": {
    "ExecuteTime": {
     "end_time": "2018-09-12T11:41:46.396252Z",
     "start_time": "2018-09-12T11:41:45.695999Z"
    }
   },
   "outputs": [],
   "source": [
    "fig, ax = plt.subplots(figsize=(8,5))\n",
    "max_sizes = []\n",
    "reaction_reported = [] \n",
    "# iterate over reaction system files\n",
    "for rs in rxn_syst.yield_rxn_syst(output_dir):\n",
    "    if rs.skip_rxn is True:\n",
    "        continue\n",
    "    # get list of SMILES of all components\n",
    "    r_smiles = []\n",
    "    r_MW = []\n",
    "    for r in rs.components:\n",
    "        r_smiles.append(r.SMILES)\n",
    "        r_MW.append(Descriptors.MolWt(r.mol))\n",
    "    r_smiles = [x for _, x in sorted(zip(r_MW, r_smiles))]\n",
    "    if r_smiles in reaction_reported:\n",
    "        continue\n",
    "    else:\n",
    "        reaction_reported.append(r_smiles)\n",
    "    try:\n",
    "        if rs.max_comp_size > 0:\n",
    "            max_sizes.append(rs.max_comp_size)\n",
    "    except AttributeError:\n",
    "        pass\n",
    "\n",
    "    \n",
    "max_sizes = np.asarray(max_sizes)\n",
    "counts = []\n",
    "threshs = np.arange(0.1, 21, 0.5)\n",
    "for thr in threshs:\n",
    "    count_above = len(max_sizes[max_sizes < thr])\n",
    "    counts.append(count_above)\n",
    "    \n",
    "ax.bar(threshs, counts, align='center', alpha=0.5, width=0.2)\n",
    "\n",
    "ax.axvline(x=threshold, c='k')\n",
    "\n",
    "define_plot_variables(ax,\n",
    "                      title='',\n",
    "                      xtitle='threshold',\n",
    "                      ytitle='# reactions',\n",
    "                      xlim=(0, 11),\n",
    "                      ylim=(0, max(counts)+10))\n",
    "fig.tight_layout()\n",
    "fig.savefig(output_dir+\"size_vs_threshold.pdf\", dpi=720,\n",
    "            bbox_inches='tight')"
   ]
  },
  {
   "cell_type": "markdown",
   "metadata": {},
   "source": [
    "### Categorize all molecules in output file"
   ]
  },
  {
   "cell_type": "code",
   "execution_count": null,
   "metadata": {
    "ExecuteTime": {
     "end_time": "2018-09-12T11:41:46.410867Z",
     "start_time": "2018-09-12T11:41:46.399889Z"
    }
   },
   "outputs": [],
   "source": [
    "def define_plot_variables(ax, title, ytitle, xtitle, xlim, ylim):\n",
    "    \"\"\"\n",
    "    Series of matplotlib pyplot settings to make all plots unitform.\n",
    "    \"\"\"\n",
    "    # Set number of ticks for x-axis\n",
    "    ax.tick_params(axis='both', which='major', labelsize=16)\n",
    "\n",
    "    ax.set_ylabel(ytitle, fontsize=16)\n",
    "    # ax.legend([y, n], ['aligned', 'not aligned'], loc=4, fancybox=True)\n",
    "    ax.set_xlim(xlim)\n",
    "    ax.set_ylim(ylim)\n",
    "    ax.set_xticklabels(['diffuses', 'does not diffuse'])\n",
    "    ax.set_xticks([0.25, 0.75])"
   ]
  },
  {
   "cell_type": "code",
   "execution_count": null,
   "metadata": {
    "ExecuteTime": {
     "end_time": "2018-09-12T11:41:46.435486Z",
     "start_time": "2018-09-12T11:41:46.412728Z"
    }
   },
   "outputs": [],
   "source": [
    "molecule_output = DB_functions.initialize_mol_output_DF(mol_output_file, overwrite=False)"
   ]
  },
  {
   "cell_type": "code",
   "execution_count": null,
   "metadata": {
    "ExecuteTime": {
     "end_time": "2018-09-12T11:41:48.350647Z",
     "start_time": "2018-09-12T11:41:46.439111Z"
    }
   },
   "outputs": [],
   "source": [
    "dx = 0.15\n",
    "fig, ax = plt.subplots(figsize=(5,5))\n",
    "for idx, row in molecule_output.iterrows():\n",
    "    mid_diam = row['mid_diam']\n",
    "    if mid_diam == 0:\n",
    "        continue\n",
    "    if mid_diam <= threshold:\n",
    "        M = 'o'\n",
    "        E = 'k'\n",
    "        D = 0.25\n",
    "        print('unique molecule that fits:', row['name'], \n",
    "              '- DB:', row['DB'], '- ID:', row['DB_ID'])\n",
    "    else:\n",
    "        M = 'o'\n",
    "        E = 'k'\n",
    "        D = 0.75\n",
    "    \n",
    "    # set colour based on role\n",
    "    if row['role'] == 'reactant':\n",
    "        C = 'b'\n",
    "    elif row['role'] == 'product':\n",
    "        C = 'r'\n",
    "    elif row['role'] == 'both':\n",
    "        C = 'purple'\n",
    "    \n",
    "    ax.scatter(D+(dx*(np.random.random() - 0.5) * 2),\n",
    "               mid_diam, c=C, \n",
    "               edgecolors=E, marker=M, alpha=1.0,\n",
    "               s=100)\n",
    "    \n",
    "# decoy legend\n",
    "ax.scatter(-100, 100,\n",
    "           c='b', \n",
    "           edgecolors=E, marker='o', alpha=1.0,\n",
    "           s=100,\n",
    "           label='reactant')\n",
    "ax.scatter(-100, 100,\n",
    "           c='r', \n",
    "           edgecolors=E, marker='o', alpha=1.0,\n",
    "           s=100,\n",
    "           label='product')\n",
    "ax.scatter(-100, 100,\n",
    "           c='purple', \n",
    "           edgecolors=E, marker='o', alpha=1.0,\n",
    "           s=100,\n",
    "           label='both')\n",
    "\n",
    "ax.legend(loc=2, fontsize=12)\n",
    "\n",
    "ax.axhline(y=threshold, c='k')\n",
    "ax.axvline(x=0.5, c='k', alpha=0.3)\n",
    "define_plot_variables(ax,\n",
    "                      title='',\n",
    "                      xtitle='',\n",
    "                      ytitle='intermediate diameter [$\\mathrm{\\AA}$]',\n",
    "                      xlim=(0, 1),\n",
    "                      ylim=(0, 10))\n",
    "fig.tight_layout()\n",
    "fig.savefig(output_dir+\"categorical.pdf\", dpi=720,\n",
    "            bbox_inches='tight')"
   ]
  },
  {
   "cell_type": "code",
   "execution_count": null,
   "metadata": {
    "ExecuteTime": {
     "end_time": "2018-09-12T11:41:48.451350Z",
     "start_time": "2018-09-12T11:41:48.352622Z"
    }
   },
   "outputs": [],
   "source": [
    "molecule_output"
   ]
  },
  {
   "cell_type": "markdown",
   "metadata": {},
   "source": [
    "### print all reactions that fit"
   ]
  },
  {
   "cell_type": "code",
   "execution_count": null,
   "metadata": {
    "ExecuteTime": {
     "end_time": "2018-09-12T11:41:48.781149Z",
     "start_time": "2018-09-12T11:41:48.453836Z"
    }
   },
   "outputs": [],
   "source": [
    "reaction_reported = []\n",
    "# iterate over reaction system files\n",
    "for rs in rxn_syst.yield_rxn_syst(output_dir):\n",
    "    if rs.skip_rxn is True:\n",
    "        continue\n",
    "    # get list of SMILES of all components\n",
    "    r_smiles = []\n",
    "    r_MW = []\n",
    "    for r in rs.components:\n",
    "        r_smiles.append(r.SMILES)\n",
    "        r_MW.append(Descriptors.MolWt(r.mol))\n",
    "    r_smiles = [x for _, x in sorted(zip(r_MW, r_smiles))]\n",
    "    if r_smiles in reaction_reported:\n",
    "        continue\n",
    "    else:\n",
    "        reaction_reported.append(r_smiles)\n",
    "    if rs.all_fit is True:\n",
    "        count += 1\n",
    "        print(\"New Reaction:\")\n",
    "        rs.print_rxn_system()\n",
    "        \n",
    "print(\"There are\", count, \"new reactions!\")"
   ]
  },
  {
   "cell_type": "markdown",
   "metadata": {},
   "source": [
    "## Timing Information"
   ]
  },
  {
   "cell_type": "markdown",
   "metadata": {},
   "source": [
    "#### pI screening - all sequences in BRENDA"
   ]
  },
  {
   "cell_type": "code",
   "execution_count": null,
   "metadata": {
    "ExecuteTime": {
     "end_time": "2018-09-12T11:41:48.967670Z",
     "start_time": "2018-09-12T11:41:48.783090Z"
    }
   },
   "outputs": [],
   "source": [
    "times = [0.74, 8.18, 4.85, 0.13, 0.02, 0.78, \n",
    "         0.62, 7.42, 4.26, 0.11, 0.01, 0.67, \n",
    "         300.89, 1.81, 0.03, 1.82, 0.44, 5.56]\n",
    "seqs = [2220, 22068, 16288, 379, 36, 1765, 2220,\n",
    "        22068, 16288, 379, 36, 1765, 1253592,\n",
    "        6487, 80, 5665, 1098, 23660]\n",
    "plt.scatter(times, seqs, c='k')\n",
    "plt.xlabel('time (s)')\n",
    "plt.ylabel('no. sequences')\n",
    "plt.xlim(0, 15)\n",
    "plt.ylim(0, 30000)"
   ]
  },
  {
   "cell_type": "markdown",
   "metadata": {},
   "source": [
    "#### molecule screening"
   ]
  },
  {
   "cell_type": "code",
   "execution_count": null,
   "metadata": {
    "ExecuteTime": {
     "end_time": "2018-09-12T11:41:48.981205Z",
     "start_time": "2018-09-12T11:41:48.969854Z"
    }
   },
   "outputs": [],
   "source": [
    "print('time taken to do molecule screening:')\n",
    "print('collect reaction systems:', 1*60*60 + 47*60 + 34, 's')\n",
    "print('accessibility:', 1*60*60 + 0*60 + 49, 's')\n",
    "print('pI analysis:', 0*60*60 + 7*60 + 55, 's')\n",
    "print('total:', 2*60*60 + 54*60 + 34 + 49 + 55, 's ==', (2*60*60 + 54*60 + 34 + 49 + 55) / 60 / 60, 'h')"
   ]
  },
  {
   "cell_type": "code",
   "execution_count": null,
   "metadata": {},
   "outputs": [],
   "source": []
  }
 ],
 "metadata": {
  "kernel_info": {
   "name": "python3"
  },
  "kernelspec": {
   "display_name": "Python 3",
   "language": "python",
   "name": "python3"
  },
  "language_info": {
   "codemirror_mode": {
    "name": "ipython",
    "version": 3
   },
   "file_extension": ".py",
   "mimetype": "text/x-python",
   "name": "python",
   "nbconvert_exporter": "python",
   "pygments_lexer": "ipython3",
   "version": "3.6.5"
  },
  "nteract": {
   "version": "0.11.6"
  }
 },
 "nbformat": 4,
 "nbformat_minor": 2
}
