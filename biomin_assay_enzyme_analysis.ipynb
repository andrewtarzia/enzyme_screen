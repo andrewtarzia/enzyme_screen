{
 "cells": [
  {
   "cell_type": "code",
   "execution_count": 1,
   "metadata": {
    "ExecuteTime": {
     "end_time": "2018-08-16T14:19:24.249020Z",
     "start_time": "2018-08-16T14:19:24.204188Z"
    }
   },
   "outputs": [
    {
     "data": {
      "text/html": [
       "<style>.container { width:95% !important; }</style>"
      ],
      "text/plain": [
       "<IPython.core.display.HTML object>"
      ]
     },
     "metadata": {},
     "output_type": "display_data"
    }
   ],
   "source": [
    "from IPython.core.display import HTML\n",
    "display(HTML(\"<style>.container { width:95% !important; }</style>\"))\n",
    "%load_ext autoreload\n",
    "%autoreload 1"
   ]
  },
  {
   "cell_type": "markdown",
   "metadata": {},
   "source": [
    "Author: Andrew Tarzia\n",
    "\n",
    "Date Created: 05 Aug 2018\n",
    "\n",
    "License:"
   ]
  },
  {
   "cell_type": "markdown",
   "metadata": {},
   "source": [
    "# Notebook to analyse all enzymes used in ZIF-8 experiments using BRENDA database\n",
    "\n",
    "TODO:\n",
    "- add license\n",
    "- modifications\n",
    "    - introduce exposure consideration\n",
    "        - get another method for calculating exposure without structure?\n",
    "    - generalise code to multiple target residues (\"targ = convert_to_one_letter_code_sing('target_res')\" needs to act on a list"
   ]
  },
  {
   "cell_type": "code",
   "execution_count": 2,
   "metadata": {
    "ExecuteTime": {
     "end_time": "2018-08-16T14:19:26.038236Z",
     "start_time": "2018-08-16T14:19:25.309231Z"
    }
   },
   "outputs": [],
   "source": [
    "import os\n",
    "import glob\n",
    "import pandas as pd\n",
    "import matplotlib.pyplot as plt\n",
    "from Bio import SeqIO\n",
    "from Bio.SeqUtils.ProtParam import ProteinAnalysis\n",
    "from Bio.Alphabet import IUPAC\n",
    "from rdkit.Chem.Draw import IPythonConsole  # to show molecules in notebook\n",
    "import time\n",
    "import numpy as np\n",
    "# ensure cpickle usage\n",
    "try:\n",
    "    import cPickle as pickle\n",
    "except ModuleNotFoundError:\n",
    "    import pickle\n",
    "from rdkit.Chem import AllChem as Chem\n",
    "from rdkit.Chem import Descriptors\n",
    "from rdkit.Chem.Descriptors3D import NPR1, NPR2, PMI1, PMI2, PMI3\n",
    "from rdkit.Chem.Draw.MolDrawing import MolDrawing\n",
    "from rdkit.Chem.Draw import IPythonConsole\n",
    "from rdkit.Chem import Draw\n",
    "from rdkit.Geometry import rdGeometry\n",
    "from rdkit.Chem import PyMol\n",
    "from rdkit import Geometry\n",
    "import tempfile\n",
    "%aimport pi_fn\n",
    "%aimport parameters\n",
    "%aimport brenda_IO\n",
    "%aimport SABIO_IO\n",
    "%aimport rdkit_functions\n",
    "%aimport ellipsoid"
   ]
  },
  {
   "cell_type": "markdown",
   "metadata": {},
   "source": [
    "# Calculate pI of all sequences in EC No. used in literature\n",
    "## Produces distribution for each EC No.\n",
    "\n",
    "## Notes:\n",
    "### Biopython:\n",
    "- pK values and the methods are taken from::\n",
    "    * Bjellqvist, B.,Hughes, G.J., Pasquali, Ch., Paquet, N., Ravier, F.,\n",
    "    Sanchez, J.-Ch., Frutiger, S. & Hochstrasser, D.F.\n",
    "    The focusing positions of polypeptides in immobilized pH gradients can be\n",
    "    predicted from their amino acid sequences. Electrophoresis 1993, 14,\n",
    "    1023-1031.\n",
    "    * Bjellqvist, B., Basse, B., Olsen, E. and Celis, J.E.\n",
    "    Reference points for comparisons of two-dimensional maps of proteins from\n",
    "    different human cell types defined in a pH scale where isoelectric points\n",
    "    correlate with polypeptide compositions. Electrophoresis 1994, 15, 529-539.\n",
    "\n",
    "|  AA | pKa  |\n",
    "|-----|------|\n",
    "| ASP | 4.05 |\n",
    "| GLU | 4.45 |\n",
    "| HIS | 5.98 |\n",
    "| CYS | 9.00 |\n",
    "| TYR | 10.0 |\n",
    "| LYS | 10.0 |\n",
    "| ARG | 12.0 |\n",
    "| N-terminus | 7.50 |\n",
    "| N-terminus : GLU | 7.7 |\n",
    "| N-terminus : VAL | 7.44 |\n",
    "| N-terminus : THR | 6.82 |\n",
    "| N-terminus : PRO | 8.36 |\n",
    "| N-terminus : SER | 6.93 |\n",
    "| N-terminus : MET | 7.00 |\n",
    "| N-terminus : ALA | 7.59 |\n",
    "| C-terminus | 3.55 |\n",
    "| C-terminus : ASP | 4.55 |\n",
    "| C-terminus : GLU | 4.75 |\n",
    "\n",
    "- with the above pKas and the data set in Tash's paper (DOI:) we apply a pI cut off = XX.\n",
    "\n",
    "\n",
    "### Modified pIs:\n",
    "- assuming sequence only and therefore cannot use DSSP to calculate exposure"
   ]
  },
  {
   "cell_type": "code",
   "execution_count": 3,
   "metadata": {
    "ExecuteTime": {
     "end_time": "2018-08-16T14:19:27.985708Z",
     "start_time": "2018-08-16T14:19:27.980571Z"
    }
   },
   "outputs": [],
   "source": [
    "# get parameters\n",
    "param_dict = parameters.get_parameters()\n",
    "\n",
    "# input parameters\n",
    "database_directory = '/home/atarzia/psp/sequence_db/bio_min_dataset/'\n",
    "output_dir = database_directory"
   ]
  },
  {
   "cell_type": "code",
   "execution_count": 4,
   "metadata": {
    "ExecuteTime": {
     "end_time": "2018-08-16T14:19:28.760771Z",
     "start_time": "2018-08-16T14:19:28.727348Z"
    }
   },
   "outputs": [],
   "source": [
    "# set EC numbers of interest based on dataset\n",
    "# 'none' in species lists implies species was not given with literature report.\n",
    "EC_set = {\n",
    "    # EC : species list\n",
    "    '1.11.1.5': ['equus caballus', ],\n",
    "    '1.11.1.6': ['bos taurus', ],\n",
    "    '1.11.1.7': ['armoracia rusticana', ],\n",
    "    '1.9.3.1': ['equus caballus', ],\n",
    "    '1.1.5.2': ['none', ],\n",
    "    '3.5.1.5': ['canavalia ensiformis'],\n",
    "    '1.1.3.4': ['aspergillus niger'],\n",
    "    '1.13.12.4': ['none'],\n",
    "    '3.2.1.26': ['none'],\n",
    "    '3.1.1.3': ['thermomyces lanuginosus', 'alcaligenes sp.',\n",
    "                'pseudomonas fluorescens',\n",
    "                'rhizomucor miehei', 'candida antarctica',\n",
    "                'aspergillus niger'],\n",
    "    '3.1.1.6': ['lactobacillus acidophilus'],\n",
    "    '3.5.1.11': ['none'],\n",
    "    }"
   ]
  },
  {
   "cell_type": "code",
   "execution_count": 7,
   "metadata": {
    "ExecuteTime": {
     "end_time": "2018-08-16T14:20:33.753667Z",
     "start_time": "2018-08-16T14:20:28.400919Z"
    }
   },
   "outputs": [
    {
     "name": "stdout",
     "output_type": "stream",
     "text": [
      "databases:\n",
      "-- 1_11_1_5__BRENDA_sequences.fasta\n",
      "-- 1_11_1_6__BRENDA_sequences.fasta\n",
      "-- 1_11_1_7__BRENDA_sequences.fasta\n",
      "-- 1_13_12_4__BRENDA_sequences.fasta\n",
      "-- 1_1_3_4__BRENDA_sequences.fasta\n",
      "-- 1_1_5_2__BRENDA_sequences.fasta\n",
      "-- 1_9_3_1__BRENDA_sequences.fasta\n",
      "-- 3_1_1_3__BRENDA_sequences.fasta\n",
      "-- 3_1_1_6__BRENDA_sequences.fasta\n",
      "-- 3_2_1_26__BRENDA_sequences.fasta\n",
      "-- 3_5_1_11__BRENDA_sequences.fasta\n",
      "-- 3_5_1_5__BRENDA_sequences.fasta\n",
      "redo pI calculation (True = yes, False = no)True\n"
     ]
    }
   ],
   "source": [
    "# get input FASTA file names\n",
    "database_names = []\n",
    "for i in glob.glob(database_directory+\"*fasta\"):\n",
    "    if \"_mod\" not in i:\n",
    "        database_names.append(i)\n",
    "database_names = sorted(database_names)\n",
    "print('databases:')\n",
    "for i in database_names:\n",
    "    print('--', i.replace(database_directory, ''))\n",
    "\n",
    "# prepare output CSV file\n",
    "redo_pi = input('redo pI calculation (True = yes, False = no)')\n",
    "if redo_pi == 'True':\n",
    "    redo_pi = True\n",
    "    pi_fn.prepare_out_csv(output_dir, param_dict)\n",
    "    # fix formatting of FASTA files to match BIOPYTHON readable\n",
    "    pi_fn.fix_fasta(database_names)"
   ]
  },
  {
   "cell_type": "code",
   "execution_count": null,
   "metadata": {
    "ExecuteTime": {
     "start_time": "2018-08-16T14:23:40.608Z"
    }
   },
   "outputs": [
    {
     "name": "stdout",
     "output_type": "stream",
     "text": [
      "calculate all pIs for target EC sequences\n",
      "doing: /home/atarzia/psp/sequence_db/bio_min_dataset/1_11_1_5__BRENDA_sequences.fasta\n",
      "--- finished 2220 sequences in 0.69 seconds ---\n",
      "plot distribution of pIs\n",
      "done\n",
      "doing: /home/atarzia/psp/sequence_db/bio_min_dataset/1_11_1_6__BRENDA_sequences.fasta\n",
      "--- finished 22068 sequences in 7.67 seconds ---\n",
      "plot distribution of pIs\n",
      "done\n",
      "doing: /home/atarzia/psp/sequence_db/bio_min_dataset/1_11_1_7__BRENDA_sequences.fasta\n",
      "--- finished 16288 sequences in 4.23 seconds ---\n",
      "plot distribution of pIs\n",
      "done\n",
      "doing: /home/atarzia/psp/sequence_db/bio_min_dataset/1_13_12_4__BRENDA_sequences.fasta\n",
      "--- finished 379 sequences in 0.12 seconds ---\n",
      "plot distribution of pIs\n",
      "done\n",
      "doing: /home/atarzia/psp/sequence_db/bio_min_dataset/1_1_3_4__BRENDA_sequences.fasta\n",
      "--- finished 36 sequences in 0.02 seconds ---\n",
      "plot distribution of pIs\n",
      "done\n",
      "doing: /home/atarzia/psp/sequence_db/bio_min_dataset/1_1_5_2__BRENDA_sequences.fasta\n",
      "--- finished 1765 sequences in 0.67 seconds ---\n",
      "plot distribution of pIs\n",
      "done\n",
      "doing: /home/atarzia/psp/sequence_db/bio_min_dataset/1_9_3_1__BRENDA_sequences.fasta\n"
     ]
    }
   ],
   "source": [
    "print('calculate all pIs for target EC sequences')\n",
    "for EC_file in database_names:\n",
    "    # read the file\n",
    "    # but to avoid memory issues\n",
    "    # we will calculate the pI on the fly\n",
    "    # using the bio python module\n",
    "    print('doing:', EC_file)\n",
    "    file_mod = EC_file.replace(\".fasta\", \"_mod.fasta\")\n",
    "    if redo_pi is True:\n",
    "        pi_fn.calculate_pI_from_file(file_mod, param_dict, output_dir)\n",
    "    print('plot distribution of pIs')\n",
    "    pi_data = pd.read_csv(output_dir+param_dict['out_CSV_pi'], index_col=False)\n",
    "    EC_pi_data = pi_data[pi_data['fasta_file'] == file_mod]\n",
    "    pi_fn.plot_EC_pI_dist(EC_pi_data, param_dict,\n",
    "                          filename=file_mod.replace('.fasta', '.pdf'),\n",
    "                          title=file_mod.replace(output_dir, '').replace('__BRENDA_sequences_mod.fasta', ''))\n",
    "    print('done')"
   ]
  },
  {
   "cell_type": "code",
   "execution_count": null,
   "metadata": {
    "ExecuteTime": {
     "start_time": "2018-08-16T14:23:45.961Z"
    }
   },
   "outputs": [],
   "source": [
    "times = [0.74, 8.18, 4.85, 0.13, 0.02, 0.78, \n",
    "         0.62, 7.42, 4.26, 0.11, 0.01, 0.67, \n",
    "         300.89, 1.81, 0.03, 1.82, 0.44, 5.56]\n",
    "seqs = [2220, 22068, 16288, 379, 36, 1765, 2220,\n",
    "        22068, 16288, 379, 36, 1765, 1253592,\n",
    "        6487, 80, 5665, 1098, 23660]\n",
    "plt.scatter(times, seqs, c='k')\n",
    "plt.xlabel('time (s)')\n",
    "plt.ylabel('no. sequences')\n",
    "plt.xlim(0, 15)\n",
    "plt.ylim(0, 30000)"
   ]
  },
  {
   "cell_type": "markdown",
   "metadata": {},
   "source": [
    "# Collect pI of species used in Literature data base using BRENDA"
   ]
  },
  {
   "cell_type": "code",
   "execution_count": null,
   "metadata": {
    "ExecuteTime": {
     "start_time": "2018-08-16T14:23:51.976Z"
    }
   },
   "outputs": [],
   "source": [
    "# get parameters\n",
    "param_dict = parameters.get_parameters()\n",
    "\n",
    "# input parameters\n",
    "database_directory = '/home/atarzia/psp/sequence_db/bio_min_dataset/'\n",
    "output_dir = database_directory"
   ]
  },
  {
   "cell_type": "code",
   "execution_count": null,
   "metadata": {
    "ExecuteTime": {
     "start_time": "2018-08-16T14:23:53.592Z"
    }
   },
   "outputs": [],
   "source": [
    "# set EC numbers of interest based on dataset\n",
    "# 'none' in species lists implies species was not given with literature report.\n",
    "EC_set = {\n",
    "    # EC : species list\n",
    "    '1.11.1.5': ['equus caballus', ],\n",
    "    '1.11.1.6': ['bos taurus', ],\n",
    "    '1.11.1.7': ['armoracia rusticana', ],\n",
    "    '1.9.3.1': ['equus caballus', ],\n",
    "    '1.1.5.2': ['none', ],\n",
    "    '3.5.1.5': ['canavalia ensiformis'],\n",
    "    '1.1.3.4': ['aspergillus niger'],\n",
    "    '1.13.12.4': ['none'],\n",
    "    '3.2.1.26': ['none'],\n",
    "    '3.1.1.3': ['thermomyces lanuginosus', 'alcaligenes sp.',\n",
    "                'pseudomonas fluorescens',\n",
    "                'rhizomucor miehei', 'candida antarctica',\n",
    "                'aspergillus niger'],\n",
    "    '3.1.1.6': ['lactobacillus acidophilus'],\n",
    "    '3.5.1.11': ['none'],\n",
    "    }"
   ]
  },
  {
   "cell_type": "code",
   "execution_count": null,
   "metadata": {
    "ExecuteTime": {
     "start_time": "2018-08-16T14:23:55.482Z"
    }
   },
   "outputs": [],
   "source": [
    "# read in pI output file\n",
    "pi_data = pd.read_csv(output_dir+param_dict['out_CSV_pi'], index_col=False)"
   ]
  },
  {
   "cell_type": "code",
   "execution_count": null,
   "metadata": {
    "ExecuteTime": {
     "start_time": "2018-08-16T14:24:00.264Z"
    },
    "scrolled": false
   },
   "outputs": [],
   "source": [
    "print('Screen all Enzymes in EC Classes using BRENDA data')\n",
    "count_done = 0\n",
    "total_start_time = time.time()\n",
    "for EC_file in database_names:\n",
    "    # read the file\n",
    "    # but to avoid memory issues\n",
    "    # we will calculate the pI on the fly\n",
    "    # using the bio python module\n",
    "    print('-----------------------------------------------')\n",
    "    print('doing:', EC_file)\n",
    "    file_mod = EC_file.replace(\".fasta\", \"_mod.fasta\")\n",
    "    EC_pi_data = pi_data[pi_data['fasta_file'] == file_mod]\n",
    "    # only keep those that pass the pI test\n",
    "    pi_passed_data = EC_pi_data[EC_pi_data['pi'] < param_dict['cutoff_pi']]\n",
    "    print('--- ', \n",
    "          len(pi_passed_data), 'proteins out of', len(EC_pi_data), \n",
    "          'remain, OR', int(len(pi_passed_data)/len(EC_pi_data)*100),\n",
    "          \"% ---\")\n",
    "    EC_no = list(set(EC_pi_data['EC.code']))[0].replace(' ', '').replace(\".\", \"_\")\n",
    "    print('EC:', EC_no.replace(\"_\", \".\"))\n",
    "    br_datafile = 'brenda_download_'+EC_no+'.txt'\n",
    "    # convert br_datafile into dictionary\n",
    "    br_symbols, br_data = brenda_IO.get_brenda_dict(param_dict['BRENDA_DB_loc']+br_datafile)\n",
    "    # from here is quite bio-min assay literature specific - although the code can be reused\n",
    "    # get species of interest from known EC records\n",
    "    species_of_interest = EC_set[EC_no.replace('_', '.')]\n",
    "    for spec in species_of_interest:\n",
    "        print('species:', spec)\n",
    "        # is species in sequence data?\n",
    "        spec_in_seq, spec_in_br = brenda_IO.is_species_reported(spec, \n",
    "                                                                EC_pi_data, \n",
    "                                                                br_data, \n",
    "                                                                verbose=True)\n",
    "        PR_of_int = []\n",
    "        for i in sorted(br_data['PR']):\n",
    "            if spec in i.lower():\n",
    "                # this assumes that the first item of each line is always \"#\"\n",
    "                PR_info = i.split(\"#\")[1]            \n",
    "                if PR_info not in PR_of_int:\n",
    "                    PR_of_int.append(PR_info)\n",
    "        # get pI from BRENDA\n",
    "        prop_of_int = 'PI'\n",
    "        list_of_int = br_data[prop_of_int]\n",
    "        # get list of protein codes with property of interest\n",
    "        EC_prop_PR_codes = brenda_IO.get_prop_PR_codes(list_of_int)\n",
    "        value_of_int = {}\n",
    "        for PR in PR_of_int:\n",
    "            if PR in set([j for i in EC_prop_PR_codes.values() for j in i ]):\n",
    "                print('protein code:', PR, 'has', prop_of_int, 'in BRENDA')\n",
    "            else:\n",
    "                print('protein code:', PR, 'does not have', prop_of_int, 'in BRENDA')\n",
    "            values = [list_of_int[i].split(\" \")[1] \n",
    "                      for i in EC_prop_PR_codes.keys() if PR in EC_prop_PR_codes[i]]\n",
    "            # apply property specific rules\n",
    "            # check for ranges - append min and max\n",
    "            values_min = [i.split('-')[0] for i in values if '-' in i and i[0] != '-']\n",
    "            values_max = [i.split('-')[1] for i in values if '-' in i and i[0] != '-']\n",
    "            if len(values_min) > 0 and len(values_max) > 0:\n",
    "                for i in np.arange(len(values)-1, -1, -1):\n",
    "                    if '-' in values[i]:\n",
    "                        del values[i]\n",
    "                print(values_min, values_max)\n",
    "                values.append(values_min[0])\n",
    "                values.append(values_max[0])\n",
    "            # PI == float\n",
    "            values = [float(i) for i in values]\n",
    "            # PI => between 0 and 14\n",
    "            values = [i for i in values if i >= 0 and i <= 14]\n",
    "            if len(values) > 0:\n",
    "                value_of_int[PR] = values\n",
    "        print('reported pIs in BRENDA:', value_of_int.values())\n",
    "    count_done += 1\n",
    "print('--- finished %s EC classes in %s seconds ---' % (count_done, '{0:.2f}'.format(time.time() - total_start_time)))"
   ]
  },
  {
   "cell_type": "markdown",
   "metadata": {},
   "source": [
    "# From the list of reactions reported in the literature - determine, which molecules fit in ZIF-8"
   ]
  },
  {
   "cell_type": "code",
   "execution_count": null,
   "metadata": {
    "ExecuteTime": {
     "start_time": "2018-08-16T14:24:05.127Z"
    },
    "code_folding": [
     0,
     15
    ]
   },
   "outputs": [],
   "source": [
    "def define_plot_variables(ax, title, ytitle, xtitle, xlim, ylim):\n",
    "    \"\"\"\n",
    "    Series of matplotlib pyplot settings to make all plots unitform.\n",
    "    \"\"\"\n",
    "    # Set number of ticks for x-axis\n",
    "    ax.tick_params(axis='both', which='major', labelsize=16)\n",
    "\n",
    "    ax.set_ylabel(ytitle, fontsize=16)\n",
    "    # ax.legend([y, n], ['aligned', 'not aligned'], loc=4, fancybox=True)\n",
    "    ax.set_xlim(xlim)\n",
    "    ax.set_ylim(ylim)\n",
    "    ax.set_xticklabels(['diffuses', 'does not diffuse'])\n",
    "    ax.set_xticks([0.25, 0.75])\n",
    "\n",
    "\n",
    "def define_parity_plot_variables(ax, title, ytitle, xtitle, xlim, ylim):\n",
    "    \"\"\"\n",
    "    Series of matplotlib pyplot settings to make all plots unitform.\n",
    "    \"\"\"\n",
    "    # Set number of ticks for x-axis\n",
    "    ax.tick_params(axis='both', which='major', labelsize=16)\n",
    "\n",
    "    ax.set_xlabel(xtitle, fontsize=16)\n",
    "    ax.set_ylabel(ytitle, fontsize=16)\n",
    "    # ax.legend([y, n], ['aligned', 'not aligned'], loc=4, fancybox=True)\n",
    "    ax.set_xlim(xlim)\n",
    "    ax.set_ylim(ylim)\n"
   ]
  },
  {
   "cell_type": "code",
   "execution_count": null,
   "metadata": {
    "ExecuteTime": {
     "start_time": "2018-08-16T14:24:05.440Z"
    },
    "code_folding": [
     2
    ]
   },
   "outputs": [],
   "source": [
    "# set EC numbers of interest based on dataset\n",
    "# 'none' in species lists implies species was not given with literature report.\n",
    "EC_mol_set = {\n",
    "    # EC : species list : unique molecules\n",
    "    '1.11.1.5': {'equus caballus': [\n",
    "        ('hydrogen peroxide', 'OO'),\n",
    "        ('pyrogallol', 'C1=CC(=C(C(=C1)O)O)O'),\n",
    "        ('purporogallin', 'C1=CC(=O)C(=C2C(=C1)C=C(C(=C2O)O)O)O'),\n",
    "    ]},\n",
    "    '1.11.1.6': {'bos taurus': [\n",
    "        ('hydrogen peroxide', 'OO'),\n",
    "        ('water', 'O'),\n",
    "        ('oxygen', 'O=O'),\n",
    "        ('3-amino-1,2,4-triazole', 'C1=NNC(=N1)N'),\n",
    "    ]},\n",
    "    '1.11.1.7': {'armoracia rusticana': [\n",
    "        ('pyrogallol', 'C1=CC(=C(C(=C1)O)O)O'),\n",
    "        ('purporogallin', 'C1=CC(=O)C(=C2C(=C1)C=C(C(=C2O)O)O)O'),\n",
    "        ('hydrogen peroxide', 'OO'),\n",
    "        ('water', 'O'),\n",
    "        ('oxygen', 'O=O'),\n",
    "        ('ABTS', 'CCN1C2=C(C=C(C=C2)S(=O)(=O)[O-])SC1=NN=C3N(C4=C(S3)C=C(C=C4)S(=O)(=O)[O-])CC'),\n",
    "    ]},\n",
    "    '1.9.3.1': {'equus caballus': [\n",
    "        ('hydrogen peroxide', 'OO'),\n",
    "        ('water', 'O'),\n",
    "        ('oxygen', 'O=O'),\n",
    "        ('ABTS', 'CCN1C2=C(C=C(C=C2)S(=O)(=O)[O-])SC1=NN=C3N(C4=C(S3)C=C(C=C4)S(=O)(=O)[O-])CC'),\n",
    "        ('Amplex Red', 'CC(=O)N1C2=C(C=C(C=C2)O)OC3=C1C=CC(=C3)O'),\n",
    "        ('resorufin', 'C1=CC2=C(C=C1O)OC3=CC(=O)C=CC3=N2'),\n",
    "        ('methyl ethyl ketone peroxide', 'CCC(C)(OO)OOC(C)(CC)OO'),\n",
    "        ('tert-butyl hydroperoxide', 'CC(C)(C)OO'),\n",
    "    ]},\n",
    "    '1.1.5.2': {'none': [\n",
    "        ('methosulfate', 'COS(=O)(=O)[O-]'),\n",
    "        ('5-Methylphenazin-5-ium', 'C[N+]1=C2C=CC=CC2=NC3=CC=CC=C31'),\n",
    "        ('2,6-dichloroindophenol', 'C1=CC(=O)C=CC1=NC2=CC(=C(C(=C2)Cl)O)Cl'),\n",
    "    ]},\n",
    "    '3.5.1.5': {'canavalia ensiformis': [\n",
    "        ('Urea', 'C(=O)(N)N'),\n",
    "        ('water', 'O'),\n",
    "        ('carbon dioxide', 'C(=O)=O'),\n",
    "        ('ammonia', 'N'),\n",
    "    ]},\n",
    "    '1.1.3.4': {'aspergillus niger': [\n",
    "        ('D-glucose (chain)', 'C(C(C(C(C(C=O)O)O)O)O)O'),\n",
    "        ('D-glucose (ring)', 'C(C1C(C(C(C(O1)O)O)O)O)O'),\n",
    "        ('gluconic acid', 'C(C(C(C(C(C(=O)O)O)O)O)O)O'),\n",
    "        ('hydrogen peroxide', 'OO'),\n",
    "        ('Gluconolactone', 'C(C1C(C(C(C(=O)O1)O)O)O)O'),\n",
    "    ]},\n",
    "    '1.13.12.4': {'none': [\n",
    "        ('hydrogen peroxide', 'OO'),\n",
    "        ('pyruvate', 'CC(=O)C(=O)[O-]'),\n",
    "        ('L-lactate', 'CC(C(=O)[O-])[O-]'),\n",
    "        \n",
    "    ]},\n",
    "    '3.2.1.26': {'none': [\n",
    "        ('sucrose', 'C(C1C(C(C(C(O1)OC2(C(C(C(O2)CO)O)O)CO)O)O)O)O'),\n",
    "        ('L-fructose', 'C(C(C(C(C(=O)CO)O)O)O)O'),\n",
    "        ('D-fructose', 'C1C(C(C(C(O1)(CO)O)O)O)O'),\n",
    "    ]},\n",
    "    '3.1.1.3': {'thermomyces lanuginosus': [\n",
    "                    ('p-nitrophenol', 'C1=CC(=CC=C1[N+](=O)[O-])O'),\n",
    "                    ('p-nitrophenyl butyrate', 'CCCC(=O)OC1=CC=C(C=C1)[N+](=O)[O-]'),\n",
    "                    ('butyric acid', 'CCCC(=O)O'),\n",
    "                ],\n",
    "                'alcaligenes sp.': [  # not sure about this one - the kinetic resolution may not belong to this enyzme?\n",
    "                    ('2-octanol', 'CCCCCCC(C)O'),\n",
    "                    ('vinyl acetate', 'CC(=O)OC=C'),\n",
    "                    ('octyl acetate', 'CCCCCCCCOC(=O)C'),\n",
    "                    ('p-nitrophenyl', 'C1=CC=C(C=C1)[N+](=O)[O-]'),\n",
    "                    ('p-nitrophenyl octanoate', 'CCCCCCCC(=O)OC1=CC=C(C=C1)[N+](=O)[O-]'),\n",
    "                    ('octanoic acid', 'CCCCCCCC(=O)O'),\n",
    "                ],\n",
    "                'pseudomonas fluorescens': [\n",
    "                    ('p-nitrophenol', 'C1=CC(=CC=C1[N+](=O)[O-])O'),\n",
    "                    ('p-nitrophenyl butyrate', 'CCCC(=O)OC1=CC=C(C=C1)[N+](=O)[O-]'),\n",
    "                    ('butyric acid', 'CCCC(=O)O'),\n",
    "                ],\n",
    "                'rhizomucor miehei': [\n",
    "                    ('p-nitrophenol', 'C1=CC(=CC=C1[N+](=O)[O-])O'),\n",
    "                    ('p-nitrophenyl butyrate', 'CCCC(=O)OC1=CC=C(C=C1)[N+](=O)[O-]'),\n",
    "                    ('butyric acid', 'CCCC(=O)O'),\n",
    "                ], \n",
    "                'candida antarctica': [\n",
    "                    ('p-nitrophenol', 'C1=CC(=CC=C1[N+](=O)[O-])O'),\n",
    "                    ('p-nitrophenyl butyrate', 'CCCC(=O)OC1=CC=C(C=C1)[N+](=O)[O-]'),\n",
    "                    ('butyric acid', 'CCCC(=O)O'),\n",
    "                ],\n",
    "                'aspergillus niger': [\n",
    "                    ('p-nitrophenol', 'C1=CC(=CC=C1[N+](=O)[O-])O'),\n",
    "                    ('p-nitrophenyl acetate', 'CC(=O)OC1=CC=C(C=C1)[N+](=O)[O-]'),\n",
    "                    ('acetic acid', 'CC(=O)O'),\n",
    "                ]},\n",
    "    '3.1.1.6': {'lactobacillus acidophilus': [\n",
    "        ('p-nitrophenyl', 'C1=CC=C(C=C1)[N+](=O)[O-]'),\n",
    "        ('p-nitrophenol', 'C1=CC(=CC=C1[N+](=O)[O-])O'),\n",
    "        ('p-nitrophenyl acetate', 'CC(=O)OC1=CC=C(C=C1)[N+](=O)[O-]'),\n",
    "        ('acetic acid', 'CC(=O)O'),\n",
    "        ('p-nitrophenyl phosphate', 'C1=CC(=CC=C1[N+](=O)[O-])OP(=O)(O)O'),\n",
    "        ('phosphate acid', 'OP(=O)([O-])[O-]'),\n",
    "        ('p-nitrophenyl butyrate', 'CCCC(=O)OC1=CC=C(C=C1)[N+](=O)[O-]'),\n",
    "        ('butyric acid', 'CCCC(=O)O'),\n",
    "        ('p-nitrophenyl hexanoate', 'CCCCCC(=O)OC1=CC=C(C=C1)[N+](=O)[O-]'),\n",
    "        ('hexanoic acid', 'CCCCCC(=O)O'),\n",
    "        ('p-nitrophenyl octanoate', 'CCCCCCCC(=O)OC1=CC=C(C=C1)[N+](=O)[O-]'),\n",
    "        ('octanoic acid', 'CCCCCCCC(=O)O'),\n",
    "        ('p-nitrophenyl decanoate', 'CCCCCCCCCC(=O)OC1=CC=C(C=C1)[N+](=O)[O-]'),\n",
    "        ('decanoic acid', 'CCCCCCCCCC(=O)O'),\n",
    "        ('p-nitrophenyl dodecanoate', 'CCCCCCCCCCCC(=O)OC1=CC=C(C=C1)[N+](=O)[O-]'),\n",
    "        ('dodecanoic acid', 'CCCCCCCCCCCC(=O)O'),\n",
    "    ]},\n",
    "    '3.5.1.11': {'none': [\n",
    "        ('penicillin-G', 'CC1(C(N2C(S1)C(C2=O)NC(=O)CC3=CC=CC=C3)C(=O)O)C'),\n",
    "    ]},\n",
    "    }"
   ]
  },
  {
   "cell_type": "code",
   "execution_count": null,
   "metadata": {
    "ExecuteTime": {
     "start_time": "2018-08-16T14:24:05.695Z"
    }
   },
   "outputs": [],
   "source": [
    "# get parameters\n",
    "param_dict = parameters.get_parameters()\n",
    "\n",
    "# input parameters\n",
    "database_directory = '/home/atarzia/psp/sequence_db/bio_min_dataset/'\n",
    "output_dir = database_directory"
   ]
  },
  {
   "cell_type": "code",
   "execution_count": null,
   "metadata": {
    "ExecuteTime": {
     "start_time": "2018-08-16T14:24:06.041Z"
    }
   },
   "outputs": [],
   "source": [
    "# get all unique molecules and draw 2D structures\n",
    "molecules = {}\n",
    "diameters = {}\n",
    "for i in EC_mol_set.keys():\n",
    "    for j in EC_mol_set[i].keys():\n",
    "        for mol in EC_mol_set[i][j]:\n",
    "            molecules[mol[0]] = mol[1]\n",
    "            diameters[mol[0]] = 0\n",
    "            rdkit_functions.draw_smiles_to_svg(mol[1], output_dir+mol[0].replace(' ', '_')+'_2d.svg')"
   ]
  },
  {
   "cell_type": "markdown",
   "metadata": {},
   "source": [
    "#### calculate size"
   ]
  },
  {
   "cell_type": "code",
   "execution_count": null,
   "metadata": {
    "ExecuteTime": {
     "start_time": "2018-08-16T14:24:15.874Z"
    },
    "scrolled": true
   },
   "outputs": [],
   "source": [
    "rdkit_functions.calc_molecule_diameters(molecules, diameters, \n",
    "                                        out_dir=output_dir, vdwScale=0.8, boxMargin=4.0,\n",
    "                                        spacing=0.6, show_vdw=False, plot_ellip=False,\n",
    "                                        N_conformers=50, \n",
    "                                        show_conf=False)"
   ]
  },
  {
   "cell_type": "markdown",
   "metadata": {},
   "source": [
    "#### get results"
   ]
  },
  {
   "cell_type": "code",
   "execution_count": null,
   "metadata": {
    "ExecuteTime": {
     "start_time": "2018-08-16T14:24:19.791Z"
    }
   },
   "outputs": [],
   "source": [
    "threshold = 4.2\n",
    "diffuse = {}\n",
    "no_diffuse = {}\n",
    "for name, smile in molecules.items():\n",
    "    out_file = output_dir+name+'_diam_result.csv'\n",
    "    if os.path.isfile(out_file) is False:\n",
    "        continue\n",
    "    results = pd.read_csv(out_file)\n",
    "    min_diam = min(results['diam1'])\n",
    "    mid_diam = min(results['diam2'])\n",
    "    # print(min(results['diam1']))\n",
    "    # print(min(results['diam2']))\n",
    "    # plt.hist(results['diam1'], facecolor='k', alpha=0.4)\n",
    "    # plt.hist(results['diam2'], facecolor='r', alpha=0.4)\n",
    "    if mid_diam <= threshold:\n",
    "        print(name+':')\n",
    "        print('can diffuse')\n",
    "        print('min diameter =', round(min_diam, 3), 'angstrom')\n",
    "        print('mid diameter =', round(mid_diam, 3), 'angstrom')\n",
    "        diffuse[name] = smile\n",
    "    else:\n",
    "        print(name+':')\n",
    "        print('cannot diffuse')\n",
    "        print('min diameter =', round(min_diam, 3), 'angstrom')\n",
    "        print('mid diameter =', round(mid_diam, 3), 'angstrom')\n",
    "        no_diffuse[name] = smile\n",
    "    print('-')"
   ]
  },
  {
   "cell_type": "markdown",
   "metadata": {},
   "source": [
    "#### Plot categorical scatter plot"
   ]
  },
  {
   "cell_type": "code",
   "execution_count": null,
   "metadata": {
    "ExecuteTime": {
     "start_time": "2018-08-16T14:24:20.642Z"
    }
   },
   "outputs": [],
   "source": [
    "threshold = 4.2\n",
    "dx = 0.15\n",
    "fig, ax = plt.subplots(figsize=(5,5))\n",
    "for name, smile in molecules.items():\n",
    "    out_file = output_dir+name+'_diam_result.csv'\n",
    "    if os.path.isfile(out_file) is False:\n",
    "        continue\n",
    "    results = pd.read_csv(out_file)\n",
    "    mid_diam = min(results['diam2'])\n",
    "    if mid_diam <= threshold:\n",
    "        C = 'b'\n",
    "        M = 'o'\n",
    "        E = 'k'\n",
    "        D = 0.25\n",
    "    else:\n",
    "        C = 'r'\n",
    "        M = 'X'\n",
    "        E = 'k'\n",
    "        D = 0.75\n",
    "    ax.scatter(D+(dx*(np.random.random() - 0.5) * 2),\n",
    "               mid_diam, c=C, \n",
    "               edgecolors=E, marker=M, alpha=1.0,\n",
    "               s=100)\n",
    "    \n",
    "ax.axhline(y=threshold, c='k')\n",
    "define_plot_variables(ax,\n",
    "                      title='',\n",
    "                      xtitle='',\n",
    "                      ytitle='intermediate diameter [$\\mathrm{\\AA}$]',\n",
    "                      xlim=(0, 1),\n",
    "                      ylim=(0, 10))\n",
    "fig.tight_layout()\n",
    "fig.savefig(output_dir+\"categorical.pdf\", dpi=720,\n",
    "            bbox_inches='tight')"
   ]
  },
  {
   "cell_type": "markdown",
   "metadata": {},
   "source": [
    "#### Plot shapes"
   ]
  },
  {
   "cell_type": "code",
   "execution_count": null,
   "metadata": {
    "ExecuteTime": {
     "start_time": "2018-08-16T14:24:23.166Z"
    }
   },
   "outputs": [],
   "source": [
    "threshold = 4.2\n",
    "fig, ax = plt.subplots(figsize=(5,5))\n",
    "for name, smile in molecules.items():\n",
    "    out_file = output_dir+name+'_diam_result.csv'\n",
    "    if os.path.isfile(out_file) is False:\n",
    "        continue\n",
    "    results = pd.read_csv(out_file)\n",
    "    mid_diam = min(results['diam2'])\n",
    "    if mid_diam <= threshold:\n",
    "        C = 'b'\n",
    "        M = 'o'\n",
    "        E = 'k'\n",
    "        D = 0.25\n",
    "    else:\n",
    "        C = 'r'\n",
    "        M = 'X'\n",
    "        E = 'k'\n",
    "        D = 0.75\n",
    "    ax.scatter(np.average(results['ratio_1']),\n",
    "               np.average(results['ratio_2']),\n",
    "               c=C, \n",
    "               edgecolors=E, marker=M, alpha=1.0,\n",
    "               s=100)\n",
    "    \n",
    "ax.plot([0, 0.5, 1, 0], [1, 0.5, 1, 1], c='k', lw=2)\n",
    "ax.text(0.75, 1.01, 'sphere', fontsize=20)\n",
    "ax.text(0.4, 0.45, 'disk', fontsize=20)\n",
    "ax.text(-0.05, 1.01, 'rod', fontsize=20)\n",
    "define_parity_plot_variables(ax,\n",
    "                             title='',\n",
    "                             xtitle='$I_1$ / $I_3$',\n",
    "                             ytitle='$I_2$ / $I_3$',\n",
    "                             xlim=(-0.1, 1.1),\n",
    "                             ylim=(0.4, 1.1))\n",
    "fig.tight_layout()\n",
    "fig.savefig(output_dir+\"shape.pdf\", dpi=720,\n",
    "            bbox_inches='tight')"
   ]
  },
  {
   "cell_type": "markdown",
   "metadata": {},
   "source": [
    "# Collect reactant-product systems \n",
    "- curently as species specific for test case\n",
    "    - generalize to all available reaction systems\n",
    "- need general code for reading the BRENDA file lines and getting reactants and products and meta\n",
    "- need general code for outputting these as reaction systems (to JSON?)\n",
    "- need general code for interfacing reaction systems into SMILES (using the name in BRENDA) and collecting\n",
    "    - molecule size\n",
    "    - cost?"
   ]
  },
  {
   "cell_type": "code",
   "execution_count": 12,
   "metadata": {
    "ExecuteTime": {
     "end_time": "2018-08-15T03:31:21.423824Z",
     "start_time": "2018-08-15T03:31:21.421179Z"
    }
   },
   "outputs": [],
   "source": [
    "from IPython.display import clear_output"
   ]
  },
  {
   "cell_type": "code",
   "execution_count": 15,
   "metadata": {
    "ExecuteTime": {
     "end_time": "2018-08-15T01:21:24.008673Z",
     "start_time": "2018-08-15T01:21:13.866184Z"
    },
    "scrolled": false
   },
   "outputs": [
    {
     "name": "stdout",
     "output_type": "stream",
     "text": [
      "#12,52# esculetin + H2O2 = ? (#52# demonstration, that esculetin is no\n",
      "inhibitor, but a substrate of mushroom polyphenol oxidase (PPO) and\n",
      "horseradish peroxidase (POD) <83>) <28,83>\n",
      "\n",
      "############################\n",
      "--------------------------\n",
      "Reaction system in: RS-1_11_1_7-SP_52_2.pkl\n",
      "Reaction Catalysed:\n",
      "['2 phenolic donor + H2O2 = 2 phenoxyl radical of the donor + 2 H2O']\n",
      "Reaction Type:\n",
      "['redox reaction', 'oxidation', 'reduction', 'hydroxylation']\n",
      "--------------------------\n",
      "Reactants: esculetin + H2O2 -------->\n",
      "Products: ?\n",
      "Activating Molecules: melamine OR 2-aminothiazole\n",
      "--------------------------\n",
      "No. Sub units = ['?', 'monomer']\n",
      "Reversible?: None\n",
      "Co factors?: True\n",
      "Cofactor Molecules: heme\n",
      "Post Translational Mods?: ['glycoprotein']\n",
      "--------------------------\n",
      "Meta (in full):\n",
      " (#52# demonstration, that esculetin is no\n",
      "inhibitor, but a substrate of mushroom polyphenol oxidase (PPO) and\n",
      "horseradish peroxidase (POD) <83>) <28,83>\n",
      "\n",
      "References: ['28', '83']\n",
      "--------------------------\n"
     ]
    },
    {
     "ename": "KeyboardInterrupt",
     "evalue": "",
     "output_type": "error",
     "traceback": [
      "\u001b[0;31m---------------------------------------------------------------------------\u001b[0m",
      "\u001b[0;31mKeyboardInterrupt\u001b[0m                         Traceback (most recent call last)",
      "\u001b[0;32m~/anaconda3/lib/python3.6/site-packages/ipykernel/kernelbase.py\u001b[0m in \u001b[0;36m_input_request\u001b[0;34m(self, prompt, ident, parent, password)\u001b[0m\n\u001b[1;32m    728\u001b[0m             \u001b[0;32mtry\u001b[0m\u001b[0;34m:\u001b[0m\u001b[0;34m\u001b[0m\u001b[0m\n\u001b[0;32m--> 729\u001b[0;31m                 \u001b[0mident\u001b[0m\u001b[0;34m,\u001b[0m \u001b[0mreply\u001b[0m \u001b[0;34m=\u001b[0m \u001b[0mself\u001b[0m\u001b[0;34m.\u001b[0m\u001b[0msession\u001b[0m\u001b[0;34m.\u001b[0m\u001b[0mrecv\u001b[0m\u001b[0;34m(\u001b[0m\u001b[0mself\u001b[0m\u001b[0;34m.\u001b[0m\u001b[0mstdin_socket\u001b[0m\u001b[0;34m,\u001b[0m \u001b[0;36m0\u001b[0m\u001b[0;34m)\u001b[0m\u001b[0;34m\u001b[0m\u001b[0m\n\u001b[0m\u001b[1;32m    730\u001b[0m             \u001b[0;32mexcept\u001b[0m \u001b[0mException\u001b[0m\u001b[0;34m:\u001b[0m\u001b[0;34m\u001b[0m\u001b[0m\n",
      "\u001b[0;32m~/anaconda3/lib/python3.6/site-packages/jupyter_client/session.py\u001b[0m in \u001b[0;36mrecv\u001b[0;34m(self, socket, mode, content, copy)\u001b[0m\n\u001b[1;32m    802\u001b[0m         \u001b[0;32mtry\u001b[0m\u001b[0;34m:\u001b[0m\u001b[0;34m\u001b[0m\u001b[0m\n\u001b[0;32m--> 803\u001b[0;31m             \u001b[0mmsg_list\u001b[0m \u001b[0;34m=\u001b[0m \u001b[0msocket\u001b[0m\u001b[0;34m.\u001b[0m\u001b[0mrecv_multipart\u001b[0m\u001b[0;34m(\u001b[0m\u001b[0mmode\u001b[0m\u001b[0;34m,\u001b[0m \u001b[0mcopy\u001b[0m\u001b[0;34m=\u001b[0m\u001b[0mcopy\u001b[0m\u001b[0;34m)\u001b[0m\u001b[0;34m\u001b[0m\u001b[0m\n\u001b[0m\u001b[1;32m    804\u001b[0m         \u001b[0;32mexcept\u001b[0m \u001b[0mzmq\u001b[0m\u001b[0;34m.\u001b[0m\u001b[0mZMQError\u001b[0m \u001b[0;32mas\u001b[0m \u001b[0me\u001b[0m\u001b[0;34m:\u001b[0m\u001b[0;34m\u001b[0m\u001b[0m\n",
      "\u001b[0;32m~/anaconda3/lib/python3.6/site-packages/zmq/sugar/socket.py\u001b[0m in \u001b[0;36mrecv_multipart\u001b[0;34m(self, flags, copy, track)\u001b[0m\n\u001b[1;32m    394\u001b[0m         \"\"\"\n\u001b[0;32m--> 395\u001b[0;31m         \u001b[0mparts\u001b[0m \u001b[0;34m=\u001b[0m \u001b[0;34m[\u001b[0m\u001b[0mself\u001b[0m\u001b[0;34m.\u001b[0m\u001b[0mrecv\u001b[0m\u001b[0;34m(\u001b[0m\u001b[0mflags\u001b[0m\u001b[0;34m,\u001b[0m \u001b[0mcopy\u001b[0m\u001b[0;34m=\u001b[0m\u001b[0mcopy\u001b[0m\u001b[0;34m,\u001b[0m \u001b[0mtrack\u001b[0m\u001b[0;34m=\u001b[0m\u001b[0mtrack\u001b[0m\u001b[0;34m)\u001b[0m\u001b[0;34m]\u001b[0m\u001b[0;34m\u001b[0m\u001b[0m\n\u001b[0m\u001b[1;32m    396\u001b[0m         \u001b[0;31m# have first part already, only loop while more to receive\u001b[0m\u001b[0;34m\u001b[0m\u001b[0;34m\u001b[0m\u001b[0m\n",
      "\u001b[0;32mzmq/backend/cython/socket.pyx\u001b[0m in \u001b[0;36mzmq.backend.cython.socket.Socket.recv\u001b[0;34m()\u001b[0m\n",
      "\u001b[0;32mzmq/backend/cython/socket.pyx\u001b[0m in \u001b[0;36mzmq.backend.cython.socket.Socket.recv\u001b[0;34m()\u001b[0m\n",
      "\u001b[0;32mzmq/backend/cython/socket.pyx\u001b[0m in \u001b[0;36mzmq.backend.cython.socket._recv_copy\u001b[0;34m()\u001b[0m\n",
      "\u001b[0;32m~/anaconda3/lib/python3.6/site-packages/zmq/backend/cython/checkrc.pxd\u001b[0m in \u001b[0;36mzmq.backend.cython.checkrc._check_rc\u001b[0;34m()\u001b[0m\n",
      "\u001b[0;31mKeyboardInterrupt\u001b[0m: ",
      "\nDuring handling of the above exception, another exception occurred:\n",
      "\u001b[0;31mKeyboardInterrupt\u001b[0m                         Traceback (most recent call last)",
      "\u001b[0;32m<ipython-input-15-2a6759c1cfb0>\u001b[0m in \u001b[0;36m<module>\u001b[0;34m()\u001b[0m\n\u001b[1;32m    119\u001b[0m \u001b[0;34m\u001b[0m\u001b[0m\n\u001b[1;32m    120\u001b[0m                 \u001b[0mreaction_system\u001b[0m\u001b[0;34m.\u001b[0m\u001b[0mprint_rxn_system\u001b[0m\u001b[0;34m(\u001b[0m\u001b[0;34m)\u001b[0m\u001b[0;34m\u001b[0m\u001b[0m\n\u001b[0;32m--> 121\u001b[0;31m                 \u001b[0minput\u001b[0m\u001b[0;34m(\u001b[0m\u001b[0;34m'done?'\u001b[0m\u001b[0;34m)\u001b[0m\u001b[0;34m\u001b[0m\u001b[0m\n\u001b[0m\u001b[1;32m    122\u001b[0m                 \u001b[0mclear_output\u001b[0m\u001b[0;34m(\u001b[0m\u001b[0;34m)\u001b[0m\u001b[0;34m\u001b[0m\u001b[0m\n\u001b[1;32m    123\u001b[0m                 \u001b[0;31m# output reacion system to file\u001b[0m\u001b[0;34m\u001b[0m\u001b[0;34m\u001b[0m\u001b[0m\n",
      "\u001b[0;32m~/anaconda3/lib/python3.6/site-packages/ipykernel/kernelbase.py\u001b[0m in \u001b[0;36mraw_input\u001b[0;34m(self, prompt)\u001b[0m\n\u001b[1;32m    702\u001b[0m             \u001b[0mself\u001b[0m\u001b[0;34m.\u001b[0m\u001b[0m_parent_ident\u001b[0m\u001b[0;34m,\u001b[0m\u001b[0;34m\u001b[0m\u001b[0m\n\u001b[1;32m    703\u001b[0m             \u001b[0mself\u001b[0m\u001b[0;34m.\u001b[0m\u001b[0m_parent_header\u001b[0m\u001b[0;34m,\u001b[0m\u001b[0;34m\u001b[0m\u001b[0m\n\u001b[0;32m--> 704\u001b[0;31m             \u001b[0mpassword\u001b[0m\u001b[0;34m=\u001b[0m\u001b[0;32mFalse\u001b[0m\u001b[0;34m,\u001b[0m\u001b[0;34m\u001b[0m\u001b[0m\n\u001b[0m\u001b[1;32m    705\u001b[0m         )\n\u001b[1;32m    706\u001b[0m \u001b[0;34m\u001b[0m\u001b[0m\n",
      "\u001b[0;32m~/anaconda3/lib/python3.6/site-packages/ipykernel/kernelbase.py\u001b[0m in \u001b[0;36m_input_request\u001b[0;34m(self, prompt, ident, parent, password)\u001b[0m\n\u001b[1;32m    732\u001b[0m             \u001b[0;32mexcept\u001b[0m \u001b[0mKeyboardInterrupt\u001b[0m\u001b[0;34m:\u001b[0m\u001b[0;34m\u001b[0m\u001b[0m\n\u001b[1;32m    733\u001b[0m                 \u001b[0;31m# re-raise KeyboardInterrupt, to truncate traceback\u001b[0m\u001b[0;34m\u001b[0m\u001b[0;34m\u001b[0m\u001b[0m\n\u001b[0;32m--> 734\u001b[0;31m                 \u001b[0;32mraise\u001b[0m \u001b[0mKeyboardInterrupt\u001b[0m\u001b[0;34m\u001b[0m\u001b[0m\n\u001b[0m\u001b[1;32m    735\u001b[0m             \u001b[0;32melse\u001b[0m\u001b[0;34m:\u001b[0m\u001b[0;34m\u001b[0m\u001b[0m\n\u001b[1;32m    736\u001b[0m                 \u001b[0;32mbreak\u001b[0m\u001b[0;34m\u001b[0m\u001b[0m\n",
      "\u001b[0;31mKeyboardInterrupt\u001b[0m: "
     ]
    }
   ],
   "source": [
    "print('Screen all Enzymes in EC Classes using BRENDA data')\n",
    "count_done = 0\n",
    "total_start_time = time.time()\n",
    "for EC_file in database_names:\n",
    "    if EC_file != '/home/atarzia/psp/sequence_db/bio_min_dataset/1_11_1_7__BRENDA_sequences.fasta':\n",
    "        continue\n",
    "    # read the file\n",
    "    # but to avoid memory issues\n",
    "    # we will calculate the pI on the fly\n",
    "    # using the bio python module\n",
    "    print('-----------------------------------------------')\n",
    "    print('doing:', EC_file)\n",
    "    file_mod = EC_file.replace(\".fasta\", \"_mod.fasta\")\n",
    "    EC_pi_data = pi_data[pi_data['fasta_file'] == file_mod]\n",
    "    # only keep those that pass the pI test\n",
    "    pi_passed_data = EC_pi_data[EC_pi_data['pi'] < param_dict['cutoff_pi']]\n",
    "    print('--- ', \n",
    "          len(pi_passed_data), 'proteins out of', len(EC_pi_data), \n",
    "          'remain, OR', int(len(pi_passed_data)/len(EC_pi_data)*100),\n",
    "          \"% ---\")\n",
    "    EC_no = list(set(EC_pi_data['EC.code']))[0].replace(' ', '').replace(\".\", \"_\")\n",
    "    print('EC:', EC_no.replace(\"_\", \".\"))\n",
    "    br_datafile = 'brenda_download_'+EC_no+'.txt'\n",
    "    # convert br_datafile into dictionary\n",
    "    br_symbols, br_data = brenda_IO.get_brenda_dict(param_dict['BRENDA_DB_loc']+br_datafile)\n",
    "    # from here is quite bio-min assay literature specific\n",
    "    # - although the code can be reused\n",
    "    # get species of interest from known EC records\n",
    "    ## when generalizing - we want to remove this for loop\n",
    "    species_of_interest = EC_set[EC_no.replace('_', '.')]\n",
    "    for spec in species_of_interest:\n",
    "        print('species:', spec)\n",
    "        spec_in_seq, spec_in_br = brenda_IO.is_species_reported(spec, \n",
    "                                                                EC_pi_data, \n",
    "                                                                br_data, \n",
    "                                                                verbose=True)\n",
    "        # get protein numbers associated with species\n",
    "        PR_of_int = []\n",
    "        for i in sorted(br_data['PR']):\n",
    "            if spec in i.lower():\n",
    "                # this assumes that the first item of each line is always \"#\"\n",
    "                PR_info = i.split(\"#\")[1]            \n",
    "                if PR_info not in PR_of_int:\n",
    "                    PR_of_int.append(PR_info)\n",
    "        print('when you want to go species unspecific you set PR_of_int to None and loop over all.')\n",
    "        # get reaction systems from BRENDA\n",
    "        prop_of_int = 'SP'\n",
    "        list_of_int = br_data[prop_of_int]\n",
    "        EC_prop_PR_codes = brenda_IO.get_prop_PR_codes(list_of_int)\n",
    "        value_of_int = {}\n",
    "        ## when generalizing - we want to remove this for loop\n",
    "        for PR in PR_of_int:\n",
    "            if PR in set([j for i in EC_prop_PR_codes.values() for j in i ]):\n",
    "                print('protein code:', PR, 'has', prop_of_int, 'in BRENDA')\n",
    "            else:\n",
    "                print('protein code:', PR, 'does not have', prop, 'in BRENDA')\n",
    "            values = [list_of_int[i]\n",
    "                      for i in EC_prop_PR_codes.keys() if PR in EC_prop_PR_codes[i]]\n",
    "            count = 0\n",
    "            # iterate over all lines of BRENDA file with PR in SP initial\n",
    "            for val in values:\n",
    "                #if '3-(4-hydroxyphenyl)propanoic' not in val:\n",
    "                #    continue\n",
    "                print(val)\n",
    "                print('############################')\n",
    "                # split val into sections and remove preceding sections to avoid\n",
    "                # confusion\n",
    "                PR_sect = val.split(\"# \")[0]+\"# \"\n",
    "                val = val.replace(PR_sect, '')\n",
    "                rxn_sect = val.split(\" (\")[0].split(\" <\")[0]\n",
    "                val = val.replace(rxn_sect, '')\n",
    "                meta_sect = val\n",
    "                # output dictionary\n",
    "                reaction_system = brenda_IO.Reaction_system(EC_no, prop_of_int, PR, str(count))\n",
    "                # get all PR associated with rxn system\n",
    "                # strip value of anything in the first pair of \"#\" >> as PR codes\n",
    "                t_assoc_PR = PR_sect.split(\"#\")[1].split(',')\n",
    "                # check for new lines and split string into list\n",
    "                reaction_system.assoc_PR = brenda_IO.check_new_lines_and_split(t_assoc_PR)\n",
    "                # strip value of anything in \"(\" and \")\" >> as meta\n",
    "                reaction_system.meta = meta_sect\n",
    "                # split meta info into:\n",
    "                # references \n",
    "                # references for an entry in BRENDA are within \"<\" and \">\"\n",
    "                t_assoc_refs = val.split(\" <\")[-1]\n",
    "                t_assoc_refs = t_assoc_refs.split(\">\")[0].split(',')\n",
    "                reaction_system.assoc_refs = brenda_IO.check_new_lines_and_split(t_assoc_refs)\n",
    "                # reversible?\n",
    "                # for the \"SP\" entries - a 'r' enclosed in \"{\" and \"}\"\n",
    "                # implies reversible\n",
    "                if '{r}' in reaction_system.meta:\n",
    "                    reaction_system.reversible = True\n",
    "                # reaction catalysed and reaction type\n",
    "                reaction_system.extract_general_rxn_info(br_data)\n",
    "\n",
    "                # make into function -- extract_reactants_products\n",
    "                # get reactants as before '=' and products as after\n",
    "                react, prod = rxn_sect.split(\"=\")\n",
    "                # separate react and prod into molecules by \"+\"\n",
    "                r_mol = react.split(\"+\")\n",
    "                p_mol = prod.split(\"+\")\n",
    "                # remove preceding and succeeding white space from all molecule names\n",
    "                r_mol = [i.lstrip().rstrip() for i in r_mol]\n",
    "                p_mol = [i.lstrip().rstrip() for i in p_mol]\n",
    "                #####\n",
    "\n",
    "                # add flags to reaction system for informaton also available in BRENDA\n",
    "                # no. subunits\n",
    "                reaction_system.extract_subunit_info(br_data, PR)\n",
    "                # post translational mods\n",
    "                reaction_system.extract_PTM(br_data, PR)\n",
    "                # cofactors\n",
    "                reaction_system.extract_cofactor_info(br_data, PR)\n",
    "                # activation cmpds?\n",
    "                reaction_system.extract_activating_mol(br_data, PR)\n",
    "\n",
    "                reaction_system.react_mol = r_mol\n",
    "                reaction_system.prod_mol = p_mol\n",
    "                \n",
    "                reaction_system.print_rxn_system()\n",
    "                input('done?')\n",
    "                clear_output()\n",
    "                # output reacion system to file\n",
    "                # prefix + EC + property + PR code in BRENDA + count of associated files .pkl\n",
    "                pickle_name = reaction_system.pickle_name\n",
    "                # pickle reaction system object\n",
    "                reaction_system.save_object(output_dir+pickle_name)\n",
    "                count += 1\n",
    "\n",
    "            break\n",
    "            if len(values) > 0:\n",
    "                value_of_int[PR] = values\n",
    "    count_done += 1\n",
    "print('--- finished %s EC classes in %s seconds ---' % (count_done, '{0:.2f}'.format(time.time() - total_start_time)))"
   ]
  },
  {
   "cell_type": "code",
   "execution_count": 9,
   "metadata": {
    "ExecuteTime": {
     "end_time": "2018-08-15T03:52:25.896798Z",
     "start_time": "2018-08-15T03:52:25.765609Z"
    }
   },
   "outputs": [
    {
     "name": "stdout",
     "output_type": "stream",
     "text": [
      "                                                fasta_file acc.code  \\\n",
      "1305091  /home/atarzia/psp/sequence_db/bio_min_dataset/...  Z2DBW5    \n",
      "1305092  /home/atarzia/psp/sequence_db/bio_min_dataset/...  Z2DBW5    \n",
      "1305123  /home/atarzia/psp/sequence_db/bio_min_dataset/...  Z2EP46    \n",
      "\n",
      "                 organism    EC.code                             species  \\\n",
      "1305091   acetylesterase    3.1.1.6    Vibrio parahaemolyticus V-223/04    \n",
      "1305092   acetylesterase    3.1.1.6    Vibrio parahaemolyticus V-223/04    \n",
      "1305123   acetylesterase    3.1.1.6    Vibrio parahaemolyticus V-223/04    \n",
      "\n",
      "            note    pi  modification  category  \n",
      "1305091   TrEMBL  6.38             0         1  \n",
      "1305092   TrEMBL  6.38             1         1  \n",
      "1305123   TrEMBL  5.79             0         0  \n"
     ]
    }
   ],
   "source": [
    "file_t = '/home/atarzia/psp/sequence_db/bio_min_dataset/3_1_1_6__BRENDA_sequences_mod.fasta'\n",
    "temp1 = pi_data[pi_data['fasta_file'] == file_t]\n",
    "temp2 = temp1[temp1['species'] == ' Vibrio parahaemolyticus V-223/04 ']\n",
    "print(temp2)"
   ]
  },
  {
   "cell_type": "code",
   "execution_count": 10,
   "metadata": {
    "ExecuteTime": {
     "end_time": "2018-08-15T03:52:27.739347Z",
     "start_time": "2018-08-15T03:52:27.732053Z"
    }
   },
   "outputs": [
    {
     "data": {
      "text/plain": [
       "' Vibrio parahaemolyticus V-223/04 '"
      ]
     },
     "execution_count": 10,
     "metadata": {},
     "output_type": "execute_result"
    }
   ],
   "source": [
    "temp1.loc[1305123]['species']"
   ]
  },
  {
   "cell_type": "markdown",
   "metadata": {},
   "source": [
    "##  load in reaction system"
   ]
  },
  {
   "cell_type": "code",
   "execution_count": 38,
   "metadata": {
    "ExecuteTime": {
     "end_time": "2018-08-08T05:23:51.451433Z",
     "start_time": "2018-08-08T05:23:51.436348Z"
    }
   },
   "outputs": [],
   "source": [
    "# load in reaction system from pickle file\n",
    "new_reaction_system = brenda_IO.Reaction_system.load_object(output_dir+pickle_name)"
   ]
  },
  {
   "cell_type": "code",
   "execution_count": 39,
   "metadata": {
    "ExecuteTime": {
     "end_time": "2018-08-08T05:23:51.612628Z",
     "start_time": "2018-08-08T05:23:51.604758Z"
    }
   },
   "outputs": [
    {
     "name": "stdout",
     "output_type": "stream",
     "text": [
      "--------------------------\n",
      "Reaction system in: RS-1_11_1_7-SP_52_0.pkl\n",
      "Reaction Catalysed:\n",
      "['2 phenolic donor + H2O2 = 2 phenoxyl radical of the donor + 2 H2O']\n",
      "Reaction Type:\n",
      "['redox reaction', 'oxidation', 'reduction', 'hydroxylation']\n",
      "--------------------------\n",
      "Reactants: guaiacol + H2O2 -------->\n",
      "Products: tetraguaiacol + H2O\n",
      "Activating Molecules: melamine OR 2-aminothiazole\n",
      "--------------------------\n",
      "No. Sub units = ['?', 'monomer']\n",
      "Reversible?: None\n",
      "Co factors?: True\n",
      "Cofactor Molecules: heme\n",
      "Post Translational Mods?: ['glycoprotein']\n",
      "--------------------------\n",
      "Meta (in full):\n",
      "(#64# 100% activity <80>; #83# 100% activity with guaiacol at 25 mM\n",
      "<105>; #44# 74% activity compared to\n",
      "2,2-azino-bis-(3-ethyl-6-benzothiazolinsulfonate) <82>; #82# shows high\n",
      "efficiency of interaction with guaiacol at 25 mM <105>; #30# 100%\n",
      "activity, high efficiency of interaction with guaiacol at 25 mM <105>;\n",
      "#52# optimal concentrations of guaiacol and H2O2 are 0.5 mM and 0.3 mM,\n",
      "respectively <139>)\n",
      "<5,6,7,8,11,16,19,23,25,26,28,32,57,65,66,67,76,80,81,82,84,88,90,91,94\n",
      "95,98,100,101,104,105,112,115,122,126,127,132,134,135,136,138,139,142>\n",
      "\n",
      "References: ['5', '6', '7', '8', '11', '16', '19', '23', '25', '26', '28', '32', '57', '65', '66', '67', '76', '80', '81', '82', '84', '88', '90', '91', '94', '95', '98', '100', '101', '104', '105', '112', '115', '122', '126', '127', '132', '134', '135', '136', '138', '139', '142']\n",
      "--------------------------\n"
     ]
    }
   ],
   "source": [
    "new_reaction_system.print_rxn_system()"
   ]
  },
  {
   "cell_type": "markdown",
   "metadata": {},
   "source": [
    "## collect SMILES from common name from Brenda"
   ]
  },
  {
   "cell_type": "markdown",
   "metadata": {},
   "source": [
    "### CHEMBL"
   ]
  },
  {
   "cell_type": "code",
   "execution_count": null,
   "metadata": {},
   "outputs": [],
   "source": [
    "available_resources = [resource for resource in dir(new_client) if not resource.startswith('_')]\n",
    "print(available_resources)\n",
    "print(len(available_resources))\n",
    "\n",
    "# molecule handler\n",
    "molecule = new_client.molecule\n",
    "molecule.set_format('json')\n",
    "\n",
    "# get molecule using unambiguous\n",
    "m3 = molecule.get('CC(=O)Oc1ccccc1C(=O)O')\n",
    "\n",
    "# batch queries\n",
    "records3 = molecule.get(['CNC(=O)c1ccc(cc1)N(CC#C)Cc2ccc3nc(C)nc(O)c3c2',\n",
    "            'Cc1cc2SC(C)(C)CC(C)(C)c2cc1\\\\N=C(/S)\\\\Nc3ccc(cc3)S(=O)(=O)N',\n",
    "            'CC(C)C[C@H](NC(=O)[C@@H](NC(=O)[C@H](Cc1c[nH]c2ccccc12)NC(=O)[C@H]3CCCN3C(=O)C(CCCCN)CCCCN)C(C)(C)C)C(=O)O'])"
   ]
  },
  {
   "cell_type": "code",
   "execution_count": 12,
   "metadata": {},
   "outputs": [],
   "source": [
    "from chembl_webresource_client.new_client import new_client\n",
    "molecule = new_client.molecule\n",
    "res = molecule.search('guaiacol')  # 'viagra')\n",
    "# guaiacol"
   ]
  },
  {
   "cell_type": "code",
   "execution_count": 37,
   "metadata": {},
   "outputs": [
    {
     "name": "stdout",
     "output_type": "stream",
     "text": [
      "there are 10 top search candidates:\n",
      "option: 0 name: GUAIACOL\n",
      "['GUAIACOL', 'GUAIACOL', 'GUAIACOL', 'Guaiacol']\n",
      "option: 1 name: GUAIACOL CARBONATE\n",
      "['GUAIACOL CARBONATE', 'GUAIACOL CARBONATE']\n",
      "option: 2 name: MEFENAMIC ACID GUAIACOL ESTER\n",
      "['Mefenamic acid guaiacol ester']\n",
      "option: 3 name: GUAIFENESIN\n",
      "['Amonidron', 'FAMEL', 'FRANOLYN CHESTY', 'GLYCERYL GUAIACOLATE', 'GUAIACOL GLYCERYL ETHER', 'GUAIFENESIN', 'GUAIFENESIN', 'GUAIFENESIN', 'GUAIFENESIN', 'GUAIFENESIN', 'GUAIFENESIN', 'GUAIFENESIN', 'GUAIFENESIN', 'GUAIFENESIN', 'GUAIPHENESIN', 'Gecolate', 'Glycerol Guaiacolate', 'Guaiphenesin', 'Humabid', 'LIQUFRUTA', 'METHPHENOXYDIOL', 'MUCINEX', 'NIROLEX FOR CHESTY COUGH DECONGESTANT', 'Robitussin', 'TIXYLIX CHESTY COUGH']\n",
      "option: 4 name: GUAIACOL HYDROCHLORIDE\n",
      "['2-Methoxyphenol']\n",
      "option: 5 name: None\n",
      "[]\n",
      "option: 6 name: None\n",
      "[]\n",
      "option: 7 name: None\n",
      "[]\n",
      "option: 8 name: None\n",
      "[]\n",
      "option: 9 name: MEQUINOL\n",
      "['4-HYDROXYANISOLE', '4-METHOXYPHENOL', '4HA', 'BMS-181158', 'HQMME; HYDROXYQUINONE METHYL ETHER', 'LEUCOBASAL', 'LEUCODINE B', 'MECHINOLUM', 'MENTHYL ANTHRANILATE', 'MEQUINOL', 'MEQUINOL', 'MEQUINOL', 'MEQUINOL', 'MEQUINOL', 'NOVO-DERMOQUINONA', 'P-GUAIACOL', 'P-HYDROXYANISOLE']\n"
     ]
    }
   ],
   "source": [
    "# print(res[0]['molecule_chembl_id'])\n",
    "# print(res[0]['molecule_structures']['canonical_smiles'])\n",
    "print('there are', len(res), 'top search candidates:')\n",
    "for i in range(len(res)):\n",
    "    print('option:', i, 'name:', res[i]['pref_name'])\n",
    "    print([res[i]['molecule_synonyms'][j]['synonyms'] for j in range(len(res[i]['molecule_synonyms']))])"
   ]
  },
  {
   "cell_type": "markdown",
   "metadata": {},
   "source": [
    "##  SABIO-RK\n",
    "http://sabiork.h-its.org/layouts/content/docuRESTfulWeb/searchPython.gsp"
   ]
  },
  {
   "cell_type": "code",
   "execution_count": 11,
   "metadata": {
    "ExecuteTime": {
     "end_time": "2018-08-15T04:22:39.085717Z",
     "start_time": "2018-08-15T04:22:38.360250Z"
    }
   },
   "outputs": [
    {
     "name": "stdout",
     "output_type": "stream",
     "text": [
      "758 matching entries found.\n"
     ]
    }
   ],
   "source": [
    "# set EC \n",
    "EC = \"1.1.1.1\"\n",
    "# get all SABIO entries\n",
    "entries = SABIO_IO.get_entries_per_EC(EC)"
   ]
  },
  {
   "cell_type": "code",
   "execution_count": 17,
   "metadata": {
    "ExecuteTime": {
     "end_time": "2018-08-15T04:23:58.851244Z",
     "start_time": "2018-08-15T04:23:53.753267Z"
    }
   },
   "outputs": [
    {
     "name": "stdout",
     "output_type": "stream",
     "text": [
      "entry: 11021\n",
      "--------------------------\n",
      "EC: 1.1.1.1\n",
      "Organism: Coturnix coturnix japonica\n",
      "SABIO entry ID: 11021\n",
      "SABIO reaction ID: 8784\n",
      "--------------------------\n",
      "Cyclohexanone  (ID: 5081) as Product\n",
      "NADH  (ID: 38) as Product\n",
      "H+  (ID: 39) as Product\n",
      "NAD+  (ID: 37) as Substrate\n",
      "Cyclohexanol  (ID: 5279) as Substrate\n",
      "--------------------------\n",
      "sRS-1_1_1_1-11021.pkl\n"
     ]
    }
   ],
   "source": [
    "# iterate over entries\n",
    "eID = entries[1]\n",
    "print('entry:', eID)\n",
    "# initialise reaction system object\n",
    "rxn_syst = SABIO_IO.SABIO_reaction(EC, eID)\n",
    "# get reaction ID\n",
    "rxn_syst.organism, rxn_syst.rID = SABIO_IO.get_rxnID_from_eID(eID)\n",
    "# get reaction system\n",
    "rxn_syst.get_reaction_system()\n",
    "rxn_syst.print_rxn_system()\n",
    "# append compound information\n",
    "for m in rxn_syst.components:\n",
    "    m.get_cmpd_information()\n",
    "    \n",
    "# pickle reaction system object to file\n",
    "# prefix (sRS for SABIO) + EC + EntryID .pkl\n",
    "rxn_syst.save_object(output_dir+rxn_syst.pkl_name)"
   ]
  },
  {
   "cell_type": "code",
   "execution_count": 28,
   "metadata": {
    "ExecuteTime": {
     "end_time": "2018-08-15T04:28:08.043991Z",
     "start_time": "2018-08-15T04:28:08.021465Z"
    }
   },
   "outputs": [
    {
     "name": "stdout",
     "output_type": "stream",
     "text": [
      "entry: 11021\n",
      "loading: /home/atarzia/psp/sequence_db/bio_min_dataset/sRS-1_1_1_1-11021.pkl\n",
      "--------------------------\n",
      "EC: 1.1.1.1\n",
      "Organism: Coturnix coturnix japonica\n",
      "SABIO entry ID: 11021\n",
      "SABIO reaction ID: 8784\n",
      "--------------------------\n",
      "Cyclohexanone  (ID: 5081) as Product\n",
      "NADH  (ID: 38) as Product\n",
      "H+  (ID: 39) as Product\n",
      "NAD+  (ID: 37) as Substrate\n",
      "Cyclohexanol  (ID: 5279) as Substrate\n",
      "--------------------------\n"
     ]
    }
   ],
   "source": [
    "# iterate over entries\n",
    "eID = entries[1]\n",
    "print('entry:', eID)\n",
    "# initialise reaction system object\n",
    "rxn_syst = SABIO_IO.SABIO_reaction(EC, eID)\n",
    "# load in rxn system\n",
    "rxn_syst = rxn_syst.load_object(output_dir+rxn_syst.pkl_name)\n",
    "rxn_syst.print_rxn_system()"
   ]
  },
  {
   "cell_type": "code",
   "execution_count": null,
   "metadata": {},
   "outputs": [],
   "source": []
  }
 ],
 "metadata": {
  "kernelspec": {
   "display_name": "Python 3",
   "language": "python",
   "name": "python3"
  },
  "language_info": {
   "codemirror_mode": {
    "name": "ipython",
    "version": 3
   },
   "file_extension": ".py",
   "mimetype": "text/x-python",
   "name": "python",
   "nbconvert_exporter": "python",
   "pygments_lexer": "ipython3",
   "version": "3.6.5"
  }
 },
 "nbformat": 4,
 "nbformat_minor": 2
}
