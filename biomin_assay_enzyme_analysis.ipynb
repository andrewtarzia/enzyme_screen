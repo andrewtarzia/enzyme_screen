{
 "cells": [
  {
   "cell_type": "code",
   "execution_count": 164,
   "metadata": {
    "ExecuteTime": {
     "end_time": "2018-08-29T14:25:56.361636Z",
     "start_time": "2018-08-29T14:25:56.347559Z"
    }
   },
   "outputs": [
    {
     "data": {
      "text/html": [
       "<style>.container { width:95% !important; }</style>"
      ],
      "text/plain": [
       "<IPython.core.display.HTML object>"
      ]
     },
     "metadata": {},
     "output_type": "display_data"
    },
    {
     "name": "stdout",
     "output_type": "stream",
     "text": [
      "The autoreload extension is already loaded. To reload it, use:\n",
      "  %reload_ext autoreload\n"
     ]
    }
   ],
   "source": [
    "from IPython.core.display import HTML\n",
    "display(HTML(\"<style>.container { width:95% !important; }</style>\"))\n",
    "%load_ext autoreload\n",
    "%autoreload 1"
   ]
  },
  {
   "cell_type": "markdown",
   "metadata": {},
   "source": [
    "Author: Andrew Tarzia\n",
    "\n",
    "Date Created: 05 Aug 2018\n",
    "\n",
    "License:"
   ]
  },
  {
   "cell_type": "markdown",
   "metadata": {},
   "source": [
    "# Notebook to analyse all enzymes used in ZIF-8 experiments using BRENDA database\n",
    "\n",
    "TODO:\n",
    "- add license\n",
    "- modifications\n",
    "    - introduce exposure consideration\n",
    "        - get another method for calculating exposure without structure?\n",
    "    - generalise code to multiple target residues (\"targ = convert_to_one_letter_code_sing('target_res')\" needs to act on a list"
   ]
  },
  {
   "cell_type": "code",
   "execution_count": 2,
   "metadata": {
    "ExecuteTime": {
     "end_time": "2018-08-29T09:51:39.297731Z",
     "start_time": "2018-08-29T09:51:38.107820Z"
    }
   },
   "outputs": [],
   "source": [
    "import os\n",
    "import glob\n",
    "import pandas as pd\n",
    "import matplotlib.pyplot as plt\n",
    "from Bio import SeqIO\n",
    "from Bio.SeqUtils.ProtParam import ProteinAnalysis\n",
    "from Bio.Alphabet import IUPAC\n",
    "from rdkit.Chem.Draw import IPythonConsole  # to show molecules in notebook\n",
    "import time\n",
    "import numpy as np\n",
    "# ensure cpickle usage\n",
    "try:\n",
    "    import cPickle as pickle\n",
    "except ModuleNotFoundError:\n",
    "    import pickle\n",
    "from rdkit.Chem import AllChem as Chem\n",
    "from rdkit.Chem import Descriptors\n",
    "from rdkit.Chem.Descriptors3D import NPR1, NPR2, PMI1, PMI2, PMI3\n",
    "from rdkit.Chem.Draw.MolDrawing import MolDrawing\n",
    "from rdkit.Chem.Draw import IPythonConsole\n",
    "from rdkit.Chem import Draw\n",
    "from rdkit.Geometry import rdGeometry\n",
    "from rdkit.Chem import PyMol\n",
    "from rdkit import Geometry\n",
    "import tempfile\n",
    "%aimport pi_fn\n",
    "%aimport parameters\n",
    "%aimport brenda_IO\n",
    "%aimport SABIO_IO\n",
    "%aimport rdkit_functions\n",
    "%aimport ellipsoid"
   ]
  },
  {
   "cell_type": "markdown",
   "metadata": {},
   "source": [
    "# Calculate pI of all sequences in EC No. used in literature\n",
    "## Produces distribution for each EC No.\n",
    "\n",
    "## Notes:\n",
    "### Biopython:\n",
    "- pK values and the methods are taken from::\n",
    "    * Bjellqvist, B.,Hughes, G.J., Pasquali, Ch., Paquet, N., Ravier, F.,\n",
    "    Sanchez, J.-Ch., Frutiger, S. & Hochstrasser, D.F.\n",
    "    The focusing positions of polypeptides in immobilized pH gradients can be\n",
    "    predicted from their amino acid sequences. Electrophoresis 1993, 14,\n",
    "    1023-1031.\n",
    "    * Bjellqvist, B., Basse, B., Olsen, E. and Celis, J.E.\n",
    "    Reference points for comparisons of two-dimensional maps of proteins from\n",
    "    different human cell types defined in a pH scale where isoelectric points\n",
    "    correlate with polypeptide compositions. Electrophoresis 1994, 15, 529-539.\n",
    "\n",
    "|  AA | pKa  |\n",
    "|-----|------|\n",
    "| ASP | 4.05 |\n",
    "| GLU | 4.45 |\n",
    "| HIS | 5.98 |\n",
    "| CYS | 9.00 |\n",
    "| TYR | 10.0 |\n",
    "| LYS | 10.0 |\n",
    "| ARG | 12.0 |\n",
    "| N-terminus | 7.50 |\n",
    "| N-terminus : GLU | 7.7 |\n",
    "| N-terminus : VAL | 7.44 |\n",
    "| N-terminus : THR | 6.82 |\n",
    "| N-terminus : PRO | 8.36 |\n",
    "| N-terminus : SER | 6.93 |\n",
    "| N-terminus : MET | 7.00 |\n",
    "| N-terminus : ALA | 7.59 |\n",
    "| C-terminus | 3.55 |\n",
    "| C-terminus : ASP | 4.55 |\n",
    "| C-terminus : GLU | 4.75 |\n",
    "\n",
    "- with the above pKas and the data set in Tash's paper (DOI:) we apply a pI cut off = XX.\n",
    "\n",
    "\n",
    "### Modified pIs:\n",
    "- assuming sequence only and therefore cannot use DSSP to calculate exposure"
   ]
  },
  {
   "cell_type": "code",
   "execution_count": 3,
   "metadata": {
    "ExecuteTime": {
     "end_time": "2018-08-23T04:29:02.365751Z",
     "start_time": "2018-08-23T04:29:02.361071Z"
    }
   },
   "outputs": [],
   "source": [
    "# get parameters\n",
    "param_dict = parameters.get_parameters()\n",
    "\n",
    "# input parameters\n",
    "database_directory = '/home/atarzia/psp/sequence_db/bio_min_dataset/'\n",
    "output_dir = database_directory"
   ]
  },
  {
   "cell_type": "code",
   "execution_count": 4,
   "metadata": {
    "ExecuteTime": {
     "end_time": "2018-08-23T04:29:02.796431Z",
     "start_time": "2018-08-23T04:29:02.772553Z"
    }
   },
   "outputs": [],
   "source": [
    "# set EC numbers of interest based on dataset\n",
    "# 'none' in species lists implies species was not given with literature report.\n",
    "EC_set = {\n",
    "    # EC : species list\n",
    "    '1.11.1.5': ['equus caballus', ],\n",
    "    '1.11.1.6': ['bos taurus', ],\n",
    "    '1.11.1.7': ['armoracia rusticana', ],\n",
    "    '1.9.3.1': ['equus caballus', ],\n",
    "    '1.1.5.2': ['none', ],\n",
    "    '3.5.1.5': ['canavalia ensiformis'],\n",
    "    '1.1.3.4': ['aspergillus niger'],\n",
    "    '1.13.12.4': ['none'],\n",
    "    '3.2.1.26': ['none'],\n",
    "    '3.1.1.3': ['thermomyces lanuginosus', 'alcaligenes sp.',\n",
    "                'pseudomonas fluorescens',\n",
    "                'rhizomucor miehei', 'candida antarctica',\n",
    "                'aspergillus niger'],\n",
    "    '3.1.1.6': ['lactobacillus acidophilus'],\n",
    "    '3.5.1.11': ['none'],\n",
    "    }"
   ]
  },
  {
   "cell_type": "code",
   "execution_count": 5,
   "metadata": {
    "ExecuteTime": {
     "end_time": "2018-08-23T04:29:06.592329Z",
     "start_time": "2018-08-23T04:29:04.476974Z"
    }
   },
   "outputs": [
    {
     "name": "stdout",
     "output_type": "stream",
     "text": [
      "databases:\n",
      "-- 1_11_1_5__BRENDA_sequences.fasta\n",
      "-- 1_11_1_6__BRENDA_sequences.fasta\n",
      "-- 1_11_1_7__BRENDA_sequences.fasta\n",
      "-- 1_13_12_4__BRENDA_sequences.fasta\n",
      "-- 1_1_3_4__BRENDA_sequences.fasta\n",
      "-- 1_1_5_2__BRENDA_sequences.fasta\n",
      "-- 1_9_3_1__BRENDA_sequences.fasta\n",
      "-- 3_1_1_3__BRENDA_sequences.fasta\n",
      "-- 3_1_1_6__BRENDA_sequences.fasta\n",
      "-- 3_2_1_26__BRENDA_sequences.fasta\n",
      "-- 3_5_1_11__BRENDA_sequences.fasta\n",
      "-- 3_5_1_5__BRENDA_sequences.fasta\n",
      "redo pI calculation (True = yes, False = no)False\n"
     ]
    }
   ],
   "source": [
    "# get input FASTA file names\n",
    "database_names = []\n",
    "for i in glob.glob(database_directory+\"*fasta\"):\n",
    "    if \"_mod\" not in i:\n",
    "        database_names.append(i)\n",
    "database_names = sorted(database_names)\n",
    "print('databases:')\n",
    "for i in database_names:\n",
    "    print('--', i.replace(database_directory, ''))\n",
    "\n",
    "# prepare output CSV file\n",
    "redo_pi = input('redo pI calculation (True = yes, False = no)')\n",
    "if redo_pi == 'True':\n",
    "    redo_pi = True\n",
    "    pi_fn.prepare_out_csv(output_dir, param_dict)\n",
    "    # fix formatting of FASTA files to match BIOPYTHON readable\n",
    "    pi_fn.fix_fasta(database_names)"
   ]
  },
  {
   "cell_type": "code",
   "execution_count": 9,
   "metadata": {
    "ExecuteTime": {
     "end_time": "2018-08-16T14:29:29.526226Z",
     "start_time": "2018-08-16T14:23:40.616149Z"
    }
   },
   "outputs": [
    {
     "name": "stdout",
     "output_type": "stream",
     "text": [
      "calculate all pIs for target EC sequences\n",
      "doing: /home/atarzia/psp/sequence_db/bio_min_dataset/1_11_1_5__BRENDA_sequences.fasta\n",
      "--- finished 2220 sequences in 0.69 seconds ---\n",
      "plot distribution of pIs\n",
      "done\n",
      "doing: /home/atarzia/psp/sequence_db/bio_min_dataset/1_11_1_6__BRENDA_sequences.fasta\n",
      "--- finished 22068 sequences in 7.67 seconds ---\n",
      "plot distribution of pIs\n",
      "done\n",
      "doing: /home/atarzia/psp/sequence_db/bio_min_dataset/1_11_1_7__BRENDA_sequences.fasta\n",
      "--- finished 16288 sequences in 4.23 seconds ---\n",
      "plot distribution of pIs\n",
      "done\n",
      "doing: /home/atarzia/psp/sequence_db/bio_min_dataset/1_13_12_4__BRENDA_sequences.fasta\n",
      "--- finished 379 sequences in 0.12 seconds ---\n",
      "plot distribution of pIs\n",
      "done\n",
      "doing: /home/atarzia/psp/sequence_db/bio_min_dataset/1_1_3_4__BRENDA_sequences.fasta\n",
      "--- finished 36 sequences in 0.02 seconds ---\n",
      "plot distribution of pIs\n",
      "done\n",
      "doing: /home/atarzia/psp/sequence_db/bio_min_dataset/1_1_5_2__BRENDA_sequences.fasta\n",
      "--- finished 1765 sequences in 0.67 seconds ---\n",
      "plot distribution of pIs\n",
      "done\n",
      "doing: /home/atarzia/psp/sequence_db/bio_min_dataset/1_9_3_1__BRENDA_sequences.fasta\n",
      "--- finished 1253592 sequences in 301.01 seconds ---\n",
      "plot distribution of pIs\n",
      "done\n",
      "doing: /home/atarzia/psp/sequence_db/bio_min_dataset/3_1_1_3__BRENDA_sequences.fasta\n",
      "--- finished 6487 sequences in 1.82 seconds ---\n",
      "plot distribution of pIs\n",
      "done\n",
      "doing: /home/atarzia/psp/sequence_db/bio_min_dataset/3_1_1_6__BRENDA_sequences.fasta\n",
      "--- finished 80 sequences in 0.02 seconds ---\n",
      "plot distribution of pIs\n",
      "done\n",
      "doing: /home/atarzia/psp/sequence_db/bio_min_dataset/3_2_1_26__BRENDA_sequences.fasta\n",
      "--- finished 5665 sequences in 1.73 seconds ---\n",
      "plot distribution of pIs\n",
      "done\n",
      "doing: /home/atarzia/psp/sequence_db/bio_min_dataset/3_5_1_11__BRENDA_sequences.fasta\n",
      "--- finished 1098 sequences in 0.40 seconds ---\n",
      "plot distribution of pIs\n",
      "done\n",
      "doing: /home/atarzia/psp/sequence_db/bio_min_dataset/3_5_1_5__BRENDA_sequences.fasta\n",
      "--- finished 23660 sequences in 5.56 seconds ---\n",
      "plot distribution of pIs\n",
      "done\n"
     ]
    },
    {
     "data": {
      "image/png": "[encoded data removed]",
      "text/plain": [
       "<Figure size 432x288 with 1 Axes>"
      ]
     },
     "metadata": {},
     "output_type": "display_data"
    },
    {
     "data": {
      "image/png": "[encoded data removed]",
      "text/plain": [
       "<Figure size 432x288 with 1 Axes>"
      ]
     },
     "metadata": {},
     "output_type": "display_data"
    },
    {
     "data": {
      "image/png": "[encoded data removed]",
      "text/plain": [
       "<Figure size 432x288 with 1 Axes>"
      ]
     },
     "metadata": {},
     "output_type": "display_data"
    },
    {
     "data": {
      "image/png": "[encoded data removed]",
      "text/plain": [
       "<Figure size 432x288 with 1 Axes>"
      ]
     },
     "metadata": {},
     "output_type": "display_data"
    },
    {
     "data": {
      "image/png": "[encoded data removed]",
      "text/plain": [
       "<Figure size 432x288 with 1 Axes>"
      ]
     },
     "metadata": {},
     "output_type": "display_data"
    },
    {
     "data": {
      "image/png": "[encoded data removed]",
      "text/plain": [
       "<Figure size 432x288 with 1 Axes>"
      ]
     },
     "metadata": {},
     "output_type": "display_data"
    },
    {
     "data": {
      "image/png": "[encoded data removed]",
      "text/plain": [
       "<Figure size 432x288 with 1 Axes>"
      ]
     },
     "metadata": {},
     "output_type": "display_data"
    },
    {
     "data": {
      "image/png": "[encoded data removed]",
      "text/plain": [
       "<Figure size 432x288 with 1 Axes>"
      ]
     },
     "metadata": {},
     "output_type": "display_data"
    },
    {
     "data": {
      "image/png": "[encoded data removed]",
      "text/plain": [
       "<Figure size 432x288 with 1 Axes>"
      ]
     },
     "metadata": {},
     "output_type": "display_data"
    },
    {
     "data": {
      "image/png": "[encoded data removed]",
      "text/plain": [
       "<Figure size 432x288 with 1 Axes>"
      ]
     },
     "metadata": {},
     "output_type": "display_data"
    },
    {
     "data": {
      "image/png": "[encoded data removed]",
      "text/plain": [
       "<Figure size 432x288 with 1 Axes>"
      ]
     },
     "metadata": {},
     "output_type": "display_data"
    },
    {
     "data": {
      "image/png": "[encoded data removed]",
      "text/plain": [
       "<Figure size 432x288 with 1 Axes>"
      ]
     },
     "metadata": {},
     "output_type": "display_data"
    }
   ],
   "source": [
    "print('calculate all pIs for target EC sequences')\n",
    "for EC_file in database_names:\n",
    "    # read the file\n",
    "    # but to avoid memory issues\n",
    "    # we will calculate the pI on the fly\n",
    "    # using the bio python module\n",
    "    print('doing:', EC_file)\n",
    "    file_mod = EC_file.replace(\".fasta\", \"_mod.fasta\")\n",
    "    if redo_pi is True:\n",
    "        pi_fn.calculate_pI_from_file(file_mod, param_dict, output_dir)\n",
    "    print('plot distribution of pIs')\n",
    "    pi_data = pd.read_csv(output_dir+param_dict['out_CSV_pi'], index_col=False)\n",
    "    EC_pi_data = pi_data[pi_data['fasta_file'] == file_mod]\n",
    "    pi_fn.plot_EC_pI_dist(EC_pi_data, param_dict,\n",
    "                          filename=file_mod.replace('.fasta', '.pdf'),\n",
    "                          title=file_mod.replace(output_dir, '').replace('__BRENDA_sequences_mod.fasta', ''))\n",
    "    print('done')"
   ]
  },
  {
   "cell_type": "code",
   "execution_count": 10,
   "metadata": {
    "ExecuteTime": {
     "end_time": "2018-08-16T14:29:29.741795Z",
     "start_time": "2018-08-16T14:29:29.531467Z"
    }
   },
   "outputs": [
    {
     "data": {
      "text/plain": [
       "(0, 30000)"
      ]
     },
     "execution_count": 10,
     "metadata": {},
     "output_type": "execute_result"
    },
    {
     "data": {
      "image/png": "[encoded data removed]",
      "text/plain": [
       "<Figure size 432x288 with 1 Axes>"
      ]
     },
     "metadata": {},
     "output_type": "display_data"
    }
   ],
   "source": [
    "times = [0.74, 8.18, 4.85, 0.13, 0.02, 0.78, \n",
    "         0.62, 7.42, 4.26, 0.11, 0.01, 0.67, \n",
    "         300.89, 1.81, 0.03, 1.82, 0.44, 5.56]\n",
    "seqs = [2220, 22068, 16288, 379, 36, 1765, 2220,\n",
    "        22068, 16288, 379, 36, 1765, 1253592,\n",
    "        6487, 80, 5665, 1098, 23660]\n",
    "plt.scatter(times, seqs, c='k')\n",
    "plt.xlabel('time (s)')\n",
    "plt.ylabel('no. sequences')\n",
    "plt.xlim(0, 15)\n",
    "plt.ylim(0, 30000)"
   ]
  },
  {
   "cell_type": "markdown",
   "metadata": {},
   "source": [
    "# Collect pI of species used in Literature data base using BRENDA"
   ]
  },
  {
   "cell_type": "code",
   "execution_count": 11,
   "metadata": {
    "ExecuteTime": {
     "end_time": "2018-08-16T14:29:29.747710Z",
     "start_time": "2018-08-16T14:29:29.743742Z"
    }
   },
   "outputs": [],
   "source": [
    "# get parameters\n",
    "param_dict = parameters.get_parameters()\n",
    "\n",
    "# input parameters\n",
    "database_directory = '/home/atarzia/psp/sequence_db/bio_min_dataset/'\n",
    "output_dir = database_directory"
   ]
  },
  {
   "cell_type": "code",
   "execution_count": 12,
   "metadata": {
    "ExecuteTime": {
     "end_time": "2018-08-16T14:29:29.759008Z",
     "start_time": "2018-08-16T14:29:29.749457Z"
    }
   },
   "outputs": [],
   "source": [
    "# set EC numbers of interest based on dataset\n",
    "# 'none' in species lists implies species was not given with literature report.\n",
    "EC_set = {\n",
    "    # EC : species list\n",
    "    '1.11.1.5': ['equus caballus', ],\n",
    "    '1.11.1.6': ['bos taurus', ],\n",
    "    '1.11.1.7': ['armoracia rusticana', ],\n",
    "    '1.9.3.1': ['equus caballus', ],\n",
    "    '1.1.5.2': ['none', ],\n",
    "    '3.5.1.5': ['canavalia ensiformis'],\n",
    "    '1.1.3.4': ['aspergillus niger'],\n",
    "    '1.13.12.4': ['none'],\n",
    "    '3.2.1.26': ['none'],\n",
    "    '3.1.1.3': ['thermomyces lanuginosus', 'alcaligenes sp.',\n",
    "                'pseudomonas fluorescens',\n",
    "                'rhizomucor miehei', 'candida antarctica',\n",
    "                'aspergillus niger'],\n",
    "    '3.1.1.6': ['lactobacillus acidophilus'],\n",
    "    '3.5.1.11': ['none'],\n",
    "    }"
   ]
  },
  {
   "cell_type": "code",
   "execution_count": 13,
   "metadata": {
    "ExecuteTime": {
     "end_time": "2018-08-16T14:29:32.898540Z",
     "start_time": "2018-08-16T14:29:29.761048Z"
    }
   },
   "outputs": [],
   "source": [
    "# read in pI output file\n",
    "pi_data = pd.read_csv(output_dir+param_dict['out_CSV_pi'], index_col=False)"
   ]
  },
  {
   "cell_type": "code",
   "execution_count": 14,
   "metadata": {
    "ExecuteTime": {
     "end_time": "2018-08-16T14:29:37.771822Z",
     "start_time": "2018-08-16T14:29:32.900487Z"
    },
    "scrolled": false
   },
   "outputs": [
    {
     "name": "stdout",
     "output_type": "stream",
     "text": [
      "Screen all Enzymes in EC Classes using BRENDA data\n",
      "-----------------------------------------------\n",
      "doing: /home/atarzia/psp/sequence_db/bio_min_dataset/1_11_1_5__BRENDA_sequences.fasta\n",
      "---  1459 proteins out of 2220 remain, OR 65 % ---\n",
      "EC: 1.11.1.5\n",
      "species: equus caballus\n",
      "species in sequence data: False\n",
      "species in BRENDA data: False\n",
      "reported pIs in BRENDA: dict_values([])\n",
      "-----------------------------------------------\n",
      "doing: /home/atarzia/psp/sequence_db/bio_min_dataset/1_11_1_6__BRENDA_sequences.fasta\n",
      "---  14865 proteins out of 22068 remain, OR 67 % ---\n",
      "EC: 1.11.1.6\n",
      "species: bos taurus\n",
      "species in sequence data: True\n",
      "species in BRENDA data: True\n",
      "protein code: 12 has PI in BRENDA\n",
      "protein code: 138 does not have PI in BRENDA\n",
      "reported pIs in BRENDA: dict_values([[5.4]])\n",
      "-----------------------------------------------\n",
      "doing: /home/atarzia/psp/sequence_db/bio_min_dataset/1_11_1_7__BRENDA_sequences.fasta\n",
      "---  9633 proteins out of 16288 remain, OR 59 % ---\n",
      "EC: 1.11.1.7\n",
      "species: armoracia rusticana\n",
      "species in sequence data: True\n",
      "species in BRENDA data: True\n",
      "protein code: 52 has PI in BRENDA\n",
      "protein code: 92 does not have PI in BRENDA\n",
      "reported pIs in BRENDA: dict_values([[9.0, 6.4, 8.8]])\n",
      "-----------------------------------------------\n",
      "doing: /home/atarzia/psp/sequence_db/bio_min_dataset/1_13_12_4__BRENDA_sequences.fasta\n",
      "---  298 proteins out of 379 remain, OR 78 % ---\n",
      "EC: 1.13.12.4\n",
      "species: none\n",
      "species in sequence data: False\n",
      "species in BRENDA data: False\n",
      "reported pIs in BRENDA: dict_values([])\n",
      "-----------------------------------------------\n",
      "doing: /home/atarzia/psp/sequence_db/bio_min_dataset/1_1_3_4__BRENDA_sequences.fasta\n",
      "---  31 proteins out of 36 remain, OR 86 % ---\n",
      "EC: 1.1.3.4\n",
      "species: aspergillus niger\n",
      "species in sequence data: True\n",
      "species in BRENDA data: True\n",
      "protein code: 27 does not have PI in BRENDA\n",
      "protein code: 3 has PI in BRENDA\n",
      "reported pIs in BRENDA: dict_values([[4.2]])\n",
      "-----------------------------------------------\n",
      "doing: /home/atarzia/psp/sequence_db/bio_min_dataset/1_1_5_2__BRENDA_sequences.fasta\n",
      "---  1269 proteins out of 1765 remain, OR 71 % ---\n",
      "EC: 1.1.5.2\n",
      "species: none\n",
      "species in sequence data: False\n",
      "species in BRENDA data: False\n",
      "reported pIs in BRENDA: dict_values([])\n",
      "-----------------------------------------------\n",
      "doing: /home/atarzia/psp/sequence_db/bio_min_dataset/1_9_3_1__BRENDA_sequences.fasta\n",
      "---  972317 proteins out of 1253592 remain, OR 77 % ---\n",
      "EC: 1.9.3.1\n",
      "species: equus caballus\n",
      "species in sequence data: True\n",
      "species in BRENDA data: True\n",
      "protein code: 46 does not have PI in BRENDA\n",
      "reported pIs in BRENDA: dict_values([])\n",
      "-----------------------------------------------\n",
      "doing: /home/atarzia/psp/sequence_db/bio_min_dataset/3_1_1_3__BRENDA_sequences.fasta\n",
      "---  4082 proteins out of 6487 remain, OR 62 % ---\n",
      "EC: 3.1.1.3\n",
      "species: thermomyces lanuginosus\n",
      "species in sequence data: True\n",
      "species in BRENDA data: True\n",
      "protein code: 185 does not have PI in BRENDA\n",
      "protein code: 82 does not have PI in BRENDA\n",
      "reported pIs in BRENDA: dict_values([])\n",
      "species: alcaligenes sp.\n",
      "species in sequence data: True\n",
      "species in BRENDA data: True\n",
      "protein code: 44 does not have PI in BRENDA\n",
      "reported pIs in BRENDA: dict_values([])\n",
      "species: pseudomonas fluorescens\n",
      "species in sequence data: True\n",
      "species in BRENDA data: True\n",
      "protein code: 141 does not have PI in BRENDA\n",
      "protein code: 20 has PI in BRENDA\n",
      "['4.7'] ['4.8']\n",
      "reported pIs in BRENDA: dict_values([[4.7, 4.8]])\n",
      "species: rhizomucor miehei\n",
      "species in sequence data: True\n",
      "species in BRENDA data: True\n",
      "protein code: 74 does not have PI in BRENDA\n",
      "reported pIs in BRENDA: dict_values([])\n",
      "species: candida antarctica\n",
      "species in sequence data: False\n",
      "species in BRENDA data: True\n",
      "protein code: 89 does not have PI in BRENDA\n",
      "reported pIs in BRENDA: dict_values([])\n",
      "species: aspergillus niger\n",
      "species in sequence data: True\n",
      "species in BRENDA data: True\n",
      "protein code: 17 has PI in BRENDA\n",
      "reported pIs in BRENDA: dict_values([[8.5, 4.4]])\n",
      "-----------------------------------------------\n",
      "doing: /home/atarzia/psp/sequence_db/bio_min_dataset/3_1_1_6__BRENDA_sequences.fasta\n",
      "---  40 proteins out of 80 remain, OR 50 % ---\n",
      "EC: 3.1.1.6\n",
      "species: lactobacillus acidophilus\n",
      "species in sequence data: False\n",
      "species in BRENDA data: False\n",
      "reported pIs in BRENDA: dict_values([])\n",
      "-----------------------------------------------\n",
      "doing: /home/atarzia/psp/sequence_db/bio_min_dataset/3_2_1_26__BRENDA_sequences.fasta\n",
      "---  5181 proteins out of 5665 remain, OR 91 % ---\n",
      "EC: 3.2.1.26\n",
      "species: none\n",
      "species in sequence data: False\n",
      "species in BRENDA data: False\n",
      "reported pIs in BRENDA: dict_values([])\n",
      "-----------------------------------------------\n",
      "doing: /home/atarzia/psp/sequence_db/bio_min_dataset/3_5_1_11__BRENDA_sequences.fasta\n",
      "---  728 proteins out of 1098 remain, OR 66 % ---\n",
      "EC: 3.5.1.11\n",
      "species: none\n",
      "species in sequence data: False\n",
      "species in BRENDA data: False\n",
      "reported pIs in BRENDA: dict_values([])\n",
      "-----------------------------------------------\n",
      "doing: /home/atarzia/psp/sequence_db/bio_min_dataset/3_5_1_5__BRENDA_sequences.fasta\n",
      "---  18297 proteins out of 23660 remain, OR 77 % ---\n",
      "EC: 3.5.1.5\n",
      "species: canavalia ensiformis\n",
      "species in sequence data: True\n",
      "species in BRENDA data: True\n",
      "protein code: 27 does not have PI in BRENDA\n",
      "protein code: 58 does not have PI in BRENDA\n",
      "protein code: 61 does not have PI in BRENDA\n",
      "protein code: 70 has PI in BRENDA\n",
      "reported pIs in BRENDA: dict_values([[5.6]])\n",
      "--- finished 12 EC classes in 4.69 seconds ---\n"
     ]
    }
   ],
   "source": [
    "print('Screen all Enzymes in EC Classes using BRENDA data')\n",
    "count_done = 0\n",
    "total_start_time = time.time()\n",
    "for EC_file in database_names:\n",
    "    # read the file\n",
    "    # but to avoid memory issues\n",
    "    # we will calculate the pI on the fly\n",
    "    # using the bio python module\n",
    "    print('-----------------------------------------------')\n",
    "    print('doing:', EC_file)\n",
    "    file_mod = EC_file.replace(\".fasta\", \"_mod.fasta\")\n",
    "    EC_pi_data = pi_data[pi_data['fasta_file'] == file_mod]\n",
    "    # only keep those that pass the pI test\n",
    "    pi_passed_data = EC_pi_data[EC_pi_data['pi'] < param_dict['cutoff_pi']]\n",
    "    print('--- ', \n",
    "          len(pi_passed_data), 'proteins out of', len(EC_pi_data), \n",
    "          'remain, OR', int(len(pi_passed_data)/len(EC_pi_data)*100),\n",
    "          \"% ---\")\n",
    "    EC_no = list(set(EC_pi_data['EC.code']))[0].replace(' ', '').replace(\".\", \"_\")\n",
    "    print('EC:', EC_no.replace(\"_\", \".\"))\n",
    "    br_datafile = 'brenda_download_'+EC_no+'.txt'\n",
    "    # convert br_datafile into dictionary\n",
    "    br_symbols, br_data = brenda_IO.get_brenda_dict(param_dict['BRENDA_DB_loc']+br_datafile)\n",
    "    # from here is quite bio-min assay literature specific - although the code can be reused\n",
    "    # get species of interest from known EC records\n",
    "    species_of_interest = EC_set[EC_no.replace('_', '.')]\n",
    "    for spec in species_of_interest:\n",
    "        print('species:', spec)\n",
    "        # is species in sequence data?\n",
    "        spec_in_seq, spec_in_br = brenda_IO.is_species_reported(spec, \n",
    "                                                                EC_pi_data, \n",
    "                                                                br_data, \n",
    "                                                                verbose=True)\n",
    "        PR_of_int = []\n",
    "        for i in sorted(br_data['PR']):\n",
    "            if spec in i.lower():\n",
    "                # this assumes that the first item of each line is always \"#\"\n",
    "                PR_info = i.split(\"#\")[1]            \n",
    "                if PR_info not in PR_of_int:\n",
    "                    PR_of_int.append(PR_info)\n",
    "        # get pI from BRENDA\n",
    "        prop_of_int = 'PI'\n",
    "        list_of_int = br_data[prop_of_int]\n",
    "        # get list of protein codes with property of interest\n",
    "        EC_prop_PR_codes = brenda_IO.get_prop_PR_codes(list_of_int)\n",
    "        value_of_int = {}\n",
    "        for PR in PR_of_int:\n",
    "            if PR in set([j for i in EC_prop_PR_codes.values() for j in i ]):\n",
    "                print('protein code:', PR, 'has', prop_of_int, 'in BRENDA')\n",
    "            else:\n",
    "                print('protein code:', PR, 'does not have', prop_of_int, 'in BRENDA')\n",
    "            values = [list_of_int[i].split(\" \")[1] \n",
    "                      for i in EC_prop_PR_codes.keys() if PR in EC_prop_PR_codes[i]]\n",
    "            # apply property specific rules\n",
    "            # check for ranges - append min and max\n",
    "            values_min = [i.split('-')[0] for i in values if '-' in i and i[0] != '-']\n",
    "            values_max = [i.split('-')[1] for i in values if '-' in i and i[0] != '-']\n",
    "            if len(values_min) > 0 and len(values_max) > 0:\n",
    "                for i in np.arange(len(values)-1, -1, -1):\n",
    "                    if '-' in values[i]:\n",
    "                        del values[i]\n",
    "                print(values_min, values_max)\n",
    "                values.append(values_min[0])\n",
    "                values.append(values_max[0])\n",
    "            # PI == float\n",
    "            values = [float(i) for i in values]\n",
    "            # PI => between 0 and 14\n",
    "            values = [i for i in values if i >= 0 and i <= 14]\n",
    "            if len(values) > 0:\n",
    "                value_of_int[PR] = values\n",
    "        print('reported pIs in BRENDA:', value_of_int.values())\n",
    "    count_done += 1\n",
    "print('--- finished %s EC classes in %s seconds ---' % (count_done, '{0:.2f}'.format(time.time() - total_start_time)))"
   ]
  },
  {
   "cell_type": "markdown",
   "metadata": {},
   "source": [
    "# From the list of reactions reported in the literature - determine, which molecules fit in ZIF-8"
   ]
  },
  {
   "cell_type": "code",
   "execution_count": 3,
   "metadata": {
    "ExecuteTime": {
     "end_time": "2018-08-29T09:51:43.050824Z",
     "start_time": "2018-08-29T09:51:43.011916Z"
    },
    "code_folding": [
     0,
     15
    ]
   },
   "outputs": [],
   "source": [
    "def define_plot_variables(ax, title, ytitle, xtitle, xlim, ylim):\n",
    "    \"\"\"\n",
    "    Series of matplotlib pyplot settings to make all plots unitform.\n",
    "    \"\"\"\n",
    "    # Set number of ticks for x-axis\n",
    "    ax.tick_params(axis='both', which='major', labelsize=16)\n",
    "\n",
    "    ax.set_ylabel(ytitle, fontsize=16)\n",
    "    # ax.legend([y, n], ['aligned', 'not aligned'], loc=4, fancybox=True)\n",
    "    ax.set_xlim(xlim)\n",
    "    ax.set_ylim(ylim)\n",
    "    ax.set_xticklabels(['diffuses', 'does not diffuse'])\n",
    "    ax.set_xticks([0.25, 0.75])\n",
    "\n",
    "\n",
    "def define_parity_plot_variables(ax, title, ytitle, xtitle, xlim, ylim):\n",
    "    \"\"\"\n",
    "    Series of matplotlib pyplot settings to make all plots unitform.\n",
    "    \"\"\"\n",
    "    # Set number of ticks for x-axis\n",
    "    ax.tick_params(axis='both', which='major', labelsize=16)\n",
    "\n",
    "    ax.set_xlabel(xtitle, fontsize=16)\n",
    "    ax.set_ylabel(ytitle, fontsize=16)\n",
    "    # ax.legend([y, n], ['aligned', 'not aligned'], loc=4, fancybox=True)\n",
    "    ax.set_xlim(xlim)\n",
    "    ax.set_ylim(ylim)\n"
   ]
  },
  {
   "cell_type": "code",
   "execution_count": 4,
   "metadata": {
    "ExecuteTime": {
     "end_time": "2018-08-29T09:51:43.945260Z",
     "start_time": "2018-08-29T09:51:43.662082Z"
    },
    "code_folding": [
     2
    ]
   },
   "outputs": [],
   "source": [
    "# set EC numbers of interest based on dataset\n",
    "# 'none' in species lists implies species was not given with literature report.\n",
    "EC_mol_set = {\n",
    "    # EC : species list : unique molecules\n",
    "    '1.11.1.5': {'equus caballus': [\n",
    "        ('hydrogen peroxide', 'OO'),\n",
    "        ('pyrogallol', 'C1=CC(=C(C(=C1)O)O)O'),\n",
    "        ('purporogallin', 'C1=CC(=O)C(=C2C(=C1)C=C(C(=C2O)O)O)O'),\n",
    "    ]},\n",
    "    '1.11.1.6': {'bos taurus': [\n",
    "        ('hydrogen peroxide', 'OO'),\n",
    "        ('water', 'O'),\n",
    "        ('oxygen', 'O=O'),\n",
    "        ('3-amino-1,2,4-triazole', 'C1=NNC(=N1)N'),\n",
    "    ]},\n",
    "    '1.11.1.7': {'armoracia rusticana': [\n",
    "        ('pyrogallol', 'C1=CC(=C(C(=C1)O)O)O'),\n",
    "        ('purporogallin', 'C1=CC(=O)C(=C2C(=C1)C=C(C(=C2O)O)O)O'),\n",
    "        ('hydrogen peroxide', 'OO'),\n",
    "        ('water', 'O'),\n",
    "        ('oxygen', 'O=O'),\n",
    "        ('ABTS', 'CCN1C2=C(C=C(C=C2)S(=O)(=O)[O-])SC1=NN=C3N(C4=C(S3)C=C(C=C4)S(=O)(=O)[O-])CC'),\n",
    "    ]},\n",
    "    '1.9.3.1': {'equus caballus': [\n",
    "        ('hydrogen peroxide', 'OO'),\n",
    "        ('water', 'O'),\n",
    "        ('oxygen', 'O=O'),\n",
    "        ('ABTS', 'CCN1C2=C(C=C(C=C2)S(=O)(=O)[O-])SC1=NN=C3N(C4=C(S3)C=C(C=C4)S(=O)(=O)[O-])CC'),\n",
    "        ('Amplex Red', 'CC(=O)N1C2=C(C=C(C=C2)O)OC3=C1C=CC(=C3)O'),\n",
    "        ('resorufin', 'C1=CC2=C(C=C1O)OC3=CC(=O)C=CC3=N2'),\n",
    "        ('methyl ethyl ketone peroxide', 'CCC(C)(OO)OOC(C)(CC)OO'),\n",
    "        ('tert-butyl hydroperoxide', 'CC(C)(C)OO'),\n",
    "    ]},\n",
    "    '1.1.5.2': {'none': [\n",
    "        ('methosulfate', 'COS(=O)(=O)[O-]'),\n",
    "        ('5-Methylphenazin-5-ium', 'C[N+]1=C2C=CC=CC2=NC3=CC=CC=C31'),\n",
    "        ('2,6-dichloroindophenol', 'C1=CC(=O)C=CC1=NC2=CC(=C(C(=C2)Cl)O)Cl'),\n",
    "    ]},\n",
    "    '3.5.1.5': {'canavalia ensiformis': [\n",
    "        ('Urea', 'C(=O)(N)N'),\n",
    "        ('water', 'O'),\n",
    "        ('carbon dioxide', 'C(=O)=O'),\n",
    "        ('ammonia', 'N'),\n",
    "    ]},\n",
    "    '1.1.3.4': {'aspergillus niger': [\n",
    "        ('D-glucose (chain)', 'C(C(C(C(C(C=O)O)O)O)O)O'),\n",
    "        ('D-glucose (ring)', 'C(C1C(C(C(C(O1)O)O)O)O)O'),\n",
    "        ('gluconic acid', 'C(C(C(C(C(C(=O)O)O)O)O)O)O'),\n",
    "        ('hydrogen peroxide', 'OO'),\n",
    "        ('Gluconolactone', 'C(C1C(C(C(C(=O)O1)O)O)O)O'),\n",
    "    ]},\n",
    "    '1.13.12.4': {'none': [\n",
    "        ('hydrogen peroxide', 'OO'),\n",
    "        ('pyruvate', 'CC(=O)C(=O)[O-]'),\n",
    "        ('L-lactate', 'CC(C(=O)[O-])[O-]'),\n",
    "        \n",
    "    ]},\n",
    "    '3.2.1.26': {'none': [\n",
    "        ('sucrose', 'C(C1C(C(C(C(O1)OC2(C(C(C(O2)CO)O)O)CO)O)O)O)O'),\n",
    "        ('L-fructose', 'C(C(C(C(C(=O)CO)O)O)O)O'),\n",
    "        ('D-fructose', 'C1C(C(C(C(O1)(CO)O)O)O)O'),\n",
    "    ]},\n",
    "    '3.1.1.3': {'thermomyces lanuginosus': [\n",
    "                    ('p-nitrophenol', 'C1=CC(=CC=C1[N+](=O)[O-])O'),\n",
    "                    ('p-nitrophenyl butyrate', 'CCCC(=O)OC1=CC=C(C=C1)[N+](=O)[O-]'),\n",
    "                    ('butyric acid', 'CCCC(=O)O'),\n",
    "                ],\n",
    "                'alcaligenes sp.': [  # not sure about this one - the kinetic resolution may not belong to this enyzme?\n",
    "                    ('2-octanol', 'CCCCCCC(C)O'),\n",
    "                    ('vinyl acetate', 'CC(=O)OC=C'),\n",
    "                    ('octyl acetate', 'CCCCCCCCOC(=O)C'),\n",
    "                    ('p-nitrophenyl', 'C1=CC=C(C=C1)[N+](=O)[O-]'),\n",
    "                    ('p-nitrophenyl octanoate', 'CCCCCCCC(=O)OC1=CC=C(C=C1)[N+](=O)[O-]'),\n",
    "                    ('octanoic acid', 'CCCCCCCC(=O)O'),\n",
    "                ],\n",
    "                'pseudomonas fluorescens': [\n",
    "                    ('p-nitrophenol', 'C1=CC(=CC=C1[N+](=O)[O-])O'),\n",
    "                    ('p-nitrophenyl butyrate', 'CCCC(=O)OC1=CC=C(C=C1)[N+](=O)[O-]'),\n",
    "                    ('butyric acid', 'CCCC(=O)O'),\n",
    "                ],\n",
    "                'rhizomucor miehei': [\n",
    "                    ('p-nitrophenol', 'C1=CC(=CC=C1[N+](=O)[O-])O'),\n",
    "                    ('p-nitrophenyl butyrate', 'CCCC(=O)OC1=CC=C(C=C1)[N+](=O)[O-]'),\n",
    "                    ('butyric acid', 'CCCC(=O)O'),\n",
    "                ], \n",
    "                'candida antarctica': [\n",
    "                    ('p-nitrophenol', 'C1=CC(=CC=C1[N+](=O)[O-])O'),\n",
    "                    ('p-nitrophenyl butyrate', 'CCCC(=O)OC1=CC=C(C=C1)[N+](=O)[O-]'),\n",
    "                    ('butyric acid', 'CCCC(=O)O'),\n",
    "                ],\n",
    "                'aspergillus niger': [\n",
    "                    ('p-nitrophenol', 'C1=CC(=CC=C1[N+](=O)[O-])O'),\n",
    "                    ('p-nitrophenyl acetate', 'CC(=O)OC1=CC=C(C=C1)[N+](=O)[O-]'),\n",
    "                    ('acetic acid', 'CC(=O)O'),\n",
    "                ]},\n",
    "    '3.1.1.6': {'lactobacillus acidophilus': [\n",
    "        ('p-nitrophenyl', 'C1=CC=C(C=C1)[N+](=O)[O-]'),\n",
    "        ('p-nitrophenol', 'C1=CC(=CC=C1[N+](=O)[O-])O'),\n",
    "        ('p-nitrophenyl acetate', 'CC(=O)OC1=CC=C(C=C1)[N+](=O)[O-]'),\n",
    "        ('acetic acid', 'CC(=O)O'),\n",
    "        ('p-nitrophenyl phosphate', 'C1=CC(=CC=C1[N+](=O)[O-])OP(=O)(O)O'),\n",
    "        ('phosphate acid', 'OP(=O)([O-])[O-]'),\n",
    "        ('p-nitrophenyl butyrate', 'CCCC(=O)OC1=CC=C(C=C1)[N+](=O)[O-]'),\n",
    "        ('butyric acid', 'CCCC(=O)O'),\n",
    "        ('p-nitrophenyl hexanoate', 'CCCCCC(=O)OC1=CC=C(C=C1)[N+](=O)[O-]'),\n",
    "        ('hexanoic acid', 'CCCCCC(=O)O'),\n",
    "        ('p-nitrophenyl octanoate', 'CCCCCCCC(=O)OC1=CC=C(C=C1)[N+](=O)[O-]'),\n",
    "        ('octanoic acid', 'CCCCCCCC(=O)O'),\n",
    "        ('p-nitrophenyl decanoate', 'CCCCCCCCCC(=O)OC1=CC=C(C=C1)[N+](=O)[O-]'),\n",
    "        ('decanoic acid', 'CCCCCCCCCC(=O)O'),\n",
    "        ('p-nitrophenyl dodecanoate', 'CCCCCCCCCCCC(=O)OC1=CC=C(C=C1)[N+](=O)[O-]'),\n",
    "        ('dodecanoic acid', 'CCCCCCCCCCCC(=O)O'),\n",
    "    ]},\n",
    "    '3.5.1.11': {'none': [\n",
    "        ('penicillin-G', 'CC1(C(N2C(S1)C(C2=O)NC(=O)CC3=CC=CC=C3)C(=O)O)C'),\n",
    "    ]},\n",
    "    }"
   ]
  },
  {
   "cell_type": "code",
   "execution_count": 5,
   "metadata": {
    "ExecuteTime": {
     "end_time": "2018-08-29T09:51:44.644329Z",
     "start_time": "2018-08-29T09:51:44.636711Z"
    }
   },
   "outputs": [],
   "source": [
    "# get parameters\n",
    "param_dict = parameters.get_parameters()\n",
    "\n",
    "# input parameters\n",
    "database_directory = '/home/atarzia/psp/sequence_db/bio_min_dataset/'\n",
    "output_dir = database_directory"
   ]
  },
  {
   "cell_type": "code",
   "execution_count": 7,
   "metadata": {
    "ExecuteTime": {
     "end_time": "2018-08-29T09:53:25.089130Z",
     "start_time": "2018-08-29T09:53:24.562616Z"
    }
   },
   "outputs": [],
   "source": [
    "# get all unique molecules and draw 2D structures\n",
    "molecules = {}\n",
    "diameters = {}\n",
    "for i in EC_mol_set.keys():\n",
    "    for j in EC_mol_set[i].keys():\n",
    "        for mol in EC_mol_set[i][j]:\n",
    "            molecules[mol[0]] = mol[1]\n",
    "            diameters[mol[0]] = 0\n",
    "            rdkit_functions.draw_smiles_to_svg(mol[1], output_dir+mol[0].replace(' ', '_')+'_2d.svg')"
   ]
  },
  {
   "cell_type": "markdown",
   "metadata": {},
   "source": [
    "#### calculate size"
   ]
  },
  {
   "cell_type": "code",
   "execution_count": 12,
   "metadata": {
    "ExecuteTime": {
     "end_time": "2018-08-23T04:43:35.120380Z",
     "start_time": "2018-08-23T04:31:21.927970Z"
    },
    "scrolled": true
   },
   "outputs": [
    {
     "name": "stdout",
     "output_type": "stream",
     "text": [
      "molecule: hydrogen peroxide : SMILES: OO\n",
      "1 out of 46 done\n",
      "molecule: pyrogallol : SMILES: C1=CC(=C(C(=C1)O)O)O\n",
      "2 out of 46 done\n",
      "molecule: purporogallin : SMILES: C1=CC(=O)C(=C2C(=C1)C=C(C(=C2O)O)O)O\n",
      "3 out of 46 done\n",
      "molecule: water : SMILES: O\n",
      "4 out of 46 done\n",
      "molecule: oxygen : SMILES: O=O\n",
      "5 out of 46 done\n",
      "molecule: 3-amino-1,2,4-triazole : SMILES: C1=NNC(=N1)N\n",
      "6 out of 46 done\n",
      "molecule: ABTS : SMILES: CCN1C2=C(C=C(C=C2)S(=O)(=O)[O-])SC1=NN=C3N(C4=C(S3)C=C(C=C4)S(=O)(=O)[O-])CC\n",
      "7 out of 46 done\n",
      "molecule: Amplex Red : SMILES: CC(=O)N1C2=C(C=C(C=C2)O)OC3=C1C=CC(=C3)O\n",
      "8 out of 46 done\n",
      "molecule: resorufin : SMILES: C1=CC2=C(C=C1O)OC3=CC(=O)C=CC3=N2\n",
      "9 out of 46 done\n",
      "molecule: methyl ethyl ketone peroxide : SMILES: CCC(C)(OO)OOC(C)(CC)OO\n",
      "10 out of 46 done\n",
      "molecule: tert-butyl hydroperoxide : SMILES: CC(C)(C)OO\n",
      "11 out of 46 done\n",
      "molecule: methosulfate : SMILES: COS(=O)(=O)[O-]\n",
      "12 out of 46 done\n",
      "molecule: 5-Methylphenazin-5-ium : SMILES: C[N+]1=C2C=CC=CC2=NC3=CC=CC=C31\n",
      "13 out of 46 done\n",
      "molecule: 2,6-dichloroindophenol : SMILES: C1=CC(=O)C=CC1=NC2=CC(=C(C(=C2)Cl)O)Cl\n",
      "14 out of 46 done\n",
      "molecule: Urea : SMILES: C(=O)(N)N\n",
      "15 out of 46 done\n",
      "molecule: carbon dioxide : SMILES: C(=O)=O\n",
      "16 out of 46 done\n",
      "molecule: ammonia : SMILES: N\n",
      "17 out of 46 done\n",
      "molecule: D-glucose (chain) : SMILES: C(C(C(C(C(C=O)O)O)O)O)O\n",
      "18 out of 46 done\n",
      "molecule: D-glucose (ring) : SMILES: C(C1C(C(C(C(O1)O)O)O)O)O\n",
      "19 out of 46 done\n",
      "molecule: gluconic acid : SMILES: C(C(C(C(C(C(=O)O)O)O)O)O)O\n",
      "20 out of 46 done\n",
      "molecule: Gluconolactone : SMILES: C(C1C(C(C(C(=O)O1)O)O)O)O\n",
      "21 out of 46 done\n",
      "molecule: pyruvate : SMILES: CC(=O)C(=O)[O-]\n",
      "22 out of 46 done\n",
      "molecule: L-lactate : SMILES: CC(C(=O)[O-])[O-]\n",
      "23 out of 46 done\n",
      "molecule: sucrose : SMILES: C(C1C(C(C(C(O1)OC2(C(C(C(O2)CO)O)O)CO)O)O)O)O\n",
      "24 out of 46 done\n",
      "molecule: L-fructose : SMILES: C(C(C(C(C(=O)CO)O)O)O)O\n",
      "25 out of 46 done\n",
      "molecule: D-fructose : SMILES: C1C(C(C(C(O1)(CO)O)O)O)O\n",
      "26 out of 46 done\n",
      "molecule: p-nitrophenol : SMILES: C1=CC(=CC=C1[N+](=O)[O-])O\n",
      "27 out of 46 done\n",
      "molecule: p-nitrophenyl butyrate : SMILES: CCCC(=O)OC1=CC=C(C=C1)[N+](=O)[O-]\n",
      "28 out of 46 done\n",
      "molecule: butyric acid : SMILES: CCCC(=O)O\n",
      "29 out of 46 done\n",
      "molecule: 2-octanol : SMILES: CCCCCCC(C)O\n",
      "30 out of 46 done\n",
      "molecule: vinyl acetate : SMILES: CC(=O)OC=C\n",
      "31 out of 46 done\n",
      "molecule: octyl acetate : SMILES: CCCCCCCCOC(=O)C\n",
      "32 out of 46 done\n",
      "molecule: p-nitrophenyl : SMILES: C1=CC=C(C=C1)[N+](=O)[O-]\n",
      "33 out of 46 done\n",
      "molecule: p-nitrophenyl octanoate : SMILES: CCCCCCCC(=O)OC1=CC=C(C=C1)[N+](=O)[O-]\n",
      "34 out of 46 done\n",
      "molecule: octanoic acid : SMILES: CCCCCCCC(=O)O\n",
      "35 out of 46 done\n",
      "molecule: p-nitrophenyl acetate : SMILES: CC(=O)OC1=CC=C(C=C1)[N+](=O)[O-]\n",
      "36 out of 46 done\n",
      "molecule: acetic acid : SMILES: CC(=O)O\n",
      "37 out of 46 done\n",
      "molecule: p-nitrophenyl phosphate : SMILES: C1=CC(=CC=C1[N+](=O)[O-])OP(=O)(O)O\n",
      "38 out of 46 done\n",
      "molecule: phosphate acid : SMILES: OP(=O)([O-])[O-]\n",
      "39 out of 46 done\n",
      "molecule: p-nitrophenyl hexanoate : SMILES: CCCCCC(=O)OC1=CC=C(C=C1)[N+](=O)[O-]\n",
      "40 out of 46 done\n",
      "molecule: hexanoic acid : SMILES: CCCCCC(=O)O\n",
      "41 out of 46 done\n",
      "molecule: p-nitrophenyl decanoate : SMILES: CCCCCCCCCC(=O)OC1=CC=C(C=C1)[N+](=O)[O-]\n",
      "42 out of 46 done\n",
      "molecule: decanoic acid : SMILES: CCCCCCCCCC(=O)O\n",
      "43 out of 46 done\n",
      "molecule: p-nitrophenyl dodecanoate : SMILES: CCCCCCCCCCCC(=O)OC1=CC=C(C=C1)[N+](=O)[O-]\n",
      "44 out of 46 done\n",
      "molecule: dodecanoic acid : SMILES: CCCCCCCCCCCC(=O)O\n",
      "45 out of 46 done\n",
      "molecule: penicillin-G : SMILES: CC1(C(N2C(S1)C(C2=O)NC(=O)CC3=CC=CC=C3)C(=O)O)C\n",
      "46 out of 46 done\n"
     ]
    }
   ],
   "source": [
    "rdkit_functions.calc_molecule_diameters(molecules, diameters, \n",
    "                                        out_dir=output_dir, vdwScale=0.8, boxMargin=4.0,\n",
    "                                        spacing=0.6, show_vdw=False, plot_ellip=False,\n",
    "                                        N_conformers=50, \n",
    "                                        show_conf=False)"
   ]
  },
  {
   "cell_type": "markdown",
   "metadata": {},
   "source": [
    "#### get results"
   ]
  },
  {
   "cell_type": "code",
   "execution_count": 15,
   "metadata": {
    "ExecuteTime": {
     "end_time": "2018-08-23T04:46:47.177866Z",
     "start_time": "2018-08-23T04:46:46.977864Z"
    }
   },
   "outputs": [
    {
     "name": "stdout",
     "output_type": "stream",
     "text": [
      "hydrogen peroxide:\n",
      "can diffuse\n",
      "min diameter = 2.767 angstrom\n",
      "mid diameter = 3.16 angstrom\n",
      "-\n",
      "pyrogallol:\n",
      "cannot diffuse\n",
      "min diameter = 3.097 angstrom\n",
      "mid diameter = 7.058 angstrom\n",
      "-\n",
      "purporogallin:\n",
      "cannot diffuse\n",
      "min diameter = 3.943 angstrom\n",
      "mid diameter = 8.733 angstrom\n",
      "-\n",
      "water:\n",
      "can diffuse\n",
      "min diameter = 2.492 angstrom\n",
      "mid diameter = 2.586 angstrom\n",
      "-\n",
      "oxygen:\n",
      "can diffuse\n",
      "min diameter = 2.841 angstrom\n",
      "mid diameter = 2.9 angstrom\n",
      "-\n",
      "3-amino-1,2,4-triazole:\n",
      "cannot diffuse\n",
      "min diameter = 3.009 angstrom\n",
      "mid diameter = 5.274 angstrom\n",
      "-\n",
      "ABTS:\n",
      "cannot diffuse\n",
      "min diameter = 6.273 angstrom\n",
      "mid diameter = 9.03 angstrom\n",
      "-\n",
      "Amplex Red:\n",
      "cannot diffuse\n",
      "min diameter = 5.2 angstrom\n",
      "mid diameter = 10.211 angstrom\n",
      "-\n",
      "resorufin:\n",
      "cannot diffuse\n",
      "min diameter = 3.366 angstrom\n",
      "mid diameter = 7.069 angstrom\n",
      "-\n",
      "methyl ethyl ketone peroxide:\n",
      "cannot diffuse\n",
      "min diameter = 5.667 angstrom\n",
      "mid diameter = 6.93 angstrom\n",
      "-\n",
      "tert-butyl hydroperoxide:\n",
      "cannot diffuse\n",
      "min diameter = 5.344 angstrom\n",
      "mid diameter = 5.69 angstrom\n",
      "-\n",
      "methosulfate:\n",
      "cannot diffuse\n",
      "min diameter = 4.787 angstrom\n",
      "mid diameter = 5.149 angstrom\n",
      "-\n",
      "5-Methylphenazin-5-ium:\n",
      "cannot diffuse\n",
      "min diameter = 3.864 angstrom\n",
      "mid diameter = 8.296 angstrom\n",
      "-\n",
      "2,6-dichloroindophenol:\n",
      "cannot diffuse\n",
      "min diameter = 5.774 angstrom\n",
      "mid diameter = 9.381 angstrom\n",
      "-\n",
      "Urea:\n",
      "cannot diffuse\n",
      "min diameter = 2.957 angstrom\n",
      "mid diameter = 5.165 angstrom\n",
      "-\n",
      "carbon dioxide:\n",
      "can diffuse\n",
      "min diameter = 2.734 angstrom\n",
      "mid diameter = 2.916 angstrom\n",
      "-\n",
      "ammonia:\n",
      "can diffuse\n",
      "min diameter = 2.707 angstrom\n",
      "mid diameter = 2.928 angstrom\n",
      "-\n",
      "D-glucose (chain):\n",
      "cannot diffuse\n",
      "min diameter = 5.004 angstrom\n",
      "mid diameter = 5.887 angstrom\n",
      "-\n",
      "D-glucose (ring):\n",
      "cannot diffuse\n",
      "min diameter = 4.822 angstrom\n",
      "mid diameter = 7.088 angstrom\n",
      "-\n",
      "gluconic acid:\n",
      "cannot diffuse\n",
      "min diameter = 5.201 angstrom\n",
      "mid diameter = 6.305 angstrom\n",
      "-\n",
      "Gluconolactone:\n",
      "cannot diffuse\n",
      "min diameter = 4.749 angstrom\n",
      "mid diameter = 7.021 angstrom\n",
      "-\n",
      "pyruvate:\n",
      "cannot diffuse\n",
      "min diameter = 3.587 angstrom\n",
      "mid diameter = 5.448 angstrom\n",
      "-\n",
      "L-lactate:\n",
      "cannot diffuse\n",
      "min diameter = 4.136 angstrom\n",
      "mid diameter = 5.476 angstrom\n",
      "-\n",
      "sucrose:\n",
      "cannot diffuse\n",
      "min diameter = 6.426 angstrom\n",
      "mid diameter = 8.856 angstrom\n",
      "-\n",
      "L-fructose:\n",
      "cannot diffuse\n",
      "min diameter = 5.131 angstrom\n",
      "mid diameter = 6.033 angstrom\n",
      "-\n",
      "D-fructose:\n",
      "cannot diffuse\n",
      "min diameter = 5.32 angstrom\n",
      "mid diameter = 6.601 angstrom\n",
      "-\n",
      "p-nitrophenol:\n",
      "cannot diffuse\n",
      "min diameter = 3.189 angstrom\n",
      "mid diameter = 6.06 angstrom\n",
      "-\n",
      "p-nitrophenyl butyrate:\n",
      "cannot diffuse\n",
      "min diameter = 4.661 angstrom\n",
      "mid diameter = 6.568 angstrom\n",
      "-\n",
      "butyric acid:\n",
      "cannot diffuse\n",
      "min diameter = 3.762 angstrom\n",
      "mid diameter = 4.9 angstrom\n",
      "-\n",
      "2-octanol:\n",
      "cannot diffuse\n",
      "min diameter = 4.805 angstrom\n",
      "mid diameter = 5.572 angstrom\n",
      "-\n",
      "vinyl acetate:\n",
      "cannot diffuse\n",
      "min diameter = 3.606 angstrom\n",
      "mid diameter = 5.188 angstrom\n",
      "-\n",
      "octyl acetate:\n",
      "cannot diffuse\n",
      "min diameter = 4.887 angstrom\n",
      "mid diameter = 5.891 angstrom\n",
      "-\n",
      "p-nitrophenyl:\n",
      "cannot diffuse\n",
      "min diameter = 3.259 angstrom\n",
      "mid diameter = 6.538 angstrom\n",
      "-\n",
      "p-nitrophenyl octanoate:\n",
      "cannot diffuse\n",
      "min diameter = 4.93 angstrom\n",
      "mid diameter = 6.77 angstrom\n",
      "-\n",
      "octanoic acid:\n",
      "cannot diffuse\n",
      "min diameter = 4.066 angstrom\n",
      "mid diameter = 5.712 angstrom\n",
      "-\n",
      "p-nitrophenyl acetate:\n",
      "cannot diffuse\n",
      "min diameter = 4.198 angstrom\n",
      "mid diameter = 6.481 angstrom\n",
      "-\n",
      "acetic acid:\n",
      "cannot diffuse\n",
      "min diameter = 3.499 angstrom\n",
      "mid diameter = 4.812 angstrom\n",
      "-\n",
      "p-nitrophenyl phosphate:\n",
      "cannot diffuse\n",
      "min diameter = 5.102 angstrom\n",
      "mid diameter = 6.839 angstrom\n",
      "-\n",
      "phosphate acid:\n",
      "cannot diffuse\n",
      "min diameter = 4.938 angstrom\n",
      "mid diameter = 5.399 angstrom\n",
      "-\n",
      "p-nitrophenyl hexanoate:\n",
      "cannot diffuse\n",
      "min diameter = 4.907 angstrom\n",
      "mid diameter = 6.346 angstrom\n",
      "-\n",
      "hexanoic acid:\n",
      "cannot diffuse\n",
      "min diameter = 4.069 angstrom\n",
      "mid diameter = 5.204 angstrom\n",
      "-\n",
      "p-nitrophenyl decanoate:\n",
      "cannot diffuse\n",
      "min diameter = 5.174 angstrom\n",
      "mid diameter = 7.202 angstrom\n",
      "-\n",
      "decanoic acid:\n",
      "cannot diffuse\n",
      "min diameter = 5.086 angstrom\n",
      "mid diameter = 6.278 angstrom\n",
      "-\n",
      "p-nitrophenyl dodecanoate:\n",
      "cannot diffuse\n",
      "min diameter = 5.036 angstrom\n",
      "mid diameter = 7.155 angstrom\n",
      "-\n",
      "dodecanoic acid:\n",
      "cannot diffuse\n",
      "min diameter = 5.121 angstrom\n",
      "mid diameter = 6.312 angstrom\n",
      "-\n",
      "penicillin-G:\n",
      "cannot diffuse\n",
      "min diameter = 6.559 angstrom\n",
      "mid diameter = 8.0 angstrom\n",
      "-\n",
      "analyzed  46 molecules\n"
     ]
    }
   ],
   "source": [
    "threshold = 4.2\n",
    "diffuse = {}\n",
    "no_diffuse = {}\n",
    "count = 0\n",
    "for name, smile in molecules.items():\n",
    "    out_file = output_dir+name.replace(' ', '_')+'_diam_result.csv'\n",
    "    if os.path.isfile(out_file) is False:\n",
    "        continue\n",
    "    count += 1\n",
    "    results = pd.read_csv(out_file)\n",
    "    min_diam = min(results['diam1'])\n",
    "    mid_diam = min(results['diam2'])\n",
    "    # print(min(results['diam1']))\n",
    "    # print(min(results['diam2']))\n",
    "    # plt.hist(results['diam1'], facecolor='k', alpha=0.4)\n",
    "    # plt.hist(results['diam2'], facecolor='r', alpha=0.4)\n",
    "    if mid_diam <= threshold:\n",
    "        print(name+':')\n",
    "        print('can diffuse')\n",
    "        print('min diameter =', round(min_diam, 3), 'angstrom')\n",
    "        print('mid diameter =', round(mid_diam, 3), 'angstrom')\n",
    "        diffuse[name] = smile\n",
    "    else:\n",
    "        print(name+':')\n",
    "        print('cannot diffuse')\n",
    "        print('min diameter =', round(min_diam, 3), 'angstrom')\n",
    "        print('mid diameter =', round(mid_diam, 3), 'angstrom')\n",
    "        no_diffuse[name] = smile\n",
    "    print('-')\n",
    "print('analyzed ', count, 'molecules')"
   ]
  },
  {
   "cell_type": "markdown",
   "metadata": {},
   "source": [
    "#### Plot categorical scatter plot"
   ]
  },
  {
   "cell_type": "code",
   "execution_count": 10,
   "metadata": {
    "ExecuteTime": {
     "end_time": "2018-08-29T11:36:46.760680Z",
     "start_time": "2018-08-29T11:36:46.304467Z"
    }
   },
   "outputs": [
    {
     "data": {
      "image/png": "[encoded data removed]",
      "text/plain": [
       "<Figure size 360x360 with 1 Axes>"
      ]
     },
     "metadata": {},
     "output_type": "display_data"
    }
   ],
   "source": [
    "threshold = 4.2\n",
    "dx = 0.15\n",
    "fig, ax = plt.subplots(figsize=(5,5))\n",
    "for name, smile in molecules.items():\n",
    "    out_file = output_dir+name.replace(' ', '_')+'_diam_result.csv'\n",
    "    if os.path.isfile(out_file) is False:\n",
    "        continue\n",
    "    results = pd.read_csv(out_file)\n",
    "    mid_diam = min(results['diam2'])\n",
    "    if mid_diam <= threshold:\n",
    "        C = 'b'\n",
    "        M = 'o'\n",
    "        E = 'k'\n",
    "        D = 0.25\n",
    "    else:\n",
    "        C = 'r'\n",
    "        M = 'X'\n",
    "        E = 'k'\n",
    "        D = 0.75\n",
    "    ax.scatter(D+(dx*(np.random.random() - 0.5) * 2),\n",
    "               mid_diam, c=C, \n",
    "               edgecolors=E, marker=M, alpha=1.0,\n",
    "               s=100)\n",
    "    \n",
    "ax.axhline(y=threshold, c='k')\n",
    "define_plot_variables(ax,\n",
    "                      title='',\n",
    "                      xtitle='',\n",
    "                      ytitle='intermediate diameter [$\\mathrm{\\AA}$]',\n",
    "                      xlim=(0, 1),\n",
    "                      ylim=(0, 10))\n",
    "fig.tight_layout()\n",
    "fig.savefig(output_dir+\"categorical.pdf\", dpi=720,\n",
    "            bbox_inches='tight')"
   ]
  },
  {
   "cell_type": "markdown",
   "metadata": {},
   "source": [
    "#### Plot shapes"
   ]
  },
  {
   "cell_type": "code",
   "execution_count": 14,
   "metadata": {
    "ExecuteTime": {
     "end_time": "2018-08-29T11:45:21.051617Z",
     "start_time": "2018-08-29T11:45:20.344314Z"
    }
   },
   "outputs": [
    {
     "data": {
      "image/png": "[encoded data removed]",
      "text/plain": [
       "<Figure size 360x360 with 1 Axes>"
      ]
     },
     "metadata": {},
     "output_type": "display_data"
    }
   ],
   "source": [
    "threshold = 4.2\n",
    "fig, ax = plt.subplots(figsize=(5,5))\n",
    "for name, smile in molecules.items():\n",
    "    out_file = output_dir+name.replace(' ', '_')+'_diam_result.csv'\n",
    "    if os.path.isfile(out_file) is False:\n",
    "        continue\n",
    "    results = pd.read_csv(out_file)\n",
    "    mid_diam = min(results['diam2'])\n",
    "    if mid_diam <= threshold:\n",
    "        C = 'b'\n",
    "        M = 'o'\n",
    "        E = 'k'\n",
    "        D = 0.25\n",
    "    else:\n",
    "        C = 'r'\n",
    "        M = 'X'\n",
    "        E = 'k'\n",
    "        D = 0.75\n",
    "    ax.scatter(np.average(results['ratio_1']),\n",
    "               np.average(results['ratio_2']),\n",
    "               c=C, \n",
    "               edgecolors=E, marker=M, alpha=1.0,\n",
    "               s=100)\n",
    "    \n",
    "ax.plot([0, 0.5, 1, 0], [1, 0.5, 1, 1], c='k', lw=2)\n",
    "ax.text(0.75, 1.03, 'sphere', fontsize=20)\n",
    "ax.text(0.4, 0.45, 'oblate', fontsize=20)\n",
    "ax.text(-0.05, 1.03, 'prolate', fontsize=20)\n",
    "define_parity_plot_variables(ax,\n",
    "                             title='',\n",
    "                             xtitle='$I_1$ / $I_3$',\n",
    "                             ytitle='$I_2$ / $I_3$',\n",
    "                             xlim=(-0.1, 1.1),\n",
    "                             ylim=(0.4, 1.1))\n",
    "fig.tight_layout()\n",
    "fig.savefig(output_dir+\"shape.pdf\", dpi=720,\n",
    "            bbox_inches='tight')"
   ]
  },
  {
   "cell_type": "markdown",
   "metadata": {},
   "source": [
    "# Collect reactant-product systems \n",
    "- curently as species specific for test case\n",
    "    - generalize to all available reaction systems\n",
    "- need general code for reading the BRENDA file lines and getting reactants and products and meta\n",
    "- need general code for outputting these as reaction systems (to JSON?)\n",
    "- need general code for interfacing reaction systems into SMILES (using the name in BRENDA) and collecting\n",
    "    - molecule size\n",
    "    - cost?"
   ]
  },
  {
   "cell_type": "code",
   "execution_count": 12,
   "metadata": {
    "ExecuteTime": {
     "end_time": "2018-08-15T03:31:21.423824Z",
     "start_time": "2018-08-15T03:31:21.421179Z"
    }
   },
   "outputs": [],
   "source": [
    "from IPython.display import clear_output"
   ]
  },
  {
   "cell_type": "code",
   "execution_count": 15,
   "metadata": {
    "ExecuteTime": {
     "end_time": "2018-08-15T01:21:24.008673Z",
     "start_time": "2018-08-15T01:21:13.866184Z"
    },
    "scrolled": false
   },
   "outputs": [
    {
     "name": "stdout",
     "output_type": "stream",
     "text": [
      "#12,52# esculetin + H2O2 = ? (#52# demonstration, that esculetin is no\n",
      "inhibitor, but a substrate of mushroom polyphenol oxidase (PPO) and\n",
      "horseradish peroxidase (POD) <83>) <28,83>\n",
      "\n",
      "############################\n",
      "--------------------------\n",
      "Reaction system in: RS-1_11_1_7-SP_52_2.pkl\n",
      "Reaction Catalysed:\n",
      "['2 phenolic donor + H2O2 = 2 phenoxyl radical of the donor + 2 H2O']\n",
      "Reaction Type:\n",
      "['redox reaction', 'oxidation', 'reduction', 'hydroxylation']\n",
      "--------------------------\n",
      "Reactants: esculetin + H2O2 -------->\n",
      "Products: ?\n",
      "Activating Molecules: melamine OR 2-aminothiazole\n",
      "--------------------------\n",
      "No. Sub units = ['?', 'monomer']\n",
      "Reversible?: None\n",
      "Co factors?: True\n",
      "Cofactor Molecules: heme\n",
      "Post Translational Mods?: ['glycoprotein']\n",
      "--------------------------\n",
      "Meta (in full):\n",
      " (#52# demonstration, that esculetin is no\n",
      "inhibitor, but a substrate of mushroom polyphenol oxidase (PPO) and\n",
      "horseradish peroxidase (POD) <83>) <28,83>\n",
      "\n",
      "References: ['28', '83']\n",
      "--------------------------\n"
     ]
    },
    {
     "ename": "KeyboardInterrupt",
     "evalue": "",
     "output_type": "error",
     "traceback": [
      "\u001b[0;31m---------------------------------------------------------------------------\u001b[0m",
      "\u001b[0;31mKeyboardInterrupt\u001b[0m                         Traceback (most recent call last)",
      "\u001b[0;32m~/anaconda3/lib/python3.6/site-packages/ipykernel/kernelbase.py\u001b[0m in \u001b[0;36m_input_request\u001b[0;34m(self, prompt, ident, parent, password)\u001b[0m\n\u001b[1;32m    728\u001b[0m             \u001b[0;32mtry\u001b[0m\u001b[0;34m:\u001b[0m\u001b[0;34m\u001b[0m\u001b[0m\n\u001b[0;32m--> 729\u001b[0;31m                 \u001b[0mident\u001b[0m\u001b[0;34m,\u001b[0m \u001b[0mreply\u001b[0m \u001b[0;34m=\u001b[0m \u001b[0mself\u001b[0m\u001b[0;34m.\u001b[0m\u001b[0msession\u001b[0m\u001b[0;34m.\u001b[0m\u001b[0mrecv\u001b[0m\u001b[0;34m(\u001b[0m\u001b[0mself\u001b[0m\u001b[0;34m.\u001b[0m\u001b[0mstdin_socket\u001b[0m\u001b[0;34m,\u001b[0m \u001b[0;36m0\u001b[0m\u001b[0;34m)\u001b[0m\u001b[0;34m\u001b[0m\u001b[0m\n\u001b[0m\u001b[1;32m    730\u001b[0m             \u001b[0;32mexcept\u001b[0m \u001b[0mException\u001b[0m\u001b[0;34m:\u001b[0m\u001b[0;34m\u001b[0m\u001b[0m\n",
      "\u001b[0;32m~/anaconda3/lib/python3.6/site-packages/jupyter_client/session.py\u001b[0m in \u001b[0;36mrecv\u001b[0;34m(self, socket, mode, content, copy)\u001b[0m\n\u001b[1;32m    802\u001b[0m         \u001b[0;32mtry\u001b[0m\u001b[0;34m:\u001b[0m\u001b[0;34m\u001b[0m\u001b[0m\n\u001b[0;32m--> 803\u001b[0;31m             \u001b[0mmsg_list\u001b[0m \u001b[0;34m=\u001b[0m \u001b[0msocket\u001b[0m\u001b[0;34m.\u001b[0m\u001b[0mrecv_multipart\u001b[0m\u001b[0;34m(\u001b[0m\u001b[0mmode\u001b[0m\u001b[0;34m,\u001b[0m \u001b[0mcopy\u001b[0m\u001b[0;34m=\u001b[0m\u001b[0mcopy\u001b[0m\u001b[0;34m)\u001b[0m\u001b[0;34m\u001b[0m\u001b[0m\n\u001b[0m\u001b[1;32m    804\u001b[0m         \u001b[0;32mexcept\u001b[0m \u001b[0mzmq\u001b[0m\u001b[0;34m.\u001b[0m\u001b[0mZMQError\u001b[0m \u001b[0;32mas\u001b[0m \u001b[0me\u001b[0m\u001b[0;34m:\u001b[0m\u001b[0;34m\u001b[0m\u001b[0m\n",
      "\u001b[0;32m~/anaconda3/lib/python3.6/site-packages/zmq/sugar/socket.py\u001b[0m in \u001b[0;36mrecv_multipart\u001b[0;34m(self, flags, copy, track)\u001b[0m\n\u001b[1;32m    394\u001b[0m         \"\"\"\n\u001b[0;32m--> 395\u001b[0;31m         \u001b[0mparts\u001b[0m \u001b[0;34m=\u001b[0m \u001b[0;34m[\u001b[0m\u001b[0mself\u001b[0m\u001b[0;34m.\u001b[0m\u001b[0mrecv\u001b[0m\u001b[0;34m(\u001b[0m\u001b[0mflags\u001b[0m\u001b[0;34m,\u001b[0m \u001b[0mcopy\u001b[0m\u001b[0;34m=\u001b[0m\u001b[0mcopy\u001b[0m\u001b[0;34m,\u001b[0m \u001b[0mtrack\u001b[0m\u001b[0;34m=\u001b[0m\u001b[0mtrack\u001b[0m\u001b[0;34m)\u001b[0m\u001b[0;34m]\u001b[0m\u001b[0;34m\u001b[0m\u001b[0m\n\u001b[0m\u001b[1;32m    396\u001b[0m         \u001b[0;31m# have first part already, only loop while more to receive\u001b[0m\u001b[0;34m\u001b[0m\u001b[0;34m\u001b[0m\u001b[0m\n",
      "\u001b[0;32mzmq/backend/cython/socket.pyx\u001b[0m in \u001b[0;36mzmq.backend.cython.socket.Socket.recv\u001b[0;34m()\u001b[0m\n",
      "\u001b[0;32mzmq/backend/cython/socket.pyx\u001b[0m in \u001b[0;36mzmq.backend.cython.socket.Socket.recv\u001b[0;34m()\u001b[0m\n",
      "\u001b[0;32mzmq/backend/cython/socket.pyx\u001b[0m in \u001b[0;36mzmq.backend.cython.socket._recv_copy\u001b[0;34m()\u001b[0m\n",
      "\u001b[0;32m~/anaconda3/lib/python3.6/site-packages/zmq/backend/cython/checkrc.pxd\u001b[0m in \u001b[0;36mzmq.backend.cython.checkrc._check_rc\u001b[0;34m()\u001b[0m\n",
      "\u001b[0;31mKeyboardInterrupt\u001b[0m: ",
      "\nDuring handling of the above exception, another exception occurred:\n",
      "\u001b[0;31mKeyboardInterrupt\u001b[0m                         Traceback (most recent call last)",
      "\u001b[0;32m<ipython-input-15-2a6759c1cfb0>\u001b[0m in \u001b[0;36m<module>\u001b[0;34m()\u001b[0m\n\u001b[1;32m    119\u001b[0m \u001b[0;34m\u001b[0m\u001b[0m\n\u001b[1;32m    120\u001b[0m                 \u001b[0mreaction_system\u001b[0m\u001b[0;34m.\u001b[0m\u001b[0mprint_rxn_system\u001b[0m\u001b[0;34m(\u001b[0m\u001b[0;34m)\u001b[0m\u001b[0;34m\u001b[0m\u001b[0m\n\u001b[0;32m--> 121\u001b[0;31m                 \u001b[0minput\u001b[0m\u001b[0;34m(\u001b[0m\u001b[0;34m'done?'\u001b[0m\u001b[0;34m)\u001b[0m\u001b[0;34m\u001b[0m\u001b[0m\n\u001b[0m\u001b[1;32m    122\u001b[0m                 \u001b[0mclear_output\u001b[0m\u001b[0;34m(\u001b[0m\u001b[0;34m)\u001b[0m\u001b[0;34m\u001b[0m\u001b[0m\n\u001b[1;32m    123\u001b[0m                 \u001b[0;31m# output reacion system to file\u001b[0m\u001b[0;34m\u001b[0m\u001b[0;34m\u001b[0m\u001b[0m\n",
      "\u001b[0;32m~/anaconda3/lib/python3.6/site-packages/ipykernel/kernelbase.py\u001b[0m in \u001b[0;36mraw_input\u001b[0;34m(self, prompt)\u001b[0m\n\u001b[1;32m    702\u001b[0m             \u001b[0mself\u001b[0m\u001b[0;34m.\u001b[0m\u001b[0m_parent_ident\u001b[0m\u001b[0;34m,\u001b[0m\u001b[0;34m\u001b[0m\u001b[0m\n\u001b[1;32m    703\u001b[0m             \u001b[0mself\u001b[0m\u001b[0;34m.\u001b[0m\u001b[0m_parent_header\u001b[0m\u001b[0;34m,\u001b[0m\u001b[0;34m\u001b[0m\u001b[0m\n\u001b[0;32m--> 704\u001b[0;31m             \u001b[0mpassword\u001b[0m\u001b[0;34m=\u001b[0m\u001b[0;32mFalse\u001b[0m\u001b[0;34m,\u001b[0m\u001b[0;34m\u001b[0m\u001b[0m\n\u001b[0m\u001b[1;32m    705\u001b[0m         )\n\u001b[1;32m    706\u001b[0m \u001b[0;34m\u001b[0m\u001b[0m\n",
      "\u001b[0;32m~/anaconda3/lib/python3.6/site-packages/ipykernel/kernelbase.py\u001b[0m in \u001b[0;36m_input_request\u001b[0;34m(self, prompt, ident, parent, password)\u001b[0m\n\u001b[1;32m    732\u001b[0m             \u001b[0;32mexcept\u001b[0m \u001b[0mKeyboardInterrupt\u001b[0m\u001b[0;34m:\u001b[0m\u001b[0;34m\u001b[0m\u001b[0m\n\u001b[1;32m    733\u001b[0m                 \u001b[0;31m# re-raise KeyboardInterrupt, to truncate traceback\u001b[0m\u001b[0;34m\u001b[0m\u001b[0;34m\u001b[0m\u001b[0m\n\u001b[0;32m--> 734\u001b[0;31m                 \u001b[0;32mraise\u001b[0m \u001b[0mKeyboardInterrupt\u001b[0m\u001b[0;34m\u001b[0m\u001b[0m\n\u001b[0m\u001b[1;32m    735\u001b[0m             \u001b[0;32melse\u001b[0m\u001b[0;34m:\u001b[0m\u001b[0;34m\u001b[0m\u001b[0m\n\u001b[1;32m    736\u001b[0m                 \u001b[0;32mbreak\u001b[0m\u001b[0;34m\u001b[0m\u001b[0m\n",
      "\u001b[0;31mKeyboardInterrupt\u001b[0m: "
     ]
    }
   ],
   "source": [
    "print('Screen all Enzymes in EC Classes using BRENDA data')\n",
    "count_done = 0\n",
    "total_start_time = time.time()\n",
    "for EC_file in database_names:\n",
    "    if EC_file != '/home/atarzia/psp/sequence_db/bio_min_dataset/1_11_1_7__BRENDA_sequences.fasta':\n",
    "        continue\n",
    "    # read the file\n",
    "    # but to avoid memory issues\n",
    "    # we will calculate the pI on the fly\n",
    "    # using the bio python module\n",
    "    print('-----------------------------------------------')\n",
    "    print('doing:', EC_file)\n",
    "    file_mod = EC_file.replace(\".fasta\", \"_mod.fasta\")\n",
    "    EC_pi_data = pi_data[pi_data['fasta_file'] == file_mod]\n",
    "    # only keep those that pass the pI test\n",
    "    pi_passed_data = EC_pi_data[EC_pi_data['pi'] < param_dict['cutoff_pi']]\n",
    "    print('--- ', \n",
    "          len(pi_passed_data), 'proteins out of', len(EC_pi_data), \n",
    "          'remain, OR', int(len(pi_passed_data)/len(EC_pi_data)*100),\n",
    "          \"% ---\")\n",
    "    EC_no = list(set(EC_pi_data['EC.code']))[0].replace(' ', '').replace(\".\", \"_\")\n",
    "    print('EC:', EC_no.replace(\"_\", \".\"))\n",
    "    br_datafile = 'brenda_download_'+EC_no+'.txt'\n",
    "    # convert br_datafile into dictionary\n",
    "    br_symbols, br_data = brenda_IO.get_brenda_dict(param_dict['BRENDA_DB_loc']+br_datafile)\n",
    "    # from here is quite bio-min assay literature specific\n",
    "    # - although the code can be reused\n",
    "    # get species of interest from known EC records\n",
    "    ## when generalizing - we want to remove this for loop\n",
    "    species_of_interest = EC_set[EC_no.replace('_', '.')]\n",
    "    for spec in species_of_interest:\n",
    "        print('species:', spec)\n",
    "        spec_in_seq, spec_in_br = brenda_IO.is_species_reported(spec, \n",
    "                                                                EC_pi_data, \n",
    "                                                                br_data, \n",
    "                                                                verbose=True)\n",
    "        # get protein numbers associated with species\n",
    "        PR_of_int = []\n",
    "        for i in sorted(br_data['PR']):\n",
    "            if spec in i.lower():\n",
    "                # this assumes that the first item of each line is always \"#\"\n",
    "                PR_info = i.split(\"#\")[1]            \n",
    "                if PR_info not in PR_of_int:\n",
    "                    PR_of_int.append(PR_info)\n",
    "        print('when you want to go species unspecific you set PR_of_int to None and loop over all.')\n",
    "        # get reaction systems from BRENDA\n",
    "        prop_of_int = 'SP'\n",
    "        list_of_int = br_data[prop_of_int]\n",
    "        EC_prop_PR_codes = brenda_IO.get_prop_PR_codes(list_of_int)\n",
    "        value_of_int = {}\n",
    "        ## when generalizing - we want to remove this for loop\n",
    "        for PR in PR_of_int:\n",
    "            if PR in set([j for i in EC_prop_PR_codes.values() for j in i ]):\n",
    "                print('protein code:', PR, 'has', prop_of_int, 'in BRENDA')\n",
    "            else:\n",
    "                print('protein code:', PR, 'does not have', prop, 'in BRENDA')\n",
    "            values = [list_of_int[i]\n",
    "                      for i in EC_prop_PR_codes.keys() if PR in EC_prop_PR_codes[i]]\n",
    "            count = 0\n",
    "            # iterate over all lines of BRENDA file with PR in SP initial\n",
    "            for val in values:\n",
    "                #if '3-(4-hydroxyphenyl)propanoic' not in val:\n",
    "                #    continue\n",
    "                print(val)\n",
    "                print('############################')\n",
    "                # split val into sections and remove preceding sections to avoid\n",
    "                # confusion\n",
    "                PR_sect = val.split(\"# \")[0]+\"# \"\n",
    "                val = val.replace(PR_sect, '')\n",
    "                rxn_sect = val.split(\" (\")[0].split(\" <\")[0]\n",
    "                val = val.replace(rxn_sect, '')\n",
    "                meta_sect = val\n",
    "                # output dictionary\n",
    "                reaction_system = brenda_IO.Reaction_system(EC_no, prop_of_int, PR, str(count))\n",
    "                # get all PR associated with rxn system\n",
    "                # strip value of anything in the first pair of \"#\" >> as PR codes\n",
    "                t_assoc_PR = PR_sect.split(\"#\")[1].split(',')\n",
    "                # check for new lines and split string into list\n",
    "                reaction_system.assoc_PR = brenda_IO.check_new_lines_and_split(t_assoc_PR)\n",
    "                # strip value of anything in \"(\" and \")\" >> as meta\n",
    "                reaction_system.meta = meta_sect\n",
    "                # split meta info into:\n",
    "                # references \n",
    "                # references for an entry in BRENDA are within \"<\" and \">\"\n",
    "                t_assoc_refs = val.split(\" <\")[-1]\n",
    "                t_assoc_refs = t_assoc_refs.split(\">\")[0].split(',')\n",
    "                reaction_system.assoc_refs = brenda_IO.check_new_lines_and_split(t_assoc_refs)\n",
    "                # reversible?\n",
    "                # for the \"SP\" entries - a 'r' enclosed in \"{\" and \"}\"\n",
    "                # implies reversible\n",
    "                if '{r}' in reaction_system.meta:\n",
    "                    reaction_system.reversible = True\n",
    "                # reaction catalysed and reaction type\n",
    "                reaction_system.extract_general_rxn_info(br_data)\n",
    "\n",
    "                # make into function -- extract_reactants_products\n",
    "                # get reactants as before '=' and products as after\n",
    "                react, prod = rxn_sect.split(\"=\")\n",
    "                # separate react and prod into molecules by \"+\"\n",
    "                r_mol = react.split(\"+\")\n",
    "                p_mol = prod.split(\"+\")\n",
    "                # remove preceding and succeeding white space from all molecule names\n",
    "                r_mol = [i.lstrip().rstrip() for i in r_mol]\n",
    "                p_mol = [i.lstrip().rstrip() for i in p_mol]\n",
    "                #####\n",
    "\n",
    "                # add flags to reaction system for informaton also available in BRENDA\n",
    "                # no. subunits\n",
    "                reaction_system.extract_subunit_info(br_data, PR)\n",
    "                # post translational mods\n",
    "                reaction_system.extract_PTM(br_data, PR)\n",
    "                # cofactors\n",
    "                reaction_system.extract_cofactor_info(br_data, PR)\n",
    "                # activation cmpds?\n",
    "                reaction_system.extract_activating_mol(br_data, PR)\n",
    "\n",
    "                reaction_system.react_mol = r_mol\n",
    "                reaction_system.prod_mol = p_mol\n",
    "                \n",
    "                reaction_system.print_rxn_system()\n",
    "                input('done?')\n",
    "                clear_output()\n",
    "                # output reacion system to file\n",
    "                # prefix + EC + property + PR code in BRENDA + count of associated files .pkl\n",
    "                pickle_name = reaction_system.pickle_name\n",
    "                # pickle reaction system object\n",
    "                reaction_system.save_object(output_dir+pickle_name)\n",
    "                count += 1\n",
    "\n",
    "            break\n",
    "            if len(values) > 0:\n",
    "                value_of_int[PR] = values\n",
    "    count_done += 1\n",
    "print('--- finished %s EC classes in %s seconds ---' % (count_done, '{0:.2f}'.format(time.time() - total_start_time)))"
   ]
  },
  {
   "cell_type": "code",
   "execution_count": 9,
   "metadata": {
    "ExecuteTime": {
     "end_time": "2018-08-15T03:52:25.896798Z",
     "start_time": "2018-08-15T03:52:25.765609Z"
    }
   },
   "outputs": [
    {
     "name": "stdout",
     "output_type": "stream",
     "text": [
      "                                                fasta_file acc.code  \\\n",
      "1305091  /home/atarzia/psp/sequence_db/bio_min_dataset/...  Z2DBW5    \n",
      "1305092  /home/atarzia/psp/sequence_db/bio_min_dataset/...  Z2DBW5    \n",
      "1305123  /home/atarzia/psp/sequence_db/bio_min_dataset/...  Z2EP46    \n",
      "\n",
      "                 organism    EC.code                             species  \\\n",
      "1305091   acetylesterase    3.1.1.6    Vibrio parahaemolyticus V-223/04    \n",
      "1305092   acetylesterase    3.1.1.6    Vibrio parahaemolyticus V-223/04    \n",
      "1305123   acetylesterase    3.1.1.6    Vibrio parahaemolyticus V-223/04    \n",
      "\n",
      "            note    pi  modification  category  \n",
      "1305091   TrEMBL  6.38             0         1  \n",
      "1305092   TrEMBL  6.38             1         1  \n",
      "1305123   TrEMBL  5.79             0         0  \n"
     ]
    }
   ],
   "source": [
    "file_t = '/home/atarzia/psp/sequence_db/bio_min_dataset/3_1_1_6__BRENDA_sequences_mod.fasta'\n",
    "temp1 = pi_data[pi_data['fasta_file'] == file_t]\n",
    "temp2 = temp1[temp1['species'] == ' Vibrio parahaemolyticus V-223/04 ']\n",
    "print(temp2)"
   ]
  },
  {
   "cell_type": "code",
   "execution_count": 10,
   "metadata": {
    "ExecuteTime": {
     "end_time": "2018-08-15T03:52:27.739347Z",
     "start_time": "2018-08-15T03:52:27.732053Z"
    }
   },
   "outputs": [
    {
     "data": {
      "text/plain": [
       "' Vibrio parahaemolyticus V-223/04 '"
      ]
     },
     "execution_count": 10,
     "metadata": {},
     "output_type": "execute_result"
    }
   ],
   "source": [
    "temp1.loc[1305123]['species']"
   ]
  },
  {
   "cell_type": "markdown",
   "metadata": {},
   "source": [
    "##  load in reaction system"
   ]
  },
  {
   "cell_type": "code",
   "execution_count": 38,
   "metadata": {
    "ExecuteTime": {
     "end_time": "2018-08-08T05:23:51.451433Z",
     "start_time": "2018-08-08T05:23:51.436348Z"
    }
   },
   "outputs": [],
   "source": [
    "# load in reaction system from pickle file\n",
    "new_reaction_system = brenda_IO.Reaction_system.load_object(output_dir+pickle_name)"
   ]
  },
  {
   "cell_type": "code",
   "execution_count": 39,
   "metadata": {
    "ExecuteTime": {
     "end_time": "2018-08-08T05:23:51.612628Z",
     "start_time": "2018-08-08T05:23:51.604758Z"
    }
   },
   "outputs": [
    {
     "name": "stdout",
     "output_type": "stream",
     "text": [
      "--------------------------\n",
      "Reaction system in: RS-1_11_1_7-SP_52_0.pkl\n",
      "Reaction Catalysed:\n",
      "['2 phenolic donor + H2O2 = 2 phenoxyl radical of the donor + 2 H2O']\n",
      "Reaction Type:\n",
      "['redox reaction', 'oxidation', 'reduction', 'hydroxylation']\n",
      "--------------------------\n",
      "Reactants: guaiacol + H2O2 -------->\n",
      "Products: tetraguaiacol + H2O\n",
      "Activating Molecules: melamine OR 2-aminothiazole\n",
      "--------------------------\n",
      "No. Sub units = ['?', 'monomer']\n",
      "Reversible?: None\n",
      "Co factors?: True\n",
      "Cofactor Molecules: heme\n",
      "Post Translational Mods?: ['glycoprotein']\n",
      "--------------------------\n",
      "Meta (in full):\n",
      "(#64# 100% activity <80>; #83# 100% activity with guaiacol at 25 mM\n",
      "<105>; #44# 74% activity compared to\n",
      "2,2-azino-bis-(3-ethyl-6-benzothiazolinsulfonate) <82>; #82# shows high\n",
      "efficiency of interaction with guaiacol at 25 mM <105>; #30# 100%\n",
      "activity, high efficiency of interaction with guaiacol at 25 mM <105>;\n",
      "#52# optimal concentrations of guaiacol and H2O2 are 0.5 mM and 0.3 mM,\n",
      "respectively <139>)\n",
      "<5,6,7,8,11,16,19,23,25,26,28,32,57,65,66,67,76,80,81,82,84,88,90,91,94\n",
      "95,98,100,101,104,105,112,115,122,126,127,132,134,135,136,138,139,142>\n",
      "\n",
      "References: ['5', '6', '7', '8', '11', '16', '19', '23', '25', '26', '28', '32', '57', '65', '66', '67', '76', '80', '81', '82', '84', '88', '90', '91', '94', '95', '98', '100', '101', '104', '105', '112', '115', '122', '126', '127', '132', '134', '135', '136', '138', '139', '142']\n",
      "--------------------------\n"
     ]
    }
   ],
   "source": [
    "new_reaction_system.print_rxn_system()"
   ]
  },
  {
   "cell_type": "markdown",
   "metadata": {},
   "source": [
    "## collect SMILES from common name from Brenda"
   ]
  },
  {
   "cell_type": "markdown",
   "metadata": {},
   "source": [
    "### CHEMBL"
   ]
  },
  {
   "cell_type": "code",
   "execution_count": 43,
   "metadata": {
    "ExecuteTime": {
     "end_time": "2018-08-29T12:55:18.787203Z",
     "start_time": "2018-08-29T12:55:14.706087Z"
    }
   },
   "outputs": [
    {
     "name": "stdout",
     "output_type": "stream",
     "text": [
      "['activity', 'assay', 'atc_class', 'binding_site', 'biotherapeutic', 'cell_line', 'chembl_id_lookup', 'compound_record', 'compound_structural_alert', 'description', 'document', 'document_similarity', 'document_term', 'drug', 'drug_indication', 'go_slim', 'image', 'mechanism', 'metabolism', 'molecule', 'molecule_form', 'official', 'organism', 'protein_class', 'similarity', 'source', 'substructure', 'target', 'target_component', 'target_prediction', 'target_relation', 'tissue', 'xref_source']\n",
      "33\n"
     ]
    }
   ],
   "source": [
    "available_resources = [resource for resource in dir(new_client) if not resource.startswith('_')]\n",
    "print(available_resources)\n",
    "print(len(available_resources))\n",
    "\n",
    "# molecule handler\n",
    "molecule = new_client.molecule\n",
    "molecule.set_format('json')\n",
    "\n",
    "# get molecule using unambiguous\n",
    "m3 = molecule.get('CC(=O)Oc1ccccc1C(=O)O')\n",
    "\n",
    "# batch queries\n",
    "records3 = molecule.get(['CNC(=O)c1ccc(cc1)N(CC#C)Cc2ccc3nc(C)nc(O)c3c2',\n",
    "            'Cc1cc2SC(C)(C)CC(C)(C)c2cc1\\\\N=C(/S)\\\\Nc3ccc(cc3)S(=O)(=O)N',\n",
    "            'CC(C)C[C@H](NC(=O)[C@@H](NC(=O)[C@H](Cc1c[nH]c2ccccc12)NC(=O)[C@H]3CCCN3C(=O)C(CCCCN)CCCCN)C(C)(C)C)C(=O)O'])"
   ]
  },
  {
   "cell_type": "code",
   "execution_count": 44,
   "metadata": {
    "ExecuteTime": {
     "end_time": "2018-08-29T12:55:21.604350Z",
     "start_time": "2018-08-29T12:55:21.591581Z"
    }
   },
   "outputs": [],
   "source": [
    "from chembl_webresource_client.new_client import new_client\n",
    "molecule = new_client.molecule\n",
    "res = molecule.search('vinylacetyl-CoA')  # 'viagra')\n",
    "# guaiacol"
   ]
  },
  {
   "cell_type": "code",
   "execution_count": 45,
   "metadata": {
    "ExecuteTime": {
     "end_time": "2018-08-29T12:55:22.315035Z",
     "start_time": "2018-08-29T12:55:22.282369Z"
    }
   },
   "outputs": [
    {
     "ename": "TypeError",
     "evalue": "'NoneType' object is not subscriptable",
     "output_type": "error",
     "traceback": [
      "\u001b[0;31m---------------------------------------------------------------------------\u001b[0m",
      "\u001b[0;31mTypeError\u001b[0m                                 Traceback (most recent call last)",
      "\u001b[0;32m<ipython-input-45-be8801a24f76>\u001b[0m in \u001b[0;36m<module>\u001b[0;34m()\u001b[0m\n\u001b[0;32m----> 1\u001b[0;31m \u001b[0mprint\u001b[0m\u001b[0;34m(\u001b[0m\u001b[0mres\u001b[0m\u001b[0;34m[\u001b[0m\u001b[0;36m0\u001b[0m\u001b[0;34m]\u001b[0m\u001b[0;34m[\u001b[0m\u001b[0;34m'molecule_chembl_id'\u001b[0m\u001b[0;34m]\u001b[0m\u001b[0;34m)\u001b[0m\u001b[0;34m\u001b[0m\u001b[0m\n\u001b[0m\u001b[1;32m      2\u001b[0m \u001b[0mprint\u001b[0m\u001b[0;34m(\u001b[0m\u001b[0mres\u001b[0m\u001b[0;34m[\u001b[0m\u001b[0;36m0\u001b[0m\u001b[0;34m]\u001b[0m\u001b[0;34m[\u001b[0m\u001b[0;34m'molecule_structures'\u001b[0m\u001b[0;34m]\u001b[0m\u001b[0;34m[\u001b[0m\u001b[0;34m'canonical_smiles'\u001b[0m\u001b[0;34m]\u001b[0m\u001b[0;34m)\u001b[0m\u001b[0;34m\u001b[0m\u001b[0m\n\u001b[1;32m      3\u001b[0m \u001b[0mprint\u001b[0m\u001b[0;34m(\u001b[0m\u001b[0;34m'there are'\u001b[0m\u001b[0;34m,\u001b[0m \u001b[0mlen\u001b[0m\u001b[0;34m(\u001b[0m\u001b[0mres\u001b[0m\u001b[0;34m)\u001b[0m\u001b[0;34m,\u001b[0m \u001b[0;34m'top search candidates:'\u001b[0m\u001b[0;34m)\u001b[0m\u001b[0;34m\u001b[0m\u001b[0m\n\u001b[1;32m      4\u001b[0m \u001b[0;32mfor\u001b[0m \u001b[0mi\u001b[0m \u001b[0;32min\u001b[0m \u001b[0mrange\u001b[0m\u001b[0;34m(\u001b[0m\u001b[0mlen\u001b[0m\u001b[0;34m(\u001b[0m\u001b[0mres\u001b[0m\u001b[0;34m)\u001b[0m\u001b[0;34m)\u001b[0m\u001b[0;34m:\u001b[0m\u001b[0;34m\u001b[0m\u001b[0m\n\u001b[1;32m      5\u001b[0m     \u001b[0mprint\u001b[0m\u001b[0;34m(\u001b[0m\u001b[0;34m'option:'\u001b[0m\u001b[0;34m,\u001b[0m \u001b[0mi\u001b[0m\u001b[0;34m,\u001b[0m \u001b[0;34m'name:'\u001b[0m\u001b[0;34m,\u001b[0m \u001b[0mres\u001b[0m\u001b[0;34m[\u001b[0m\u001b[0mi\u001b[0m\u001b[0;34m]\u001b[0m\u001b[0;34m[\u001b[0m\u001b[0;34m'pref_name'\u001b[0m\u001b[0;34m]\u001b[0m\u001b[0;34m)\u001b[0m\u001b[0;34m\u001b[0m\u001b[0m\n",
      "\u001b[0;31mTypeError\u001b[0m: 'NoneType' object is not subscriptable"
     ]
    }
   ],
   "source": [
    "print(res[0]['molecule_chembl_id'])\n",
    "print(res[0]['molecule_structures']['canonical_smiles'])\n",
    "print('there are', len(res), 'top search candidates:')\n",
    "for i in range(len(res)):\n",
    "    print('option:', i, 'name:', res[i]['pref_name'])\n",
    "    print([res[i]['molecule_synonyms'][j]['synonyms'] for j in range(len(res[i]['molecule_synonyms']))])"
   ]
  },
  {
   "cell_type": "markdown",
   "metadata": {},
   "source": [
    "##  SABIO-RK\n",
    "http://sabiork.h-its.org/layouts/content/docuRESTfulWeb/searchPython.gsp"
   ]
  },
  {
   "cell_type": "code",
   "execution_count": 11,
   "metadata": {
    "ExecuteTime": {
     "end_time": "2018-08-15T04:22:39.085717Z",
     "start_time": "2018-08-15T04:22:38.360250Z"
    }
   },
   "outputs": [
    {
     "name": "stdout",
     "output_type": "stream",
     "text": [
      "758 matching entries found.\n"
     ]
    }
   ],
   "source": [
    "# set EC \n",
    "EC = \"1.1.1.1\"\n",
    "# get all SABIO entries\n",
    "entries = SABIO_IO.get_entries_per_EC(EC)"
   ]
  },
  {
   "cell_type": "code",
   "execution_count": 17,
   "metadata": {
    "ExecuteTime": {
     "end_time": "2018-08-15T04:23:58.851244Z",
     "start_time": "2018-08-15T04:23:53.753267Z"
    }
   },
   "outputs": [
    {
     "name": "stdout",
     "output_type": "stream",
     "text": [
      "entry: 11021\n",
      "--------------------------\n",
      "EC: 1.1.1.1\n",
      "Organism: Coturnix coturnix japonica\n",
      "SABIO entry ID: 11021\n",
      "SABIO reaction ID: 8784\n",
      "--------------------------\n",
      "Cyclohexanone  (ID: 5081) as Product\n",
      "NADH  (ID: 38) as Product\n",
      "H+  (ID: 39) as Product\n",
      "NAD+  (ID: 37) as Substrate\n",
      "Cyclohexanol  (ID: 5279) as Substrate\n",
      "--------------------------\n",
      "sRS-1_1_1_1-11021.pkl\n"
     ]
    }
   ],
   "source": [
    "# iterate over entries\n",
    "eID = entries[1]\n",
    "print('entry:', eID)\n",
    "# initialise reaction system object\n",
    "rxn_syst = SABIO_IO.SABIO_reaction(EC, eID)\n",
    "# get reaction ID\n",
    "rxn_syst.organism, rxn_syst.rID = SABIO_IO.get_rxnID_from_eID(eID)\n",
    "# get reaction system\n",
    "rxn_syst.get_reaction_system()\n",
    "rxn_syst.print_rxn_system()\n",
    "# append compound information\n",
    "for m in rxn_syst.components:\n",
    "    m.get_cmpd_information()\n",
    "    \n",
    "# pickle reaction system object to file\n",
    "# prefix (sRS for SABIO) + EC + EntryID .pkl\n",
    "rxn_syst.save_object(output_dir+rxn_syst.pkl_name)"
   ]
  },
  {
   "cell_type": "code",
   "execution_count": 28,
   "metadata": {
    "ExecuteTime": {
     "end_time": "2018-08-15T04:28:08.043991Z",
     "start_time": "2018-08-15T04:28:08.021465Z"
    }
   },
   "outputs": [
    {
     "name": "stdout",
     "output_type": "stream",
     "text": [
      "entry: 11021\n",
      "loading: /home/atarzia/psp/sequence_db/bio_min_dataset/sRS-1_1_1_1-11021.pkl\n",
      "--------------------------\n",
      "EC: 1.1.1.1\n",
      "Organism: Coturnix coturnix japonica\n",
      "SABIO entry ID: 11021\n",
      "SABIO reaction ID: 8784\n",
      "--------------------------\n",
      "Cyclohexanone  (ID: 5081) as Product\n",
      "NADH  (ID: 38) as Product\n",
      "H+  (ID: 39) as Product\n",
      "NAD+  (ID: 37) as Substrate\n",
      "Cyclohexanol  (ID: 5279) as Substrate\n",
      "--------------------------\n"
     ]
    }
   ],
   "source": [
    "# iterate over entries\n",
    "eID = entries[1]\n",
    "print('entry:', eID)\n",
    "# initialise reaction system object\n",
    "rxn_syst = SABIO_IO.SABIO_reaction(EC, eID)\n",
    "# load in rxn system\n",
    "rxn_syst = rxn_syst.load_object(output_dir+rxn_syst.pkl_name)\n",
    "rxn_syst.print_rxn_system()"
   ]
  },
  {
   "cell_type": "markdown",
   "metadata": {},
   "source": [
    "## BKMS"
   ]
  },
  {
   "cell_type": "code",
   "execution_count": 16,
   "metadata": {
    "ExecuteTime": {
     "end_time": "2018-08-29T12:40:29.171271Z",
     "start_time": "2018-08-29T12:40:29.160589Z"
    }
   },
   "outputs": [],
   "source": [
    "import pandas as pd"
   ]
  },
  {
   "cell_type": "code",
   "execution_count": 15,
   "metadata": {
    "ExecuteTime": {
     "end_time": "2018-08-29T12:40:09.802708Z",
     "start_time": "2018-08-29T12:40:09.793108Z"
    }
   },
   "outputs": [],
   "source": [
    "bkms_dir = '/home/atarzia/psp/BKMS_react/'"
   ]
  },
  {
   "cell_type": "code",
   "execution_count": 132,
   "metadata": {
    "ExecuteTime": {
     "end_time": "2018-08-29T13:25:46.404536Z",
     "start_time": "2018-08-29T13:25:46.154042Z"
    }
   },
   "outputs": [
    {
     "name": "stdout",
     "output_type": "stream",
     "text": [
      "BKMS Stats:\n",
      "The table contains actual data of BRENDA (release 2018.2, only reactions\n",
      "with naturally occuring substrates), MetaCyc (version 21.5), SABIO-RK\n",
      "(02/05/2018) and KEGG data, downloaded 23/04/2012. (Downloading more\n",
      "recent KEGG data cannot be offered because a KEGG license agreement\n",
      "would be necessary.)\n",
      "----------------\n",
      "independant EC No.: 6976\n",
      "independant Rxns: 31740\n",
      "independant non-generic Rxns: 26103\n"
     ]
    }
   ],
   "source": [
    "# NaNs in Remark column replaced with 999 - all others remain\n",
    "bkms_data = pd.read_table(bkms_dir+'Reactions_BKMS.tab', delimiter='\\t', \n",
    "                          names=['ID', 'EC', 'Rec. Name', 'rxn', \n",
    "                                 'RID_Brenda', 'RID_KEGG', 'RID_metacyc', 'RID_SABIO',\n",
    "                                 'Brenda_pathway_name', 'KEGG_pathway_ID', 'KEGG_pathway_name',\n",
    "                                 'metacyc_pathway_id', 'metacyc_pathway_name', 'stoich_check',\n",
    "                                 'missing substrate', 'missing product', 'KEGG_comments', \n",
    "                                 'metacyc_comments', 'remark']).fillna(value={'remark': 999})\n",
    "\n",
    "print(\"BKMS Stats:\")\n",
    "print(\"The table contains actual data of BRENDA (release 2018.2, only reactions\",\n",
    "      \"with naturally occuring substrates), MetaCyc (version 21.5), SABIO-RK\",\n",
    "      \"(02/05/2018) and KEGG data, downloaded 23/04/2012. (Downloading more\",\n",
    "      \"recent KEGG data cannot be offered because a KEGG license agreement\",\n",
    "      \"would be necessary.)\", sep='\\n')\n",
    "print('----------------')\n",
    "print(\"independant EC No.:\", len(list(set(bkms_data['EC']))))\n",
    "print(\"independant Rxns:\", len(bkms_data['EC']))\n",
    "print(\"independant non-generic Rxns:\", len([i for i in list(bkms_data['remark'][bkms_data['remark'] != 999]) if 'generic' not in i]))"
   ]
  },
  {
   "cell_type": "code",
   "execution_count": 222,
   "metadata": {
    "ExecuteTime": {
     "end_time": "2018-08-29T14:56:31.591727Z",
     "start_time": "2018-08-29T14:56:31.569423Z"
    }
   },
   "outputs": [],
   "source": [
    "def get_DB_prop(DB=None):\n",
    "    \"\"\"Returns properties of available DBs.\n",
    "    \n",
    "    {DB: (directory, class initalized object specific to DB)}\n",
    "    \n",
    "    \"\"\"\n",
    "    \n",
    "    DBs = {\n",
    "         'CHEBI': ('/home/atarzia/psp/molecule_DBs/chebi/', '_'),\n",
    "        \n",
    "          }\n",
    "    if DB is None:\n",
    "        return DBs\n",
    "    else:\n",
    "        try:\n",
    "            return {DB: DBs[DB]}\n",
    "        except KeyError:\n",
    "            print(\"Error: This DB does not exist.\")\n",
    "            print('available DBs:')\n",
    "            print(list(DBs.keys()))"
   ]
  },
  {
   "cell_type": "code",
   "execution_count": 248,
   "metadata": {
    "ExecuteTime": {
     "end_time": "2018-08-29T15:22:10.796752Z",
     "start_time": "2018-08-29T15:22:10.639476Z"
    }
   },
   "outputs": [],
   "source": [
    "# chebi specific definitions and functions\n",
    "compounds_file = db_dir+'compounds.tsv'\n",
    "names_file = db_dir+'names.tsv'\n",
    "\n",
    "def search_for_compound(file, cmpd):\n",
    "    \"\"\"Search compounds.tsv file for matching name.\n",
    "    \n",
    "    \"\"\"\n",
    "    # read file line by line\n",
    "    # header = 'ID', 'STATUS', 'CHEBI_ACCESSION', \n",
    "    #          'SOURCE', 'PARENT_ID', 'NAME', \n",
    "    #          'DEFINITION', 'MODIFIED_ON', 'CREATED_BY', 'STAR'\n",
    "    # dont use pandas - code worked though:\n",
    "    # cmpds_data = pd.read_table(compounds_file, delimiter='\\t', chunksize=1000)\n",
    "    with open(file, 'r') as f:\n",
    "        for line in f:\n",
    "            line_split = line.split('\\t')\n",
    "            ID, _, _, _, parent_id, name, _, _, _, star = line_split\n",
    "            if ID == 'ID':\n",
    "                continue\n",
    "            if name == cmpd:\n",
    "                return ID, parent_id, name, star\n",
    "    \n",
    "    return None\n",
    "\n",
    "\n",
    "def search_for_name(file, cmpd):\n",
    "    \"\"\"Search names.tsv file for matching name.\n",
    "    \n",
    "    \"\"\"\n",
    "    # read file line by line\n",
    "    # header = 'ID', 'COMPOUND_ID', 'TYPE', \n",
    "    #          'SOURCE', 'NAME', 'ADAPTED', 'LANGUAGE'\n",
    "\n",
    "    # dont use pandas - code worked though:\n",
    "    # cmpds_data = pd.read_table(compounds_file, delimiter='\\t', chunksize=1000)\n",
    "    with open(file, 'r') as f:\n",
    "        for line in f:\n",
    "            line_split = line.split('\\t')\n",
    "            ID, C_ID, _, _, name, _, _ = line_split\n",
    "            if ID == 'ID':\n",
    "                continue\n",
    "            if name == cmpd:\n",
    "                return C_ID, name\n",
    "    \n",
    "    return None\n",
    "\n",
    "\n",
    "def convert_nameID_to_parent(file, nameID):\n",
    "    \"\"\"Make sure ID extracted for the name is parent - get CHEBI ID of parent if not.\n",
    "    \n",
    "    \"\"\"\n",
    "    # read file line by line\n",
    "    # header = 'ID', 'STATUS', 'CHEBI_ACCESSION', \n",
    "    #          'SOURCE', 'PARENT_ID', 'NAME', \n",
    "    #          'DEFINITION', 'MODIFIED_ON', 'CREATED_BY', 'STAR'\n",
    "    # dont use pandas - code worked though:\n",
    "    # cmpds_data = pd.read_table(compounds_file, delimiter='\\t', chunksize=1000)\n",
    "    with open(file, 'r') as f:\n",
    "        for line in f:\n",
    "            line_split = line.split('\\t')\n",
    "            ID, _, _, _, parent_id, name, _, _, _, star = line_split\n",
    "            if ID == 'ID':\n",
    "                continue\n",
    "            if nameID == ID:\n",
    "                if parent_id != 'null':\n",
    "                    desired_parent_id = parent_id\n",
    "                    break\n",
    "                else:\n",
    "                    return ID, parent_id, name, star\n",
    "    \n",
    "    # now search for parent if necessary\n",
    "    with open(file, 'r') as f:\n",
    "        for line in f:\n",
    "            line_split = line.split('\\t')\n",
    "            ID, _, _, _, parent_id, name, _, _, _, star = line_split\n",
    "            if ID == 'ID':\n",
    "                continue\n",
    "            if ID == desired_parent_id:\n",
    "                if parent_id == 'null':\n",
    "                    return ID, parent_id, name, star\n",
    "    \n",
    "    return None"
   ]
  },
  {
   "cell_type": "code",
   "execution_count": 251,
   "metadata": {
    "ExecuteTime": {
     "end_time": "2018-08-29T15:24:22.955579Z",
     "start_time": "2018-08-29T15:24:22.872090Z"
    }
   },
   "outputs": [],
   "source": [
    "def get_SMILES_for_molecule_list(mol_list, DBs='any'):\n",
    "    \"\"\"Convert list of molecule names to Canonical SMILEs by searching DBs.\n",
    "    \n",
    "    Keywords:\n",
    "        mol_list (list) - list of molecule names\n",
    "        DBs (str) - DB to use, defaults to a hierachical search through all available\n",
    "    \n",
    "    DBs available (online.offline) (in 'any' order):\n",
    "        - CHEBI (offline) - not yet\n",
    "        - CHEMBL (online) - not yet\n",
    "        - SABIO (online) - not yet\n",
    "        - KEGG (online) - not yet\n",
    "    \n",
    "    Returns:\n",
    "        mol_dict (dict) - {name: (SMILEs, DB, DB_ID, iupac_name)} \n",
    "            DB_ID is the molecule ID within the given DB.\n",
    "    \n",
    "    \"\"\"\n",
    "    mol_dict = {}\n",
    "    \n",
    "    # get properties of DBs\n",
    "    DB_prop = get_DB_prop(DB=DBs)\n",
    "    \n",
    "    # chebi code - temp\n",
    "    compounds_file = db_dir+'compounds.tsv'\n",
    "    names_file = db_dir+'names.tsv'\n",
    "    \n",
    "    for mol in mol_list:\n",
    "        print(mol)\n",
    "        # search for name in compound file\n",
    "        res = search_for_compound(compounds_file, mol)\n",
    "        if res is None:\n",
    "            # search for formula in names file\n",
    "            res = search_for_name(names_file, mol)\n",
    "            if res is None:\n",
    "                print('no match in DB')\n",
    "                continue\n",
    "            else:\n",
    "                ID, name = res\n",
    "                parent_id = None\n",
    "        else:\n",
    "            ID, parent_id, name, star = res\n",
    "        \n",
    "        # make sure is parent compound\n",
    "        if parent_id != 'null':\n",
    "            res = convert_nameID_to_parent(compounds_file, nameID=ID)\n",
    "            if res is None:\n",
    "                print(\"this should not happen - error with cross reference\")\n",
    "                print('check this!')\n",
    "                import sys\n",
    "                sys.exit()\n",
    "            ID, parent_id, name, star = res\n",
    "        \n",
    "        # get structure using CHEBI ID\n",
    "        # structures.csv - read in, get COMPOUND ID match then extract the structure\n",
    "        # read into RDKIT straight up OR save the SMILE or save a pickle\n",
    "        # mol_dict should refeence the SMILES or the file its saved to.\n",
    "        \n",
    "        smile = ''\n",
    "        DB = DBs  # temp\n",
    "        DB_ID = ID\n",
    "        iupac_name = name\n",
    "        mol_dict[mol] = (smile, DB, DB_ID, iupac_name)\n",
    "    \n",
    "    \n",
    "    return mol_dict"
   ]
  },
  {
   "cell_type": "code",
   "execution_count": 252,
   "metadata": {
    "ExecuteTime": {
     "end_time": "2018-08-29T15:24:25.341894Z",
     "start_time": "2018-08-29T15:24:24.045158Z"
    }
   },
   "outputs": [
    {
     "name": "stdout",
     "output_type": "stream",
     "text": [
      "8220 : 1.11.1.7 : peroxidase\n",
      "reaction: H2O2 + methanol = formaldehyde + H2O\n",
      "ID                                                              8220\n",
      "EC                                                          1.11.1.7\n",
      "Rec. Name                                                 peroxidase\n",
      "rxn                             H2O2 + methanol = formaldehyde + H2O\n",
      "RID_Brenda                                                  BS373379\n",
      "RID_KEGG                                                      R00602\n",
      "RID_metacyc                                                RXN-14189\n",
      "RID_SABIO                                                        NaN\n",
      "Brenda_pathway_name                                              NaN\n",
      "KEGG_pathway_ID                                              rn01120\n",
      "KEGG_pathway_name       Microbial metabolism in diverse environments\n",
      "metacyc_pathway_id                                               NaN\n",
      "metacyc_pathway_name                                             NaN\n",
      "stoich_check                                                     NaN\n",
      "missing substrate                                                NaN\n",
      "missing product                                                  NaN\n",
      "KEGG_comments                                                    NaN\n",
      "metacyc_comments                                                 NaN\n",
      "remark                                            natural substrates\n",
      "Name: 8221, dtype: object\n",
      "['H2O2', 'methanol']\n",
      "['formaldehyde', 'H2O']\n",
      "H2O2\n",
      "methanol\n",
      "formaldehyde\n",
      "H2O\n",
      "{'H2O2': ('', 'CHEBI', '16240', 'hydrogen peroxide'), 'methanol': ('', 'CHEBI', '17790', 'methanol')}\n",
      "{'formaldehyde': ('', 'CHEBI', '16842', 'formaldehyde'), 'H2O': ('', 'CHEBI', '15377', 'water')}\n"
     ]
    }
   ],
   "source": [
    "for idx, row in bkms_data.iterrows():\n",
    "    # target EC No. of interest\n",
    "    if row['EC'] != '1.11.1.7':\n",
    "        continue\n",
    "    # ignore those with 'generic' in remark\n",
    "    if 'generic' in row['remark']:\n",
    "        continue\n",
    "    # ignore those with missing substrates\n",
    "    if pd.isna(row['missing substrate']) is False:\n",
    "        continue\n",
    "    print(row['ID'], \":\", row['EC'], \":\", row['Rec. Name'])\n",
    "    print(\"reaction:\", row['rxn'])\n",
    "    print(row)\n",
    "    reactants, products = row['rxn'].split(\"=\")\n",
    "    reactants = reactants.split(\"+\")\n",
    "    products = products.split(\"+\")\n",
    "    # remove white space\n",
    "    reactants = [i.replace(\" \", \"\") for i in reactants]\n",
    "    products = [i.replace(\" \", \"\") for i in products]\n",
    "    print(reactants)\n",
    "    print(products)\n",
    "    \n",
    "    # get SMILES of reactants and products\n",
    "    reactants_dict = get_SMILES_for_molecule_list(mol_list=reactants, DBs='CHEBI')\n",
    "    products_dict = get_SMILES_for_molecule_list(mol_list=products, DBs='CHEBI')\n",
    "    print(reactants_dict)\n",
    "    print(products_dict)\n",
    "    break\n",
    "    \n",
    "    "
   ]
  },
  {
   "cell_type": "code",
   "execution_count": null,
   "metadata": {},
   "outputs": [],
   "source": []
  },
  {
   "cell_type": "code",
   "execution_count": null,
   "metadata": {},
   "outputs": [],
   "source": []
  },
  {
   "cell_type": "code",
   "execution_count": null,
   "metadata": {},
   "outputs": [],
   "source": []
  },
  {
   "cell_type": "code",
   "execution_count": 157,
   "metadata": {
    "ExecuteTime": {
     "end_time": "2018-08-29T13:58:58.477683Z",
     "start_time": "2018-08-29T13:58:58.442584Z"
    }
   },
   "outputs": [
    {
     "name": "stderr",
     "output_type": "stream",
     "text": [
      "RDKit WARNING: [23:28:58]  S group MUL ignored on line 762\n",
      "RDKit ERROR: [23:28:58]  Unhandled CTAB feature: S group SRU on line: 1122. Molecule skipped.\n"
     ]
    },
    {
     "ename": "AttributeError",
     "evalue": "'NoneType' object has no attribute 'GetNumHeavyAtoms'",
     "output_type": "error",
     "traceback": [
      "\u001b[0;31m---------------------------------------------------------------------------\u001b[0m",
      "\u001b[0;31mAttributeError\u001b[0m                            Traceback (most recent call last)",
      "\u001b[0;32m<ipython-input-157-6bfd3ee467c2>\u001b[0m in \u001b[0;36m<module>\u001b[0;34m()\u001b[0m\n\u001b[1;32m      9\u001b[0m \u001b[0;32mfor\u001b[0m \u001b[0mmol\u001b[0m \u001b[0;32min\u001b[0m \u001b[0msuppl\u001b[0m\u001b[0;34m:\u001b[0m\u001b[0;34m\u001b[0m\u001b[0m\n\u001b[1;32m     10\u001b[0m     \u001b[0;32mif\u001b[0m \u001b[0mmol\u001b[0m \u001b[0;32mis\u001b[0m \u001b[0;32mnot\u001b[0m \u001b[0;32mNone\u001b[0m\u001b[0;34m:\u001b[0m \u001b[0;32mcontinue\u001b[0m\u001b[0;34m\u001b[0m\u001b[0m\n\u001b[0;32m---> 11\u001b[0;31m     \u001b[0mprint\u001b[0m\u001b[0;34m(\u001b[0m\u001b[0mmol\u001b[0m\u001b[0;34m.\u001b[0m\u001b[0mGetNumHeavyAtoms\u001b[0m\u001b[0;34m(\u001b[0m\u001b[0;34m)\u001b[0m\u001b[0;34m)\u001b[0m\u001b[0;34m\u001b[0m\u001b[0m\n\u001b[0m\u001b[1;32m     12\u001b[0m     \u001b[0;32mbreak\u001b[0m\u001b[0;34m\u001b[0m\u001b[0m\n",
      "\u001b[0;31mAttributeError\u001b[0m: 'NoneType' object has no attribute 'GetNumHeavyAtoms'"
     ]
    }
   ],
   "source": [
    "import gzip\n",
    "\n",
    "# reads a zipped SDF file\n",
    "# not useful for CHEBI because their SDF format varies.\n",
    "db_dir = '/home/atarzia/psp/molecule_DBs/chebi/'\n",
    "z_SDF_file = gzip.open(db_dir+'ChEBI_complete.sdf.gz')\n",
    "suppl = Chem.ForwardSDMolSupplier(z_SDF_file)\n",
    "\n",
    "for mol in suppl:\n",
    "    if mol is None: continue\n",
    "    print(mol.GetNumHeavyAtoms())\n",
    "    break"
   ]
  },
  {
   "cell_type": "code",
   "execution_count": 155,
   "metadata": {
    "ExecuteTime": {
     "end_time": "2018-08-29T13:54:53.484646Z",
     "start_time": "2018-08-29T13:54:53.468288Z"
    }
   },
   "outputs": [
    {
     "data": {
      "text/plain": [
       "21"
      ]
     },
     "execution_count": 155,
     "metadata": {},
     "output_type": "execute_result"
    }
   ],
   "source": [
    "mol.GetNumHeavyAtoms()"
   ]
  },
  {
   "cell_type": "code",
   "execution_count": 138,
   "metadata": {
    "ExecuteTime": {
     "end_time": "2018-08-29T13:38:55.184649Z",
     "start_time": "2018-08-29T13:38:55.064110Z"
    }
   },
   "outputs": [
    {
     "ename": "FileNotFoundError",
     "evalue": "[Errno 2] No such file or directory: '/Users/curt/Desktop/sdf-isothiocyanates.sdf'",
     "output_type": "error",
     "traceback": [
      "\u001b[0;31m---------------------------------------------------------------------------\u001b[0m",
      "\u001b[0;31mFileNotFoundError\u001b[0m                         Traceback (most recent call last)",
      "\u001b[0;32m<ipython-input-138-59f2cf91afd9>\u001b[0m in \u001b[0;36m<module>\u001b[0;34m()\u001b[0m\n\u001b[1;32m     11\u001b[0m                             \u001b[0msmilesName\u001b[0m\u001b[0;34m=\u001b[0m\u001b[0;34m'SMILES'\u001b[0m\u001b[0;34m,\u001b[0m\u001b[0;34m\u001b[0m\u001b[0m\n\u001b[1;32m     12\u001b[0m                             \u001b[0mmolColName\u001b[0m\u001b[0;34m=\u001b[0m\u001b[0;34m'Molecule'\u001b[0m\u001b[0;34m,\u001b[0m\u001b[0;34m\u001b[0m\u001b[0m\n\u001b[0;32m---> 13\u001b[0;31m                             includeFingerprints=False)\n\u001b[0m",
      "\u001b[0;32m~/anaconda3/lib/python3.6/site-packages/rdkit/Chem/PandasTools.py\u001b[0m in \u001b[0;36mLoadSDF\u001b[0;34m(filename, idName, molColName, includeFingerprints, isomericSmiles, smilesName, embedProps)\u001b[0m\n\u001b[1;32m    331\u001b[0m       \u001b[0mf\u001b[0m \u001b[0;34m=\u001b[0m \u001b[0mgzip\u001b[0m\u001b[0;34m.\u001b[0m\u001b[0mopen\u001b[0m\u001b[0;34m(\u001b[0m\u001b[0mfilename\u001b[0m\u001b[0;34m,\u001b[0m \u001b[0;34m\"rb\"\u001b[0m\u001b[0;34m)\u001b[0m\u001b[0;34m\u001b[0m\u001b[0m\n\u001b[1;32m    332\u001b[0m     \u001b[0;32melse\u001b[0m\u001b[0;34m:\u001b[0m\u001b[0;34m\u001b[0m\u001b[0m\n\u001b[0;32m--> 333\u001b[0;31m       \u001b[0mf\u001b[0m \u001b[0;34m=\u001b[0m \u001b[0mopen\u001b[0m\u001b[0;34m(\u001b[0m\u001b[0mfilename\u001b[0m\u001b[0;34m,\u001b[0m \u001b[0;34m'rb'\u001b[0m\u001b[0;34m)\u001b[0m\u001b[0;34m\u001b[0m\u001b[0m\n\u001b[0m\u001b[1;32m    334\u001b[0m     \u001b[0mclose\u001b[0m \u001b[0;34m=\u001b[0m \u001b[0mf\u001b[0m\u001b[0;34m.\u001b[0m\u001b[0mclose\u001b[0m\u001b[0;34m\u001b[0m\u001b[0m\n\u001b[1;32m    335\u001b[0m   \u001b[0;32melse\u001b[0m\u001b[0;34m:\u001b[0m\u001b[0;34m\u001b[0m\u001b[0m\n",
      "\u001b[0;31mFileNotFoundError\u001b[0m: [Errno 2] No such file or directory: '/Users/curt/Desktop/sdf-isothiocyanates.sdf'"
     ]
    }
   ],
   "source": [
    "# RDKIT code to read SDF:\n",
    "# https://chemistry.stackexchange.com/questions/54861/open-source-sdf-chemical-table-file-parser-in-any-language\n",
    "\n",
    "\n",
    "from rdkit.Chem import PandasTools\n",
    "\n",
    "\n",
    "my_sdf_file = '/Users/curt/Desktop/sdf-isothiocyanates.sdf'\n",
    "\n",
    "frame = PandasTools.LoadSDF(my_sdf_file,\n",
    "                            smilesName='SMILES',\n",
    "                            molColName='Molecule',\n",
    "                            includeFingerprints=False)"
   ]
  },
  {
   "cell_type": "code",
   "execution_count": null,
   "metadata": {},
   "outputs": [],
   "source": []
  }
 ],
 "metadata": {
  "kernelspec": {
   "display_name": "Python 3",
   "language": "python",
   "name": "python3"
  },
  "language_info": {
   "codemirror_mode": {
    "name": "ipython",
    "version": 3
   },
   "file_extension": ".py",
   "mimetype": "text/x-python",
   "name": "python",
   "nbconvert_exporter": "python",
   "pygments_lexer": "ipython3",
   "version": "3.6.5"
  }
 },
 "nbformat": 4,
 "nbformat_minor": 2
}
