{
 "cells": [
  {
   "cell_type": "code",
   "execution_count": 1,
   "metadata": {
    "ExecuteTime": {
     "end_time": "2018-04-24T03:23:06.761154Z",
     "start_time": "2018-04-24T03:23:06.729312Z"
    }
   },
   "outputs": [
    {
     "data": {
      "text/html": [
       "<style>.container { width:95% !important; }</style>"
      ],
      "text/plain": [
       "<IPython.core.display.HTML object>"
      ]
     },
     "metadata": {},
     "output_type": "display_data"
    }
   ],
   "source": [
    "from IPython.core.display import HTML\n",
    "display(HTML(\"<style>.container { width:95% !important; }</style>\"))   "
   ]
  },
  {
   "cell_type": "markdown",
   "metadata": {},
   "source": [
    "Author: Andrew Tarzia\n",
    "\n",
    "Date Created: 12 Jul 2018\n",
    "\n",
    "License:"
   ]
  },
  {
   "cell_type": "markdown",
   "metadata": {},
   "source": [
    "# Notebook for getting molecule parameters using RDKIT\n"
   ]
  },
  {
   "cell_type": "code",
   "execution_count": 3,
   "metadata": {
    "ExecuteTime": {
     "end_time": "2018-04-24T03:23:07.958684Z",
     "start_time": "2018-04-24T03:23:07.399243Z"
    }
   },
   "outputs": [],
   "source": [
    "import numpy as np\n",
    "import pandas as pd\n",
    "from rdkit.Chem import AllChem as Chem\n",
    "from rdkit.Chem import Descriptors\n",
    "from rdkit.Chem.Descriptors3D import NPR1, NPR2, PMI1, PMI2, PMI3\n",
    "from rdkit.Chem.Draw.MolDrawing import MolDrawing\n",
    "from rdkit.Chem.Draw import IPythonConsole\n",
    "from rdkit.Chem import Draw\n",
    "from rdkit.Geometry import rdGeometry\n",
    "from rdkit.Chem import PyMol\n",
    "from rdkit import Geometry\n",
    "import tempfile\n",
    "import matplotlib.pyplot as plt"
   ]
  },
  {
   "cell_type": "markdown",
   "metadata": {},
   "source": [
    "# Notes:\n",
    "# Todo:\n",
    "- timing\n",
    " - speed up reading: https://rdkit.blogspot.com/2016/09/avoiding-unnecessary-work-and.html"
   ]
  },
  {
   "cell_type": "code",
   "execution_count": 4,
   "metadata": {},
   "outputs": [],
   "source": [
    "# molecule file dir\n",
    "molecule_file = '/home/atarzia/psp/molecules/test_molecules.txt'\n",
    "# output dir\n",
    "output_dir = '/home/atarzia/psp/molecules/'"
   ]
  },
  {
   "cell_type": "code",
   "execution_count": 5,
   "metadata": {},
   "outputs": [],
   "source": [
    "def read_mol_txt_file(filename):\n",
    "    \"\"\"Function to read molecule SMILES and information from txt file.\n",
    "    \n",
    "    \"\"\"\n",
    "    data = pd.read_table(filename, delimiter=':')\n",
    "    molecules = {}\n",
    "    diameters = {}\n",
    "    for i, row in data.iterrows():\n",
    "#         try:\n",
    "#             name, smile, radius = line.rstrip().split(':')\n",
    "#         except ValueError:\n",
    "#             print(line, 'had : in there twice, fix this naming or SMILE')\n",
    "#             print('skipped')\n",
    "        name = row['molecule']\n",
    "        smile = row['smile']\n",
    "        diameter = row['diameter']\n",
    "        molecules[name] = smile\n",
    "        diameters[name] = diameter\n",
    "    return data, molecules, diameters"
   ]
  },
  {
   "cell_type": "code",
   "execution_count": 6,
   "metadata": {},
   "outputs": [],
   "source": [
    "def get_inertial_prop(mol, cids):\n",
    "    \"\"\"Get inertial 3D descriptors for all conformers in mol.\n",
    "    \n",
    "    \"\"\"\n",
    "    # ratio 1 is I1/I3\n",
    "    # ratio 2 is I2/I3\n",
    "    sml_PMI, mid_PMI, lge_PMI = [], [], []\n",
    "    ratio_1_, ratio_2_ = [], []\n",
    "    for cid in cids:\n",
    "        sml_PMI.append(PMI1(mol, confId=cid))\n",
    "        mid_PMI.append(PMI2(mol, confId=cid))\n",
    "        lge_PMI.append(PMI3(mol, confId=cid))\n",
    "        ratio_1_.append(NPR1(mol, confId=cid))\n",
    "        ratio_2_.append(NPR2(mol, confId=cid))\n",
    "    \n",
    "    return sml_PMI, mid_PMI, lge_PMI, ratio_1_, ratio_2_"
   ]
  },
  {
   "cell_type": "code",
   "execution_count": 7,
   "metadata": {},
   "outputs": [],
   "source": [
    "def produce_quick_fig_mol(molecules, filename):\n",
    "    \"\"\"Produce a quick/dirty figure showing all the 2D coordinates of molecules in the data set.\n",
    "    \n",
    "    \"\"\"\n",
    "    mols = [Chem.MolFromSmiles(x) for x in molecules.values()]\n",
    "    for m in mols: tmp = Chem.Compute2DCoords(m)\n",
    "    # Draw.MolToFile(mols[0], output_dir+'mol1.png')\n",
    "    img=Draw.MolsToGridImage(mols,molsPerRow=10,subImgSize=(200,200),legends=[x for x in molecules.keys()])\n",
    "    img.save(filename)"
   ]
  },
  {
   "cell_type": "code",
   "execution_count": 8,
   "metadata": {},
   "outputs": [],
   "source": [
    "def get_COMs(mol):\n",
    "    \"\"\"Get COM of all conformers of mol.\n",
    "    \n",
    "    Code from: https://iwatobipen.wordpress.com/2016/08/16/scoring-3d-diversity-using-rdkit-rdkit/\n",
    "    \n",
    "    \"\"\"\n",
    "    coms = []\n",
    "    numatoms = mol.GetNumAtoms()\n",
    "    for confId in range(len(cids)):\n",
    "        # print('conf:', confId)\n",
    "        # print('number of atoms:', numatoms)\n",
    "        conf = mol.GetConformer(confId)    \n",
    "        coords =  np.array([list(conf.GetAtomPosition(atmidx)) for atmidx in range(numatoms)])\n",
    "        # print('coords:')\n",
    "        # print(coords)\n",
    "        atoms = [atom for atom in mol.GetAtoms()]\n",
    "        mass = Descriptors.MolWt(mol)\n",
    "        # print('mass:', mass)\n",
    "        centre_of_mass = np.array(np.sum(atoms[i].GetMass() * coords[i] for i in range(numatoms))) / mass\n",
    "        # print(centre_of_mass)   \n",
    "        coms.append(centre_of_mass)\n",
    "    \n",
    "    return coms"
   ]
  },
  {
   "cell_type": "code",
   "execution_count": 9,
   "metadata": {},
   "outputs": [],
   "source": [
    "def show_all_conformers(viewer, mol, cids):\n",
    "    \"\"\"Show all conformers in a pymol viewer.\n",
    "    \n",
    "    Code from: http://nbviewer.jupyter.org/gist/greglandrum/4316435\n",
    "    \n",
    "    \"\"\"\n",
    "    viewer.DeleteAll()\n",
    "    for cid in cids: \n",
    "        viewer.ShowMol(mol, confId=cid, name='Conf-%d'%cid, showOnly=False)"
   ]
  },
  {
   "cell_type": "code",
   "execution_count": 10,
   "metadata": {},
   "outputs": [],
   "source": [
    "def show_shape(viewer, mol, cid, shape):\n",
    "    \"\"\"Show the encoded shape for a conformer (cid) of a molecule in viewer.\n",
    "    \n",
    "    \"\"\"\n",
    "    viewer.server.deleteAll()\n",
    "    # write shape to file\n",
    "    tmpFile = tempfile.mktemp('.grd') \n",
    "    Geometry.WriteGridToFile(shape, tmpFile)\n",
    "    viewer.ShowMol(mol, name='testMol', showOnly=True, confId=cid)\n",
    "    viewer.server.loadSurface(tmpFile, 'testGrid', '', 2.5)"
   ]
  },
  {
   "cell_type": "code",
   "execution_count": 11,
   "metadata": {},
   "outputs": [],
   "source": [
    "def get_molec_shape(conf, confId, vdwScale=1.0, boxMargin=2.0, spacing=0.2):\n",
    "    \"\"\"Get the shape of a conformer of a molecule as a grid representation.\n",
    "    \n",
    "    \"\"\"\n",
    "    box = Chem.ComputeConfBox(conf)\n",
    "    sideLen = (box[1].x-box[0].x + 2*boxMargin,\n",
    "               box[1].y-box[0].y + 2*boxMargin,\n",
    "               box[1].z-box[0].z + 2*boxMargin)\n",
    "    shape = rdGeometry.UniformGrid3D(2*sideLen[0],\n",
    "                                     2*sideLen[1],\n",
    "                                     2*sideLen[2],\n",
    "                                     spacing=spacing)\n",
    "    Chem.EncodeShape(mol, shape, confId, ignoreHs=False, vdwScale=vdwScale)\n",
    "    return sideLen, shape"
   ]
  },
  {
   "cell_type": "code",
   "execution_count": 12,
   "metadata": {},
   "outputs": [],
   "source": [
    "def def_point(x, y, z):\n",
    "    \"\"\"Define a 3D point in RDKIT\n",
    "    \n",
    "    \"\"\"\n",
    "    point = rdGeometry.Point3D()\n",
    "    point.x = x\n",
    "    point.y = y\n",
    "    point.z = z\n",
    "    \n",
    "    return point"
   ]
  },
  {
   "cell_type": "code",
   "execution_count": 13,
   "metadata": {},
   "outputs": [],
   "source": [
    "def define_vector(axis, max_side_len):\n",
    "    \"\"\"Define vector to test shape values for.\n",
    "    \n",
    "    \"\"\"\n",
    "    vector_mag = np.arange(-max_side_len/2, max_side_len/2 + 0.1, 0.01)\n",
    "    vectors = [i * axis for i in vector_mag]\n",
    "    \n",
    "    return vectors"
   ]
  },
  {
   "cell_type": "code",
   "execution_count": 14,
   "metadata": {},
   "outputs": [],
   "source": [
    "def get_boundary_idx(values):\n",
    "    \"\"\"Get index of shape grid boundaries along axis.\n",
    "    \n",
    "    \"\"\"\n",
    "    for i in np.arange(len(values)):\n",
    "        # get the index of the first non zero value\n",
    "        if values[i] > 2:\n",
    "            ind_1 = i\n",
    "            break\n",
    "    for i in np.arange(len(values)-1, -1, -1):\n",
    "        # get the index of the last non zero value\n",
    "        if values[i] > 2:\n",
    "            ind_2 = i\n",
    "            break\n",
    "    return ind_1, ind_2"
   ]
  },
  {
   "cell_type": "code",
   "execution_count": 15,
   "metadata": {},
   "outputs": [],
   "source": [
    "def get_dist_and_values(vectors, com_pt, shape):\n",
    "    \"\"\"\n",
    "    \n",
    "    \"\"\"\n",
    "    values = []\n",
    "    distances = []\n",
    "    for p in vectors:\n",
    "        pt = def_point(*p)\n",
    "        distances.append(pt.Distance(com_pt))\n",
    "        values.append(shape.GetValPoint(pt))\n",
    "\n",
    "    return values, distances"
   ]
  },
  {
   "cell_type": "code",
   "execution_count": 16,
   "metadata": {},
   "outputs": [],
   "source": [
    "def get_vdw_diameters(mol, cids, mol_coms, vdwScale=1.0, boxMargin=2.0,\n",
    "                      spacing=0.2, show=False):\n",
    "    \"\"\"Get the extent of the VDW size of each conformer along its principle axes.\n",
    "    \n",
    "    \n",
    "    \"\"\"\n",
    "    # over conformers\n",
    "    conf_diameters = []\n",
    "    conf_axes = []\n",
    "    conf_moments = []\n",
    "    for confId in cids:\n",
    "        conf = mol.GetConformer(confId)\n",
    "        # try:\n",
    "        #     Chem.CanonicalizeConformer(conf)\n",
    "        # except RuntimeError:\n",
    "        #     pass\n",
    "        sideLen, shape = get_molec_shape(conf, confId, vdwScale=vdwScale, \n",
    "                                         boxMargin=boxMargin,\n",
    "                                         spacing=spacing)\n",
    "        if show is True:\n",
    "            show_shape(v, mol, confId, shape)\n",
    "\n",
    "        # get extent of shape along principle axes\n",
    "        axes, moments = Chem.ComputePrincipalAxesAndMoments(conf, ignoreHs=False)\n",
    "        conf_axes.append(axes)\n",
    "        conf_moments.append(moments)\n",
    "        sml_PMI, mid_PMI, lge_PMI = moments\n",
    "        COM = mol_coms[confId]\n",
    "        com_pt = def_point(*COM)\n",
    "        # define vector from COM along each principal axis\n",
    "        max_side_len = max([i*2 for i in sideLen])\n",
    "        diameters = []\n",
    "        for AX in [0, 1, 2]:\n",
    "            axis = axes[AX, :]\n",
    "            vector = define_vector(axis, max_side_len)\n",
    "            values, distances = get_dist_and_values(vector, com_pt, shape)\n",
    "            ind_1, ind_2 = get_boundary_idx(values)\n",
    "            diameter = distances[ind_1] + distances[ind_2]\n",
    "            diameters.append(diameter)\n",
    "        conf_diameters.append(diameters)\n",
    "\n",
    "        # # get ellipsoid\n",
    "        # # equations from:\n",
    "        # # Elliptic fit of objects in two and three dimensions\n",
    "        # # by moment of inertia optimization \n",
    "        # A_radius = np.sqrt((5/2) * (mid_PMI + lge_PMI - sml_PMI))\n",
    "        # B_radius = np.sqrt((5/2) * (sml_PMI + lge_PMI - mid_PMI))\n",
    "        # C_radius = np.sqrt((5/2) * (sml_PMI + mid_PMI - lge_PMI))\n",
    "        # print(sml_PMI, mid_PMI, lge_PMI)\n",
    "        # print(2*A_radius, 2*B_radius, 2*C_radius)\n",
    "        \n",
    "    return conf_diameters, conf_axes, conf_moments"
   ]
  },
  {
   "cell_type": "code",
   "execution_count": 17,
   "metadata": {},
   "outputs": [],
   "source": [
    "def define_plot_variables(ax, title, ytitle, xtitle, xlim, ylim):\n",
    "    \"\"\"\n",
    "    Series of matplotlib pyplot settings to make all plots unitform.\n",
    "    \"\"\"\n",
    "    # Set number of ticks for x-axis\n",
    "    ax.tick_params(axis='both', which='major', labelsize=16)\n",
    "\n",
    "    ax.set_ylabel(ytitle, fontsize=16)\n",
    "    # ax.legend([y, n], ['aligned', 'not aligned'], loc=4, fancybox=True)\n",
    "    ax.set_xlim(xlim)\n",
    "    ax.set_ylim(ylim)\n",
    "    ax.set_xticklabels(['diffuses', 'does not diffuse'])\n",
    "    ax.set_xticks([0.25, 0.75])\n",
    "\n",
    "\n",
    "def define_parity_plot_variables(ax, title, ytitle, xtitle, xlim, ylim):\n",
    "    \"\"\"\n",
    "    Series of matplotlib pyplot settings to make all plots unitform.\n",
    "    \"\"\"\n",
    "    # Set number of ticks for x-axis\n",
    "    ax.tick_params(axis='both', which='major', labelsize=16)\n",
    "\n",
    "    ax.set_xlabel(xtitle, fontsize=16)\n",
    "    ax.set_ylabel(ytitle, fontsize=16)\n",
    "    # ax.legend([y, n], ['aligned', 'not aligned'], loc=4, fancybox=True)\n",
    "    ax.set_xlim(xlim)\n",
    "    ax.set_ylim(ylim)\n"
   ]
  },
  {
   "cell_type": "code",
   "execution_count": null,
   "metadata": {},
   "outputs": [],
   "source": []
  },
  {
   "cell_type": "code",
   "execution_count": 18,
   "metadata": {},
   "outputs": [],
   "source": [
    "df, molecules, diameters = read_mol_txt_file(molecule_file)\n",
    "produce_quick_fig_mol(molecules, output_dir+'test_molecules.pdf')"
   ]
  },
  {
   "cell_type": "markdown",
   "metadata": {},
   "source": [
    "## Calculate size and shape"
   ]
  },
  {
   "cell_type": "code",
   "execution_count": 19,
   "metadata": {},
   "outputs": [],
   "source": [
    "try:\n",
    "    v = PyMol.MolViewer()\n",
    "except ConnectionRefusedError:\n",
    "    pass"
   ]
  },
  {
   "cell_type": "code",
   "execution_count": 20,
   "metadata": {},
   "outputs": [
    {
     "data": {
      "text/plain": [
       "{'1,2,4-trimethylbenzene': 'CC1=CC(=C(C=C1)C)C',\n",
       " '1-butanol': 'CCCCO',\n",
       " '1-butene': 'CCC=C',\n",
       " '2,3-dimethylbutane': 'CC(C)C(C)C',\n",
       " '3-methylpentane': 'CCC(C)CC',\n",
       " 'benzene': 'c1ccccc1',\n",
       " 'carbon dioxide': 'C(=O)=O',\n",
       " 'ethane': 'CC',\n",
       " 'ethanol': 'CCO',\n",
       " 'ethene': 'C=C',\n",
       " 'ethyl-benzene': 'CCc1ccccc1',\n",
       " 'i-butane': 'CC(C)C',\n",
       " 'i-butene': 'CC(=C)C',\n",
       " 'mesitylene': 'CC1=CC(=CC(=C1)C)C',\n",
       " 'meta-xylene': 'Cc1cccc(C)c1',\n",
       " 'methane': 'C',\n",
       " 'n-butane': 'CCCC',\n",
       " 'n-hexane': 'CCCCCC',\n",
       " 'n-propane': 'CCC',\n",
       " 'nitrogen': 'N#N',\n",
       " 'ortho-xylene': 'Cc1ccccc1C',\n",
       " 'oxygen': 'O=O',\n",
       " 'para-xylene': 'Cc1ccc(C)cc1',\n",
       " 'propene': 'CC=C',\n",
       " 'water': 'O'}"
      ]
     },
     "execution_count": 20,
     "metadata": {},
     "output_type": "execute_result"
    }
   ],
   "source": [
    "molecules"
   ]
  },
  {
   "cell_type": "code",
   "execution_count": 30,
   "metadata": {},
   "outputs": [
    {
     "name": "stdout",
     "output_type": "stream",
     "text": [
      "molecule: carbon dioxide : SMILES: C(=O)=O\n",
      "No. of conformers: 100\n",
      "minimum diameter = 3.806 angstrom\n",
      "intermediate diameter = 3.919 angstrom\n",
      "molecule: oxygen : SMILES: O=O\n",
      "No. of conformers: 100\n",
      "minimum diameter = 3.39 angstrom\n",
      "intermediate diameter = 3.39 angstrom\n",
      "molecule: nitrogen : SMILES: N#N\n",
      "No. of conformers: 100\n",
      "minimum diameter = 3.39 angstrom\n",
      "intermediate diameter = 3.39 angstrom\n",
      "molecule: water : SMILES: O\n",
      "No. of conformers: 100\n",
      "minimum diameter = 3.39 angstrom\n",
      "intermediate diameter = 3.456 angstrom\n",
      "molecule: methane : SMILES: C\n",
      "No. of conformers: 100\n",
      "minimum diameter = 3.884 angstrom\n",
      "intermediate diameter = 4.002 angstrom\n",
      "molecule: ethene : SMILES: C=C\n",
      "No. of conformers: 100\n",
      "minimum diameter = 3.725 angstrom\n",
      "intermediate diameter = 3.933 angstrom\n",
      "molecule: ethane : SMILES: CC\n",
      "No. of conformers: 100\n",
      "minimum diameter = 3.628 angstrom\n",
      "intermediate diameter = 3.764 angstrom\n",
      "molecule: ethanol : SMILES: CCO\n",
      "No. of conformers: 100\n",
      "minimum diameter = 3.963 angstrom\n",
      "intermediate diameter = 4.482 angstrom\n",
      "--- lit says it diffuses, calc says it doesn't diffuse! ---\n",
      "molecule: propene : SMILES: CC=C\n",
      "No. of conformers: 100\n",
      "minimum diameter = 3.897 angstrom\n",
      "intermediate diameter = 4.65 angstrom\n",
      "--- lit says it diffuses, calc says it doesn't diffuse! ---\n",
      "molecule: n-propane : SMILES: CCC\n",
      "No. of conformers: 100\n",
      "minimum diameter = 3.961 angstrom\n",
      "intermediate diameter = 4.561 angstrom\n",
      "--- lit says it diffuses, calc says it doesn't diffuse! ---\n",
      "molecule: 1-butene : SMILES: CCC=C\n",
      "No. of conformers: 100\n",
      "minimum diameter = 4.186 angstrom\n",
      "intermediate diameter = 4.842 angstrom\n",
      "molecule: n-butane : SMILES: CCCC\n",
      "No. of conformers: 100\n",
      "minimum diameter = 4.247 angstrom\n",
      "intermediate diameter = 4.916 angstrom\n",
      "molecule: i-butene : SMILES: CC(=C)C\n",
      "No. of conformers: 100\n",
      "minimum diameter = 4.139 angstrom\n",
      "intermediate diameter = 5.639 angstrom\n",
      "molecule: i-butane : SMILES: CC(C)C\n",
      "No. of conformers: 100\n",
      "minimum diameter = 4.49 angstrom\n",
      "intermediate diameter = 5.669 angstrom\n",
      "molecule: 1-butanol : SMILES: CCCCO\n",
      "No. of conformers: 100\n",
      "minimum diameter = 4.337 angstrom\n",
      "intermediate diameter = 5.017 angstrom\n",
      "molecule: 2,3-dimethylbutane : SMILES: CC(C)C(C)C\n",
      "No. of conformers: 100\n",
      "minimum diameter = 4.94 angstrom\n",
      "intermediate diameter = 5.692 angstrom\n",
      "molecule: 3-methylpentane : SMILES: CCC(C)CC\n",
      "No. of conformers: 100\n",
      "minimum diameter = 4.679 angstrom\n",
      "intermediate diameter = 6.248 angstrom\n",
      "molecule: n-hexane : SMILES: CCCCCC\n",
      "No. of conformers: 100\n",
      "minimum diameter = 4.195 angstrom\n",
      "intermediate diameter = 4.945 angstrom\n",
      "molecule: benzene : SMILES: c1ccccc1\n",
      "No. of conformers: 100\n",
      "minimum diameter = 2.865 angstrom\n",
      "intermediate diameter = 6.356 angstrom\n",
      "molecule: ethyl-benzene : SMILES: CCc1ccccc1\n",
      "No. of conformers: 100\n",
      "minimum diameter = 4.095 angstrom\n",
      "intermediate diameter = 6.179 angstrom\n",
      "molecule: para-xylene : SMILES: Cc1ccc(C)cc1\n",
      "No. of conformers: 100\n",
      "minimum diameter = 3.491 angstrom\n",
      "intermediate diameter = 5.942 angstrom\n",
      "molecule: meta-xylene : SMILES: Cc1cccc(C)c1\n",
      "No. of conformers: 100\n",
      "minimum diameter = 3.63 angstrom\n",
      "intermediate diameter = 6.96 angstrom\n",
      "molecule: ortho-xylene : SMILES: Cc1ccccc1C\n",
      "No. of conformers: 100\n",
      "minimum diameter = 3.811 angstrom\n",
      "intermediate diameter = 6.601 angstrom\n",
      "molecule: mesitylene : SMILES: CC1=CC(=CC(=C1)C)C\n",
      "No. of conformers: 100\n",
      "minimum diameter = 3.149 angstrom\n",
      "intermediate diameter = 7.823 angstrom\n",
      "molecule: 1,2,4-trimethylbenzene : SMILES: CC1=CC(=C(C=C1)C)C\n",
      "No. of conformers: 100\n",
      "minimum diameter = 3.828 angstrom\n",
      "intermediate diameter = 6.532 angstrom\n"
     ]
    },
    {
     "data": {
      "image/png": "[encoded data removed]",
      "text/plain": [
       "<Figure size 360x360 with 1 Axes>"
      ]
     },
     "metadata": {},
     "output_type": "display_data"
    },
    {
     "data": {
      "image/png": "[encoded data removed]",
      "text/plain": [
       "<Figure size 360x360 with 1 Axes>"
      ]
     },
     "metadata": {},
     "output_type": "display_data"
    },
    {
     "data": {
      "image/png": "[encoded data removed]",
      "text/plain": [
       "<Figure size 360x360 with 1 Axes>"
      ]
     },
     "metadata": {},
     "output_type": "display_data"
    }
   ],
   "source": [
    "fig1, ax1 = plt.subplots(figsize=(5,5))\n",
    "fig2, ax2 = plt.subplots(figsize=(5,5))\n",
    "fig3, ax3 = plt.subplots(figsize=(5,5))\n",
    "# spacing in X direction\n",
    "dx = 0.15\n",
    "# threshold for diffusion through ZIF-8\n",
    "# from Exploring the Framework Hydrophobicity and Flexibility \n",
    "# of ZIF-8: From Biofuel Recovery to Hydrocarbon Separations\n",
    "threshold = 4.2\n",
    "\n",
    "min_diam_sums = []\n",
    "mid_diam_sums = []\n",
    "avg_diam_sums = []\n",
    "for T in np.arange(1):\n",
    "    for name, smile in molecules.items():\n",
    "#         if name != 'benzene':\n",
    "#             continue\n",
    "        print('molecule:', name,':', 'SMILES:', smile)\n",
    "        try:\n",
    "            kin_diam = float(diameters[name])\n",
    "        except ValueError:\n",
    "            print('no radius given for this molecule - skipped')\n",
    "            continue\n",
    "\n",
    "        # Read SMILES and add Hs\n",
    "        mol = Chem.AddHs(Chem.MolFromSmiles(smile))\n",
    "        # 2D to 3D\n",
    "        # with multiple conformers\n",
    "        cids = Chem.EmbedMultipleConfs(mol, 100) #, Chem.ETKDG())\n",
    "        print('No. of conformers:', len(cids))\n",
    "        # quick UFF optimize\n",
    "        for cid in cids: Chem.UFFOptimizeMolecule(mol, confId=cid)\n",
    "        # align all conformers\n",
    "        # Chem.AlignMolConformers(mol, [0])\n",
    "        # show_all_conformers(v, mol, cids)\n",
    "        mol_coms = get_COMs(mol)\n",
    "        # get principal moments of intertia\n",
    "        _, _, _, ratio_1_, ratio_2_ = get_inertial_prop(mol, cids)\n",
    "        # print(np.average(ratio_1_), np.average(ratio_2_))\n",
    "        conf_diameters, conf_axes, conf_moments = get_vdw_diameters(mol, cids, \n",
    "                                                                    mol_coms, \n",
    "                                                                    vdwScale=1.0, \n",
    "                                                                    boxMargin=4.0, \n",
    "                                                                    spacing=0.2,\n",
    "                                                                    show=False)\n",
    "        diams = [sorted(i) for i in conf_diameters]\n",
    "        min_diam = np.average([i[0] for i in diams])  # use the minimum min diam\n",
    "        mid_diam = np.average([i[1] for i in diams])  # use the minimum intermediate diam\n",
    "        print('minimum diameter =', round(min_diam, 3), 'angstrom')\n",
    "        print('intermediate diameter =', round(mid_diam, 3), 'angstrom')\n",
    "        min_diam_sums.append(min_diam)\n",
    "        mid_diam_sums.append(mid_diam) \n",
    "        avg_diam_sums.append(np.average([min_diam, mid_diam]))\n",
    "        # for categorical plot - use the experimental results\n",
    "        # get the diffusion binary result\n",
    "        diffuses = df[df['molecule'] == name]['diffuse'].iloc[0]\n",
    "        if diffuses == 't':\n",
    "            if mid_diam <= threshold:\n",
    "                C = 'b'\n",
    "                M = 'o'\n",
    "                E = 'k'\n",
    "                D = 0.25\n",
    "            else:\n",
    "                C = 'b'\n",
    "                M = 'x'\n",
    "                E = 'k'\n",
    "                D = 0.25\n",
    "                print(\"--- lit says it diffuses, calc says it doesn't diffuse! ---\")\n",
    "        else:\n",
    "            if mid_diam <= threshold:\n",
    "                C = 'r'\n",
    "                M = 'o'\n",
    "                E = 'k'\n",
    "                D = 0.75\n",
    "                print(\"--- calc says it diffuses, lit says it doesn't diffuse! ---\")\n",
    "            else:\n",
    "                C = 'r'\n",
    "                M = 'x'\n",
    "                E = 'k'\n",
    "                D = 0.75\n",
    "                # print(\"--- calc and lit say it doesnt diffuse! ---\")\n",
    "        ax1.scatter(D+(dx*(np.random.random() - 0.5) * 2),\n",
    "                    mid_diam, c=C, \n",
    "                    edgecolors=E, marker=M, alpha=1.0,\n",
    "                    s=80)\n",
    "        ax2.scatter(kin_diam, mid_diam, c=C, \n",
    "                    edgecolors=E, marker=M, alpha=1.0,\n",
    "                    s=80)\n",
    "        ax3.scatter(np.average(ratio_1_), np.average(ratio_2_),\n",
    "                    c=C, \n",
    "                    edgecolors=E, marker=M, alpha=1.0,\n",
    "                    s=80)\n",
    "    \n",
    "ax1.axhline(y=threshold, c='k')\n",
    "define_plot_variables(ax1,\n",
    "                      title='',\n",
    "                      xtitle='',\n",
    "                      ytitle='intermediate diameter [$\\mathrm{\\AA}$]',\n",
    "                      xlim=(0, 1),\n",
    "                      ylim=(0, 10))\n",
    "fig1.savefig(\"categorical.pdf\", dpi=720,\n",
    "            bbox_inches='tight')\n",
    "fig1.tight_layout()\n",
    "\n",
    "ax2.plot(np.linspace(-1, 12, 2), np.linspace(-1, 12, 2), c='k', alpha=0.4)\n",
    "ax2.axvspan(4.0, 4.2, facecolor='r', alpha=0.5)  # plot the limit from the two Sholl papers on diffusion\n",
    "\n",
    "\n",
    "define_parity_plot_variables(ax2,\n",
    "                             title='',\n",
    "                             xtitle='kinetic diameter [$\\mathrm{\\AA}$]',\n",
    "                             ytitle='intermediate diameter [$\\mathrm{\\AA}$]',\n",
    "                             xlim=(0, 10),\n",
    "                             ylim=(0, 10))\n",
    "\n",
    "fig2.savefig(\"parity.pdf\", dpi=720,\n",
    "            bbox_inches='tight')\n",
    "fig2.tight_layout()\n",
    "\n",
    "ax3.plot([0, 0.5, 1, 0], [1, 0.5, 1, 1], c='k', lw=2)\n",
    "ax3.text(0.75, 1.01, 'sphere', fontsize=20)\n",
    "ax3.text(0.4, 0.45, 'disk', fontsize=20)\n",
    "ax3.text(-0.05, 1.01, 'rod', fontsize=20)\n",
    "define_parity_plot_variables(ax3,\n",
    "                             title='',\n",
    "                             xtitle='$I_1$ / $I_3$',\n",
    "                             ytitle='$I_2$ / $I_3$',\n",
    "                             xlim=(-0.1, 1.1),\n",
    "                             ylim=(0.4, 1.1))\n",
    "fig3.savefig(\"shape.pdf\", dpi=720,\n",
    "            bbox_inches='tight')\n",
    "fig3.tight_layout()"
   ]
  },
  {
   "cell_type": "code",
   "execution_count": 56,
   "metadata": {},
   "outputs": [
    {
     "data": {
      "text/plain": [
       "(0, 10)"
      ]
     },
     "execution_count": 56,
     "metadata": {},
     "output_type": "execute_result"
    },
    {
     "data": {
      "image/png": "[encoded data removed]",
      "text/plain": [
       "<Figure size 432x288 with 1 Axes>"
      ]
     },
     "metadata": {},
     "output_type": "display_data"
    }
   ],
   "source": [
    "plt.hist(min_diam_sums, facecolor='k', alpha=0.4)\n",
    "plt.hist(mid_diam_sums, facecolor='r', alpha=0.4)\n",
    "plt.hist(avg_diam_sums, facecolor='b', alpha=0.4)\n",
    "plt.xlim(0, 10)"
   ]
  },
  {
   "cell_type": "code",
   "execution_count": null,
   "metadata": {},
   "outputs": [],
   "source": []
  },
  {
   "cell_type": "code",
   "execution_count": null,
   "metadata": {},
   "outputs": [],
   "source": []
  },
  {
   "cell_type": "code",
   "execution_count": null,
   "metadata": {},
   "outputs": [],
   "source": []
  },
  {
   "cell_type": "code",
   "execution_count": null,
   "metadata": {},
   "outputs": [],
   "source": []
  }
 ],
 "metadata": {
  "kernelspec": {
   "display_name": "Python 3",
   "language": "python",
   "name": "python3"
  },
  "language_info": {
   "codemirror_mode": {
    "name": "ipython",
    "version": 3
   },
   "file_extension": ".py",
   "mimetype": "text/x-python",
   "name": "python",
   "nbconvert_exporter": "python",
   "pygments_lexer": "ipython3",
   "version": "3.6.5"
  }
 },
 "nbformat": 4,
 "nbformat_minor": 2
}
