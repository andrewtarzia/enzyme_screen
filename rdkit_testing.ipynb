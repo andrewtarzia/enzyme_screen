{
 "cells": [
  {
   "cell_type": "code",
   "execution_count": 2,
   "metadata": {
    "ExecuteTime": {
     "end_time": "2018-04-24T03:23:06.761154Z",
     "start_time": "2018-04-24T03:23:06.729312Z"
    }
   },
   "outputs": [
    {
     "data": {
      "text/html": [
       "<style>.container { width:95% !important; }</style>"
      ],
      "text/plain": [
       "<IPython.core.display.HTML object>"
      ]
     },
     "metadata": {},
     "output_type": "display_data"
    }
   ],
   "source": [
    "from IPython.core.display import HTML\n",
    "display(HTML(\"<style>.container { width:95% !important; }</style>\"))   "
   ]
  },
  {
   "cell_type": "markdown",
   "metadata": {},
   "source": [
    "Author: Andrew Tarzia\n",
    "\n",
    "Date Created: 12 Jul 2018\n",
    "\n",
    "License:"
   ]
  },
  {
   "cell_type": "markdown",
   "metadata": {},
   "source": [
    "# Notebook for getting molecule parameters using RDKIT\n"
   ]
  },
  {
   "cell_type": "code",
   "execution_count": 3,
   "metadata": {
    "ExecuteTime": {
     "end_time": "2018-04-24T03:23:07.958684Z",
     "start_time": "2018-04-24T03:23:07.399243Z"
    }
   },
   "outputs": [],
   "source": [
    "import numpy as np\n",
    "from rdkit.Chem import AllChem as Chem\n",
    "from rdkit.Chem import Descriptors\n",
    "from rdkit.Chem.Descriptors3D import NPR1, NPR2, PMI1, PMI2, PMI3\n",
    "from rdkit.Chem.Draw.MolDrawing import MolDrawing\n",
    "from rdkit.Chem.Draw import IPythonConsole\n",
    "from rdkit.Chem import Draw\n",
    "from rdkit.Geometry import rdGeometry\n",
    "from rdkit.Chem import PyMol\n",
    "from rdkit import Geometry\n",
    "import tempfile\n",
    "import matplotlib.pyplot as plt"
   ]
  },
  {
   "cell_type": "markdown",
   "metadata": {},
   "source": [
    "# Notes:\n",
    "# Todo:\n",
    "- timing\n",
    " - speed up reading: https://rdkit.blogspot.com/2016/09/avoiding-unnecessary-work-and.html"
   ]
  },
  {
   "cell_type": "code",
   "execution_count": 4,
   "metadata": {},
   "outputs": [],
   "source": [
    "# molecule file dir\n",
    "molecule_file = '/home/atarzia/psp/molecules/test_molecules.txt'\n",
    "# output dir\n",
    "output_dir = '/home/atarzia/psp/molecules/'"
   ]
  },
  {
   "cell_type": "code",
   "execution_count": 5,
   "metadata": {},
   "outputs": [],
   "source": [
    "def read_mol_txt_file(filename):\n",
    "    \"\"\"Function to read molecule SMILES from txt file.\n",
    "    \n",
    "    \"\"\"\n",
    "    with open(filename, 'r') as f:\n",
    "        lines = f.readlines()\n",
    "    molecules = {}\n",
    "    radii = {}\n",
    "    for line in lines:\n",
    "        try:\n",
    "            name, smile, radius = line.rstrip().split(':')\n",
    "        except ValueError:\n",
    "            print(line, 'had : in there twice, fix this naming or SMILE')\n",
    "            print('skipped')\n",
    "        molecules[name] = smile\n",
    "        radii[name] = radius\n",
    "    return molecules, radii"
   ]
  },
  {
   "cell_type": "code",
   "execution_count": 6,
   "metadata": {},
   "outputs": [],
   "source": [
    "def get_inertial_prop(mol, cids):\n",
    "    \"\"\"Get inertial 3D descriptors for all conformers in mol.\n",
    "    \n",
    "    \"\"\"\n",
    "    # ratio 1 is I1/I3\n",
    "    # ratio 2 is I2/I3\n",
    "    sml_PMI, mid_PMI, lge_PMI = [], [], []\n",
    "    ratio_1_, ratio_2_ = [], []\n",
    "    for cid in cids:\n",
    "        sml_PMI.append(PMI1(mol, confId=cid))\n",
    "        mid_PMI.append(PMI2(mol, confId=cid))\n",
    "        lge_PMI.append(PMI3(mol, confId=cid))\n",
    "        ratio_1_.append(NPR1(mol, confId=cid))\n",
    "        ratio_2_.append(NPR2(mol, confId=cid))\n",
    "    \n",
    "    return sml_PMI, mid_PMI, lge_PMI, ratio_1_, ratio_2_"
   ]
  },
  {
   "cell_type": "code",
   "execution_count": 7,
   "metadata": {},
   "outputs": [],
   "source": [
    "def produce_quick_fig_mol(molecules, filename):\n",
    "    \"\"\"Produce a quick/dirty figure showing all the 2D coordinates of molecules in the data set.\n",
    "    \n",
    "    \"\"\"\n",
    "    mols = [Chem.MolFromSmiles(x) for x in molecules.values()]\n",
    "    for m in mols: tmp = Chem.Compute2DCoords(m)\n",
    "    # Draw.MolToFile(mols[0], output_dir+'mol1.png')\n",
    "    img=Draw.MolsToGridImage(mols,molsPerRow=10,subImgSize=(200,200),legends=[x for x in molecules.keys()])\n",
    "    img.save(filename)"
   ]
  },
  {
   "cell_type": "code",
   "execution_count": 8,
   "metadata": {},
   "outputs": [],
   "source": [
    "def get_COMs(mol):\n",
    "    \"\"\"Get COM of all conformers of mol.\n",
    "    \n",
    "    Code from: https://iwatobipen.wordpress.com/2016/08/16/scoring-3d-diversity-using-rdkit-rdkit/\n",
    "    \n",
    "    \"\"\"\n",
    "    coms = []\n",
    "    numatoms = mol.GetNumAtoms()\n",
    "    for confId in range(len(cids)):\n",
    "        # print('conf:', confId)\n",
    "        # print('number of atoms:', numatoms)\n",
    "        conf = mol.GetConformer(confId)    \n",
    "        coords =  np.array([list(conf.GetAtomPosition(atmidx)) for atmidx in range(numatoms)])\n",
    "        # print('coords:')\n",
    "        # print(coords)\n",
    "        atoms = [atom for atom in mol.GetAtoms()]\n",
    "        mass = Descriptors.MolWt(mol)\n",
    "        # print('mass:', mass)\n",
    "        centre_of_mass = np.array(np.sum(atoms[i].GetMass() * coords[i] for i in range(numatoms))) / mass\n",
    "        # print(centre_of_mass)   \n",
    "        coms.append(centre_of_mass)\n",
    "    \n",
    "    return coms"
   ]
  },
  {
   "cell_type": "code",
   "execution_count": 9,
   "metadata": {},
   "outputs": [],
   "source": [
    "def show_all_conformers(viewer, mol, cids):\n",
    "    \"\"\"Show all conformers in a pymol viewer.\n",
    "    \n",
    "    Code from: http://nbviewer.jupyter.org/gist/greglandrum/4316435\n",
    "    \n",
    "    \"\"\"\n",
    "    viewer.DeleteAll()\n",
    "    for cid in cids: \n",
    "        viewer.ShowMol(mol, confId=cid, name='Conf-%d'%cid, showOnly=False)"
   ]
  },
  {
   "cell_type": "code",
   "execution_count": 10,
   "metadata": {},
   "outputs": [],
   "source": [
    "def show_shape(viewer, mol, cid, shape):\n",
    "    \"\"\"Show the encoded shape for a conformer (cid) of a molecule in viewer.\n",
    "    \n",
    "    \"\"\"\n",
    "    viewer.server.deleteAll()\n",
    "    # write shape to file\n",
    "    tmpFile = tempfile.mktemp('.grd') \n",
    "    Geometry.WriteGridToFile(shape, tmpFile)\n",
    "    viewer.ShowMol(mol, name='testMol', showOnly=True, confId=cid)\n",
    "    viewer.server.loadSurface(tmpFile, 'testGrid', '', 2.5)"
   ]
  },
  {
   "cell_type": "code",
   "execution_count": 57,
   "metadata": {},
   "outputs": [],
   "source": [
    "def get_molec_shape(conf, confId, vdwScale=1.0, boxMargin=2.0, spacing=0.2):\n",
    "    \"\"\"Get the shape of a conformer of a molecule as a grid representation.\n",
    "    \n",
    "    \"\"\"\n",
    "    box = Chem.ComputeConfBox(conf)\n",
    "    sideLen = (box[1].x-box[0].x + 2*boxMargin,\n",
    "               box[1].y-box[0].y + 2*boxMargin,\n",
    "               box[1].z-box[0].z + 2*boxMargin)\n",
    "    shape = rdGeometry.UniformGrid3D(2*sideLen[0],\n",
    "                                     2*sideLen[1],\n",
    "                                     2*sideLen[2],\n",
    "                                     spacing=spacing)\n",
    "    Chem.EncodeShape(mol, shape, confId, ignoreHs=False, vdwScale=vdwScale)\n",
    "    return sideLen, shape"
   ]
  },
  {
   "cell_type": "code",
   "execution_count": 44,
   "metadata": {},
   "outputs": [],
   "source": [
    "def def_point(x, y, z):\n",
    "    \"\"\"Define a 3D point in RDKIT\n",
    "    \n",
    "    \"\"\"\n",
    "    point = rdGeometry.Point3D()\n",
    "    point.x = x\n",
    "    point.y = y\n",
    "    point.z = z\n",
    "    \n",
    "    return point"
   ]
  },
  {
   "cell_type": "code",
   "execution_count": 45,
   "metadata": {},
   "outputs": [],
   "source": [
    "def define_vector(axis, max_side_len):\n",
    "    \"\"\"Define vector to test shape values for.\n",
    "    \n",
    "    \"\"\"\n",
    "    vector_mag = np.arange(-max_side_len/2, max_side_len/2 + 0.5, 0.05)\n",
    "    vectors = [i * axis for i in vector_mag]\n",
    "    \n",
    "    return vectors"
   ]
  },
  {
   "cell_type": "code",
   "execution_count": 80,
   "metadata": {},
   "outputs": [],
   "source": [
    "def get_boundary_idx(values):\n",
    "    \"\"\"Get index of shape grid boundaries along axis.\n",
    "    \n",
    "    \"\"\"\n",
    "    for i in np.arange(len(values)):\n",
    "        # get the index of the first non zero value\n",
    "        if values[i] > 2:\n",
    "            ind_1 = i\n",
    "            break\n",
    "    for i in np.arange(len(values)-1, -1, -1):\n",
    "        # get the index of the last non zero value\n",
    "        if values[i] > 2:\n",
    "            ind_2 = i\n",
    "            break\n",
    "    return ind_1, ind_2"
   ]
  },
  {
   "cell_type": "code",
   "execution_count": 81,
   "metadata": {},
   "outputs": [],
   "source": [
    "def get_dist_and_values(vectors, com_pt, shape):\n",
    "    \"\"\"\n",
    "    \n",
    "    \"\"\"\n",
    "    values = []\n",
    "    distances = []\n",
    "    for p in vectors:\n",
    "        pt = def_point(*p)\n",
    "        distances.append(pt.Distance(com_pt))\n",
    "        values.append(shape.GetValPoint(pt))\n",
    "\n",
    "    return values, distances"
   ]
  },
  {
   "cell_type": "code",
   "execution_count": 82,
   "metadata": {},
   "outputs": [],
   "source": [
    "def get_vdw_diameters(mol, cids, mol_coms, vdwScale=1.0, boxMargin=2.0,\n",
    "                      spacing=0.2, show=False):\n",
    "    \"\"\"Get the extent of the VDW size of each conformer along its principle axes.\n",
    "    \n",
    "    \n",
    "    \"\"\"\n",
    "    # over conformers\n",
    "    conf_diameters = []\n",
    "    conf_axes = []\n",
    "    conf_moments = []\n",
    "    for confId in cids:\n",
    "        conf = mol.GetConformer(confId)\n",
    "        # try:\n",
    "        #     Chem.CanonicalizeConformer(conf)\n",
    "        # except RuntimeError:\n",
    "        #     pass\n",
    "        sideLen, shape = get_molec_shape(conf, confId, vdwScale=vdwScale, \n",
    "                                         boxMargin=boxMargin,\n",
    "                                         spacing=spacing)\n",
    "        if show is True:\n",
    "            show_shape(v, mol, confId, shape)\n",
    "\n",
    "        # get extent of shape along principle axes\n",
    "        axes, moments = Chem.ComputePrincipalAxesAndMoments(conf, ignoreHs=False)\n",
    "        conf_axes.append(axes)\n",
    "        conf_moments.append(moments)\n",
    "        sml_PMI, mid_PMI, lge_PMI = moments\n",
    "        COM = mol_coms[confId]\n",
    "        com_pt = def_point(*COM)\n",
    "        # define vector from COM along each principal axis\n",
    "        max_side_len = max([i*2 for i in sideLen])\n",
    "        diameters = []\n",
    "        for AX in [0, 1, 2]:\n",
    "            axis = axes[AX, :]\n",
    "            vector = define_vector(axis, max_side_len)\n",
    "            values, distances = get_dist_and_values(vector, com_pt, shape)\n",
    "            ind_1, ind_2 = get_boundary_idx(values)\n",
    "            diameter = distances[ind_1] + distances[ind_2]\n",
    "            diameters.append(diameter)\n",
    "        conf_diameters.append(diameters)\n",
    "\n",
    "        # # get ellipsoid\n",
    "        # # equations from:\n",
    "        # # Elliptic fit of objects in two and three dimensions\n",
    "        # # by moment of inertia optimization \n",
    "        # A_radius = np.sqrt((5/2) * (mid_PMI + lge_PMI - sml_PMI))\n",
    "        # B_radius = np.sqrt((5/2) * (sml_PMI + lge_PMI - mid_PMI))\n",
    "        # C_radius = np.sqrt((5/2) * (sml_PMI + mid_PMI - lge_PMI))\n",
    "        # print(sml_PMI, mid_PMI, lge_PMI)\n",
    "        # print(2*A_radius, 2*B_radius, 2*C_radius)\n",
    "        \n",
    "    return conf_diameters, conf_axes, conf_moments"
   ]
  },
  {
   "cell_type": "code",
   "execution_count": 83,
   "metadata": {},
   "outputs": [],
   "source": [
    "def define_plot_variables(ax, title, ytitle, xtitle, xlim, ylim):\n",
    "    \"\"\"\n",
    "    Series of matplotlib pyplot settings to make all plots unitform.\n",
    "    \"\"\"\n",
    "    # Set number of ticks for x-axis\n",
    "    ax.tick_params(axis='both', which='major', labelsize=16)\n",
    "\n",
    "    ax.set_ylabel(ytitle, fontsize=16)\n",
    "    # ax.legend([y, n], ['aligned', 'not aligned'], loc=4, fancybox=True)\n",
    "    ax.set_xlim(xlim)\n",
    "    ax.set_ylim(ylim)\n",
    "    ax.set_xticklabels(['fits', 'does not fit'])\n",
    "    ax.set_xticks([0.25, 0.75])\n",
    "\n",
    "\n",
    "def define_parity_plot_variables(ax, title, ytitle, xtitle, xlim, ylim):\n",
    "    \"\"\"\n",
    "    Series of matplotlib pyplot settings to make all plots unitform.\n",
    "    \"\"\"\n",
    "    # Set number of ticks for x-axis\n",
    "    ax.tick_params(axis='both', which='major', labelsize=16)\n",
    "\n",
    "    ax.set_xlabel(xtitle, fontsize=16)\n",
    "    ax.set_ylabel(ytitle, fontsize=16)\n",
    "    # ax.legend([y, n], ['aligned', 'not aligned'], loc=4, fancybox=True)\n",
    "    ax.set_xlim(xlim)\n",
    "    ax.set_ylim(ylim)\n"
   ]
  },
  {
   "cell_type": "code",
   "execution_count": null,
   "metadata": {},
   "outputs": [],
   "source": []
  },
  {
   "cell_type": "code",
   "execution_count": 84,
   "metadata": {},
   "outputs": [],
   "source": [
    "molecules, radii = read_mol_txt_file(molecule_file)\n",
    "produce_quick_fig_mol(molecules, output_dir+'test_molecules.pdf')"
   ]
  },
  {
   "cell_type": "markdown",
   "metadata": {},
   "source": [
    "## Calculate size and shape"
   ]
  },
  {
   "cell_type": "code",
   "execution_count": 85,
   "metadata": {},
   "outputs": [],
   "source": [
    "v = PyMol.MolViewer()"
   ]
  },
  {
   "cell_type": "code",
   "execution_count": 86,
   "metadata": {},
   "outputs": [
    {
     "name": "stdout",
     "output_type": "stream",
     "text": [
      "carbon dioxide : SMILES: C(=O)=O\n",
      "no radius given for this molecule - skipped\n",
      "oxygen : SMILES: O=O\n",
      "No. of conformers: 100\n",
      "minimum diameter = 3.35 angstrom\n",
      "intermediate diameter = 3.35 angstrom\n",
      "nitrogen : SMILES: N#N\n",
      "No. of conformers: 100\n",
      "minimum diameter = 3.35 angstrom\n",
      "intermediate diameter = 3.35 angstrom\n",
      "water : SMILES: O\n",
      "no radius given for this molecule - skipped\n",
      "methane : SMILES: C\n",
      "No. of conformers: 100\n",
      "minimum diameter = 3.65 angstrom\n",
      "intermediate diameter = 4.05 angstrom\n",
      "ethene : SMILES: C=C\n",
      "No. of conformers: 100\n",
      "minimum diameter = 3.45 angstrom\n",
      "intermediate diameter = 3.8 angstrom\n",
      "ethane : SMILES: CC\n",
      "No. of conformers: 100\n",
      "minimum diameter = 3.4 angstrom\n",
      "intermediate diameter = 3.45 angstrom\n",
      "ethanol : SMILES: CCO\n",
      "No. of conformers: 100\n",
      "minimum diameter = 3.519 angstrom\n",
      "intermediate diameter = 3.923 angstrom\n",
      "propene : SMILES: CC=C\n",
      "No. of conformers: 100\n",
      "minimum diameter = 3.56 angstrom\n",
      "intermediate diameter = 4.108 angstrom\n",
      "n-propane : SMILES: CCC\n",
      "No. of conformers: 100\n",
      "minimum diameter = 3.459 angstrom\n",
      "intermediate diameter = 4.364 angstrom\n",
      "1-butene : SMILES: CCC=C\n",
      "No. of conformers: 100\n",
      "minimum diameter = 3.267 angstrom\n",
      "intermediate diameter = 4.56 angstrom\n",
      "n-butane : SMILES: CCCC\n",
      "No. of conformers: 100\n",
      "minimum diameter = 3.45 angstrom\n",
      "intermediate diameter = 4.9 angstrom\n",
      "i-butene : SMILES: CC(=C)C\n",
      "No. of conformers: 100\n",
      "minimum diameter = 3.705 angstrom\n",
      "intermediate diameter = 5.7 angstrom\n",
      "i-butane : SMILES: CC(C)C\n",
      "No. of conformers: 100\n",
      "minimum diameter = 3.95 angstrom\n",
      "intermediate diameter = 6.4 angstrom\n",
      "--- doesn't fit! ---\n",
      "1-butanol : SMILES: CCCCO\n",
      "No. of conformers: 100\n",
      "minimum diameter = 3.639 angstrom\n",
      "intermediate diameter = 4.555 angstrom\n",
      "2,2-dimethylbutane : SMILES: CCC(C)(C)C\n",
      "No. of conformers: 100\n",
      "minimum diameter = 4.5 angstrom\n",
      "intermediate diameter = 5.8 angstrom\n",
      "2,3-dimethylbutane : SMILES: CC(C)C(C)C\n",
      "No. of conformers: 100\n",
      "minimum diameter = 3.55 angstrom\n",
      "intermediate diameter = 5.3 angstrom\n",
      "3-methylpentane : SMILES: CCC(C)CC\n",
      "No. of conformers: 100\n",
      "minimum diameter = 3.8 angstrom\n",
      "intermediate diameter = 6.35 angstrom\n",
      "--- doesn't fit! ---\n",
      "2-methylpentane : SMILES: CCCC(C)C\n",
      "no radius given for this molecule - skipped\n",
      "2,2-dimethylpentane : SMILES: CCCC(C)(C)C\n",
      "No. of conformers: 100\n",
      "minimum diameter = 4.001 angstrom\n",
      "intermediate diameter = 5.6 angstrom\n",
      "n-hexane : SMILES: CCCCCC\n",
      "No. of conformers: 100\n",
      "minimum diameter = 3.305 angstrom\n",
      "intermediate diameter = 4.75 angstrom\n",
      "2,2-dimethylhexane : SMILES: CCCCC(C)(C)C\n",
      "No. of conformers: 100\n",
      "minimum diameter = 3.601 angstrom\n",
      "intermediate diameter = 4.851 angstrom\n",
      "2-methylhexane : SMILES: CCCCC(C)C\n",
      "no radius given for this molecule - skipped\n",
      "n-heptane : SMILES: CCCCCCC\n",
      "No. of conformers: 100\n",
      "minimum diameter = 3.35 angstrom\n",
      "intermediate diameter = 4.85 angstrom\n",
      "2-methylheptane : SMILES: CCCCCC(C)C\n",
      "no radius given for this molecule - skipped\n",
      "n-octane : SMILES: CCCCCCCC\n",
      "No. of conformers: 100\n",
      "minimum diameter = 3.178 angstrom\n",
      "intermediate diameter = 4.752 angstrom\n",
      "1-octene : SMILES: CCCCCCC=C\n",
      "No. of conformers: 100\n",
      "minimum diameter = 3.093 angstrom\n",
      "intermediate diameter = 4.727 angstrom\n",
      "benzene : SMILES: c1ccccc1\n",
      "No. of conformers: 100\n",
      "minimum diameter = 2.75 angstrom\n",
      "intermediate diameter = 6.65 angstrom\n",
      "--- doesn't fit! ---\n",
      "ethyl-benzene : SMILES: CCc1ccccc1\n",
      "No. of conformers: 100\n",
      "minimum diameter = 3.714 angstrom\n",
      "intermediate diameter = 6.585 angstrom\n",
      "--- doesn't fit! ---\n",
      "para-xylene : SMILES: Cc1ccc(C)cc1\n",
      "No. of conformers: 100\n",
      "minimum diameter = 2.6 angstrom\n",
      "intermediate diameter = 5.95 angstrom\n",
      "--- doesn't fit! ---\n",
      "meta-xylene : SMILES: Cc1cccc(C)c1\n",
      "No. of conformers: 100\n",
      "minimum diameter = 3.366 angstrom\n",
      "intermediate diameter = 6.401 angstrom\n",
      "--- doesn't fit! ---\n",
      "ortho-xylene : SMILES: Cc1ccccc1C\n",
      "No. of conformers: 100\n",
      "minimum diameter = 3.449 angstrom\n",
      "intermediate diameter = 6.227 angstrom\n",
      "--- doesn't fit! ---\n",
      "mesitylene : SMILES: CC1=CC(=CC(=C1)C)C\n",
      "No. of conformers: 100\n",
      "minimum diameter = 2.6 angstrom\n",
      "intermediate diameter = 7.85 angstrom\n",
      "--- doesn't fit! ---\n",
      "1,2,4-trimethylbenzene : SMILES: CC1=CC(=C(C=C1)C)C\n",
      "No. of conformers: 100\n",
      "minimum diameter = 3.261 angstrom\n",
      "intermediate diameter = 7.102 angstrom\n",
      "--- doesn't fit! ---\n"
     ]
    },
    {
     "data": {
      "image/png": "[encoded data removed]",
      "text/plain": [
       "<Figure size 360x360 with 1 Axes>"
      ]
     },
     "metadata": {},
     "output_type": "display_data"
    },
    {
     "data": {
      "image/png": "[encoded data removed]",
      "text/plain": [
       "<Figure size 360x360 with 1 Axes>"
      ]
     },
     "metadata": {},
     "output_type": "display_data"
    },
    {
     "data": {
      "image/png": "[encoded data removed]",
      "text/plain": [
       "<Figure size 360x360 with 1 Axes>"
      ]
     },
     "metadata": {},
     "output_type": "display_data"
    }
   ],
   "source": [
    "fig1, ax1 = plt.subplots(figsize=(5,5))\n",
    "fig2, ax2 = plt.subplots(figsize=(5,5))\n",
    "fig3, ax3 = plt.subplots(figsize=(5,5))\n",
    "# spacing in X direction\n",
    "dx = 0.15\n",
    "# threshold for diffusion through ZIF-8\n",
    "# from Exploring the Framework Hydrophobicity and Flexibility \n",
    "# of ZIF-8: From Biofuel Recovery to Hydrocarbon Separations\n",
    "threshold = 5.85/2\n",
    "\n",
    "for name, smile in molecules.items():\n",
    "#     if name != 'n-hexane':\n",
    "#         continue\n",
    "    print(name,':', 'SMILES:', smile)\n",
    "    try:\n",
    "        kin_radius = float(radii[name])/2\n",
    "    except ValueError:\n",
    "        print('no radius given for this molecule - skipped')\n",
    "        continue\n",
    "    \n",
    "    # Read SMILES and add Hs\n",
    "    mol = Chem.AddHs(Chem.MolFromSmiles(smile))\n",
    "    # 2D to 3D\n",
    "    # with multiple conformers\n",
    "    cids = Chem.EmbedMultipleConfs(mol, 100, Chem.ETKDG())\n",
    "    print('No. of conformers:', len(cids))\n",
    "    # quick UFF optimize\n",
    "    for cid in cids: Chem.UFFOptimizeMolecule(mol, confId=cid)\n",
    "    # show_all_conformers(v, mol, cids)\n",
    "    mol_coms = get_COMs(mol)\n",
    "    # get principal moments of intertia\n",
    "    _, _, _, ratio_1_, ratio_2_ = get_inertial_prop(mol, cids)\n",
    "    # print(np.average(ratio_1_), np.average(ratio_2_))\n",
    "\n",
    "    conf_diameters, conf_axes, conf_moments = get_vdw_diameters(mol, cids, \n",
    "                                                                mol_coms, \n",
    "                                                                vdwScale=1.0, \n",
    "                                                                boxMargin=2.0, \n",
    "                                                                spacing=0.2,\n",
    "                                                                show=False)\n",
    "    diams = [sorted(i) for i in conf_diameters]\n",
    "    min_diam = min([i[0] for i in diams])\n",
    "    mid_diam = [i[1] for i in diams if i[0] == min_diam][0]\n",
    "    print('minimum diameter =', round(min_diam, 3), 'angstrom')\n",
    "    print('intermediate diameter =', round(mid_diam, 3), 'angstrom')\n",
    "    if mid_diam/2 <= threshold:\n",
    "        C = 'b'\n",
    "        M = 'o'\n",
    "        E = 'k'\n",
    "        D = 0.25\n",
    "    else:\n",
    "        C = 'r'\n",
    "        M = 'x'\n",
    "        E = 'k'\n",
    "        D = 0.75\n",
    "        print(\"--- doesn't fit! ---\")\n",
    "    ax1.scatter(D+(dx*(np.random.random() - 0.5) * 2),\n",
    "                mid_diam/2, c=C, \n",
    "                edgecolors=E, marker=M, alpha=1.0,\n",
    "                s=80)\n",
    "    ax2.scatter(kin_radius, mid_diam/2, c=C, \n",
    "                edgecolors=E, marker=M, alpha=1.0,\n",
    "                s=80)\n",
    "    ax3.scatter(ratio_1_, ratio_2_, c=C, \n",
    "                edgecolors=E, marker=M, alpha=1.0,\n",
    "                s=80)\n",
    "    \n",
    "ax1.axhline(y=threshold, c='k')\n",
    "define_plot_variables(ax1,\n",
    "                      title='',\n",
    "                      xtitle='',\n",
    "                      ytitle='intermediate radius [$\\mathrm{\\AA}$]',\n",
    "                      xlim=(0, 1),\n",
    "                      ylim=(0, 10))\n",
    "fig1.savefig(\"categorical.pdf\", dpi=720,\n",
    "            bbox_inches='tight')\n",
    "fig1.tight_layout()\n",
    "\n",
    "ax2.plot(np.linspace(-1, 12, 2), np.linspace(-1, 12, 2), c='k', alpha=0.4)\n",
    "\n",
    "define_parity_plot_variables(ax2,\n",
    "                             title='',\n",
    "                             xtitle='kinetic radius [$\\mathrm{\\AA}$]',\n",
    "                             ytitle='intermediate radius [$\\mathrm{\\AA}$]',\n",
    "                             xlim=(0, 10),\n",
    "                             ylim=(0, 10))\n",
    "\n",
    "fig2.savefig(\"parity.pdf\", dpi=720,\n",
    "            bbox_inches='tight')\n",
    "fig2.tight_layout()\n",
    "\n",
    "ax3.plot([0, 0.5, 1, 0], [1, 0.5, 1, 1], c='k', lw=2)\n",
    "ax3.text(0.75, 1.01, 'sphere', fontsize=20)\n",
    "ax3.text(0.4, 0.45, 'disk', fontsize=20)\n",
    "ax3.text(-0.05, 1.01, 'rod', fontsize=20)\n",
    "define_parity_plot_variables(ax3,\n",
    "                             title='',\n",
    "                             xtitle='$I_1$ / $I_3$',\n",
    "                             ytitle='$I_2$ / $I_3$',\n",
    "                             xlim=(-0.1, 1.1),\n",
    "                             ylim=(0.4, 1.1))\n",
    "fig3.savefig(\"shape.pdf\", dpi=720,\n",
    "            bbox_inches='tight')\n",
    "fig3.tight_layout()\n"
   ]
  },
  {
   "cell_type": "code",
   "execution_count": null,
   "metadata": {},
   "outputs": [],
   "source": []
  },
  {
   "cell_type": "code",
   "execution_count": null,
   "metadata": {},
   "outputs": [],
   "source": []
  },
  {
   "cell_type": "code",
   "execution_count": 105,
   "metadata": {},
   "outputs": [],
   "source": []
  },
  {
   "cell_type": "code",
   "execution_count": null,
   "metadata": {},
   "outputs": [],
   "source": []
  },
  {
   "cell_type": "code",
   "execution_count": null,
   "metadata": {},
   "outputs": [],
   "source": []
  },
  {
   "cell_type": "code",
   "execution_count": null,
   "metadata": {},
   "outputs": [],
   "source": []
  },
  {
   "cell_type": "code",
   "execution_count": null,
   "metadata": {},
   "outputs": [],
   "source": []
  },
  {
   "cell_type": "code",
   "execution_count": null,
   "metadata": {},
   "outputs": [],
   "source": []
  },
  {
   "cell_type": "code",
   "execution_count": null,
   "metadata": {},
   "outputs": [],
   "source": []
  },
  {
   "cell_type": "markdown",
   "metadata": {},
   "source": [
    "## plot all pIs in output CSV\n",
    "### colour by modification\n"
   ]
  },
  {
   "cell_type": "code",
   "execution_count": 7,
   "metadata": {
    "ExecuteTime": {
     "end_time": "2018-04-24T03:23:10.683775Z",
     "start_time": "2018-04-24T03:23:10.640927Z"
    }
   },
   "outputs": [],
   "source": [
    "pi_data = pd.read_csv(param_dict['out_CSV_pi'], index_col=False)"
   ]
  },
  {
   "cell_type": "code",
   "execution_count": 8,
   "metadata": {
    "ExecuteTime": {
     "end_time": "2018-04-24T03:23:11.740849Z",
     "start_time": "2018-04-24T03:23:11.081719Z"
    }
   },
   "outputs": [
    {
     "data": {
      "image/png": "[encoded data removed]",
      "text/plain": [
       "<matplotlib.figure.Figure at 0x7f5d815ac438>"
      ]
     },
     "metadata": {},
     "output_type": "display_data"
    }
   ],
   "source": [
    "plt.rcParams['font.size'] = 12\n",
    "\n",
    "fig, ax = plt.subplots(figsize=(8, 5))\n",
    "# unmodifed\n",
    "mod_dict = modifications['0']\n",
    "data = pi_data[pi_data['modification'] == 0]\n",
    "n, bins, patches = ax.hist(data['pi'], facecolor=mod_dict['colour'], alpha = 0.5, \n",
    "                           bins=np.arange(0, 14 + 0.2, 0.5),\n",
    "                           label = mod_dict['name'])\n",
    "\n",
    "# modification 1 - succinylation\n",
    "mod_dict = modifications['1']\n",
    "data = pi_data[pi_data['modification'] == 1]\n",
    "n, bins, patches = ax.hist(data['pi'], facecolor=mod_dict['colour'], alpha = 0.5, \n",
    "                           bins=np.arange(0, 14 + 0.2, 0.5),\n",
    "                           label = mod_dict['name'])\n",
    "\n",
    "ax.set_xlabel('calculated pI')\n",
    "ax.set_ylabel('count [arb. units]')\n",
    "ax.set_yticklabels([])\n",
    "\n",
    "#plot cut-off\n",
    "ax.axvline(x=param_dict['cutoff_pi'], c='k', lw='2', linestyle='--')\n",
    "\n",
    "ax.set_xlim(0, 14)\n",
    "ax.legend()\n",
    "\n",
    "\n",
    "fig.savefig('pI_histogram.pdf', dpi=720, bbox_inches='tight')"
   ]
  },
  {
   "cell_type": "code",
   "execution_count": null,
   "metadata": {},
   "outputs": [],
   "source": []
  },
  {
   "cell_type": "code",
   "execution_count": null,
   "metadata": {},
   "outputs": [],
   "source": []
  }
 ],
 "metadata": {
  "kernelspec": {
   "display_name": "Python 3",
   "language": "python",
   "name": "python3"
  },
  "language_info": {
   "codemirror_mode": {
    "name": "ipython",
    "version": 3
   },
   "file_extension": ".py",
   "mimetype": "text/x-python",
   "name": "python",
   "nbconvert_exporter": "python",
   "pygments_lexer": "ipython3",
   "version": "3.6.5"
  }
 },
 "nbformat": 4,
 "nbformat_minor": 2
}
