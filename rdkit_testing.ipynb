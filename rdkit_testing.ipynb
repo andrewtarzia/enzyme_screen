{
 "cells": [
  {
   "cell_type": "code",
   "execution_count": 1,
   "metadata": {
    "ExecuteTime": {
     "end_time": "2018-04-24T03:23:06.761154Z",
     "start_time": "2018-04-24T03:23:06.729312Z"
    }
   },
   "outputs": [
    {
     "data": {
      "text/html": [
       "<style>.container { width:95% !important; }</style>"
      ],
      "text/plain": [
       "<IPython.core.display.HTML object>"
      ]
     },
     "metadata": {},
     "output_type": "display_data"
    }
   ],
   "source": [
    "from IPython.core.display import HTML\n",
    "display(HTML(\"<style>.container { width:95% !important; }</style>\"))   \n",
    "%load_ext autoreload\n",
    "%autoreload 1"
   ]
  },
  {
   "cell_type": "markdown",
   "metadata": {},
   "source": [
    "Author: Andrew Tarzia\n",
    "\n",
    "Date Created: 12 Jul 2018\n",
    "\n",
    "License:"
   ]
  },
  {
   "cell_type": "markdown",
   "metadata": {},
   "source": [
    "# Notebook for getting molecule parameters using RDKIT\n"
   ]
  },
  {
   "cell_type": "code",
   "execution_count": 2,
   "metadata": {
    "ExecuteTime": {
     "end_time": "2018-04-24T03:23:07.958684Z",
     "start_time": "2018-04-24T03:23:07.399243Z"
    }
   },
   "outputs": [],
   "source": [
    "import numpy as np\n",
    "import pandas as pd\n",
    "from rdkit.Chem import AllChem as Chem\n",
    "from rdkit.Chem import Descriptors\n",
    "from rdkit.Chem.Descriptors3D import NPR1, NPR2, PMI1, PMI2, PMI3\n",
    "from rdkit.Chem.Draw.MolDrawing import MolDrawing\n",
    "from rdkit.Chem.Draw import IPythonConsole\n",
    "from rdkit.Chem import Draw\n",
    "from rdkit.Geometry import rdGeometry\n",
    "from rdkit.Chem import PyMol\n",
    "from rdkit import Geometry\n",
    "import tempfile\n",
    "import matplotlib.pyplot as plt\n",
    "%aimport rdkit_functions"
   ]
  },
  {
   "cell_type": "markdown",
   "metadata": {},
   "source": [
    "# Notes:\n",
    "# Todo:\n",
    "- timing\n",
    " - speed up reading: https://rdkit.blogspot.com/2016/09/avoiding-unnecessary-work-and.html"
   ]
  },
  {
   "cell_type": "code",
   "execution_count": 3,
   "metadata": {},
   "outputs": [],
   "source": [
    "# molecule file dir\n",
    "molecule_file = '/home/atarzia/psp/molecules/test_molecules.txt'\n",
    "# output dir\n",
    "output_dir = '/home/atarzia/psp/molecules/'"
   ]
  },
  {
   "cell_type": "code",
   "execution_count": 4,
   "metadata": {},
   "outputs": [],
   "source": [
    "def define_plot_variables(ax, title, ytitle, xtitle, xlim, ylim):\n",
    "    \"\"\"\n",
    "    Series of matplotlib pyplot settings to make all plots unitform.\n",
    "    \"\"\"\n",
    "    # Set number of ticks for x-axis\n",
    "    ax.tick_params(axis='both', which='major', labelsize=16)\n",
    "\n",
    "    ax.set_ylabel(ytitle, fontsize=16)\n",
    "    # ax.legend([y, n], ['aligned', 'not aligned'], loc=4, fancybox=True)\n",
    "    ax.set_xlim(xlim)\n",
    "    ax.set_ylim(ylim)\n",
    "    ax.set_xticklabels(['diffuses', 'does not diffuse'])\n",
    "    ax.set_xticks([0.25, 0.75])\n",
    "\n",
    "\n",
    "def define_parity_plot_variables(ax, title, ytitle, xtitle, xlim, ylim):\n",
    "    \"\"\"\n",
    "    Series of matplotlib pyplot settings to make all plots unitform.\n",
    "    \"\"\"\n",
    "    # Set number of ticks for x-axis\n",
    "    ax.tick_params(axis='both', which='major', labelsize=16)\n",
    "\n",
    "    ax.set_xlabel(xtitle, fontsize=16)\n",
    "    ax.set_ylabel(ytitle, fontsize=16)\n",
    "    # ax.legend([y, n], ['aligned', 'not aligned'], loc=4, fancybox=True)\n",
    "    ax.set_xlim(xlim)\n",
    "    ax.set_ylim(ylim)\n"
   ]
  },
  {
   "cell_type": "code",
   "execution_count": 5,
   "metadata": {},
   "outputs": [],
   "source": [
    "df, molecules, diameters = rdkit_functions.read_mol_txt_file(molecule_file)\n",
    "rdkit_functions.produce_quick_fig_mol(molecules, output_dir+'test_molecules.pdf')"
   ]
  },
  {
   "cell_type": "markdown",
   "metadata": {},
   "source": [
    "## Calculate size and shape"
   ]
  },
  {
   "cell_type": "code",
   "execution_count": 6,
   "metadata": {},
   "outputs": [],
   "source": [
    "try:\n",
    "    v = PyMol.MolViewer()\n",
    "except ConnectionRefusedError:\n",
    "    pass"
   ]
  },
  {
   "cell_type": "code",
   "execution_count": 7,
   "metadata": {},
   "outputs": [
    {
     "data": {
      "text/plain": [
       "{'1,2,4-trimethylbenzene': 'CC1=CC(=C(C=C1)C)C',\n",
       " '1-butanol': 'CCCCO',\n",
       " '1-butene': 'CCC=C',\n",
       " '2,3-dimethylbutane': 'CC(C)C(C)C',\n",
       " '3-methylpentane': 'CCC(C)CC',\n",
       " 'benzene': 'c1ccccc1',\n",
       " 'carbon dioxide': 'C(=O)=O',\n",
       " 'ethane': 'CC',\n",
       " 'ethanol': 'CCO',\n",
       " 'ethene': 'C=C',\n",
       " 'ethyl-benzene': 'CCc1ccccc1',\n",
       " 'i-butane': 'CC(C)C',\n",
       " 'i-butene': 'CC(=C)C',\n",
       " 'mesitylene': 'CC1=CC(=CC(=C1)C)C',\n",
       " 'meta-xylene': 'Cc1cccc(C)c1',\n",
       " 'methane': 'C',\n",
       " 'n-butane': 'CCCC',\n",
       " 'n-hexane': 'CCCCCC',\n",
       " 'n-propane': 'CCC',\n",
       " 'nitrogen': 'N#N',\n",
       " 'ortho-xylene': 'Cc1ccccc1C',\n",
       " 'oxygen': 'O=O',\n",
       " 'para-xylene': 'Cc1ccc(C)cc1',\n",
       " 'propene': 'CC=C',\n",
       " 'water': 'O'}"
      ]
     },
     "execution_count": 7,
     "metadata": {},
     "output_type": "execute_result"
    }
   ],
   "source": [
    "molecules"
   ]
  },
  {
   "cell_type": "code",
   "execution_count": 8,
   "metadata": {},
   "outputs": [
    {
     "name": "stdout",
     "output_type": "stream",
     "text": [
      "molecule: n-hexane : SMILES: CCCCCC\n",
      "No. of conformers: 1\n",
      "minimum diameter = 3.4 angstrom\n",
      "intermediate diameter = 4.4 angstrom\n"
     ]
    },
    {
     "data": {
      "image/png": "[encoded data removed]",
      "text/plain": [
       "<Figure size 360x360 with 1 Axes>"
      ]
     },
     "metadata": {},
     "output_type": "display_data"
    },
    {
     "data": {
      "image/png": "[encoded data removed]",
      "text/plain": [
       "<Figure size 360x360 with 1 Axes>"
      ]
     },
     "metadata": {},
     "output_type": "display_data"
    },
    {
     "data": {
      "image/png": "[encoded data removed]",
      "text/plain": [
       "<Figure size 360x360 with 1 Axes>"
      ]
     },
     "metadata": {},
     "output_type": "display_data"
    }
   ],
   "source": [
    "fig1, ax1 = plt.subplots(figsize=(5,5))\n",
    "fig2, ax2 = plt.subplots(figsize=(5,5))\n",
    "fig3, ax3 = plt.subplots(figsize=(5,5))\n",
    "# spacing in X direction\n",
    "dx = 0.15\n",
    "# threshold for diffusion through ZIF-8\n",
    "# from Exploring the Framework Hydrophobicity and Flexibility \n",
    "# of ZIF-8: From Biofuel Recovery to Hydrocarbon Separations\n",
    "threshold = 4.2\n",
    "\n",
    "min_diam_sums = []\n",
    "mid_diam_sums = []\n",
    "avg_diam_sums = []\n",
    "for T in np.arange(1):\n",
    "    for name, smile in molecules.items():\n",
    "        if name != 'n-hexane':\n",
    "            continue\n",
    "        print('molecule:', name,':', 'SMILES:', smile)\n",
    "        try:\n",
    "            kin_diam = float(diameters[name])\n",
    "        except ValueError:\n",
    "            print('no radius given for this molecule - skipped')\n",
    "            continue\n",
    "\n",
    "        # Read SMILES and add Hs\n",
    "        mol = Chem.AddHs(Chem.MolFromSmiles(smile))\n",
    "        # 2D to 3D\n",
    "        # with multiple conformers\n",
    "        cids = Chem.EmbedMultipleConfs(mol, 1) #, Chem.ETKDG())\n",
    "        print('No. of conformers:', len(cids))\n",
    "        # quick UFF optimize\n",
    "        for cid in cids: Chem.UFFOptimizeMolecule(mol, confId=cid)\n",
    "        # align all conformers\n",
    "        # Chem.AlignMolConformers(mol, [0])\n",
    "        # rdkit_functions.show_all_conformers(v, mol, cids)\n",
    "        mol_coms = rdkit_functions.get_COMs(mol, cids)\n",
    "        # get principal moments of intertia\n",
    "        _, _, _, ratio_1_, ratio_2_ = rdkit_functions.get_inertial_prop(mol, cids)\n",
    "        # print(np.average(ratio_1_), np.average(ratio_2_))\n",
    "        conf_diameters, conf_axes, conf_moments = rdkit_functions.get_vdw_diameters(mol, cids, \n",
    "                                                                    mol_coms, \n",
    "                                                                    vdwScale=1.0, \n",
    "                                                                    boxMargin=4.0, \n",
    "                                                                    spacing=0.5,\n",
    "                                                                    vec_spacing=0.2,\n",
    "                                                                    show=False, \n",
    "                                                                    plot=False)\n",
    "        \n",
    "        # show one conformers axes of inertia in pymol\n",
    "        # rdkit_functions.show_axes(mol, confId, mol_coms, conf_axes)\n",
    "        diams = [sorted(i) for i in conf_diameters]\n",
    "        min_diam = np.average([i[0] for i in diams])  # use the avg min diam\n",
    "        mid_diam = np.average([i[1] for i in diams])  # use the avg intermediate diam\n",
    "        print('minimum diameter =', round(min_diam, 3), 'angstrom')\n",
    "        print('intermediate diameter =', round(mid_diam, 3), 'angstrom')\n",
    "        min_diam_sums.append(min_diam)\n",
    "        mid_diam_sums.append(mid_diam) \n",
    "        avg_diam_sums.append(np.average([min_diam, mid_diam]))\n",
    "        # for categorical plot - use the experimental results\n",
    "        # get the diffusion binary result\n",
    "        diffuses = df[df['molecule'] == name]['diffuse'].iloc[0]\n",
    "        if diffuses == 't':\n",
    "            if mid_diam <= threshold:\n",
    "                C = 'b'\n",
    "                M = 'o'\n",
    "                E = 'k'\n",
    "                D = 0.25\n",
    "            else:\n",
    "                C = 'b'\n",
    "                M = 'X'\n",
    "                E = 'k'\n",
    "                D = 0.25\n",
    "                print(\"--- lit says it diffuses, calc says it doesn't diffuse! ---\")\n",
    "        else:\n",
    "            if mid_diam <= threshold:\n",
    "                C = 'r'\n",
    "                M = 'o'\n",
    "                E = 'k'\n",
    "                D = 0.75\n",
    "                print(\"--- calc says it diffuses, lit says it doesn't diffuse! ---\")\n",
    "            else:\n",
    "                C = 'r'\n",
    "                M = 'X'\n",
    "                E = 'k'\n",
    "                D = 0.75\n",
    "                # print(\"--- calc and lit say it doesnt diffuse! ---\")\n",
    "        ax1.scatter(D+(dx*(np.random.random() - 0.5) * 2),\n",
    "                    mid_diam, c=C, \n",
    "                    edgecolors=E, marker=M, alpha=1.0,\n",
    "                    s=80)\n",
    "        ax2.scatter(kin_diam, mid_diam, c=C, \n",
    "                    edgecolors=E, marker=M, alpha=1.0,\n",
    "                    s=80)\n",
    "        ax3.scatter(np.average(ratio_1_), np.average(ratio_2_),\n",
    "                    c=C, \n",
    "                    edgecolors=E, marker=M, alpha=1.0,\n",
    "                    s=80)\n",
    "    \n",
    "ax1.axhline(y=threshold, c='k')\n",
    "define_plot_variables(ax1,\n",
    "                      title='',\n",
    "                      xtitle='',\n",
    "                      ytitle='intermediate diameter [$\\mathrm{\\AA}$]',\n",
    "                      xlim=(0, 1),\n",
    "                      ylim=(0, 10))\n",
    "fig1.tight_layout()\n",
    "fig1.savefig(output_dir+\"categorical.pdf\", dpi=720,\n",
    "            bbox_inches='tight')\n",
    "\n",
    "\n",
    "ax2.plot(np.linspace(-1, 12, 2), np.linspace(-1, 12, 2), c='k', alpha=0.4)\n",
    "ax2.axvspan(4.0, 4.2, facecolor='r', alpha=0.5)  # plot the limit from the two Sholl papers on diffusion\n",
    "\n",
    "\n",
    "define_parity_plot_variables(ax2,\n",
    "                             title='',\n",
    "                             xtitle='kinetic diameter [$\\mathrm{\\AA}$]',\n",
    "                             ytitle='intermediate diameter [$\\mathrm{\\AA}$]',\n",
    "                             xlim=(0, 10),\n",
    "                             ylim=(0, 10))\n",
    "\n",
    "fig2.tight_layout()\n",
    "fig2.savefig(output_dir+\"parity.pdf\", dpi=720,\n",
    "            bbox_inches='tight')\n",
    "\n",
    "\n",
    "ax3.plot([0, 0.5, 1, 0], [1, 0.5, 1, 1], c='k', lw=2)\n",
    "ax3.text(0.75, 1.01, 'sphere', fontsize=20)\n",
    "ax3.text(0.4, 0.45, 'disk', fontsize=20)\n",
    "ax3.text(-0.05, 1.01, 'rod', fontsize=20)\n",
    "define_parity_plot_variables(ax3,\n",
    "                             title='',\n",
    "                             xtitle='$I_1$ / $I_3$',\n",
    "                             ytitle='$I_2$ / $I_3$',\n",
    "                             xlim=(-0.1, 1.1),\n",
    "                             ylim=(0.4, 1.1))\n",
    "fig3.tight_layout()\n",
    "fig3.savefig(output_dir+\"shape.pdf\", dpi=720,\n",
    "            bbox_inches='tight')"
   ]
  },
  {
   "cell_type": "code",
   "execution_count": null,
   "metadata": {},
   "outputs": [],
   "source": []
  },
  {
   "cell_type": "code",
   "execution_count": null,
   "metadata": {},
   "outputs": [],
   "source": []
  },
  {
   "cell_type": "code",
   "execution_count": null,
   "metadata": {},
   "outputs": [],
   "source": []
  },
  {
   "cell_type": "code",
   "execution_count": null,
   "metadata": {},
   "outputs": [],
   "source": []
  },
  {
   "cell_type": "code",
   "execution_count": null,
   "metadata": {},
   "outputs": [],
   "source": []
  },
  {
   "cell_type": "code",
   "execution_count": 100,
   "metadata": {},
   "outputs": [
    {
     "data": {
      "text/plain": [
       "(0, 10)"
      ]
     },
     "execution_count": 100,
     "metadata": {},
     "output_type": "execute_result"
    },
    {
     "data": {
      "image/png": "[encoded data removed]",
      "text/plain": [
       "<Figure size 432x288 with 1 Axes>"
      ]
     },
     "metadata": {},
     "output_type": "display_data"
    }
   ],
   "source": [
    "plt.hist(min_diam_sums, facecolor='k', alpha=0.4)\n",
    "plt.hist(mid_diam_sums, facecolor='r', alpha=0.4)\n",
    "plt.hist(avg_diam_sums, facecolor='b', alpha=0.4)\n",
    "plt.xlim(0, 10)"
   ]
  },
  {
   "cell_type": "code",
   "execution_count": null,
   "metadata": {},
   "outputs": [],
   "source": []
  },
  {
   "cell_type": "code",
   "execution_count": null,
   "metadata": {},
   "outputs": [],
   "source": []
  },
  {
   "cell_type": "code",
   "execution_count": null,
   "metadata": {},
   "outputs": [],
   "source": []
  }
 ],
 "metadata": {
  "kernelspec": {
   "display_name": "Python 3",
   "language": "python",
   "name": "python3"
  },
  "language_info": {
   "codemirror_mode": {
    "name": "ipython",
    "version": 3
   },
   "file_extension": ".py",
   "mimetype": "text/x-python",
   "name": "python",
   "nbconvert_exporter": "python",
   "pygments_lexer": "ipython3",
   "version": "3.6.5"
  }
 },
 "nbformat": 4,
 "nbformat_minor": 2
}
