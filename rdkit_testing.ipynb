{
 "cells": [
  {
   "cell_type": "code",
   "execution_count": 1,
   "metadata": {
    "ExecuteTime": {
     "end_time": "2018-04-24T03:23:06.761154Z",
     "start_time": "2018-04-24T03:23:06.729312Z"
    }
   },
   "outputs": [
    {
     "data": {
      "text/html": [
       "<style>.container { width:95% !important; }</style>"
      ],
      "text/plain": [
       "<IPython.core.display.HTML object>"
      ]
     },
     "metadata": {},
     "output_type": "display_data"
    }
   ],
   "source": [
    "from IPython.core.display import HTML\n",
    "display(HTML(\"<style>.container { width:95% !important; }</style>\"))   "
   ]
  },
  {
   "cell_type": "markdown",
   "metadata": {},
   "source": [
    "Author: Andrew Tarzia\n",
    "\n",
    "Date Created: 12 Jul 2018\n",
    "\n",
    "License:"
   ]
  },
  {
   "cell_type": "markdown",
   "metadata": {},
   "source": [
    "# Notebook for getting molecule parameters using RDKIT\n"
   ]
  },
  {
   "cell_type": "code",
   "execution_count": 35,
   "metadata": {
    "ExecuteTime": {
     "end_time": "2018-04-24T03:23:07.958684Z",
     "start_time": "2018-04-24T03:23:07.399243Z"
    }
   },
   "outputs": [],
   "source": [
    "from rdkit.Chem import AllChem as Chem\n",
    "from rdkit.Chem.Descriptors3D import NPR1, NPR2, PMI1, PMI2, PMI3\n",
    "from rdkit.Chem.Draw.MolDrawing import MolDrawing\n",
    "from rdkit.Chem.Draw import IPythonConsole\n",
    "from rdkit.Chem import Draw"
   ]
  },
  {
   "cell_type": "markdown",
   "metadata": {},
   "source": [
    "# Notes:\n",
    "# Todo:\n",
    "- timing"
   ]
  },
  {
   "cell_type": "code",
   "execution_count": 36,
   "metadata": {},
   "outputs": [],
   "source": [
    "# molecule file dir\n",
    "molecule_file = '/home/atarzia/psp/molecules/test_molecules.txt'\n",
    "# output dir\n",
    "output_dir = '/home/atarzia/psp/molecules/'"
   ]
  },
  {
   "cell_type": "code",
   "execution_count": 37,
   "metadata": {},
   "outputs": [],
   "source": [
    "def read_mol_txt_file(filename):\n",
    "    \"\"\"Function to read molecule SMILES from txt file.\n",
    "    \n",
    "    \"\"\"\n",
    "    with open(filename, 'r') as f:\n",
    "        lines = f.readlines()\n",
    "    molecules = {}\n",
    "    for line in lines:\n",
    "        try:\n",
    "            name, smile = line.rstrip().split(':')\n",
    "        except ValueError:\n",
    "            print(line, 'had : in there twice, fix this naming or SMILE')\n",
    "            print('skipped')\n",
    "        molecules[name] = smile\n",
    "    return molecules"
   ]
  },
  {
   "cell_type": "code",
   "execution_count": 38,
   "metadata": {},
   "outputs": [],
   "source": [
    "def get_inertial_prop(mol, cids):\n",
    "    \"\"\"Get inertial 3D descriptors for all conformers in mol.\n",
    "    \n",
    "    \"\"\"\n",
    "    # ratio 1 is I1/I3\n",
    "    # ratio 2 is I2/I3\n",
    "    sml_PMI, mid_PMI, lge_PMI = [], [], []\n",
    "    ratio_1_, ratio_2_ = [], []\n",
    "    for cid in cids:\n",
    "        sml_PMI.append(PMI1(mol, confId=cid))\n",
    "        mid_PMI.append(PMI2(mol, confId=cid))\n",
    "        lge_PMI.append(PMI3(mol, confId=cid))\n",
    "        ratio_1_.append(NPR1(mol, confId=cid))\n",
    "        ratio_2_.append(NPR2(mol, confId=cid))\n",
    "    \n",
    "    return sml_PMI, mid_PMI, lge_PMI, ratio_1_, ratio_2_"
   ]
  },
  {
   "cell_type": "code",
   "execution_count": null,
   "metadata": {},
   "outputs": [],
   "source": [
    "def produce_quick_fig_mol(molecules, filename):\n",
    "    \"\"\"Produce a quick/dirty figure showing all the 2D coordinates of molecules in the data set.\n",
    "    \n",
    "    \"\"\"\n",
    "    mols = [Chem.MolFromSmiles(x) for x in molecules.values()]\n",
    "    for m in mols: tmp = Chem.Compute2DCoords(m)\n",
    "    # Draw.MolToFile(mols[0], output_dir+'mol1.png')\n",
    "    img=Draw.MolsToGridImage(mols,molsPerRow=10,subImgSize=(200,200),legends=[x for x in molecules.keys()])\n",
    "    img.save(filename)"
   ]
  },
  {
   "cell_type": "code",
   "execution_count": 39,
   "metadata": {},
   "outputs": [],
   "source": [
    "molecules = read_mol_txt_file(molecule_file)\n",
    "produce_quick_fig_mol(molecules, output_dir+'test_molecules.pdf')"
   ]
  },
  {
   "cell_type": "markdown",
   "metadata": {},
   "source": [
    "## Figure of test molecules"
   ]
  },
  {
   "cell_type": "code",
   "execution_count": 40,
   "metadata": {},
   "outputs": [],
   "source": []
  },
  {
   "cell_type": "markdown",
   "metadata": {},
   "source": [
    "## Calculate size and shape"
   ]
  },
  {
   "cell_type": "code",
   "execution_count": 184,
   "metadata": {},
   "outputs": [
    {
     "name": "stdout",
     "output_type": "stream",
     "text": [
      "CO2 : SMILES: C(=O)=O\n",
      "No. of conformers: 10\n",
      "O2 : SMILES: O=O\n",
      "No. of conformers: 10\n",
      "N2 : SMILES: N#N\n",
      "No. of conformers: 10\n",
      "H2O : SMILES: O\n",
      "No. of conformers: 10\n",
      "methane : SMILES: C\n",
      "No. of conformers: 10\n",
      "ethene : SMILES: C=C\n",
      "No. of conformers: 10\n",
      "ethane : SMILES: CC\n",
      "No. of conformers: 10\n",
      "ethanol : SMILES: CCO\n",
      "No. of conformers: 10\n",
      "propene : SMILES: CC=C\n",
      "No. of conformers: 10\n",
      "n-propane : SMILES: CCC\n",
      "No. of conformers: 10\n",
      "1-butene : SMILES: CCC=C\n",
      "No. of conformers: 10\n",
      "n-butane : SMILES: CCCC\n",
      "No. of conformers: 10\n",
      "i-butene : SMILES: CC(=C)C\n",
      "No. of conformers: 10\n",
      "i-butane : SMILES: CC(C)C\n",
      "No. of conformers: 10\n",
      "1-butanol : SMILES: CCCCO\n",
      "No. of conformers: 10\n",
      "2,2-dimethylbutane : SMILES: CCC(C)(C)C\n",
      "No. of conformers: 10\n",
      "2,3-dimethylbutane : SMILES: CC(C)C(C)C\n",
      "No. of conformers: 10\n",
      "3-methylpentane : SMILES: CCC(C)CC\n",
      "No. of conformers: 10\n",
      "2-methylpentane : SMILES: CCCC(C)C\n",
      "No. of conformers: 10\n",
      "2,2-dimethylpentane : SMILES: CCCC(C)(C)C\n",
      "No. of conformers: 10\n",
      "n-hexane : SMILES: CCCCCC\n",
      "No. of conformers: 10\n",
      "2,2-dimethylhexane : SMILES: CCCCC(C)(C)C\n",
      "No. of conformers: 10\n",
      "2-methylhexane : SMILES: CCCCC(C)C\n",
      "No. of conformers: 10\n",
      "n-heptane : SMILES: CCCCCCC\n",
      "No. of conformers: 10\n",
      "2-methylheptane : SMILES: CCCCCC(C)C\n",
      "No. of conformers: 10\n",
      "n-octane : SMILES: CCCCCCCC\n",
      "No. of conformers: 10\n",
      "1-octene : SMILES: CCCCCCC=C\n",
      "No. of conformers: 10\n",
      "benzene : SMILES: c1ccccc1\n",
      "No. of conformers: 10\n",
      "ethyl-benzene : SMILES: CCc1ccccc1\n",
      "No. of conformers: 10\n",
      "para-xylene : SMILES: Cc1ccc(C)cc1\n",
      "No. of conformers: 10\n",
      "meta-xylene : SMILES: Cc1cccc(C)c1\n",
      "No. of conformers: 10\n",
      "ortho-xylene : SMILES: Cc1ccccc1C\n",
      "No. of conformers: 10\n",
      "mesitylene : SMILES: CC1=CC(=CC(=C1)C)C\n",
      "No. of conformers: 10\n",
      "1,2,4-trimethylbenzene : SMILES: CC1=CC(=C(C=C1)C)C\n",
      "No. of conformers: 10\n"
     ]
    }
   ],
   "source": [
    "for name, smile in molecules.items():\n",
    "    print(name,':', 'SMILES:', smile)\n",
    "    # Read SMILES and add Hs\n",
    "    mol = Chem.AddHs(Chem.MolFromSmiles(smile))\n",
    "    # 2D to 3D\n",
    "    # with multiple conformers\n",
    "    cids = Chem.EmbedMultipleConfs(mol, 10, Chem.ETKDG())\n",
    "    print('No. of conformers:', len(cids))\n",
    "    # quick UFF optimize\n",
    "    for cid in cids: Chem.UFFOptimizeMolecule(mol, confId=cid)\n",
    "    # align all conformers\n",
    "    Chem.AlignMolConformers(mol, atomIds=[0])\n",
    "    sml_PMI, mid_PMI, lge_PMI, ratio_1_, ratio_2_ = get_inertial_prop(mol, cids)\n",
    "    "
   ]
  },
  {
   "cell_type": "code",
   "execution_count": 155,
   "metadata": {},
   "outputs": [],
   "source": []
  },
  {
   "cell_type": "code",
   "execution_count": 145,
   "metadata": {},
   "outputs": [],
   "source": []
  },
  {
   "cell_type": "code",
   "execution_count": 147,
   "metadata": {},
   "outputs": [
    {
     "data": {
      "text/plain": [
       "(89.86068305210318,\n",
       " 197.20504812583727,\n",
       " 287.06573117763475,\n",
       " 0.31303173208263535,\n",
       " 0.6869682679184296)"
      ]
     },
     "execution_count": 147,
     "metadata": {},
     "output_type": "execute_result"
    }
   ],
   "source": [
    "sml_PMI[0], mid_PMI[0], lge_PMI[0], ratio_1_[0], ratio_2_[0]"
   ]
  },
  {
   "cell_type": "code",
   "execution_count": 149,
   "metadata": {},
   "outputs": [
    {
     "name": "stdout",
     "output_type": "stream",
     "text": [
      "\n",
      "     RDKit          3D\n",
      "\n",
      " 13 13  0  0  0  0  0  0  0  0999 V2000\n",
      "    2.5121    0.0620   -0.1449 O   0  0  0  0  0  0  0  0  0  0  0  0\n",
      "    1.1211    0.0569   -0.0717 C   0  0  0  0  0  0  0  0  0  0  0  0\n",
      "    0.4256   -1.1192    0.2466 C   0  0  0  0  0  0  0  0  0  0  0  0\n",
      "   -0.9714   -1.1101    0.3167 C   0  0  0  0  0  0  0  0  0  0  0  0\n",
      "   -1.6770    0.0718    0.0696 C   0  0  0  0  0  0  0  0  0  0  0  0\n",
      "   -0.9860    1.2454   -0.2478 C   0  0  0  0  0  0  0  0  0  0  0  0\n",
      "    0.4111    1.2382   -0.3184 C   0  0  0  0  0  0  0  0  0  0  0  0\n",
      "    3.0543   -0.7764    0.0282 H   0  0  0  0  0  0  0  0  0  0  0  0\n",
      "    0.9654   -2.0377    0.4390 H   0  0  0  0  0  0  0  0  0  0  0  0\n",
      "   -1.5067   -2.0181    0.5623 H   0  0  0  0  0  0  0  0  0  0  0  0\n",
      "   -2.7579    0.0782    0.1240 H   0  0  0  0  0  0  0  0  0  0  0  0\n",
      "   -1.5324    2.1599   -0.4390 H   0  0  0  0  0  0  0  0  0  0  0  0\n",
      "    0.9419    2.1491   -0.5645 H   0  0  0  0  0  0  0  0  0  0  0  0\n",
      "  1  2  1  0\n",
      "  2  3  2  0\n",
      "  3  4  1  0\n",
      "  4  5  2  0\n",
      "  5  6  1  0\n",
      "  6  7  2  0\n",
      "  7  2  1  0\n",
      "  1  8  1  0\n",
      "  3  9  1  0\n",
      "  4 10  1  0\n",
      "  5 11  1  0\n",
      "  6 12  1  0\n",
      "  7 13  1  0\n",
      "M  END\n",
      "\n"
     ]
    }
   ],
   "source": [
    "print(Chem.MolToMolBlock(mol))"
   ]
  },
  {
   "cell_type": "code",
   "execution_count": null,
   "metadata": {},
   "outputs": [],
   "source": []
  },
  {
   "cell_type": "code",
   "execution_count": null,
   "metadata": {},
   "outputs": [],
   "source": []
  },
  {
   "cell_type": "code",
   "execution_count": null,
   "metadata": {},
   "outputs": [],
   "source": []
  },
  {
   "cell_type": "code",
   "execution_count": null,
   "metadata": {},
   "outputs": [],
   "source": []
  },
  {
   "cell_type": "code",
   "execution_count": null,
   "metadata": {},
   "outputs": [],
   "source": [
    "    "
   ]
  },
  {
   "cell_type": "markdown",
   "metadata": {},
   "source": [
    "## plot all pIs in output CSV\n",
    "### colour by modification\n"
   ]
  },
  {
   "cell_type": "code",
   "execution_count": 7,
   "metadata": {
    "ExecuteTime": {
     "end_time": "2018-04-24T03:23:10.683775Z",
     "start_time": "2018-04-24T03:23:10.640927Z"
    }
   },
   "outputs": [],
   "source": [
    "pi_data = pd.read_csv(param_dict['out_CSV_pi'], index_col=False)"
   ]
  },
  {
   "cell_type": "code",
   "execution_count": 8,
   "metadata": {
    "ExecuteTime": {
     "end_time": "2018-04-24T03:23:11.740849Z",
     "start_time": "2018-04-24T03:23:11.081719Z"
    }
   },
   "outputs": [
    {
     "data": {
      "image/png": "[encoded data removed]",
      "text/plain": [
       "<matplotlib.figure.Figure at 0x7f5d815ac438>"
      ]
     },
     "metadata": {},
     "output_type": "display_data"
    }
   ],
   "source": [
    "plt.rcParams['font.size'] = 12\n",
    "\n",
    "fig, ax = plt.subplots(figsize=(8, 5))\n",
    "# unmodifed\n",
    "mod_dict = modifications['0']\n",
    "data = pi_data[pi_data['modification'] == 0]\n",
    "n, bins, patches = ax.hist(data['pi'], facecolor=mod_dict['colour'], alpha = 0.5, \n",
    "                           bins=np.arange(0, 14 + 0.2, 0.5),\n",
    "                           label = mod_dict['name'])\n",
    "\n",
    "# modification 1 - succinylation\n",
    "mod_dict = modifications['1']\n",
    "data = pi_data[pi_data['modification'] == 1]\n",
    "n, bins, patches = ax.hist(data['pi'], facecolor=mod_dict['colour'], alpha = 0.5, \n",
    "                           bins=np.arange(0, 14 + 0.2, 0.5),\n",
    "                           label = mod_dict['name'])\n",
    "\n",
    "ax.set_xlabel('calculated pI')\n",
    "ax.set_ylabel('count [arb. units]')\n",
    "ax.set_yticklabels([])\n",
    "\n",
    "#plot cut-off\n",
    "ax.axvline(x=param_dict['cutoff_pi'], c='k', lw='2', linestyle='--')\n",
    "\n",
    "ax.set_xlim(0, 14)\n",
    "ax.legend()\n",
    "\n",
    "\n",
    "fig.savefig('pI_histogram.pdf', dpi=720, bbox_inches='tight')"
   ]
  },
  {
   "cell_type": "code",
   "execution_count": null,
   "metadata": {},
   "outputs": [],
   "source": []
  },
  {
   "cell_type": "code",
   "execution_count": null,
   "metadata": {},
   "outputs": [],
   "source": []
  }
 ],
 "metadata": {
  "kernelspec": {
   "display_name": "Python 3",
   "language": "python",
   "name": "python3"
  },
  "language_info": {
   "codemirror_mode": {
    "name": "ipython",
    "version": 3
   },
   "file_extension": ".py",
   "mimetype": "text/x-python",
   "name": "python",
   "nbconvert_exporter": "python",
   "pygments_lexer": "ipython3",
   "version": "3.6.5"
  }
 },
 "nbformat": 4,
 "nbformat_minor": 2
}
