{
 "cells": [
  {
   "cell_type": "code",
   "execution_count": 6,
   "metadata": {
    "ExecuteTime": {
     "end_time": "2018-04-24T02:45:44.134301Z",
     "start_time": "2018-04-24T02:45:44.128554Z"
    }
   },
   "outputs": [
    {
     "data": {
      "text/html": [
       "<style>.container { width:95% !important; }</style>"
      ],
      "text/plain": [
       "<IPython.core.display.HTML object>"
      ]
     },
     "metadata": {},
     "output_type": "display_data"
    }
   ],
   "source": [
    "from IPython.core.display import HTML\n",
    "display(HTML(\"<style>.container { width:95% !important; }</style>\"))   "
   ]
  },
  {
   "cell_type": "markdown",
   "metadata": {},
   "source": [
    "Author: Andrew Tarzia\n",
    "\n",
    "Date Created: 12 Feb 2018\n",
    "\n",
    "License:"
   ]
  },
  {
   "cell_type": "markdown",
   "metadata": {},
   "source": [
    "# Notebook for screening BRENDA database post pI screening\n",
    "\n",
    "TODO:\n",
    "- take BRENDA files and split into property specific files using code in python script\n",
    "- filter out proteins based on BRENDA information\n",
    "- collect product and substrate names\n",
    "- output\n",
    "- turn notebook into presentation of process for an example.\n",
    "- move to scripts\n",
    "    - generalise to running in current working dir\n",
    "    - add license"
   ]
  },
  {
   "cell_type": "code",
   "execution_count": 7,
   "metadata": {
    "ExecuteTime": {
     "end_time": "2018-04-24T02:45:44.871952Z",
     "start_time": "2018-04-24T02:45:44.837678Z"
    }
   },
   "outputs": [],
   "source": [
    "import os\n",
    "import pandas as pd\n",
    "import glob\n",
    "import matplotlib.pyplot as plt\n",
    "from Bio import SeqIO\n",
    "from Bio.SeqUtils.ProtParam import ProteinAnalysis\n",
    "import time\n",
    "import numpy as np\n",
    "from shutil import copyfile"
   ]
  },
  {
   "cell_type": "code",
   "execution_count": 8,
   "metadata": {
    "ExecuteTime": {
     "end_time": "2018-04-24T02:45:45.118655Z",
     "start_time": "2018-04-24T02:45:45.100567Z"
    }
   },
   "outputs": [],
   "source": [
    "# my imports\n",
    "source_dir = '/home/atarzia/psp/psp_source/'\n",
    "os.chdir(source_dir)\n",
    "import brenda_IO"
   ]
  },
  {
   "cell_type": "markdown",
   "metadata": {},
   "source": [
    "# Notes:\n"
   ]
  },
  {
   "cell_type": "code",
   "execution_count": 9,
   "metadata": {
    "ExecuteTime": {
     "end_time": "2018-04-24T02:45:46.351036Z",
     "start_time": "2018-04-24T02:45:46.320057Z"
    }
   },
   "outputs": [],
   "source": [
    "# get parameters\n",
    "source_dir = '/home/atarzia/psp/psp_source/'\n",
    "os.chdir(source_dir)\n",
    "%run ./parameter_file.py\n",
    "param_dict = get_parameters()\n",
    "\n",
    "# input parameters\n",
    "database_directory = '/home/atarzia/psp/sequence_db/test_dataset/'\n",
    "database_directory = '/home/atarzia/psp/sequence_db/linb_dataset/'\n",
    "\n",
    "os.chdir(database_directory)\n",
    "# get input FASTA file names\n",
    "database_names = []\n",
    "for i in glob.glob(\"*fasta\"):\n",
    "    if \"_mod\" not in i:\n",
    "        database_names.append(i)\n",
    "\n",
    "# output CSV file\n",
    "redo_pi = True\n",
    "if redo_pi is True:\n",
    "    string = ''\n",
    "    for i in param_dict['out_columns_br']:\n",
    "        if i == param_dict['out_columns_br'][-1]:\n",
    "            string += i\n",
    "        else:\n",
    "            string += i+','\n",
    "    string += '\\n'\n",
    "    with open(param_dict['out_CSV_br'], 'w') as f:\n",
    "        f.write(string)"
   ]
  },
  {
   "cell_type": "code",
   "execution_count": 10,
   "metadata": {
    "ExecuteTime": {
     "end_time": "2018-04-24T02:46:12.654061Z",
     "start_time": "2018-04-24T02:46:12.558852Z"
    }
   },
   "outputs": [
    {
     "name": "stdout",
     "output_type": "stream",
     "text": [
      "=====================================================================\n",
      "                     Screening enzymes with Brenda!                  \n",
      "=====================================================================\n",
      "---  2858 proteins out of 4524 remain, OR 63 % ---\n",
      "4.5.1.1\n",
      "brenda_download_4_5_1_1.txt\n",
      "fasta_file      4_5_1_1__BRENDA_sequences.fasta\n",
      "acc.code                                Q93112 \n",
      "organism                 DDT-dehydrochlorinase \n",
      "EC.code                                4.5.1.1 \n",
      "species                      Anopheles gambiae \n",
      "note                                 Swiss-Prot\n",
      "pi                                         5.84\n",
      "modification                                  0\n",
      "category                                      0\n",
      "Name: 0, dtype: object\n",
      "--- finished 0 proteins in 0.00 seconds ---\n",
      "=====================================================================\n",
      "                              Complete!                              \n",
      "=====================================================================\n"
     ]
    }
   ],
   "source": [
    "print('=====================================================================')\n",
    "print('                     Screening enzymes with Brenda!                  ')\n",
    "print('=====================================================================')\n",
    "# read in pI output file\n",
    "pi_data = pd.read_csv(param_dict['out_CSV_pi'], index_col=False)\n",
    "# only keep those that pass the pI test\n",
    "pi_passed_data = pi_data[pi_data['pi'] < param_dict['cutoff_pi']]\n",
    "print('--- ', \n",
    "      len(pi_passed_data), 'proteins out of', len(pi_data), \n",
    "      'remain, OR', int(len(pi_passed_data)/len(pi_data)*100),\n",
    "      \"% ---\")\n",
    "# for each FASTA file\n",
    "count_done = 0\n",
    "total_start_time = time.time()\n",
    "for i, row in pi_passed_data.iterrows():\n",
    "    EC = row['EC.code'].replace(\" \", \"\")\n",
    "    EC_ = EC.replace(\".\", \"_\")\n",
    "    # get brenda data file\n",
    "    br_datafile = 'brenda_download_'+EC_+'.txt'\n",
    "    if os.path.isfile(br_datafile) is False:\n",
    "        src = param_dict['BRENDA_DB_loc']+br_datafile\n",
    "        des = database_directory+br_datafile\n",
    "        copyfile(src, des)\n",
    "    print(EC)\n",
    "    print(br_datafile)\n",
    "    print(row)\n",
    "    # convert br_datafile into dictionary\n",
    "    br_symbols, br_data = brenda_IO.get_brenda_dict(br_datafile)\n",
    "    \n",
    "    \n",
    "    \n",
    "    break\n",
    "    \n",
    "print('--- finished %s proteins in %s seconds ---' % (count_done, '{0:.2f}'.format(time.time() - total_start_time)))\n",
    "print('=====================================================================')\n",
    "print('                              Complete!                              ')\n",
    "print('=====================================================================')"
   ]
  },
  {
   "cell_type": "code",
   "execution_count": 12,
   "metadata": {
    "ExecuteTime": {
     "end_time": "2018-04-24T02:46:22.446940Z",
     "start_time": "2018-04-24T02:46:22.430541Z"
    }
   },
   "outputs": [
    {
     "data": {
      "text/plain": [
       "{'AC': ['#4# cysteinylglycine (#4# activates <2>) <2>',\n",
       "  '#4# GSH (#4# required <1,3,4>; #4# Km: 0.25 mM <1>; #4# stabilizestetrameric enzyme form <4>) <1,3,4>',\n",
       "  '#4# cysteinylglycine (#4# activates <2>) <2>',\n",
       "  '#4# GSH (#4# required <1,3,4>; #4# Km: 0.25 mM <1>; #4# stabilizestetrameric enzyme form <4>) <1,3,4>'],\n",
       " 'AP': ['#5,7,8# biotechnology (#7# positive correlation of enzyme activity andresistance against DDT <9>; #5# positive correlation of enzyme activity'],\n",
       " 'CF': ['#3# glutathione <11>'],\n",
       " 'CL': ['#6# <7>'],\n",
       " 'ID': ['4.5.1.1'],\n",
       " 'IN': ['#2# guanidine hydrochloride (#2# complete inhibition at 1 M <10>) <10>',\n",
       "  '#2# SDS (#2# 78% loss of activity at 5% (w/v) <10>) <10>',\n",
       "  '#2# Urea (#2# 98% loss of activity at 10 mM <10>) <10>',\n",
       "  '#3# permethrin (#3# uncompetitive inhibitor of isoform GSTE2-2 <11>)<11>',\n",
       "  '#4# iodoacetate (#4# inhibition to a minor degree, completelyreversible <2>) <2>',\n",
       "  '#4# p-chloromercuribenzoate (#4# i.e. PCMB.1,1,1-trichloro-2,2-bis(4-chlorophenyl)ethane completely protects the',\n",
       "  '#9# Ethacrynic acid <8>',\n",
       "  '#9# bromosulfophthalein <8>'],\n",
       " 'KM': ['#2# 0.037 {1,1,1-trichloro-2,2-bis(4-chlorophenyl)ethane}  (#2# pH 7.0,37°C <12>) <12>',\n",
       "  '#9# 0.21 {1-chloro-2,4-dinitrobenzene}  (#9# pH 6.5, 22°C <8>) <8>'],\n",
       " 'ME': ['#2,4# Mg2+ (#4# stimulates at a concentration of 0.1 mM <2>; #2# ametalloprotein containing Zn2+, Mg2+, and Ca2+ ions <12>) <2,12>',\n",
       "  '#2,4# Zn2+ (#4# stimulates at a concentration of 0.1 mM <2>; #2# ametalloprotein containing Zn2+, Mg2+, and Ca2+ ions <12>) <2,12>',\n",
       "  '#2,4# Ca2+ (#4# stimulates at a concentration of 0.1 mM <2>; #2# ametalloprotein containing Zn2+, Mg2+, and Ca2+ ions <12>) <2,12>',\n",
       "  '#4# Mn2+ (#4# stimulates at a concentration of 0.1 mM <2>) <2>',\n",
       "  '#4# Cu2+ (#4# stimulates at a concentration of 0.1 mM <2>) <2>',\n",
       "  '#4# Fe2+ (#4# stimulates at a concentration of 0.1 mM <2>) <2>',\n",
       "  '#4# Al3+ (#4# stimulates at a concentration of 0.1 mM <2>) <2>'],\n",
       " 'MW': ['#2# 37000 (#2# about, native PAGE <12>) <12>',\n",
       "  '#4# 120000 (#4# PAGE <1>) <1>',\n",
       "  '#4# 30000 (#4# 4 * 30000, disc electrophoresis <4>) <4>'],\n",
       " 'NSP': ['#1,4# 1,1,1-trichloro-2,2-bis(4-chlorophenyl)ethane = ? {} <1,2,3,4,5,6>',\n",
       "  '#2# 1,1,1-trichloro-2,2-bis(4-chlorophenyl)ethane =1,1-dichloro-2,2-bis(4-chlorophenyl)ethylene + chloride <12>'],\n",
       " 'OSS': ['#4# organic solvents (#4# instability of the enzyme to organic solventsat temperatures about -5°C <1>) <1>'],\n",
       " 'PHO': ['#2# 7 <12>', '#4# 7.4 <1>'],\n",
       " 'PHS': ['#2# 7 (#2# purified native enzyme, 37°C, stable for 4-5 h <12>) <12>',\n",
       "  '#4# 4-6 (#4# stable between for 6 h <1>) <1>',\n",
       "  '#4# 6-12 (#4# stable between for 48 h at 2°C <1>) <1>'],\n",
       " 'PM': ['#2# glycoprotein (#2# a glycoprotein with mannose forming the backbone<12>) <12>',\n",
       "  '#4# side-chain modification (#4# phospholipoprotein <4>) <4>'],\n",
       " 'PR': ['#1# Rattus norvegicus   (#1# isoform CYP79D4 <5,6>) <5,6>',\n",
       "  '#2# Pseudomonas putida   <10,12>',\n",
       "  '#3# Aedes aegypti   <11>',\n",
       "  '#4# Musca domestica   (#4# isoform CYP79D1 <4>; #4# isoform CYP79D2<3>; #4# isoform CYP79D3 <1,2,3,4>) <1,2,3,4>',\n",
       "  '#5# Culex quinquefasciatus   <9>',\n",
       "  '#6# Anopheles gambiae   <7>',\n",
       "  '#7# Anopheles minimus   <9>',\n",
       "  '#8# Anopheles annularis   <9>',\n",
       "  '#9# Anopheles dirus   <8>'],\n",
       " 'PU': ['#2# (native enzyme from strain T5 to homogeneity) <12>', '#4# <1>'],\n",
       " 'RE': ['1,1,1-trichloro-2,2-bis(4-chlorophenyl)ethane =1,1-dichloro-2,2-bis(4-chlorophenyl)ethylene + chloride'],\n",
       " 'RF': ['<1> Lipke, H.; Kearns, C.W.: DDT dehydrochlorinase. I. Isolation,chemical properties, and spectrophotometric assay. J. Biol. Chem.',\n",
       "  '<2> Lipke, H.; Kearns, C.W.: DDT dehydrochlorinase. II. Substrate andcofactor specificity. J. Biol. Chem. (1959) 234, 2129-2132.',\n",
       "  '<3> Ishida, M.: Comparative studies on BHC metabolizing enzymes, DDTdehydrochlorinase and glutathione S-transferases. Agric. Biol. Chem.',\n",
       "  '<4> Dinamarca, M.L.; Levenbook, L.; Valdes, E.: DDT-dehydrochlorinase.II. Subunits, sulfhydryl groups, and chemical composition. Arch.',\n",
       "  '<5> Chadwick, R.W.; Chang, J.; Forehand, L.R.; Long, J.E.; Duffy, M.C.:Effect of lindane on intestinal nitroreductase, azoreductase,',\n",
       "  '<6> Chang, J.; Chadwick, R.W.; Allison, J.C.; Hayes, Y.O.; Talley,D.L.; Autry, C.E.: Microbial succession and intestinal enzyme',\n",
       "  '<7> Ranson, H.; Rossiter, L.; Ortelli, F.; Jensen, B.; Wang, X.; Roth,C.W.; Collins, F.H.; Hemingway, J.: Identification of a novel class of',\n",
       "  '<8> Prapanthadara, L.; Promtet, N.; Koottathep, S.; Somboon, P.;Ketterman, A.J.: Isoenzymes of glutathione S-transferase from the',\n",
       "  '<9> Prapanthadara, L.; Koottathep, S.; Promtet, N.; Suwonkerd, W.;Ketterman, A.J.; Somboon, P.: Correlation of glutathione S-transferase',\n",
       "  '<10> Latha, R.; Mandappa, I.; Thakur, M.; Manonmani, H.: Effect ofdenaturants on the structure and activity of DDT-dehydrochlorinase.',\n",
       "  '<11> Lumjuan, N.; Rajatileka, S.; Changsom, D.; Wicheer, J.; Leelapat,P.; Prapanthadara, L.A.; Somboon, P.; Lycett, G.; Ranson, H.: The role',\n",
       "  '<12> Rangachary, L.; Rajagopalan, R.P.; Singh, T.M.; Krishnan, M.H.:Purification and characterization of DDT-dehydrohalogenase from'],\n",
       " 'RN': ['DDT-dehydrochlorinase'],\n",
       " 'RT': ['elimination'],\n",
       " 'SA': ['#1,4# -999.0 (#1# anaerobic incubation <6>) <1,5,6>',\n",
       "  '#9# 0.149 (#9# pH 6.5, 22°C <8>) <8>'],\n",
       " 'SN': ['1,1,1-trichloro-2,2-bis(4-chlorophenyl)ethane chloride-lyase[1,1-dichloro-2,2-bis(4-chlorophenyl)ethylene-forming]'],\n",
       " 'SP': ['#1,3,4,5,6,7,8,9# 1,1,1-trichloro-2,2-bis(4-chlorophenyl)ethane =1,1-dichloro-2,2-bis(4-chlorophenyl)ethylene + HCl (#4#',\n",
       "  '#1,3,4,5,6,7,8,9# 1,1,1-trichloro-2,2-bis(4-chlorophenyl)ethane =1,1-dichloro-2,2-bis(4-chlorophenyl)ethylene + HCl (#4#',\n",
       "  '#1,3,4,5,6,7,8,9# 1,1,1-trichloro-2,2-bis(4-chlorophenyl)ethane =1,1-dichloro-2,2-bis(4-chlorophenyl)ethylene + HCl (#4#',\n",
       "  '#1,4# 1,1,1-trichloro-2,2-bis(4-chlorophenyl)ethane = ? {} <1,2,3,4,5,6>',\n",
       "  '#2# 1,1,1-trichloro-2,2-bis(4-chlorophenyl)ethane =1,1-dichloro-2,2-bis(4-chlorophenyl)ethylene + chloride <12>',\n",
       "  '#4# 1,1-dichloro-2,2-bis(4-chlorophenyl)ethane =1-chloro-2,2-bis(4-chlorophenyl)ethylene + HCl (#4# i.e. TDE, reaction',\n",
       "  '#4# 1,1,1-trichloro-2,2-bis(4-bromophenyl)ethane = ? + HCl <2>',\n",
       "  '#4# 1,1,1-trichloro-2,2-bis(4-fluorophenyl)ethane = ? + HCl <2>',\n",
       "  '#4# 1,1,1-trichloro-2,2-bis(4-tolyl)ethane = ? + HCl <2>',\n",
       "  '#4# 1,1,1-trichloro-2,2-bis(4-methoxyphenyl)ethane = ? + HCl <2>',\n",
       "  '#4# 1,1,1-trichloro-2,2-bis(4-iodophenyl)ethane = ? + HCl <2>'],\n",
       " 'SS': ['#4# (instability of the enzyme to freezing and thawing) <1>'],\n",
       " 'ST': ['#1# small intestine <5,6>',\n",
       "  '#1# cecum <5,6>',\n",
       "  '#1# large intestine <6>',\n",
       "  '#3# larva <11>',\n",
       "  '#3# pupa <11>',\n",
       "  '#3# adult <11>'],\n",
       " 'SU': ['#2# monomer (#2# 1 * 37000, SDS-PAGE <12>) <12>',\n",
       "  '#2# More (#2# mass spectrometric sequence canalysis <12>) <12>',\n",
       "  '#4# trimer (#4# the trimeric enzyme is 10% as active as the tetramericform <4>) <4>',\n",
       "  '#4# tetramer (#4# 1,1,1-trichloro-2,2-bis(4-chlorophenyl)ethane inducesaggregation of the enzyme into the active tetrameric form <4>; #4# 4 *'],\n",
       " 'SY': [' DDT-ase',\n",
       "  ' dehydrochlorinase',\n",
       "  '#2# DDT-dehydrohalogenase <12>',\n",
       "  '#3# DDT dehydrochlorinase <11>',\n",
       "  '#3# GSTE2-2 (#3# isoform <11>) <11>',\n",
       "  '#3# GSTE5-5 (#3# isoform <11>) <11>',\n",
       "  '#5,7,8# DDTase <9>'],\n",
       " 'TN': ['#2# 0.113 {1,1,1-trichloro-2,2-bis(4-chlorophenyl)ethane}  (#2# pH 7.0,37°C <12>) <12>',\n",
       "  '#4# 0.0383 {1,1,1-trichloro-2,2-bis(4-chlorophenyl)ethane}  <1>'],\n",
       " 'TO': ['#2# 37 <12>'],\n",
       " 'TS': ['#2# 37 (#2# purified native enzyme, pH 7.0, stable for 4-5 h <12>) <12>']}"
      ]
     },
     "execution_count": 12,
     "metadata": {},
     "output_type": "execute_result"
    }
   ],
   "source": [
    "br_data"
   ]
  },
  {
   "cell_type": "code",
   "execution_count": 50,
   "metadata": {
    "ExecuteTime": {
     "end_time": "2018-04-24T02:29:30.404371Z",
     "start_time": "2018-04-24T02:29:30.378990Z"
    }
   },
   "outputs": [],
   "source": []
  },
  {
   "cell_type": "code",
   "execution_count": 51,
   "metadata": {
    "ExecuteTime": {
     "end_time": "2018-04-24T02:29:30.926021Z",
     "start_time": "2018-04-24T02:29:30.873298Z"
    }
   },
   "outputs": [],
   "source": []
  },
  {
   "cell_type": "code",
   "execution_count": null,
   "metadata": {},
   "outputs": [],
   "source": []
  }
 ],
 "metadata": {
  "kernelspec": {
   "display_name": "Python 3",
   "language": "python",
   "name": "python3"
  },
  "language_info": {
   "codemirror_mode": {
    "name": "ipython",
    "version": 3
   },
   "file_extension": ".py",
   "mimetype": "text/x-python",
   "name": "python",
   "nbconvert_exporter": "python",
   "pygments_lexer": "ipython3",
   "version": "3.6.1"
  }
 },
 "nbformat": 4,
 "nbformat_minor": 2
}
