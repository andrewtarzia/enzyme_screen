{
 "cells": [
  {
   "cell_type": "code",
   "execution_count": 1,
   "metadata": {
    "ExecuteTime": {
     "end_time": "2018-04-24T03:23:21.198022Z",
     "start_time": "2018-04-24T03:23:21.178006Z"
    }
   },
   "outputs": [
    {
     "data": {
      "text/html": [
       "<style>.container { width:95% !important; }</style>"
      ],
      "text/plain": [
       "<IPython.core.display.HTML object>"
      ]
     },
     "metadata": {},
     "output_type": "display_data"
    }
   ],
   "source": [
    "from IPython.core.display import HTML\n",
    "display(HTML(\"<style>.container { width:95% !important; }</style>\"))   "
   ]
  },
  {
   "cell_type": "markdown",
   "metadata": {},
   "source": [
    "Author: Andrew Tarzia\n",
    "\n",
    "Date Created: 12 Feb 2018\n",
    "\n",
    "License:"
   ]
  },
  {
   "cell_type": "markdown",
   "metadata": {},
   "source": [
    "# Notebook for screening BRENDA database post pI screening\n",
    "\n",
    "TODO:\n",
    "- take BRENDA files and split into property specific files using code in python script\n",
    "- filter out proteins based on BRENDA information\n",
    "- collect product and substrate names\n",
    "- output\n",
    "- turn notebook into presentation of process for an example.\n",
    "- move to scripts\n",
    "    - generalise to running in current working dir\n",
    "    - add license"
   ]
  },
  {
   "cell_type": "code",
   "execution_count": 2,
   "metadata": {
    "ExecuteTime": {
     "end_time": "2018-04-24T03:23:22.780934Z",
     "start_time": "2018-04-24T03:23:22.235371Z"
    }
   },
   "outputs": [],
   "source": [
    "import os\n",
    "import pandas as pd\n",
    "import glob\n",
    "import matplotlib.pyplot as plt\n",
    "from Bio import SeqIO\n",
    "from Bio.SeqUtils.ProtParam import ProteinAnalysis\n",
    "import time\n",
    "import numpy as np\n",
    "from shutil import copyfile"
   ]
  },
  {
   "cell_type": "code",
   "execution_count": 3,
   "metadata": {
    "ExecuteTime": {
     "end_time": "2018-04-24T03:23:22.788561Z",
     "start_time": "2018-04-24T03:23:22.782599Z"
    }
   },
   "outputs": [],
   "source": [
    "# my imports\n",
    "source_dir = '/home/atarzia/psp/psp_source/'\n",
    "os.chdir(source_dir)\n",
    "import brenda_IO"
   ]
  },
  {
   "cell_type": "markdown",
   "metadata": {},
   "source": [
    "# Notes:\n"
   ]
  },
  {
   "cell_type": "code",
   "execution_count": 4,
   "metadata": {
    "ExecuteTime": {
     "end_time": "2018-04-24T03:23:23.602670Z",
     "start_time": "2018-04-24T03:23:23.505926Z"
    }
   },
   "outputs": [],
   "source": [
    "# get parameters\n",
    "source_dir = '/home/atarzia/psp/psp_source/'\n",
    "os.chdir(source_dir)\n",
    "%run ./parameter_file.py\n",
    "param_dict = get_parameters()\n",
    "\n",
    "# input parameters\n",
    "database_directory = '/home/atarzia/psp/sequence_db/test_dataset/'\n",
    "database_directory = '/home/atarzia/psp/sequence_db/linb_dataset/'\n",
    "\n",
    "os.chdir(database_directory)\n",
    "# get input FASTA file names\n",
    "database_names = []\n",
    "for i in glob.glob(\"*fasta\"):\n",
    "    if \"_mod\" not in i:\n",
    "        database_names.append(i)\n",
    "\n",
    "# output CSV file\n",
    "redo_pi = True\n",
    "if redo_pi is True:\n",
    "    string = ''\n",
    "    for i in param_dict['out_columns_br']:\n",
    "        if i == param_dict['out_columns_br'][-1]:\n",
    "            string += i\n",
    "        else:\n",
    "            string += i+','\n",
    "    string += '\\n'\n",
    "    with open(param_dict['out_CSV_br'], 'w') as f:\n",
    "        f.write(string)"
   ]
  },
  {
   "cell_type": "code",
   "execution_count": 5,
   "metadata": {
    "ExecuteTime": {
     "end_time": "2018-04-24T03:23:23.871893Z",
     "start_time": "2018-04-24T03:23:23.716959Z"
    }
   },
   "outputs": [
    {
     "name": "stdout",
     "output_type": "stream",
     "text": [
      "=====================================================================\n",
      "                     Screening enzymes with Brenda!                  \n",
      "=====================================================================\n",
      "---  1429 proteins out of 2262 remain, OR 63 % ---\n",
      "4.5.1.1\n",
      "brenda_download_4_5_1_1.txt\n",
      "fasta_file      4_5_1_1__BRENDA_sequences.fasta\n",
      "acc.code                                Q93112 \n",
      "organism                 DDT-dehydrochlorinase \n",
      "EC.code                                4.5.1.1 \n",
      "species                      Anopheles gambiae \n",
      "note                                 Swiss-Prot\n",
      "pi                                         5.84\n",
      "modification                                  0\n",
      "category                                      0\n",
      "Name: 0, dtype: object\n",
      "--- finished 0 proteins in 0.00 seconds ---\n",
      "=====================================================================\n",
      "                              Complete!                              \n",
      "=====================================================================\n"
     ]
    }
   ],
   "source": [
    "print('=====================================================================')\n",
    "print('                     Screening enzymes with Brenda!                  ')\n",
    "print('=====================================================================')\n",
    "# read in pI output file\n",
    "pi_data = pd.read_csv(param_dict['out_CSV_pi'], index_col=False)\n",
    "# only keep those that pass the pI test\n",
    "pi_passed_data = pi_data[pi_data['pi'] < param_dict['cutoff_pi']]\n",
    "print('--- ', \n",
    "      len(pi_passed_data), 'proteins out of', len(pi_data), \n",
    "      'remain, OR', int(len(pi_passed_data)/len(pi_data)*100),\n",
    "      \"% ---\")\n",
    "# for each FASTA file\n",
    "count_done = 0\n",
    "total_start_time = time.time()\n",
    "for i, row in pi_passed_data.iterrows():\n",
    "    EC = row['EC.code'].replace(\" \", \"\")\n",
    "    EC_ = EC.replace(\".\", \"_\")\n",
    "    # get brenda data file\n",
    "    br_datafile = 'brenda_download_'+EC_+'.txt'\n",
    "    if os.path.isfile(br_datafile) is False:\n",
    "        src = param_dict['BRENDA_DB_loc']+br_datafile\n",
    "        des = database_directory+br_datafile\n",
    "        copyfile(src, des)\n",
    "    print(EC)\n",
    "    print(br_datafile)\n",
    "    print(row)\n",
    "    # convert br_datafile into dictionary\n",
    "    br_symbols, br_data = brenda_IO.get_brenda_dict(br_datafile)\n",
    "    # collect protein assocoiated with species of FASTA file\n",
    "    \n",
    "    \n",
    "    break\n",
    "    \n",
    "print('--- finished %s proteins in %s seconds ---' % (count_done, '{0:.2f}'.format(time.time() - total_start_time)))\n",
    "print('=====================================================================')\n",
    "print('                              Complete!                              ')\n",
    "print('=====================================================================')"
   ]
  },
  {
   "cell_type": "code",
   "execution_count": 6,
   "metadata": {
    "ExecuteTime": {
     "end_time": "2018-04-24T03:23:30.282751Z",
     "start_time": "2018-04-24T03:23:30.277471Z"
    }
   },
   "outputs": [
    {
     "data": {
      "text/plain": [
       "['#1# Rattus norvegicus   (#1# isoform CYP79D4 <5,6>) <5,6>',\n",
       " '#2# Pseudomonas putida   <10,12>',\n",
       " '#3# Aedes aegypti   <11>',\n",
       " '#4# Musca domestica   (#4# isoform CYP79D1 <4>; #4# isoform CYP79D2<3>; #4# isoform CYP79D3 <1,2,3,4>) <1,2,3,4>',\n",
       " '#5# Culex quinquefasciatus   <9>',\n",
       " '#6# Anopheles gambiae   <7>',\n",
       " '#7# Anopheles minimus   <9>',\n",
       " '#8# Anopheles annularis   <9>',\n",
       " '#9# Anopheles dirus   <8>']"
      ]
     },
     "execution_count": 6,
     "metadata": {},
     "output_type": "execute_result"
    }
   ],
   "source": [
    "br_data['PR']"
   ]
  },
  {
   "cell_type": "code",
   "execution_count": 7,
   "metadata": {
    "ExecuteTime": {
     "end_time": "2018-04-24T03:23:31.596952Z",
     "start_time": "2018-04-24T03:23:31.591376Z"
    }
   },
   "outputs": [
    {
     "name": "stdout",
     "output_type": "stream",
     "text": [
      "#6# Anopheles gambiae   <7>\n"
     ]
    }
   ],
   "source": [
    "for prot in br_data['PR']:\n",
    "    if row['species'] in prot:\n",
    "        print(prot)"
   ]
  },
  {
   "cell_type": "code",
   "execution_count": 10,
   "metadata": {
    "ExecuteTime": {
     "end_time": "2018-04-24T03:35:22.407161Z",
     "start_time": "2018-04-24T03:35:22.367632Z"
    }
   },
   "outputs": [
    {
     "data": {
      "text/html": [
       "<div>\n",
       "<style scoped>\n",
       "    .dataframe tbody tr th:only-of-type {\n",
       "        vertical-align: middle;\n",
       "    }\n",
       "\n",
       "    .dataframe tbody tr th {\n",
       "        vertical-align: top;\n",
       "    }\n",
       "\n",
       "    .dataframe thead th {\n",
       "        text-align: right;\n",
       "    }\n",
       "</style>\n",
       "<table border=\"1\" class=\"dataframe\">\n",
       "  <thead>\n",
       "    <tr style=\"text-align: right;\">\n",
       "      <th></th>\n",
       "      <th>fasta_file</th>\n",
       "      <th>acc.code</th>\n",
       "      <th>organism</th>\n",
       "      <th>EC.code</th>\n",
       "      <th>species</th>\n",
       "      <th>note</th>\n",
       "      <th>pi</th>\n",
       "      <th>modification</th>\n",
       "      <th>category</th>\n",
       "    </tr>\n",
       "  </thead>\n",
       "  <tbody>\n",
       "    <tr>\n",
       "      <th>0</th>\n",
       "      <td>4_5_1_1__BRENDA_sequences.fasta</td>\n",
       "      <td>Q93112</td>\n",
       "      <td>DDT-dehydrochlorinase</td>\n",
       "      <td>4.5.1.1</td>\n",
       "      <td>Anopheles gambiae</td>\n",
       "      <td>Swiss-Prot</td>\n",
       "      <td>5.84</td>\n",
       "      <td>0</td>\n",
       "      <td>0</td>\n",
       "    </tr>\n",
       "    <tr>\n",
       "      <th>1</th>\n",
       "      <td>4_5_1_1__BRENDA_sequences.fasta</td>\n",
       "      <td>Q93113</td>\n",
       "      <td>DDT-dehydrochlorinase</td>\n",
       "      <td>4.5.1.1</td>\n",
       "      <td>Anopheles gambiae</td>\n",
       "      <td>Swiss-Prot</td>\n",
       "      <td>5.94</td>\n",
       "      <td>0</td>\n",
       "      <td>0</td>\n",
       "    </tr>\n",
       "    <tr>\n",
       "      <th>2</th>\n",
       "      <td>4_5_1_1__BRENDA_sequences.fasta</td>\n",
       "      <td>P30104</td>\n",
       "      <td>DDT-dehydrochlorinase</td>\n",
       "      <td>4.5.1.1</td>\n",
       "      <td>Drosophila erecta</td>\n",
       "      <td>Swiss-Prot</td>\n",
       "      <td>6.61</td>\n",
       "      <td>0</td>\n",
       "      <td>1</td>\n",
       "    </tr>\n",
       "    <tr>\n",
       "      <th>3</th>\n",
       "      <td>4_5_1_1__BRENDA_sequences.fasta</td>\n",
       "      <td>P30104</td>\n",
       "      <td>DDT-dehydrochlorinase</td>\n",
       "      <td>4.5.1.1</td>\n",
       "      <td>Drosophila erecta</td>\n",
       "      <td>Swiss-Prot</td>\n",
       "      <td>3.62</td>\n",
       "      <td>1</td>\n",
       "      <td>0</td>\n",
       "    </tr>\n",
       "    <tr>\n",
       "      <th>4</th>\n",
       "      <td>4_5_1_1__BRENDA_sequences.fasta</td>\n",
       "      <td>P67804</td>\n",
       "      <td>DDT-dehydrochlorinase</td>\n",
       "      <td>4.5.1.1</td>\n",
       "      <td>Drosophila mauritiana</td>\n",
       "      <td>Swiss-Prot</td>\n",
       "      <td>8.32</td>\n",
       "      <td>0</td>\n",
       "      <td>1</td>\n",
       "    </tr>\n",
       "    <tr>\n",
       "      <th>5</th>\n",
       "      <td>4_5_1_1__BRENDA_sequences.fasta</td>\n",
       "      <td>P67804</td>\n",
       "      <td>DDT-dehydrochlorinase</td>\n",
       "      <td>4.5.1.1</td>\n",
       "      <td>Drosophila mauritiana</td>\n",
       "      <td>Swiss-Prot</td>\n",
       "      <td>3.66</td>\n",
       "      <td>1</td>\n",
       "      <td>0</td>\n",
       "    </tr>\n",
       "    <tr>\n",
       "      <th>6</th>\n",
       "      <td>4_5_1_1__BRENDA_sequences.fasta</td>\n",
       "      <td>P30106</td>\n",
       "      <td>DDT-dehydrochlorinase</td>\n",
       "      <td>4.5.1.1</td>\n",
       "      <td>Drosophila sechellia</td>\n",
       "      <td>Swiss-Prot</td>\n",
       "      <td>7.62</td>\n",
       "      <td>0</td>\n",
       "      <td>1</td>\n",
       "    </tr>\n",
       "    <tr>\n",
       "      <th>7</th>\n",
       "      <td>4_5_1_1__BRENDA_sequences.fasta</td>\n",
       "      <td>P30106</td>\n",
       "      <td>DDT-dehydrochlorinase</td>\n",
       "      <td>4.5.1.1</td>\n",
       "      <td>Drosophila sechellia</td>\n",
       "      <td>Swiss-Prot</td>\n",
       "      <td>3.70</td>\n",
       "      <td>1</td>\n",
       "      <td>0</td>\n",
       "    </tr>\n",
       "    <tr>\n",
       "      <th>8</th>\n",
       "      <td>4_5_1_1__BRENDA_sequences.fasta</td>\n",
       "      <td>P67805</td>\n",
       "      <td>DDT-dehydrochlorinase</td>\n",
       "      <td>4.5.1.1</td>\n",
       "      <td>Drosophila simulans</td>\n",
       "      <td>Swiss-Prot</td>\n",
       "      <td>6.74</td>\n",
       "      <td>0</td>\n",
       "      <td>1</td>\n",
       "    </tr>\n",
       "    <tr>\n",
       "      <th>9</th>\n",
       "      <td>4_5_1_1__BRENDA_sequences.fasta</td>\n",
       "      <td>P67805</td>\n",
       "      <td>DDT-dehydrochlorinase</td>\n",
       "      <td>4.5.1.1</td>\n",
       "      <td>Drosophila simulans</td>\n",
       "      <td>Swiss-Prot</td>\n",
       "      <td>3.62</td>\n",
       "      <td>1</td>\n",
       "      <td>0</td>\n",
       "    </tr>\n",
       "    <tr>\n",
       "      <th>10</th>\n",
       "      <td>4_5_1_1__BRENDA_sequences.fasta</td>\n",
       "      <td>P30107</td>\n",
       "      <td>DDT-dehydrochlorinase</td>\n",
       "      <td>4.5.1.1</td>\n",
       "      <td>Drosophila teissieri</td>\n",
       "      <td>Swiss-Prot</td>\n",
       "      <td>7.80</td>\n",
       "      <td>0</td>\n",
       "      <td>1</td>\n",
       "    </tr>\n",
       "    <tr>\n",
       "      <th>11</th>\n",
       "      <td>4_5_1_1__BRENDA_sequences.fasta</td>\n",
       "      <td>P30107</td>\n",
       "      <td>DDT-dehydrochlorinase</td>\n",
       "      <td>4.5.1.1</td>\n",
       "      <td>Drosophila teissieri</td>\n",
       "      <td>Swiss-Prot</td>\n",
       "      <td>3.65</td>\n",
       "      <td>1</td>\n",
       "      <td>0</td>\n",
       "    </tr>\n",
       "    <tr>\n",
       "      <th>12</th>\n",
       "      <td>4_5_1_1__BRENDA_sequences.fasta</td>\n",
       "      <td>P20432</td>\n",
       "      <td>DDT-dehydrochlorinase</td>\n",
       "      <td>4.5.1.1</td>\n",
       "      <td>Drosophila melanogaster</td>\n",
       "      <td>Swiss-Prot</td>\n",
       "      <td>7.61</td>\n",
       "      <td>0</td>\n",
       "      <td>1</td>\n",
       "    </tr>\n",
       "    <tr>\n",
       "      <th>13</th>\n",
       "      <td>4_5_1_1__BRENDA_sequences.fasta</td>\n",
       "      <td>P20432</td>\n",
       "      <td>DDT-dehydrochlorinase</td>\n",
       "      <td>4.5.1.1</td>\n",
       "      <td>Drosophila melanogaster</td>\n",
       "      <td>Swiss-Prot</td>\n",
       "      <td>3.69</td>\n",
       "      <td>1</td>\n",
       "      <td>0</td>\n",
       "    </tr>\n",
       "    <tr>\n",
       "      <th>14</th>\n",
       "      <td>4_5_1_1__BRENDA_sequences.fasta</td>\n",
       "      <td>A0A088B1G7</td>\n",
       "      <td>DDT-dehydrochlorinase</td>\n",
       "      <td>4.5.1.1</td>\n",
       "      <td>Agromyces mediolanus</td>\n",
       "      <td>TrEMBL</td>\n",
       "      <td>5.30</td>\n",
       "      <td>0</td>\n",
       "      <td>0</td>\n",
       "    </tr>\n",
       "  </tbody>\n",
       "</table>\n",
       "</div>"
      ],
      "text/plain": [
       "                         fasta_file     acc.code                 organism  \\\n",
       "0   4_5_1_1__BRENDA_sequences.fasta      Q93112    DDT-dehydrochlorinase    \n",
       "1   4_5_1_1__BRENDA_sequences.fasta      Q93113    DDT-dehydrochlorinase    \n",
       "2   4_5_1_1__BRENDA_sequences.fasta      P30104    DDT-dehydrochlorinase    \n",
       "3   4_5_1_1__BRENDA_sequences.fasta      P30104    DDT-dehydrochlorinase    \n",
       "4   4_5_1_1__BRENDA_sequences.fasta      P67804    DDT-dehydrochlorinase    \n",
       "5   4_5_1_1__BRENDA_sequences.fasta      P67804    DDT-dehydrochlorinase    \n",
       "6   4_5_1_1__BRENDA_sequences.fasta      P30106    DDT-dehydrochlorinase    \n",
       "7   4_5_1_1__BRENDA_sequences.fasta      P30106    DDT-dehydrochlorinase    \n",
       "8   4_5_1_1__BRENDA_sequences.fasta      P67805    DDT-dehydrochlorinase    \n",
       "9   4_5_1_1__BRENDA_sequences.fasta      P67805    DDT-dehydrochlorinase    \n",
       "10  4_5_1_1__BRENDA_sequences.fasta      P30107    DDT-dehydrochlorinase    \n",
       "11  4_5_1_1__BRENDA_sequences.fasta      P30107    DDT-dehydrochlorinase    \n",
       "12  4_5_1_1__BRENDA_sequences.fasta      P20432    DDT-dehydrochlorinase    \n",
       "13  4_5_1_1__BRENDA_sequences.fasta      P20432    DDT-dehydrochlorinase    \n",
       "14  4_5_1_1__BRENDA_sequences.fasta  A0A088B1G7    DDT-dehydrochlorinase    \n",
       "\n",
       "      EC.code                    species         note    pi  modification  \\\n",
       "0    4.5.1.1          Anopheles gambiae    Swiss-Prot  5.84             0   \n",
       "1    4.5.1.1          Anopheles gambiae    Swiss-Prot  5.94             0   \n",
       "2    4.5.1.1          Drosophila erecta    Swiss-Prot  6.61             0   \n",
       "3    4.5.1.1          Drosophila erecta    Swiss-Prot  3.62             1   \n",
       "4    4.5.1.1      Drosophila mauritiana    Swiss-Prot  8.32             0   \n",
       "5    4.5.1.1      Drosophila mauritiana    Swiss-Prot  3.66             1   \n",
       "6    4.5.1.1       Drosophila sechellia    Swiss-Prot  7.62             0   \n",
       "7    4.5.1.1       Drosophila sechellia    Swiss-Prot  3.70             1   \n",
       "8    4.5.1.1        Drosophila simulans    Swiss-Prot  6.74             0   \n",
       "9    4.5.1.1        Drosophila simulans    Swiss-Prot  3.62             1   \n",
       "10   4.5.1.1       Drosophila teissieri    Swiss-Prot  7.80             0   \n",
       "11   4.5.1.1       Drosophila teissieri    Swiss-Prot  3.65             1   \n",
       "12   4.5.1.1    Drosophila melanogaster    Swiss-Prot  7.61             0   \n",
       "13   4.5.1.1    Drosophila melanogaster    Swiss-Prot  3.69             1   \n",
       "14   4.5.1.1       Agromyces mediolanus        TrEMBL  5.30             0   \n",
       "\n",
       "    category  \n",
       "0          0  \n",
       "1          0  \n",
       "2          1  \n",
       "3          0  \n",
       "4          1  \n",
       "5          0  \n",
       "6          1  \n",
       "7          0  \n",
       "8          1  \n",
       "9          0  \n",
       "10         1  \n",
       "11         0  \n",
       "12         1  \n",
       "13         0  \n",
       "14         0  "
      ]
     },
     "execution_count": 10,
     "metadata": {},
     "output_type": "execute_result"
    }
   ],
   "source": [
    "pi_data[pi_data['EC.code'] == ' 4.5.1.1 ']"
   ]
  },
  {
   "cell_type": "code",
   "execution_count": 51,
   "metadata": {
    "ExecuteTime": {
     "end_time": "2018-04-24T02:29:30.926021Z",
     "start_time": "2018-04-24T02:29:30.873298Z"
    }
   },
   "outputs": [],
   "source": []
  },
  {
   "cell_type": "code",
   "execution_count": null,
   "metadata": {},
   "outputs": [],
   "source": []
  }
 ],
 "metadata": {
  "kernelspec": {
   "display_name": "Python 3",
   "language": "python",
   "name": "python3"
  },
  "language_info": {
   "codemirror_mode": {
    "name": "ipython",
    "version": 3
   },
   "file_extension": ".py",
   "mimetype": "text/x-python",
   "name": "python",
   "nbconvert_exporter": "python",
   "pygments_lexer": "ipython3",
   "version": "3.6.1"
  }
 },
 "nbformat": 4,
 "nbformat_minor": 2
}
