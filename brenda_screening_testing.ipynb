{
 "cells": [
  {
   "cell_type": "code",
   "execution_count": 2,
   "metadata": {
    "ExecuteTime": {
     "end_time": "2018-08-05T12:13:27.167563Z",
     "start_time": "2018-08-05T12:13:27.154014Z"
    }
   },
   "outputs": [
    {
     "data": {
      "text/html": [
       "<style>.container { width:95% !important; }</style>"
      ],
      "text/plain": [
       "<IPython.core.display.HTML object>"
      ]
     },
     "metadata": {},
     "output_type": "display_data"
    },
    {
     "name": "stdout",
     "output_type": "stream",
     "text": [
      "The autoreload extension is already loaded. To reload it, use:\n",
      "  %reload_ext autoreload\n"
     ]
    }
   ],
   "source": [
    "from IPython.core.display import HTML\n",
    "display(HTML(\"<style>.container { width:95% !important; }</style>\"))   \n",
    "%load_ext autoreload\n",
    "%autoreload 1"
   ]
  },
  {
   "cell_type": "markdown",
   "metadata": {},
   "source": [
    "Author: Andrew Tarzia\n",
    "\n",
    "Date Created: 12 Feb 2018\n",
    "\n",
    "License:"
   ]
  },
  {
   "cell_type": "markdown",
   "metadata": {},
   "source": [
    "# Notebook for screening BRENDA database post pI screening\n",
    "\n",
    "TODO:\n",
    "- take BRENDA files and split into property specific files using code in python script\n",
    "- filter out proteins based on BRENDA information\n",
    "- collect product and substrate names\n",
    "- output\n",
    "- turn notebook into presentation of process for an example.\n",
    "- move to scripts\n",
    "    - generalise to running in current working dir\n",
    "    - add license"
   ]
  },
  {
   "cell_type": "code",
   "execution_count": 3,
   "metadata": {
    "ExecuteTime": {
     "end_time": "2018-08-05T12:13:28.374602Z",
     "start_time": "2018-08-05T12:13:27.819882Z"
    }
   },
   "outputs": [],
   "source": [
    "import os\n",
    "import pandas as pd\n",
    "import glob\n",
    "import matplotlib.pyplot as plt\n",
    "from Bio import SeqIO\n",
    "from Bio.SeqUtils.ProtParam import ProteinAnalysis\n",
    "import time\n",
    "import numpy as np\n",
    "from shutil import copyfile\n",
    "%aimport parameters\n",
    "%aimport brenda_IO"
   ]
  },
  {
   "cell_type": "markdown",
   "metadata": {},
   "source": [
    "# Notes:\n"
   ]
  },
  {
   "cell_type": "code",
   "execution_count": 4,
   "metadata": {
    "ExecuteTime": {
     "end_time": "2018-08-05T12:14:31.708628Z",
     "start_time": "2018-08-05T12:14:31.682934Z"
    }
   },
   "outputs": [],
   "source": [
    "# get parameters\n",
    "param_dict = parameters.get_parameters()\n",
    "\n",
    "# input parameters\n",
    "database_directory = '/home/atarzia/psp/sequence_db/test_dataset/'\n",
    "# database_directory = '/home/atarzia/psp/sequence_db/linb_dataset/'\n",
    "\n",
    "output_dir = database_directory\n",
    "\n",
    "# get input FASTA file names\n",
    "database_names = []\n",
    "for i in glob.glob(\"*fasta\"):\n",
    "    if \"_mod\" not in i:\n",
    "        database_names.append(i)\n",
    "\n",
    "# output CSV file\n",
    "redo_pi = True\n",
    "if redo_pi is True:\n",
    "    string = ''\n",
    "    for i in param_dict['out_columns_br']:\n",
    "        if i == param_dict['out_columns_br'][-1]:\n",
    "            string += i\n",
    "        else:\n",
    "            string += i+','\n",
    "    string += '\\n'\n",
    "    with open(output_dir+param_dict['out_CSV_br'], 'w') as f:\n",
    "        f.write(string)"
   ]
  },
  {
   "cell_type": "code",
   "execution_count": 11,
   "metadata": {
    "ExecuteTime": {
     "end_time": "2018-08-05T12:30:37.317192Z",
     "start_time": "2018-08-05T12:30:37.189041Z"
    }
   },
   "outputs": [
    {
     "name": "stdout",
     "output_type": "stream",
     "text": [
      "=====================================================================\n",
      "                     Screening enzymes with Brenda!                  \n",
      "=====================================================================\n",
      "---  2440 proteins out of 2750 remain, OR 88 % ---\n",
      "6.6.1.2\n",
      "brenda_download_6_6_1_2.txt\n",
      "fasta_file      /home/atarzia/psp/sequence_db/test_dataset/6_6...\n",
      "acc.code                                                  P29933 \n",
      "organism                                        cobaltochelatase \n",
      "EC.code                                                  6.6.1.2 \n",
      "species                                Pseudomonas denitrificans \n",
      "note                                                   Swiss-Prot\n",
      "pi                                                           5.69\n",
      "modification                                                    0\n",
      "category                                                        0\n",
      "Name: 0, dtype: object\n",
      "--- finished 0 proteins in 0.00 seconds ---\n",
      "=====================================================================\n",
      "                              Complete!                              \n",
      "=====================================================================\n"
     ]
    }
   ],
   "source": [
    "print('=====================================================================')\n",
    "print('                     Screening enzymes with Brenda!                  ')\n",
    "print('=====================================================================')\n",
    "# read in pI output file\n",
    "pi_data = pd.read_csv(output_dir+param_dict['out_CSV_pi'], index_col=False)\n",
    "# only keep those that pass the pI test\n",
    "pi_passed_data = pi_data[pi_data['pi'] < param_dict['cutoff_pi']]\n",
    "print('--- ', \n",
    "      len(pi_passed_data), 'proteins out of', len(pi_data), \n",
    "      'remain, OR', int(len(pi_passed_data)/len(pi_data)*100),\n",
    "      \"% ---\")\n",
    "# for each FASTA file\n",
    "count_done = 0\n",
    "total_start_time = time.time()\n",
    "for i, row in pi_passed_data.iterrows():\n",
    "    EC = row['EC.code'].replace(\" \", \"\")\n",
    "    EC_ = EC.replace(\".\", \"_\")\n",
    "    # get brenda data file\n",
    "    br_datafile = 'brenda_download_'+EC_+'.txt'\n",
    "    if os.path.isfile(br_datafile) is False:\n",
    "        src = param_dict['BRENDA_DB_loc']+br_datafile\n",
    "        des = database_directory+br_datafile\n",
    "        copyfile(src, des)\n",
    "    print(EC)\n",
    "    print(br_datafile)\n",
    "    print(row)\n",
    "    # convert br_datafile into dictionary\n",
    "    br_symbols, br_data = brenda_IO.get_brenda_dict(database_directory+br_datafile)\n",
    "    # collect protein assocoiated with species of FASTA file\n",
    "    \n",
    "    \n",
    "    break\n",
    "    \n",
    "print('--- finished %s proteins in %s seconds ---' % (count_done, '{0:.2f}'.format(time.time() - total_start_time)))\n",
    "print('=====================================================================')\n",
    "print('                              Complete!                              ')\n",
    "print('=====================================================================')"
   ]
  },
  {
   "cell_type": "code",
   "execution_count": 13,
   "metadata": {
    "ExecuteTime": {
     "end_time": "2018-08-05T12:30:41.431570Z",
     "start_time": "2018-08-05T12:30:41.427702Z"
    }
   },
   "outputs": [
    {
     "data": {
      "text/plain": [
       "['#1# Pseudomonas denitrificans (nomen rejiciendum)   <1>',\n",
       " '#2# Salmonella enterica   <4>',\n",
       " '#3# Desulfovibrio vulgaris   <4>',\n",
       " '#4# Brucella melitensis   <3>',\n",
       " '#5# Pseudomonas denitrificans (nomen rejiciendum) P29933 AND P29934 ANDQ9HZQ3 AND P29929']"
      ]
     },
     "execution_count": 13,
     "metadata": {},
     "output_type": "execute_result"
    }
   ],
   "source": [
    "br_data['PR']"
   ]
  },
  {
   "cell_type": "code",
   "execution_count": 14,
   "metadata": {
    "ExecuteTime": {
     "end_time": "2018-08-05T12:30:43.944406Z",
     "start_time": "2018-08-05T12:30:43.917598Z"
    }
   },
   "outputs": [
    {
     "name": "stdout",
     "output_type": "stream",
     "text": [
      "#1# Pseudomonas denitrificans (nomen rejiciendum)   <1>\n",
      "#5# Pseudomonas denitrificans (nomen rejiciendum) P29933 AND P29934 ANDQ9HZQ3 AND P29929\n"
     ]
    }
   ],
   "source": [
    "for prot in br_data['PR']:\n",
    "    if row['species'] in prot:\n",
    "        print(prot)"
   ]
  },
  {
   "cell_type": "code",
   "execution_count": 15,
   "metadata": {
    "ExecuteTime": {
     "end_time": "2018-08-05T12:30:47.649831Z",
     "start_time": "2018-08-05T12:30:47.636779Z"
    }
   },
   "outputs": [
    {
     "data": {
      "text/html": [
       "<div>\n",
       "<style scoped>\n",
       "    .dataframe tbody tr th:only-of-type {\n",
       "        vertical-align: middle;\n",
       "    }\n",
       "\n",
       "    .dataframe tbody tr th {\n",
       "        vertical-align: top;\n",
       "    }\n",
       "\n",
       "    .dataframe thead th {\n",
       "        text-align: right;\n",
       "    }\n",
       "</style>\n",
       "<table border=\"1\" class=\"dataframe\">\n",
       "  <thead>\n",
       "    <tr style=\"text-align: right;\">\n",
       "      <th></th>\n",
       "      <th>fasta_file</th>\n",
       "      <th>acc.code</th>\n",
       "      <th>organism</th>\n",
       "      <th>EC.code</th>\n",
       "      <th>species</th>\n",
       "      <th>note</th>\n",
       "      <th>pi</th>\n",
       "      <th>modification</th>\n",
       "      <th>category</th>\n",
       "    </tr>\n",
       "  </thead>\n",
       "  <tbody>\n",
       "  </tbody>\n",
       "</table>\n",
       "</div>"
      ],
      "text/plain": [
       "Empty DataFrame\n",
       "Columns: [fasta_file, acc.code, organism, EC.code, species, note, pi, modification, category]\n",
       "Index: []"
      ]
     },
     "execution_count": 15,
     "metadata": {},
     "output_type": "execute_result"
    }
   ],
   "source": [
    "pi_data[pi_data['EC.code'] == ' 4.5.1.1 ']"
   ]
  },
  {
   "cell_type": "code",
   "execution_count": 51,
   "metadata": {
    "ExecuteTime": {
     "end_time": "2018-04-24T02:29:30.926021Z",
     "start_time": "2018-04-24T02:29:30.873298Z"
    }
   },
   "outputs": [],
   "source": []
  },
  {
   "cell_type": "code",
   "execution_count": null,
   "metadata": {},
   "outputs": [],
   "source": []
  }
 ],
 "metadata": {
  "kernelspec": {
   "display_name": "Python 3",
   "language": "python",
   "name": "python3"
  },
  "language_info": {
   "codemirror_mode": {
    "name": "ipython",
    "version": 3
   },
   "file_extension": ".py",
   "mimetype": "text/x-python",
   "name": "python",
   "nbconvert_exporter": "python",
   "pygments_lexer": "ipython3",
   "version": "3.6.5"
  }
 },
 "nbformat": 4,
 "nbformat_minor": 2
}
