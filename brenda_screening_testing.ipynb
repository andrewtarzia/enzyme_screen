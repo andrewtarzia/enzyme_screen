{
 "cells": [
  {
   "cell_type": "code",
   "execution_count": 3,
   "metadata": {
    "ExecuteTime": {
     "end_time": "2018-04-22T12:02:14.321031Z",
     "start_time": "2018-04-22T12:02:14.310791Z"
    }
   },
   "outputs": [
    {
     "data": {
      "text/html": [
       "<style>.container { width:95% !important; }</style>"
      ],
      "text/plain": [
       "<IPython.core.display.HTML object>"
      ]
     },
     "metadata": {},
     "output_type": "display_data"
    }
   ],
   "source": [
    "from IPython.core.display import HTML\n",
    "display(HTML(\"<style>.container { width:95% !important; }</style>\"))   "
   ]
  },
  {
   "cell_type": "markdown",
   "metadata": {},
   "source": [
    "Author: Andrew Tarzia\n",
    "\n",
    "Date Created: 12 Feb 2018\n",
    "\n",
    "License:"
   ]
  },
  {
   "cell_type": "markdown",
   "metadata": {},
   "source": [
    "# Notebook for screening BRENDA database post pI screening\n",
    "\n",
    "TODO:\n",
    "- take BRENDA files and split into property specific files using code in python script\n",
    "- filter out proteins based on BRENDA information\n",
    "- collect product and substrate names\n",
    "- output\n",
    "- turn notebook into presentation of process for an example.\n",
    "- move to scripts\n",
    "    - generalise to running in current working dir\n",
    "    - add license"
   ]
  },
  {
   "cell_type": "code",
   "execution_count": 45,
   "metadata": {
    "ExecuteTime": {
     "end_time": "2018-04-22T12:28:30.626872Z",
     "start_time": "2018-04-22T12:28:30.605638Z"
    }
   },
   "outputs": [],
   "source": [
    "import os\n",
    "import pandas as pd\n",
    "import matplotlib.pyplot as plt\n",
    "from Bio import SeqIO\n",
    "from Bio.SeqUtils.ProtParam import ProteinAnalysis\n",
    "import time\n",
    "import numpy as np\n",
    "from shutil import copyfile"
   ]
  },
  {
   "cell_type": "markdown",
   "metadata": {},
   "source": [
    "# Notes:\n"
   ]
  },
  {
   "cell_type": "code",
   "execution_count": 49,
   "metadata": {
    "ExecuteTime": {
     "end_time": "2018-04-22T12:29:12.735717Z",
     "start_time": "2018-04-22T12:29:12.699329Z"
    }
   },
   "outputs": [],
   "source": [
    "# get parameters\n",
    "source_dir = '/home/atarzia/psp/psp_source/'\n",
    "os.chdir(source_dir)\n",
    "%run ./parameter_file.py\n",
    "param_dict = get_parameters()\n",
    "\n",
    "# input parameters\n",
    "database_directory = '/home/atarzia/psp/sequence_db/test_dataset/'\n",
    "database_directory = '/home/atarzia/psp/sequence_db/linb_dataset/'\n",
    "# input FASTA file names\n",
    "database_names = ['6_6_1_2__BRENDA_sequences.fasta']\n",
    "database_names = ['3_8_1_5__BRENDA_sequences.fasta',\n",
    "                  '4_5_1_1__BRENDA_sequences.fasta']\n",
    "\n",
    "os.chdir(database_directory)\n",
    "# output CSV file\n",
    "redo_pi = True\n",
    "if redo_pi is True:\n",
    "    string = ''\n",
    "    for i in param_dict['out_columns_br']:\n",
    "        if i == param_dict['out_columns_br'][-1]:\n",
    "            string += i\n",
    "        else:\n",
    "            string += i+','\n",
    "    string += '\\n'\n",
    "    with open(param_dict['out_CSV_br'], 'w') as f:\n",
    "        f.write(string)"
   ]
  },
  {
   "cell_type": "code",
   "execution_count": 51,
   "metadata": {
    "ExecuteTime": {
     "end_time": "2018-04-22T12:29:18.381202Z",
     "start_time": "2018-04-22T12:29:18.298216Z"
    }
   },
   "outputs": [
    {
     "name": "stdout",
     "output_type": "stream",
     "text": [
      "=====================================================================\n",
      "                     Screening enzymes with Brenda!                  \n",
      "=====================================================================\n",
      "---  1429 proteins out of 2262 remain, OR 63 % ---\n",
      "3.8.1.5\n",
      "brenda_download_3_8_1_5.txt\n",
      "--- finished 0 proteins in 0.00 seconds ---\n",
      "=====================================================================\n",
      "                              Complete!                              \n",
      "=====================================================================\n"
     ]
    }
   ],
   "source": [
    "print('=====================================================================')\n",
    "print('                     Screening enzymes with Brenda!                  ')\n",
    "print('=====================================================================')\n",
    "# read in pI output file\n",
    "pi_data = pd.read_csv(param_dict['out_CSV_pi'], index_col=False)\n",
    "# only keep those that pass the pI test\n",
    "pi_passed_data = pi_data[pi_data['pi'] < param_dict['cutoff_pi']]\n",
    "print('--- ', \n",
    "      len(pi_passed_data), 'proteins out of', len(pi_data), \n",
    "      'remain, OR', int(len(pi_passed_data)/len(pi_data)*100),\n",
    "      \"% ---\")\n",
    "# for each FASTA file\n",
    "count_done = 0\n",
    "total_start_time = time.time()\n",
    "for i, row in pi_passed_data.iterrows():\n",
    "    EC = row['EC.code'].replace(\" \", \"\")\n",
    "    EC_ = EC.replace(\".\", \"_\")\n",
    "    # get brenda data file\n",
    "    br_datafile = 'brenda_download_'+EC_+'.txt'\n",
    "    if os.path.isfile(br_datafile) is False:\n",
    "        src = param_dict['BRENDA_DB_loc']+br_datafile\n",
    "        des = database_directory+br_datafile\n",
    "        copyfile(src, des)\n",
    "    print(EC)\n",
    "    print(br_datafile)\n",
    "    \n",
    "    \n",
    "    break\n",
    "    \n",
    "print('--- finished %s proteins in %s seconds ---' % (count_done, '{0:.2f}'.format(time.time() - total_start_time)))\n",
    "print('=====================================================================')\n",
    "print('                              Complete!                              ')\n",
    "print('=====================================================================')"
   ]
  },
  {
   "cell_type": "code",
   "execution_count": null,
   "metadata": {},
   "outputs": [],
   "source": []
  }
 ],
 "metadata": {
  "kernelspec": {
   "display_name": "Python 3",
   "language": "python",
   "name": "python3"
  },
  "language_info": {
   "codemirror_mode": {
    "name": "ipython",
    "version": 3
   },
   "file_extension": ".py",
   "mimetype": "text/x-python",
   "name": "python",
   "nbconvert_exporter": "python",
   "pygments_lexer": "ipython3",
   "version": "3.6.1"
  }
 },
 "nbformat": 4,
 "nbformat_minor": 2
}
