{
 "cells": [
  {
   "cell_type": "code",
   "execution_count": 3,
   "metadata": {
    "ExecuteTime": {
     "end_time": "2018-11-08T00:04:02.672134Z",
     "start_time": "2018-11-08T00:04:02.625600Z"
    }
   },
   "outputs": [
    {
     "data": {
      "text/html": [
       "<style>.container { width:95% !important; }</style>"
      ],
      "text/plain": [
       "<IPython.core.display.HTML object>"
      ]
     },
     "metadata": {},
     "output_type": "display_data"
    },
    {
     "name": "stdout",
     "output_type": "stream",
     "text": [
      "The autoreload extension is already loaded. To reload it, use:\n",
      "  %reload_ext autoreload\n"
     ]
    }
   ],
   "source": [
    "from IPython.core.display import HTML\n",
    "display(HTML(\"<style>.container { width:95% !important; }</style>\"))\n",
    "%load_ext autoreload\n",
    "%autoreload 1"
   ]
  },
  {
   "cell_type": "code",
   "execution_count": 25,
   "metadata": {},
   "outputs": [],
   "source": [
    "# from ercollect import molecule as mol\n",
    "# from ercollect.molecule import molecule\n",
    "from ercollect.rxn_syst import reaction, get_RS, yield_rxn_syst\n",
    "import matplotlib.pyplot as plt\n",
    "import numpy as np\n",
    "import sys\n",
    "from rdkit.Chem import Fragments, Descriptors\n",
    "# import random\n",
    "# import os\n",
    "# import requests\n",
    "from rdkit.Chem import Draw\n",
    "from rdkit.Chem import AllChem as Chem\n",
    "# from rdkit.Chem.Draw import IPythonConsole\n",
    "# from rdkit.Chem.Draw.MolDrawing import MolDrawing, DrawingOptions\n",
    "# from IPython.display import clear_output\n",
    "# from ercollect import SABIO_IO"
   ]
  },
  {
   "cell_type": "markdown",
   "metadata": {},
   "source": [
    "Author: Andrew Tarzia\n",
    "\n",
    "Date Created: 11 Dec 2018\n",
    "\n",
    "Distributed under the terms of the MIT License."
   ]
  },
  {
   "cell_type": "markdown",
   "metadata": {},
   "source": [
    "# Notebook to analyse reaction systems for the SALE-ZIF-8 case study"
   ]
  },
  {
   "cell_type": "markdown",
   "metadata": {
    "ExecuteTime": {
     "end_time": "2018-11-08T02:15:52.671859Z",
     "start_time": "2018-11-08T02:15:52.407602Z"
    }
   },
   "source": [
    "## Step 1:\n",
    "- Find reaction systems with maximum component sizes within some range\n",
    "    - lower threshold $\\leq d \\leq$ upper threshold"
   ]
  },
  {
   "cell_type": "code",
   "execution_count": 49,
   "metadata": {},
   "outputs": [],
   "source": [
    "threshold = (5, 7)"
   ]
  },
  {
   "cell_type": "code",
   "execution_count": 50,
   "metadata": {
    "ExecuteTime": {
     "end_time": "2018-11-08T02:15:53.180016Z",
     "start_time": "2018-11-08T02:15:53.176223Z"
    }
   },
   "outputs": [],
   "source": [
    "directory = '/home/atarzia/psp/screening_results/'\n",
    "directory += 'kegg_111218/'\n",
    "# directory += 'new_reactions_atlas_111218/'\n",
    "# directory += 'new_reactions_kegg_atlas/'\n",
    "# directory += 'new_reactions_sabio_wcharge/'\n",
    "# directory += 'biomin_search_sabio_wcharge/'"
   ]
  },
  {
   "cell_type": "code",
   "execution_count": 51,
   "metadata": {
    "ExecuteTime": {
     "end_time": "2018-11-08T04:04:21.726854Z",
     "start_time": "2018-11-08T04:04:21.552644Z"
    },
    "code_folding": [
     2
    ]
   },
   "outputs": [],
   "source": [
    "target_RS = []\n",
    "out_range = []\n",
    "in_range = []\n",
    "for i, rs in enumerate(yield_rxn_syst(output_dir=directory)):\n",
    "    if rs.skip_rxn is True:\n",
    "        continue\n",
    "    if rs.max_comp_size is None:\n",
    "        continue\n",
    "    if rs.max_comp_size >= threshold[0] and rs.max_comp_size <= threshold[1]:\n",
    "        target_RS.append(rs.pkl)\n",
    "        in_range.append(rs.max_comp_size)\n",
    "    else:\n",
    "        out_range.append(rs.max_comp_size)    "
   ]
  },
  {
   "cell_type": "code",
   "execution_count": 52,
   "metadata": {},
   "outputs": [
    {
     "name": "stdout",
     "output_type": "stream",
     "text": [
      "1233 reactions in threshold\n"
     ]
    },
    {
     "data": {
      "image/png": "[encoded data removed]",
      "text/plain": [
       "<Figure size 432x288 with 1 Axes>"
      ]
     },
     "metadata": {},
     "output_type": "display_data"
    }
   ],
   "source": [
    "print(len(target_RS), 'reactions in threshold')\n",
    "fig, ax = plt.subplots()\n",
    "ax.hist(in_range, \n",
    "        facecolor='firebrick',  # '#1469b5', \n",
    "        alpha=0.8, histtype='stepfilled', bins=np.arange(0, 20, 0.2))\n",
    "ax.hist(out_range, \n",
    "        facecolor='lightgray',  # '#FF7900', \n",
    "        histtype='stepfilled', bins=np.arange(0, 20, 0.2))\n",
    "ax.tick_params(axis='both', which='major', labelsize=16)\n",
    "ax.set_xlabel('$d$ of largest component [$\\mathrm{\\AA}$]', fontsize=16)\n",
    "ax.set_ylabel('count', fontsize=16)\n",
    "ax.set_xlim(0, 15)\n",
    "fig.tight_layout()\n",
    "fig.savefig(directory+\"CS_maxd.pdf\",\n",
    "            dpi=720,\n",
    "            bbox_inches='tight')\n",
    "plt.show()"
   ]
  },
  {
   "cell_type": "markdown",
   "metadata": {},
   "source": [
    "## Step 2:\n",
    "- From the target RS:\n",
    "    - Search for reactions that show a gain or loss of a UV/Vis or IR active component\n",
    "    - searching for:\n",
    "        - terminal acetylenes: rdkit.Chem.Fragments.fr_term_acetylene -- did not include this search (19/12/18)\n",
    "        - nitriles: rdkit.Chem.Fragments.fr_nitrile"
   ]
  },
  {
   "cell_type": "code",
   "execution_count": 53,
   "metadata": {},
   "outputs": [],
   "source": [
    "def has_terminal_acetylene(SMILES):\n",
    "    \"\"\"Returns False if terminal acetylene fragment is not found using RDKIT.\n",
    "\n",
    "    \"\"\"\n",
    "    mol = Chem.MolFromSmiles(SMILES)\n",
    "    no_frag = Fragments.fr_term_acetylene(mol)\n",
    "    if no_frag > 0:\n",
    "        return True\n",
    "    else:\n",
    "        return False\n",
    "    \n",
    "\n",
    "def has_nitrile(SMILES):\n",
    "    \"\"\"Returns False if terminal acetylene fragment is not found using RDKIT.\n",
    "\n",
    "    \"\"\"\n",
    "    mol = Chem.MolFromSmiles(SMILES)\n",
    "    no_frag = Fragments.fr_nitrile(mol)\n",
    "    if no_frag > 0:\n",
    "        return True\n",
    "    else:\n",
    "        return False"
   ]
  },
  {
   "cell_type": "code",
   "execution_count": 58,
   "metadata": {},
   "outputs": [
    {
     "name": "stdout",
     "output_type": "stream",
     "text": [
      "------------------------------------------------------\n",
      "0 0 0 1\n",
      "5\n",
      "sRS-1_14_14_37-KEGG-R04306.gpkl\n",
      "------------------------------------------------------\n",
      "0 0 0 1\n",
      "5\n",
      "sRS-1_14_14_41-KEGG-R11639.gpkl\n",
      "------------------------------------------------------\n",
      "0 0 0 1\n",
      "5\n",
      "sRS-1_14_14_41-KEGG-R11641.gpkl\n",
      "------------------------------------------------------\n",
      "0 0 0 1\n",
      "5\n",
      "sRS-1_14_14_44-KEGG-R07638.gpkl\n",
      "------------------------------------------------------\n",
      "0 0 1 1\n",
      "5\n",
      "sRS-1_1_3_49-KEGG-R11380.gpkl\n",
      "------------------------------------------------------\n",
      "0 0 1 1\n",
      "5\n",
      "sRS-2_3_2_2-KEGG-R03971.gpkl\n",
      "------------------------------------------------------\n",
      "0 0 0 1\n",
      "5\n",
      "sRS-2_8_1_1-KEGG-R01931.gpkl\n",
      "------------------------------------------------------\n",
      "0 0 1 0\n",
      "5\n",
      "sRS-3_5_5_1-KEGG-R01887.gpkl\n",
      "------------------------------------------------------\n",
      "0 0 1 0\n",
      "5\n",
      "sRS-3_5_5_1-KEGG-R03542.gpkl\n",
      "------------------------------------------------------\n",
      "0 0 1 0\n",
      "5\n",
      "sRS-3_5_5_1-KEGG-R05591.gpkl\n",
      "------------------------------------------------------\n",
      "0 0 1 0\n",
      "5\n",
      "sRS-3_5_5_1-KEGG-R07855.gpkl\n",
      "------------------------------------------------------\n",
      "0 0 1 0\n",
      "5\n",
      "sRS-3_5_5_4-KEGG-R00486.gpkl\n",
      "------------------------------------------------------\n",
      "0 0 0 1\n",
      "5\n",
      "sRS-3_5_5_4-KEGG-R01267.gpkl\n",
      "------------------------------------------------------\n",
      "0 0 1 0\n",
      "5\n",
      "sRS-3_5_5_5-KEGG-R04140.gpkl\n",
      "------------------------------------------------------\n",
      "0 0 1 0\n",
      "5\n",
      "sRS-3_5_5_7-KEGG-R05358.gpkl\n",
      "------------------------------------------------------\n",
      "0 0 1 1\n",
      "5\n",
      "sRS-4_1_1_XX-KEGG-R06614.gpkl\n",
      "------------------------------------------------------\n",
      "0 0 1 1\n",
      "5\n",
      "sRS-4_1_2_10-KEGG-R01767.gpkl\n",
      "------------------------------------------------------\n",
      "0 0 1 1\n",
      "5\n",
      "sRS-4_1_2_11-KEGG-R02676.gpkl\n",
      "------------------------------------------------------\n",
      "0 0 1 1\n",
      "5\n",
      "sRS-4_1_2_46-KEGG-R01553.gpkl\n",
      "------------------------------------------------------\n",
      "0 0 1 1\n",
      "5\n",
      "sRS-4_1_2_46-KEGG-R09358.gpkl\n",
      "------------------------------------------------------\n",
      "0 1 0 0\n",
      "------------------------------------------------------\n",
      "0 1 0 0\n",
      "------------------------------------------------------\n",
      "0 0 0 1\n",
      "5\n",
      "sRS-4_2_1_65-KEGG-R01267.gpkl\n",
      "------------------------------------------------------\n",
      "0 0 0 1\n",
      "5\n",
      "sRS-4_2_1_69-KEGG-R00778.gpkl\n",
      "------------------------------------------------------\n",
      "0 0 0 1\n",
      "5\n",
      "sRS-4_2_1_84-KEGG-R05379.gpkl\n",
      "------------------------------------------------------\n",
      "0 0 1 0\n",
      "5\n",
      "sRS-4_2_1_84-KEGG-R05596.gpkl\n",
      "------------------------------------------------------\n",
      "0 0 1 0\n",
      "5\n",
      "sRS-4_2_1_84-KEGG-R07854.gpkl\n",
      "------------------------------------------------------\n",
      "0 0 0 1\n",
      "5\n",
      "sRS-4_4_1_9-KEGG-R02846.gpkl\n",
      "------------------------------------------------------\n",
      "0 0 1 1\n",
      "5\n",
      "sRS-4_4_1_9-KEGG-R03524.gpkl\n",
      "------------------------------------------------------\n",
      "0 0 0 1\n",
      "5\n",
      "sRS-4_99_1_7-KEGG-R07638.gpkl\n",
      "------------------------------------------------------\n",
      "0 0 1 0\n",
      "5\n",
      "sRS-5_99_1_1-KEGG-R04010.gpkl\n",
      "------------------------------------------------------\n",
      "0 0 0 1\n",
      "5\n",
      "sRS-XX_XX_XX_XX-KEGG-R00917.gpkl\n",
      "------------------------------------------------------\n",
      "0 0 1 1\n",
      "5\n",
      "sRS-XX_XX_XX_XX-KEGG-R01410.gpkl\n",
      "------------------------------------------------------\n",
      "0 0 1 1\n",
      "5\n",
      "sRS-XX_XX_XX_XX-KEGG-R01650.gpkl\n",
      "------------------------------------------------------\n",
      "0 0 0 1\n",
      "5\n",
      "sRS-XX_XX_XX_XX-KEGG-R07838.gpkl\n"
     ]
    }
   ],
   "source": [
    "target_RS_2 = []\n",
    "has_acet = 0\n",
    "has_nit = 0\n",
    "for pkl in target_RS:\n",
    "    rs = get_RS(directory+pkl, output_dir=directory, verbose=False)\n",
    "    r_acet = 0\n",
    "    r_nit = 0\n",
    "    p_acet = 0\n",
    "    p_nit = 0\n",
    "    for m in rs.components:\n",
    "        acet = has_terminal_acetylene(m.SMILES)\n",
    "        nit = has_nitrile(m.SMILES)\n",
    "        if m.role == 'reactant':\n",
    "            if acet is True:\n",
    "                r_acet += 1\n",
    "            if nit is True:\n",
    "                r_nit += 1\n",
    "        elif m.role == 'product':\n",
    "            if acet is True:\n",
    "                p_acet += 1\n",
    "            if nit is True:\n",
    "                p_nit += 1\n",
    "    if r_acet > 0 or p_acet > 0 or r_nit > 0 or p_nit >0:\n",
    "        print('------------------------------------------------------')\n",
    "        print(r_acet, p_acet, r_nit, p_nit)\n",
    "#         if p_acet == 0 and r_acet > 0:\n",
    "#             target_RS_2.append(rs.pkl)\n",
    "#             has_acet += 1\n",
    "#             print('1')\n",
    "#             print(rs.pkl)\n",
    "#         elif r_acet == 0 and p_acet > 0:\n",
    "#             target_RS_2.append(rs.pkl)\n",
    "#             has_acet += 1\n",
    "#             print('2')\n",
    "#             print(rs.pkl)\n",
    "#         if p_nit == 0 and r_nit > 0:\n",
    "#             target_RS_2.append(rs.pkl)\n",
    "#             has_nit += 1\n",
    "#             print('3')\n",
    "#             print(rs.pkl)\n",
    "#         elif r_nit == 0 and p_nit > 0:\n",
    "#             target_RS_2.append(rs.pkl)\n",
    "#             has_nit += 1\n",
    "#             print('4')\n",
    "#             print(rs.pkl)\n",
    "        if p_nit > 0 or r_nit > 0:\n",
    "            target_RS_2.append(rs.pkl)\n",
    "            has_nit += 1\n",
    "            print('5')\n",
    "            print(rs.pkl)"
   ]
  },
  {
   "cell_type": "code",
   "execution_count": 59,
   "metadata": {},
   "outputs": [
    {
     "name": "stdout",
     "output_type": "stream",
     "text": [
      "33 reactions in threshold\n"
     ]
    },
    {
     "data": {
      "image/png": "[encoded data removed]",
      "text/plain": [
       "<Figure size 432x288 with 1 Axes>"
      ]
     },
     "metadata": {},
     "output_type": "display_data"
    }
   ],
   "source": [
    "print(len(target_RS_2), 'reactions in threshold')\n",
    "fig, ax = plt.subplots()    \n",
    "# Data to plot\n",
    "labels = 'none', 'has nitrile'\n",
    "sizes = [len(target_RS), has_nit*20]\n",
    "colors = ['lightgray', 'firebrick']\n",
    "explode = (0, 0.1)  # explode 1st slice\n",
    " \n",
    "# Plot\n",
    "patches, texts = ax.pie(sizes, explode=explode, labels=labels, colors=colors,\n",
    "                        shadow=False, startangle=65)\n",
    "for i in texts:\n",
    "    i.set_fontsize(18)\n",
    "for i in patches:\n",
    "    i.set_alpha(0.8)\n",
    "ax.axis('equal')\n",
    "fig.tight_layout()\n",
    "fig.savefig(directory+\"CS_pie.pdf\",\n",
    "            dpi=720,\n",
    "            bbox_inches='tight')\n",
    "plt.show()"
   ]
  },
  {
   "cell_type": "markdown",
   "metadata": {},
   "source": [
    "## Step 3:\n",
    "- Plot the maximum logP vs. maximum logS of the remaining reactions"
   ]
  },
  {
   "cell_type": "code",
   "execution_count": 60,
   "metadata": {},
   "outputs": [
    {
     "data": {
      "image/png": "[encoded data removed]",
      "text/plain": [
       "<Figure size 432x288 with 1 Axes>"
      ]
     },
     "metadata": {},
     "output_type": "display_data"
    }
   ],
   "source": [
    "Y_cut = -1.84  # logS of pentane\n",
    "X_cut = 2.1965  # logP of pentane\n",
    "fig, ax = plt.subplots()\n",
    "for pkl in target_RS_2:\n",
    "    rs = get_RS(directory+pkl, output_dir=directory, verbose=False)\n",
    "    if rs.min_logS > Y_cut and rs.max_logP < X_cut:\n",
    "        ax.scatter(rs.max_logP, rs.min_logS, c='firebrick', alpha=0.8, s=100, edgecolor='k')\n",
    "    else:\n",
    "        ax.scatter(rs.max_logP, rs.min_logS, c='lightgray', alpha=0.8, s=100, marker='X', edgecolor='k')\n",
    "ax.tick_params(axis='both', which='major', labelsize=16)\n",
    "ax.set_xlabel('max. logP of all components', fontsize=16)\n",
    "ax.set_ylabel('min. logS of all components', fontsize=16)\n",
    "ax.axhline(y=Y_cut, c='k', alpha=0.4)\n",
    "ax.axvline(x=X_cut, c='k', alpha=0.4)\n",
    "ax.set_xlim(-2, 3)\n",
    "ax.set_ylim(-4, 1)\n",
    "fig.tight_layout()\n",
    "fig.savefig(directory+\"CS_solub.pdf\",\n",
    "            dpi=720,\n",
    "            bbox_inches='tight')\n",
    "plt.show()   "
   ]
  },
  {
   "cell_type": "markdown",
   "metadata": {},
   "source": [
    "## Step 4:\n",
    "- Print each reaction (only print reactions with fully specified EC numbers)"
   ]
  },
  {
   "cell_type": "code",
   "execution_count": 61,
   "metadata": {},
   "outputs": [
    {
     "name": "stdout",
     "output_type": "stream",
     "text": [
      "---------------\n",
      "sRS-1_14_14_41-KEGG-R11639.gpkl\n",
      "EC: 1.14.14.41  --- KEGG ID: R11639\n",
      "min logS: -1.5078224523507036 max logP: 1.55608\n",
      "C20312 : 101.084063972\n",
      "CC[C@H](C)/C=N\\O\n",
      "C21525 : 83.073499288\n",
      "CCC(C)C#N\n",
      "C00001 : 18.010564684\n",
      "O\n",
      "C20312 <-> C21525 + C00001\n",
      "---------------\n",
      "---------------\n",
      "sRS-1_14_14_41-KEGG-R11641.gpkl\n",
      "EC: 1.14.14.41  --- KEGG ID: R11641\n",
      "min logS: -1.1291740273854483 max logP: 1.16598\n",
      "C20315 : 87.068413908\n",
      "CC(C)/C=N\\O\n",
      "C02420 : 69.057849224\n",
      "CC(C)C#N\n",
      "C00001 : 18.010564684\n",
      "O\n",
      "C20315 <-> C02420 + C00001\n",
      "---------------\n",
      "---------------\n",
      "sRS-2_3_2_2-KEGG-R03971.gpkl\n",
      "EC: 2.3.2.2  --- KEGG ID: R03971\n",
      "min logS: -0.44850811687612063 max logP: -0.14122\n",
      "C05670 : 70.053098192\n",
      "N#CCCN\n",
      "C00025 : 147.053157768\n",
      "N[C@@H](CCC(=O)O)C(=O)O\n",
      "C06114 : 199.095691276\n",
      "N#CCCNC(=O)CC[C@H](N)C(=O)O\n",
      "C00001 : 18.010564684\n",
      "O\n",
      "C05670 + C00025 <-> C06114 + C00001\n",
      "---------------\n",
      "---------------\n",
      "sRS-2_8_1_1-KEGG-R01931.gpkl\n",
      "EC: 2.8.1.1  --- KEGG ID: R01931\n",
      "min logS: -0.4242758593500813 max logP: 0.39728\n",
      "C00320 : 112.93725947191001\n",
      "O=S(=O)(O)[S-]\n",
      "C00177 : 26.00362257991\n",
      "[C-]#N\n",
      "C00094 : 81.97246492400001\n",
      "O=S(O)O\n",
      "C01755 : 58.982970032\n",
      "N#CS\n",
      "C00320 + C00177 <-> C00094 + C01755\n",
      "---------------\n",
      "---------------\n",
      "sRS-3_5_5_1-KEGG-R01887.gpkl\n",
      "EC: 3.5.5.1  --- KEGG ID: R01887\n",
      "min logS: -0.35491886800302413 max logP: 0.16199999999999998\n",
      "C05715 : 128.058577496\n",
      "N#CC(N)CCC(=O)O\n",
      "C00001 : 18.010564684\n",
      "O\n",
      "C00302 : 147.053157768\n",
      "NC(CCC(=O)O)C(=O)O\n",
      "C00014 : 17.026549096\n",
      "N\n",
      "C05715 + C00001 <-> C00302 + C00014\n",
      "---------------\n",
      "---------------\n",
      "sRS-3_5_5_1-KEGG-R03542.gpkl\n",
      "EC: 3.5.5.1  --- KEGG ID: R03542\n",
      "min logS: -0.09646371797284309 max logP: 0.16199999999999998\n",
      "C05714 : 70.053098192\n",
      "CC(N)C#N\n",
      "C00001 : 18.010564684\n",
      "O\n",
      "C01401 : 89.047678464\n",
      "CC(N)C(=O)O\n",
      "C00014 : 17.026549096\n",
      "N\n",
      "C05714 + C00001 <-> C01401 + C00014\n",
      "---------------\n",
      "---------------\n",
      "sRS-3_5_5_4-KEGG-R00486.gpkl\n",
      "EC: 3.5.5.4  --- KEGG ID: R00486\n",
      "min logS: 0.023729556962231432 max logP: 0.16199999999999998\n",
      "C02512 : 114.042927432\n",
      "N#CC[C@H](N)C(=O)O\n",
      "C00001 : 18.010564684\n",
      "O\n",
      "C00049 : 133.037507704\n",
      "N[C@@H](CC(=O)O)C(=O)O\n",
      "C00014 : 17.026549096\n",
      "N\n",
      "C02512 + C00001 <-> C00049 + C00014\n",
      "---------------\n",
      "---------------\n",
      "sRS-3_5_5_4-KEGG-R01267.gpkl\n",
      "EC: 3.5.5.4  --- KEGG ID: R01267\n",
      "min logS: 0.023729556962231432 max logP: -0.6880200000000001\n",
      "C00152 : 132.053492116\n",
      "NC(=O)C[C@H](N)C(=O)O\n",
      "C02512 : 114.042927432\n",
      "N#CC[C@H](N)C(=O)O\n",
      "C00001 : 18.010564684\n",
      "O\n",
      "C00152 <-> C02512 + C00001\n",
      "---------------\n",
      "---------------\n",
      "sRS-3_5_5_7-KEGG-R05358.gpkl\n",
      "EC: 3.5.5.7  --- KEGG ID: R05358\n",
      "min logS: -0.6059387576126654 max logP: 0.6959799999999999\n",
      "C01998 : 53.026549096\n",
      "C=CC#N\n",
      "C00001 : 18.010564684\n",
      "O\n",
      "C00511 : 72.021129368\n",
      "C=CC(=O)O\n",
      "C00014 : 17.026549096\n",
      "N\n",
      "C01998 + C00001 <-> C00511 + C00014\n",
      "---------------\n",
      "---------------\n",
      "sRS-4_1_1_XX-KEGG-R06614.gpkl\n",
      "EC: 4.1.1.-  --- KEGG ID: R06614\n",
      "min logS: -0.09419885073063039 max logP: -0.14122\n",
      "C02512 : 114.042927432\n",
      "N#CC[C@H](N)C(=O)O\n",
      "C05670 : 70.053098192\n",
      "N#CCCN\n",
      "C00011 : 43.98982924\n",
      "O=C=O\n",
      "C02512 <-> C05670 + C00011\n",
      "---------------\n",
      "---------------\n",
      "sRS-4_1_2_11-KEGG-R02676.gpkl\n",
      "EC: 4.1.2.11  --- KEGG ID: R02676\n",
      "min logS: -1.7207054566221442 max logP: 1.2047\n",
      "C03742 : 149.047678464\n",
      "N#C[C@@H](O)c1ccc(O)cc1\n",
      "C01326 : 27.010899031999998\n",
      "C#N\n",
      "C00633 : 122.036779432\n",
      "O=Cc1ccc(O)cc1\n",
      "C03742 <-> C01326 + C00633\n",
      "---------------\n",
      "---------------\n",
      "sRS-4_1_2_46-KEGG-R01553.gpkl\n",
      "EC: 4.1.2.46  --- KEGG ID: R01553\n",
      "min logS: -0.5644422701166991 max logP: 0.5952999999999999\n",
      "C02659 : 85.052763844\n",
      "CC(C)(O)C#N\n",
      "C01326 : 27.010899031999998\n",
      "C#N\n",
      "C00207 : 58.041864812\n",
      "CC(C)=O\n",
      "C02659 <-> C01326 + C00207\n",
      "---------------\n",
      "---------------\n",
      "sRS-4_1_2_46-KEGG-R09358.gpkl\n",
      "EC: 4.1.2.46  --- KEGG ID: R09358\n",
      "min logS: -0.9430906950819544 max logP: 0.9854\n",
      "C18796 : 99.068413908\n",
      "CC[C@@](C)(O)C#N\n",
      "C02845 : 72.057514876\n",
      "CCC(C)=O\n",
      "C01326 : 27.010899031999998\n",
      "C#N\n",
      "C18796 <-> C02845 + C01326\n",
      "---------------\n",
      "---------------\n",
      "sRS-4_2_1_65-KEGG-R01267.gpkl\n",
      "EC: 4.2.1.65  --- KEGG ID: R01267\n",
      "min logS: 0.023729556962231432 max logP: -0.6880200000000001\n",
      "C00152 : 132.053492116\n",
      "NC(=O)C[C@H](N)C(=O)O\n",
      "C02512 : 114.042927432\n",
      "N#CC[C@H](N)C(=O)O\n",
      "C00001 : 18.010564684\n",
      "O\n",
      "C00152 <-> C02512 + C00001\n",
      "---------------\n",
      "---------------\n",
      "sRS-4_2_1_69-KEGG-R00778.gpkl\n",
      "EC: 4.2.1.69  --- KEGG ID: R00778\n",
      "min logS: 0.4087436789321414 max logP: -0.57382\n",
      "C00086 : 60.032362748\n",
      "NC(N)=O\n",
      "C01566 : 42.021798063999995\n",
      "N#CN\n",
      "C00001 : 18.010564684\n",
      "O\n",
      "C00086 <-> C01566 + C00001\n",
      "---------------\n",
      "---------------\n",
      "sRS-4_2_1_84-KEGG-R05379.gpkl\n",
      "EC: 4.2.1.84  --- KEGG ID: R05379\n",
      "min logS: -0.6059387576126654 max logP: 0.6959799999999999\n",
      "C01659 : 71.03711378\n",
      "C=CC(N)=O\n",
      "C01998 : 53.026549096\n",
      "C=CC#N\n",
      "C00001 : 18.010564684\n",
      "O\n",
      "C01659 <-> C01998 + C00001\n",
      "---------------\n",
      "---------------\n",
      "sRS-4_4_1_9-KEGG-R02846.gpkl\n",
      "EC: 4.4.1.9  --- KEGG ID: R02846\n",
      "min logS: -0.04787119519373567 max logP: 0.11280000000000001\n",
      "C00736 : 121.019749464\n",
      "NC(CS)C(=O)O\n",
      "C00177 : 26.00362257991\n",
      "[C-]#N\n",
      "C00283 : 33.987721064\n",
      "S\n",
      "C02512 : 114.042927432\n",
      "N#CC[C@H](N)C(=O)O\n",
      "C00736 + C00177 <-> C00283 + C02512\n",
      "---------------\n",
      "---------------\n",
      "sRS-4_4_1_9-KEGG-R03524.gpkl\n",
      "EC: 4.4.1.9  --- KEGG ID: R03524\n",
      "min logS: -0.04787119519373567 max logP: 0.13978\n",
      "C00097 : 121.019749464\n",
      "N[C@@H](CS)C(=O)O\n",
      "C01326 : 27.010899031999998\n",
      "C#N\n",
      "C00283 : 33.987721064\n",
      "S\n",
      "C02512 : 114.042927432\n",
      "N#CC[C@H](N)C(=O)O\n",
      "C00097 + C01326 <-> C00283 + C02512\n",
      "---------------\n",
      "---------------\n",
      "sRS-XX_XX_XX_XX-KEGG-R00917.gpkl\n",
      "EC: -.-.-.-  --- KEGG ID: R00917\n",
      "min logS: -0.09419885073063039 max logP: 0.16199999999999998\n",
      "C00099 : 89.047678464\n",
      "NCCC(=O)O\n",
      "C00014 : 17.026549096\n",
      "N\n",
      "C05670 : 70.053098192\n",
      "N#CCCN\n",
      "C00001 : 18.010564684\n",
      "O\n",
      "C00099 + C00014 <-> C05670 + C00001\n",
      "---------------\n",
      "---------------\n",
      "sRS-XX_XX_XX_XX-KEGG-R01410.gpkl\n",
      "EC: -.-.-.-  --- KEGG ID: R01410\n",
      "min logS: -0.18234229958548587 max logP: 0.2052\n",
      "C01326 : 27.010899031999998\n",
      "C#N\n",
      "C00084 : 44.026214748\n",
      "CC=O\n",
      "C00014 : 17.026549096\n",
      "N\n",
      "C05714 : 70.053098192\n",
      "CC(N)C#N\n",
      "C00001 : 18.010564684\n",
      "O\n",
      "C01326 + C00084 + C00014 <-> C05714 + C00001\n",
      "---------------\n",
      "---------------\n",
      "sRS-XX_XX_XX_XX-KEGG-R01650.gpkl\n",
      "EC: -.-.-.-  --- KEGG ID: R01650\n",
      "min logS: -0.44079744961566675 max logP: 0.16199999999999998\n",
      "C00232 : 102.031694052\n",
      "O=CCCC(=O)O\n",
      "C01326 : 27.010899031999998\n",
      "C#N\n",
      "C00014 : 17.026549096\n",
      "N\n",
      "C05715 : 128.058577496\n",
      "N#CC(N)CCC(=O)O\n",
      "C00001 : 18.010564684\n",
      "O\n",
      "C00232 + C01326 + C00014 <-> C05715 + C00001\n",
      "---------------\n",
      "21 reactions.\n"
     ]
    }
   ],
   "source": [
    "count = 0\n",
    "for pkl in target_RS_2:\n",
    "    rs = get_RS(directory+pkl, output_dir=directory, verbose=False)\n",
    "#     if '-' in rs.EC:\n",
    "#         continue\n",
    "    if rs.min_logS < Y_cut or rs.max_logP > X_cut:\n",
    "        continue\n",
    "    count += 1\n",
    "    print('---------------')\n",
    "    print(rs.pkl)\n",
    "    print('EC:', rs.EC, ' --- KEGG ID:', rs.DB_ID)\n",
    "    print('min logS:', rs.min_logS, 'max logP:', rs.max_logP)\n",
    "    before_str = []\n",
    "    after_str = []\n",
    "    for m in rs.components:\n",
    "        if m.role == 'reactant':\n",
    "            before_str.append(m.name)\n",
    "        elif m.role == 'product':\n",
    "            after_str.append(m.name)\n",
    "        print(m.name, ':', Descriptors.ExactMolWt(Chem.MolFromSmiles(m.SMILES)))\n",
    "        print(m.SMILES)\n",
    "    print(' + '.join(before_str), '<->', ' + '.join(after_str))\n",
    "    print('---------------')\n",
    "print(count, 'reactions.')"
   ]
  },
  {
   "cell_type": "markdown",
   "metadata": {},
   "source": [
    "## Step 5:\n",
    "- Manual collection of reaction information\n",
    "    - Can we get ZINC prices?\n",
    "    - Can we get directionality?"
   ]
  },
  {
   "cell_type": "markdown",
   "metadata": {},
   "source": [
    "----------------------------------------------------------------------------\n",
    "- sRS-1_14_14_41-KEGG-R11639.gpkl, EC: 1.14.14.41  --- KEGG ID: R11639\n",
    "    - C20312 <-> C21525 + C00001 -- direction:\n",
    "        - C20312 : 101.084063972\n",
    "            - CC[C@H](C)/C=N\\O -- http://zinc15.docking.org/substances/ZINC000013540376/\n",
    "                - has prices\n",
    "        - C21525 : 83.073499288\n",
    "            - CCC(C)C#N -- http://zinc15.docking.org/substances/ZINC000001648961/, http://zinc15.docking.org/substances/ZINC000002017145/\n",
    "                - has prices\n",
    "        - C00001 : 18.010564684\n",
    "            - O\n",
    "----------------------------------------------------------------------------\n",
    "- sRS-1_14_14_41-KEGG-R11641.gpkl, EC: 1.14.14.41  --- KEGG ID: R11641\n",
    "    - C20315 <-> C02420 + C00001 -- direction:\n",
    "        - C20315 : 87.068413908\n",
    "            - CC(C)/C=N\\O -- http://zinc15.docking.org/substances/ZINC000013508087/\n",
    "                - has prices\n",
    "        - C02420 : 69.057849224\n",
    "            - CC(C)C#N -- http://zinc15.docking.org/substances/ZINC000000901364/\n",
    "                - has prices\n",
    "        - C00001 : 18.010564684\n",
    "            - O\n",
    "----------------------------------------------------------------------------\n",
    "- sRS-2_8_1_1-KEGG-R01931.gpkl, EC: 2.8.1.1  --- KEGG ID: R01931 --- SKIPPED\n",
    "    - C00320 + C00177 <-> C00094 + C01755 -- direction:\n",
    "        - C00320 : 112.93725947191001\n",
    "            - O=S(=O)(O)[S-]\n",
    "        - C00177 : 26.00362257991\n",
    "            - [C-]#N\n",
    "        - C00094 : 81.97246492400001\n",
    "            - O=S(O)O\n",
    "        - C01755 : 58.982970032\n",
    "            - N#CS\n",
    "----------------------------------------------------------------------------\n",
    "- sRS-3_5_5_1-KEGG-R01887.gpkl, EC: 3.5.5.1  --- KEGG ID: R01887\n",
    "    - C05715 + C00001 <-> C00302 + C00014 -- direction: Forms glutamate (C00302)\\cite{yanase1983}, which is takes an expensive chemical and makes a cheap one.\n",
    "        - C05715 : 128.058577496\n",
    "            - N#CC(N)CCC(=O)O -- http://zinc15.docking.org/substances/ZINC000000895866/, http://zinc15.docking.org/substances/ZINC000000895869/ \n",
    "                - has prices - make on demand\n",
    "        - C00001 : 18.010564684\n",
    "            - O\n",
    "        - C00302 : 147.053157768\n",
    "            - NC(CCC(=O)O)C(=O)O -- http://zinc15.docking.org/substances/ZINC000000895124/\n",
    "                - glutamate, very easy to get\n",
    "        - C00014 : 17.026549096\n",
    "            - N\n",
    "----------------------------------------------------------------------------\n",
    "- sRS-3_5_5_1-KEGG-R03542.gpkl, EC: 3.5.5.1  --- KEGG ID: R03542\n",
    "    - C05714 + C00001 <-> C01401 + C00014 -- direction: will be the same as RO1887 above. Not ideal.\n",
    "        - C05714 : 70.053098192\n",
    "            - CC(N)C#N -- http://zinc15.docking.org/substances/ZINC000020177345/, http://zinc15.docking.org/substances/ZINC000020177348/\n",
    "                - has prices\n",
    "        - C00001 : 18.010564684\n",
    "            - O\n",
    "        - C01401 : 89.047678464\n",
    "            - CC(N)C(=O)O -- alanine. very easy to purchase\n",
    "        - C00014 : 17.026549096\n",
    "            - N\n",
    "----------------------------------------------------------------------------\n",
    "- sRS-3_5_5_4-KEGG-R00486.gpkl, EC: 3.5.5.4  --- KEGG ID: R00486\n",
    "    - C02512 + C00001 <-> C00049 + C00014 -- direction: toward l_alanine (from KEGG pathway), therefore not productive.\\cite{yanase1983}\n",
    "        - C02512 : 114.042927432\n",
    "            - N#CC[C@H](N)C(=O)O -- http://zinc15.docking.org/substances/ZINC000000901380/\n",
    "                - has prices on Sigma, not cheap.\n",
    "        - C00001 : 18.010564684\n",
    "            - O\n",
    "        - C00049 : 133.037507704\n",
    "            - N[C@@H](CC(=O)O)C(=O)O -- http://zinc15.docking.org/substances/ZINC000000895032/\n",
    "                - has prices, is aspartate.\n",
    "        - C00014 : 17.026549096\n",
    "            - N\n",
    "----------------------------------------------------------------------------\n",
    "- sRS-3_5_5_4-KEGG-R01267.gpkl, EC: 3.5.5.4  --- KEGG ID: R01267 -- Skip. Assuming similar to R00486\n",
    "    - C00152 <-> C02512 + C00001 -- direction:\n",
    "        - C00152 : 132.053492116\n",
    "            - NC(=O)C[C@H](N)C(=O)O\n",
    "        - C02512 : 114.042927432\n",
    "            - N#CC[C@H](N)C(=O)O\n",
    "        - C00001 : 18.010564684\n",
    "            - O\n",
    "----------------------------------------------------------------------------\n",
    "- sRS-3_5_5_7-KEGG-R05358.gpkl, EC: 3.5.5.7  --- KEGG ID: R05358\n",
    "    - C01998 + C00001 <-> C00511 + C00014 -- direction: KEGG pathway says the cheaper molecule is product. Not productive.\n",
    "        - C01998 : 53.026549096\n",
    "            - C=CC#N -- http://zinc15.docking.org/substances/ZINC000000901212/\n",
    "                - has prices: 38 USD per gram on MOLPORT\n",
    "        - C00001 : 18.010564684\n",
    "            - O\n",
    "        - C00511 : 72.021129368\n",
    "            - C=CC(=O)O -- http://zinc15.docking.org/substances/ZINC000000895281/\n",
    "                - has prices: 21 USD per gram on MOLPORT\n",
    "        - C00014 : 17.026549096\n",
    "            - N\n",
    "----------------------------------------------------------------------------\n",
    "- sRS-4_2_1_65-KEGG-R01267.gpkl, EC: 4.2.1.65  --- KEGG ID: R01267\n",
    "    - C00152 <-> C02512 + C00001 -- direction: Same as above R01267.\n",
    "        - C00152 : 132.053492116\n",
    "            - NC(=O)C[C@H](N)C(=O)O\n",
    "        - C02512 : 114.042927432\n",
    "            - N#CC[C@H](N)C(=O)O\n",
    "        - C00001 : 18.010564684\n",
    "           - O\n",
    "----------------------------------------------------------------------------\n",
    "- sRS-4_2_1_69-KEGG-R00778.gpkl, EC: 4.2.1.69  --- KEGG ID: R00778\n",
    "    - C00086 <-> C01566 + C00001 -- direction: not productive. Urea to cyanamide. Both cheap.\n",
    "        - C00086 : 60.032362748\n",
    "            - NC(N)=O\n",
    "        - C01566 : 42.021798063999995\n",
    "            - N#CN\n",
    "        - C00001 : 18.010564684\n",
    "            - O\n",
    "----------------------------------------------------------------------------\n",
    "- sRS-4_2_1_84-KEGG-R05379.gpkl, EC: 4.2.1.84  --- KEGG ID: R05379\n",
    "    - C01659 <-> C01998 + C00001 -- direction:\n",
    "        - C01659 : 71.03711378\n",
    "            - C=CC(N)=O\n",
    "        - C01998 : 53.026549096\n",
    "            - C=CC#N\n",
    "        - C00001 : 18.010564684\n",
    "            - O\n",
    "----------------------------------------------------------------------------\n",
    "- sRS-4_4_1_9-KEGG-R02846.gpkl, EC: 4.4.1.9  --- KEGG ID: R02846 - Because of the cyanide ion, RDKIT did not recognise this as containing a nitrile on both sides.\n",
    "    - C00736 + C00177 <-> C00283 + C02512 -- direction: From cysteine to C02512\\cite{akopyan1975}\n",
    "        - C00736 : 121.019749464\n",
    "            - NC(CS)C(=O)O -- http://zinc15.docking.org/substances/ZINC000000895042/\n",
    "                - Cysteine. Shoudl be cheap\n",
    "        - C00177 : 26.00362257991\n",
    "            - [C-]#N\n",
    "        - C00283 : 33.987721064\n",
    "            - S\n",
    "        - C02512 : 114.042927432\n",
    "            - N#CC[C@H](N)C(=O)O -- http://zinc15.docking.org/substances/ZINC000000901380/\n",
    "                - has prices on Sigma, not cheap.\n",
    "----------------------------------------------------------------------------\n",
    "- sRS-XX_XX_XX_XX-KEGG-R00917.gpkl, EC: -.-.-.-  --- KEGG ID: R00917\n",
    "    - C00099 + C00014 <-> C05670 + C00001 -- direction: Substare is the nitrile based on KEGG suggestions, even though EC not specified they say its similar to EC 3.5.5.1/.4\n",
    "        - C00099 : 89.047678464\n",
    "            - NCCC(=O)O\n",
    "        - C00014 : 17.026549096\n",
    "            - N\n",
    "        - C05670 : 70.053098192\n",
    "            - N#CCCN\n",
    "        - C00001 : 18.010564684\n",
    "            - O\n",
    "----------------------------------------------------------------------------"
   ]
  },
  {
   "cell_type": "markdown",
   "metadata": {},
   "source": [
    "## Step 5:\n",
    "- Get some properties of target reaction + draw molecules for paper"
   ]
  },
  {
   "cell_type": "code",
   "execution_count": 31,
   "metadata": {},
   "outputs": [],
   "source": [
    "pkl_name = 'sRS-4_4_1_9-KEGG-R02846.gpkl'"
   ]
  },
  {
   "cell_type": "code",
   "execution_count": 32,
   "metadata": {},
   "outputs": [
    {
     "name": "stdout",
     "output_type": "stream",
     "text": [
      "loading: sRS-4_4_1_9-KEGG-R02846.gpkl\n"
     ]
    }
   ],
   "source": [
    "rs = get_RS(directory+pkl_name, output_dir=directory, verbose=True)"
   ]
  },
  {
   "cell_type": "code",
   "execution_count": 33,
   "metadata": {},
   "outputs": [
    {
     "name": "stdout",
     "output_type": "stream",
     "text": [
      "58.7\n"
     ]
    }
   ],
   "source": [
    "print(rs.delta_comp)"
   ]
  },
  {
   "cell_type": "code",
   "execution_count": 34,
   "metadata": {},
   "outputs": [
    {
     "name": "stdout",
     "output_type": "stream",
     "text": [
      "0.26391537727500225\n"
     ]
    }
   ],
   "source": [
    "print(rs.delta_sa)"
   ]
  },
  {
   "cell_type": "code",
   "execution_count": 36,
   "metadata": {},
   "outputs": [
    {
     "name": "stdout",
     "output_type": "stream",
     "text": [
      "-0.04787119519373567 0.11280000000000001\n"
     ]
    }
   ],
   "source": [
    "print(rs.min_logS, rs.max_logP)"
   ]
  },
  {
   "cell_type": "code",
   "execution_count": 35,
   "metadata": {},
   "outputs": [
    {
     "name": "stdout",
     "output_type": "stream",
     "text": [
      "C00736 5.74 -0.6719000000000002 -0.03490041199868123 reactant 2.9786198701131212 75.3 /home/atarzia/psp/molecule_DBs/atarzia/ATRS_115.gpkl\n",
      "C00736 KEGG\n",
      "--- 121.019749464\n",
      "C00177 3.281 0.09637 0.017655488544460363 reactant 5.247906380487853 10 /home/atarzia/psp/molecule_DBs/atarzia/ATRS_3689.gpkl\n",
      "C00177 KEGG\n",
      "--- 26.00362257991\n",
      "C00283 3.631 0.11280000000000001 -0.04787119519373567 product 6.963984615384615 0 /home/atarzia/psp/molecule_DBs/atarzia/ATRS_363.gpkl\n",
      "C00283 KEGG\n",
      "--- 33.987721064\n",
      "C02512 5.92 -0.6880200000000001 0.023729556962231432 product 3.2425352473881235 134 /home/atarzia/psp/molecule_DBs/atarzia/ATRS_2734.gpkl\n",
      "C02512 KEGG\n",
      "--- 114.042927432\n"
     ]
    },
    {
     "data": {
      "image/png": "[encoded data removed]",
      "text/plain": [
       "<PIL.PngImagePlugin.PngImageFile image mode=RGB size=600x400 at 0x7FD4912BF860>"
      ]
     },
     "execution_count": 35,
     "metadata": {},
     "output_type": "execute_result"
    }
   ],
   "source": [
    "smiles_list = []\n",
    "n_list = []\n",
    "for m in rs.components:\n",
    "    print(m.name, m.mid_diam, m.logP, m.logS, m.role, m.Synth_score, m.complexity, m.pkl)\n",
    "    print(m.name, m.DB)\n",
    "    print('---', Descriptors.ExactMolWt(Chem.MolFromSmiles(m.SMILES)))\n",
    "    n_list.append(m.name)\n",
    "    smiles_list.append(m.SMILES)\n",
    "    MOL = Chem.MolFromSmiles(m.SMILES)\n",
    "    Draw.MolToFile(MOL, fileName=m.name+'.svg')\n",
    "m_list = [Chem.MolFromSmiles(i) for i in smiles_list]\n",
    "Draw.MolsToGridImage(m_list, legends=n_list)"
   ]
  },
  {
   "cell_type": "code",
   "execution_count": null,
   "metadata": {},
   "outputs": [],
   "source": []
  },
  {
   "cell_type": "markdown",
   "metadata": {},
   "source": [
    "# Done"
   ]
  },
  {
   "cell_type": "code",
   "execution_count": null,
   "metadata": {},
   "outputs": [],
   "source": []
  },
  {
   "cell_type": "code",
   "execution_count": null,
   "metadata": {},
   "outputs": [],
   "source": []
  },
  {
   "cell_type": "code",
   "execution_count": null,
   "metadata": {},
   "outputs": [],
   "source": []
  },
  {
   "cell_type": "code",
   "execution_count": null,
   "metadata": {},
   "outputs": [],
   "source": []
  },
  {
   "cell_type": "markdown",
   "metadata": {},
   "source": [
    "## Step 3 (UNUSED):\n",
    "- Select reactions with only one reactant"
   ]
  },
  {
   "cell_type": "code",
   "execution_count": 49,
   "metadata": {},
   "outputs": [],
   "source": [
    "target_RS_3 = []\n",
    "no_react_1 = []\n",
    "no_react_above = []\n",
    "for pkl in target_RS_2:\n",
    "    rs = get_RS(directory+pkl, output_dir=directory, verbose=False)\n",
    "    no_r = 0\n",
    "    for m in rs.components:\n",
    "        if m.role == 'reactant':\n",
    "            no_r += 1\n",
    "    if no_r > 1:\n",
    "        no_react_above.append(no_r)\n",
    "    elif no_r == 1:\n",
    "        no_react_1.append(no_r)\n",
    "        target_RS_3.append(rs.pkl)\n",
    "    else:\n",
    "        print('THERE IS A PROBLEM HERE!')\n",
    "        print(rs.pkl)\n",
    "        print(rs.DB_ID, rs.DB)\n",
    "        sys.exit()\n"
   ]
  },
  {
   "cell_type": "code",
   "execution_count": 50,
   "metadata": {},
   "outputs": [
    {
     "name": "stdout",
     "output_type": "stream",
     "text": [
      "73 reactions in threshold\n"
     ]
    },
    {
     "data": {
      "image/png": "[encoded data removed]",
      "text/plain": [
       "<Figure size 432x288 with 1 Axes>"
      ]
     },
     "metadata": {},
     "output_type": "display_data"
    }
   ],
   "source": [
    "print(len(target_RS_3), 'reactions in threshold')\n",
    "fig, ax = plt.subplots()    \n",
    "ax.hist(no_react_1, \n",
    "        facecolor='firebrick',  # '#1469b5', \n",
    "        alpha=0.8, histtype='stepfilled', bins=np.arange(0, 10, 1))\n",
    "ax.hist(no_react_above,  \n",
    "        facecolor='lightgray',  # '#FF7900',  \n",
    "        histtype='stepfilled', bins=np.arange(0, 10, 1))\n",
    "ax.tick_params(axis='both', which='major', labelsize=16)\n",
    "ax.set_xlabel('number of reactants', fontsize=16)\n",
    "ax.set_ylabel('count', fontsize=16)\n",
    "ax.set_xlim(0, 5)\n",
    "fig.tight_layout()\n",
    "fig.savefig(directory+\"CS_NoR.pdf\",\n",
    "            dpi=720,\n",
    "            bbox_inches='tight')\n",
    "plt.show()"
   ]
  },
  {
   "cell_type": "code",
   "execution_count": null,
   "metadata": {},
   "outputs": [],
   "source": []
  },
  {
   "cell_type": "markdown",
   "metadata": {},
   "source": [
    "## Step 2 (unused):\n",
    "- From the target RS:\n",
    "    - Plot the value added as the change in synthetic accessibility\n",
    "    - Select out reactions with a change in synthetic accessibility $>$ SA threshold"
   ]
  },
  {
   "cell_type": "code",
   "execution_count": 60,
   "metadata": {},
   "outputs": [],
   "source": [
    "SA_threshold = 1.5"
   ]
  },
  {
   "cell_type": "code",
   "execution_count": 61,
   "metadata": {},
   "outputs": [],
   "source": [
    "target_RS_2 = []\n",
    "top_delta_SA = []\n",
    "other_delta_SA = []\n",
    "for pkl in target_RS:\n",
    "    rs = get_RS(directory+pkl, output_dir=directory, verbose=False)\n",
    "    if abs(rs.delta_sa) > SA_threshold:\n",
    "        top_delta_SA.append(rs.delta_sa)\n",
    "        target_RS_2.append(rs.pkl)\n",
    "    else:\n",
    "        other_delta_SA.append(rs.delta_sa)"
   ]
  },
  {
   "cell_type": "code",
   "execution_count": 62,
   "metadata": {},
   "outputs": [
    {
     "name": "stdout",
     "output_type": "stream",
     "text": [
      "35 reactions in threshold\n"
     ]
    },
    {
     "data": {
      "image/png": "[encoded data removed]",
      "text/plain": [
       "<Figure size 432x288 with 1 Axes>"
      ]
     },
     "metadata": {},
     "output_type": "display_data"
    }
   ],
   "source": [
    "print(len(target_RS_2), 'reactions in threshold')\n",
    "fig, ax = plt.subplots()    \n",
    "ax.hist(top_delta_SA, \n",
    "        facecolor='firebrick',  # '#1469b5', \n",
    "        alpha=0.8, histtype='stepfilled', bins=np.arange(-10, 10, 0.2))\n",
    "ax.hist(other_delta_SA, \n",
    "        facecolor='lightgray',  # '#FF7900', \n",
    "        histtype='stepfilled', bins=np.arange(-10, 10, 0.2))\n",
    "ax.tick_params(axis='both', which='major', labelsize=16)\n",
    "ax.set_xlabel('$\\Delta$ SAscore', fontsize=16)\n",
    "ax.set_ylabel('count', fontsize=16)\n",
    "ax.set_xlim(-10, 10)\n",
    "fig.tight_layout()\n",
    "fig.savefig(directory+\"CS_changeSA.pdf\",\n",
    "            dpi=720,\n",
    "            bbox_inches='tight')\n",
    "plt.show()"
   ]
  }
 ],
 "metadata": {
  "kernelspec": {
   "display_name": "Python 3",
   "language": "python",
   "name": "python3"
  },
  "language_info": {
   "codemirror_mode": {
    "name": "ipython",
    "version": 3
   },
   "file_extension": ".py",
   "mimetype": "text/x-python",
   "name": "python",
   "nbconvert_exporter": "python",
   "pygments_lexer": "ipython3",
   "version": "3.6.9"
  }
 },
 "nbformat": 4,
 "nbformat_minor": 2
}
