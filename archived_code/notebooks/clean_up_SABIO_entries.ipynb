{
 "cells": [
  {
   "cell_type": "code",
   "execution_count": null,
   "metadata": {
    "ExecuteTime": {
     "end_time": "2018-11-08T00:04:02.672134Z",
     "start_time": "2018-11-08T00:04:02.625600Z"
    }
   },
   "outputs": [],
   "source": [
    "from IPython.core.display import HTML\n",
    "display(HTML(\"<style>.container { width:95% !important; }</style>\"))   \n",
    "%load_ext autoreload\n",
    "%autoreload 1"
   ]
  },
  {
   "cell_type": "code",
   "execution_count": null,
   "metadata": {},
   "outputs": [],
   "source": [
    "from ercollect import molecule as mol\n",
    "from ercollect.molecule import molecule\n",
    "from ercollect import rxn_syst\n",
    "from ercollect.rxn_syst import reaction, get_RS\n",
    "import numpy as np\n",
    "import random\n",
    "from rdkit.Chem import Draw\n",
    "from rdkit.Chem import AllChem as Chem\n",
    "from rdkit.Chem.Draw import IPythonConsole\n",
    "from rdkit.Chem.Draw.MolDrawing import MolDrawing, DrawingOptions\n",
    "from IPython.display import clear_output\n",
    "from ercollect import SABIO_IO"
   ]
  },
  {
   "cell_type": "markdown",
   "metadata": {},
   "source": [
    "Author: Andrew Tarzia\n",
    "\n",
    "Date Created: 15 Nov 2018\n",
    "\n",
    "Distributed under the terms of the MIT License."
   ]
  },
  {
   "cell_type": "markdown",
   "metadata": {},
   "source": [
    "# Notebook to clean up collected SABIO entries\n",
    "This notebook contains some fixes for problems that occured due to the SABIO database and could not be integrated into the actual code base"
   ]
  },
  {
   "cell_type": "markdown",
   "metadata": {},
   "source": [
    "# PROBLEM 1:\n",
    "## 15/11/18\n",
    "- found that SABIO does not report different UniProt accession numbers for mutants of a sequence.\n",
    "- as it is not clear which sequence should be used in those cases, I have decided to throw out those reactions"
   ]
  },
  {
   "cell_type": "markdown",
   "metadata": {
    "ExecuteTime": {
     "end_time": "2018-11-08T02:15:52.671859Z",
     "start_time": "2018-11-08T02:15:52.407602Z"
    }
   },
   "source": [
    "## Step 1:\n",
    "Determine how many of existing RS have a mutant sequence and set rs.etype attribute"
   ]
  },
  {
   "cell_type": "code",
   "execution_count": null,
   "metadata": {
    "ExecuteTime": {
     "end_time": "2018-11-08T02:15:53.180016Z",
     "start_time": "2018-11-08T02:15:53.176223Z"
    }
   },
   "outputs": [],
   "source": [
    "rs_dir = '/home/atarzia/psp/screening_results/new_reactions_sabio_wcharge/'\n",
    "# rs_dir = '/home/atarzia/psp/screening_results/biomin_search_sabio_wcharge/'"
   ]
  },
  {
   "cell_type": "code",
   "execution_count": null,
   "metadata": {
    "ExecuteTime": {
     "end_time": "2018-11-08T04:04:21.726854Z",
     "start_time": "2018-11-08T04:04:21.552644Z"
    },
    "code_folding": [
     2
    ]
   },
   "outputs": [],
   "source": [
    "count_mutant = 0\n",
    "count_total = 0\n",
    "for rs in rxn_syst.yield_rxn_syst(output_dir=rs_dir):\n",
    "    EID = rs.DB_ID\n",
    "    rID = rs.rID\n",
    "#     print(EID, rID)\n",
    "    try:\n",
    "        print(rs.etype)\n",
    "        continue\n",
    "    except AttributeError:\n",
    "        pass\n",
    "    result = SABIO_IO.get_rxnID_from_eID(eID=EID)\n",
    "    count_total += 1\n",
    "    rs.etype = result[4]\n",
    "    if 'wildtype' not in result[4]:\n",
    "        print(rs.DB_ID, rs.pkl)\n",
    "        print(result[4])\n",
    "        count_mutant += 1\n",
    "#     break\n",
    "    rs.save_object(rs_dir+rs.pkl)"
   ]
  },
  {
   "cell_type": "code",
   "execution_count": null,
   "metadata": {},
   "outputs": [],
   "source": [
    "print(count_mutant, count_total, count_mutant/count_total * 100)"
   ]
  },
  {
   "cell_type": "markdown",
   "metadata": {
    "ExecuteTime": {
     "end_time": "2018-11-08T02:15:52.671859Z",
     "start_time": "2018-11-08T02:15:52.407602Z"
    }
   },
   "source": [
    "## Step 2:\n",
    "For all RS with 'wildtype' not in rs.etype attribute, set skip_reaction = True and reason"
   ]
  },
  {
   "cell_type": "code",
   "execution_count": null,
   "metadata": {},
   "outputs": [],
   "source": [
    "for rs in rxn_syst.yield_rxn_syst(output_dir=rs_dir):\n",
    "    if 'wildtype' not in rs.etype:\n",
    "        print(rs.DB_ID, rs.pkl)\n",
    "        rs.skip_rxn = True\n",
    "        rs.skip_reason = 'SABIO E-ID is for mutant'\n",
    "    rs.save_object(rs_dir+rs.pkl)"
   ]
  },
  {
   "cell_type": "markdown",
   "metadata": {},
   "source": [
    "# PROBLEM 2:\n",
    "## 15/11/18\n",
    "- found inaccuracies in the API for modifiers of reactions:\n",
    "    - in some cases the wrong ion is reported compared to the website or any ion is reported instead of non compared to the website\n",
    "- as of 23/11/18, we are removing all 'modifier' compounds"
   ]
  },
  {
   "cell_type": "markdown",
   "metadata": {},
   "source": [
    "## Step 1:\n",
    "Determine the molecules present in modifier roles"
   ]
  },
  {
   "cell_type": "code",
   "execution_count": null,
   "metadata": {
    "ExecuteTime": {
     "end_time": "2018-11-08T02:15:53.180016Z",
     "start_time": "2018-11-08T02:15:53.176223Z"
    }
   },
   "outputs": [],
   "source": [
    "# rs_dir = '/home/atarzia/psp/screening_results/new_reactions_sabio_wcharge/'\n",
    "rs_dir = '/home/atarzia/psp/screening_results/biomin_search_sabio_wcharge/'"
   ]
  },
  {
   "cell_type": "code",
   "execution_count": null,
   "metadata": {
    "ExecuteTime": {
     "end_time": "2018-11-08T04:04:21.726854Z",
     "start_time": "2018-11-08T04:04:21.552644Z"
    },
    "code_folding": [
     2
    ]
   },
   "outputs": [],
   "source": [
    "mod_list = []\n",
    "mod_names = []\n",
    "for rs in rxn_syst.yield_rxn_syst(output_dir=rs_dir):\n",
    "    if rs.skip_rxn is True:\n",
    "        continue\n",
    "    for m in rs.components:\n",
    "        if 'modifier' in m.role:  # m.role != 'reactant' and m.role != 'product':\n",
    "            print(rs.DB_ID, rs.pkl, m.name, m.role)\n",
    "            mod_list.append((rs.DB_ID, rs.pkl, m.name, m.role))\n",
    "            mod_names.append(m.name)"
   ]
  },
  {
   "cell_type": "code",
   "execution_count": null,
   "metadata": {},
   "outputs": [],
   "source": [
    "print(len(list(set(mod_names))))\n",
    "print(list(set(mod_names)))"
   ]
  },
  {
   "cell_type": "markdown",
   "metadata": {},
   "source": [
    "## Step 2:\n",
    "- Remove components from RS if:\n",
    "    - role has: 'inhibitor', 'activator' or 'unknown'\n",
    "    - UPDATE (23/11/18): role has 'modifier' in it.\n",
    "- save RS  "
   ]
  },
  {
   "cell_type": "code",
   "execution_count": null,
   "metadata": {},
   "outputs": [],
   "source": [
    "for rs in rxn_syst.yield_rxn_syst(output_dir=rs_dir):\n",
    "    if rs.skip_rxn is True:\n",
    "        continue\n",
    "    new_comp = []\n",
    "    for m in rs.components:\n",
    "#         if m.role != 'reactant' and m.role != 'product' and 'cofactor' not in m.role:\n",
    "        if 'modifier' in m.role:\n",
    "            print(rs.DB_ID, rs.pkl, m.name, m.role)\n",
    "            continue\n",
    "        else:\n",
    "            new_comp.append(m)\n",
    "    rs.components = new_comp\n",
    "    rs.save_object(rs_dir+rs.pkl)"
   ]
  },
  {
   "cell_type": "markdown",
   "metadata": {},
   "source": [
    "## Step 3:\n",
    "- Set all \n",
    "    - rs.max_comp_size = None\n",
    "    - rs.all_fit = None\n",
    "    - rs.delta_comp\n",
    "    - rs.delta_sa = None\n",
    "    - rs.max_XlogP = None\n",
    "    - rs.min_XlogP = None\n",
    "    - rs.max_logP = None\n",
    "    - rs.min_logP = None\n",
    "    - rs.p_max_comp = None\n",
    "    - rs.r_max_comp = None\n",
    "    - rs.p_max_sa = None\n",
    "    - rs.r_max_sa = None\n",
    "- rerun rxn_syst.py analysis (external)"
   ]
  },
  {
   "cell_type": "code",
   "execution_count": null,
   "metadata": {},
   "outputs": [],
   "source": [
    "for rs in rxn_syst.yield_rxn_syst(output_dir=rs_dir):\n",
    "    rs.max_comp_size = None\n",
    "    rs.all_fit = None\n",
    "    rs.delta_comp = None\n",
    "    rs.delta_sa = None\n",
    "    rs.max_logP = None\n",
    "    rs.max_XlogP = None\n",
    "    rs.min_logP = None\n",
    "    rs.min_XlogP = None\n",
    "    rs.p_max_comp = None\n",
    "    rs.p_max_sa = None\n",
    "    rs.r_max_comp = None\n",
    "    rs.r_max_sa = None\n",
    "    rs.save_object(rs_dir+rs.pkl)"
   ]
  },
  {
   "cell_type": "markdown",
   "metadata": {},
   "source": [
    "## Step 4:\n",
    "- Delete all reaction files with skip_rxn = True\n",
    "    - this was done because I could not guarantee that the skips were caused by 'modifiers' or not\n",
    "- rerun rxn_syst.py collection (external)"
   ]
  },
  {
   "cell_type": "code",
   "execution_count": null,
   "metadata": {},
   "outputs": [],
   "source": [
    "import os"
   ]
  },
  {
   "cell_type": "code",
   "execution_count": null,
   "metadata": {},
   "outputs": [],
   "source": [
    "for rs in rxn_syst.yield_rxn_syst(output_dir=rs_dir):\n",
    "    if rs.skip_rxn is True:\n",
    "        print(rs.pkl)\n",
    "        os.system('rm '+rs_dir+rs.pkl)"
   ]
  },
  {
   "cell_type": "markdown",
   "metadata": {},
   "source": [
    "# PROBLEM 3:\n",
    "## 24/11/18\n",
    "- Needed to manually setup the oxidized ABTS molecule as the conversion from InChi to RDKit does not behave well\n",
    "- Having done that to the molecule pkl file, I now need to replace this component with the new pkl for all RS that contain it\n",
    "    - the simplest way to do this would be to find all RS with this component and set the attributes of this component to None and rs.mol_collected to False so that when the analysis is done, the molecule is replaced"
   ]
  },
  {
   "cell_type": "markdown",
   "metadata": {},
   "source": [
    "## Step 1:\n",
    "Find all RS with this component"
   ]
  },
  {
   "cell_type": "code",
   "execution_count": null,
   "metadata": {},
   "outputs": [],
   "source": [
    "rs_dir = '/home/atarzia/psp/screening_results/new_reactions_sabio_wcharge/'\n",
    "# rs_dir = '/home/atarzia/psp/screening_results/biomin_search_sabio_wcharge/'\n",
    "# rs_dir = '/home/atarzia/psp/screening_results/new_reactions_kegg_atlas/'"
   ]
  },
  {
   "cell_type": "code",
   "execution_count": null,
   "metadata": {},
   "outputs": [],
   "source": [
    "pkls_to_mod = []\n",
    "for rs in rxn_syst.yield_rxn_syst(output_dir=rs_dir):\n",
    "    if rs.components is None:\n",
    "        continue\n",
    "    for m in rs.components:\n",
    "        if m.name == \"Oxidized 2,2'-azino-bis(3-ethylbenzthiazoline-6-sulfonic acid)\" or m.pkl == \"/home/atarzia/psp/molecule_DBs/atarzia/ATRS_5399.gpkl\":\n",
    "            print(m.name, '------', m.pkl)\n",
    "            pkls_to_mod.append(rs.pkl)\n",
    "            break"
   ]
  },
  {
   "cell_type": "code",
   "execution_count": null,
   "metadata": {},
   "outputs": [],
   "source": [
    "pkls_to_mod"
   ]
  },
  {
   "cell_type": "markdown",
   "metadata": {},
   "source": [
    "## Step 2:\n",
    "For all RS collected:\n",
    "- replace the target component with the one manually updated from the molecule DB using the existing search function"
   ]
  },
  {
   "cell_type": "code",
   "execution_count": null,
   "metadata": {},
   "outputs": [],
   "source": [
    "from ercollect.molecule import molecule, read_molecule_lookup_file"
   ]
  },
  {
   "cell_type": "code",
   "execution_count": null,
   "metadata": {},
   "outputs": [],
   "source": [
    "pkls_done = []"
   ]
  },
  {
   "cell_type": "code",
   "execution_count": null,
   "metadata": {},
   "outputs": [],
   "source": [
    "N = len(pkls_to_mod)\n",
    "for i, PKL in enumerate(pkls_to_mod):\n",
    "    if PKL in pkls_done:\n",
    "        continue\n",
    "    print(i, '======', N)\n",
    "    rs = get_RS(rs_dir+PKL, output_dir=rs_dir, verbose=True)\n",
    "    for m in rs.components:\n",
    "        if m.name == \"Oxidized 2,2'-azino-bis(3-ethylbenzthiazoline-6-sulfonic acid)\":\n",
    "            print(m.SMILES, m.InChi)\n",
    "            m.SMILES = None\n",
    "            m.InChi = None\n",
    "            lookup_file = '/home/atarzia/psp/molecule_DBs/atarzia/lookup.txt'\n",
    "            molecule_dataset = read_molecule_lookup_file(lookup_file=lookup_file)\n",
    "            new_m = m.get_compound(dataset=molecule_dataset)\n",
    "            print(new_m.SMILES, new_m.InChi)\n",
    "            m = new_m\n",
    "    rs.save_object(rs_dir+rs.pkl)\n",
    "    pkls_done.append(PKL)"
   ]
  },
  {
   "cell_type": "code",
   "execution_count": null,
   "metadata": {},
   "outputs": [],
   "source": []
  },
  {
   "cell_type": "code",
   "execution_count": null,
   "metadata": {},
   "outputs": [],
   "source": []
  }
 ],
 "metadata": {
  "kernelspec": {
   "display_name": "Python 3",
   "language": "python",
   "name": "python3"
  },
  "language_info": {
   "codemirror_mode": {
    "name": "ipython",
    "version": 3
   },
   "file_extension": ".py",
   "mimetype": "text/x-python",
   "name": "python",
   "nbconvert_exporter": "python",
   "pygments_lexer": "ipython3",
   "version": "3.6.5"
  }
 },
 "nbformat": 4,
 "nbformat_minor": 2
}
