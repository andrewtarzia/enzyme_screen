{
 "cells": [
  {
   "cell_type": "code",
   "execution_count": 1,
   "metadata": {
    "ExecuteTime": {
     "end_time": "2018-08-14T07:02:01.380697Z",
     "start_time": "2018-08-14T07:02:01.300382Z"
    }
   },
   "outputs": [
    {
     "data": {
      "text/html": [
       "<style>.container { width:95% !important; }</style>"
      ],
      "text/plain": [
       "<IPython.core.display.HTML object>"
      ]
     },
     "metadata": {},
     "output_type": "display_data"
    }
   ],
   "source": [
    "from IPython.core.display import HTML\n",
    "display(HTML(\"<style>.container { width:95% !important; }</style>\"))   \n",
    "%load_ext autoreload\n",
    "%autoreload 1"
   ]
  },
  {
   "cell_type": "markdown",
   "metadata": {},
   "source": [
    "Author: Andrew Tarzia\n",
    "\n",
    "Date Created: 12 Jul 2018\n",
    "\n",
    "License:"
   ]
  },
  {
   "cell_type": "markdown",
   "metadata": {},
   "source": [
    "# Notebook for getting molecule parameters using RDKIT\n"
   ]
  },
  {
   "cell_type": "code",
   "execution_count": 2,
   "metadata": {
    "ExecuteTime": {
     "end_time": "2018-08-14T07:02:03.129626Z",
     "start_time": "2018-08-14T07:02:02.097147Z"
    }
   },
   "outputs": [],
   "source": [
    "import numpy as np\n",
    "import pandas as pd\n",
    "import os\n",
    "from rdkit.Chem import AllChem as Chem\n",
    "from rdkit.Chem import Descriptors\n",
    "from rdkit.Chem.Descriptors3D import NPR1, NPR2, PMI1, PMI2, PMI3\n",
    "from rdkit.Chem.Draw.MolDrawing import MolDrawing\n",
    "from rdkit.Chem.Draw import IPythonConsole\n",
    "from rdkit.Chem import Draw\n",
    "from rdkit.Geometry import rdGeometry\n",
    "from rdkit.Chem import PyMol\n",
    "import py3Dmol\n",
    "from ipywidgets import interact, interactive, fixed\n",
    "from rdkit import Geometry\n",
    "import tempfile\n",
    "import matplotlib.pyplot as plt\n",
    "%aimport rdkit_functions\n",
    "%aimport ellipsoid"
   ]
  },
  {
   "cell_type": "markdown",
   "metadata": {},
   "source": [
    "# Notes:\n",
    "# Todo:\n",
    "- timing\n",
    " - speed up reading: https://rdkit.blogspot.com/2016/09/avoiding-unnecessary-work-and.html"
   ]
  },
  {
   "cell_type": "code",
   "execution_count": 3,
   "metadata": {
    "ExecuteTime": {
     "end_time": "2018-08-14T07:02:03.175844Z",
     "start_time": "2018-08-14T07:02:03.170978Z"
    }
   },
   "outputs": [],
   "source": [
    "# molecule file dir\n",
    "molecule_file = '/home/atarzia/psp/linBmolecules/linbmolecules.txt'\n",
    "# output dir\n",
    "output_dir = '/home/atarzia/psp/linBmolecules/'"
   ]
  },
  {
   "cell_type": "code",
   "execution_count": 4,
   "metadata": {
    "ExecuteTime": {
     "end_time": "2018-08-14T07:02:03.702541Z",
     "start_time": "2018-08-14T07:02:03.656776Z"
    }
   },
   "outputs": [],
   "source": [
    "def define_plot_variables(ax, title, ytitle, xtitle, xlim, ylim):\n",
    "    \"\"\"\n",
    "    Series of matplotlib pyplot settings to make all plots unitform.\n",
    "    \"\"\"\n",
    "    # Set number of ticks for x-axis\n",
    "    ax.tick_params(axis='both', which='major', labelsize=16)\n",
    "\n",
    "    ax.set_ylabel(ytitle, fontsize=16)\n",
    "    # ax.legend([y, n], ['aligned', 'not aligned'], loc=4, fancybox=True)\n",
    "    ax.set_xlim(xlim)\n",
    "    ax.set_ylim(ylim)\n",
    "    ax.set_xticklabels(['diffuses', 'does not diffuse'])\n",
    "    ax.set_xticks([0.25, 0.75])\n",
    "\n",
    "\n",
    "def define_parity_plot_variables(ax, title, ytitle, xtitle, xlim, ylim):\n",
    "    \"\"\"\n",
    "    Series of matplotlib pyplot settings to make all plots unitform.\n",
    "    \"\"\"\n",
    "    # Set number of ticks for x-axis\n",
    "    ax.tick_params(axis='both', which='major', labelsize=16)\n",
    "\n",
    "    ax.set_xlabel(xtitle, fontsize=16)\n",
    "    ax.set_ylabel(ytitle, fontsize=16)\n",
    "    # ax.legend([y, n], ['aligned', 'not aligned'], loc=4, fancybox=True)\n",
    "    ax.set_xlim(xlim)\n",
    "    ax.set_ylim(ylim)\n"
   ]
  },
  {
   "cell_type": "code",
   "execution_count": 5,
   "metadata": {
    "ExecuteTime": {
     "end_time": "2018-08-14T07:02:05.247620Z",
     "start_time": "2018-08-14T07:02:04.942110Z"
    }
   },
   "outputs": [
    {
     "name": "stdout",
     "output_type": "stream",
     "text": [
      "/home/atarzia/psp/linBmolecules/molecules_1.pdf\n",
      "/home/atarzia/psp/linBmolecules/molecules_2.pdf\n"
     ]
    }
   ],
   "source": [
    "df, molecules, diameters = rdkit_functions.read_mol_txt_file(molecule_file)\n",
    "rdkit_functions.produce_quick_fig_mol(molecules, output_dir+'molecules.pdf')"
   ]
  },
  {
   "cell_type": "code",
   "execution_count": 6,
   "metadata": {
    "ExecuteTime": {
     "end_time": "2018-08-14T07:02:05.724421Z",
     "start_time": "2018-08-14T07:02:05.665912Z"
    }
   },
   "outputs": [],
   "source": [
    "def drawit(m, p, confId=-1):\n",
    "    mb = Chem.MolToMolBlock(m, confId=confId)\n",
    "    p.removeAllModels()\n",
    "    p.addModel(mb,'sdf')\n",
    "    p.setStyle({'stick':{}})\n",
    "    p.setBackgroundColor('0xeeeeee')\n",
    "    p.zoomTo()\n",
    "    return p.show()\n",
    "\n",
    "\n",
    "def drawit2(m, p, confId=-1):\n",
    "    mb = Chem.MolToMolBlock(m, confId=confId)\n",
    "    p.addModel(mb, 'sdf')\n",
    "    p.setStyle({'stick':{}})\n",
    "    p.setBackgroundColor('0xeeeeee')\n",
    "    p.zoomTo()"
   ]
  },
  {
   "cell_type": "code",
   "execution_count": 7,
   "metadata": {
    "ExecuteTime": {
     "end_time": "2018-08-14T07:02:06.228281Z",
     "start_time": "2018-08-14T07:02:06.197525Z"
    }
   },
   "outputs": [],
   "source": [
    "for name, smile in molecules.items():\n",
    "    if name != 'MIM':\n",
    "        continue\n",
    "    m = Chem.MolFromSmiles(smile)\n",
    "    m = Chem.AddHs(m)\n",
    "    Chem.EmbedMultipleConfs(m, numConfs=10, randomSeed=0xf00d, \n",
    "                            useExpTorsionAnglePrefs=True,\n",
    "                            useBasicKnowledge=True)\n",
    "    p = py3Dmol.view(width=400,height=400)\n",
    "    interact(drawit, m=fixed(m),p=fixed(p),confId=(0,m.GetNumConformers()-1))"
   ]
  },
  {
   "cell_type": "code",
   "execution_count": 10,
   "metadata": {
    "ExecuteTime": {
     "end_time": "2018-08-14T07:02:10.074490Z",
     "start_time": "2018-08-14T07:02:10.034578Z"
    }
   },
   "outputs": [
    {
     "data": {
      "image/png": "[encoded data removed]",
      "text/plain": [
       "<rdkit.Chem.rdchem.Mol at 0x7fba18bc6d00>"
      ]
     },
     "execution_count": 10,
     "metadata": {},
     "output_type": "execute_result"
    }
   ],
   "source": [
    "m"
   ]
  },
  {
   "cell_type": "code",
   "execution_count": 9,
   "metadata": {
    "ExecuteTime": {
     "end_time": "2018-08-14T07:02:09.010797Z",
     "start_time": "2018-08-14T07:02:08.970942Z"
    }
   },
   "outputs": [
    {
     "data": {
      "application/3dmoljs_load.v0": "<div id=\"3dmolviewer_15342301290087445\"  style=\"position: relative; width: 400px; height: 400px\">\n        <p id=\"3dmolwarning_15342301290087445\" style=\"background-color:#ffcccc;color:black\">You appear to be running in JupyterLab.  You need to install the 3dmol extension: <br>\n        <tt>jupyter labextension install jupyterlab_3dmol</tt></p>\n        </div>\n<script>\n\nvar loadScriptAsync = function(uri){\n  return new Promise((resolve, reject) => {\n    var tag = document.createElement('script');\n    tag.src = uri;\n    tag.async = true;\n    tag.onload = () => {\n      resolve();\n    };\n  var firstScriptTag = document.getElementsByTagName('script')[0];\n  firstScriptTag.parentNode.insertBefore(tag, firstScriptTag);\n});\n};\n\nif(typeof $3Dmolpromise === 'undefined') {\n$3Dmolpromise = null;\n  $3Dmolpromise = loadScriptAsync('https://3dmol.csb.pitt.edu/build/3Dmol.js');\n}\n\nvar viewer_15342301290087445 = null;\nvar warn = document.getElementById(\"3dmolwarning_15342301290087445\");\nif(warn) {\n    warn.parentNode.removeChild(warn);\n}\n$3Dmolpromise.then(function() {\nviewer_15342301290087445 = $3Dmol.createViewer($(\"#3dmolviewer_15342301290087445\"),{backgroundColor:\"white\"});\n\tviewer_15342301290087445.addModel(\"\\n     RDKit          3D\\n\\n 29 28  0  0  0  0  0  0  0  0999 V2000\\n   -0.4422   -0.0883   -0.2603 C   0  0  0  0  0  0  0  0  0  0  0  0\\n    0.9807   -0.5537    0.1104 C   0  0  0  0  0  0  0  0  0  0  0  0\\n    2.0231    0.2564   -0.5787 C   0  0  0  0  0  0  0  0  0  0  0  0\\n    3.3735   -0.2789   -0.1489 C   0  0  0  0  0  0  0  0  0  0  0  0\\n    4.5185    0.4680   -0.7866 C   0  0  0  0  0  0  0  0  0  0  0  0\\n    6.0259   -0.2733   -0.1870 Cl  0  0  0  0  0  0  0  0  0  0  0  0\\n   -1.3348   -0.9931    0.5091 C   0  0  0  0  0  0  0  0  0  0  0  0\\n   -2.7773   -0.9739    0.3806 C   0  0  0  0  0  0  0  0  0  0  0  0\\n   -3.5156    0.2528    0.6700 C   0  0  0  0  0  0  0  0  0  0  0  0\\n   -3.2811    1.3681   -0.2820 C   0  0  0  0  0  0  0  0  0  0  0  0\\n   -4.2990    2.7876    0.2158 Cl  0  0  0  0  0  0  0  0  0  0  0  0\\n   -0.4764    0.9249    0.2658 H   0  0  0  0  0  0  0  0  0  0  0  0\\n   -0.5991    0.0025   -1.3207 H   0  0  0  0  0  0  0  0  0  0  0  0\\n    1.0482   -1.6034   -0.1866 H   0  0  0  0  0  0  0  0  0  0  0  0\\n    1.0500   -0.4159    1.2065 H   0  0  0  0  0  0  0  0  0  0  0  0\\n    1.9675    0.1862   -1.6819 H   0  0  0  0  0  0  0  0  0  0  0  0\\n    2.0097    1.3274   -0.3109 H   0  0  0  0  0  0  0  0  0  0  0  0\\n    3.4612   -1.3411   -0.4968 H   0  0  0  0  0  0  0  0  0  0  0  0\\n    3.4821   -0.2379    0.9459 H   0  0  0  0  0  0  0  0  0  0  0  0\\n    4.5095    0.4311   -1.8750 H   0  0  0  0  0  0  0  0  0  0  0  0\\n    4.5049    1.5164   -0.3805 H   0  0  0  0  0  0  0  0  0  0  0  0\\n   -1.0231   -0.8849    1.6122 H   0  0  0  0  0  0  0  0  0  0  0  0\\n   -0.9664   -2.0669    0.2786 H   0  0  0  0  0  0  0  0  0  0  0  0\\n   -3.0488   -1.3917   -0.6540 H   0  0  0  0  0  0  0  0  0  0  0  0\\n   -3.1567   -1.8468    1.0445 H   0  0  0  0  0  0  0  0  0  0  0  0\\n   -4.6307   -0.0246    0.6416 H   0  0  0  0  0  0  0  0  0  0  0  0\\n   -3.3788    0.5986    1.7460 H   0  0  0  0  0  0  0  0  0  0  0  0\\n   -2.2958    1.7686   -0.4163 H   0  0  0  0  0  0  0  0  0  0  0  0\\n   -3.7293    1.0861   -1.2914 H   0  0  0  0  0  0  0  0  0  0  0  0\\n  1  2  1  0\\n  2  3  1  0\\n  3  4  1  0\\n  4  5  1  0\\n  5  6  1  0\\n  1  7  1  0\\n  7  8  1  0\\n  8  9  1  0\\n  9 10  1  0\\n 10 11  1  0\\n  1 12  1  0\\n  1 13  1  0\\n  2 14  1  0\\n  2 15  1  0\\n  3 16  1  0\\n  3 17  1  0\\n  4 18  1  0\\n  4 19  1  0\\n  5 20  1  0\\n  5 21  1  0\\n  7 22  1  0\\n  7 23  1  0\\n  8 24  1  0\\n  8 25  1  0\\n  9 26  1  0\\n  9 27  1  0\\n 10 28  1  0\\n 10 29  1  0\\nM  END\\n\",\"sdf\");\n\tviewer_15342301290087445.setStyle({\"stick\": {}});\n\tviewer_15342301290087445.setBackgroundColor(\"0xeeeeee\");\n\tviewer_15342301290087445.zoomTo();\nviewer_15342301290087445.render();\n});\n</script>",
      "text/html": [
       "<div id=\"3dmolviewer_15342301290087445\"  style=\"position: relative; width: 400px; height: 400px\">\n",
       "        <p id=\"3dmolwarning_15342301290087445\" style=\"background-color:#ffcccc;color:black\">You appear to be running in JupyterLab.  You need to install the 3dmol extension: <br>\n",
       "        <tt>jupyter labextension install jupyterlab_3dmol</tt></p>\n",
       "        </div>\n",
       "<script>\n",
       "\n",
       "var loadScriptAsync = function(uri){\n",
       "  return new Promise((resolve, reject) => {\n",
       "    var tag = document.createElement('script');\n",
       "    tag.src = uri;\n",
       "    tag.async = true;\n",
       "    tag.onload = () => {\n",
       "      resolve();\n",
       "    };\n",
       "  var firstScriptTag = document.getElementsByTagName('script')[0];\n",
       "  firstScriptTag.parentNode.insertBefore(tag, firstScriptTag);\n",
       "});\n",
       "};\n",
       "\n",
       "if(typeof $3Dmolpromise === 'undefined') {\n",
       "$3Dmolpromise = null;\n",
       "  $3Dmolpromise = loadScriptAsync('https://3dmol.csb.pitt.edu/build/3Dmol.js');\n",
       "}\n",
       "\n",
       "var viewer_15342301290087445 = null;\n",
       "var warn = document.getElementById(\"3dmolwarning_15342301290087445\");\n",
       "if(warn) {\n",
       "    warn.parentNode.removeChild(warn);\n",
       "}\n",
       "$3Dmolpromise.then(function() {\n",
       "viewer_15342301290087445 = $3Dmol.createViewer($(\"#3dmolviewer_15342301290087445\"),{backgroundColor:\"white\"});\n",
       "\tviewer_15342301290087445.addModel(\"\\n     RDKit          3D\\n\\n 29 28  0  0  0  0  0  0  0  0999 V2000\\n   -0.4422   -0.0883   -0.2603 C   0  0  0  0  0  0  0  0  0  0  0  0\\n    0.9807   -0.5537    0.1104 C   0  0  0  0  0  0  0  0  0  0  0  0\\n    2.0231    0.2564   -0.5787 C   0  0  0  0  0  0  0  0  0  0  0  0\\n    3.3735   -0.2789   -0.1489 C   0  0  0  0  0  0  0  0  0  0  0  0\\n    4.5185    0.4680   -0.7866 C   0  0  0  0  0  0  0  0  0  0  0  0\\n    6.0259   -0.2733   -0.1870 Cl  0  0  0  0  0  0  0  0  0  0  0  0\\n   -1.3348   -0.9931    0.5091 C   0  0  0  0  0  0  0  0  0  0  0  0\\n   -2.7773   -0.9739    0.3806 C   0  0  0  0  0  0  0  0  0  0  0  0\\n   -3.5156    0.2528    0.6700 C   0  0  0  0  0  0  0  0  0  0  0  0\\n   -3.2811    1.3681   -0.2820 C   0  0  0  0  0  0  0  0  0  0  0  0\\n   -4.2990    2.7876    0.2158 Cl  0  0  0  0  0  0  0  0  0  0  0  0\\n   -0.4764    0.9249    0.2658 H   0  0  0  0  0  0  0  0  0  0  0  0\\n   -0.5991    0.0025   -1.3207 H   0  0  0  0  0  0  0  0  0  0  0  0\\n    1.0482   -1.6034   -0.1866 H   0  0  0  0  0  0  0  0  0  0  0  0\\n    1.0500   -0.4159    1.2065 H   0  0  0  0  0  0  0  0  0  0  0  0\\n    1.9675    0.1862   -1.6819 H   0  0  0  0  0  0  0  0  0  0  0  0\\n    2.0097    1.3274   -0.3109 H   0  0  0  0  0  0  0  0  0  0  0  0\\n    3.4612   -1.3411   -0.4968 H   0  0  0  0  0  0  0  0  0  0  0  0\\n    3.4821   -0.2379    0.9459 H   0  0  0  0  0  0  0  0  0  0  0  0\\n    4.5095    0.4311   -1.8750 H   0  0  0  0  0  0  0  0  0  0  0  0\\n    4.5049    1.5164   -0.3805 H   0  0  0  0  0  0  0  0  0  0  0  0\\n   -1.0231   -0.8849    1.6122 H   0  0  0  0  0  0  0  0  0  0  0  0\\n   -0.9664   -2.0669    0.2786 H   0  0  0  0  0  0  0  0  0  0  0  0\\n   -3.0488   -1.3917   -0.6540 H   0  0  0  0  0  0  0  0  0  0  0  0\\n   -3.1567   -1.8468    1.0445 H   0  0  0  0  0  0  0  0  0  0  0  0\\n   -4.6307   -0.0246    0.6416 H   0  0  0  0  0  0  0  0  0  0  0  0\\n   -3.3788    0.5986    1.7460 H   0  0  0  0  0  0  0  0  0  0  0  0\\n   -2.2958    1.7686   -0.4163 H   0  0  0  0  0  0  0  0  0  0  0  0\\n   -3.7293    1.0861   -1.2914 H   0  0  0  0  0  0  0  0  0  0  0  0\\n  1  2  1  0\\n  2  3  1  0\\n  3  4  1  0\\n  4  5  1  0\\n  5  6  1  0\\n  1  7  1  0\\n  7  8  1  0\\n  8  9  1  0\\n  9 10  1  0\\n 10 11  1  0\\n  1 12  1  0\\n  1 13  1  0\\n  2 14  1  0\\n  2 15  1  0\\n  3 16  1  0\\n  3 17  1  0\\n  4 18  1  0\\n  4 19  1  0\\n  5 20  1  0\\n  5 21  1  0\\n  7 22  1  0\\n  7 23  1  0\\n  8 24  1  0\\n  8 25  1  0\\n  9 26  1  0\\n  9 27  1  0\\n 10 28  1  0\\n 10 29  1  0\\nM  END\\n\",\"sdf\");\n",
       "\tviewer_15342301290087445.setStyle({\"stick\": {}});\n",
       "\tviewer_15342301290087445.setBackgroundColor(\"0xeeeeee\");\n",
       "\tviewer_15342301290087445.zoomTo();\n",
       "viewer_15342301290087445.render();\n",
       "});\n",
       "</script>"
      ]
     },
     "metadata": {},
     "output_type": "display_data"
    }
   ],
   "source": [
    "for name, smile in molecules.items():\n",
    "    if name != '1,9-dichlorononane':\n",
    "        continue\n",
    "    m = Chem.MolFromSmiles(smile)\n",
    "    m = Chem.AddHs(m)\n",
    "    Chem.EmbedMultipleConfs(m, numConfs=1, randomSeed=0xf00d, \n",
    "                            useExpTorsionAnglePrefs=True,\n",
    "                            useBasicKnowledge=True)\n",
    "    p = py3Dmol.view(width=400,height=400)\n",
    "    for confId in range(1):\n",
    "        drawit2(m,p,confId)\n",
    "    p.show()"
   ]
  },
  {
   "cell_type": "code",
   "execution_count": null,
   "metadata": {},
   "outputs": [],
   "source": []
  },
  {
   "cell_type": "markdown",
   "metadata": {},
   "source": [
    "##  Random Code"
   ]
  },
  {
   "cell_type": "code",
   "execution_count": null,
   "metadata": {},
   "outputs": [],
   "source": [
    "If you want all possible names for a molecule (from the SMILES string) using Python:\n",
    "\n",
    ">>> from cinfony import webel, pybel\n",
    ">>> mol = pybel.readstring(\"smi\", \"C(=O)C=C\")\n",
    ">>> name = webel.Molecule(mol).write(\"names\")\n",
    ">>> print(name)\n",
    "\n",
    "['prop-2-enal', 'Acrolein', .."
   ]
  }
 ],
 "metadata": {
  "kernelspec": {
   "display_name": "Python 3",
   "language": "python",
   "name": "python3"
  },
  "language_info": {
   "codemirror_mode": {
    "name": "ipython",
    "version": 3
   },
   "file_extension": ".py",
   "mimetype": "text/x-python",
   "name": "python",
   "nbconvert_exporter": "python",
   "pygments_lexer": "ipython3",
   "version": "3.6.5"
  }
 },
 "nbformat": 4,
 "nbformat_minor": 2
}
