{
 "cells": [
  {
   "cell_type": "code",
   "execution_count": 1,
   "metadata": {
    "ExecuteTime": {
     "end_time": "2018-07-26T06:26:25.330562Z",
     "start_time": "2018-07-26T06:26:25.271525Z"
    }
   },
   "outputs": [
    {
     "data": {
      "text/html": [
       "<style>.container { width:95% !important; }</style>"
      ],
      "text/plain": [
       "<IPython.core.display.HTML object>"
      ]
     },
     "metadata": {},
     "output_type": "display_data"
    }
   ],
   "source": [
    "from IPython.core.display import HTML\n",
    "display(HTML(\"<style>.container { width:95% !important; }</style>\"))   \n",
    "%load_ext autoreload\n",
    "%autoreload 1"
   ]
  },
  {
   "cell_type": "markdown",
   "metadata": {},
   "source": [
    "Author: Andrew Tarzia\n",
    "\n",
    "Date Created: 12 Jul 2018\n",
    "\n",
    "License:"
   ]
  },
  {
   "cell_type": "markdown",
   "metadata": {},
   "source": [
    "# Notebook for getting molecule parameters using RDKIT\n"
   ]
  },
  {
   "cell_type": "code",
   "execution_count": 2,
   "metadata": {
    "ExecuteTime": {
     "end_time": "2018-07-26T06:26:27.430165Z",
     "start_time": "2018-07-26T06:26:26.304779Z"
    }
   },
   "outputs": [],
   "source": [
    "import numpy as np\n",
    "import pandas as pd\n",
    "import os\n",
    "from rdkit.Chem import AllChem as Chem\n",
    "from rdkit.Chem import Descriptors\n",
    "from rdkit.Chem.Descriptors3D import NPR1, NPR2, PMI1, PMI2, PMI3\n",
    "from rdkit.Chem.Draw.MolDrawing import MolDrawing\n",
    "from rdkit.Chem.Draw import IPythonConsole\n",
    "from rdkit.Chem import Draw\n",
    "from rdkit.Geometry import rdGeometry\n",
    "from rdkit.Chem import PyMol\n",
    "import py3Dmol\n",
    "from ipywidgets import interact, interactive, fixed\n",
    "from rdkit import Geometry\n",
    "import tempfile\n",
    "import matplotlib.pyplot as plt\n",
    "%aimport rdkit_functions\n",
    "%aimport ellipsoid"
   ]
  },
  {
   "cell_type": "markdown",
   "metadata": {},
   "source": [
    "# Notes:\n",
    "# Todo:\n",
    "- timing\n",
    " - speed up reading: https://rdkit.blogspot.com/2016/09/avoiding-unnecessary-work-and.html"
   ]
  },
  {
   "cell_type": "code",
   "execution_count": 3,
   "metadata": {
    "ExecuteTime": {
     "end_time": "2018-07-26T06:26:27.436021Z",
     "start_time": "2018-07-26T06:26:27.432063Z"
    }
   },
   "outputs": [],
   "source": [
    "# molecule file dir\n",
    "molecule_file = '/home/atarzia/psp/linBmolecules/linbmolecules.txt'\n",
    "# output dir\n",
    "output_dir = '/home/atarzia/psp/linBmolecules/'"
   ]
  },
  {
   "cell_type": "code",
   "execution_count": 4,
   "metadata": {
    "ExecuteTime": {
     "end_time": "2018-07-26T06:26:30.505351Z",
     "start_time": "2018-07-26T06:26:30.416152Z"
    }
   },
   "outputs": [],
   "source": [
    "def define_plot_variables(ax, title, ytitle, xtitle, xlim, ylim):\n",
    "    \"\"\"\n",
    "    Series of matplotlib pyplot settings to make all plots unitform.\n",
    "    \"\"\"\n",
    "    # Set number of ticks for x-axis\n",
    "    ax.tick_params(axis='both', which='major', labelsize=16)\n",
    "\n",
    "    ax.set_ylabel(ytitle, fontsize=16)\n",
    "    # ax.legend([y, n], ['aligned', 'not aligned'], loc=4, fancybox=True)\n",
    "    ax.set_xlim(xlim)\n",
    "    ax.set_ylim(ylim)\n",
    "    ax.set_xticklabels(['diffuses', 'does not diffuse'])\n",
    "    ax.set_xticks([0.25, 0.75])\n",
    "\n",
    "\n",
    "def define_parity_plot_variables(ax, title, ytitle, xtitle, xlim, ylim):\n",
    "    \"\"\"\n",
    "    Series of matplotlib pyplot settings to make all plots unitform.\n",
    "    \"\"\"\n",
    "    # Set number of ticks for x-axis\n",
    "    ax.tick_params(axis='both', which='major', labelsize=16)\n",
    "\n",
    "    ax.set_xlabel(xtitle, fontsize=16)\n",
    "    ax.set_ylabel(ytitle, fontsize=16)\n",
    "    # ax.legend([y, n], ['aligned', 'not aligned'], loc=4, fancybox=True)\n",
    "    ax.set_xlim(xlim)\n",
    "    ax.set_ylim(ylim)\n"
   ]
  },
  {
   "cell_type": "code",
   "execution_count": 5,
   "metadata": {
    "ExecuteTime": {
     "end_time": "2018-07-26T06:26:33.640300Z",
     "start_time": "2018-07-26T06:26:33.195408Z"
    }
   },
   "outputs": [
    {
     "name": "stdout",
     "output_type": "stream",
     "text": [
      "/home/atarzia/psp/linBmolecules/molecules_1.pdf\n",
      "/home/atarzia/psp/linBmolecules/molecules_2.pdf\n"
     ]
    }
   ],
   "source": [
    "df, molecules, diameters = rdkit_functions.read_mol_txt_file(molecule_file)\n",
    "rdkit_functions.produce_quick_fig_mol(molecules, output_dir+'molecules.pdf')"
   ]
  },
  {
   "cell_type": "code",
   "execution_count": 7,
   "metadata": {
    "ExecuteTime": {
     "end_time": "2018-07-26T06:26:58.494524Z",
     "start_time": "2018-07-26T06:26:58.438538Z"
    }
   },
   "outputs": [],
   "source": [
    "def drawit(m, p, confId=-1):\n",
    "    mb = Chem.MolToMolBlock(m, confId=confId)\n",
    "    p.removeAllModels()\n",
    "    p.addModel(mb,'sdf')\n",
    "    p.setStyle({'stick':{}})\n",
    "    p.setBackgroundColor('0xeeeeee')\n",
    "    p.zoomTo()\n",
    "    return p.show()\n",
    "\n",
    "\n",
    "def drawit2(m, p, confId=-1):\n",
    "    mb = Chem.MolToMolBlock(m, confId=confId)\n",
    "    p.addModel(mb, 'sdf')\n",
    "    p.setStyle({'stick':{}})\n",
    "    p.setBackgroundColor('0xeeeeee')\n",
    "    p.zoomTo()"
   ]
  },
  {
   "cell_type": "code",
   "execution_count": 8,
   "metadata": {
    "ExecuteTime": {
     "end_time": "2018-07-26T06:27:02.879944Z",
     "start_time": "2018-07-26T06:27:02.792286Z"
    }
   },
   "outputs": [
    {
     "data": {
      "application/vnd.jupyter.widget-view+json": {
       "model_id": "aece775cad414e0693aeb05a402a9992",
       "version_major": 2,
       "version_minor": 0
      },
      "text/html": [
       "<p>Failed to display Jupyter Widget of type <code>interactive</code>.</p>\n",
       "<p>\n",
       "  If you're reading this message in the Jupyter Notebook or JupyterLab Notebook, it may mean\n",
       "  that the widgets JavaScript is still loading. If this message persists, it\n",
       "  likely means that the widgets JavaScript library is either not installed or\n",
       "  not enabled. See the <a href=\"https://ipywidgets.readthedocs.io/en/stable/user_install.html\">Jupyter\n",
       "  Widgets Documentation</a> for setup instructions.\n",
       "</p>\n",
       "<p>\n",
       "  If you're reading this message in another frontend (for example, a static\n",
       "  rendering on GitHub or <a href=\"https://nbviewer.jupyter.org/\">NBViewer</a>),\n",
       "  it may mean that your frontend doesn't currently support widgets.\n",
       "</p>\n"
      ],
      "text/plain": [
       "interactive(children=(IntSlider(value=0, description='confId', max=9), Output()), _dom_classes=('widget-interact',))"
      ]
     },
     "metadata": {},
     "output_type": "display_data"
    }
   ],
   "source": [
    "for name, smile in molecules.items():\n",
    "    if name != 'MIM':\n",
    "        continue\n",
    "    m = Chem.MolFromSmiles(smile)\n",
    "    m = Chem.AddHs(m)\n",
    "    Chem.EmbedMultipleConfs(m, numConfs=10, randomSeed=0xf00d, \n",
    "                            useExpTorsionAnglePrefs=True,\n",
    "                            useBasicKnowledge=True)\n",
    "    p = py3Dmol.view(width=400,height=400)\n",
    "    interact(drawit, m=fixed(m),p=fixed(p),confId=(0,m.GetNumConformers()-1))"
   ]
  },
  {
   "cell_type": "code",
   "execution_count": 12,
   "metadata": {
    "ExecuteTime": {
     "end_time": "2018-07-24T05:05:34.847039Z",
     "start_time": "2018-07-24T05:05:34.710565Z"
    }
   },
   "outputs": [
    {
     "data": {
      "application/3dmoljs_load.v0": "<div id=\"3dmolviewer_15324087348442934\"  style=\"position: relative; width: 400px; height: 400px\">\n        <p id=\"3dmolwarning_15324087348442934\" style=\"background-color:#ffcccc;color:black\">You appear to be running in JupyterLab.  You need to install the 3dmol extension: <br>\n        <tt>jupyter labextension install jupyterlab_3dmol</tt></p>\n        </div>\n<script>\n\nvar loadScriptAsync = function(uri){\n  return new Promise((resolve, reject) => {\n    var tag = document.createElement('script');\n    tag.src = uri;\n    tag.async = true;\n    tag.onload = () => {\n      resolve();\n    };\n  var firstScriptTag = document.getElementsByTagName('script')[0];\n  firstScriptTag.parentNode.insertBefore(tag, firstScriptTag);\n});\n};\n\nif(typeof $3Dmolpromise === 'undefined') {\n$3Dmolpromise = null;\n  $3Dmolpromise = loadScriptAsync('https://3dmol.csb.pitt.edu/build/3Dmol.js');\n}\n\nvar viewer_15324087348442934 = null;\nvar warn = document.getElementById(\"3dmolwarning_15324087348442934\");\nif(warn) {\n    warn.parentNode.removeChild(warn);\n}\n$3Dmolpromise.then(function() {\nviewer_15324087348442934 = $3Dmol.createViewer($(\"#3dmolviewer_15324087348442934\"),{backgroundColor:\"white\"});\n\tviewer_15324087348442934.addModel(\"\\n     RDKit          3D\\n\\n 29 28  0  0  0  0  0  0  0  0999 V2000\\n   -0.4422   -0.0883   -0.2603 C   0  0  0  0  0  0  0  0  0  0  0  0\\n    0.9807   -0.5537    0.1104 C   0  0  0  0  0  0  0  0  0  0  0  0\\n    2.0231    0.2564   -0.5787 C   0  0  0  0  0  0  0  0  0  0  0  0\\n    3.3735   -0.2789   -0.1489 C   0  0  0  0  0  0  0  0  0  0  0  0\\n    4.5185    0.4680   -0.7866 C   0  0  0  0  0  0  0  0  0  0  0  0\\n    6.0259   -0.2733   -0.1870 Cl  0  0  0  0  0  0  0  0  0  0  0  0\\n   -1.3348   -0.9931    0.5091 C   0  0  0  0  0  0  0  0  0  0  0  0\\n   -2.7773   -0.9739    0.3806 C   0  0  0  0  0  0  0  0  0  0  0  0\\n   -3.5156    0.2528    0.6700 C   0  0  0  0  0  0  0  0  0  0  0  0\\n   -3.2811    1.3681   -0.2820 C   0  0  0  0  0  0  0  0  0  0  0  0\\n   -4.2990    2.7876    0.2158 Cl  0  0  0  0  0  0  0  0  0  0  0  0\\n   -0.4764    0.9249    0.2658 H   0  0  0  0  0  0  0  0  0  0  0  0\\n   -0.5991    0.0025   -1.3207 H   0  0  0  0  0  0  0  0  0  0  0  0\\n    1.0482   -1.6034   -0.1866 H   0  0  0  0  0  0  0  0  0  0  0  0\\n    1.0500   -0.4159    1.2065 H   0  0  0  0  0  0  0  0  0  0  0  0\\n    1.9675    0.1862   -1.6819 H   0  0  0  0  0  0  0  0  0  0  0  0\\n    2.0097    1.3274   -0.3109 H   0  0  0  0  0  0  0  0  0  0  0  0\\n    3.4612   -1.3411   -0.4968 H   0  0  0  0  0  0  0  0  0  0  0  0\\n    3.4821   -0.2379    0.9459 H   0  0  0  0  0  0  0  0  0  0  0  0\\n    4.5095    0.4311   -1.8750 H   0  0  0  0  0  0  0  0  0  0  0  0\\n    4.5049    1.5164   -0.3805 H   0  0  0  0  0  0  0  0  0  0  0  0\\n   -1.0231   -0.8849    1.6122 H   0  0  0  0  0  0  0  0  0  0  0  0\\n   -0.9664   -2.0669    0.2786 H   0  0  0  0  0  0  0  0  0  0  0  0\\n   -3.0488   -1.3917   -0.6540 H   0  0  0  0  0  0  0  0  0  0  0  0\\n   -3.1567   -1.8468    1.0445 H   0  0  0  0  0  0  0  0  0  0  0  0\\n   -4.6307   -0.0246    0.6416 H   0  0  0  0  0  0  0  0  0  0  0  0\\n   -3.3788    0.5986    1.7460 H   0  0  0  0  0  0  0  0  0  0  0  0\\n   -2.2958    1.7686   -0.4163 H   0  0  0  0  0  0  0  0  0  0  0  0\\n   -3.7293    1.0861   -1.2914 H   0  0  0  0  0  0  0  0  0  0  0  0\\n  1  2  1  0\\n  2  3  1  0\\n  3  4  1  0\\n  4  5  1  0\\n  5  6  1  0\\n  1  7  1  0\\n  7  8  1  0\\n  8  9  1  0\\n  9 10  1  0\\n 10 11  1  0\\n  1 12  1  0\\n  1 13  1  0\\n  2 14  1  0\\n  2 15  1  0\\n  3 16  1  0\\n  3 17  1  0\\n  4 18  1  0\\n  4 19  1  0\\n  5 20  1  0\\n  5 21  1  0\\n  7 22  1  0\\n  7 23  1  0\\n  8 24  1  0\\n  8 25  1  0\\n  9 26  1  0\\n  9 27  1  0\\n 10 28  1  0\\n 10 29  1  0\\nM  END\\n\",\"sdf\");\n\tviewer_15324087348442934.setStyle({\"stick\": {}});\n\tviewer_15324087348442934.setBackgroundColor(\"0xeeeeee\");\n\tviewer_15324087348442934.zoomTo();\n\tviewer_15324087348442934.addModel(\"\\n     RDKit          3D\\n\\n 29 28  0  0  0  0  0  0  0  0999 V2000\\n   -0.3348   -0.7854   -0.3551 C   0  0  0  0  0  0  0  0  0  0  0  0\\n    1.0661   -1.0945    0.0665 C   0  0  0  0  0  0  0  0  0  0  0  0\\n    2.0863   -0.0815   -0.3580 C   0  0  0  0  0  0  0  0  0  0  0  0\\n    3.4353   -0.5706    0.1591 C   0  0  0  0  0  0  0  0  0  0  0  0\\n    4.5397    0.4076   -0.2306 C   0  0  0  0  0  0  0  0  0  0  0  0\\n    4.1297    1.9805    0.5054 Cl  0  0  0  0  0  0  0  0  0  0  0  0\\n   -0.7784    0.5297    0.2279 C   0  0  0  0  0  0  0  0  0  0  0  0\\n   -2.2020    0.8557   -0.1920 C   0  0  0  0  0  0  0  0  0  0  0  0\\n   -3.1649   -0.1944    0.2693 C   0  0  0  0  0  0  0  0  0  0  0  0\\n   -4.5545    0.2446   -0.2106 C   0  0  0  0  0  0  0  0  0  0  0  0\\n   -4.9349    1.8319    0.5108 Cl  0  0  0  0  0  0  0  0  0  0  0  0\\n   -0.9803   -1.5899    0.0920 H   0  0  0  0  0  0  0  0  0  0  0  0\\n   -0.4912   -0.7607   -1.4326 H   0  0  0  0  0  0  0  0  0  0  0  0\\n    1.3992   -2.0895   -0.3028 H   0  0  0  0  0  0  0  0  0  0  0  0\\n    1.0899   -1.1732    1.1792 H   0  0  0  0  0  0  0  0  0  0  0  0\\n    2.1920   -0.0052   -1.4545 H   0  0  0  0  0  0  0  0  0  0  0  0\\n    1.8770    0.9359    0.0126 H   0  0  0  0  0  0  0  0  0  0  0  0\\n    3.3768   -0.5650    1.2675 H   0  0  0  0  0  0  0  0  0  0  0  0\\n    3.6365   -1.5796   -0.2179 H   0  0  0  0  0  0  0  0  0  0  0  0\\n    4.6256    0.5407   -1.3091 H   0  0  0  0  0  0  0  0  0  0  0  0\\n    5.4757   -0.0071    0.2050 H   0  0  0  0  0  0  0  0  0  0  0  0\\n   -0.1080    1.3285   -0.1886 H   0  0  0  0  0  0  0  0  0  0  0  0\\n   -0.6800    0.5866    1.3238 H   0  0  0  0  0  0  0  0  0  0  0  0\\n   -2.2824    1.0106   -1.2738 H   0  0  0  0  0  0  0  0  0  0  0  0\\n   -2.4604    1.8121    0.3246 H   0  0  0  0  0  0  0  0  0  0  0  0\\n   -2.9580   -1.1817   -0.1809 H   0  0  0  0  0  0  0  0  0  0  0  0\\n   -3.2174   -0.2811    1.3573 H   0  0  0  0  0  0  0  0  0  0  0  0\\n   -4.4834    0.4181   -1.3113 H   0  0  0  0  0  0  0  0  0  0  0  0\\n   -5.2992   -0.5231    0.0550 H   0  0  0  0  0  0  0  0  0  0  0  0\\n  1  2  1  0\\n  2  3  1  0\\n  3  4  1  0\\n  4  5  1  0\\n  5  6  1  0\\n  1  7  1  0\\n  7  8  1  0\\n  8  9  1  0\\n  9 10  1  0\\n 10 11  1  0\\n  1 12  1  0\\n  1 13  1  0\\n  2 14  1  0\\n  2 15  1  0\\n  3 16  1  0\\n  3 17  1  0\\n  4 18  1  0\\n  4 19  1  0\\n  5 20  1  0\\n  5 21  1  0\\n  7 22  1  0\\n  7 23  1  0\\n  8 24  1  0\\n  8 25  1  0\\n  9 26  1  0\\n  9 27  1  0\\n 10 28  1  0\\n 10 29  1  0\\nM  END\\n\",\"sdf\");\n\tviewer_15324087348442934.setStyle({\"stick\": {}});\n\tviewer_15324087348442934.setBackgroundColor(\"0xeeeeee\");\n\tviewer_15324087348442934.zoomTo();\n\tviewer_15324087348442934.addModel(\"\\n     RDKit          3D\\n\\n 29 28  0  0  0  0  0  0  0  0999 V2000\\n    0.1432    0.2893   -0.1034 C   0  0  0  0  0  0  0  0  0  0  0  0\\n   -1.2540   -0.2341    0.1973 C   0  0  0  0  0  0  0  0  0  0  0  0\\n   -2.2307    0.1620   -0.8808 C   0  0  0  0  0  0  0  0  0  0  0  0\\n   -3.6168   -0.3581   -0.5870 C   0  0  0  0  0  0  0  0  0  0  0  0\\n   -4.1424    0.1978    0.7429 C   0  0  0  0  0  0  0  0  0  0  0  0\\n   -5.7899   -0.4444    1.0453 Cl  0  0  0  0  0  0  0  0  0  0  0  0\\n    1.0411   -0.1452    1.0066 C   0  0  0  0  0  0  0  0  0  0  0  0\\n    2.4622    0.2896    0.8686 C   0  0  0  0  0  0  0  0  0  0  0  0\\n    3.0841   -0.2578   -0.3989 C   0  0  0  0  0  0  0  0  0  0  0  0\\n    4.5263    0.1817   -0.5394 C   0  0  0  0  0  0  0  0  0  0  0  0\\n    5.2522   -0.4554   -2.0159 Cl  0  0  0  0  0  0  0  0  0  0  0  0\\n    0.4628   -0.0920   -1.0931 H   0  0  0  0  0  0  0  0  0  0  0  0\\n    0.1209    1.3930   -0.1780 H   0  0  0  0  0  0  0  0  0  0  0  0\\n   -1.5594    0.1825    1.1775 H   0  0  0  0  0  0  0  0  0  0  0  0\\n   -1.2400   -1.3347    0.2922 H   0  0  0  0  0  0  0  0  0  0  0  0\\n   -1.9406   -0.1733   -1.8751 H   0  0  0  0  0  0  0  0  0  0  0  0\\n   -2.3162    1.2858   -0.8697 H   0  0  0  0  0  0  0  0  0  0  0  0\\n   -3.5584   -1.4604   -0.4340 H   0  0  0  0  0  0  0  0  0  0  0  0\\n   -4.2931   -0.0711   -1.4049 H   0  0  0  0  0  0  0  0  0  0  0  0\\n   -3.5225   -0.1429    1.5784 H   0  0  0  0  0  0  0  0  0  0  0  0\\n   -4.2021    1.3009    0.7272 H   0  0  0  0  0  0  0  0  0  0  0  0\\n    0.6403    0.2122    1.9714 H   0  0  0  0  0  0  0  0  0  0  0  0\\n    1.0331   -1.2599    1.0266 H   0  0  0  0  0  0  0  0  0  0  0  0\\n    3.0409   -0.1913    1.7117 H   0  0  0  0  0  0  0  0  0  0  0  0\\n    2.6199    1.3657    0.9841 H   0  0  0  0  0  0  0  0  0  0  0  0\\n    2.4809    0.1032   -1.2605 H   0  0  0  0  0  0  0  0  0  0  0  0\\n    3.0831   -1.3567   -0.3964 H   0  0  0  0  0  0  0  0  0  0  0  0\\n    4.5905    1.2799   -0.4514 H   0  0  0  0  0  0  0  0  0  0  0  0\\n    5.0847   -0.2663    0.3287 H   0  0  0  0  0  0  0  0  0  0  0  0\\n  1  2  1  0\\n  2  3  1  0\\n  3  4  1  0\\n  4  5  1  0\\n  5  6  1  0\\n  1  7  1  0\\n  7  8  1  0\\n  8  9  1  0\\n  9 10  1  0\\n 10 11  1  0\\n  1 12  1  0\\n  1 13  1  0\\n  2 14  1  0\\n  2 15  1  0\\n  3 16  1  0\\n  3 17  1  0\\n  4 18  1  0\\n  4 19  1  0\\n  5 20  1  0\\n  5 21  1  0\\n  7 22  1  0\\n  7 23  1  0\\n  8 24  1  0\\n  8 25  1  0\\n  9 26  1  0\\n  9 27  1  0\\n 10 28  1  0\\n 10 29  1  0\\nM  END\\n\",\"sdf\");\n\tviewer_15324087348442934.setStyle({\"stick\": {}});\n\tviewer_15324087348442934.setBackgroundColor(\"0xeeeeee\");\n\tviewer_15324087348442934.zoomTo();\n\tviewer_15324087348442934.addModel(\"\\n     RDKit          3D\\n\\n 29 28  0  0  0  0  0  0  0  0999 V2000\\n   -0.1497    0.6504    0.5043 C   0  0  0  0  0  0  0  0  0  0  0  0\\n    1.3476    0.5557    0.5040 C   0  0  0  0  0  0  0  0  0  0  0  0\\n    1.8354   -0.3916   -0.5346 C   0  0  0  0  0  0  0  0  0  0  0  0\\n    3.3391   -0.5143   -0.5700 C   0  0  0  0  0  0  0  0  0  0  0  0\\n    4.0338    0.7750   -0.8551 C   0  0  0  0  0  0  0  0  0  0  0  0\\n    5.7921    0.4456   -0.8594 Cl  0  0  0  0  0  0  0  0  0  0  0  0\\n   -0.8257   -0.6473    0.7751 C   0  0  0  0  0  0  0  0  0  0  0  0\\n   -2.3254   -0.5065    0.7687 C   0  0  0  0  0  0  0  0  0  0  0  0\\n   -2.8846   -0.0204   -0.5171 C   0  0  0  0  0  0  0  0  0  0  0  0\\n   -4.3900    0.0748   -0.3870 C   0  0  0  0  0  0  0  0  0  0  0  0\\n   -5.0973   -1.5261   -0.0043 Cl  0  0  0  0  0  0  0  0  0  0  0  0\\n   -0.4260    1.3448    1.3418 H   0  0  0  0  0  0  0  0  0  0  0  0\\n   -0.4680    1.1069   -0.4631 H   0  0  0  0  0  0  0  0  0  0  0  0\\n    1.8001    1.5533    0.3671 H   0  0  0  0  0  0  0  0  0  0  0  0\\n    1.7047    0.2049    1.5176 H   0  0  0  0  0  0  0  0  0  0  0  0\\n    1.5306    0.0114   -1.5332 H   0  0  0  0  0  0  0  0  0  0  0  0\\n    1.4041   -1.3917   -0.3455 H   0  0  0  0  0  0  0  0  0  0  0  0\\n    3.6811   -1.2665   -1.3078 H   0  0  0  0  0  0  0  0  0  0  0  0\\n    3.7083   -0.8789    0.4287 H   0  0  0  0  0  0  0  0  0  0  0  0\\n    3.7817    1.5710   -0.1260 H   0  0  0  0  0  0  0  0  0  0  0  0\\n    3.7847    1.0806   -1.8988 H   0  0  0  0  0  0  0  0  0  0  0  0\\n   -0.5903   -1.4403    0.0318 H   0  0  0  0  0  0  0  0  0  0  0  0\\n   -0.4623   -1.0292    1.7501 H   0  0  0  0  0  0  0  0  0  0  0  0\\n   -2.8358   -1.4553    1.0339 H   0  0  0  0  0  0  0  0  0  0  0  0\\n   -2.5802    0.2070    1.5879 H   0  0  0  0  0  0  0  0  0  0  0  0\\n   -2.6658   -0.7093   -1.3547 H   0  0  0  0  0  0  0  0  0  0  0  0\\n   -2.5292    0.9816   -0.8194 H   0  0  0  0  0  0  0  0  0  0  0  0\\n   -4.8260    0.3993   -1.3456 H   0  0  0  0  0  0  0  0  0  0  0  0\\n   -4.6870    0.8150    0.3874 H   0  0  0  0  0  0  0  0  0  0  0  0\\n  1  2  1  0\\n  2  3  1  0\\n  3  4  1  0\\n  4  5  1  0\\n  5  6  1  0\\n  1  7  1  0\\n  7  8  1  0\\n  8  9  1  0\\n  9 10  1  0\\n 10 11  1  0\\n  1 12  1  0\\n  1 13  1  0\\n  2 14  1  0\\n  2 15  1  0\\n  3 16  1  0\\n  3 17  1  0\\n  4 18  1  0\\n  4 19  1  0\\n  5 20  1  0\\n  5 21  1  0\\n  7 22  1  0\\n  7 23  1  0\\n  8 24  1  0\\n  8 25  1  0\\n  9 26  1  0\\n  9 27  1  0\\n 10 28  1  0\\n 10 29  1  0\\nM  END\\n\",\"sdf\");\n\tviewer_15324087348442934.setStyle({\"stick\": {}});\n\tviewer_15324087348442934.setBackgroundColor(\"0xeeeeee\");\n\tviewer_15324087348442934.zoomTo();\n\tviewer_15324087348442934.addModel(\"\\n     RDKit          3D\\n\\n 29 28  0  0  0  0  0  0  0  0999 V2000\\n   -0.1063   -1.9377    0.6370 C   0  0  0  0  0  0  0  0  0  0  0  0\\n    1.0726   -1.3952   -0.1273 C   0  0  0  0  0  0  0  0  0  0  0  0\\n    1.5499   -0.0775    0.4264 C   0  0  0  0  0  0  0  0  0  0  0  0\\n    2.7332    0.4551   -0.3500 C   0  0  0  0  0  0  0  0  0  0  0  0\\n    3.2178    1.7733    0.1967 C   0  0  0  0  0  0  0  0  0  0  0  0\\n    3.7314    1.6570    1.8841 Cl  0  0  0  0  0  0  0  0  0  0  0  0\\n   -1.2908   -0.9876    0.5970 C   0  0  0  0  0  0  0  0  0  0  0  0\\n   -1.7629   -0.7280   -0.7902 C   0  0  0  0  0  0  0  0  0  0  0  0\\n   -2.9400    0.2065   -0.7614 C   0  0  0  0  0  0  0  0  0  0  0  0\\n   -2.5528    1.5115   -0.1351 C   0  0  0  0  0  0  0  0  0  0  0  0\\n   -3.9921    2.5952   -0.1417 Cl  0  0  0  0  0  0  0  0  0  0  0  0\\n    0.1436   -2.0909    1.7007 H   0  0  0  0  0  0  0  0  0  0  0  0\\n   -0.4550   -2.8844    0.1774 H   0  0  0  0  0  0  0  0  0  0  0  0\\n    0.8444   -1.3084   -1.2039 H   0  0  0  0  0  0  0  0  0  0  0  0\\n    1.8912   -2.1377   -0.0270 H   0  0  0  0  0  0  0  0  0  0  0  0\\n    0.7374    0.6750    0.3136 H   0  0  0  0  0  0  0  0  0  0  0  0\\n    1.8275   -0.1206    1.4773 H   0  0  0  0  0  0  0  0  0  0  0  0\\n    2.4930    0.6213   -1.4233 H   0  0  0  0  0  0  0  0  0  0  0  0\\n    3.5526   -0.2818   -0.2368 H   0  0  0  0  0  0  0  0  0  0  0  0\\n    4.1217    2.0501   -0.4016 H   0  0  0  0  0  0  0  0  0  0  0  0\\n    2.4406    2.5701    0.0609 H   0  0  0  0  0  0  0  0  0  0  0  0\\n   -2.1068   -1.4461    1.1818 H   0  0  0  0  0  0  0  0  0  0  0  0\\n   -0.9565   -0.0873    1.1559 H   0  0  0  0  0  0  0  0  0  0  0  0\\n   -0.9610   -0.2977   -1.4297 H   0  0  0  0  0  0  0  0  0  0  0  0\\n   -2.1126   -1.7040   -1.2051 H   0  0  0  0  0  0  0  0  0  0  0  0\\n   -3.7367   -0.3215   -0.1593 H   0  0  0  0  0  0  0  0  0  0  0  0\\n   -3.3243    0.3880   -1.7957 H   0  0  0  0  0  0  0  0  0  0  0  0\\n   -2.3220    1.3512    0.9400 H   0  0  0  0  0  0  0  0  0  0  0  0\\n   -1.7372    1.9520   -0.7144 H   0  0  0  0  0  0  0  0  0  0  0  0\\n  1  2  1  0\\n  2  3  1  0\\n  3  4  1  0\\n  4  5  1  0\\n  5  6  1  0\\n  1  7  1  0\\n  7  8  1  0\\n  8  9  1  0\\n  9 10  1  0\\n 10 11  1  0\\n  1 12  1  0\\n  1 13  1  0\\n  2 14  1  0\\n  2 15  1  0\\n  3 16  1  0\\n  3 17  1  0\\n  4 18  1  0\\n  4 19  1  0\\n  5 20  1  0\\n  5 21  1  0\\n  7 22  1  0\\n  7 23  1  0\\n  8 24  1  0\\n  8 25  1  0\\n  9 26  1  0\\n  9 27  1  0\\n 10 28  1  0\\n 10 29  1  0\\nM  END\\n\",\"sdf\");\n\tviewer_15324087348442934.setStyle({\"stick\": {}});\n\tviewer_15324087348442934.setBackgroundColor(\"0xeeeeee\");\n\tviewer_15324087348442934.zoomTo();\n\tviewer_15324087348442934.addModel(\"\\n     RDKit          3D\\n\\n 29 28  0  0  0  0  0  0  0  0999 V2000\\n   -0.0318    0.7243   -0.5684 C   0  0  0  0  0  0  0  0  0  0  0  0\\n    1.0700    0.1766    0.3110 C   0  0  0  0  0  0  0  0  0  0  0  0\\n    2.3855    0.4379   -0.3926 C   0  0  0  0  0  0  0  0  0  0  0  0\\n    3.4793   -0.1278    0.5227 C   0  0  0  0  0  0  0  0  0  0  0  0\\n    4.8186    0.1082   -0.1360 C   0  0  0  0  0  0  0  0  0  0  0  0\\n    6.0684   -0.5548    0.9416 Cl  0  0  0  0  0  0  0  0  0  0  0  0\\n   -1.3575    0.4646    0.1334 C   0  0  0  0  0  0  0  0  0  0  0  0\\n   -2.5182    0.9719   -0.6596 C   0  0  0  0  0  0  0  0  0  0  0  0\\n   -3.7971    0.7047    0.0645 C   0  0  0  0  0  0  0  0  0  0  0  0\\n   -4.0960   -0.7278    0.3411 C   0  0  0  0  0  0  0  0  0  0  0  0\\n   -5.6656   -0.8553    1.2053 Cl  0  0  0  0  0  0  0  0  0  0  0  0\\n    0.0500    1.8166   -0.6921 H   0  0  0  0  0  0  0  0  0  0  0  0\\n    0.0311    0.2495   -1.5539 H   0  0  0  0  0  0  0  0  0  0  0  0\\n    0.9394   -0.9023    0.4809 H   0  0  0  0  0  0  0  0  0  0  0  0\\n    1.1251    0.6912    1.2868 H   0  0  0  0  0  0  0  0  0  0  0  0\\n    2.3544   -0.1285   -1.3466 H   0  0  0  0  0  0  0  0  0  0  0  0\\n    2.4884    1.5260   -0.5253 H   0  0  0  0  0  0  0  0  0  0  0  0\\n    3.3783    0.4318    1.4776 H   0  0  0  0  0  0  0  0  0  0  0  0\\n    3.2626   -1.1900    0.6629 H   0  0  0  0  0  0  0  0  0  0  0  0\\n    4.9587    1.1865   -0.2967 H   0  0  0  0  0  0  0  0  0  0  0  0\\n    4.8002   -0.4057   -1.1114 H   0  0  0  0  0  0  0  0  0  0  0  0\\n   -1.5095   -0.6212    0.3085 H   0  0  0  0  0  0  0  0  0  0  0  0\\n   -1.3214    1.0172    1.0944 H   0  0  0  0  0  0  0  0  0  0  0  0\\n   -2.5219    0.6059   -1.7070 H   0  0  0  0  0  0  0  0  0  0  0  0\\n   -2.4286    2.0887   -0.7433 H   0  0  0  0  0  0  0  0  0  0  0  0\\n   -3.7156    1.2292    1.0623 H   0  0  0  0  0  0  0  0  0  0  0  0\\n   -4.6676    1.2117   -0.4286 H   0  0  0  0  0  0  0  0  0  0  0  0\\n   -3.3258   -1.2569    0.8990 H   0  0  0  0  0  0  0  0  0  0  0  0\\n   -4.2537   -1.2569   -0.6304 H   0  0  0  0  0  0  0  0  0  0  0  0\\n  1  2  1  0\\n  2  3  1  0\\n  3  4  1  0\\n  4  5  1  0\\n  5  6  1  0\\n  1  7  1  0\\n  7  8  1  0\\n  8  9  1  0\\n  9 10  1  0\\n 10 11  1  0\\n  1 12  1  0\\n  1 13  1  0\\n  2 14  1  0\\n  2 15  1  0\\n  3 16  1  0\\n  3 17  1  0\\n  4 18  1  0\\n  4 19  1  0\\n  5 20  1  0\\n  5 21  1  0\\n  7 22  1  0\\n  7 23  1  0\\n  8 24  1  0\\n  8 25  1  0\\n  9 26  1  0\\n  9 27  1  0\\n 10 28  1  0\\n 10 29  1  0\\nM  END\\n\",\"sdf\");\n\tviewer_15324087348442934.setStyle({\"stick\": {}});\n\tviewer_15324087348442934.setBackgroundColor(\"0xeeeeee\");\n\tviewer_15324087348442934.zoomTo();\n\tviewer_15324087348442934.addModel(\"\\n     RDKit          3D\\n\\n 29 28  0  0  0  0  0  0  0  0999 V2000\\n   -0.1797    0.0564    0.5730 C   0  0  0  0  0  0  0  0  0  0  0  0\\n   -1.0624    0.4044   -0.5823 C   0  0  0  0  0  0  0  0  0  0  0  0\\n   -2.5233    0.4362   -0.2338 C   0  0  0  0  0  0  0  0  0  0  0  0\\n   -3.0567   -0.8612    0.2761 C   0  0  0  0  0  0  0  0  0  0  0  0\\n   -4.5300   -0.6696    0.5809 C   0  0  0  0  0  0  0  0  0  0  0  0\\n   -4.7301    0.5979    1.8077 Cl  0  0  0  0  0  0  0  0  0  0  0  0\\n    1.2607    0.0715    0.0364 C   0  0  0  0  0  0  0  0  0  0  0  0\\n    2.2411   -0.2650    1.1110 C   0  0  0  0  0  0  0  0  0  0  0  0\\n    3.6367   -0.3332    0.6024 C   0  0  0  0  0  0  0  0  0  0  0  0\\n    4.2557    0.8453   -0.0195 C   0  0  0  0  0  0  0  0  0  0  0  0\\n    3.5691    1.4658   -1.4969 Cl  0  0  0  0  0  0  0  0  0  0  0  0\\n   -0.2873    0.7107    1.4366 H   0  0  0  0  0  0  0  0  0  0  0  0\\n   -0.3821   -0.9955    0.8621 H   0  0  0  0  0  0  0  0  0  0  0  0\\n   -0.8352   -0.2847   -1.4202 H   0  0  0  0  0  0  0  0  0  0  0  0\\n   -0.7839    1.4188   -0.9284 H   0  0  0  0  0  0  0  0  0  0  0  0\\n   -2.7633    1.2465    0.4546 H   0  0  0  0  0  0  0  0  0  0  0  0\\n   -3.0708    0.6627   -1.1896 H   0  0  0  0  0  0  0  0  0  0  0  0\\n   -2.5808   -1.1468    1.2490 H   0  0  0  0  0  0  0  0  0  0  0  0\\n   -2.9732   -1.6915   -0.4325 H   0  0  0  0  0  0  0  0  0  0  0  0\\n   -5.0143   -1.6148    0.9092 H   0  0  0  0  0  0  0  0  0  0  0  0\\n   -4.9966   -0.3057   -0.3722 H   0  0  0  0  0  0  0  0  0  0  0  0\\n    1.4586    1.1618   -0.2152 H   0  0  0  0  0  0  0  0  0  0  0  0\\n    1.3645   -0.5270   -0.8621 H   0  0  0  0  0  0  0  0  0  0  0  0\\n    1.9942   -1.2558    1.5868 H   0  0  0  0  0  0  0  0  0  0  0  0\\n    2.1752    0.5126    1.9369 H   0  0  0  0  0  0  0  0  0  0  0  0\\n    4.3521   -0.6818    1.4217 H   0  0  0  0  0  0  0  0  0  0  0  0\\n    3.7219   -1.1815   -0.1676 H   0  0  0  0  0  0  0  0  0  0  0  0\\n    5.3241    0.5433   -0.2737 H   0  0  0  0  0  0  0  0  0  0  0  0\\n    4.4154    1.6801    0.7342 H   0  0  0  0  0  0  0  0  0  0  0  0\\n  1  2  1  0\\n  2  3  1  0\\n  3  4  1  0\\n  4  5  1  0\\n  5  6  1  0\\n  1  7  1  0\\n  7  8  1  0\\n  8  9  1  0\\n  9 10  1  0\\n 10 11  1  0\\n  1 12  1  0\\n  1 13  1  0\\n  2 14  1  0\\n  2 15  1  0\\n  3 16  1  0\\n  3 17  1  0\\n  4 18  1  0\\n  4 19  1  0\\n  5 20  1  0\\n  5 21  1  0\\n  7 22  1  0\\n  7 23  1  0\\n  8 24  1  0\\n  8 25  1  0\\n  9 26  1  0\\n  9 27  1  0\\n 10 28  1  0\\n 10 29  1  0\\nM  END\\n\",\"sdf\");\n\tviewer_15324087348442934.setStyle({\"stick\": {}});\n\tviewer_15324087348442934.setBackgroundColor(\"0xeeeeee\");\n\tviewer_15324087348442934.zoomTo();\n\tviewer_15324087348442934.addModel(\"\\n     RDKit          3D\\n\\n 29 28  0  0  0  0  0  0  0  0999 V2000\\n    0.0384    0.5210    0.6301 C   0  0  0  0  0  0  0  0  0  0  0  0\\n   -0.8522    1.4963   -0.0898 C   0  0  0  0  0  0  0  0  0  0  0  0\\n   -2.2659    1.0108   -0.2179 C   0  0  0  0  0  0  0  0  0  0  0  0\\n   -2.3822   -0.2722   -0.9710 C   0  0  0  0  0  0  0  0  0  0  0  0\\n   -3.8039   -0.7579   -1.0982 C   0  0  0  0  0  0  0  0  0  0  0  0\\n   -4.5635   -1.0468    0.4708 Cl  0  0  0  0  0  0  0  0  0  0  0  0\\n    1.4544    1.0692    0.7273 C   0  0  0  0  0  0  0  0  0  0  0  0\\n    2.3567    0.1081    1.4245 C   0  0  0  0  0  0  0  0  0  0  0  0\\n    2.5529   -1.2265    0.8279 C   0  0  0  0  0  0  0  0  0  0  0  0\\n    3.1935   -1.3233   -0.5075 C   0  0  0  0  0  0  0  0  0  0  0  0\\n    2.3986   -0.5740   -1.8571 Cl  0  0  0  0  0  0  0  0  0  0  0  0\\n   -0.2816    0.3749    1.6897 H   0  0  0  0  0  0  0  0  0  0  0  0\\n    0.0853   -0.4827    0.1933 H   0  0  0  0  0  0  0  0  0  0  0  0\\n   -0.8044    2.4489    0.4769 H   0  0  0  0  0  0  0  0  0  0  0  0\\n   -0.4240    1.7195   -1.0876 H   0  0  0  0  0  0  0  0  0  0  0  0\\n   -2.7917    0.9315    0.7409 H   0  0  0  0  0  0  0  0  0  0  0  0\\n   -2.8177    1.7967   -0.8048 H   0  0  0  0  0  0  0  0  0  0  0  0\\n   -1.9451   -0.2259   -1.9882 H   0  0  0  0  0  0  0  0  0  0  0  0\\n   -1.8159   -1.0758   -0.4310 H   0  0  0  0  0  0  0  0  0  0  0  0\\n   -4.4259   -0.0244   -1.6708 H   0  0  0  0  0  0  0  0  0  0  0  0\\n   -3.8553   -1.7060   -1.6702 H   0  0  0  0  0  0  0  0  0  0  0  0\\n    1.7826    1.3342   -0.2869 H   0  0  0  0  0  0  0  0  0  0  0  0\\n    1.4056    2.0483    1.2996 H   0  0  0  0  0  0  0  0  0  0  0  0\\n    3.3407    0.6494    1.5913 H   0  0  0  0  0  0  0  0  0  0  0  0\\n    1.9640    0.0372    2.4920 H   0  0  0  0  0  0  0  0  0  0  0  0\\n    3.2452   -1.7875    1.5395 H   0  0  0  0  0  0  0  0  0  0  0  0\\n    1.5865   -1.8065    0.8579 H   0  0  0  0  0  0  0  0  0  0  0  0\\n    4.2170   -0.8352   -0.3935 H   0  0  0  0  0  0  0  0  0  0  0  0\\n    3.4079   -2.4013   -0.7332 H   0  0  0  0  0  0  0  0  0  0  0  0\\n  1  2  1  0\\n  2  3  1  0\\n  3  4  1  0\\n  4  5  1  0\\n  5  6  1  0\\n  1  7  1  0\\n  7  8  1  0\\n  8  9  1  0\\n  9 10  1  0\\n 10 11  1  0\\n  1 12  1  0\\n  1 13  1  0\\n  2 14  1  0\\n  2 15  1  0\\n  3 16  1  0\\n  3 17  1  0\\n  4 18  1  0\\n  4 19  1  0\\n  5 20  1  0\\n  5 21  1  0\\n  7 22  1  0\\n  7 23  1  0\\n  8 24  1  0\\n  8 25  1  0\\n  9 26  1  0\\n  9 27  1  0\\n 10 28  1  0\\n 10 29  1  0\\nM  END\\n\",\"sdf\");\n\tviewer_15324087348442934.setStyle({\"stick\": {}});\n\tviewer_15324087348442934.setBackgroundColor(\"0xeeeeee\");\n\tviewer_15324087348442934.zoomTo();\n\tviewer_15324087348442934.addModel(\"\\n     RDKit          3D\\n\\n 29 28  0  0  0  0  0  0  0  0999 V2000\\n   -0.0251   -0.1017    0.6826 C   0  0  0  0  0  0  0  0  0  0  0  0\\n   -1.2088    0.1022   -0.2204 C   0  0  0  0  0  0  0  0  0  0  0  0\\n   -2.5175    0.0956    0.5371 C   0  0  0  0  0  0  0  0  0  0  0  0\\n   -3.6552    0.3051   -0.4349 C   0  0  0  0  0  0  0  0  0  0  0  0\\n   -4.9916    0.3105    0.2464 C   0  0  0  0  0  0  0  0  0  0  0  0\\n   -5.1141    1.6049    1.4638 Cl  0  0  0  0  0  0  0  0  0  0  0  0\\n    1.2174   -0.0778   -0.1694 C   0  0  0  0  0  0  0  0  0  0  0  0\\n    2.4741   -0.2736    0.6334 C   0  0  0  0  0  0  0  0  0  0  0  0\\n    3.6381   -0.2251   -0.3624 C   0  0  0  0  0  0  0  0  0  0  0  0\\n    4.9581   -0.4137    0.3527 C   0  0  0  0  0  0  0  0  0  0  0  0\\n    5.2003    0.8680    1.5614 Cl  0  0  0  0  0  0  0  0  0  0  0  0\\n    0.0757    0.6743    1.4511 H   0  0  0  0  0  0  0  0  0  0  0  0\\n   -0.0647   -1.0729    1.1865 H   0  0  0  0  0  0  0  0  0  0  0  0\\n   -1.0952    1.0365   -0.8023 H   0  0  0  0  0  0  0  0  0  0  0  0\\n   -1.2528   -0.7276   -0.9495 H   0  0  0  0  0  0  0  0  0  0  0  0\\n   -2.6402   -0.8605    1.0612 H   0  0  0  0  0  0  0  0  0  0  0  0\\n   -2.4904    0.9488    1.2349 H   0  0  0  0  0  0  0  0  0  0  0  0\\n   -3.6833   -0.4703   -1.2198 H   0  0  0  0  0  0  0  0  0  0  0  0\\n   -3.4998    1.2795   -0.9477 H   0  0  0  0  0  0  0  0  0  0  0  0\\n   -5.7598    0.4759   -0.5466 H   0  0  0  0  0  0  0  0  0  0  0  0\\n   -5.1647   -0.6433    0.7845 H   0  0  0  0  0  0  0  0  0  0  0  0\\n    1.2920    0.9099   -0.6658 H   0  0  0  0  0  0  0  0  0  0  0  0\\n    1.1498   -0.9183   -0.8933 H   0  0  0  0  0  0  0  0  0  0  0  0\\n    2.5200   -1.2955    1.0904 H   0  0  0  0  0  0  0  0  0  0  0  0\\n    2.6111    0.4411    1.4466 H   0  0  0  0  0  0  0  0  0  0  0  0\\n    3.5236   -1.0110   -1.1323 H   0  0  0  0  0  0  0  0  0  0  0  0\\n    3.6728    0.7478   -0.8937 H   0  0  0  0  0  0  0  0  0  0  0  0\\n    5.0540   -1.4012    0.8167 H   0  0  0  0  0  0  0  0  0  0  0  0\\n    5.7764   -0.3075   -0.3884 H   0  0  0  0  0  0  0  0  0  0  0  0\\n  1  2  1  0\\n  2  3  1  0\\n  3  4  1  0\\n  4  5  1  0\\n  5  6  1  0\\n  1  7  1  0\\n  7  8  1  0\\n  8  9  1  0\\n  9 10  1  0\\n 10 11  1  0\\n  1 12  1  0\\n  1 13  1  0\\n  2 14  1  0\\n  2 15  1  0\\n  3 16  1  0\\n  3 17  1  0\\n  4 18  1  0\\n  4 19  1  0\\n  5 20  1  0\\n  5 21  1  0\\n  7 22  1  0\\n  7 23  1  0\\n  8 24  1  0\\n  8 25  1  0\\n  9 26  1  0\\n  9 27  1  0\\n 10 28  1  0\\n 10 29  1  0\\nM  END\\n\",\"sdf\");\n\tviewer_15324087348442934.setStyle({\"stick\": {}});\n\tviewer_15324087348442934.setBackgroundColor(\"0xeeeeee\");\n\tviewer_15324087348442934.zoomTo();\n\tviewer_15324087348442934.addModel(\"\\n     RDKit          3D\\n\\n 29 28  0  0  0  0  0  0  0  0999 V2000\\n    0.1916    0.2421    1.4757 C   0  0  0  0  0  0  0  0  0  0  0  0\\n   -1.2840    0.3571    1.1717 C   0  0  0  0  0  0  0  0  0  0  0  0\\n   -1.7460   -0.7247    0.2200 C   0  0  0  0  0  0  0  0  0  0  0  0\\n   -3.2021   -0.6344   -0.0950 C   0  0  0  0  0  0  0  0  0  0  0  0\\n   -3.6017    0.6568   -0.7370 C   0  0  0  0  0  0  0  0  0  0  0  0\\n   -5.3655    0.5849   -1.0390 Cl  0  0  0  0  0  0  0  0  0  0  0  0\\n    1.0199    0.3644    0.2170 C   0  0  0  0  0  0  0  0  0  0  0  0\\n    2.5006    0.2478    0.5464 C   0  0  0  0  0  0  0  0  0  0  0  0\\n    3.3272    0.3692   -0.6993 C   0  0  0  0  0  0  0  0  0  0  0  0\\n    3.0419   -0.6720   -1.7310 C   0  0  0  0  0  0  0  0  0  0  0  0\\n    3.3774   -2.2668   -0.9954 Cl  0  0  0  0  0  0  0  0  0  0  0  0\\n    0.4417   -0.6848    2.0337 H   0  0  0  0  0  0  0  0  0  0  0  0\\n    0.4454    1.0840    2.1482 H   0  0  0  0  0  0  0  0  0  0  0  0\\n   -1.4237    1.3410    0.6654 H   0  0  0  0  0  0  0  0  0  0  0  0\\n   -1.8453    0.3163    2.1062 H   0  0  0  0  0  0  0  0  0  0  0  0\\n   -1.2052   -0.5963   -0.7636 H   0  0  0  0  0  0  0  0  0  0  0  0\\n   -1.5437   -1.7327    0.6360 H   0  0  0  0  0  0  0  0  0  0  0  0\\n   -3.7642   -0.8335    0.8525 H   0  0  0  0  0  0  0  0  0  0  0  0\\n   -3.4469   -1.4574   -0.7974 H   0  0  0  0  0  0  0  0  0  0  0  0\\n   -3.1228    0.6972   -1.7366 H   0  0  0  0  0  0  0  0  0  0  0  0\\n   -3.3151    1.5475   -0.1685 H   0  0  0  0  0  0  0  0  0  0  0  0\\n    0.8288    1.3512   -0.2396 H   0  0  0  0  0  0  0  0  0  0  0  0\\n    0.8037   -0.4069   -0.5199 H   0  0  0  0  0  0  0  0  0  0  0  0\\n    2.7002   -0.6898    1.1050 H   0  0  0  0  0  0  0  0  0  0  0  0\\n    2.8189    1.0734    1.2272 H   0  0  0  0  0  0  0  0  0  0  0  0\\n    3.1448    1.3844   -1.1216 H   0  0  0  0  0  0  0  0  0  0  0  0\\n    4.4025    0.2548   -0.3930 H   0  0  0  0  0  0  0  0  0  0  0  0\\n    2.0278   -0.6225   -2.1343 H   0  0  0  0  0  0  0  0  0  0  0  0\\n    3.7937   -0.5503   -2.5417 H   0  0  0  0  0  0  0  0  0  0  0  0\\n  1  2  1  0\\n  2  3  1  0\\n  3  4  1  0\\n  4  5  1  0\\n  5  6  1  0\\n  1  7  1  0\\n  7  8  1  0\\n  8  9  1  0\\n  9 10  1  0\\n 10 11  1  0\\n  1 12  1  0\\n  1 13  1  0\\n  2 14  1  0\\n  2 15  1  0\\n  3 16  1  0\\n  3 17  1  0\\n  4 18  1  0\\n  4 19  1  0\\n  5 20  1  0\\n  5 21  1  0\\n  7 22  1  0\\n  7 23  1  0\\n  8 24  1  0\\n  8 25  1  0\\n  9 26  1  0\\n  9 27  1  0\\n 10 28  1  0\\n 10 29  1  0\\nM  END\\n\",\"sdf\");\n\tviewer_15324087348442934.setStyle({\"stick\": {}});\n\tviewer_15324087348442934.setBackgroundColor(\"0xeeeeee\");\n\tviewer_15324087348442934.zoomTo();\nviewer_15324087348442934.render();\n});\n</script>",
      "text/html": [
       "<div id=\"3dmolviewer_15324087348442934\"  style=\"position: relative; width: 400px; height: 400px\">\n",
       "        <p id=\"3dmolwarning_15324087348442934\" style=\"background-color:#ffcccc;color:black\">You appear to be running in JupyterLab.  You need to install the 3dmol extension: <br>\n",
       "        <tt>jupyter labextension install jupyterlab_3dmol</tt></p>\n",
       "        </div>\n",
       "<script>\n",
       "\n",
       "var loadScriptAsync = function(uri){\n",
       "  return new Promise((resolve, reject) => {\n",
       "    var tag = document.createElement('script');\n",
       "    tag.src = uri;\n",
       "    tag.async = true;\n",
       "    tag.onload = () => {\n",
       "      resolve();\n",
       "    };\n",
       "  var firstScriptTag = document.getElementsByTagName('script')[0];\n",
       "  firstScriptTag.parentNode.insertBefore(tag, firstScriptTag);\n",
       "});\n",
       "};\n",
       "\n",
       "if(typeof $3Dmolpromise === 'undefined') {\n",
       "$3Dmolpromise = null;\n",
       "  $3Dmolpromise = loadScriptAsync('https://3dmol.csb.pitt.edu/build/3Dmol.js');\n",
       "}\n",
       "\n",
       "var viewer_15324087348442934 = null;\n",
       "var warn = document.getElementById(\"3dmolwarning_15324087348442934\");\n",
       "if(warn) {\n",
       "    warn.parentNode.removeChild(warn);\n",
       "}\n",
       "$3Dmolpromise.then(function() {\n",
       "viewer_15324087348442934 = $3Dmol.createViewer($(\"#3dmolviewer_15324087348442934\"),{backgroundColor:\"white\"});\n",
       "\tviewer_15324087348442934.addModel(\"\\n     RDKit          3D\\n\\n 29 28  0  0  0  0  0  0  0  0999 V2000\\n   -0.4422   -0.0883   -0.2603 C   0  0  0  0  0  0  0  0  0  0  0  0\\n    0.9807   -0.5537    0.1104 C   0  0  0  0  0  0  0  0  0  0  0  0\\n    2.0231    0.2564   -0.5787 C   0  0  0  0  0  0  0  0  0  0  0  0\\n    3.3735   -0.2789   -0.1489 C   0  0  0  0  0  0  0  0  0  0  0  0\\n    4.5185    0.4680   -0.7866 C   0  0  0  0  0  0  0  0  0  0  0  0\\n    6.0259   -0.2733   -0.1870 Cl  0  0  0  0  0  0  0  0  0  0  0  0\\n   -1.3348   -0.9931    0.5091 C   0  0  0  0  0  0  0  0  0  0  0  0\\n   -2.7773   -0.9739    0.3806 C   0  0  0  0  0  0  0  0  0  0  0  0\\n   -3.5156    0.2528    0.6700 C   0  0  0  0  0  0  0  0  0  0  0  0\\n   -3.2811    1.3681   -0.2820 C   0  0  0  0  0  0  0  0  0  0  0  0\\n   -4.2990    2.7876    0.2158 Cl  0  0  0  0  0  0  0  0  0  0  0  0\\n   -0.4764    0.9249    0.2658 H   0  0  0  0  0  0  0  0  0  0  0  0\\n   -0.5991    0.0025   -1.3207 H   0  0  0  0  0  0  0  0  0  0  0  0\\n    1.0482   -1.6034   -0.1866 H   0  0  0  0  0  0  0  0  0  0  0  0\\n    1.0500   -0.4159    1.2065 H   0  0  0  0  0  0  0  0  0  0  0  0\\n    1.9675    0.1862   -1.6819 H   0  0  0  0  0  0  0  0  0  0  0  0\\n    2.0097    1.3274   -0.3109 H   0  0  0  0  0  0  0  0  0  0  0  0\\n    3.4612   -1.3411   -0.4968 H   0  0  0  0  0  0  0  0  0  0  0  0\\n    3.4821   -0.2379    0.9459 H   0  0  0  0  0  0  0  0  0  0  0  0\\n    4.5095    0.4311   -1.8750 H   0  0  0  0  0  0  0  0  0  0  0  0\\n    4.5049    1.5164   -0.3805 H   0  0  0  0  0  0  0  0  0  0  0  0\\n   -1.0231   -0.8849    1.6122 H   0  0  0  0  0  0  0  0  0  0  0  0\\n   -0.9664   -2.0669    0.2786 H   0  0  0  0  0  0  0  0  0  0  0  0\\n   -3.0488   -1.3917   -0.6540 H   0  0  0  0  0  0  0  0  0  0  0  0\\n   -3.1567   -1.8468    1.0445 H   0  0  0  0  0  0  0  0  0  0  0  0\\n   -4.6307   -0.0246    0.6416 H   0  0  0  0  0  0  0  0  0  0  0  0\\n   -3.3788    0.5986    1.7460 H   0  0  0  0  0  0  0  0  0  0  0  0\\n   -2.2958    1.7686   -0.4163 H   0  0  0  0  0  0  0  0  0  0  0  0\\n   -3.7293    1.0861   -1.2914 H   0  0  0  0  0  0  0  0  0  0  0  0\\n  1  2  1  0\\n  2  3  1  0\\n  3  4  1  0\\n  4  5  1  0\\n  5  6  1  0\\n  1  7  1  0\\n  7  8  1  0\\n  8  9  1  0\\n  9 10  1  0\\n 10 11  1  0\\n  1 12  1  0\\n  1 13  1  0\\n  2 14  1  0\\n  2 15  1  0\\n  3 16  1  0\\n  3 17  1  0\\n  4 18  1  0\\n  4 19  1  0\\n  5 20  1  0\\n  5 21  1  0\\n  7 22  1  0\\n  7 23  1  0\\n  8 24  1  0\\n  8 25  1  0\\n  9 26  1  0\\n  9 27  1  0\\n 10 28  1  0\\n 10 29  1  0\\nM  END\\n\",\"sdf\");\n",
       "\tviewer_15324087348442934.setStyle({\"stick\": {}});\n",
       "\tviewer_15324087348442934.setBackgroundColor(\"0xeeeeee\");\n",
       "\tviewer_15324087348442934.zoomTo();\n",
       "\tviewer_15324087348442934.addModel(\"\\n     RDKit          3D\\n\\n 29 28  0  0  0  0  0  0  0  0999 V2000\\n   -0.3348   -0.7854   -0.3551 C   0  0  0  0  0  0  0  0  0  0  0  0\\n    1.0661   -1.0945    0.0665 C   0  0  0  0  0  0  0  0  0  0  0  0\\n    2.0863   -0.0815   -0.3580 C   0  0  0  0  0  0  0  0  0  0  0  0\\n    3.4353   -0.5706    0.1591 C   0  0  0  0  0  0  0  0  0  0  0  0\\n    4.5397    0.4076   -0.2306 C   0  0  0  0  0  0  0  0  0  0  0  0\\n    4.1297    1.9805    0.5054 Cl  0  0  0  0  0  0  0  0  0  0  0  0\\n   -0.7784    0.5297    0.2279 C   0  0  0  0  0  0  0  0  0  0  0  0\\n   -2.2020    0.8557   -0.1920 C   0  0  0  0  0  0  0  0  0  0  0  0\\n   -3.1649   -0.1944    0.2693 C   0  0  0  0  0  0  0  0  0  0  0  0\\n   -4.5545    0.2446   -0.2106 C   0  0  0  0  0  0  0  0  0  0  0  0\\n   -4.9349    1.8319    0.5108 Cl  0  0  0  0  0  0  0  0  0  0  0  0\\n   -0.9803   -1.5899    0.0920 H   0  0  0  0  0  0  0  0  0  0  0  0\\n   -0.4912   -0.7607   -1.4326 H   0  0  0  0  0  0  0  0  0  0  0  0\\n    1.3992   -2.0895   -0.3028 H   0  0  0  0  0  0  0  0  0  0  0  0\\n    1.0899   -1.1732    1.1792 H   0  0  0  0  0  0  0  0  0  0  0  0\\n    2.1920   -0.0052   -1.4545 H   0  0  0  0  0  0  0  0  0  0  0  0\\n    1.8770    0.9359    0.0126 H   0  0  0  0  0  0  0  0  0  0  0  0\\n    3.3768   -0.5650    1.2675 H   0  0  0  0  0  0  0  0  0  0  0  0\\n    3.6365   -1.5796   -0.2179 H   0  0  0  0  0  0  0  0  0  0  0  0\\n    4.6256    0.5407   -1.3091 H   0  0  0  0  0  0  0  0  0  0  0  0\\n    5.4757   -0.0071    0.2050 H   0  0  0  0  0  0  0  0  0  0  0  0\\n   -0.1080    1.3285   -0.1886 H   0  0  0  0  0  0  0  0  0  0  0  0\\n   -0.6800    0.5866    1.3238 H   0  0  0  0  0  0  0  0  0  0  0  0\\n   -2.2824    1.0106   -1.2738 H   0  0  0  0  0  0  0  0  0  0  0  0\\n   -2.4604    1.8121    0.3246 H   0  0  0  0  0  0  0  0  0  0  0  0\\n   -2.9580   -1.1817   -0.1809 H   0  0  0  0  0  0  0  0  0  0  0  0\\n   -3.2174   -0.2811    1.3573 H   0  0  0  0  0  0  0  0  0  0  0  0\\n   -4.4834    0.4181   -1.3113 H   0  0  0  0  0  0  0  0  0  0  0  0\\n   -5.2992   -0.5231    0.0550 H   0  0  0  0  0  0  0  0  0  0  0  0\\n  1  2  1  0\\n  2  3  1  0\\n  3  4  1  0\\n  4  5  1  0\\n  5  6  1  0\\n  1  7  1  0\\n  7  8  1  0\\n  8  9  1  0\\n  9 10  1  0\\n 10 11  1  0\\n  1 12  1  0\\n  1 13  1  0\\n  2 14  1  0\\n  2 15  1  0\\n  3 16  1  0\\n  3 17  1  0\\n  4 18  1  0\\n  4 19  1  0\\n  5 20  1  0\\n  5 21  1  0\\n  7 22  1  0\\n  7 23  1  0\\n  8 24  1  0\\n  8 25  1  0\\n  9 26  1  0\\n  9 27  1  0\\n 10 28  1  0\\n 10 29  1  0\\nM  END\\n\",\"sdf\");\n",
       "\tviewer_15324087348442934.setStyle({\"stick\": {}});\n",
       "\tviewer_15324087348442934.setBackgroundColor(\"0xeeeeee\");\n",
       "\tviewer_15324087348442934.zoomTo();\n",
       "\tviewer_15324087348442934.addModel(\"\\n     RDKit          3D\\n\\n 29 28  0  0  0  0  0  0  0  0999 V2000\\n    0.1432    0.2893   -0.1034 C   0  0  0  0  0  0  0  0  0  0  0  0\\n   -1.2540   -0.2341    0.1973 C   0  0  0  0  0  0  0  0  0  0  0  0\\n   -2.2307    0.1620   -0.8808 C   0  0  0  0  0  0  0  0  0  0  0  0\\n   -3.6168   -0.3581   -0.5870 C   0  0  0  0  0  0  0  0  0  0  0  0\\n   -4.1424    0.1978    0.7429 C   0  0  0  0  0  0  0  0  0  0  0  0\\n   -5.7899   -0.4444    1.0453 Cl  0  0  0  0  0  0  0  0  0  0  0  0\\n    1.0411   -0.1452    1.0066 C   0  0  0  0  0  0  0  0  0  0  0  0\\n    2.4622    0.2896    0.8686 C   0  0  0  0  0  0  0  0  0  0  0  0\\n    3.0841   -0.2578   -0.3989 C   0  0  0  0  0  0  0  0  0  0  0  0\\n    4.5263    0.1817   -0.5394 C   0  0  0  0  0  0  0  0  0  0  0  0\\n    5.2522   -0.4554   -2.0159 Cl  0  0  0  0  0  0  0  0  0  0  0  0\\n    0.4628   -0.0920   -1.0931 H   0  0  0  0  0  0  0  0  0  0  0  0\\n    0.1209    1.3930   -0.1780 H   0  0  0  0  0  0  0  0  0  0  0  0\\n   -1.5594    0.1825    1.1775 H   0  0  0  0  0  0  0  0  0  0  0  0\\n   -1.2400   -1.3347    0.2922 H   0  0  0  0  0  0  0  0  0  0  0  0\\n   -1.9406   -0.1733   -1.8751 H   0  0  0  0  0  0  0  0  0  0  0  0\\n   -2.3162    1.2858   -0.8697 H   0  0  0  0  0  0  0  0  0  0  0  0\\n   -3.5584   -1.4604   -0.4340 H   0  0  0  0  0  0  0  0  0  0  0  0\\n   -4.2931   -0.0711   -1.4049 H   0  0  0  0  0  0  0  0  0  0  0  0\\n   -3.5225   -0.1429    1.5784 H   0  0  0  0  0  0  0  0  0  0  0  0\\n   -4.2021    1.3009    0.7272 H   0  0  0  0  0  0  0  0  0  0  0  0\\n    0.6403    0.2122    1.9714 H   0  0  0  0  0  0  0  0  0  0  0  0\\n    1.0331   -1.2599    1.0266 H   0  0  0  0  0  0  0  0  0  0  0  0\\n    3.0409   -0.1913    1.7117 H   0  0  0  0  0  0  0  0  0  0  0  0\\n    2.6199    1.3657    0.9841 H   0  0  0  0  0  0  0  0  0  0  0  0\\n    2.4809    0.1032   -1.2605 H   0  0  0  0  0  0  0  0  0  0  0  0\\n    3.0831   -1.3567   -0.3964 H   0  0  0  0  0  0  0  0  0  0  0  0\\n    4.5905    1.2799   -0.4514 H   0  0  0  0  0  0  0  0  0  0  0  0\\n    5.0847   -0.2663    0.3287 H   0  0  0  0  0  0  0  0  0  0  0  0\\n  1  2  1  0\\n  2  3  1  0\\n  3  4  1  0\\n  4  5  1  0\\n  5  6  1  0\\n  1  7  1  0\\n  7  8  1  0\\n  8  9  1  0\\n  9 10  1  0\\n 10 11  1  0\\n  1 12  1  0\\n  1 13  1  0\\n  2 14  1  0\\n  2 15  1  0\\n  3 16  1  0\\n  3 17  1  0\\n  4 18  1  0\\n  4 19  1  0\\n  5 20  1  0\\n  5 21  1  0\\n  7 22  1  0\\n  7 23  1  0\\n  8 24  1  0\\n  8 25  1  0\\n  9 26  1  0\\n  9 27  1  0\\n 10 28  1  0\\n 10 29  1  0\\nM  END\\n\",\"sdf\");\n",
       "\tviewer_15324087348442934.setStyle({\"stick\": {}});\n",
       "\tviewer_15324087348442934.setBackgroundColor(\"0xeeeeee\");\n",
       "\tviewer_15324087348442934.zoomTo();\n",
       "\tviewer_15324087348442934.addModel(\"\\n     RDKit          3D\\n\\n 29 28  0  0  0  0  0  0  0  0999 V2000\\n   -0.1497    0.6504    0.5043 C   0  0  0  0  0  0  0  0  0  0  0  0\\n    1.3476    0.5557    0.5040 C   0  0  0  0  0  0  0  0  0  0  0  0\\n    1.8354   -0.3916   -0.5346 C   0  0  0  0  0  0  0  0  0  0  0  0\\n    3.3391   -0.5143   -0.5700 C   0  0  0  0  0  0  0  0  0  0  0  0\\n    4.0338    0.7750   -0.8551 C   0  0  0  0  0  0  0  0  0  0  0  0\\n    5.7921    0.4456   -0.8594 Cl  0  0  0  0  0  0  0  0  0  0  0  0\\n   -0.8257   -0.6473    0.7751 C   0  0  0  0  0  0  0  0  0  0  0  0\\n   -2.3254   -0.5065    0.7687 C   0  0  0  0  0  0  0  0  0  0  0  0\\n   -2.8846   -0.0204   -0.5171 C   0  0  0  0  0  0  0  0  0  0  0  0\\n   -4.3900    0.0748   -0.3870 C   0  0  0  0  0  0  0  0  0  0  0  0\\n   -5.0973   -1.5261   -0.0043 Cl  0  0  0  0  0  0  0  0  0  0  0  0\\n   -0.4260    1.3448    1.3418 H   0  0  0  0  0  0  0  0  0  0  0  0\\n   -0.4680    1.1069   -0.4631 H   0  0  0  0  0  0  0  0  0  0  0  0\\n    1.8001    1.5533    0.3671 H   0  0  0  0  0  0  0  0  0  0  0  0\\n    1.7047    0.2049    1.5176 H   0  0  0  0  0  0  0  0  0  0  0  0\\n    1.5306    0.0114   -1.5332 H   0  0  0  0  0  0  0  0  0  0  0  0\\n    1.4041   -1.3917   -0.3455 H   0  0  0  0  0  0  0  0  0  0  0  0\\n    3.6811   -1.2665   -1.3078 H   0  0  0  0  0  0  0  0  0  0  0  0\\n    3.7083   -0.8789    0.4287 H   0  0  0  0  0  0  0  0  0  0  0  0\\n    3.7817    1.5710   -0.1260 H   0  0  0  0  0  0  0  0  0  0  0  0\\n    3.7847    1.0806   -1.8988 H   0  0  0  0  0  0  0  0  0  0  0  0\\n   -0.5903   -1.4403    0.0318 H   0  0  0  0  0  0  0  0  0  0  0  0\\n   -0.4623   -1.0292    1.7501 H   0  0  0  0  0  0  0  0  0  0  0  0\\n   -2.8358   -1.4553    1.0339 H   0  0  0  0  0  0  0  0  0  0  0  0\\n   -2.5802    0.2070    1.5879 H   0  0  0  0  0  0  0  0  0  0  0  0\\n   -2.6658   -0.7093   -1.3547 H   0  0  0  0  0  0  0  0  0  0  0  0\\n   -2.5292    0.9816   -0.8194 H   0  0  0  0  0  0  0  0  0  0  0  0\\n   -4.8260    0.3993   -1.3456 H   0  0  0  0  0  0  0  0  0  0  0  0\\n   -4.6870    0.8150    0.3874 H   0  0  0  0  0  0  0  0  0  0  0  0\\n  1  2  1  0\\n  2  3  1  0\\n  3  4  1  0\\n  4  5  1  0\\n  5  6  1  0\\n  1  7  1  0\\n  7  8  1  0\\n  8  9  1  0\\n  9 10  1  0\\n 10 11  1  0\\n  1 12  1  0\\n  1 13  1  0\\n  2 14  1  0\\n  2 15  1  0\\n  3 16  1  0\\n  3 17  1  0\\n  4 18  1  0\\n  4 19  1  0\\n  5 20  1  0\\n  5 21  1  0\\n  7 22  1  0\\n  7 23  1  0\\n  8 24  1  0\\n  8 25  1  0\\n  9 26  1  0\\n  9 27  1  0\\n 10 28  1  0\\n 10 29  1  0\\nM  END\\n\",\"sdf\");\n",
       "\tviewer_15324087348442934.setStyle({\"stick\": {}});\n",
       "\tviewer_15324087348442934.setBackgroundColor(\"0xeeeeee\");\n",
       "\tviewer_15324087348442934.zoomTo();\n",
       "\tviewer_15324087348442934.addModel(\"\\n     RDKit          3D\\n\\n 29 28  0  0  0  0  0  0  0  0999 V2000\\n   -0.1063   -1.9377    0.6370 C   0  0  0  0  0  0  0  0  0  0  0  0\\n    1.0726   -1.3952   -0.1273 C   0  0  0  0  0  0  0  0  0  0  0  0\\n    1.5499   -0.0775    0.4264 C   0  0  0  0  0  0  0  0  0  0  0  0\\n    2.7332    0.4551   -0.3500 C   0  0  0  0  0  0  0  0  0  0  0  0\\n    3.2178    1.7733    0.1967 C   0  0  0  0  0  0  0  0  0  0  0  0\\n    3.7314    1.6570    1.8841 Cl  0  0  0  0  0  0  0  0  0  0  0  0\\n   -1.2908   -0.9876    0.5970 C   0  0  0  0  0  0  0  0  0  0  0  0\\n   -1.7629   -0.7280   -0.7902 C   0  0  0  0  0  0  0  0  0  0  0  0\\n   -2.9400    0.2065   -0.7614 C   0  0  0  0  0  0  0  0  0  0  0  0\\n   -2.5528    1.5115   -0.1351 C   0  0  0  0  0  0  0  0  0  0  0  0\\n   -3.9921    2.5952   -0.1417 Cl  0  0  0  0  0  0  0  0  0  0  0  0\\n    0.1436   -2.0909    1.7007 H   0  0  0  0  0  0  0  0  0  0  0  0\\n   -0.4550   -2.8844    0.1774 H   0  0  0  0  0  0  0  0  0  0  0  0\\n    0.8444   -1.3084   -1.2039 H   0  0  0  0  0  0  0  0  0  0  0  0\\n    1.8912   -2.1377   -0.0270 H   0  0  0  0  0  0  0  0  0  0  0  0\\n    0.7374    0.6750    0.3136 H   0  0  0  0  0  0  0  0  0  0  0  0\\n    1.8275   -0.1206    1.4773 H   0  0  0  0  0  0  0  0  0  0  0  0\\n    2.4930    0.6213   -1.4233 H   0  0  0  0  0  0  0  0  0  0  0  0\\n    3.5526   -0.2818   -0.2368 H   0  0  0  0  0  0  0  0  0  0  0  0\\n    4.1217    2.0501   -0.4016 H   0  0  0  0  0  0  0  0  0  0  0  0\\n    2.4406    2.5701    0.0609 H   0  0  0  0  0  0  0  0  0  0  0  0\\n   -2.1068   -1.4461    1.1818 H   0  0  0  0  0  0  0  0  0  0  0  0\\n   -0.9565   -0.0873    1.1559 H   0  0  0  0  0  0  0  0  0  0  0  0\\n   -0.9610   -0.2977   -1.4297 H   0  0  0  0  0  0  0  0  0  0  0  0\\n   -2.1126   -1.7040   -1.2051 H   0  0  0  0  0  0  0  0  0  0  0  0\\n   -3.7367   -0.3215   -0.1593 H   0  0  0  0  0  0  0  0  0  0  0  0\\n   -3.3243    0.3880   -1.7957 H   0  0  0  0  0  0  0  0  0  0  0  0\\n   -2.3220    1.3512    0.9400 H   0  0  0  0  0  0  0  0  0  0  0  0\\n   -1.7372    1.9520   -0.7144 H   0  0  0  0  0  0  0  0  0  0  0  0\\n  1  2  1  0\\n  2  3  1  0\\n  3  4  1  0\\n  4  5  1  0\\n  5  6  1  0\\n  1  7  1  0\\n  7  8  1  0\\n  8  9  1  0\\n  9 10  1  0\\n 10 11  1  0\\n  1 12  1  0\\n  1 13  1  0\\n  2 14  1  0\\n  2 15  1  0\\n  3 16  1  0\\n  3 17  1  0\\n  4 18  1  0\\n  4 19  1  0\\n  5 20  1  0\\n  5 21  1  0\\n  7 22  1  0\\n  7 23  1  0\\n  8 24  1  0\\n  8 25  1  0\\n  9 26  1  0\\n  9 27  1  0\\n 10 28  1  0\\n 10 29  1  0\\nM  END\\n\",\"sdf\");\n",
       "\tviewer_15324087348442934.setStyle({\"stick\": {}});\n",
       "\tviewer_15324087348442934.setBackgroundColor(\"0xeeeeee\");\n",
       "\tviewer_15324087348442934.zoomTo();\n",
       "\tviewer_15324087348442934.addModel(\"\\n     RDKit          3D\\n\\n 29 28  0  0  0  0  0  0  0  0999 V2000\\n   -0.0318    0.7243   -0.5684 C   0  0  0  0  0  0  0  0  0  0  0  0\\n    1.0700    0.1766    0.3110 C   0  0  0  0  0  0  0  0  0  0  0  0\\n    2.3855    0.4379   -0.3926 C   0  0  0  0  0  0  0  0  0  0  0  0\\n    3.4793   -0.1278    0.5227 C   0  0  0  0  0  0  0  0  0  0  0  0\\n    4.8186    0.1082   -0.1360 C   0  0  0  0  0  0  0  0  0  0  0  0\\n    6.0684   -0.5548    0.9416 Cl  0  0  0  0  0  0  0  0  0  0  0  0\\n   -1.3575    0.4646    0.1334 C   0  0  0  0  0  0  0  0  0  0  0  0\\n   -2.5182    0.9719   -0.6596 C   0  0  0  0  0  0  0  0  0  0  0  0\\n   -3.7971    0.7047    0.0645 C   0  0  0  0  0  0  0  0  0  0  0  0\\n   -4.0960   -0.7278    0.3411 C   0  0  0  0  0  0  0  0  0  0  0  0\\n   -5.6656   -0.8553    1.2053 Cl  0  0  0  0  0  0  0  0  0  0  0  0\\n    0.0500    1.8166   -0.6921 H   0  0  0  0  0  0  0  0  0  0  0  0\\n    0.0311    0.2495   -1.5539 H   0  0  0  0  0  0  0  0  0  0  0  0\\n    0.9394   -0.9023    0.4809 H   0  0  0  0  0  0  0  0  0  0  0  0\\n    1.1251    0.6912    1.2868 H   0  0  0  0  0  0  0  0  0  0  0  0\\n    2.3544   -0.1285   -1.3466 H   0  0  0  0  0  0  0  0  0  0  0  0\\n    2.4884    1.5260   -0.5253 H   0  0  0  0  0  0  0  0  0  0  0  0\\n    3.3783    0.4318    1.4776 H   0  0  0  0  0  0  0  0  0  0  0  0\\n    3.2626   -1.1900    0.6629 H   0  0  0  0  0  0  0  0  0  0  0  0\\n    4.9587    1.1865   -0.2967 H   0  0  0  0  0  0  0  0  0  0  0  0\\n    4.8002   -0.4057   -1.1114 H   0  0  0  0  0  0  0  0  0  0  0  0\\n   -1.5095   -0.6212    0.3085 H   0  0  0  0  0  0  0  0  0  0  0  0\\n   -1.3214    1.0172    1.0944 H   0  0  0  0  0  0  0  0  0  0  0  0\\n   -2.5219    0.6059   -1.7070 H   0  0  0  0  0  0  0  0  0  0  0  0\\n   -2.4286    2.0887   -0.7433 H   0  0  0  0  0  0  0  0  0  0  0  0\\n   -3.7156    1.2292    1.0623 H   0  0  0  0  0  0  0  0  0  0  0  0\\n   -4.6676    1.2117   -0.4286 H   0  0  0  0  0  0  0  0  0  0  0  0\\n   -3.3258   -1.2569    0.8990 H   0  0  0  0  0  0  0  0  0  0  0  0\\n   -4.2537   -1.2569   -0.6304 H   0  0  0  0  0  0  0  0  0  0  0  0\\n  1  2  1  0\\n  2  3  1  0\\n  3  4  1  0\\n  4  5  1  0\\n  5  6  1  0\\n  1  7  1  0\\n  7  8  1  0\\n  8  9  1  0\\n  9 10  1  0\\n 10 11  1  0\\n  1 12  1  0\\n  1 13  1  0\\n  2 14  1  0\\n  2 15  1  0\\n  3 16  1  0\\n  3 17  1  0\\n  4 18  1  0\\n  4 19  1  0\\n  5 20  1  0\\n  5 21  1  0\\n  7 22  1  0\\n  7 23  1  0\\n  8 24  1  0\\n  8 25  1  0\\n  9 26  1  0\\n  9 27  1  0\\n 10 28  1  0\\n 10 29  1  0\\nM  END\\n\",\"sdf\");\n",
       "\tviewer_15324087348442934.setStyle({\"stick\": {}});\n",
       "\tviewer_15324087348442934.setBackgroundColor(\"0xeeeeee\");\n",
       "\tviewer_15324087348442934.zoomTo();\n",
       "\tviewer_15324087348442934.addModel(\"\\n     RDKit          3D\\n\\n 29 28  0  0  0  0  0  0  0  0999 V2000\\n   -0.1797    0.0564    0.5730 C   0  0  0  0  0  0  0  0  0  0  0  0\\n   -1.0624    0.4044   -0.5823 C   0  0  0  0  0  0  0  0  0  0  0  0\\n   -2.5233    0.4362   -0.2338 C   0  0  0  0  0  0  0  0  0  0  0  0\\n   -3.0567   -0.8612    0.2761 C   0  0  0  0  0  0  0  0  0  0  0  0\\n   -4.5300   -0.6696    0.5809 C   0  0  0  0  0  0  0  0  0  0  0  0\\n   -4.7301    0.5979    1.8077 Cl  0  0  0  0  0  0  0  0  0  0  0  0\\n    1.2607    0.0715    0.0364 C   0  0  0  0  0  0  0  0  0  0  0  0\\n    2.2411   -0.2650    1.1110 C   0  0  0  0  0  0  0  0  0  0  0  0\\n    3.6367   -0.3332    0.6024 C   0  0  0  0  0  0  0  0  0  0  0  0\\n    4.2557    0.8453   -0.0195 C   0  0  0  0  0  0  0  0  0  0  0  0\\n    3.5691    1.4658   -1.4969 Cl  0  0  0  0  0  0  0  0  0  0  0  0\\n   -0.2873    0.7107    1.4366 H   0  0  0  0  0  0  0  0  0  0  0  0\\n   -0.3821   -0.9955    0.8621 H   0  0  0  0  0  0  0  0  0  0  0  0\\n   -0.8352   -0.2847   -1.4202 H   0  0  0  0  0  0  0  0  0  0  0  0\\n   -0.7839    1.4188   -0.9284 H   0  0  0  0  0  0  0  0  0  0  0  0\\n   -2.7633    1.2465    0.4546 H   0  0  0  0  0  0  0  0  0  0  0  0\\n   -3.0708    0.6627   -1.1896 H   0  0  0  0  0  0  0  0  0  0  0  0\\n   -2.5808   -1.1468    1.2490 H   0  0  0  0  0  0  0  0  0  0  0  0\\n   -2.9732   -1.6915   -0.4325 H   0  0  0  0  0  0  0  0  0  0  0  0\\n   -5.0143   -1.6148    0.9092 H   0  0  0  0  0  0  0  0  0  0  0  0\\n   -4.9966   -0.3057   -0.3722 H   0  0  0  0  0  0  0  0  0  0  0  0\\n    1.4586    1.1618   -0.2152 H   0  0  0  0  0  0  0  0  0  0  0  0\\n    1.3645   -0.5270   -0.8621 H   0  0  0  0  0  0  0  0  0  0  0  0\\n    1.9942   -1.2558    1.5868 H   0  0  0  0  0  0  0  0  0  0  0  0\\n    2.1752    0.5126    1.9369 H   0  0  0  0  0  0  0  0  0  0  0  0\\n    4.3521   -0.6818    1.4217 H   0  0  0  0  0  0  0  0  0  0  0  0\\n    3.7219   -1.1815   -0.1676 H   0  0  0  0  0  0  0  0  0  0  0  0\\n    5.3241    0.5433   -0.2737 H   0  0  0  0  0  0  0  0  0  0  0  0\\n    4.4154    1.6801    0.7342 H   0  0  0  0  0  0  0  0  0  0  0  0\\n  1  2  1  0\\n  2  3  1  0\\n  3  4  1  0\\n  4  5  1  0\\n  5  6  1  0\\n  1  7  1  0\\n  7  8  1  0\\n  8  9  1  0\\n  9 10  1  0\\n 10 11  1  0\\n  1 12  1  0\\n  1 13  1  0\\n  2 14  1  0\\n  2 15  1  0\\n  3 16  1  0\\n  3 17  1  0\\n  4 18  1  0\\n  4 19  1  0\\n  5 20  1  0\\n  5 21  1  0\\n  7 22  1  0\\n  7 23  1  0\\n  8 24  1  0\\n  8 25  1  0\\n  9 26  1  0\\n  9 27  1  0\\n 10 28  1  0\\n 10 29  1  0\\nM  END\\n\",\"sdf\");\n",
       "\tviewer_15324087348442934.setStyle({\"stick\": {}});\n",
       "\tviewer_15324087348442934.setBackgroundColor(\"0xeeeeee\");\n",
       "\tviewer_15324087348442934.zoomTo();\n",
       "\tviewer_15324087348442934.addModel(\"\\n     RDKit          3D\\n\\n 29 28  0  0  0  0  0  0  0  0999 V2000\\n    0.0384    0.5210    0.6301 C   0  0  0  0  0  0  0  0  0  0  0  0\\n   -0.8522    1.4963   -0.0898 C   0  0  0  0  0  0  0  0  0  0  0  0\\n   -2.2659    1.0108   -0.2179 C   0  0  0  0  0  0  0  0  0  0  0  0\\n   -2.3822   -0.2722   -0.9710 C   0  0  0  0  0  0  0  0  0  0  0  0\\n   -3.8039   -0.7579   -1.0982 C   0  0  0  0  0  0  0  0  0  0  0  0\\n   -4.5635   -1.0468    0.4708 Cl  0  0  0  0  0  0  0  0  0  0  0  0\\n    1.4544    1.0692    0.7273 C   0  0  0  0  0  0  0  0  0  0  0  0\\n    2.3567    0.1081    1.4245 C   0  0  0  0  0  0  0  0  0  0  0  0\\n    2.5529   -1.2265    0.8279 C   0  0  0  0  0  0  0  0  0  0  0  0\\n    3.1935   -1.3233   -0.5075 C   0  0  0  0  0  0  0  0  0  0  0  0\\n    2.3986   -0.5740   -1.8571 Cl  0  0  0  0  0  0  0  0  0  0  0  0\\n   -0.2816    0.3749    1.6897 H   0  0  0  0  0  0  0  0  0  0  0  0\\n    0.0853   -0.4827    0.1933 H   0  0  0  0  0  0  0  0  0  0  0  0\\n   -0.8044    2.4489    0.4769 H   0  0  0  0  0  0  0  0  0  0  0  0\\n   -0.4240    1.7195   -1.0876 H   0  0  0  0  0  0  0  0  0  0  0  0\\n   -2.7917    0.9315    0.7409 H   0  0  0  0  0  0  0  0  0  0  0  0\\n   -2.8177    1.7967   -0.8048 H   0  0  0  0  0  0  0  0  0  0  0  0\\n   -1.9451   -0.2259   -1.9882 H   0  0  0  0  0  0  0  0  0  0  0  0\\n   -1.8159   -1.0758   -0.4310 H   0  0  0  0  0  0  0  0  0  0  0  0\\n   -4.4259   -0.0244   -1.6708 H   0  0  0  0  0  0  0  0  0  0  0  0\\n   -3.8553   -1.7060   -1.6702 H   0  0  0  0  0  0  0  0  0  0  0  0\\n    1.7826    1.3342   -0.2869 H   0  0  0  0  0  0  0  0  0  0  0  0\\n    1.4056    2.0483    1.2996 H   0  0  0  0  0  0  0  0  0  0  0  0\\n    3.3407    0.6494    1.5913 H   0  0  0  0  0  0  0  0  0  0  0  0\\n    1.9640    0.0372    2.4920 H   0  0  0  0  0  0  0  0  0  0  0  0\\n    3.2452   -1.7875    1.5395 H   0  0  0  0  0  0  0  0  0  0  0  0\\n    1.5865   -1.8065    0.8579 H   0  0  0  0  0  0  0  0  0  0  0  0\\n    4.2170   -0.8352   -0.3935 H   0  0  0  0  0  0  0  0  0  0  0  0\\n    3.4079   -2.4013   -0.7332 H   0  0  0  0  0  0  0  0  0  0  0  0\\n  1  2  1  0\\n  2  3  1  0\\n  3  4  1  0\\n  4  5  1  0\\n  5  6  1  0\\n  1  7  1  0\\n  7  8  1  0\\n  8  9  1  0\\n  9 10  1  0\\n 10 11  1  0\\n  1 12  1  0\\n  1 13  1  0\\n  2 14  1  0\\n  2 15  1  0\\n  3 16  1  0\\n  3 17  1  0\\n  4 18  1  0\\n  4 19  1  0\\n  5 20  1  0\\n  5 21  1  0\\n  7 22  1  0\\n  7 23  1  0\\n  8 24  1  0\\n  8 25  1  0\\n  9 26  1  0\\n  9 27  1  0\\n 10 28  1  0\\n 10 29  1  0\\nM  END\\n\",\"sdf\");\n",
       "\tviewer_15324087348442934.setStyle({\"stick\": {}});\n",
       "\tviewer_15324087348442934.setBackgroundColor(\"0xeeeeee\");\n",
       "\tviewer_15324087348442934.zoomTo();\n",
       "\tviewer_15324087348442934.addModel(\"\\n     RDKit          3D\\n\\n 29 28  0  0  0  0  0  0  0  0999 V2000\\n   -0.0251   -0.1017    0.6826 C   0  0  0  0  0  0  0  0  0  0  0  0\\n   -1.2088    0.1022   -0.2204 C   0  0  0  0  0  0  0  0  0  0  0  0\\n   -2.5175    0.0956    0.5371 C   0  0  0  0  0  0  0  0  0  0  0  0\\n   -3.6552    0.3051   -0.4349 C   0  0  0  0  0  0  0  0  0  0  0  0\\n   -4.9916    0.3105    0.2464 C   0  0  0  0  0  0  0  0  0  0  0  0\\n   -5.1141    1.6049    1.4638 Cl  0  0  0  0  0  0  0  0  0  0  0  0\\n    1.2174   -0.0778   -0.1694 C   0  0  0  0  0  0  0  0  0  0  0  0\\n    2.4741   -0.2736    0.6334 C   0  0  0  0  0  0  0  0  0  0  0  0\\n    3.6381   -0.2251   -0.3624 C   0  0  0  0  0  0  0  0  0  0  0  0\\n    4.9581   -0.4137    0.3527 C   0  0  0  0  0  0  0  0  0  0  0  0\\n    5.2003    0.8680    1.5614 Cl  0  0  0  0  0  0  0  0  0  0  0  0\\n    0.0757    0.6743    1.4511 H   0  0  0  0  0  0  0  0  0  0  0  0\\n   -0.0647   -1.0729    1.1865 H   0  0  0  0  0  0  0  0  0  0  0  0\\n   -1.0952    1.0365   -0.8023 H   0  0  0  0  0  0  0  0  0  0  0  0\\n   -1.2528   -0.7276   -0.9495 H   0  0  0  0  0  0  0  0  0  0  0  0\\n   -2.6402   -0.8605    1.0612 H   0  0  0  0  0  0  0  0  0  0  0  0\\n   -2.4904    0.9488    1.2349 H   0  0  0  0  0  0  0  0  0  0  0  0\\n   -3.6833   -0.4703   -1.2198 H   0  0  0  0  0  0  0  0  0  0  0  0\\n   -3.4998    1.2795   -0.9477 H   0  0  0  0  0  0  0  0  0  0  0  0\\n   -5.7598    0.4759   -0.5466 H   0  0  0  0  0  0  0  0  0  0  0  0\\n   -5.1647   -0.6433    0.7845 H   0  0  0  0  0  0  0  0  0  0  0  0\\n    1.2920    0.9099   -0.6658 H   0  0  0  0  0  0  0  0  0  0  0  0\\n    1.1498   -0.9183   -0.8933 H   0  0  0  0  0  0  0  0  0  0  0  0\\n    2.5200   -1.2955    1.0904 H   0  0  0  0  0  0  0  0  0  0  0  0\\n    2.6111    0.4411    1.4466 H   0  0  0  0  0  0  0  0  0  0  0  0\\n    3.5236   -1.0110   -1.1323 H   0  0  0  0  0  0  0  0  0  0  0  0\\n    3.6728    0.7478   -0.8937 H   0  0  0  0  0  0  0  0  0  0  0  0\\n    5.0540   -1.4012    0.8167 H   0  0  0  0  0  0  0  0  0  0  0  0\\n    5.7764   -0.3075   -0.3884 H   0  0  0  0  0  0  0  0  0  0  0  0\\n  1  2  1  0\\n  2  3  1  0\\n  3  4  1  0\\n  4  5  1  0\\n  5  6  1  0\\n  1  7  1  0\\n  7  8  1  0\\n  8  9  1  0\\n  9 10  1  0\\n 10 11  1  0\\n  1 12  1  0\\n  1 13  1  0\\n  2 14  1  0\\n  2 15  1  0\\n  3 16  1  0\\n  3 17  1  0\\n  4 18  1  0\\n  4 19  1  0\\n  5 20  1  0\\n  5 21  1  0\\n  7 22  1  0\\n  7 23  1  0\\n  8 24  1  0\\n  8 25  1  0\\n  9 26  1  0\\n  9 27  1  0\\n 10 28  1  0\\n 10 29  1  0\\nM  END\\n\",\"sdf\");\n",
       "\tviewer_15324087348442934.setStyle({\"stick\": {}});\n",
       "\tviewer_15324087348442934.setBackgroundColor(\"0xeeeeee\");\n",
       "\tviewer_15324087348442934.zoomTo();\n",
       "\tviewer_15324087348442934.addModel(\"\\n     RDKit          3D\\n\\n 29 28  0  0  0  0  0  0  0  0999 V2000\\n    0.1916    0.2421    1.4757 C   0  0  0  0  0  0  0  0  0  0  0  0\\n   -1.2840    0.3571    1.1717 C   0  0  0  0  0  0  0  0  0  0  0  0\\n   -1.7460   -0.7247    0.2200 C   0  0  0  0  0  0  0  0  0  0  0  0\\n   -3.2021   -0.6344   -0.0950 C   0  0  0  0  0  0  0  0  0  0  0  0\\n   -3.6017    0.6568   -0.7370 C   0  0  0  0  0  0  0  0  0  0  0  0\\n   -5.3655    0.5849   -1.0390 Cl  0  0  0  0  0  0  0  0  0  0  0  0\\n    1.0199    0.3644    0.2170 C   0  0  0  0  0  0  0  0  0  0  0  0\\n    2.5006    0.2478    0.5464 C   0  0  0  0  0  0  0  0  0  0  0  0\\n    3.3272    0.3692   -0.6993 C   0  0  0  0  0  0  0  0  0  0  0  0\\n    3.0419   -0.6720   -1.7310 C   0  0  0  0  0  0  0  0  0  0  0  0\\n    3.3774   -2.2668   -0.9954 Cl  0  0  0  0  0  0  0  0  0  0  0  0\\n    0.4417   -0.6848    2.0337 H   0  0  0  0  0  0  0  0  0  0  0  0\\n    0.4454    1.0840    2.1482 H   0  0  0  0  0  0  0  0  0  0  0  0\\n   -1.4237    1.3410    0.6654 H   0  0  0  0  0  0  0  0  0  0  0  0\\n   -1.8453    0.3163    2.1062 H   0  0  0  0  0  0  0  0  0  0  0  0\\n   -1.2052   -0.5963   -0.7636 H   0  0  0  0  0  0  0  0  0  0  0  0\\n   -1.5437   -1.7327    0.6360 H   0  0  0  0  0  0  0  0  0  0  0  0\\n   -3.7642   -0.8335    0.8525 H   0  0  0  0  0  0  0  0  0  0  0  0\\n   -3.4469   -1.4574   -0.7974 H   0  0  0  0  0  0  0  0  0  0  0  0\\n   -3.1228    0.6972   -1.7366 H   0  0  0  0  0  0  0  0  0  0  0  0\\n   -3.3151    1.5475   -0.1685 H   0  0  0  0  0  0  0  0  0  0  0  0\\n    0.8288    1.3512   -0.2396 H   0  0  0  0  0  0  0  0  0  0  0  0\\n    0.8037   -0.4069   -0.5199 H   0  0  0  0  0  0  0  0  0  0  0  0\\n    2.7002   -0.6898    1.1050 H   0  0  0  0  0  0  0  0  0  0  0  0\\n    2.8189    1.0734    1.2272 H   0  0  0  0  0  0  0  0  0  0  0  0\\n    3.1448    1.3844   -1.1216 H   0  0  0  0  0  0  0  0  0  0  0  0\\n    4.4025    0.2548   -0.3930 H   0  0  0  0  0  0  0  0  0  0  0  0\\n    2.0278   -0.6225   -2.1343 H   0  0  0  0  0  0  0  0  0  0  0  0\\n    3.7937   -0.5503   -2.5417 H   0  0  0  0  0  0  0  0  0  0  0  0\\n  1  2  1  0\\n  2  3  1  0\\n  3  4  1  0\\n  4  5  1  0\\n  5  6  1  0\\n  1  7  1  0\\n  7  8  1  0\\n  8  9  1  0\\n  9 10  1  0\\n 10 11  1  0\\n  1 12  1  0\\n  1 13  1  0\\n  2 14  1  0\\n  2 15  1  0\\n  3 16  1  0\\n  3 17  1  0\\n  4 18  1  0\\n  4 19  1  0\\n  5 20  1  0\\n  5 21  1  0\\n  7 22  1  0\\n  7 23  1  0\\n  8 24  1  0\\n  8 25  1  0\\n  9 26  1  0\\n  9 27  1  0\\n 10 28  1  0\\n 10 29  1  0\\nM  END\\n\",\"sdf\");\n",
       "\tviewer_15324087348442934.setStyle({\"stick\": {}});\n",
       "\tviewer_15324087348442934.setBackgroundColor(\"0xeeeeee\");\n",
       "\tviewer_15324087348442934.zoomTo();\n",
       "viewer_15324087348442934.render();\n",
       "});\n",
       "</script>"
      ]
     },
     "metadata": {},
     "output_type": "display_data"
    }
   ],
   "source": [
    "for name, smile in molecules.items():\n",
    "    if name != '1,9-dichlorononane':\n",
    "        continue\n",
    "    m = Chem.MolFromSmiles(smile)\n",
    "    m = Chem.AddHs(m)\n",
    "    Chem.EmbedMultipleConfs(m, numConfs=10, randomSeed=0xf00d, \n",
    "                            useExpTorsionAnglePrefs=True,\n",
    "                            useBasicKnowledge=True)\n",
    "    p = py3Dmol.view(width=400,height=400)\n",
    "    for confId in range(10):\n",
    "        drawit2(m,p,confId)\n",
    "    p.show()"
   ]
  },
  {
   "cell_type": "code",
   "execution_count": null,
   "metadata": {},
   "outputs": [],
   "source": []
  },
  {
   "cell_type": "code",
   "execution_count": null,
   "metadata": {},
   "outputs": [],
   "source": []
  },
  {
   "cell_type": "code",
   "execution_count": null,
   "metadata": {},
   "outputs": [],
   "source": []
  },
  {
   "cell_type": "markdown",
   "metadata": {},
   "source": [
    "##  Random Code"
   ]
  },
  {
   "cell_type": "code",
   "execution_count": null,
   "metadata": {},
   "outputs": [],
   "source": [
    "If you want all possible names for a molecule (from the SMILES string) using Python:\n",
    "\n",
    ">>> from cinfony import webel, pybel\n",
    ">>> mol = pybel.readstring(\"smi\", \"C(=O)C=C\")\n",
    ">>> name = webel.Molecule(mol).write(\"names\")\n",
    ">>> print(name)\n",
    "\n",
    "['prop-2-enal', 'Acrolein', .."
   ]
  }
 ],
 "metadata": {
  "kernelspec": {
   "display_name": "Python 3",
   "language": "python",
   "name": "python3"
  },
  "language_info": {
   "codemirror_mode": {
    "name": "ipython",
    "version": 3
   },
   "file_extension": ".py",
   "mimetype": "text/x-python",
   "name": "python",
   "nbconvert_exporter": "python",
   "pygments_lexer": "ipython3",
   "version": "3.6.5"
  }
 },
 "nbformat": 4,
 "nbformat_minor": 2
}
