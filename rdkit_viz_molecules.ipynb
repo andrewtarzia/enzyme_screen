{
 "cells": [
  {
   "cell_type": "code",
   "execution_count": 1,
   "metadata": {
    "ExecuteTime": {
     "end_time": "2018-08-23T03:41:33.663189Z",
     "start_time": "2018-08-23T03:41:33.631650Z"
    }
   },
   "outputs": [
    {
     "data": {
      "text/html": [
       "<style>.container { width:95% !important; }</style>"
      ],
      "text/plain": [
       "<IPython.core.display.HTML object>"
      ]
     },
     "metadata": {},
     "output_type": "display_data"
    }
   ],
   "source": [
    "from IPython.core.display import HTML\n",
    "display(HTML(\"<style>.container { width:95% !important; }</style>\"))   \n",
    "%load_ext autoreload\n",
    "%autoreload 1"
   ]
  },
  {
   "cell_type": "markdown",
   "metadata": {},
   "source": [
    "Author: Andrew Tarzia\n",
    "\n",
    "Date Created: 12 Jul 2018\n",
    "\n",
    "License:"
   ]
  },
  {
   "cell_type": "markdown",
   "metadata": {},
   "source": [
    "# Notebook for getting molecule parameters using RDKIT\n"
   ]
  },
  {
   "cell_type": "code",
   "execution_count": 2,
   "metadata": {
    "ExecuteTime": {
     "end_time": "2018-08-23T03:41:36.151892Z",
     "start_time": "2018-08-23T03:41:34.596429Z"
    }
   },
   "outputs": [],
   "source": [
    "import numpy as np\n",
    "import pandas as pd\n",
    "import os\n",
    "from rdkit.Chem import AllChem as Chem\n",
    "from rdkit.Chem import Descriptors\n",
    "from rdkit.Chem.Descriptors3D import NPR1, NPR2, PMI1, PMI2, PMI3\n",
    "from rdkit.Chem.Draw.MolDrawing import MolDrawing\n",
    "from rdkit.Chem.Draw import IPythonConsole\n",
    "from rdkit.Chem import Draw\n",
    "from rdkit.Geometry import rdGeometry\n",
    "from rdkit.Chem import PyMol\n",
    "import py3Dmol\n",
    "from ipywidgets import interact, interactive, fixed\n",
    "from rdkit import Geometry\n",
    "import tempfile\n",
    "import matplotlib.pyplot as plt\n",
    "%aimport rdkit_functions\n",
    "%aimport ellipsoid"
   ]
  },
  {
   "cell_type": "markdown",
   "metadata": {},
   "source": [
    "# Notes:\n",
    "# Todo:\n",
    "- timing\n",
    " - speed up reading: https://rdkit.blogspot.com/2016/09/avoiding-unnecessary-work-and.html"
   ]
  },
  {
   "cell_type": "code",
   "execution_count": 3,
   "metadata": {
    "ExecuteTime": {
     "end_time": "2018-08-23T03:41:36.826327Z",
     "start_time": "2018-08-23T03:41:36.817390Z"
    }
   },
   "outputs": [],
   "source": [
    "# molecule file dir\n",
    "molecule_file = '/home/atarzia/psp/linBmolecules/linbmolecules.txt'\n",
    "# output dir\n",
    "output_dir = '/home/atarzia/psp/linBmolecules/'"
   ]
  },
  {
   "cell_type": "code",
   "execution_count": 4,
   "metadata": {
    "ExecuteTime": {
     "end_time": "2018-08-23T03:41:37.130346Z",
     "start_time": "2018-08-23T03:41:37.080966Z"
    }
   },
   "outputs": [],
   "source": [
    "def define_plot_variables(ax, title, ytitle, xtitle, xlim, ylim):\n",
    "    \"\"\"\n",
    "    Series of matplotlib pyplot settings to make all plots unitform.\n",
    "    \"\"\"\n",
    "    # Set number of ticks for x-axis\n",
    "    ax.tick_params(axis='both', which='major', labelsize=16)\n",
    "\n",
    "    ax.set_ylabel(ytitle, fontsize=16)\n",
    "    # ax.legend([y, n], ['aligned', 'not aligned'], loc=4, fancybox=True)\n",
    "    ax.set_xlim(xlim)\n",
    "    ax.set_ylim(ylim)\n",
    "    ax.set_xticklabels(['diffuses', 'does not diffuse'])\n",
    "    ax.set_xticks([0.25, 0.75])\n",
    "\n",
    "\n",
    "def define_parity_plot_variables(ax, title, ytitle, xtitle, xlim, ylim):\n",
    "    \"\"\"\n",
    "    Series of matplotlib pyplot settings to make all plots unitform.\n",
    "    \"\"\"\n",
    "    # Set number of ticks for x-axis\n",
    "    ax.tick_params(axis='both', which='major', labelsize=16)\n",
    "\n",
    "    ax.set_xlabel(xtitle, fontsize=16)\n",
    "    ax.set_ylabel(ytitle, fontsize=16)\n",
    "    # ax.legend([y, n], ['aligned', 'not aligned'], loc=4, fancybox=True)\n",
    "    ax.set_xlim(xlim)\n",
    "    ax.set_ylim(ylim)\n"
   ]
  },
  {
   "cell_type": "code",
   "execution_count": 5,
   "metadata": {
    "ExecuteTime": {
     "end_time": "2018-08-23T03:41:38.541528Z",
     "start_time": "2018-08-23T03:41:38.115617Z"
    }
   },
   "outputs": [
    {
     "name": "stdout",
     "output_type": "stream",
     "text": [
      "/home/atarzia/psp/linBmolecules/molecules_1.pdf\n",
      "/home/atarzia/psp/linBmolecules/molecules_2.pdf\n"
     ]
    }
   ],
   "source": [
    "df, molecules, diameters = rdkit_functions.read_mol_txt_file(molecule_file)\n",
    "rdkit_functions.produce_quick_fig_mol(molecules, output_dir+'molecules.pdf')"
   ]
  },
  {
   "cell_type": "code",
   "execution_count": 6,
   "metadata": {
    "ExecuteTime": {
     "end_time": "2018-08-23T03:41:38.564776Z",
     "start_time": "2018-08-23T03:41:38.543455Z"
    }
   },
   "outputs": [],
   "source": [
    "def drawit(m, p, confId=-1):\n",
    "    mb = Chem.MolToMolBlock(m, confId=confId)\n",
    "    p.removeAllModels()\n",
    "    p.addModel(mb,'sdf')\n",
    "    p.setStyle({'stick':{}})\n",
    "    p.setBackgroundColor('0xeeeeee')\n",
    "    p.zoomTo()\n",
    "    return p.show()\n",
    "\n",
    "\n",
    "def drawit2(m, p, confId=-1):\n",
    "    mb = Chem.MolToMolBlock(m, confId=confId)\n",
    "    p.addModel(mb, 'sdf')\n",
    "    p.setStyle({'stick':{}})\n",
    "    p.setBackgroundColor('0xeeeeee')\n",
    "    p.zoomTo()"
   ]
  },
  {
   "cell_type": "code",
   "execution_count": 24,
   "metadata": {
    "ExecuteTime": {
     "end_time": "2018-08-23T03:55:00.771697Z",
     "start_time": "2018-08-23T03:55:00.741088Z"
    }
   },
   "outputs": [],
   "source": [
    "molecules = {'n-hexane': 'CCCCCC'}"
   ]
  },
  {
   "cell_type": "code",
   "execution_count": 28,
   "metadata": {
    "ExecuteTime": {
     "end_time": "2018-08-23T03:55:10.671790Z",
     "start_time": "2018-08-23T03:55:10.618403Z"
    }
   },
   "outputs": [
    {
     "data": {
      "image/png": "[encoded data removed]",
      "text/plain": [
       "<rdkit.Chem.rdchem.Mol at 0x7f0fd4f16670>"
      ]
     },
     "execution_count": 28,
     "metadata": {},
     "output_type": "execute_result"
    }
   ],
   "source": [
    "m"
   ]
  },
  {
   "cell_type": "code",
   "execution_count": 26,
   "metadata": {
    "ExecuteTime": {
     "end_time": "2018-08-23T03:55:02.618757Z",
     "start_time": "2018-08-23T03:55:02.485159Z"
    }
   },
   "outputs": [
    {
     "data": {
      "application/vnd.jupyter.widget-view+json": {
       "model_id": "e49a0ca0836a4f5dbcf14ff59bea3993",
       "version_major": 2,
       "version_minor": 0
      },
      "text/html": [
       "<p>Failed to display Jupyter Widget of type <code>interactive</code>.</p>\n",
       "<p>\n",
       "  If you're reading this message in the Jupyter Notebook or JupyterLab Notebook, it may mean\n",
       "  that the widgets JavaScript is still loading. If this message persists, it\n",
       "  likely means that the widgets JavaScript library is either not installed or\n",
       "  not enabled. See the <a href=\"https://ipywidgets.readthedocs.io/en/stable/user_install.html\">Jupyter\n",
       "  Widgets Documentation</a> for setup instructions.\n",
       "</p>\n",
       "<p>\n",
       "  If you're reading this message in another frontend (for example, a static\n",
       "  rendering on GitHub or <a href=\"https://nbviewer.jupyter.org/\">NBViewer</a>),\n",
       "  it may mean that your frontend doesn't currently support widgets.\n",
       "</p>\n"
      ],
      "text/plain": [
       "interactive(children=(IntSlider(value=0, description='confId', max=9), Output()), _dom_classes=('widget-interact',))"
      ]
     },
     "metadata": {},
     "output_type": "display_data"
    }
   ],
   "source": [
    "for name, smile in molecules.items():\n",
    "    # if name != 'MIM':\n",
    "    #     continue\n",
    "    m = Chem.MolFromSmiles(smile)\n",
    "    m = Chem.AddHs(m)\n",
    "    Chem.EmbedMultipleConfs(m, numConfs=10, randomSeed=0xf00d, \n",
    "                            useExpTorsionAnglePrefs=True,\n",
    "                            useBasicKnowledge=True)\n",
    "    p = py3Dmol.view(width=400,height=400)\n",
    "    interact(drawit, m=fixed(m),p=fixed(p),confId=(0,m.GetNumConformers()-1))"
   ]
  },
  {
   "cell_type": "code",
   "execution_count": 27,
   "metadata": {
    "ExecuteTime": {
     "end_time": "2018-08-23T03:55:05.147720Z",
     "start_time": "2018-08-23T03:55:05.080015Z"
    }
   },
   "outputs": [
    {
     "data": {
      "application/3dmoljs_load.v0": "<div id=\"3dmolviewer_15349965051449132\"  style=\"position: relative; width: 400px; height: 400px\">\n        <p id=\"3dmolwarning_15349965051449132\" style=\"background-color:#ffcccc;color:black\">You appear to be running in JupyterLab.  You need to install the 3dmol extension: <br>\n        <tt>jupyter labextension install jupyterlab_3dmol</tt></p>\n        </div>\n<script>\n\nvar loadScriptAsync = function(uri){\n  return new Promise((resolve, reject) => {\n    var tag = document.createElement('script');\n    tag.src = uri;\n    tag.async = true;\n    tag.onload = () => {\n      resolve();\n    };\n  var firstScriptTag = document.getElementsByTagName('script')[0];\n  firstScriptTag.parentNode.insertBefore(tag, firstScriptTag);\n});\n};\n\nif(typeof $3Dmolpromise === 'undefined') {\n$3Dmolpromise = null;\n  $3Dmolpromise = loadScriptAsync('https://3dmol.csb.pitt.edu/build/3Dmol.js');\n}\n\nvar viewer_15349965051449132 = null;\nvar warn = document.getElementById(\"3dmolwarning_15349965051449132\");\nif(warn) {\n    warn.parentNode.removeChild(warn);\n}\n$3Dmolpromise.then(function() {\nviewer_15349965051449132 = $3Dmol.createViewer($(\"#3dmolviewer_15349965051449132\"),{backgroundColor:\"white\"});\n\tviewer_15349965051449132.addModel(\"\\n     RDKit          3D\\n\\n 20 19  0  0  0  0  0  0  0  0999 V2000\\n   -2.8654    0.5374    0.2096 C   0  0  0  0  0  0  0  0  0  0  0  0\\n   -1.4423    0.2327    0.6126 C   0  0  0  0  0  0  0  0  0  0  0  0\\n   -0.7364   -0.5120   -0.5300 C   0  0  0  0  0  0  0  0  0  0  0  0\\n    0.6853   -0.8196   -0.1331 C   0  0  0  0  0  0  0  0  0  0  0  0\\n    1.4920    0.4025    0.1709 C   0  0  0  0  0  0  0  0  0  0  0  0\\n    2.9002   -0.0004    0.5579 C   0  0  0  0  0  0  0  0  0  0  0  0\\n   -3.4232    0.7643    1.1342 H   0  0  0  0  0  0  0  0  0  0  0  0\\n   -3.2740   -0.3338   -0.3391 H   0  0  0  0  0  0  0  0  0  0  0  0\\n   -2.9142    1.4411   -0.4263 H   0  0  0  0  0  0  0  0  0  0  0  0\\n   -1.4755   -0.4441    1.4816 H   0  0  0  0  0  0  0  0  0  0  0  0\\n   -0.9287    1.1874    0.7965 H   0  0  0  0  0  0  0  0  0  0  0  0\\n   -1.3267   -1.4409   -0.6713 H   0  0  0  0  0  0  0  0  0  0  0  0\\n   -0.8071    0.0699   -1.4666 H   0  0  0  0  0  0  0  0  0  0  0  0\\n    1.1514   -1.3936   -0.9494 H   0  0  0  0  0  0  0  0  0  0  0  0\\n    0.6413   -1.4493    0.7778 H   0  0  0  0  0  0  0  0  0  0  0  0\\n    1.0789    0.9473    1.0528 H   0  0  0  0  0  0  0  0  0  0  0  0\\n    1.5292    1.1274   -0.6536 H   0  0  0  0  0  0  0  0  0  0  0  0\\n    3.1980   -0.8736   -0.0722 H   0  0  0  0  0  0  0  0  0  0  0  0\\n    3.5984    0.8577    0.4172 H   0  0  0  0  0  0  0  0  0  0  0  0\\n    2.9187   -0.3006    1.6450 H   0  0  0  0  0  0  0  0  0  0  0  0\\n  1  2  1  0\\n  2  3  1  0\\n  3  4  1  0\\n  4  5  1  0\\n  5  6  1  0\\n  1  7  1  0\\n  1  8  1  0\\n  1  9  1  0\\n  2 10  1  0\\n  2 11  1  0\\n  3 12  1  0\\n  3 13  1  0\\n  4 14  1  0\\n  4 15  1  0\\n  5 16  1  0\\n  5 17  1  0\\n  6 18  1  0\\n  6 19  1  0\\n  6 20  1  0\\nM  END\\n\",\"sdf\");\n\tviewer_15349965051449132.setStyle({\"stick\": {}});\n\tviewer_15349965051449132.setBackgroundColor(\"0xeeeeee\");\n\tviewer_15349965051449132.zoomTo();\n\tviewer_15349965051449132.addModel(\"\\n     RDKit          3D\\n\\n 20 19  0  0  0  0  0  0  0  0999 V2000\\n   -2.6694    0.3283   -0.7962 C   0  0  0  0  0  0  0  0  0  0  0  0\\n   -1.7736   -0.4948    0.1052 C   0  0  0  0  0  0  0  0  0  0  0  0\\n   -0.4021    0.1709    0.0677 C   0  0  0  0  0  0  0  0  0  0  0  0\\n    0.5928   -0.5602    0.9341 C   0  0  0  0  0  0  0  0  0  0  0  0\\n    1.9098    0.1766    0.8265 C   0  0  0  0  0  0  0  0  0  0  0  0\\n    2.3860    0.1989   -0.5975 C   0  0  0  0  0  0  0  0  0  0  0  0\\n   -3.0254   -0.3400   -1.6028 H   0  0  0  0  0  0  0  0  0  0  0  0\\n   -3.5034    0.7964   -0.2381 H   0  0  0  0  0  0  0  0  0  0  0  0\\n   -2.1323    1.1603   -1.2970 H   0  0  0  0  0  0  0  0  0  0  0  0\\n   -1.7126   -1.5466   -0.2329 H   0  0  0  0  0  0  0  0  0  0  0  0\\n   -2.2020   -0.4524    1.1361 H   0  0  0  0  0  0  0  0  0  0  0  0\\n   -0.0745    0.1224   -0.9916 H   0  0  0  0  0  0  0  0  0  0  0  0\\n   -0.5409    1.2170    0.3545 H   0  0  0  0  0  0  0  0  0  0  0  0\\n    0.7371   -1.5817    0.5320 H   0  0  0  0  0  0  0  0  0  0  0  0\\n    0.2359   -0.6337    1.9767 H   0  0  0  0  0  0  0  0  0  0  0  0\\n    1.8589    1.1683    1.2927 H   0  0  0  0  0  0  0  0  0  0  0  0\\n    2.6738   -0.4060    1.4148 H   0  0  0  0  0  0  0  0  0  0  0  0\\n    2.1731    1.2064   -1.0206 H   0  0  0  0  0  0  0  0  0  0  0  0\\n    3.5056    0.0860   -0.6544 H   0  0  0  0  0  0  0  0  0  0  0  0\\n    1.9633   -0.6162   -1.2094 H   0  0  0  0  0  0  0  0  0  0  0  0\\n  1  2  1  0\\n  2  3  1  0\\n  3  4  1  0\\n  4  5  1  0\\n  5  6  1  0\\n  1  7  1  0\\n  1  8  1  0\\n  1  9  1  0\\n  2 10  1  0\\n  2 11  1  0\\n  3 12  1  0\\n  3 13  1  0\\n  4 14  1  0\\n  4 15  1  0\\n  5 16  1  0\\n  5 17  1  0\\n  6 18  1  0\\n  6 19  1  0\\n  6 20  1  0\\nM  END\\n\",\"sdf\");\n\tviewer_15349965051449132.setStyle({\"stick\": {}});\n\tviewer_15349965051449132.setBackgroundColor(\"0xeeeeee\");\n\tviewer_15349965051449132.zoomTo();\n\tviewer_15349965051449132.addModel(\"\\n     RDKit          3D\\n\\n 20 19  0  0  0  0  0  0  0  0999 V2000\\n   -2.5860   -0.4802    0.2539 C   0  0  0  0  0  0  0  0  0  0  0  0\\n   -1.9394    0.7848   -0.1680 C   0  0  0  0  0  0  0  0  0  0  0  0\\n   -0.5551    0.6335   -0.7203 C   0  0  0  0  0  0  0  0  0  0  0  0\\n    0.4215    0.0302    0.2394 C   0  0  0  0  0  0  0  0  0  0  0  0\\n    1.7673   -0.0475   -0.4861 C   0  0  0  0  0  0  0  0  0  0  0  0\\n    2.8387   -0.6395    0.3768 C   0  0  0  0  0  0  0  0  0  0  0  0\\n   -3.6783   -0.4258   -0.0265 H   0  0  0  0  0  0  0  0  0  0  0  0\\n   -2.2088   -1.3819   -0.2865 H   0  0  0  0  0  0  0  0  0  0  0  0\\n   -2.5870   -0.6290    1.3548 H   0  0  0  0  0  0  0  0  0  0  0  0\\n   -1.9045    1.5008    0.6882 H   0  0  0  0  0  0  0  0  0  0  0  0\\n   -2.5493    1.2936   -0.9490 H   0  0  0  0  0  0  0  0  0  0  0  0\\n   -0.1894    1.6602   -0.9707 H   0  0  0  0  0  0  0  0  0  0  0  0\\n   -0.6079    0.0684   -1.6647 H   0  0  0  0  0  0  0  0  0  0  0  0\\n    0.5218    0.7046    1.1239 H   0  0  0  0  0  0  0  0  0  0  0  0\\n    0.1649   -0.9671    0.5885 H   0  0  0  0  0  0  0  0  0  0  0  0\\n    1.5928   -0.6863   -1.3738 H   0  0  0  0  0  0  0  0  0  0  0  0\\n    2.0720    0.9731   -0.7813 H   0  0  0  0  0  0  0  0  0  0  0  0\\n    3.5411   -1.1903   -0.2965 H   0  0  0  0  0  0  0  0  0  0  0  0\\n    2.4351   -1.3600    1.0868 H   0  0  0  0  0  0  0  0  0  0  0  0\\n    3.4506    0.1584    0.8548 H   0  0  0  0  0  0  0  0  0  0  0  0\\n  1  2  1  0\\n  2  3  1  0\\n  3  4  1  0\\n  4  5  1  0\\n  5  6  1  0\\n  1  7  1  0\\n  1  8  1  0\\n  1  9  1  0\\n  2 10  1  0\\n  2 11  1  0\\n  3 12  1  0\\n  3 13  1  0\\n  4 14  1  0\\n  4 15  1  0\\n  5 16  1  0\\n  5 17  1  0\\n  6 18  1  0\\n  6 19  1  0\\n  6 20  1  0\\nM  END\\n\",\"sdf\");\n\tviewer_15349965051449132.setStyle({\"stick\": {}});\n\tviewer_15349965051449132.setBackgroundColor(\"0xeeeeee\");\n\tviewer_15349965051449132.zoomTo();\n\tviewer_15349965051449132.addModel(\"\\n     RDKit          3D\\n\\n 20 19  0  0  0  0  0  0  0  0999 V2000\\n    2.4937    0.6778    0.3035 C   0  0  0  0  0  0  0  0  0  0  0  0\\n    1.3412    0.1038   -0.5263 C   0  0  0  0  0  0  0  0  0  0  0  0\\n    0.4403   -0.6185    0.4256 C   0  0  0  0  0  0  0  0  0  0  0  0\\n   -0.7400   -1.2267   -0.3085 C   0  0  0  0  0  0  0  0  0  0  0  0\\n   -1.5644   -0.1902   -1.0074 C   0  0  0  0  0  0  0  0  0  0  0  0\\n   -2.1320    0.8327   -0.0569 C   0  0  0  0  0  0  0  0  0  0  0  0\\n    2.7210   -0.0861    1.0886 H   0  0  0  0  0  0  0  0  0  0  0  0\\n    2.2436    1.6484    0.7445 H   0  0  0  0  0  0  0  0  0  0  0  0\\n    3.3574    0.8090   -0.3916 H   0  0  0  0  0  0  0  0  0  0  0  0\\n    1.8182   -0.5921   -1.2643 H   0  0  0  0  0  0  0  0  0  0  0  0\\n    0.7986    0.9111   -1.0574 H   0  0  0  0  0  0  0  0  0  0  0  0\\n    1.0068   -1.3987    0.9646 H   0  0  0  0  0  0  0  0  0  0  0  0\\n    0.0903    0.1157    1.1792 H   0  0  0  0  0  0  0  0  0  0  0  0\\n   -0.2902   -1.8673   -1.1197 H   0  0  0  0  0  0  0  0  0  0  0  0\\n   -1.3136   -1.9078    0.3271 H   0  0  0  0  0  0  0  0  0  0  0  0\\n   -2.4398   -0.7219   -1.4550 H   0  0  0  0  0  0  0  0  0  0  0  0\\n   -0.9671    0.2410   -1.8225 H   0  0  0  0  0  0  0  0  0  0  0  0\\n   -1.3496    1.3894    0.4971 H   0  0  0  0  0  0  0  0  0  0  0  0\\n   -2.6751    1.5784   -0.6758 H   0  0  0  0  0  0  0  0  0  0  0  0\\n   -2.8395    0.3020    0.6132 H   0  0  0  0  0  0  0  0  0  0  0  0\\n  1  2  1  0\\n  2  3  1  0\\n  3  4  1  0\\n  4  5  1  0\\n  5  6  1  0\\n  1  7  1  0\\n  1  8  1  0\\n  1  9  1  0\\n  2 10  1  0\\n  2 11  1  0\\n  3 12  1  0\\n  3 13  1  0\\n  4 14  1  0\\n  4 15  1  0\\n  5 16  1  0\\n  5 17  1  0\\n  6 18  1  0\\n  6 19  1  0\\n  6 20  1  0\\nM  END\\n\",\"sdf\");\n\tviewer_15349965051449132.setStyle({\"stick\": {}});\n\tviewer_15349965051449132.setBackgroundColor(\"0xeeeeee\");\n\tviewer_15349965051449132.zoomTo();\n\tviewer_15349965051449132.addModel(\"\\n     RDKit          3D\\n\\n 20 19  0  0  0  0  0  0  0  0999 V2000\\n    2.1813   -0.1985   -0.4459 C   0  0  0  0  0  0  0  0  0  0  0  0\\n    1.5650   -0.5023    0.8927 C   0  0  0  0  0  0  0  0  0  0  0  0\\n    0.6455    0.5796    1.3753 C   0  0  0  0  0  0  0  0  0  0  0  0\\n   -0.5112    0.8094    0.4131 C   0  0  0  0  0  0  0  0  0  0  0  0\\n   -1.3363   -0.4319    0.2416 C   0  0  0  0  0  0  0  0  0  0  0  0\\n   -2.4634   -0.1328   -0.7234 C   0  0  0  0  0  0  0  0  0  0  0  0\\n    1.4457   -0.1584   -1.2658 H   0  0  0  0  0  0  0  0  0  0  0  0\\n    2.8969   -1.0362   -0.6611 H   0  0  0  0  0  0  0  0  0  0  0  0\\n    2.7728    0.7342   -0.4295 H   0  0  0  0  0  0  0  0  0  0  0  0\\n    2.3963   -0.5776    1.6230 H   0  0  0  0  0  0  0  0  0  0  0  0\\n    1.0008   -1.4446    0.8191 H   0  0  0  0  0  0  0  0  0  0  0  0\\n    0.2684    0.2775    2.3728 H   0  0  0  0  0  0  0  0  0  0  0  0\\n    1.2364    1.5021    1.5204 H   0  0  0  0  0  0  0  0  0  0  0  0\\n   -0.1654    1.1373   -0.5718 H   0  0  0  0  0  0  0  0  0  0  0  0\\n   -1.1640    1.5772    0.9043 H   0  0  0  0  0  0  0  0  0  0  0  0\\n   -1.7866   -0.7477    1.1875 H   0  0  0  0  0  0  0  0  0  0  0  0\\n   -0.7312   -1.2450   -0.2395 H   0  0  0  0  0  0  0  0  0  0  0  0\\n   -2.0726   -0.0372   -1.7624 H   0  0  0  0  0  0  0  0  0  0  0  0\\n   -3.2314   -0.9562   -0.6863 H   0  0  0  0  0  0  0  0  0  0  0  0\\n   -2.9472    0.8511   -0.4912 H   0  0  0  0  0  0  0  0  0  0  0  0\\n  1  2  1  0\\n  2  3  1  0\\n  3  4  1  0\\n  4  5  1  0\\n  5  6  1  0\\n  1  7  1  0\\n  1  8  1  0\\n  1  9  1  0\\n  2 10  1  0\\n  2 11  1  0\\n  3 12  1  0\\n  3 13  1  0\\n  4 14  1  0\\n  4 15  1  0\\n  5 16  1  0\\n  5 17  1  0\\n  6 18  1  0\\n  6 19  1  0\\n  6 20  1  0\\nM  END\\n\",\"sdf\");\n\tviewer_15349965051449132.setStyle({\"stick\": {}});\n\tviewer_15349965051449132.setBackgroundColor(\"0xeeeeee\");\n\tviewer_15349965051449132.zoomTo();\n\tviewer_15349965051449132.addModel(\"\\n     RDKit          3D\\n\\n 20 19  0  0  0  0  0  0  0  0999 V2000\\n   -2.8992    0.1982    0.0162 C   0  0  0  0  0  0  0  0  0  0  0  0\\n   -1.4757   -0.1267   -0.4783 C   0  0  0  0  0  0  0  0  0  0  0  0\\n   -0.6633   -0.2892    0.7845 C   0  0  0  0  0  0  0  0  0  0  0  0\\n    0.7657   -0.6250    0.5276 C   0  0  0  0  0  0  0  0  0  0  0  0\\n    1.4037    0.4823   -0.2795 C   0  0  0  0  0  0  0  0  0  0  0  0\\n    2.8558    0.1205   -0.5149 C   0  0  0  0  0  0  0  0  0  0  0  0\\n   -3.0801   -0.4690    0.8662 H   0  0  0  0  0  0  0  0  0  0  0  0\\n   -2.8904    1.2480    0.3862 H   0  0  0  0  0  0  0  0  0  0  0  0\\n   -3.5886    0.1060   -0.8194 H   0  0  0  0  0  0  0  0  0  0  0  0\\n   -1.5455   -1.0392   -1.0748 H   0  0  0  0  0  0  0  0  0  0  0  0\\n   -1.1075    0.7555   -1.0412 H   0  0  0  0  0  0  0  0  0  0  0  0\\n   -1.1549   -1.0084    1.4911 H   0  0  0  0  0  0  0  0  0  0  0  0\\n   -0.7371    0.6983    1.3291 H   0  0  0  0  0  0  0  0  0  0  0  0\\n    1.3014   -0.6217    1.5108 H   0  0  0  0  0  0  0  0  0  0  0  0\\n    0.8907   -1.6004    0.0099 H   0  0  0  0  0  0  0  0  0  0  0  0\\n    1.3813    1.4328    0.2896 H   0  0  0  0  0  0  0  0  0  0  0  0\\n    0.8749    0.6635   -1.2536 H   0  0  0  0  0  0  0  0  0  0  0  0\\n    3.0232   -0.9420   -0.2838 H   0  0  0  0  0  0  0  0  0  0  0  0\\n    3.5436    0.7339    0.0987 H   0  0  0  0  0  0  0  0  0  0  0  0\\n    3.1021    0.2826   -1.5642 H   0  0  0  0  0  0  0  0  0  0  0  0\\n  1  2  1  0\\n  2  3  1  0\\n  3  4  1  0\\n  4  5  1  0\\n  5  6  1  0\\n  1  7  1  0\\n  1  8  1  0\\n  1  9  1  0\\n  2 10  1  0\\n  2 11  1  0\\n  3 12  1  0\\n  3 13  1  0\\n  4 14  1  0\\n  4 15  1  0\\n  5 16  1  0\\n  5 17  1  0\\n  6 18  1  0\\n  6 19  1  0\\n  6 20  1  0\\nM  END\\n\",\"sdf\");\n\tviewer_15349965051449132.setStyle({\"stick\": {}});\n\tviewer_15349965051449132.setBackgroundColor(\"0xeeeeee\");\n\tviewer_15349965051449132.zoomTo();\n\tviewer_15349965051449132.addModel(\"\\n     RDKit          3D\\n\\n 20 19  0  0  0  0  0  0  0  0999 V2000\\n    3.1078    0.2686   -0.0657 C   0  0  0  0  0  0  0  0  0  0  0  0\\n    1.6891    0.6900    0.1327 C   0  0  0  0  0  0  0  0  0  0  0  0\\n    0.6935   -0.3766   -0.3205 C   0  0  0  0  0  0  0  0  0  0  0  0\\n   -0.6781    0.1759   -0.0655 C   0  0  0  0  0  0  0  0  0  0  0  0\\n   -1.7741   -0.7841   -0.4712 C   0  0  0  0  0  0  0  0  0  0  0  0\\n   -3.0999   -0.0972   -0.1589 C   0  0  0  0  0  0  0  0  0  0  0  0\\n    3.4638    0.6373   -1.0528 H   0  0  0  0  0  0  0  0  0  0  0  0\\n    3.2541   -0.8214    0.0296 H   0  0  0  0  0  0  0  0  0  0  0  0\\n    3.7190    0.7725    0.7385 H   0  0  0  0  0  0  0  0  0  0  0  0\\n    1.5167    0.8161    1.2211 H   0  0  0  0  0  0  0  0  0  0  0  0\\n    1.4353    1.6120   -0.4032 H   0  0  0  0  0  0  0  0  0  0  0  0\\n    0.8924   -1.3197    0.2155 H   0  0  0  0  0  0  0  0  0  0  0  0\\n    0.9086   -0.5597   -1.3858 H   0  0  0  0  0  0  0  0  0  0  0  0\\n   -0.7413    0.4152    1.0152 H   0  0  0  0  0  0  0  0  0  0  0  0\\n   -0.7583    1.1445   -0.5988 H   0  0  0  0  0  0  0  0  0  0  0  0\\n   -1.6837   -1.0911   -1.5120 H   0  0  0  0  0  0  0  0  0  0  0  0\\n   -1.7510   -1.6923    0.1640 H   0  0  0  0  0  0  0  0  0  0  0  0\\n   -3.2563    0.7748   -0.8330 H   0  0  0  0  0  0  0  0  0  0  0  0\\n   -3.0251    0.2780    0.8717 H   0  0  0  0  0  0  0  0  0  0  0  0\\n   -3.9126   -0.8428   -0.2187 H   0  0  0  0  0  0  0  0  0  0  0  0\\n  1  2  1  0\\n  2  3  1  0\\n  3  4  1  0\\n  4  5  1  0\\n  5  6  1  0\\n  1  7  1  0\\n  1  8  1  0\\n  1  9  1  0\\n  2 10  1  0\\n  2 11  1  0\\n  3 12  1  0\\n  3 13  1  0\\n  4 14  1  0\\n  4 15  1  0\\n  5 16  1  0\\n  5 17  1  0\\n  6 18  1  0\\n  6 19  1  0\\n  6 20  1  0\\nM  END\\n\",\"sdf\");\n\tviewer_15349965051449132.setStyle({\"stick\": {}});\n\tviewer_15349965051449132.setBackgroundColor(\"0xeeeeee\");\n\tviewer_15349965051449132.zoomTo();\n\tviewer_15349965051449132.addModel(\"\\n     RDKit          3D\\n\\n 20 19  0  0  0  0  0  0  0  0999 V2000\\n   -2.7423    0.6267    0.3661 C   0  0  0  0  0  0  0  0  0  0  0  0\\n   -1.6881   -0.4316    0.3271 C   0  0  0  0  0  0  0  0  0  0  0  0\\n   -0.4174    0.0827   -0.3118 C   0  0  0  0  0  0  0  0  0  0  0  0\\n    0.6424   -0.9966   -0.3460 C   0  0  0  0  0  0  0  0  0  0  0  0\\n    1.9210   -0.4935   -0.9841 C   0  0  0  0  0  0  0  0  0  0  0  0\\n    2.4332    0.6827   -0.1658 C   0  0  0  0  0  0  0  0  0  0  0  0\\n   -3.6417    0.3660   -0.2484 H   0  0  0  0  0  0  0  0  0  0  0  0\\n   -3.0442    0.9197    1.3930 H   0  0  0  0  0  0  0  0  0  0  0  0\\n   -2.3255    1.5630   -0.1067 H   0  0  0  0  0  0  0  0  0  0  0  0\\n   -1.4906   -0.7711    1.3711 H   0  0  0  0  0  0  0  0  0  0  0  0\\n   -2.0264   -1.3184   -0.2306 H   0  0  0  0  0  0  0  0  0  0  0  0\\n   -0.0840    0.9556    0.2996 H   0  0  0  0  0  0  0  0  0  0  0  0\\n   -0.6681    0.4707   -1.3093 H   0  0  0  0  0  0  0  0  0  0  0  0\\n    0.8335   -1.3077    0.6939 H   0  0  0  0  0  0  0  0  0  0  0  0\\n    0.2474   -1.8492   -0.9185 H   0  0  0  0  0  0  0  0  0  0  0  0\\n    1.7757   -0.1371   -2.0064 H   0  0  0  0  0  0  0  0  0  0  0  0\\n    2.6949   -1.2675   -0.9495 H   0  0  0  0  0  0  0  0  0  0  0  0\\n    2.3682    0.4111    0.9014 H   0  0  0  0  0  0  0  0  0  0  0  0\\n    3.4629    0.9625   -0.4734 H   0  0  0  0  0  0  0  0  0  0  0  0\\n    1.7492    1.5319   -0.3850 H   0  0  0  0  0  0  0  0  0  0  0  0\\n  1  2  1  0\\n  2  3  1  0\\n  3  4  1  0\\n  4  5  1  0\\n  5  6  1  0\\n  1  7  1  0\\n  1  8  1  0\\n  1  9  1  0\\n  2 10  1  0\\n  2 11  1  0\\n  3 12  1  0\\n  3 13  1  0\\n  4 14  1  0\\n  4 15  1  0\\n  5 16  1  0\\n  5 17  1  0\\n  6 18  1  0\\n  6 19  1  0\\n  6 20  1  0\\nM  END\\n\",\"sdf\");\n\tviewer_15349965051449132.setStyle({\"stick\": {}});\n\tviewer_15349965051449132.setBackgroundColor(\"0xeeeeee\");\n\tviewer_15349965051449132.zoomTo();\n\tviewer_15349965051449132.addModel(\"\\n     RDKit          3D\\n\\n 20 19  0  0  0  0  0  0  0  0999 V2000\\n   -2.8024    0.7869    0.2178 C   0  0  0  0  0  0  0  0  0  0  0  0\\n   -1.7953   -0.2893    0.0040 C   0  0  0  0  0  0  0  0  0  0  0  0\\n   -0.3816    0.2503   -0.1499 C   0  0  0  0  0  0  0  0  0  0  0  0\\n    0.5816   -0.9048   -0.3634 C   0  0  0  0  0  0  0  0  0  0  0  0\\n    1.9942   -0.4493   -0.5230 C   0  0  0  0  0  0  0  0  0  0  0  0\\n    2.5268    0.3007    0.6545 C   0  0  0  0  0  0  0  0  0  0  0  0\\n   -2.3924    1.7026    0.6708 H   0  0  0  0  0  0  0  0  0  0  0  0\\n   -3.6162    0.3558    0.8690 H   0  0  0  0  0  0  0  0  0  0  0  0\\n   -3.3355    1.0796   -0.7259 H   0  0  0  0  0  0  0  0  0  0  0  0\\n   -1.7656   -1.0386    0.8292 H   0  0  0  0  0  0  0  0  0  0  0  0\\n   -2.0768   -0.8846   -0.9104 H   0  0  0  0  0  0  0  0  0  0  0  0\\n   -0.1424    0.8103    0.7689 H   0  0  0  0  0  0  0  0  0  0  0  0\\n   -0.3857    0.9071   -1.0248 H   0  0  0  0  0  0  0  0  0  0  0  0\\n    0.5098   -1.6612    0.4196 H   0  0  0  0  0  0  0  0  0  0  0  0\\n    0.2750   -1.3799   -1.3291 H   0  0  0  0  0  0  0  0  0  0  0  0\\n    2.0327    0.2017   -1.4375 H   0  0  0  0  0  0  0  0  0  0  0  0\\n    2.6175   -1.3321   -0.7364 H   0  0  0  0  0  0  0  0  0  0  0  0\\n    2.3355    1.3965    0.4872 H   0  0  0  0  0  0  0  0  0  0  0  0\\n    3.6493    0.2009    0.6570 H   0  0  0  0  0  0  0  0  0  0  0  0\\n    2.1715   -0.0528    1.6225 H   0  0  0  0  0  0  0  0  0  0  0  0\\n  1  2  1  0\\n  2  3  1  0\\n  3  4  1  0\\n  4  5  1  0\\n  5  6  1  0\\n  1  7  1  0\\n  1  8  1  0\\n  1  9  1  0\\n  2 10  1  0\\n  2 11  1  0\\n  3 12  1  0\\n  3 13  1  0\\n  4 14  1  0\\n  4 15  1  0\\n  5 16  1  0\\n  5 17  1  0\\n  6 18  1  0\\n  6 19  1  0\\n  6 20  1  0\\nM  END\\n\",\"sdf\");\n\tviewer_15349965051449132.setStyle({\"stick\": {}});\n\tviewer_15349965051449132.setBackgroundColor(\"0xeeeeee\");\n\tviewer_15349965051449132.zoomTo();\n\tviewer_15349965051449132.addModel(\"\\n     RDKit          3D\\n\\n 20 19  0  0  0  0  0  0  0  0999 V2000\\n    2.6685    0.0887   -0.1509 C   0  0  0  0  0  0  0  0  0  0  0  0\\n    1.6228   -0.6306    0.6345 C   0  0  0  0  0  0  0  0  0  0  0  0\\n    0.2867    0.0458    0.6312 C   0  0  0  0  0  0  0  0  0  0  0  0\\n   -0.2872    0.1942   -0.7562 C   0  0  0  0  0  0  0  0  0  0  0  0\\n   -1.6314    0.8856   -0.6531 C   0  0  0  0  0  0  0  0  0  0  0  0\\n   -2.5861    0.0748    0.1987 C   0  0  0  0  0  0  0  0  0  0  0  0\\n    2.5066    1.1831   -0.1507 H   0  0  0  0  0  0  0  0  0  0  0  0\\n    3.6554   -0.0915    0.3238 H   0  0  0  0  0  0  0  0  0  0  0  0\\n    2.7497   -0.3186   -1.1985 H   0  0  0  0  0  0  0  0  0  0  0  0\\n    1.9636   -0.6841    1.6922 H   0  0  0  0  0  0  0  0  0  0  0  0\\n    1.4606   -1.6728    0.2464 H   0  0  0  0  0  0  0  0  0  0  0  0\\n   -0.4176   -0.6258    1.1888 H   0  0  0  0  0  0  0  0  0  0  0  0\\n    0.2793    1.0038    1.1951 H   0  0  0  0  0  0  0  0  0  0  0  0\\n    0.3809    0.7121   -1.4595 H   0  0  0  0  0  0  0  0  0  0  0  0\\n   -0.4584   -0.8240   -1.1514 H   0  0  0  0  0  0  0  0  0  0  0  0\\n   -2.1095    0.9827   -1.6480 H   0  0  0  0  0  0  0  0  0  0  0  0\\n   -1.5327    1.8818   -0.1590 H   0  0  0  0  0  0  0  0  0  0  0  0\\n   -2.3031    0.1507    1.2671 H   0  0  0  0  0  0  0  0  0  0  0  0\\n   -2.6496   -0.9749   -0.1561 H   0  0  0  0  0  0  0  0  0  0  0  0\\n   -3.5987    0.5126    0.1054 H   0  0  0  0  0  0  0  0  0  0  0  0\\n  1  2  1  0\\n  2  3  1  0\\n  3  4  1  0\\n  4  5  1  0\\n  5  6  1  0\\n  1  7  1  0\\n  1  8  1  0\\n  1  9  1  0\\n  2 10  1  0\\n  2 11  1  0\\n  3 12  1  0\\n  3 13  1  0\\n  4 14  1  0\\n  4 15  1  0\\n  5 16  1  0\\n  5 17  1  0\\n  6 18  1  0\\n  6 19  1  0\\n  6 20  1  0\\nM  END\\n\",\"sdf\");\n\tviewer_15349965051449132.setStyle({\"stick\": {}});\n\tviewer_15349965051449132.setBackgroundColor(\"0xeeeeee\");\n\tviewer_15349965051449132.zoomTo();\nviewer_15349965051449132.render();\n});\n</script>",
      "text/html": [
       "<div id=\"3dmolviewer_15349965051449132\"  style=\"position: relative; width: 400px; height: 400px\">\n",
       "        <p id=\"3dmolwarning_15349965051449132\" style=\"background-color:#ffcccc;color:black\">You appear to be running in JupyterLab.  You need to install the 3dmol extension: <br>\n",
       "        <tt>jupyter labextension install jupyterlab_3dmol</tt></p>\n",
       "        </div>\n",
       "<script>\n",
       "\n",
       "var loadScriptAsync = function(uri){\n",
       "  return new Promise((resolve, reject) => {\n",
       "    var tag = document.createElement('script');\n",
       "    tag.src = uri;\n",
       "    tag.async = true;\n",
       "    tag.onload = () => {\n",
       "      resolve();\n",
       "    };\n",
       "  var firstScriptTag = document.getElementsByTagName('script')[0];\n",
       "  firstScriptTag.parentNode.insertBefore(tag, firstScriptTag);\n",
       "});\n",
       "};\n",
       "\n",
       "if(typeof $3Dmolpromise === 'undefined') {\n",
       "$3Dmolpromise = null;\n",
       "  $3Dmolpromise = loadScriptAsync('https://3dmol.csb.pitt.edu/build/3Dmol.js');\n",
       "}\n",
       "\n",
       "var viewer_15349965051449132 = null;\n",
       "var warn = document.getElementById(\"3dmolwarning_15349965051449132\");\n",
       "if(warn) {\n",
       "    warn.parentNode.removeChild(warn);\n",
       "}\n",
       "$3Dmolpromise.then(function() {\n",
       "viewer_15349965051449132 = $3Dmol.createViewer($(\"#3dmolviewer_15349965051449132\"),{backgroundColor:\"white\"});\n",
       "\tviewer_15349965051449132.addModel(\"\\n     RDKit          3D\\n\\n 20 19  0  0  0  0  0  0  0  0999 V2000\\n   -2.8654    0.5374    0.2096 C   0  0  0  0  0  0  0  0  0  0  0  0\\n   -1.4423    0.2327    0.6126 C   0  0  0  0  0  0  0  0  0  0  0  0\\n   -0.7364   -0.5120   -0.5300 C   0  0  0  0  0  0  0  0  0  0  0  0\\n    0.6853   -0.8196   -0.1331 C   0  0  0  0  0  0  0  0  0  0  0  0\\n    1.4920    0.4025    0.1709 C   0  0  0  0  0  0  0  0  0  0  0  0\\n    2.9002   -0.0004    0.5579 C   0  0  0  0  0  0  0  0  0  0  0  0\\n   -3.4232    0.7643    1.1342 H   0  0  0  0  0  0  0  0  0  0  0  0\\n   -3.2740   -0.3338   -0.3391 H   0  0  0  0  0  0  0  0  0  0  0  0\\n   -2.9142    1.4411   -0.4263 H   0  0  0  0  0  0  0  0  0  0  0  0\\n   -1.4755   -0.4441    1.4816 H   0  0  0  0  0  0  0  0  0  0  0  0\\n   -0.9287    1.1874    0.7965 H   0  0  0  0  0  0  0  0  0  0  0  0\\n   -1.3267   -1.4409   -0.6713 H   0  0  0  0  0  0  0  0  0  0  0  0\\n   -0.8071    0.0699   -1.4666 H   0  0  0  0  0  0  0  0  0  0  0  0\\n    1.1514   -1.3936   -0.9494 H   0  0  0  0  0  0  0  0  0  0  0  0\\n    0.6413   -1.4493    0.7778 H   0  0  0  0  0  0  0  0  0  0  0  0\\n    1.0789    0.9473    1.0528 H   0  0  0  0  0  0  0  0  0  0  0  0\\n    1.5292    1.1274   -0.6536 H   0  0  0  0  0  0  0  0  0  0  0  0\\n    3.1980   -0.8736   -0.0722 H   0  0  0  0  0  0  0  0  0  0  0  0\\n    3.5984    0.8577    0.4172 H   0  0  0  0  0  0  0  0  0  0  0  0\\n    2.9187   -0.3006    1.6450 H   0  0  0  0  0  0  0  0  0  0  0  0\\n  1  2  1  0\\n  2  3  1  0\\n  3  4  1  0\\n  4  5  1  0\\n  5  6  1  0\\n  1  7  1  0\\n  1  8  1  0\\n  1  9  1  0\\n  2 10  1  0\\n  2 11  1  0\\n  3 12  1  0\\n  3 13  1  0\\n  4 14  1  0\\n  4 15  1  0\\n  5 16  1  0\\n  5 17  1  0\\n  6 18  1  0\\n  6 19  1  0\\n  6 20  1  0\\nM  END\\n\",\"sdf\");\n",
       "\tviewer_15349965051449132.setStyle({\"stick\": {}});\n",
       "\tviewer_15349965051449132.setBackgroundColor(\"0xeeeeee\");\n",
       "\tviewer_15349965051449132.zoomTo();\n",
       "\tviewer_15349965051449132.addModel(\"\\n     RDKit          3D\\n\\n 20 19  0  0  0  0  0  0  0  0999 V2000\\n   -2.6694    0.3283   -0.7962 C   0  0  0  0  0  0  0  0  0  0  0  0\\n   -1.7736   -0.4948    0.1052 C   0  0  0  0  0  0  0  0  0  0  0  0\\n   -0.4021    0.1709    0.0677 C   0  0  0  0  0  0  0  0  0  0  0  0\\n    0.5928   -0.5602    0.9341 C   0  0  0  0  0  0  0  0  0  0  0  0\\n    1.9098    0.1766    0.8265 C   0  0  0  0  0  0  0  0  0  0  0  0\\n    2.3860    0.1989   -0.5975 C   0  0  0  0  0  0  0  0  0  0  0  0\\n   -3.0254   -0.3400   -1.6028 H   0  0  0  0  0  0  0  0  0  0  0  0\\n   -3.5034    0.7964   -0.2381 H   0  0  0  0  0  0  0  0  0  0  0  0\\n   -2.1323    1.1603   -1.2970 H   0  0  0  0  0  0  0  0  0  0  0  0\\n   -1.7126   -1.5466   -0.2329 H   0  0  0  0  0  0  0  0  0  0  0  0\\n   -2.2020   -0.4524    1.1361 H   0  0  0  0  0  0  0  0  0  0  0  0\\n   -0.0745    0.1224   -0.9916 H   0  0  0  0  0  0  0  0  0  0  0  0\\n   -0.5409    1.2170    0.3545 H   0  0  0  0  0  0  0  0  0  0  0  0\\n    0.7371   -1.5817    0.5320 H   0  0  0  0  0  0  0  0  0  0  0  0\\n    0.2359   -0.6337    1.9767 H   0  0  0  0  0  0  0  0  0  0  0  0\\n    1.8589    1.1683    1.2927 H   0  0  0  0  0  0  0  0  0  0  0  0\\n    2.6738   -0.4060    1.4148 H   0  0  0  0  0  0  0  0  0  0  0  0\\n    2.1731    1.2064   -1.0206 H   0  0  0  0  0  0  0  0  0  0  0  0\\n    3.5056    0.0860   -0.6544 H   0  0  0  0  0  0  0  0  0  0  0  0\\n    1.9633   -0.6162   -1.2094 H   0  0  0  0  0  0  0  0  0  0  0  0\\n  1  2  1  0\\n  2  3  1  0\\n  3  4  1  0\\n  4  5  1  0\\n  5  6  1  0\\n  1  7  1  0\\n  1  8  1  0\\n  1  9  1  0\\n  2 10  1  0\\n  2 11  1  0\\n  3 12  1  0\\n  3 13  1  0\\n  4 14  1  0\\n  4 15  1  0\\n  5 16  1  0\\n  5 17  1  0\\n  6 18  1  0\\n  6 19  1  0\\n  6 20  1  0\\nM  END\\n\",\"sdf\");\n",
       "\tviewer_15349965051449132.setStyle({\"stick\": {}});\n",
       "\tviewer_15349965051449132.setBackgroundColor(\"0xeeeeee\");\n",
       "\tviewer_15349965051449132.zoomTo();\n",
       "\tviewer_15349965051449132.addModel(\"\\n     RDKit          3D\\n\\n 20 19  0  0  0  0  0  0  0  0999 V2000\\n   -2.5860   -0.4802    0.2539 C   0  0  0  0  0  0  0  0  0  0  0  0\\n   -1.9394    0.7848   -0.1680 C   0  0  0  0  0  0  0  0  0  0  0  0\\n   -0.5551    0.6335   -0.7203 C   0  0  0  0  0  0  0  0  0  0  0  0\\n    0.4215    0.0302    0.2394 C   0  0  0  0  0  0  0  0  0  0  0  0\\n    1.7673   -0.0475   -0.4861 C   0  0  0  0  0  0  0  0  0  0  0  0\\n    2.8387   -0.6395    0.3768 C   0  0  0  0  0  0  0  0  0  0  0  0\\n   -3.6783   -0.4258   -0.0265 H   0  0  0  0  0  0  0  0  0  0  0  0\\n   -2.2088   -1.3819   -0.2865 H   0  0  0  0  0  0  0  0  0  0  0  0\\n   -2.5870   -0.6290    1.3548 H   0  0  0  0  0  0  0  0  0  0  0  0\\n   -1.9045    1.5008    0.6882 H   0  0  0  0  0  0  0  0  0  0  0  0\\n   -2.5493    1.2936   -0.9490 H   0  0  0  0  0  0  0  0  0  0  0  0\\n   -0.1894    1.6602   -0.9707 H   0  0  0  0  0  0  0  0  0  0  0  0\\n   -0.6079    0.0684   -1.6647 H   0  0  0  0  0  0  0  0  0  0  0  0\\n    0.5218    0.7046    1.1239 H   0  0  0  0  0  0  0  0  0  0  0  0\\n    0.1649   -0.9671    0.5885 H   0  0  0  0  0  0  0  0  0  0  0  0\\n    1.5928   -0.6863   -1.3738 H   0  0  0  0  0  0  0  0  0  0  0  0\\n    2.0720    0.9731   -0.7813 H   0  0  0  0  0  0  0  0  0  0  0  0\\n    3.5411   -1.1903   -0.2965 H   0  0  0  0  0  0  0  0  0  0  0  0\\n    2.4351   -1.3600    1.0868 H   0  0  0  0  0  0  0  0  0  0  0  0\\n    3.4506    0.1584    0.8548 H   0  0  0  0  0  0  0  0  0  0  0  0\\n  1  2  1  0\\n  2  3  1  0\\n  3  4  1  0\\n  4  5  1  0\\n  5  6  1  0\\n  1  7  1  0\\n  1  8  1  0\\n  1  9  1  0\\n  2 10  1  0\\n  2 11  1  0\\n  3 12  1  0\\n  3 13  1  0\\n  4 14  1  0\\n  4 15  1  0\\n  5 16  1  0\\n  5 17  1  0\\n  6 18  1  0\\n  6 19  1  0\\n  6 20  1  0\\nM  END\\n\",\"sdf\");\n",
       "\tviewer_15349965051449132.setStyle({\"stick\": {}});\n",
       "\tviewer_15349965051449132.setBackgroundColor(\"0xeeeeee\");\n",
       "\tviewer_15349965051449132.zoomTo();\n",
       "\tviewer_15349965051449132.addModel(\"\\n     RDKit          3D\\n\\n 20 19  0  0  0  0  0  0  0  0999 V2000\\n    2.4937    0.6778    0.3035 C   0  0  0  0  0  0  0  0  0  0  0  0\\n    1.3412    0.1038   -0.5263 C   0  0  0  0  0  0  0  0  0  0  0  0\\n    0.4403   -0.6185    0.4256 C   0  0  0  0  0  0  0  0  0  0  0  0\\n   -0.7400   -1.2267   -0.3085 C   0  0  0  0  0  0  0  0  0  0  0  0\\n   -1.5644   -0.1902   -1.0074 C   0  0  0  0  0  0  0  0  0  0  0  0\\n   -2.1320    0.8327   -0.0569 C   0  0  0  0  0  0  0  0  0  0  0  0\\n    2.7210   -0.0861    1.0886 H   0  0  0  0  0  0  0  0  0  0  0  0\\n    2.2436    1.6484    0.7445 H   0  0  0  0  0  0  0  0  0  0  0  0\\n    3.3574    0.8090   -0.3916 H   0  0  0  0  0  0  0  0  0  0  0  0\\n    1.8182   -0.5921   -1.2643 H   0  0  0  0  0  0  0  0  0  0  0  0\\n    0.7986    0.9111   -1.0574 H   0  0  0  0  0  0  0  0  0  0  0  0\\n    1.0068   -1.3987    0.9646 H   0  0  0  0  0  0  0  0  0  0  0  0\\n    0.0903    0.1157    1.1792 H   0  0  0  0  0  0  0  0  0  0  0  0\\n   -0.2902   -1.8673   -1.1197 H   0  0  0  0  0  0  0  0  0  0  0  0\\n   -1.3136   -1.9078    0.3271 H   0  0  0  0  0  0  0  0  0  0  0  0\\n   -2.4398   -0.7219   -1.4550 H   0  0  0  0  0  0  0  0  0  0  0  0\\n   -0.9671    0.2410   -1.8225 H   0  0  0  0  0  0  0  0  0  0  0  0\\n   -1.3496    1.3894    0.4971 H   0  0  0  0  0  0  0  0  0  0  0  0\\n   -2.6751    1.5784   -0.6758 H   0  0  0  0  0  0  0  0  0  0  0  0\\n   -2.8395    0.3020    0.6132 H   0  0  0  0  0  0  0  0  0  0  0  0\\n  1  2  1  0\\n  2  3  1  0\\n  3  4  1  0\\n  4  5  1  0\\n  5  6  1  0\\n  1  7  1  0\\n  1  8  1  0\\n  1  9  1  0\\n  2 10  1  0\\n  2 11  1  0\\n  3 12  1  0\\n  3 13  1  0\\n  4 14  1  0\\n  4 15  1  0\\n  5 16  1  0\\n  5 17  1  0\\n  6 18  1  0\\n  6 19  1  0\\n  6 20  1  0\\nM  END\\n\",\"sdf\");\n",
       "\tviewer_15349965051449132.setStyle({\"stick\": {}});\n",
       "\tviewer_15349965051449132.setBackgroundColor(\"0xeeeeee\");\n",
       "\tviewer_15349965051449132.zoomTo();\n",
       "\tviewer_15349965051449132.addModel(\"\\n     RDKit          3D\\n\\n 20 19  0  0  0  0  0  0  0  0999 V2000\\n    2.1813   -0.1985   -0.4459 C   0  0  0  0  0  0  0  0  0  0  0  0\\n    1.5650   -0.5023    0.8927 C   0  0  0  0  0  0  0  0  0  0  0  0\\n    0.6455    0.5796    1.3753 C   0  0  0  0  0  0  0  0  0  0  0  0\\n   -0.5112    0.8094    0.4131 C   0  0  0  0  0  0  0  0  0  0  0  0\\n   -1.3363   -0.4319    0.2416 C   0  0  0  0  0  0  0  0  0  0  0  0\\n   -2.4634   -0.1328   -0.7234 C   0  0  0  0  0  0  0  0  0  0  0  0\\n    1.4457   -0.1584   -1.2658 H   0  0  0  0  0  0  0  0  0  0  0  0\\n    2.8969   -1.0362   -0.6611 H   0  0  0  0  0  0  0  0  0  0  0  0\\n    2.7728    0.7342   -0.4295 H   0  0  0  0  0  0  0  0  0  0  0  0\\n    2.3963   -0.5776    1.6230 H   0  0  0  0  0  0  0  0  0  0  0  0\\n    1.0008   -1.4446    0.8191 H   0  0  0  0  0  0  0  0  0  0  0  0\\n    0.2684    0.2775    2.3728 H   0  0  0  0  0  0  0  0  0  0  0  0\\n    1.2364    1.5021    1.5204 H   0  0  0  0  0  0  0  0  0  0  0  0\\n   -0.1654    1.1373   -0.5718 H   0  0  0  0  0  0  0  0  0  0  0  0\\n   -1.1640    1.5772    0.9043 H   0  0  0  0  0  0  0  0  0  0  0  0\\n   -1.7866   -0.7477    1.1875 H   0  0  0  0  0  0  0  0  0  0  0  0\\n   -0.7312   -1.2450   -0.2395 H   0  0  0  0  0  0  0  0  0  0  0  0\\n   -2.0726   -0.0372   -1.7624 H   0  0  0  0  0  0  0  0  0  0  0  0\\n   -3.2314   -0.9562   -0.6863 H   0  0  0  0  0  0  0  0  0  0  0  0\\n   -2.9472    0.8511   -0.4912 H   0  0  0  0  0  0  0  0  0  0  0  0\\n  1  2  1  0\\n  2  3  1  0\\n  3  4  1  0\\n  4  5  1  0\\n  5  6  1  0\\n  1  7  1  0\\n  1  8  1  0\\n  1  9  1  0\\n  2 10  1  0\\n  2 11  1  0\\n  3 12  1  0\\n  3 13  1  0\\n  4 14  1  0\\n  4 15  1  0\\n  5 16  1  0\\n  5 17  1  0\\n  6 18  1  0\\n  6 19  1  0\\n  6 20  1  0\\nM  END\\n\",\"sdf\");\n",
       "\tviewer_15349965051449132.setStyle({\"stick\": {}});\n",
       "\tviewer_15349965051449132.setBackgroundColor(\"0xeeeeee\");\n",
       "\tviewer_15349965051449132.zoomTo();\n",
       "\tviewer_15349965051449132.addModel(\"\\n     RDKit          3D\\n\\n 20 19  0  0  0  0  0  0  0  0999 V2000\\n   -2.8992    0.1982    0.0162 C   0  0  0  0  0  0  0  0  0  0  0  0\\n   -1.4757   -0.1267   -0.4783 C   0  0  0  0  0  0  0  0  0  0  0  0\\n   -0.6633   -0.2892    0.7845 C   0  0  0  0  0  0  0  0  0  0  0  0\\n    0.7657   -0.6250    0.5276 C   0  0  0  0  0  0  0  0  0  0  0  0\\n    1.4037    0.4823   -0.2795 C   0  0  0  0  0  0  0  0  0  0  0  0\\n    2.8558    0.1205   -0.5149 C   0  0  0  0  0  0  0  0  0  0  0  0\\n   -3.0801   -0.4690    0.8662 H   0  0  0  0  0  0  0  0  0  0  0  0\\n   -2.8904    1.2480    0.3862 H   0  0  0  0  0  0  0  0  0  0  0  0\\n   -3.5886    0.1060   -0.8194 H   0  0  0  0  0  0  0  0  0  0  0  0\\n   -1.5455   -1.0392   -1.0748 H   0  0  0  0  0  0  0  0  0  0  0  0\\n   -1.1075    0.7555   -1.0412 H   0  0  0  0  0  0  0  0  0  0  0  0\\n   -1.1549   -1.0084    1.4911 H   0  0  0  0  0  0  0  0  0  0  0  0\\n   -0.7371    0.6983    1.3291 H   0  0  0  0  0  0  0  0  0  0  0  0\\n    1.3014   -0.6217    1.5108 H   0  0  0  0  0  0  0  0  0  0  0  0\\n    0.8907   -1.6004    0.0099 H   0  0  0  0  0  0  0  0  0  0  0  0\\n    1.3813    1.4328    0.2896 H   0  0  0  0  0  0  0  0  0  0  0  0\\n    0.8749    0.6635   -1.2536 H   0  0  0  0  0  0  0  0  0  0  0  0\\n    3.0232   -0.9420   -0.2838 H   0  0  0  0  0  0  0  0  0  0  0  0\\n    3.5436    0.7339    0.0987 H   0  0  0  0  0  0  0  0  0  0  0  0\\n    3.1021    0.2826   -1.5642 H   0  0  0  0  0  0  0  0  0  0  0  0\\n  1  2  1  0\\n  2  3  1  0\\n  3  4  1  0\\n  4  5  1  0\\n  5  6  1  0\\n  1  7  1  0\\n  1  8  1  0\\n  1  9  1  0\\n  2 10  1  0\\n  2 11  1  0\\n  3 12  1  0\\n  3 13  1  0\\n  4 14  1  0\\n  4 15  1  0\\n  5 16  1  0\\n  5 17  1  0\\n  6 18  1  0\\n  6 19  1  0\\n  6 20  1  0\\nM  END\\n\",\"sdf\");\n",
       "\tviewer_15349965051449132.setStyle({\"stick\": {}});\n",
       "\tviewer_15349965051449132.setBackgroundColor(\"0xeeeeee\");\n",
       "\tviewer_15349965051449132.zoomTo();\n",
       "\tviewer_15349965051449132.addModel(\"\\n     RDKit          3D\\n\\n 20 19  0  0  0  0  0  0  0  0999 V2000\\n    3.1078    0.2686   -0.0657 C   0  0  0  0  0  0  0  0  0  0  0  0\\n    1.6891    0.6900    0.1327 C   0  0  0  0  0  0  0  0  0  0  0  0\\n    0.6935   -0.3766   -0.3205 C   0  0  0  0  0  0  0  0  0  0  0  0\\n   -0.6781    0.1759   -0.0655 C   0  0  0  0  0  0  0  0  0  0  0  0\\n   -1.7741   -0.7841   -0.4712 C   0  0  0  0  0  0  0  0  0  0  0  0\\n   -3.0999   -0.0972   -0.1589 C   0  0  0  0  0  0  0  0  0  0  0  0\\n    3.4638    0.6373   -1.0528 H   0  0  0  0  0  0  0  0  0  0  0  0\\n    3.2541   -0.8214    0.0296 H   0  0  0  0  0  0  0  0  0  0  0  0\\n    3.7190    0.7725    0.7385 H   0  0  0  0  0  0  0  0  0  0  0  0\\n    1.5167    0.8161    1.2211 H   0  0  0  0  0  0  0  0  0  0  0  0\\n    1.4353    1.6120   -0.4032 H   0  0  0  0  0  0  0  0  0  0  0  0\\n    0.8924   -1.3197    0.2155 H   0  0  0  0  0  0  0  0  0  0  0  0\\n    0.9086   -0.5597   -1.3858 H   0  0  0  0  0  0  0  0  0  0  0  0\\n   -0.7413    0.4152    1.0152 H   0  0  0  0  0  0  0  0  0  0  0  0\\n   -0.7583    1.1445   -0.5988 H   0  0  0  0  0  0  0  0  0  0  0  0\\n   -1.6837   -1.0911   -1.5120 H   0  0  0  0  0  0  0  0  0  0  0  0\\n   -1.7510   -1.6923    0.1640 H   0  0  0  0  0  0  0  0  0  0  0  0\\n   -3.2563    0.7748   -0.8330 H   0  0  0  0  0  0  0  0  0  0  0  0\\n   -3.0251    0.2780    0.8717 H   0  0  0  0  0  0  0  0  0  0  0  0\\n   -3.9126   -0.8428   -0.2187 H   0  0  0  0  0  0  0  0  0  0  0  0\\n  1  2  1  0\\n  2  3  1  0\\n  3  4  1  0\\n  4  5  1  0\\n  5  6  1  0\\n  1  7  1  0\\n  1  8  1  0\\n  1  9  1  0\\n  2 10  1  0\\n  2 11  1  0\\n  3 12  1  0\\n  3 13  1  0\\n  4 14  1  0\\n  4 15  1  0\\n  5 16  1  0\\n  5 17  1  0\\n  6 18  1  0\\n  6 19  1  0\\n  6 20  1  0\\nM  END\\n\",\"sdf\");\n",
       "\tviewer_15349965051449132.setStyle({\"stick\": {}});\n",
       "\tviewer_15349965051449132.setBackgroundColor(\"0xeeeeee\");\n",
       "\tviewer_15349965051449132.zoomTo();\n",
       "\tviewer_15349965051449132.addModel(\"\\n     RDKit          3D\\n\\n 20 19  0  0  0  0  0  0  0  0999 V2000\\n   -2.7423    0.6267    0.3661 C   0  0  0  0  0  0  0  0  0  0  0  0\\n   -1.6881   -0.4316    0.3271 C   0  0  0  0  0  0  0  0  0  0  0  0\\n   -0.4174    0.0827   -0.3118 C   0  0  0  0  0  0  0  0  0  0  0  0\\n    0.6424   -0.9966   -0.3460 C   0  0  0  0  0  0  0  0  0  0  0  0\\n    1.9210   -0.4935   -0.9841 C   0  0  0  0  0  0  0  0  0  0  0  0\\n    2.4332    0.6827   -0.1658 C   0  0  0  0  0  0  0  0  0  0  0  0\\n   -3.6417    0.3660   -0.2484 H   0  0  0  0  0  0  0  0  0  0  0  0\\n   -3.0442    0.9197    1.3930 H   0  0  0  0  0  0  0  0  0  0  0  0\\n   -2.3255    1.5630   -0.1067 H   0  0  0  0  0  0  0  0  0  0  0  0\\n   -1.4906   -0.7711    1.3711 H   0  0  0  0  0  0  0  0  0  0  0  0\\n   -2.0264   -1.3184   -0.2306 H   0  0  0  0  0  0  0  0  0  0  0  0\\n   -0.0840    0.9556    0.2996 H   0  0  0  0  0  0  0  0  0  0  0  0\\n   -0.6681    0.4707   -1.3093 H   0  0  0  0  0  0  0  0  0  0  0  0\\n    0.8335   -1.3077    0.6939 H   0  0  0  0  0  0  0  0  0  0  0  0\\n    0.2474   -1.8492   -0.9185 H   0  0  0  0  0  0  0  0  0  0  0  0\\n    1.7757   -0.1371   -2.0064 H   0  0  0  0  0  0  0  0  0  0  0  0\\n    2.6949   -1.2675   -0.9495 H   0  0  0  0  0  0  0  0  0  0  0  0\\n    2.3682    0.4111    0.9014 H   0  0  0  0  0  0  0  0  0  0  0  0\\n    3.4629    0.9625   -0.4734 H   0  0  0  0  0  0  0  0  0  0  0  0\\n    1.7492    1.5319   -0.3850 H   0  0  0  0  0  0  0  0  0  0  0  0\\n  1  2  1  0\\n  2  3  1  0\\n  3  4  1  0\\n  4  5  1  0\\n  5  6  1  0\\n  1  7  1  0\\n  1  8  1  0\\n  1  9  1  0\\n  2 10  1  0\\n  2 11  1  0\\n  3 12  1  0\\n  3 13  1  0\\n  4 14  1  0\\n  4 15  1  0\\n  5 16  1  0\\n  5 17  1  0\\n  6 18  1  0\\n  6 19  1  0\\n  6 20  1  0\\nM  END\\n\",\"sdf\");\n",
       "\tviewer_15349965051449132.setStyle({\"stick\": {}});\n",
       "\tviewer_15349965051449132.setBackgroundColor(\"0xeeeeee\");\n",
       "\tviewer_15349965051449132.zoomTo();\n",
       "\tviewer_15349965051449132.addModel(\"\\n     RDKit          3D\\n\\n 20 19  0  0  0  0  0  0  0  0999 V2000\\n   -2.8024    0.7869    0.2178 C   0  0  0  0  0  0  0  0  0  0  0  0\\n   -1.7953   -0.2893    0.0040 C   0  0  0  0  0  0  0  0  0  0  0  0\\n   -0.3816    0.2503   -0.1499 C   0  0  0  0  0  0  0  0  0  0  0  0\\n    0.5816   -0.9048   -0.3634 C   0  0  0  0  0  0  0  0  0  0  0  0\\n    1.9942   -0.4493   -0.5230 C   0  0  0  0  0  0  0  0  0  0  0  0\\n    2.5268    0.3007    0.6545 C   0  0  0  0  0  0  0  0  0  0  0  0\\n   -2.3924    1.7026    0.6708 H   0  0  0  0  0  0  0  0  0  0  0  0\\n   -3.6162    0.3558    0.8690 H   0  0  0  0  0  0  0  0  0  0  0  0\\n   -3.3355    1.0796   -0.7259 H   0  0  0  0  0  0  0  0  0  0  0  0\\n   -1.7656   -1.0386    0.8292 H   0  0  0  0  0  0  0  0  0  0  0  0\\n   -2.0768   -0.8846   -0.9104 H   0  0  0  0  0  0  0  0  0  0  0  0\\n   -0.1424    0.8103    0.7689 H   0  0  0  0  0  0  0  0  0  0  0  0\\n   -0.3857    0.9071   -1.0248 H   0  0  0  0  0  0  0  0  0  0  0  0\\n    0.5098   -1.6612    0.4196 H   0  0  0  0  0  0  0  0  0  0  0  0\\n    0.2750   -1.3799   -1.3291 H   0  0  0  0  0  0  0  0  0  0  0  0\\n    2.0327    0.2017   -1.4375 H   0  0  0  0  0  0  0  0  0  0  0  0\\n    2.6175   -1.3321   -0.7364 H   0  0  0  0  0  0  0  0  0  0  0  0\\n    2.3355    1.3965    0.4872 H   0  0  0  0  0  0  0  0  0  0  0  0\\n    3.6493    0.2009    0.6570 H   0  0  0  0  0  0  0  0  0  0  0  0\\n    2.1715   -0.0528    1.6225 H   0  0  0  0  0  0  0  0  0  0  0  0\\n  1  2  1  0\\n  2  3  1  0\\n  3  4  1  0\\n  4  5  1  0\\n  5  6  1  0\\n  1  7  1  0\\n  1  8  1  0\\n  1  9  1  0\\n  2 10  1  0\\n  2 11  1  0\\n  3 12  1  0\\n  3 13  1  0\\n  4 14  1  0\\n  4 15  1  0\\n  5 16  1  0\\n  5 17  1  0\\n  6 18  1  0\\n  6 19  1  0\\n  6 20  1  0\\nM  END\\n\",\"sdf\");\n",
       "\tviewer_15349965051449132.setStyle({\"stick\": {}});\n",
       "\tviewer_15349965051449132.setBackgroundColor(\"0xeeeeee\");\n",
       "\tviewer_15349965051449132.zoomTo();\n",
       "\tviewer_15349965051449132.addModel(\"\\n     RDKit          3D\\n\\n 20 19  0  0  0  0  0  0  0  0999 V2000\\n    2.6685    0.0887   -0.1509 C   0  0  0  0  0  0  0  0  0  0  0  0\\n    1.6228   -0.6306    0.6345 C   0  0  0  0  0  0  0  0  0  0  0  0\\n    0.2867    0.0458    0.6312 C   0  0  0  0  0  0  0  0  0  0  0  0\\n   -0.2872    0.1942   -0.7562 C   0  0  0  0  0  0  0  0  0  0  0  0\\n   -1.6314    0.8856   -0.6531 C   0  0  0  0  0  0  0  0  0  0  0  0\\n   -2.5861    0.0748    0.1987 C   0  0  0  0  0  0  0  0  0  0  0  0\\n    2.5066    1.1831   -0.1507 H   0  0  0  0  0  0  0  0  0  0  0  0\\n    3.6554   -0.0915    0.3238 H   0  0  0  0  0  0  0  0  0  0  0  0\\n    2.7497   -0.3186   -1.1985 H   0  0  0  0  0  0  0  0  0  0  0  0\\n    1.9636   -0.6841    1.6922 H   0  0  0  0  0  0  0  0  0  0  0  0\\n    1.4606   -1.6728    0.2464 H   0  0  0  0  0  0  0  0  0  0  0  0\\n   -0.4176   -0.6258    1.1888 H   0  0  0  0  0  0  0  0  0  0  0  0\\n    0.2793    1.0038    1.1951 H   0  0  0  0  0  0  0  0  0  0  0  0\\n    0.3809    0.7121   -1.4595 H   0  0  0  0  0  0  0  0  0  0  0  0\\n   -0.4584   -0.8240   -1.1514 H   0  0  0  0  0  0  0  0  0  0  0  0\\n   -2.1095    0.9827   -1.6480 H   0  0  0  0  0  0  0  0  0  0  0  0\\n   -1.5327    1.8818   -0.1590 H   0  0  0  0  0  0  0  0  0  0  0  0\\n   -2.3031    0.1507    1.2671 H   0  0  0  0  0  0  0  0  0  0  0  0\\n   -2.6496   -0.9749   -0.1561 H   0  0  0  0  0  0  0  0  0  0  0  0\\n   -3.5987    0.5126    0.1054 H   0  0  0  0  0  0  0  0  0  0  0  0\\n  1  2  1  0\\n  2  3  1  0\\n  3  4  1  0\\n  4  5  1  0\\n  5  6  1  0\\n  1  7  1  0\\n  1  8  1  0\\n  1  9  1  0\\n  2 10  1  0\\n  2 11  1  0\\n  3 12  1  0\\n  3 13  1  0\\n  4 14  1  0\\n  4 15  1  0\\n  5 16  1  0\\n  5 17  1  0\\n  6 18  1  0\\n  6 19  1  0\\n  6 20  1  0\\nM  END\\n\",\"sdf\");\n",
       "\tviewer_15349965051449132.setStyle({\"stick\": {}});\n",
       "\tviewer_15349965051449132.setBackgroundColor(\"0xeeeeee\");\n",
       "\tviewer_15349965051449132.zoomTo();\n",
       "viewer_15349965051449132.render();\n",
       "});\n",
       "</script>"
      ]
     },
     "metadata": {},
     "output_type": "display_data"
    }
   ],
   "source": [
    "for name, smile in molecules.items():\n",
    "    # if name != '1,9-dichlorononane':\n",
    "    #     continue\n",
    "    m = Chem.MolFromSmiles(smile)\n",
    "    m = Chem.AddHs(m)\n",
    "    Chem.EmbedMultipleConfs(m, numConfs=10, randomSeed=0xf00d, \n",
    "                            useExpTorsionAnglePrefs=True,\n",
    "                            useBasicKnowledge=True)\n",
    "    p = py3Dmol.view(width=400,height=400)\n",
    "    for confId in range(10):\n",
    "        drawit2(m,p,confId)\n",
    "    p.show()"
   ]
  },
  {
   "cell_type": "code",
   "execution_count": null,
   "metadata": {},
   "outputs": [],
   "source": []
  },
  {
   "cell_type": "code",
   "execution_count": null,
   "metadata": {},
   "outputs": [],
   "source": []
  },
  {
   "cell_type": "code",
   "execution_count": null,
   "metadata": {},
   "outputs": [],
   "source": []
  },
  {
   "cell_type": "markdown",
   "metadata": {},
   "source": [
    "##  Random Code"
   ]
  },
  {
   "cell_type": "code",
   "execution_count": null,
   "metadata": {},
   "outputs": [],
   "source": [
    "If you want all possible names for a molecule (from the SMILES string) using Python:\n",
    "\n",
    ">>> from cinfony import webel, pybel\n",
    ">>> mol = pybel.readstring(\"smi\", \"C(=O)C=C\")\n",
    ">>> name = webel.Molecule(mol).write(\"names\")\n",
    ">>> print(name)\n",
    "\n",
    "['prop-2-enal', 'Acrolein', .."
   ]
  }
 ],
 "metadata": {
  "kernelspec": {
   "display_name": "Python 3",
   "language": "python",
   "name": "python3"
  },
  "language_info": {
   "codemirror_mode": {
    "name": "ipython",
    "version": 3
   },
   "file_extension": ".py",
   "mimetype": "text/x-python",
   "name": "python",
   "nbconvert_exporter": "python",
   "pygments_lexer": "ipython3",
   "version": "3.6.5"
  }
 },
 "nbformat": 4,
 "nbformat_minor": 2
}
