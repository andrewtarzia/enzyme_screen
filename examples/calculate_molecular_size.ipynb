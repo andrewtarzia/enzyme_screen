{
 "cells": [
  {
   "cell_type": "markdown",
   "metadata": {},
   "source": [
    "# Calculate molecular size\n",
    "\n",
    "In this example, we show how to go from a smiles string to the molecular size described in the manuscript.\n",
    "\n",
    "Requirements to run this script:\n",
    "* rdkit (2019.09.2.0)\n",
    "* matplotlib (3.1.1)\n",
    "* numpy (1.17.4)\n",
    "* psp_source\n",
    "    * Clone source code and run this notebook in its default directory."
   ]
  },
  {
   "cell_type": "markdown",
   "metadata": {},
   "source": [
    "### Provide SMILES string of a molecule:"
   ]
  },
  {
   "cell_type": "code",
   "execution_count": 15,
   "metadata": {},
   "outputs": [],
   "source": [
    "from rdkit.Chem import AllChem as rdkit\n",
    "from rdkit.Chem import Descriptors\n",
    "# Needed to show molecules\n",
    "from rdkit.Chem.Draw import IPythonConsole "
   ]
  },
  {
   "cell_type": "code",
   "execution_count": 16,
   "metadata": {},
   "outputs": [],
   "source": [
    "smiles = 'CCCCCC'"
   ]
  },
  {
   "cell_type": "code",
   "execution_count": 17,
   "metadata": {},
   "outputs": [],
   "source": [
    "# Read SMILES and add Hs\n",
    "mol = rdkit.MolFromSmiles(smiles)\n",
    "mol = rdkit.AddHs(mol)\n",
    "MW = Descriptors.MolWt(mol)\n",
    "if MW > 500:\n",
    "    print(f'> molecule is very big (MW: {MW}) - caution!')"
   ]
  },
  {
   "cell_type": "code",
   "execution_count": 18,
   "metadata": {},
   "outputs": [
    {
     "data": {
      "image/png": "[encoded data removed]",
      "text/plain": [
       "<rdkit.Chem.rdchem.Mol at 0x7f41e4611300>"
      ]
     },
     "execution_count": 18,
     "metadata": {},
     "output_type": "execute_result"
    }
   ],
   "source": [
    "mol"
   ]
  },
  {
   "cell_type": "markdown",
   "metadata": {},
   "source": [
    "### Produce N conformers:"
   ]
  },
  {
   "cell_type": "code",
   "execution_count": 24,
   "metadata": {},
   "outputs": [],
   "source": [
    "# Produce 200 conformers using a random seed of 1000.\n",
    "# A consistent random seed will produce consistent conformers.\n",
    "cids = rdkit.EmbedMultipleConfs(\n",
    "    mol=mol,\n",
    "    numConfs=100,\n",
    "    useExpTorsionAnglePrefs=True,\n",
    "    useBasicKnowledge=True,\n",
    "    randomSeed=1000\n",
    ")\n",
    "# UFF optimize each conformer.\n",
    "for cid in cids:\n",
    "    rdkit.UFFOptimizeMolecule(mol, confId=cid)"
   ]
  },
  {
   "cell_type": "markdown",
   "metadata": {},
   "source": [
    "### Calculate molecular size:"
   ]
  },
  {
   "cell_type": "code",
   "execution_count": 25,
   "metadata": {},
   "outputs": [],
   "source": [
    "# Handle directories.\n",
    "import os\n",
    "import sys\n",
    "module_path = os.path.abspath(os.path.join('../src'))\n",
    "if module_path not in sys.path:\n",
    "    sys.path.append(module_path)\n",
    "import rdkit_functions"
   ]
  },
  {
   "cell_type": "code",
   "execution_count": 26,
   "metadata": {},
   "outputs": [],
   "source": [
    "# Settings.\n",
    "# Scale of vdw radii (paper uses: 0.9).\n",
    "vdwScale = 0.9\n",
    "# Margin of box (Angstrom) (paper uses: 4.0)\n",
    "boxMargin = 4.0\n",
    "# Grid spacing (Angstrom) (paper uses: 0.5)\n",
    "spacing = 0.5\n",
    "# Options to visualise/plot the final ellipsoid.\n",
    "show_vdw = False\n",
    "plot_ellip = False \n",
    "# Option to output the ellipsoid at each step.\n",
    "do_step_plot = False"
   ]
  },
  {
   "cell_type": "code",
   "execution_count": 27,
   "metadata": {},
   "outputs": [],
   "source": [
    "# Run calculations.\n",
    "# Can take up to 5 minutes for large molecules.\n",
    "results = rdkit_functions.get_ellip_diameters(\n",
    "    mol,\n",
    "    cids,\n",
    "    vdwScale=vdwScale,\n",
    "    boxMargin=boxMargin,\n",
    "    spacing=spacing,\n",
    "    show=show_vdw,\n",
    "    plot=plot_ellip,\n",
    "    do_step_plot=do_step_plot\n",
    ")"
   ]
  },
  {
   "cell_type": "code",
   "execution_count": 33,
   "metadata": {},
   "outputs": [
    {
     "name": "stdout",
     "output_type": "stream",
     "text": [
      "minimum intermediate diameter of CCCCCC is 5.26 Angstrom\n"
     ]
    }
   ],
   "source": [
    "conf_diameters, conf_axes, conf_moments = results\n",
    "diam_1s = [sorted(i)[0] for i in conf_diameters]\n",
    "diam_2s = [sorted(i)[1] for i in conf_diameters]\n",
    "diam_3s = [sorted(i)[2] for i in conf_diameters]\n",
    "\n",
    "print(f'minimum intermediate diameter of {smiles} is {round(min(diam_2s), 2)} Angstrom')"
   ]
  },
  {
   "cell_type": "code",
   "execution_count": 41,
   "metadata": {},
   "outputs": [
    {
     "name": "stdout",
     "output_type": "stream",
     "text": [
      "100 100 100\n"
     ]
    },
    {
     "data": {
      "image/png": "[encoded data removed]",
      "text/plain": [
       "<Figure size 576x360 with 1 Axes>"
      ]
     },
     "metadata": {
      "needs_background": "light"
     },
     "output_type": "display_data"
    }
   ],
   "source": [
    "# Plot the conformer diameters.\n",
    "import matplotlib.pyplot as plt\n",
    "import plotting_fn as pfn\n",
    "import numpy as np\n",
    "print(len(diam_1s), len(diam_2s), len(diam_3s))\n",
    "\n",
    "fig, ax = plt.subplots(figsize=(8, 5))\n",
    "alpha = 0.6\n",
    "\n",
    "width = 0.25\n",
    "\n",
    "X_bins = np.arange(0, 20, width)\n",
    "\n",
    "# First diameter.\n",
    "hist, bin_edges = np.histogram(a=diam_1s, bins=X_bins)\n",
    "ax.bar(\n",
    "    bin_edges[:-1],\n",
    "    hist,\n",
    "    align='edge',\n",
    "    alpha=alpha,\n",
    "    width=width,\n",
    "    color='#63A5E7',\n",
    "    edgecolor='k',\n",
    "    label='diameter 1'\n",
    ")\n",
    "\n",
    "# Intermediate diameter.\n",
    "hist, bin_edges = np.histogram(a=diam_2s, bins=X_bins)\n",
    "ax.bar(\n",
    "    bin_edges[:-1],\n",
    "    hist,\n",
    "    align='edge',\n",
    "    alpha=alpha,\n",
    "    width=width,\n",
    "    color='#E763A5',\n",
    "    edgecolor='k',\n",
    "    label='diameter 2'\n",
    ")\n",
    "\n",
    "# Largest diameter.\n",
    "hist, bin_edges = np.histogram(a=diam_3s, bins=X_bins)\n",
    "ax.bar(\n",
    "    bin_edges[:-1],\n",
    "    hist,\n",
    "    align='edge',\n",
    "    alpha=alpha,\n",
    "    width=width,\n",
    "    color='#A5E763',\n",
    "    edgecolor='k',\n",
    "    label='diameter 3'\n",
    ")\n",
    "\n",
    "\n",
    "pfn.define_standard_plot(\n",
    "    ax,\n",
    "    xtitle='principal diameter',\n",
    "    ytitle='count',\n",
    "    xlim=(0, 20),\n",
    "    ylim=None\n",
    ")\n",
    "fig.legend(fontsize=16)\n",
    "\n",
    "plt.show()"
   ]
  },
  {
   "cell_type": "code",
   "execution_count": null,
   "metadata": {},
   "outputs": [],
   "source": []
  }
 ],
 "metadata": {
  "kernelspec": {
   "display_name": "Python 3",
   "language": "python",
   "name": "python3"
  },
  "language_info": {
   "codemirror_mode": {
    "name": "ipython",
    "version": 3
   },
   "file_extension": ".py",
   "mimetype": "text/x-python",
   "name": "python",
   "nbconvert_exporter": "python",
   "pygments_lexer": "ipython3",
   "version": "3.7.2"
  }
 },
 "nbformat": 4,
 "nbformat_minor": 2
}
